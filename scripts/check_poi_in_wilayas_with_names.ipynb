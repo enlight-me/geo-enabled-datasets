{
 "metadata": {
  "language_info": {
   "codemirror_mode": {
    "name": "ipython",
    "version": 3
   },
   "file_extension": ".py",
   "mimetype": "text/x-python",
   "name": "python",
   "nbconvert_exporter": "python",
   "pygments_lexer": "ipython3",
   "version": "3.8.5"
  },
  "orig_nbformat": 2,
  "kernelspec": {
   "name": "python38564bitc5dda015dcc140dba795e9b0465f9f9d",
   "display_name": "Python 3.8.5 64-bit"
  },
  "metadata": {
   "interpreter": {
    "hash": "916dbcbb3f70747c44a77c7bcd40155683ae19c65e1c03b4aa3499c5328201f1"
   }
  }
 },
 "nbformat": 4,
 "nbformat_minor": 2,
 "cells": [
  {
   "cell_type": "code",
   "execution_count": 136,
   "metadata": {},
   "outputs": [],
   "source": [
    "import pandas as pd \n",
    "import geopandas as gpd \n",
    "from shapely.geometry import Point\n",
    "import numpy as np "
   ]
  },
  {
   "cell_type": "code",
   "execution_count": 137,
   "metadata": {},
   "outputs": [
    {
     "output_type": "stream",
     "name": "stderr",
     "text": [
      "<ipython-input-137-9dd2fb12b137>:8: UserWarning: Geometry is in a geographic CRS. Results from 'centroid' are likely incorrect. Use 'GeoSeries.to_crs()' to re-project geometries to a projected CRS before this operation.\n\n  wilayas_gdf['centroid'] = wilayas_gdf['geometry'].centroid\n"
     ]
    },
    {
     "output_type": "execute_result",
     "data": {
      "text/plain": [
       "   code_wil                                           geometry  \\\n",
       "0         1  MULTIPOLYGON (((1.33461 20.72282, 1.32667 20.7...   \n",
       "1         2  MULTIPOLYGON (((1.55326 36.02990, 1.55325 36.0...   \n",
       "2         3  MULTIPOLYGON (((2.88464 32.88137, 2.87848 32.8...   \n",
       "3         4  MULTIPOLYGON (((7.47320 35.52005, 7.47227 35.5...   \n",
       "4         5  MULTIPOLYGON (((6.10102 35.05459, 6.10090 35.0...   \n",
       "\n",
       "          nom_wil                   centroid  \n",
       "0           adrar  POINT (-0.62174 26.01400)  \n",
       "1           chlef   POINT (1.25669 36.23826)  \n",
       "2        laghouat   POINT (2.72955 33.60757)  \n",
       "3  oum el bouaghi   POINT (7.06527 35.83646)  \n",
       "4           batna   POINT (5.87455 35.41969)  "
      ],
      "text/html": "<div>\n<style scoped>\n    .dataframe tbody tr th:only-of-type {\n        vertical-align: middle;\n    }\n\n    .dataframe tbody tr th {\n        vertical-align: top;\n    }\n\n    .dataframe thead th {\n        text-align: right;\n    }\n</style>\n<table border=\"1\" class=\"dataframe\">\n  <thead>\n    <tr style=\"text-align: right;\">\n      <th></th>\n      <th>code_wil</th>\n      <th>geometry</th>\n      <th>nom_wil</th>\n      <th>centroid</th>\n    </tr>\n  </thead>\n  <tbody>\n    <tr>\n      <th>0</th>\n      <td>1</td>\n      <td>MULTIPOLYGON (((1.33461 20.72282, 1.32667 20.7...</td>\n      <td>adrar</td>\n      <td>POINT (-0.62174 26.01400)</td>\n    </tr>\n    <tr>\n      <th>1</th>\n      <td>2</td>\n      <td>MULTIPOLYGON (((1.55326 36.02990, 1.55325 36.0...</td>\n      <td>chlef</td>\n      <td>POINT (1.25669 36.23826)</td>\n    </tr>\n    <tr>\n      <th>2</th>\n      <td>3</td>\n      <td>MULTIPOLYGON (((2.88464 32.88137, 2.87848 32.8...</td>\n      <td>laghouat</td>\n      <td>POINT (2.72955 33.60757)</td>\n    </tr>\n    <tr>\n      <th>3</th>\n      <td>4</td>\n      <td>MULTIPOLYGON (((7.47320 35.52005, 7.47227 35.5...</td>\n      <td>oum el bouaghi</td>\n      <td>POINT (7.06527 35.83646)</td>\n    </tr>\n    <tr>\n      <th>4</th>\n      <td>5</td>\n      <td>MULTIPOLYGON (((6.10102 35.05459, 6.10090 35.0...</td>\n      <td>batna</td>\n      <td>POINT (5.87455 35.41969)</td>\n    </tr>\n  </tbody>\n</table>\n</div>"
     },
     "metadata": {},
     "execution_count": 137
    }
   ],
   "source": [
    "# Load Wilayas Features and calculate polygon centroids\n",
    "wilayas_gjson = '../dz-admin/wilayas_48.geojson'\n",
    "wilayas_gdf = gpd.read_file(wilayas_gjson)\n",
    "wilayas_gdf = wilayas_gdf[['code', 'nom_maj', 'geometry']]\n",
    "wilayas_gdf['nom'] = wilayas_gdf.nom_maj.str.lower()\n",
    "wilayas_gdf = wilayas_gdf.rename(columns={'nom': 'nom_wil', 'code': 'code_wil'})\n",
    "wilayas_gdf = wilayas_gdf.drop(columns=['nom_maj'], axis=1)\n",
    "wilayas_gdf['centroid'] = wilayas_gdf['geometry'].centroid\n",
    "wilayas_gdf.head()"
   ]
  },
  {
   "cell_type": "code",
   "execution_count": 138,
   "metadata": {},
   "outputs": [
    {
     "output_type": "execute_result",
     "data": {
      "text/plain": [
       "<Geographic 2D CRS: EPSG:4326>\n",
       "Name: WGS 84\n",
       "Axis Info [ellipsoidal]:\n",
       "- Lat[north]: Geodetic latitude (degree)\n",
       "- Lon[east]: Geodetic longitude (degree)\n",
       "Area of Use:\n",
       "- name: World\n",
       "- bounds: (-180.0, -90.0, 180.0, 90.0)\n",
       "Datum: World Geodetic System 1984\n",
       "- Ellipsoid: WGS 84\n",
       "- Prime Meridian: Greenwich"
      ]
     },
     "metadata": {},
     "execution_count": 138
    }
   ],
   "source": [
    "wilayas_gdf = wilayas_gdf.set_crs(\"EPSG:4326\")\n",
    "wilayas_gdf.crs"
   ]
  },
  {
   "cell_type": "code",
   "execution_count": 139,
   "metadata": {},
   "outputs": [
    {
     "output_type": "execute_result",
     "data": {
      "text/plain": [
       "    num  num_inscription         nom       prenom  \\\n",
       "0   301             1387    BELHADEF         IMAD   \n",
       "1  1383             1475   KHENGAOUI        SMAÎL   \n",
       "2  1178             1563       HAMDI       BACHIR   \n",
       "3  2080             1835      ZEGGAI       RACHED   \n",
       "4   739             1107  BOUZELKOUT  ABDELMADJID   \n",
       "\n",
       "                                       adresse   wilaya       tel       fax  \\\n",
       "0                       CITE LA PAIE -  ILLIZI   Illizi  29421397  29421397   \n",
       "1               HAI EL WASSATE BP 129 - ILLIZI   Illizi  29421691       NaN   \n",
       "2                RUE EMIR ABDELKADER  - ILLIZI   Illizi  29421404  29760356   \n",
       "3  RUE EMIR ABDELKADER,  CENTRE VILLE-  ILLIZI   Illizi       NaN       NaN   \n",
       "4          PLACE DE ANNABA, EL KALA - EL TAREF  El Tarf  38660510  38660510   \n",
       "\n",
       "                 email        lat       lon wilaya_low  to_check  \n",
       "0                  NaN  26.477586  8.477633     illizi     False  \n",
       "1  khengaoui@gmail.com  26.477586  8.477633     illizi     False  \n",
       "2                  NaN  26.500030  8.471065     illizi     False  \n",
       "3                  NaN  26.500030  8.471065     illizi     False  \n",
       "4             I         36.895509  8.452496    el tarf     False  "
      ],
      "text/html": "<div>\n<style scoped>\n    .dataframe tbody tr th:only-of-type {\n        vertical-align: middle;\n    }\n\n    .dataframe tbody tr th {\n        vertical-align: top;\n    }\n\n    .dataframe thead th {\n        text-align: right;\n    }\n</style>\n<table border=\"1\" class=\"dataframe\">\n  <thead>\n    <tr style=\"text-align: right;\">\n      <th></th>\n      <th>num</th>\n      <th>num_inscription</th>\n      <th>nom</th>\n      <th>prenom</th>\n      <th>adresse</th>\n      <th>wilaya</th>\n      <th>tel</th>\n      <th>fax</th>\n      <th>email</th>\n      <th>lat</th>\n      <th>lon</th>\n      <th>wilaya_low</th>\n      <th>to_check</th>\n    </tr>\n  </thead>\n  <tbody>\n    <tr>\n      <th>0</th>\n      <td>301</td>\n      <td>1387</td>\n      <td>BELHADEF</td>\n      <td>IMAD</td>\n      <td>CITE LA PAIE -  ILLIZI</td>\n      <td>Illizi</td>\n      <td>29421397</td>\n      <td>29421397</td>\n      <td>NaN</td>\n      <td>26.477586</td>\n      <td>8.477633</td>\n      <td>illizi</td>\n      <td>False</td>\n    </tr>\n    <tr>\n      <th>1</th>\n      <td>1383</td>\n      <td>1475</td>\n      <td>KHENGAOUI</td>\n      <td>SMAÎL</td>\n      <td>HAI EL WASSATE BP 129 - ILLIZI</td>\n      <td>Illizi</td>\n      <td>29421691</td>\n      <td>NaN</td>\n      <td>khengaoui@gmail.com</td>\n      <td>26.477586</td>\n      <td>8.477633</td>\n      <td>illizi</td>\n      <td>False</td>\n    </tr>\n    <tr>\n      <th>2</th>\n      <td>1178</td>\n      <td>1563</td>\n      <td>HAMDI</td>\n      <td>BACHIR</td>\n      <td>RUE EMIR ABDELKADER  - ILLIZI</td>\n      <td>Illizi</td>\n      <td>29421404</td>\n      <td>29760356</td>\n      <td>NaN</td>\n      <td>26.500030</td>\n      <td>8.471065</td>\n      <td>illizi</td>\n      <td>False</td>\n    </tr>\n    <tr>\n      <th>3</th>\n      <td>2080</td>\n      <td>1835</td>\n      <td>ZEGGAI</td>\n      <td>RACHED</td>\n      <td>RUE EMIR ABDELKADER,  CENTRE VILLE-  ILLIZI</td>\n      <td>Illizi</td>\n      <td>NaN</td>\n      <td>NaN</td>\n      <td>NaN</td>\n      <td>26.500030</td>\n      <td>8.471065</td>\n      <td>illizi</td>\n      <td>False</td>\n    </tr>\n    <tr>\n      <th>4</th>\n      <td>739</td>\n      <td>1107</td>\n      <td>BOUZELKOUT</td>\n      <td>ABDELMADJID</td>\n      <td>PLACE DE ANNABA, EL KALA - EL TAREF</td>\n      <td>El Tarf</td>\n      <td>38660510</td>\n      <td>38660510</td>\n      <td>I</td>\n      <td>36.895509</td>\n      <td>8.452496</td>\n      <td>el tarf</td>\n      <td>False</td>\n    </tr>\n  </tbody>\n</table>\n</div>"
     },
     "metadata": {},
     "execution_count": 139
    }
   ],
   "source": [
    "# Load Tagreted dataset and set to_check to False assuming all geocoded coordinates are OK \n",
    "pois_path = '../dz-datasets/accountants/'\n",
    "pois = pd.read_csv(pois_path + 'personnes_physiques.csv')\n",
    "pois['wilaya_low'] = pois.wilaya.str.lower()\n",
    "pois['to_check'] = False\n",
    "pois.head()"
   ]
  },
  {
   "cell_type": "code",
   "execution_count": 140,
   "metadata": {},
   "outputs": [
    {
     "output_type": "execute_result",
     "data": {
      "text/plain": [
       "    num  num_inscription         nom       prenom  \\\n",
       "0   301             1387    BELHADEF         IMAD   \n",
       "1  1383             1475   KHENGAOUI        SMAÎL   \n",
       "2  1178             1563       HAMDI       BACHIR   \n",
       "3  2080             1835      ZEGGAI       RACHED   \n",
       "4   739             1107  BOUZELKOUT  ABDELMADJID   \n",
       "\n",
       "                                       adresse   wilaya       tel       fax  \\\n",
       "0                       CITE LA PAIE -  ILLIZI   Illizi  29421397  29421397   \n",
       "1               HAI EL WASSATE BP 129 - ILLIZI   Illizi  29421691       NaN   \n",
       "2                RUE EMIR ABDELKADER  - ILLIZI   Illizi  29421404  29760356   \n",
       "3  RUE EMIR ABDELKADER,  CENTRE VILLE-  ILLIZI   Illizi       NaN       NaN   \n",
       "4          PLACE DE ANNABA, EL KALA - EL TAREF  El Tarf  38660510  38660510   \n",
       "\n",
       "                 email        lat       lon wilaya_low  to_check  \\\n",
       "0                  NaN  26.477586  8.477633     illizi     False   \n",
       "1  khengaoui@gmail.com  26.477586  8.477633     illizi     False   \n",
       "2                  NaN  26.500030  8.471065     illizi     False   \n",
       "3                  NaN  26.500030  8.471065     illizi     False   \n",
       "4             I         36.895509  8.452496    el tarf     False   \n",
       "\n",
       "                   geometry  \n",
       "0  POINT (8.47763 26.47759)  \n",
       "1  POINT (8.47763 26.47759)  \n",
       "2  POINT (8.47106 26.50003)  \n",
       "3  POINT (8.47106 26.50003)  \n",
       "4  POINT (8.45250 36.89551)  "
      ],
      "text/html": "<div>\n<style scoped>\n    .dataframe tbody tr th:only-of-type {\n        vertical-align: middle;\n    }\n\n    .dataframe tbody tr th {\n        vertical-align: top;\n    }\n\n    .dataframe thead th {\n        text-align: right;\n    }\n</style>\n<table border=\"1\" class=\"dataframe\">\n  <thead>\n    <tr style=\"text-align: right;\">\n      <th></th>\n      <th>num</th>\n      <th>num_inscription</th>\n      <th>nom</th>\n      <th>prenom</th>\n      <th>adresse</th>\n      <th>wilaya</th>\n      <th>tel</th>\n      <th>fax</th>\n      <th>email</th>\n      <th>lat</th>\n      <th>lon</th>\n      <th>wilaya_low</th>\n      <th>to_check</th>\n      <th>geometry</th>\n    </tr>\n  </thead>\n  <tbody>\n    <tr>\n      <th>0</th>\n      <td>301</td>\n      <td>1387</td>\n      <td>BELHADEF</td>\n      <td>IMAD</td>\n      <td>CITE LA PAIE -  ILLIZI</td>\n      <td>Illizi</td>\n      <td>29421397</td>\n      <td>29421397</td>\n      <td>NaN</td>\n      <td>26.477586</td>\n      <td>8.477633</td>\n      <td>illizi</td>\n      <td>False</td>\n      <td>POINT (8.47763 26.47759)</td>\n    </tr>\n    <tr>\n      <th>1</th>\n      <td>1383</td>\n      <td>1475</td>\n      <td>KHENGAOUI</td>\n      <td>SMAÎL</td>\n      <td>HAI EL WASSATE BP 129 - ILLIZI</td>\n      <td>Illizi</td>\n      <td>29421691</td>\n      <td>NaN</td>\n      <td>khengaoui@gmail.com</td>\n      <td>26.477586</td>\n      <td>8.477633</td>\n      <td>illizi</td>\n      <td>False</td>\n      <td>POINT (8.47763 26.47759)</td>\n    </tr>\n    <tr>\n      <th>2</th>\n      <td>1178</td>\n      <td>1563</td>\n      <td>HAMDI</td>\n      <td>BACHIR</td>\n      <td>RUE EMIR ABDELKADER  - ILLIZI</td>\n      <td>Illizi</td>\n      <td>29421404</td>\n      <td>29760356</td>\n      <td>NaN</td>\n      <td>26.500030</td>\n      <td>8.471065</td>\n      <td>illizi</td>\n      <td>False</td>\n      <td>POINT (8.47106 26.50003)</td>\n    </tr>\n    <tr>\n      <th>3</th>\n      <td>2080</td>\n      <td>1835</td>\n      <td>ZEGGAI</td>\n      <td>RACHED</td>\n      <td>RUE EMIR ABDELKADER,  CENTRE VILLE-  ILLIZI</td>\n      <td>Illizi</td>\n      <td>NaN</td>\n      <td>NaN</td>\n      <td>NaN</td>\n      <td>26.500030</td>\n      <td>8.471065</td>\n      <td>illizi</td>\n      <td>False</td>\n      <td>POINT (8.47106 26.50003)</td>\n    </tr>\n    <tr>\n      <th>4</th>\n      <td>739</td>\n      <td>1107</td>\n      <td>BOUZELKOUT</td>\n      <td>ABDELMADJID</td>\n      <td>PLACE DE ANNABA, EL KALA - EL TAREF</td>\n      <td>El Tarf</td>\n      <td>38660510</td>\n      <td>38660510</td>\n      <td>I</td>\n      <td>36.895509</td>\n      <td>8.452496</td>\n      <td>el tarf</td>\n      <td>False</td>\n      <td>POINT (8.45250 36.89551)</td>\n    </tr>\n  </tbody>\n</table>\n</div>"
     },
     "metadata": {},
     "execution_count": 140
    }
   ],
   "source": [
    "# Convert pandas DataFrame to GeoPandas \n",
    "pois['geometry'] = pois.apply(lambda row: Point(row.lon, row.lat), axis=1)\n",
    "pois_gdf  = gpd.GeoDataFrame(pois)\n",
    "pois_gdf.head()"
   ]
  },
  {
   "cell_type": "code",
   "execution_count": 141,
   "metadata": {},
   "outputs": [
    {
     "output_type": "execute_result",
     "data": {
      "text/plain": [
       "num                2116\n",
       "num_inscription    2116\n",
       "nom                2116\n",
       "prenom             2116\n",
       "adresse            2116\n",
       "wilaya             2116\n",
       "tel                1389\n",
       "fax                 994\n",
       "email              1477\n",
       "lat                2027\n",
       "lon                2027\n",
       "wilaya_low         2116\n",
       "to_check           2116\n",
       "geometry           2116\n",
       "dtype: int64"
      ]
     },
     "metadata": {},
     "execution_count": 141
    }
   ],
   "source": [
    "pois_gdf.count()"
   ]
  },
  {
   "cell_type": "code",
   "execution_count": 142,
   "metadata": {},
   "outputs": [
    {
     "output_type": "execute_result",
     "data": {
      "text/plain": [
       "<Geographic 2D CRS: EPSG:4326>\n",
       "Name: WGS 84\n",
       "Axis Info [ellipsoidal]:\n",
       "- Lat[north]: Geodetic latitude (degree)\n",
       "- Lon[east]: Geodetic longitude (degree)\n",
       "Area of Use:\n",
       "- name: World\n",
       "- bounds: (-180.0, -90.0, 180.0, 90.0)\n",
       "Datum: World Geodetic System 1984\n",
       "- Ellipsoid: WGS 84\n",
       "- Prime Meridian: Greenwich"
      ]
     },
     "metadata": {},
     "execution_count": 142
    }
   ],
   "source": [
    "# Set the Coordinate reference system\n",
    "pois_gdf = pois_gdf.set_crs(\"EPSG:4326\")\n",
    "pois_gdf.crs"
   ]
  },
  {
   "cell_type": "code",
   "execution_count": 143,
   "metadata": {},
   "outputs": [
    {
     "output_type": "execute_result",
     "data": {
      "text/plain": [
       "num                89\n",
       "num_inscription    89\n",
       "nom                89\n",
       "prenom             89\n",
       "adresse            89\n",
       "wilaya             89\n",
       "tel                61\n",
       "fax                42\n",
       "email              59\n",
       "lat                 0\n",
       "lon                 0\n",
       "wilaya_low         89\n",
       "to_check           89\n",
       "code_wil           89\n",
       "geometry_y         89\n",
       "nom_wil            89\n",
       "centroid           89\n",
       "geometry           89\n",
       "dtype: int64"
      ]
     },
     "metadata": {},
     "execution_count": 143
    }
   ],
   "source": [
    "# Check for rows with no coordiantes\n",
    "no_coords_gdf = pois_gdf[(pois_gdf['lat'].isnull() | pois_gdf['lat'].isnull())]\n",
    "\n",
    "# Merge with Wialyas DataFrame and set geometry to centroids\n",
    "# The merge may be done either with Wilayas code or wilayas names   \n",
    "no_coords_gdf = no_coords_gdf.merge(wilayas_gdf, left_on='wilaya_low', right_on='nom_wil', how='left')\n",
    "no_coords_gdf['geometry'] = no_coords_gdf['centroid']\n",
    "no_coords_gdf['to_check'] = True\n",
    "\n",
    "with_coords_gdf = no_coords_gdf.drop(columns=['geometry_x'], axis=1)\n",
    "\n",
    "with_coords_gdf.count() "
   ]
  },
  {
   "cell_type": "code",
   "execution_count": 144,
   "metadata": {},
   "outputs": [
    {
     "output_type": "execute_result",
     "data": {
      "text/plain": [
       "num                2027\n",
       "num_inscription    2027\n",
       "nom                2027\n",
       "prenom             2027\n",
       "adresse            2027\n",
       "wilaya             2027\n",
       "tel                1328\n",
       "fax                 952\n",
       "email              1418\n",
       "lat                2027\n",
       "lon                2027\n",
       "wilaya_low         2027\n",
       "to_check           2027\n",
       "geometry           2027\n",
       "code_wil           2027\n",
       "geometry_y         2027\n",
       "nom_wil            2027\n",
       "centroid           2027\n",
       "dtype: int64"
      ]
     },
     "metadata": {},
     "execution_count": 144
    }
   ],
   "source": [
    "# Update the Targeted DataFrame by adding Wilayas geometries and centroids \n",
    "pois_gdf = pois_gdf[(pois_gdf['lat'].notnull() & pois_gdf['lat'].notnull())]\n",
    "\n",
    "# Merge with Wialyas DataFrame and set geometry to centroids\n",
    "# The merge may be done either with Wilayas code or wilayas names   \n",
    "pois_gdf = pois_gdf.merge(wilayas_gdf, left_on='wilaya_low', right_on='nom_wil', how='left')\n",
    "pois_gdf.rename(columns={\"geometry_x\": \"geometry\"}, inplace=True)\n",
    "pois_gdf.count()"
   ]
  },
  {
   "cell_type": "code",
   "execution_count": 145,
   "metadata": {},
   "outputs": [
    {
     "output_type": "execute_result",
     "data": {
      "text/plain": [
       "num                2116\n",
       "num_inscription    2116\n",
       "nom                2116\n",
       "prenom             2116\n",
       "adresse            2116\n",
       "wilaya             2116\n",
       "tel                1389\n",
       "fax                 994\n",
       "email              1477\n",
       "lat                2027\n",
       "lon                2027\n",
       "wilaya_low         2116\n",
       "to_check           2116\n",
       "geometry           2116\n",
       "code_wil           2116\n",
       "geometry_y         2116\n",
       "dtype: int64"
      ]
     },
     "metadata": {},
     "execution_count": 145
    }
   ],
   "source": [
    "# Concat the Targeted DataFrame with rows without coordinates and approximated with Wilayas centroids \n",
    "pois_gdf = pd.concat([pois_gdf, with_coords_gdf])\n",
    "\n",
    "# Drop unecessary columns\n",
    "pois_gdf = pois_gdf.drop(columns=['centroid', 'nom_wil'], axis=1)\n",
    "\n",
    "pois_gdf[(pois_gdf['lat'].isnull() | pois_gdf['lon'].isnull())]\n",
    "pois_gdf.count()"
   ]
  },
  {
   "cell_type": "code",
   "execution_count": 146,
   "metadata": {},
   "outputs": [
    {
     "output_type": "execute_result",
     "data": {
      "text/plain": [
       "    num  num_inscription       nom        prenom  \\\n",
       "0  1865             2038     SAIDI    ABDERRAFIR   \n",
       "1   239             1511  BAKHOUIA  ABDERRAHMANE   \n",
       "2  1418             1355    LAAFOU         AHMED   \n",
       "3    61             1632     AHRES        HASSEN   \n",
       "4   327             1213  BELLAOUI  ABDERRAHMANE   \n",
       "\n",
       "                                             adresse wilaya        tel  \\\n",
       "0  RUE ABDELKA DER BENSLIMANE EN FACE PARC DTP - ...  Adrar        NaN   \n",
       "1                    CITE 137 LOGTS, 1er MAI - ADRAR  Adrar   49966472   \n",
       "2              CITE 175 LOGTS ROUTETILILANE - ADRA R  Adrar  0499667OO   \n",
       "3                       RUE KADDOUR BELLITIM - ADRAR  Adrar   49964925   \n",
       "4                       CITE 05 JUILLET 1962 - ADRAR  Adrar        NaN   \n",
       "\n",
       "        fax                     email        lat       lon wilaya_low  \\\n",
       "0       NaN  saidiabderaflr@gmail.com  33.618970 -7.130554      adrar   \n",
       "1  49966472         ab647200@yahoo.fr  28.017440 -0.264250      adrar   \n",
       "2       NaN                       NaN  27.898056 -0.248333      adrar   \n",
       "3       NaN     hassanahres@gmail.com  27.882773 -0.270904      adrar   \n",
       "4  49951555                       NaN  28.017440 -0.264250      adrar   \n",
       "\n",
       "   to_check                   geometry  code_wil  \\\n",
       "0     False  POINT (-7.13055 33.61897)         1   \n",
       "1     False  POINT (-0.26425 28.01744)         1   \n",
       "2     False  POINT (-0.24833 27.89806)         1   \n",
       "3     False  POINT (-0.27090 27.88277)         1   \n",
       "4     False  POINT (-0.26425 28.01744)         1   \n",
       "\n",
       "                                          geometry_y  \n",
       "0  MULTIPOLYGON (((1.33461 20.72282, 1.32667 20.7...  \n",
       "1  MULTIPOLYGON (((1.33461 20.72282, 1.32667 20.7...  \n",
       "2  MULTIPOLYGON (((1.33461 20.72282, 1.32667 20.7...  \n",
       "3  MULTIPOLYGON (((1.33461 20.72282, 1.32667 20.7...  \n",
       "4  MULTIPOLYGON (((1.33461 20.72282, 1.32667 20.7...  "
      ],
      "text/html": "<div>\n<style scoped>\n    .dataframe tbody tr th:only-of-type {\n        vertical-align: middle;\n    }\n\n    .dataframe tbody tr th {\n        vertical-align: top;\n    }\n\n    .dataframe thead th {\n        text-align: right;\n    }\n</style>\n<table border=\"1\" class=\"dataframe\">\n  <thead>\n    <tr style=\"text-align: right;\">\n      <th></th>\n      <th>num</th>\n      <th>num_inscription</th>\n      <th>nom</th>\n      <th>prenom</th>\n      <th>adresse</th>\n      <th>wilaya</th>\n      <th>tel</th>\n      <th>fax</th>\n      <th>email</th>\n      <th>lat</th>\n      <th>lon</th>\n      <th>wilaya_low</th>\n      <th>to_check</th>\n      <th>geometry</th>\n      <th>code_wil</th>\n      <th>geometry_y</th>\n    </tr>\n  </thead>\n  <tbody>\n    <tr>\n      <th>0</th>\n      <td>1865</td>\n      <td>2038</td>\n      <td>SAIDI</td>\n      <td>ABDERRAFIR</td>\n      <td>RUE ABDELKA DER BENSLIMANE EN FACE PARC DTP - ...</td>\n      <td>Adrar</td>\n      <td>NaN</td>\n      <td>NaN</td>\n      <td>saidiabderaflr@gmail.com</td>\n      <td>33.618970</td>\n      <td>-7.130554</td>\n      <td>adrar</td>\n      <td>False</td>\n      <td>POINT (-7.13055 33.61897)</td>\n      <td>1</td>\n      <td>MULTIPOLYGON (((1.33461 20.72282, 1.32667 20.7...</td>\n    </tr>\n    <tr>\n      <th>1</th>\n      <td>239</td>\n      <td>1511</td>\n      <td>BAKHOUIA</td>\n      <td>ABDERRAHMANE</td>\n      <td>CITE 137 LOGTS, 1er MAI - ADRAR</td>\n      <td>Adrar</td>\n      <td>49966472</td>\n      <td>49966472</td>\n      <td>ab647200@yahoo.fr</td>\n      <td>28.017440</td>\n      <td>-0.264250</td>\n      <td>adrar</td>\n      <td>False</td>\n      <td>POINT (-0.26425 28.01744)</td>\n      <td>1</td>\n      <td>MULTIPOLYGON (((1.33461 20.72282, 1.32667 20.7...</td>\n    </tr>\n    <tr>\n      <th>2</th>\n      <td>1418</td>\n      <td>1355</td>\n      <td>LAAFOU</td>\n      <td>AHMED</td>\n      <td>CITE 175 LOGTS ROUTETILILANE - ADRA R</td>\n      <td>Adrar</td>\n      <td>0499667OO</td>\n      <td>NaN</td>\n      <td>NaN</td>\n      <td>27.898056</td>\n      <td>-0.248333</td>\n      <td>adrar</td>\n      <td>False</td>\n      <td>POINT (-0.24833 27.89806)</td>\n      <td>1</td>\n      <td>MULTIPOLYGON (((1.33461 20.72282, 1.32667 20.7...</td>\n    </tr>\n    <tr>\n      <th>3</th>\n      <td>61</td>\n      <td>1632</td>\n      <td>AHRES</td>\n      <td>HASSEN</td>\n      <td>RUE KADDOUR BELLITIM - ADRAR</td>\n      <td>Adrar</td>\n      <td>49964925</td>\n      <td>NaN</td>\n      <td>hassanahres@gmail.com</td>\n      <td>27.882773</td>\n      <td>-0.270904</td>\n      <td>adrar</td>\n      <td>False</td>\n      <td>POINT (-0.27090 27.88277)</td>\n      <td>1</td>\n      <td>MULTIPOLYGON (((1.33461 20.72282, 1.32667 20.7...</td>\n    </tr>\n    <tr>\n      <th>4</th>\n      <td>327</td>\n      <td>1213</td>\n      <td>BELLAOUI</td>\n      <td>ABDERRAHMANE</td>\n      <td>CITE 05 JUILLET 1962 - ADRAR</td>\n      <td>Adrar</td>\n      <td>NaN</td>\n      <td>49951555</td>\n      <td>NaN</td>\n      <td>28.017440</td>\n      <td>-0.264250</td>\n      <td>adrar</td>\n      <td>False</td>\n      <td>POINT (-0.26425 28.01744)</td>\n      <td>1</td>\n      <td>MULTIPOLYGON (((1.33461 20.72282, 1.32667 20.7...</td>\n    </tr>\n  </tbody>\n</table>\n</div>"
     },
     "metadata": {},
     "execution_count": 146
    }
   ],
   "source": [
    "# Sort the DataFrame by code (Wilaya number) and reset the index\n",
    "pois_gdf = pois_gdf.sort_values(by=['code_wil'],ignore_index=True)\n",
    "pois_gdf.reset_index(drop=True)\n",
    "pois_gdf.head()"
   ]
  },
  {
   "cell_type": "code",
   "execution_count": 147,
   "metadata": {
    "tags": []
   },
   "outputs": [
    {
     "output_type": "execute_result",
     "data": {
      "text/plain": [
       "       num  num_inscription             nom      prenom  \\\n",
       "0     1865             2038           SAIDI  ABDERRAFIR   \n",
       "6     1086              801           GRISI     MOHAMED   \n",
       "55    1234              668          HARIZI       SMAIL   \n",
       "64     487             1277  BENSIDI BRAHIM      DJAMEL   \n",
       "69    1088              515          GUECHI      RACHID   \n",
       "...    ...              ...             ...         ...   \n",
       "2003   260             2097         BEDDIAR       BADRA   \n",
       "2006  1572             2003        MEHNAOUI  NOUREDDINE   \n",
       "2076   594             1736        BOUDEBRA       BAKIR   \n",
       "2080   578              933    BOUCHELAGHAM       NADIR   \n",
       "2108  1130             1666          HADOAD       AHMED   \n",
       "\n",
       "                                                adresse          wilaya  \\\n",
       "0     RUE ABDELKA DER BENSLIMANE EN FACE PARC DTP - ...           Adrar   \n",
       "6           CIA DES FONCTIONNAIRES BT 05 N'C 06 - CHLEF           Chlef   \n",
       "55    CITE 24 LOGTS SONATIBA EN FACE DE   'OPGI -OUM...  Oum El Bouaghi   \n",
       "64    SITE 1N°276 PRES DE LA MOSQUEE KHADIDJA OEM BP...  Oum El Bouaghi   \n",
       "69    03, RUE BENAGGOUNE MAAMER, CITE ANNASSER  - BATNA           Batna   \n",
       "...                                                 ...             ...   \n",
       "2003  LOTS ROUTE DE ANNABA  N'Ol,TRANCHE N'  67 - SO...      Souk Ahras   \n",
       "2006  CITE 26 AVRIL· 12 LOCAUX COMMERCIAUX - 50UK-AHRAS      Souk Ahras   \n",
       "2076  CITE BABA SAAD EL GHARBI,CIDEX N'OS BP 123 - G...        Ghardaia   \n",
       "2080          RUE BESLIMANE BRAHIM, SERRIANE - GHARDAIA        Ghardaia   \n",
       "2108                  RUE HAMANI BELOJILALI - GUELIZANE        Relizane   \n",
       "\n",
       "           tel       fax                     email        lat        lon  \\\n",
       "0          NaN       NaN  saidiabderaflr@gmail.com  33.618970  -7.130554   \n",
       "6     27777822       NaN                       NaN  36.417984 -79.650211   \n",
       "55    32426983       NaN      harizlsmail@yahoo.fr  36.298662   6.620393   \n",
       "64    32492869  32492869  bensidibrahlm@hotmall.fr  38.917136 -77.056712   \n",
       "69    33867917  33867917        guechirad@yahoo.fr  36.864597  10.156320   \n",
       "...        ...       ...                       ...        ...        ...   \n",
       "2003  37820731       NaN    badrabeddiar@gmail.com  36.914208   7.742667   \n",
       "2006  37752182  37752509                       NaN  45.522642 -73.520754   \n",
       "2076       NaN       NaN        CACBAKIR@GMAIL.COM  36.068909  14.201810   \n",
       "2080  29890464  29890464         b_nadirl@yahoo.fr  33.618970  -7.130554   \n",
       "2108  46718057       NaN                       NaN  36.770662   3.056956   \n",
       "\n",
       "          wilaya_low  to_check                    geometry  code_wil  \\\n",
       "0              adrar     False   POINT (-7.13055 33.61897)         1   \n",
       "6              chlef     False  POINT (-79.65021 36.41798)         2   \n",
       "55    oum el bouaghi     False    POINT (6.62039 36.29866)         4   \n",
       "64    oum el bouaghi     False  POINT (-77.05671 38.91714)         4   \n",
       "69             batna     False   POINT (10.15632 36.86460)         5   \n",
       "...              ...       ...                         ...       ...   \n",
       "2003      souk ahras     False    POINT (7.74267 36.91421)        41   \n",
       "2006      souk ahras     False  POINT (-73.52075 45.52264)        41   \n",
       "2076        ghardaia     False   POINT (14.20181 36.06891)        47   \n",
       "2080        ghardaia     False   POINT (-7.13055 33.61897)        47   \n",
       "2108        relizane     False    POINT (3.05696 36.77066)        48   \n",
       "\n",
       "                                             geometry_y  coords_in_wil  \n",
       "0     MULTIPOLYGON (((1.33461 20.72282, 1.32667 20.7...          False  \n",
       "6     MULTIPOLYGON (((1.55326 36.02990, 1.55325 36.0...          False  \n",
       "55    MULTIPOLYGON (((7.47320 35.52005, 7.47227 35.5...          False  \n",
       "64    MULTIPOLYGON (((7.47320 35.52005, 7.47227 35.5...          False  \n",
       "69    MULTIPOLYGON (((6.10102 35.05459, 6.10090 35.0...          False  \n",
       "...                                                 ...            ...  \n",
       "2003  MULTIPOLYGON (((7.53798 35.88014, 7.53725 35.8...          False  \n",
       "2006  MULTIPOLYGON (((7.53798 35.88014, 7.53725 35.8...          False  \n",
       "2076  MULTIPOLYGON (((4.12740 33.01380, 4.14386 33.0...          False  \n",
       "2080  MULTIPOLYGON (((4.12740 33.01380, 4.14386 33.0...          False  \n",
       "2108  MULTIPOLYGON (((0.69164 35.48482, 0.69160 35.4...          False  \n",
       "\n",
       "[83 rows x 17 columns]"
      ],
      "text/html": "<div>\n<style scoped>\n    .dataframe tbody tr th:only-of-type {\n        vertical-align: middle;\n    }\n\n    .dataframe tbody tr th {\n        vertical-align: top;\n    }\n\n    .dataframe thead th {\n        text-align: right;\n    }\n</style>\n<table border=\"1\" class=\"dataframe\">\n  <thead>\n    <tr style=\"text-align: right;\">\n      <th></th>\n      <th>num</th>\n      <th>num_inscription</th>\n      <th>nom</th>\n      <th>prenom</th>\n      <th>adresse</th>\n      <th>wilaya</th>\n      <th>tel</th>\n      <th>fax</th>\n      <th>email</th>\n      <th>lat</th>\n      <th>lon</th>\n      <th>wilaya_low</th>\n      <th>to_check</th>\n      <th>geometry</th>\n      <th>code_wil</th>\n      <th>geometry_y</th>\n      <th>coords_in_wil</th>\n    </tr>\n  </thead>\n  <tbody>\n    <tr>\n      <th>0</th>\n      <td>1865</td>\n      <td>2038</td>\n      <td>SAIDI</td>\n      <td>ABDERRAFIR</td>\n      <td>RUE ABDELKA DER BENSLIMANE EN FACE PARC DTP - ...</td>\n      <td>Adrar</td>\n      <td>NaN</td>\n      <td>NaN</td>\n      <td>saidiabderaflr@gmail.com</td>\n      <td>33.618970</td>\n      <td>-7.130554</td>\n      <td>adrar</td>\n      <td>False</td>\n      <td>POINT (-7.13055 33.61897)</td>\n      <td>1</td>\n      <td>MULTIPOLYGON (((1.33461 20.72282, 1.32667 20.7...</td>\n      <td>False</td>\n    </tr>\n    <tr>\n      <th>6</th>\n      <td>1086</td>\n      <td>801</td>\n      <td>GRISI</td>\n      <td>MOHAMED</td>\n      <td>CIA DES FONCTIONNAIRES BT 05 N'C 06 - CHLEF</td>\n      <td>Chlef</td>\n      <td>27777822</td>\n      <td>NaN</td>\n      <td>NaN</td>\n      <td>36.417984</td>\n      <td>-79.650211</td>\n      <td>chlef</td>\n      <td>False</td>\n      <td>POINT (-79.65021 36.41798)</td>\n      <td>2</td>\n      <td>MULTIPOLYGON (((1.55326 36.02990, 1.55325 36.0...</td>\n      <td>False</td>\n    </tr>\n    <tr>\n      <th>55</th>\n      <td>1234</td>\n      <td>668</td>\n      <td>HARIZI</td>\n      <td>SMAIL</td>\n      <td>CITE 24 LOGTS SONATIBA EN FACE DE   'OPGI -OUM...</td>\n      <td>Oum El Bouaghi</td>\n      <td>32426983</td>\n      <td>NaN</td>\n      <td>harizlsmail@yahoo.fr</td>\n      <td>36.298662</td>\n      <td>6.620393</td>\n      <td>oum el bouaghi</td>\n      <td>False</td>\n      <td>POINT (6.62039 36.29866)</td>\n      <td>4</td>\n      <td>MULTIPOLYGON (((7.47320 35.52005, 7.47227 35.5...</td>\n      <td>False</td>\n    </tr>\n    <tr>\n      <th>64</th>\n      <td>487</td>\n      <td>1277</td>\n      <td>BENSIDI BRAHIM</td>\n      <td>DJAMEL</td>\n      <td>SITE 1N°276 PRES DE LA MOSQUEE KHADIDJA OEM BP...</td>\n      <td>Oum El Bouaghi</td>\n      <td>32492869</td>\n      <td>32492869</td>\n      <td>bensidibrahlm@hotmall.fr</td>\n      <td>38.917136</td>\n      <td>-77.056712</td>\n      <td>oum el bouaghi</td>\n      <td>False</td>\n      <td>POINT (-77.05671 38.91714)</td>\n      <td>4</td>\n      <td>MULTIPOLYGON (((7.47320 35.52005, 7.47227 35.5...</td>\n      <td>False</td>\n    </tr>\n    <tr>\n      <th>69</th>\n      <td>1088</td>\n      <td>515</td>\n      <td>GUECHI</td>\n      <td>RACHID</td>\n      <td>03, RUE BENAGGOUNE MAAMER, CITE ANNASSER  - BATNA</td>\n      <td>Batna</td>\n      <td>33867917</td>\n      <td>33867917</td>\n      <td>guechirad@yahoo.fr</td>\n      <td>36.864597</td>\n      <td>10.156320</td>\n      <td>batna</td>\n      <td>False</td>\n      <td>POINT (10.15632 36.86460)</td>\n      <td>5</td>\n      <td>MULTIPOLYGON (((6.10102 35.05459, 6.10090 35.0...</td>\n      <td>False</td>\n    </tr>\n    <tr>\n      <th>...</th>\n      <td>...</td>\n      <td>...</td>\n      <td>...</td>\n      <td>...</td>\n      <td>...</td>\n      <td>...</td>\n      <td>...</td>\n      <td>...</td>\n      <td>...</td>\n      <td>...</td>\n      <td>...</td>\n      <td>...</td>\n      <td>...</td>\n      <td>...</td>\n      <td>...</td>\n      <td>...</td>\n      <td>...</td>\n    </tr>\n    <tr>\n      <th>2003</th>\n      <td>260</td>\n      <td>2097</td>\n      <td>BEDDIAR</td>\n      <td>BADRA</td>\n      <td>LOTS ROUTE DE ANNABA  N'Ol,TRANCHE N'  67 - SO...</td>\n      <td>Souk Ahras</td>\n      <td>37820731</td>\n      <td>NaN</td>\n      <td>badrabeddiar@gmail.com</td>\n      <td>36.914208</td>\n      <td>7.742667</td>\n      <td>souk ahras</td>\n      <td>False</td>\n      <td>POINT (7.74267 36.91421)</td>\n      <td>41</td>\n      <td>MULTIPOLYGON (((7.53798 35.88014, 7.53725 35.8...</td>\n      <td>False</td>\n    </tr>\n    <tr>\n      <th>2006</th>\n      <td>1572</td>\n      <td>2003</td>\n      <td>MEHNAOUI</td>\n      <td>NOUREDDINE</td>\n      <td>CITE 26 AVRIL· 12 LOCAUX COMMERCIAUX - 50UK-AHRAS</td>\n      <td>Souk Ahras</td>\n      <td>37752182</td>\n      <td>37752509</td>\n      <td>NaN</td>\n      <td>45.522642</td>\n      <td>-73.520754</td>\n      <td>souk ahras</td>\n      <td>False</td>\n      <td>POINT (-73.52075 45.52264)</td>\n      <td>41</td>\n      <td>MULTIPOLYGON (((7.53798 35.88014, 7.53725 35.8...</td>\n      <td>False</td>\n    </tr>\n    <tr>\n      <th>2076</th>\n      <td>594</td>\n      <td>1736</td>\n      <td>BOUDEBRA</td>\n      <td>BAKIR</td>\n      <td>CITE BABA SAAD EL GHARBI,CIDEX N'OS BP 123 - G...</td>\n      <td>Ghardaia</td>\n      <td>NaN</td>\n      <td>NaN</td>\n      <td>CACBAKIR@GMAIL.COM</td>\n      <td>36.068909</td>\n      <td>14.201810</td>\n      <td>ghardaia</td>\n      <td>False</td>\n      <td>POINT (14.20181 36.06891)</td>\n      <td>47</td>\n      <td>MULTIPOLYGON (((4.12740 33.01380, 4.14386 33.0...</td>\n      <td>False</td>\n    </tr>\n    <tr>\n      <th>2080</th>\n      <td>578</td>\n      <td>933</td>\n      <td>BOUCHELAGHAM</td>\n      <td>NADIR</td>\n      <td>RUE BESLIMANE BRAHIM, SERRIANE - GHARDAIA</td>\n      <td>Ghardaia</td>\n      <td>29890464</td>\n      <td>29890464</td>\n      <td>b_nadirl@yahoo.fr</td>\n      <td>33.618970</td>\n      <td>-7.130554</td>\n      <td>ghardaia</td>\n      <td>False</td>\n      <td>POINT (-7.13055 33.61897)</td>\n      <td>47</td>\n      <td>MULTIPOLYGON (((4.12740 33.01380, 4.14386 33.0...</td>\n      <td>False</td>\n    </tr>\n    <tr>\n      <th>2108</th>\n      <td>1130</td>\n      <td>1666</td>\n      <td>HADOAD</td>\n      <td>AHMED</td>\n      <td>RUE HAMANI BELOJILALI - GUELIZANE</td>\n      <td>Relizane</td>\n      <td>46718057</td>\n      <td>NaN</td>\n      <td>NaN</td>\n      <td>36.770662</td>\n      <td>3.056956</td>\n      <td>relizane</td>\n      <td>False</td>\n      <td>POINT (3.05696 36.77066)</td>\n      <td>48</td>\n      <td>MULTIPOLYGON (((0.69164 35.48482, 0.69160 35.4...</td>\n      <td>False</td>\n    </tr>\n  </tbody>\n</table>\n<p>83 rows × 17 columns</p>\n</div>"
     },
     "metadata": {},
     "execution_count": 147
    }
   ],
   "source": [
    "# Check if coordinates are within Wilayas polygons\n",
    "pois_gdf['coords_in_wil'] = [pois_gdf.geometry[i].within(pois_gdf.geometry_y[i]) for i in range(pois_gdf.geometry.count())] \n",
    "pois_gdf[pois_gdf.coords_in_wil == False]"
   ]
  },
  {
   "cell_type": "code",
   "execution_count": 148,
   "metadata": {},
   "outputs": [
    {
     "output_type": "execute_result",
     "data": {
      "text/plain": [
       "       num  num_inscription             nom      prenom  \\\n",
       "0     1865             2038           SAIDI  ABDERRAFIR   \n",
       "6     1086              801           GRISI     MOHAMED   \n",
       "55    1234              668          HARIZI       SMAIL   \n",
       "64     487             1277  BENSIDI BRAHIM      DJAMEL   \n",
       "69    1088              515          GUECHI      RACHID   \n",
       "...    ...              ...             ...         ...   \n",
       "2077  1413              147         KOUZRIT      BRAHIM   \n",
       "2080   578              933    BOUCHELAGHAM       NADIR   \n",
       "2100   430             1877      BENKHELIFA         ALI   \n",
       "2108  1130             1666          HADOAD       AHMED   \n",
       "2115  1740             2025        OUAZZANE     M'HAMED   \n",
       "\n",
       "                                                adresse          wilaya  \\\n",
       "0     RUE ABDELKA DER BENSLIMANE EN FACE PARC DTP - ...           Adrar   \n",
       "6           CIA DES FONCTIONNAIRES BT 05 N'C 06 - CHLEF           Chlef   \n",
       "55    CITE 24 LOGTS SONATIBA EN FACE DE   'OPGI -OUM...  Oum El Bouaghi   \n",
       "64    SITE 1N°276 PRES DE LA MOSQUEE KHADIDJA OEM BP...  Oum El Bouaghi   \n",
       "69    03, RUE BENAGGOUNE MAAMER, CITE ANNASSER  - BATNA           Batna   \n",
       "...                                                 ...             ...   \n",
       "2077                      AVENUE DU 1er MAI - GUARDAIAI        Ghardaia   \n",
       "2080          RUE BESLIMANE BRAHIM, SERRIANE - GHARDAIA        Ghardaia   \n",
       "2100              26, AVENUE  DU 1er NOVEMBRE -GHARDAIA        Ghardaia   \n",
       "2108                  RUE HAMANI BELOJILALI - GUELIZANE        Relizane   \n",
       "2115                      RUE HADJ ABEDATIKA - RELIZANE        Relizane   \n",
       "\n",
       "           tel       fax                     email        lat        lon  \\\n",
       "0          NaN       NaN  saidiabderaflr@gmail.com  33.618970  -7.130554   \n",
       "6     27777822       NaN                       NaN  36.417984 -79.650211   \n",
       "55    32426983       NaN      harizlsmail@yahoo.fr  36.298662   6.620393   \n",
       "64    32492869  32492869  bensidibrahlm@hotmall.fr  38.917136 -77.056712   \n",
       "69    33867917  33867917        guechirad@yahoo.fr  36.864597  10.156320   \n",
       "...        ...       ...                       ...        ...        ...   \n",
       "2077       NaN       NaN       kouzrit50@gmail.com        NaN        NaN   \n",
       "2080  29890464  29890464         b_nadirl@yahoo.fr  33.618970  -7.130554   \n",
       "2100  29234702  29234703    alibenkhelifa@yahoo.fr        NaN        NaN   \n",
       "2108  46718057       NaN                       NaN  36.770662   3.056956   \n",
       "2115       NaN       NaN                       NaN        NaN        NaN   \n",
       "\n",
       "      to_check                    geometry  code_wil  \n",
       "0         True   POINT (-7.13055 33.61897)         1  \n",
       "6         True  POINT (-79.65021 36.41798)         2  \n",
       "55        True    POINT (6.62039 36.29866)         4  \n",
       "64        True  POINT (-77.05671 38.91714)         4  \n",
       "69        True   POINT (10.15632 36.86460)         5  \n",
       "...        ...                         ...       ...  \n",
       "2077      True    POINT (3.17728 31.18000)        47  \n",
       "2080      True   POINT (-7.13055 33.61897)        47  \n",
       "2100      True    POINT (3.17728 31.18000)        47  \n",
       "2108      True    POINT (3.05696 36.77066)        48  \n",
       "2115      True    POINT (0.80132 35.80080)        48  \n",
       "\n",
       "[172 rows x 14 columns]"
      ],
      "text/html": "<div>\n<style scoped>\n    .dataframe tbody tr th:only-of-type {\n        vertical-align: middle;\n    }\n\n    .dataframe tbody tr th {\n        vertical-align: top;\n    }\n\n    .dataframe thead th {\n        text-align: right;\n    }\n</style>\n<table border=\"1\" class=\"dataframe\">\n  <thead>\n    <tr style=\"text-align: right;\">\n      <th></th>\n      <th>num</th>\n      <th>num_inscription</th>\n      <th>nom</th>\n      <th>prenom</th>\n      <th>adresse</th>\n      <th>wilaya</th>\n      <th>tel</th>\n      <th>fax</th>\n      <th>email</th>\n      <th>lat</th>\n      <th>lon</th>\n      <th>to_check</th>\n      <th>geometry</th>\n      <th>code_wil</th>\n    </tr>\n  </thead>\n  <tbody>\n    <tr>\n      <th>0</th>\n      <td>1865</td>\n      <td>2038</td>\n      <td>SAIDI</td>\n      <td>ABDERRAFIR</td>\n      <td>RUE ABDELKA DER BENSLIMANE EN FACE PARC DTP - ...</td>\n      <td>Adrar</td>\n      <td>NaN</td>\n      <td>NaN</td>\n      <td>saidiabderaflr@gmail.com</td>\n      <td>33.618970</td>\n      <td>-7.130554</td>\n      <td>True</td>\n      <td>POINT (-7.13055 33.61897)</td>\n      <td>1</td>\n    </tr>\n    <tr>\n      <th>6</th>\n      <td>1086</td>\n      <td>801</td>\n      <td>GRISI</td>\n      <td>MOHAMED</td>\n      <td>CIA DES FONCTIONNAIRES BT 05 N'C 06 - CHLEF</td>\n      <td>Chlef</td>\n      <td>27777822</td>\n      <td>NaN</td>\n      <td>NaN</td>\n      <td>36.417984</td>\n      <td>-79.650211</td>\n      <td>True</td>\n      <td>POINT (-79.65021 36.41798)</td>\n      <td>2</td>\n    </tr>\n    <tr>\n      <th>55</th>\n      <td>1234</td>\n      <td>668</td>\n      <td>HARIZI</td>\n      <td>SMAIL</td>\n      <td>CITE 24 LOGTS SONATIBA EN FACE DE   'OPGI -OUM...</td>\n      <td>Oum El Bouaghi</td>\n      <td>32426983</td>\n      <td>NaN</td>\n      <td>harizlsmail@yahoo.fr</td>\n      <td>36.298662</td>\n      <td>6.620393</td>\n      <td>True</td>\n      <td>POINT (6.62039 36.29866)</td>\n      <td>4</td>\n    </tr>\n    <tr>\n      <th>64</th>\n      <td>487</td>\n      <td>1277</td>\n      <td>BENSIDI BRAHIM</td>\n      <td>DJAMEL</td>\n      <td>SITE 1N°276 PRES DE LA MOSQUEE KHADIDJA OEM BP...</td>\n      <td>Oum El Bouaghi</td>\n      <td>32492869</td>\n      <td>32492869</td>\n      <td>bensidibrahlm@hotmall.fr</td>\n      <td>38.917136</td>\n      <td>-77.056712</td>\n      <td>True</td>\n      <td>POINT (-77.05671 38.91714)</td>\n      <td>4</td>\n    </tr>\n    <tr>\n      <th>69</th>\n      <td>1088</td>\n      <td>515</td>\n      <td>GUECHI</td>\n      <td>RACHID</td>\n      <td>03, RUE BENAGGOUNE MAAMER, CITE ANNASSER  - BATNA</td>\n      <td>Batna</td>\n      <td>33867917</td>\n      <td>33867917</td>\n      <td>guechirad@yahoo.fr</td>\n      <td>36.864597</td>\n      <td>10.156320</td>\n      <td>True</td>\n      <td>POINT (10.15632 36.86460)</td>\n      <td>5</td>\n    </tr>\n    <tr>\n      <th>...</th>\n      <td>...</td>\n      <td>...</td>\n      <td>...</td>\n      <td>...</td>\n      <td>...</td>\n      <td>...</td>\n      <td>...</td>\n      <td>...</td>\n      <td>...</td>\n      <td>...</td>\n      <td>...</td>\n      <td>...</td>\n      <td>...</td>\n      <td>...</td>\n    </tr>\n    <tr>\n      <th>2077</th>\n      <td>1413</td>\n      <td>147</td>\n      <td>KOUZRIT</td>\n      <td>BRAHIM</td>\n      <td>AVENUE DU 1er MAI - GUARDAIAI</td>\n      <td>Ghardaia</td>\n      <td>NaN</td>\n      <td>NaN</td>\n      <td>kouzrit50@gmail.com</td>\n      <td>NaN</td>\n      <td>NaN</td>\n      <td>True</td>\n      <td>POINT (3.17728 31.18000)</td>\n      <td>47</td>\n    </tr>\n    <tr>\n      <th>2080</th>\n      <td>578</td>\n      <td>933</td>\n      <td>BOUCHELAGHAM</td>\n      <td>NADIR</td>\n      <td>RUE BESLIMANE BRAHIM, SERRIANE - GHARDAIA</td>\n      <td>Ghardaia</td>\n      <td>29890464</td>\n      <td>29890464</td>\n      <td>b_nadirl@yahoo.fr</td>\n      <td>33.618970</td>\n      <td>-7.130554</td>\n      <td>True</td>\n      <td>POINT (-7.13055 33.61897)</td>\n      <td>47</td>\n    </tr>\n    <tr>\n      <th>2100</th>\n      <td>430</td>\n      <td>1877</td>\n      <td>BENKHELIFA</td>\n      <td>ALI</td>\n      <td>26, AVENUE  DU 1er NOVEMBRE -GHARDAIA</td>\n      <td>Ghardaia</td>\n      <td>29234702</td>\n      <td>29234703</td>\n      <td>alibenkhelifa@yahoo.fr</td>\n      <td>NaN</td>\n      <td>NaN</td>\n      <td>True</td>\n      <td>POINT (3.17728 31.18000)</td>\n      <td>47</td>\n    </tr>\n    <tr>\n      <th>2108</th>\n      <td>1130</td>\n      <td>1666</td>\n      <td>HADOAD</td>\n      <td>AHMED</td>\n      <td>RUE HAMANI BELOJILALI - GUELIZANE</td>\n      <td>Relizane</td>\n      <td>46718057</td>\n      <td>NaN</td>\n      <td>NaN</td>\n      <td>36.770662</td>\n      <td>3.056956</td>\n      <td>True</td>\n      <td>POINT (3.05696 36.77066)</td>\n      <td>48</td>\n    </tr>\n    <tr>\n      <th>2115</th>\n      <td>1740</td>\n      <td>2025</td>\n      <td>OUAZZANE</td>\n      <td>M'HAMED</td>\n      <td>RUE HADJ ABEDATIKA - RELIZANE</td>\n      <td>Relizane</td>\n      <td>NaN</td>\n      <td>NaN</td>\n      <td>NaN</td>\n      <td>NaN</td>\n      <td>NaN</td>\n      <td>True</td>\n      <td>POINT (0.80132 35.80080)</td>\n      <td>48</td>\n    </tr>\n  </tbody>\n</table>\n<p>172 rows × 14 columns</p>\n</div>"
     },
     "metadata": {},
     "execution_count": 148
    }
   ],
   "source": [
    "# Update to_check flag to take into account points outside Wilays and without geocoding coordinates\n",
    "final_gdf = pois_gdf\n",
    "final_gdf['to_check'] = (pois_gdf['to_check'] == True) | (pois_gdf['coords_in_wil'] == False)   \n",
    "\n",
    "# Remove unecessary columns\n",
    "final_gdf = final_gdf.drop(['geometry_y', 'coords_in_wil', 'wilaya_low'], axis=1)\n",
    "\n",
    "final_gdf[final_gdf.to_check == True]"
   ]
  },
  {
   "cell_type": "code",
   "execution_count": 149,
   "metadata": {},
   "outputs": [
    {
     "output_type": "execute_result",
     "data": {
      "text/plain": [
       "num                2116\n",
       "num_inscription    2116\n",
       "nom                2116\n",
       "prenom             2116\n",
       "adresse            2116\n",
       "wilaya             2116\n",
       "tel                1389\n",
       "fax                 994\n",
       "email              1477\n",
       "lat                2027\n",
       "lon                2027\n",
       "to_check           2116\n",
       "geometry           2116\n",
       "code_wil           2116\n",
       "dtype: int64"
      ]
     },
     "metadata": {},
     "execution_count": 149
    }
   ],
   "source": [
    "final_gdf.count()"
   ]
  },
  {
   "cell_type": "code",
   "execution_count": 150,
   "metadata": {},
   "outputs": [],
   "source": [
    "# Write to a GeoJSON file\n",
    "\n",
    "gpd.GeoDataFrame(final_gdf).to_file(pois_path + \"pois_checked_in_out_wilayas.geojson\", driver='GeoJSON')"
   ]
  }
 ]
}