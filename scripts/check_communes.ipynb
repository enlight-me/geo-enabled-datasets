{
 "metadata": {
  "language_info": {
   "codemirror_mode": {
    "name": "ipython",
    "version": 3
   },
   "file_extension": ".py",
   "mimetype": "text/x-python",
   "name": "python",
   "nbconvert_exporter": "python",
   "pygments_lexer": "ipython3",
   "version": "3.8.5"
  },
  "orig_nbformat": 2,
  "kernelspec": {
   "name": "python38564bitc5dda015dcc140dba795e9b0465f9f9d",
   "display_name": "Python 3.8.5 64-bit",
   "language": "python"
  }
 },
 "nbformat": 4,
 "nbformat_minor": 2,
 "cells": [
  {
   "cell_type": "code",
   "execution_count": 75,
   "metadata": {},
   "outputs": [],
   "source": [
    "import pandas as pd \n",
    "import geopandas as gpd \n",
    "from shapely.geometry import Point\n",
    "import numpy as np \n",
    "import jellyfish"
   ]
  },
  {
   "cell_type": "code",
   "execution_count": 76,
   "metadata": {},
   "outputs": [
    {
     "output_type": "execute_result",
     "data": {
      "text/plain": [
       "   CODE        COMMUNE           NATURE  CODE_W  \\\n",
       "0  2132         KANOUA  COMMUNE-COTIERE      21   \n",
       "1  2131        CHERAIA  COMMUNE-COTIERE      21   \n",
       "2  2138  HAMADI KROUMA  COMMUNE-COTIERE      21   \n",
       "3  2310       CHETAIBI  COMMUNE-COTIERE      23   \n",
       "4  2113    OULED ATTIA  COMMUNE-COTIERE      21   \n",
       "\n",
       "                                            geometry  \n",
       "0  MULTIPOLYGON (((6.47321 37.08773, 6.47359 37.0...  \n",
       "1  MULTIPOLYGON (((6.47321 37.08773, 6.47296 37.0...  \n",
       "2  MULTIPOLYGON (((7.28831 37.07547, 7.28840 37.0...  \n",
       "3  MULTIPOLYGON (((7.28831 37.07547, 7.28824 37.0...  \n",
       "4  MULTIPOLYGON (((6.30451 37.03805, 6.30491 37.0...  "
      ],
      "text/html": "<div>\n<style scoped>\n    .dataframe tbody tr th:only-of-type {\n        vertical-align: middle;\n    }\n\n    .dataframe tbody tr th {\n        vertical-align: top;\n    }\n\n    .dataframe thead th {\n        text-align: right;\n    }\n</style>\n<table border=\"1\" class=\"dataframe\">\n  <thead>\n    <tr style=\"text-align: right;\">\n      <th></th>\n      <th>CODE</th>\n      <th>COMMUNE</th>\n      <th>NATURE</th>\n      <th>CODE_W</th>\n      <th>geometry</th>\n    </tr>\n  </thead>\n  <tbody>\n    <tr>\n      <th>0</th>\n      <td>2132</td>\n      <td>KANOUA</td>\n      <td>COMMUNE-COTIERE</td>\n      <td>21</td>\n      <td>MULTIPOLYGON (((6.47321 37.08773, 6.47359 37.0...</td>\n    </tr>\n    <tr>\n      <th>1</th>\n      <td>2131</td>\n      <td>CHERAIA</td>\n      <td>COMMUNE-COTIERE</td>\n      <td>21</td>\n      <td>MULTIPOLYGON (((6.47321 37.08773, 6.47296 37.0...</td>\n    </tr>\n    <tr>\n      <th>2</th>\n      <td>2138</td>\n      <td>HAMADI KROUMA</td>\n      <td>COMMUNE-COTIERE</td>\n      <td>21</td>\n      <td>MULTIPOLYGON (((7.28831 37.07547, 7.28840 37.0...</td>\n    </tr>\n    <tr>\n      <th>3</th>\n      <td>2310</td>\n      <td>CHETAIBI</td>\n      <td>COMMUNE-COTIERE</td>\n      <td>23</td>\n      <td>MULTIPOLYGON (((7.28831 37.07547, 7.28824 37.0...</td>\n    </tr>\n    <tr>\n      <th>4</th>\n      <td>2113</td>\n      <td>OULED ATTIA</td>\n      <td>COMMUNE-COTIERE</td>\n      <td>21</td>\n      <td>MULTIPOLYGON (((6.30451 37.03805, 6.30491 37.0...</td>\n    </tr>\n  </tbody>\n</table>\n</div>"
     },
     "metadata": {},
     "execution_count": 76
    }
   ],
   "source": [
    "# Load Communes GeoJSON Features \n",
    "communes_json_gdf = gpd.read_file('communes.geojson')\n",
    "communes_json_gdf.head()"
   ]
  },
  {
   "cell_type": "code",
   "execution_count": 77,
   "metadata": {},
   "outputs": [
    {
     "output_type": "execute_result",
     "data": {
      "text/plain": [
       "   num  code        nom  code_wil nom_wil\n",
       "0    1  1001      Adrar         1   Adrar\n",
       "1    2  1002     Tamest         1   Adrar\n",
       "2    3  1003  Charouine         1   Adrar\n",
       "3    4  1004    Reggane         1   Adrar\n",
       "4    5  1005   Inzegmir         1   Adrar"
      ],
      "text/html": "<div>\n<style scoped>\n    .dataframe tbody tr th:only-of-type {\n        vertical-align: middle;\n    }\n\n    .dataframe tbody tr th {\n        vertical-align: top;\n    }\n\n    .dataframe thead th {\n        text-align: right;\n    }\n</style>\n<table border=\"1\" class=\"dataframe\">\n  <thead>\n    <tr style=\"text-align: right;\">\n      <th></th>\n      <th>num</th>\n      <th>code</th>\n      <th>nom</th>\n      <th>code_wil</th>\n      <th>nom_wil</th>\n    </tr>\n  </thead>\n  <tbody>\n    <tr>\n      <th>0</th>\n      <td>1</td>\n      <td>1001</td>\n      <td>Adrar</td>\n      <td>1</td>\n      <td>Adrar</td>\n    </tr>\n    <tr>\n      <th>1</th>\n      <td>2</td>\n      <td>1002</td>\n      <td>Tamest</td>\n      <td>1</td>\n      <td>Adrar</td>\n    </tr>\n    <tr>\n      <th>2</th>\n      <td>3</td>\n      <td>1003</td>\n      <td>Charouine</td>\n      <td>1</td>\n      <td>Adrar</td>\n    </tr>\n    <tr>\n      <th>3</th>\n      <td>4</td>\n      <td>1004</td>\n      <td>Reggane</td>\n      <td>1</td>\n      <td>Adrar</td>\n    </tr>\n    <tr>\n      <th>4</th>\n      <td>5</td>\n      <td>1005</td>\n      <td>Inzegmir</td>\n      <td>1</td>\n      <td>Adrar</td>\n    </tr>\n  </tbody>\n</table>\n</div>"
     },
     "metadata": {},
     "execution_count": 77
    }
   ],
   "source": [
    "# Load Communes GeoJSON Features \n",
    "communes_csv_df = pd.read_csv('communes.csv')\n",
    "communes_csv_df.head()"
   ]
  },
  {
   "cell_type": "code",
   "execution_count": 78,
   "metadata": {},
   "outputs": [
    {
     "output_type": "execute_result",
     "data": {
      "text/plain": [
       "   CODE        COMMUNE           NATURE  CODE_W  \\\n",
       "0  2132         KANOUA  COMMUNE-COTIERE      21   \n",
       "1  2131        CHERAIA  COMMUNE-COTIERE      21   \n",
       "2  2138  HAMADI KROUMA  COMMUNE-COTIERE      21   \n",
       "3  2310       CHETAIBI  COMMUNE-COTIERE      23   \n",
       "4  2113    OULED ATTIA  COMMUNE-COTIERE      21   \n",
       "\n",
       "                                            geometry  code_5  \n",
       "0  MULTIPOLYGON (((6.47321 37.08773, 6.47359 37.0...   21032  \n",
       "1  MULTIPOLYGON (((6.47321 37.08773, 6.47296 37.0...   21031  \n",
       "2  MULTIPOLYGON (((7.28831 37.07547, 7.28840 37.0...   21038  \n",
       "3  MULTIPOLYGON (((7.28831 37.07547, 7.28824 37.0...   23010  \n",
       "4  MULTIPOLYGON (((6.30451 37.03805, 6.30491 37.0...   21013  "
      ],
      "text/html": "<div>\n<style scoped>\n    .dataframe tbody tr th:only-of-type {\n        vertical-align: middle;\n    }\n\n    .dataframe tbody tr th {\n        vertical-align: top;\n    }\n\n    .dataframe thead th {\n        text-align: right;\n    }\n</style>\n<table border=\"1\" class=\"dataframe\">\n  <thead>\n    <tr style=\"text-align: right;\">\n      <th></th>\n      <th>CODE</th>\n      <th>COMMUNE</th>\n      <th>NATURE</th>\n      <th>CODE_W</th>\n      <th>geometry</th>\n      <th>code_5</th>\n    </tr>\n  </thead>\n  <tbody>\n    <tr>\n      <th>0</th>\n      <td>2132</td>\n      <td>KANOUA</td>\n      <td>COMMUNE-COTIERE</td>\n      <td>21</td>\n      <td>MULTIPOLYGON (((6.47321 37.08773, 6.47359 37.0...</td>\n      <td>21032</td>\n    </tr>\n    <tr>\n      <th>1</th>\n      <td>2131</td>\n      <td>CHERAIA</td>\n      <td>COMMUNE-COTIERE</td>\n      <td>21</td>\n      <td>MULTIPOLYGON (((6.47321 37.08773, 6.47296 37.0...</td>\n      <td>21031</td>\n    </tr>\n    <tr>\n      <th>2</th>\n      <td>2138</td>\n      <td>HAMADI KROUMA</td>\n      <td>COMMUNE-COTIERE</td>\n      <td>21</td>\n      <td>MULTIPOLYGON (((7.28831 37.07547, 7.28840 37.0...</td>\n      <td>21038</td>\n    </tr>\n    <tr>\n      <th>3</th>\n      <td>2310</td>\n      <td>CHETAIBI</td>\n      <td>COMMUNE-COTIERE</td>\n      <td>23</td>\n      <td>MULTIPOLYGON (((7.28831 37.07547, 7.28824 37.0...</td>\n      <td>23010</td>\n    </tr>\n    <tr>\n      <th>4</th>\n      <td>2113</td>\n      <td>OULED ATTIA</td>\n      <td>COMMUNE-COTIERE</td>\n      <td>21</td>\n      <td>MULTIPOLYGON (((6.30451 37.03805, 6.30491 37.0...</td>\n      <td>21013</td>\n    </tr>\n  </tbody>\n</table>\n</div>"
     },
     "metadata": {},
     "execution_count": 78
    }
   ],
   "source": [
    "communes_json_gdf['code_5'] = [int(str(cd)[:1] + '0' + str(cd)[1:]) if cd < 1000 else int(str(cd)[:2] + '0' + str(cd)[2:])  for cd in communes_json_gdf.CODE]\n",
    "communes_json_gdf.head()"
   ]
  },
  {
   "cell_type": "code",
   "execution_count": 79,
   "metadata": {},
   "outputs": [
    {
     "output_type": "execute_result",
     "data": {
      "text/plain": [
       "CODE        1541\n",
       "COMMUNE     1541\n",
       "NATURE      1541\n",
       "CODE_W      1541\n",
       "geometry    1541\n",
       "code_5      1541\n",
       "num         1541\n",
       "code        1541\n",
       "nom         1541\n",
       "code_wil    1541\n",
       "nom_wil     1541\n",
       "dtype: int64"
      ]
     },
     "metadata": {},
     "execution_count": 79
    }
   ],
   "source": [
    "# Merge Communes CSV and GeoJSON \n",
    "merged_gdf = communes_json_gdf.merge(communes_csv_df, left_on='code_5', right_on='code', how='left')\n",
    "merged_gdf.count()"
   ]
  },
  {
   "cell_type": "code",
   "execution_count": 80,
   "metadata": {},
   "outputs": [
    {
     "output_type": "execute_result",
     "data": {
      "text/plain": [
       "   CODE        COMMUNE           NATURE  CODE_W  \\\n",
       "0  2132         KANOUA  COMMUNE-COTIERE      21   \n",
       "1  2131        CHERAIA  COMMUNE-COTIERE      21   \n",
       "2  2138  HAMADI KROUMA  COMMUNE-COTIERE      21   \n",
       "3  2310       CHETAIBI  COMMUNE-COTIERE      23   \n",
       "4  2113    OULED ATTIA  COMMUNE-COTIERE      21   \n",
       "\n",
       "                                            geometry  code_5  num   code  \\\n",
       "0  MULTIPOLYGON (((6.47321 37.08773, 6.47359 37.0...   21032  782  21032   \n",
       "1  MULTIPOLYGON (((6.47321 37.08773, 6.47296 37.0...   21031  781  21031   \n",
       "2  MULTIPOLYGON (((7.28831 37.07547, 7.28840 37.0...   21038  787  21038   \n",
       "3  MULTIPOLYGON (((7.28831 37.07547, 7.28824 37.0...   23010  850  23010   \n",
       "4  MULTIPOLYGON (((6.30451 37.03805, 6.30491 37.0...   21013  763  21013   \n",
       "\n",
       "             nom  code_wil nom_wil  \n",
       "0         Kanoua        21  Skikda  \n",
       "1        Cheraia        21  Skikda  \n",
       "2  Hamadi Krouma        21  Skikda  \n",
       "3       Chetaibi        23  Annaba  \n",
       "4    Ouled Attia        21  Skikda  "
      ],
      "text/html": "<div>\n<style scoped>\n    .dataframe tbody tr th:only-of-type {\n        vertical-align: middle;\n    }\n\n    .dataframe tbody tr th {\n        vertical-align: top;\n    }\n\n    .dataframe thead th {\n        text-align: right;\n    }\n</style>\n<table border=\"1\" class=\"dataframe\">\n  <thead>\n    <tr style=\"text-align: right;\">\n      <th></th>\n      <th>CODE</th>\n      <th>COMMUNE</th>\n      <th>NATURE</th>\n      <th>CODE_W</th>\n      <th>geometry</th>\n      <th>code_5</th>\n      <th>num</th>\n      <th>code</th>\n      <th>nom</th>\n      <th>code_wil</th>\n      <th>nom_wil</th>\n    </tr>\n  </thead>\n  <tbody>\n    <tr>\n      <th>0</th>\n      <td>2132</td>\n      <td>KANOUA</td>\n      <td>COMMUNE-COTIERE</td>\n      <td>21</td>\n      <td>MULTIPOLYGON (((6.47321 37.08773, 6.47359 37.0...</td>\n      <td>21032</td>\n      <td>782</td>\n      <td>21032</td>\n      <td>Kanoua</td>\n      <td>21</td>\n      <td>Skikda</td>\n    </tr>\n    <tr>\n      <th>1</th>\n      <td>2131</td>\n      <td>CHERAIA</td>\n      <td>COMMUNE-COTIERE</td>\n      <td>21</td>\n      <td>MULTIPOLYGON (((6.47321 37.08773, 6.47296 37.0...</td>\n      <td>21031</td>\n      <td>781</td>\n      <td>21031</td>\n      <td>Cheraia</td>\n      <td>21</td>\n      <td>Skikda</td>\n    </tr>\n    <tr>\n      <th>2</th>\n      <td>2138</td>\n      <td>HAMADI KROUMA</td>\n      <td>COMMUNE-COTIERE</td>\n      <td>21</td>\n      <td>MULTIPOLYGON (((7.28831 37.07547, 7.28840 37.0...</td>\n      <td>21038</td>\n      <td>787</td>\n      <td>21038</td>\n      <td>Hamadi Krouma</td>\n      <td>21</td>\n      <td>Skikda</td>\n    </tr>\n    <tr>\n      <th>3</th>\n      <td>2310</td>\n      <td>CHETAIBI</td>\n      <td>COMMUNE-COTIERE</td>\n      <td>23</td>\n      <td>MULTIPOLYGON (((7.28831 37.07547, 7.28824 37.0...</td>\n      <td>23010</td>\n      <td>850</td>\n      <td>23010</td>\n      <td>Chetaibi</td>\n      <td>23</td>\n      <td>Annaba</td>\n    </tr>\n    <tr>\n      <th>4</th>\n      <td>2113</td>\n      <td>OULED ATTIA</td>\n      <td>COMMUNE-COTIERE</td>\n      <td>21</td>\n      <td>MULTIPOLYGON (((6.30451 37.03805, 6.30491 37.0...</td>\n      <td>21013</td>\n      <td>763</td>\n      <td>21013</td>\n      <td>Ouled Attia</td>\n      <td>21</td>\n      <td>Skikda</td>\n    </tr>\n  </tbody>\n</table>\n</div>"
     },
     "metadata": {},
     "execution_count": 80
    }
   ],
   "source": [
    "merged_gdf.head()"
   ]
  },
  {
   "cell_type": "code",
   "execution_count": 81,
   "metadata": {},
   "outputs": [
    {
     "output_type": "execute_result",
     "data": {
      "text/plain": [
       "Empty GeoDataFrame\n",
       "Columns: [CODE, COMMUNE, NATURE, CODE_W, geometry, code_5, num, code, nom, code_wil, nom_wil, similarity]\n",
       "Index: []"
      ],
      "text/html": "<div>\n<style scoped>\n    .dataframe tbody tr th:only-of-type {\n        vertical-align: middle;\n    }\n\n    .dataframe tbody tr th {\n        vertical-align: top;\n    }\n\n    .dataframe thead th {\n        text-align: right;\n    }\n</style>\n<table border=\"1\" class=\"dataframe\">\n  <thead>\n    <tr style=\"text-align: right;\">\n      <th></th>\n      <th>CODE</th>\n      <th>COMMUNE</th>\n      <th>NATURE</th>\n      <th>CODE_W</th>\n      <th>geometry</th>\n      <th>code_5</th>\n      <th>num</th>\n      <th>code</th>\n      <th>nom</th>\n      <th>code_wil</th>\n      <th>nom_wil</th>\n      <th>similarity</th>\n    </tr>\n  </thead>\n  <tbody>\n  </tbody>\n</table>\n</div>"
     },
     "metadata": {},
     "execution_count": 81
    }
   ],
   "source": [
    "# Checking for similarities between communes names\n",
    "merged_gdf['similarity'] = merged_gdf.apply(lambda row: jellyfish.levenshtein_distance(str(row.nom).lower(), str(row.COMMUNE).lower()), axis=1)\n",
    "merged_gdf[merged_gdf.similarity > 2]"
   ]
  },
  {
   "cell_type": "code",
   "execution_count": 89,
   "metadata": {},
   "outputs": [
    {
     "output_type": "execute_result",
     "data": {
      "text/plain": [
       "   code  code_5            nom        nom_maj  code_wil  \\\n",
       "0  2132   21032         Kanoua         KANOUA        21   \n",
       "1  2131   21031        Cheraia        CHERAIA        21   \n",
       "2  2138   21038  Hamadi Krouma  HAMADI KROUMA        21   \n",
       "3  2310   23010       Chetaibi       CHETAIBI        23   \n",
       "4  2113   21013    Ouled Attia    OULED ATTIA        21   \n",
       "\n",
       "                                            geometry  \n",
       "0  MULTIPOLYGON (((6.47321 37.08773, 6.47359 37.0...  \n",
       "1  MULTIPOLYGON (((6.47321 37.08773, 6.47296 37.0...  \n",
       "2  MULTIPOLYGON (((7.28831 37.07547, 7.28840 37.0...  \n",
       "3  MULTIPOLYGON (((7.28831 37.07547, 7.28824 37.0...  \n",
       "4  MULTIPOLYGON (((6.30451 37.03805, 6.30491 37.0...  "
      ],
      "text/html": "<div>\n<style scoped>\n    .dataframe tbody tr th:only-of-type {\n        vertical-align: middle;\n    }\n\n    .dataframe tbody tr th {\n        vertical-align: top;\n    }\n\n    .dataframe thead th {\n        text-align: right;\n    }\n</style>\n<table border=\"1\" class=\"dataframe\">\n  <thead>\n    <tr style=\"text-align: right;\">\n      <th></th>\n      <th>code</th>\n      <th>code_5</th>\n      <th>nom</th>\n      <th>nom_maj</th>\n      <th>code_wil</th>\n      <th>geometry</th>\n    </tr>\n  </thead>\n  <tbody>\n    <tr>\n      <th>0</th>\n      <td>2132</td>\n      <td>21032</td>\n      <td>Kanoua</td>\n      <td>KANOUA</td>\n      <td>21</td>\n      <td>MULTIPOLYGON (((6.47321 37.08773, 6.47359 37.0...</td>\n    </tr>\n    <tr>\n      <th>1</th>\n      <td>2131</td>\n      <td>21031</td>\n      <td>Cheraia</td>\n      <td>CHERAIA</td>\n      <td>21</td>\n      <td>MULTIPOLYGON (((6.47321 37.08773, 6.47296 37.0...</td>\n    </tr>\n    <tr>\n      <th>2</th>\n      <td>2138</td>\n      <td>21038</td>\n      <td>Hamadi Krouma</td>\n      <td>HAMADI KROUMA</td>\n      <td>21</td>\n      <td>MULTIPOLYGON (((7.28831 37.07547, 7.28840 37.0...</td>\n    </tr>\n    <tr>\n      <th>3</th>\n      <td>2310</td>\n      <td>23010</td>\n      <td>Chetaibi</td>\n      <td>CHETAIBI</td>\n      <td>23</td>\n      <td>MULTIPOLYGON (((7.28831 37.07547, 7.28824 37.0...</td>\n    </tr>\n    <tr>\n      <th>4</th>\n      <td>2113</td>\n      <td>21013</td>\n      <td>Ouled Attia</td>\n      <td>OULED ATTIA</td>\n      <td>21</td>\n      <td>MULTIPOLYGON (((6.30451 37.03805, 6.30491 37.0...</td>\n    </tr>\n  </tbody>\n</table>\n</div>"
     },
     "metadata": {},
     "execution_count": 89
    }
   ],
   "source": [
    "# Reorder and rename columns\n",
    "communes_gdf = merged_gdf.drop(columns=['CODE_W', 'num', 'code', 'nom_wil', 'similarity', 'NATURE'])\n",
    "communes_gdf.rename(columns={\"CODE\": \"code\", 'COMMUNE' : 'nom_maj'}, inplace=True)\n",
    "communes_gdf = communes_gdf[['code', 'code_5', 'nom', 'nom_maj', 'code_wil', 'geometry']]\n",
    "communes_gdf.count()"
   ]
  },
  {
   "cell_type": "code",
   "execution_count": 94,
   "metadata": {},
   "outputs": [
    {
     "output_type": "execute_result",
     "data": {
      "text/plain": [
       "   code  code_5        nom    nom_maj  code_wil  \\\n",
       "0   101    1001      Adrar      ADRAR         1   \n",
       "1   102    1002     Tamest     TAMEST         1   \n",
       "2   103    1003  Charouine  GHAROUINE         1   \n",
       "3   104    1004    Reggane    REGGANE         1   \n",
       "4   105    1005   Inzegmir   INZEGMIR         1   \n",
       "\n",
       "                                            geometry  \n",
       "0  MULTIPOLYGON (((-0.22565 28.08656, -0.04751 28...  \n",
       "1  MULTIPOLYGON (((-2.98197 27.50450, -2.49629 27...  \n",
       "2  MULTIPOLYGON (((-0.16269 28.96347, -0.21556 28...  \n",
       "3  MULTIPOLYGON (((0.51798 26.92294, 0.90476 26.2...  \n",
       "4  MULTIPOLYGON (((0.47629 27.06526, 0.28392 27.0...  "
      ],
      "text/html": "<div>\n<style scoped>\n    .dataframe tbody tr th:only-of-type {\n        vertical-align: middle;\n    }\n\n    .dataframe tbody tr th {\n        vertical-align: top;\n    }\n\n    .dataframe thead th {\n        text-align: right;\n    }\n</style>\n<table border=\"1\" class=\"dataframe\">\n  <thead>\n    <tr style=\"text-align: right;\">\n      <th></th>\n      <th>code</th>\n      <th>code_5</th>\n      <th>nom</th>\n      <th>nom_maj</th>\n      <th>code_wil</th>\n      <th>geometry</th>\n    </tr>\n  </thead>\n  <tbody>\n    <tr>\n      <th>0</th>\n      <td>101</td>\n      <td>1001</td>\n      <td>Adrar</td>\n      <td>ADRAR</td>\n      <td>1</td>\n      <td>MULTIPOLYGON (((-0.22565 28.08656, -0.04751 28...</td>\n    </tr>\n    <tr>\n      <th>1</th>\n      <td>102</td>\n      <td>1002</td>\n      <td>Tamest</td>\n      <td>TAMEST</td>\n      <td>1</td>\n      <td>MULTIPOLYGON (((-2.98197 27.50450, -2.49629 27...</td>\n    </tr>\n    <tr>\n      <th>2</th>\n      <td>103</td>\n      <td>1003</td>\n      <td>Charouine</td>\n      <td>GHAROUINE</td>\n      <td>1</td>\n      <td>MULTIPOLYGON (((-0.16269 28.96347, -0.21556 28...</td>\n    </tr>\n    <tr>\n      <th>3</th>\n      <td>104</td>\n      <td>1004</td>\n      <td>Reggane</td>\n      <td>REGGANE</td>\n      <td>1</td>\n      <td>MULTIPOLYGON (((0.51798 26.92294, 0.90476 26.2...</td>\n    </tr>\n    <tr>\n      <th>4</th>\n      <td>105</td>\n      <td>1005</td>\n      <td>Inzegmir</td>\n      <td>INZEGMIR</td>\n      <td>1</td>\n      <td>MULTIPOLYGON (((0.47629 27.06526, 0.28392 27.0...</td>\n    </tr>\n  </tbody>\n</table>\n</div>"
     },
     "metadata": {},
     "execution_count": 94
    }
   ],
   "source": [
    "# Sort the DataFrame by code and reset the index\n",
    "communes_gdf = communes_gdf.sort_values(by=['code'],ignore_index=True)\n",
    "communes_gdf.reset_index(drop=True)\n",
    "communes_gdf.head()"
   ]
  },
  {
   "cell_type": "code",
   "execution_count": 97,
   "metadata": {},
   "outputs": [],
   "source": [
    "# Write to GeoJSON and CSV files\n",
    "communes_gdf.index = np.arange(1, len(communes_gdf) + 1)\n",
    "communes_gdf.to_file(\"communes_48.geojson\", driver='GeoJSON')\n",
    "\n",
    "communes_df = pd.DataFrame(communes_gdf[['code', 'code_5', 'nom', 'nom_maj', 'code_wil']])\n",
    "communes_df.to_csv(\"communes_48.csv\")"
   ]
  }
 ]
}