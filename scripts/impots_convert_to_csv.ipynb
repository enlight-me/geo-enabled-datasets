{
 "cells": [
  {
   "cell_type": "code",
   "execution_count": 4,
   "metadata": {},
   "outputs": [],
   "source": [
    "import pandas as pd\n",
    "import geopandas as gpd\n",
    "\n",
    "from bs4 import BeautifulSoup\n"
   ]
  },
  {
   "cell_type": "code",
   "execution_count": 5,
   "metadata": {},
   "outputs": [],
   "source": [
    "def extract(lst):\n",
    "    return [item[-1] for item in lst]\n"
   ]
  },
  {
   "cell_type": "code",
   "execution_count": 6,
   "metadata": {},
   "outputs": [],
   "source": [
    "file_path='raw/impots_suite.html'\n",
    "\n",
    "soup = BeautifulSoup(open(file_path), \"html.parser\")\n"
   ]
  },
  {
   "cell_type": "code",
   "execution_count": 7,
   "metadata": {},
   "outputs": [],
   "source": [
    "impots = soup.find_all(\"ol\")\n",
    "i = impots[0]\n",
    "rows =[]\n",
    "for impot in impots:\n",
    "    \n",
    "    row = {'name':impot.find(class_='name').get_text(),\n",
    "           'address':impot.find(class_=\"address\").get_text(),\n",
    "           \"tel\":impot.find(class_=\"phone\").get_text()\n",
    "          }\n",
    "    rows.append(row)"
   ]
  },
  {
   "cell_type": "code",
   "execution_count": 8,
   "metadata": {},
   "outputs": [],
   "source": [
    "df = pd.DataFrame.from_dict(rows)"
   ]
  },
  {
   "cell_type": "code",
   "execution_count": 9,
   "metadata": {},
   "outputs": [
    {
     "data": {
      "text/html": [
       "<div>\n",
       "<style scoped>\n",
       "    .dataframe tbody tr th:only-of-type {\n",
       "        vertical-align: middle;\n",
       "    }\n",
       "\n",
       "    .dataframe tbody tr th {\n",
       "        vertical-align: top;\n",
       "    }\n",
       "\n",
       "    .dataframe thead th {\n",
       "        text-align: right;\n",
       "    }\n",
       "</style>\n",
       "<table border=\"1\" class=\"dataframe\">\n",
       "  <thead>\n",
       "    <tr style=\"text-align: right;\">\n",
       "      <th></th>\n",
       "      <th>name</th>\n",
       "      <th>address</th>\n",
       "      <th>tel</th>\n",
       "    </tr>\n",
       "  </thead>\n",
       "  <tbody>\n",
       "    <tr>\n",
       "      <th>0</th>\n",
       "      <td>. IMPOTS Direction</td>\n",
       "      <td>\\n        3,REGGANE,Cité El Kaous Labyad,Adrar</td>\n",
       "      <td>049 32 02 02</td>\n",
       "    </tr>\n",
       "    <tr>\n",
       "      <th>1</th>\n",
       "      <td>. IMPOTS Direction</td>\n",
       "      <td>\\n        4,REGGANE,Cité El Kaous Labyad,Adrar</td>\n",
       "      <td>049 32 02 07</td>\n",
       "    </tr>\n",
       "    <tr>\n",
       "      <th>2</th>\n",
       "      <td>. IMPOTS Direction</td>\n",
       "      <td>\\n        2,REGGANE,Cité El Kaous Labyad,Adrar</td>\n",
       "      <td>049 32 03 20</td>\n",
       "    </tr>\n",
       "    <tr>\n",
       "      <th>3</th>\n",
       "      <td>. IMPOTS Direction</td>\n",
       "      <td>\\n        AOULEF,Cité Centre Ville,Adrar</td>\n",
       "      <td>049 32 71 96</td>\n",
       "    </tr>\n",
       "    <tr>\n",
       "      <th>4</th>\n",
       "      <td>. IMPOTS Direction</td>\n",
       "      <td>\\n        AOULEF,Cité Centre Ville,Adrar</td>\n",
       "      <td>049 32 78 27</td>\n",
       "    </tr>\n",
       "    <tr>\n",
       "      <th>...</th>\n",
       "      <td>...</td>\n",
       "      <td>...</td>\n",
       "      <td>...</td>\n",
       "    </tr>\n",
       "    <tr>\n",
       "      <th>320</th>\n",
       "      <td>C.P.I MOHAMMADIA CENTRE DE PROXIMITE DES IMPOTS</td>\n",
       "      <td>\\n        MOHAMMADIA MASCARA,Rue Emir AEK Prol...</td>\n",
       "      <td>045 94 14 33</td>\n",
       "    </tr>\n",
       "    <tr>\n",
       "      <th>321</th>\n",
       "      <td>INSPECTION TIGHENNIF IMPOTS Direction</td>\n",
       "      <td>\\n        TIGHENNIF,Boulevard Des Martyrs,Masc...</td>\n",
       "      <td>045 97 23 79</td>\n",
       "    </tr>\n",
       "    <tr>\n",
       "      <th>322</th>\n",
       "      <td>RECETTE TIGHENNIF IMPOTS Direction</td>\n",
       "      <td>\\n        TIGHENNIF,Boulevard Des Martyrs,Masc...</td>\n",
       "      <td>045 97 23 83</td>\n",
       "    </tr>\n",
       "    <tr>\n",
       "      <th>323</th>\n",
       "      <td>Recette des impots EL BORDJ IMPOTS Direction</td>\n",
       "      <td>\\n        TIGHENNIF,Rue 1er Novembre 1954,Masc...</td>\n",
       "      <td>045 97 24 06</td>\n",
       "    </tr>\n",
       "    <tr>\n",
       "      <th>324</th>\n",
       "      <td>Inspection des impots EL BORDJ. IMPOTS Direction</td>\n",
       "      <td>\\n        TIGHENNIF,Rue Charef Belkacem,Mascara</td>\n",
       "      <td>045 97 24 08</td>\n",
       "    </tr>\n",
       "  </tbody>\n",
       "</table>\n",
       "<p>325 rows × 3 columns</p>\n",
       "</div>"
      ],
      "text/plain": [
       "                                                 name  \\\n",
       "0                                  . IMPOTS Direction   \n",
       "1                                  . IMPOTS Direction   \n",
       "2                                  . IMPOTS Direction   \n",
       "3                                  . IMPOTS Direction   \n",
       "4                                  . IMPOTS Direction   \n",
       "..                                                ...   \n",
       "320   C.P.I MOHAMMADIA CENTRE DE PROXIMITE DES IMPOTS   \n",
       "321             INSPECTION TIGHENNIF IMPOTS Direction   \n",
       "322                RECETTE TIGHENNIF IMPOTS Direction   \n",
       "323      Recette des impots EL BORDJ IMPOTS Direction   \n",
       "324  Inspection des impots EL BORDJ. IMPOTS Direction   \n",
       "\n",
       "                                               address            tel  \n",
       "0      \\n        3,REGGANE,Cité El Kaous Labyad,Adrar   049 32 02 02   \n",
       "1      \\n        4,REGGANE,Cité El Kaous Labyad,Adrar   049 32 02 07   \n",
       "2      \\n        2,REGGANE,Cité El Kaous Labyad,Adrar   049 32 03 20   \n",
       "3            \\n        AOULEF,Cité Centre Ville,Adrar   049 32 71 96   \n",
       "4            \\n        AOULEF,Cité Centre Ville,Adrar   049 32 78 27   \n",
       "..                                                 ...            ...  \n",
       "320  \\n        MOHAMMADIA MASCARA,Rue Emir AEK Prol...  045 94 14 33   \n",
       "321  \\n        TIGHENNIF,Boulevard Des Martyrs,Masc...  045 97 23 79   \n",
       "322  \\n        TIGHENNIF,Boulevard Des Martyrs,Masc...  045 97 23 83   \n",
       "323  \\n        TIGHENNIF,Rue 1er Novembre 1954,Masc...  045 97 24 06   \n",
       "324   \\n        TIGHENNIF,Rue Charef Belkacem,Mascara   045 97 24 08   \n",
       "\n",
       "[325 rows x 3 columns]"
      ]
     },
     "execution_count": 9,
     "metadata": {},
     "output_type": "execute_result"
    }
   ],
   "source": [
    "df"
   ]
  },
  {
   "cell_type": "code",
   "execution_count": 10,
   "metadata": {},
   "outputs": [],
   "source": [
    "impots =df.groupby(['address'])['tel'].apply(' - '.join).reset_index()\n"
   ]
  },
  {
   "cell_type": "code",
   "execution_count": 11,
   "metadata": {},
   "outputs": [
    {
     "data": {
      "text/html": [
       "<div>\n",
       "<style scoped>\n",
       "    .dataframe tbody tr th:only-of-type {\n",
       "        vertical-align: middle;\n",
       "    }\n",
       "\n",
       "    .dataframe tbody tr th {\n",
       "        vertical-align: top;\n",
       "    }\n",
       "\n",
       "    .dataframe thead th {\n",
       "        text-align: right;\n",
       "    }\n",
       "</style>\n",
       "<table border=\"1\" class=\"dataframe\">\n",
       "  <thead>\n",
       "    <tr style=\"text-align: right;\">\n",
       "      <th></th>\n",
       "      <th>address</th>\n",
       "      <th>tel</th>\n",
       "    </tr>\n",
       "  </thead>\n",
       "  <tbody>\n",
       "    <tr>\n",
       "      <th>0</th>\n",
       "      <td>\\n        1,SAIDA,Rue Allel Medeghri,Saida</td>\n",
       "      <td>048 37 31 27</td>\n",
       "    </tr>\n",
       "    <tr>\n",
       "      <th>1</th>\n",
       "      <td>\\n        10,MECHERIA,Cité 12 Logements Admini...</td>\n",
       "      <td>049 51 42 12</td>\n",
       "    </tr>\n",
       "    <tr>\n",
       "      <th>2</th>\n",
       "      <td>\\n        2,REGGANE,Cité El Kaous Labyad,Adrar</td>\n",
       "      <td>049 32 03 20</td>\n",
       "    </tr>\n",
       "    <tr>\n",
       "      <th>3</th>\n",
       "      <td>\\n        27,MECHERIA,Cité Badr,Naama</td>\n",
       "      <td>049 51 41 26</td>\n",
       "    </tr>\n",
       "    <tr>\n",
       "      <th>4</th>\n",
       "      <td>\\n        3,BECHAR,Rue Zaoui Dieb,Bechar</td>\n",
       "      <td>049 22 11 62</td>\n",
       "    </tr>\n",
       "    <tr>\n",
       "      <th>...</th>\n",
       "      <td>...</td>\n",
       "      <td>...</td>\n",
       "    </tr>\n",
       "    <tr>\n",
       "      <th>126</th>\n",
       "      <td>\\n        TIMIMOUN,Cité Hassi Ghambou,Adrar</td>\n",
       "      <td>049 90 45 51  - 049 90 45 59</td>\n",
       "    </tr>\n",
       "    <tr>\n",
       "      <th>127</th>\n",
       "      <td>\\n        TISSEMSILT,60 Bureaux Wilaya,Tissems...</td>\n",
       "      <td>046 50 33 48  - 046 57 01 23  - 046 57 01 35  ...</td>\n",
       "    </tr>\n",
       "    <tr>\n",
       "      <th>128</th>\n",
       "      <td>\\n        TISSEMSILT,Cité 300 Logements,Tissem...</td>\n",
       "      <td>046 56 91 70  - 046 56 91 75  - 046 56 91 78</td>\n",
       "    </tr>\n",
       "    <tr>\n",
       "      <th>129</th>\n",
       "      <td>\\n        TISSEMSILT,Cité 320 Logements,Tissem...</td>\n",
       "      <td>046 57 08 61  - 046 57 08 63  - 046 57 08 66</td>\n",
       "    </tr>\n",
       "    <tr>\n",
       "      <th>130</th>\n",
       "      <td>\\n        TIZI,Tizi,Mascara</td>\n",
       "      <td>045 75 89 63</td>\n",
       "    </tr>\n",
       "  </tbody>\n",
       "</table>\n",
       "<p>131 rows × 2 columns</p>\n",
       "</div>"
      ],
      "text/plain": [
       "                                               address  \\\n",
       "0          \\n        1,SAIDA,Rue Allel Medeghri,Saida    \n",
       "1    \\n        10,MECHERIA,Cité 12 Logements Admini...   \n",
       "2      \\n        2,REGGANE,Cité El Kaous Labyad,Adrar    \n",
       "3               \\n        27,MECHERIA,Cité Badr,Naama    \n",
       "4            \\n        3,BECHAR,Rue Zaoui Dieb,Bechar    \n",
       "..                                                 ...   \n",
       "126       \\n        TIMIMOUN,Cité Hassi Ghambou,Adrar    \n",
       "127  \\n        TISSEMSILT,60 Bureaux Wilaya,Tissems...   \n",
       "128  \\n        TISSEMSILT,Cité 300 Logements,Tissem...   \n",
       "129  \\n        TISSEMSILT,Cité 320 Logements,Tissem...   \n",
       "130                       \\n        TIZI,Tizi,Mascara    \n",
       "\n",
       "                                                   tel  \n",
       "0                                        048 37 31 27   \n",
       "1                                        049 51 42 12   \n",
       "2                                        049 32 03 20   \n",
       "3                                        049 51 41 26   \n",
       "4                                        049 22 11 62   \n",
       "..                                                 ...  \n",
       "126                      049 90 45 51  - 049 90 45 59   \n",
       "127  046 50 33 48  - 046 57 01 23  - 046 57 01 35  ...  \n",
       "128      046 56 91 70  - 046 56 91 75  - 046 56 91 78   \n",
       "129      046 57 08 61  - 046 57 08 63  - 046 57 08 66   \n",
       "130                                      045 75 89 63   \n",
       "\n",
       "[131 rows x 2 columns]"
      ]
     },
     "execution_count": 11,
     "metadata": {},
     "output_type": "execute_result"
    }
   ],
   "source": [
    "impots"
   ]
  },
  {
   "cell_type": "code",
   "execution_count": 12,
   "metadata": {},
   "outputs": [],
   "source": [
    "merge = pd.merge(impots,df,on=\"address\")\n",
    "merge = merge.drop_duplicates(subset='address')"
   ]
  },
  {
   "cell_type": "code",
   "execution_count": 13,
   "metadata": {},
   "outputs": [],
   "source": [
    "merge.drop(columns=['tel_y'],inplace=True)"
   ]
  },
  {
   "cell_type": "code",
   "execution_count": 14,
   "metadata": {},
   "outputs": [],
   "source": [
    "merge['wilaya'] =  extract(merge['address'].str.split(','))\n",
    "\n",
    "merge['address'] = merge['address'].str.replace('xyz,','',case=False).str.strip()\n",
    "\n",
    "merge.rename(columns={'tel_x':'tel'},inplace=True)"
   ]
  },
  {
   "cell_type": "code",
   "execution_count": 16,
   "metadata": {},
   "outputs": [],
   "source": [
    "merge.to_csv('impots.csv')"
   ]
  }
 ],
 "metadata": {
  "kernelspec": {
   "display_name": "Python 3",
   "language": "python",
   "name": "python3"
  },
  "language_info": {
   "codemirror_mode": {
    "name": "ipython",
    "version": 3
   },
   "file_extension": ".py",
   "mimetype": "text/x-python",
   "name": "python",
   "nbconvert_exporter": "python",
   "pygments_lexer": "ipython3",
   "version": "3.9.1"
  }
 },
 "nbformat": 4,
 "nbformat_minor": 2
}