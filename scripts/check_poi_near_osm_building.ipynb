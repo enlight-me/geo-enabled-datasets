{
 "metadata": {
  "language_info": {
   "codemirror_mode": {
    "name": "ipython",
    "version": 3
   },
   "file_extension": ".py",
   "mimetype": "text/x-python",
   "name": "python",
   "nbconvert_exporter": "python",
   "pygments_lexer": "ipython3",
   "version": "3.8.5"
  },
  "orig_nbformat": 2,
  "kernelspec": {
   "name": "python38564bitc5dda015dcc140dba795e9b0465f9f9d",
   "display_name": "Python 3.8.5 64-bit"
  },
  "metadata": {
   "interpreter": {
    "hash": "916dbcbb3f70747c44a77c7bcd40155683ae19c65e1c03b4aa3499c5328201f1"
   }
  }
 },
 "nbformat": 4,
 "nbformat_minor": 2,
 "cells": [
  {
   "cell_type": "code",
   "execution_count": 1,
   "metadata": {},
   "outputs": [],
   "source": [
    "# Load packages\n",
    "import os\n",
    "import pandas as pd \n",
    "import geopandas as gpd \n",
    "from shapely.geometry import Point\n",
    "import numpy as np "
   ]
  },
  {
   "cell_type": "code",
   "execution_count": 6,
   "metadata": {},
   "outputs": [
    {
     "output_type": "execute_result",
     "data": {
      "text/plain": [
       "     osm_id  code    fclass            name        type  \\\n",
       "0  23453590  1500  building            None        None   \n",
       "1  23453621  1500  building            None  industrial   \n",
       "2  23453649  1500  building            None  industrial   \n",
       "3  26224008  1500  building    Hilton Alger       hotel   \n",
       "4  26224288  1500  building  Crystal Lounge        None   \n",
       "\n",
       "                                            geometry  \n",
       "0  POLYGON ((3.28630 36.72337, 3.28680 36.72384, ...  \n",
       "1  POLYGON ((3.28839 36.72555, 3.28945 36.72653, ...  \n",
       "2  POLYGON ((3.29652 36.73153, 3.29695 36.73203, ...  \n",
       "3  POLYGON ((3.15595 36.73836, 3.15634 36.73856, ...  \n",
       "4  POLYGON ((3.15561 36.73811, 3.15583 36.73823, ...  "
      ],
      "text/html": "<div>\n<style scoped>\n    .dataframe tbody tr th:only-of-type {\n        vertical-align: middle;\n    }\n\n    .dataframe tbody tr th {\n        vertical-align: top;\n    }\n\n    .dataframe thead th {\n        text-align: right;\n    }\n</style>\n<table border=\"1\" class=\"dataframe\">\n  <thead>\n    <tr style=\"text-align: right;\">\n      <th></th>\n      <th>osm_id</th>\n      <th>code</th>\n      <th>fclass</th>\n      <th>name</th>\n      <th>type</th>\n      <th>geometry</th>\n    </tr>\n  </thead>\n  <tbody>\n    <tr>\n      <th>0</th>\n      <td>23453590</td>\n      <td>1500</td>\n      <td>building</td>\n      <td>None</td>\n      <td>None</td>\n      <td>POLYGON ((3.28630 36.72337, 3.28680 36.72384, ...</td>\n    </tr>\n    <tr>\n      <th>1</th>\n      <td>23453621</td>\n      <td>1500</td>\n      <td>building</td>\n      <td>None</td>\n      <td>industrial</td>\n      <td>POLYGON ((3.28839 36.72555, 3.28945 36.72653, ...</td>\n    </tr>\n    <tr>\n      <th>2</th>\n      <td>23453649</td>\n      <td>1500</td>\n      <td>building</td>\n      <td>None</td>\n      <td>industrial</td>\n      <td>POLYGON ((3.29652 36.73153, 3.29695 36.73203, ...</td>\n    </tr>\n    <tr>\n      <th>3</th>\n      <td>26224008</td>\n      <td>1500</td>\n      <td>building</td>\n      <td>Hilton Alger</td>\n      <td>hotel</td>\n      <td>POLYGON ((3.15595 36.73836, 3.15634 36.73856, ...</td>\n    </tr>\n    <tr>\n      <th>4</th>\n      <td>26224288</td>\n      <td>1500</td>\n      <td>building</td>\n      <td>Crystal Lounge</td>\n      <td>None</td>\n      <td>POLYGON ((3.15561 36.73811, 3.15583 36.73823, ...</td>\n    </tr>\n  </tbody>\n</table>\n</div>"
     },
     "metadata": {},
     "execution_count": 6
    }
   ],
   "source": [
    "# Load osm_building Features and calculate polygon centroids\n",
    "home_path = os.getenv('HOME')\n",
    "osm_building_shp = home_path+'/GeoData/OSM/algeria-latest-free.shp/gis_osm_buildings_a_free_1.shp'\n",
    "osm_building_gdf = gpd.read_file(osm_building_shp)\n",
    "osm_building_gdf.head()"
   ]
  },
  {
   "cell_type": "code",
   "execution_count": 7,
   "metadata": {},
   "outputs": [
    {
     "output_type": "execute_result",
     "data": {
      "text/plain": [
       "<Projected CRS: EPSG:3857>\n",
       "Name: WGS 84 / Pseudo-Mercator\n",
       "Axis Info [cartesian]:\n",
       "- X[east]: Easting (metre)\n",
       "- Y[north]: Northing (metre)\n",
       "Area of Use:\n",
       "- name: World - 85°S to 85°N\n",
       "- bounds: (-180.0, -85.06, 180.0, 85.06)\n",
       "Coordinate Operation:\n",
       "- name: Popular Visualisation Pseudo-Mercator\n",
       "- method: Popular Visualisation Pseudo Mercator\n",
       "Datum: World Geodetic System 1984\n",
       "- Ellipsoid: WGS 84\n",
       "- Prime Meridian: Greenwich"
      ]
     },
     "metadata": {},
     "execution_count": 7
    }
   ],
   "source": [
    "# Set the correct CRS and reproject\n",
    "osm_building_gdf = osm_building_gdf.set_crs(\"EPSG:4326\")\n",
    "osm_building_gdf = osm_building_gdf.to_crs(\"EPSG:3857\")\n",
    "\n",
    "osm_building_gdf.crs"
   ]
  },
  {
   "cell_type": "code",
   "execution_count": 8,
   "metadata": {},
   "outputs": [
    {
     "output_type": "execute_result",
     "data": {
      "text/plain": [
       "   num                   name                           address        lat  \\\n",
       "0   58         AROUCHE HOCINE   CITE BEN HAMMADI ALLAL Timimoun  29.261691   \n",
       "1   55          BENHADJ AHMED  CITE DES 40 LOGTS LOCAL 25 Adrar  28.017440   \n",
       "2   56        BARIK BOUDJEMAA       CITE 103 LOGTS BP 575 Adrar  28.017440   \n",
       "3   17  BOUDJELTIA ABDELKADER          42 RUE DES MARTYRS Chlef  36.157966   \n",
       "4  202      BEN DAOUDIA DRISS       1 CITE 136 LOGTS BT I Chlef  36.157966   \n",
       "\n",
       "        lon  code_wil  to_check                   geometry  \n",
       "0  0.241596         1     False   POINT (0.24160 29.26169)  \n",
       "1 -0.264250         1     False  POINT (-0.26425 28.01744)  \n",
       "2 -0.264250         1     False  POINT (-0.26425 28.01744)  \n",
       "3  1.337282         2     False   POINT (1.33728 36.15797)  \n",
       "4  1.337282         2     False   POINT (1.33728 36.15797)  "
      ],
      "text/html": "<div>\n<style scoped>\n    .dataframe tbody tr th:only-of-type {\n        vertical-align: middle;\n    }\n\n    .dataframe tbody tr th {\n        vertical-align: top;\n    }\n\n    .dataframe thead th {\n        text-align: right;\n    }\n</style>\n<table border=\"1\" class=\"dataframe\">\n  <thead>\n    <tr style=\"text-align: right;\">\n      <th></th>\n      <th>num</th>\n      <th>name</th>\n      <th>address</th>\n      <th>lat</th>\n      <th>lon</th>\n      <th>code_wil</th>\n      <th>to_check</th>\n      <th>geometry</th>\n    </tr>\n  </thead>\n  <tbody>\n    <tr>\n      <th>0</th>\n      <td>58</td>\n      <td>AROUCHE HOCINE</td>\n      <td>CITE BEN HAMMADI ALLAL Timimoun</td>\n      <td>29.261691</td>\n      <td>0.241596</td>\n      <td>1</td>\n      <td>False</td>\n      <td>POINT (0.24160 29.26169)</td>\n    </tr>\n    <tr>\n      <th>1</th>\n      <td>55</td>\n      <td>BENHADJ AHMED</td>\n      <td>CITE DES 40 LOGTS LOCAL 25 Adrar</td>\n      <td>28.017440</td>\n      <td>-0.264250</td>\n      <td>1</td>\n      <td>False</td>\n      <td>POINT (-0.26425 28.01744)</td>\n    </tr>\n    <tr>\n      <th>2</th>\n      <td>56</td>\n      <td>BARIK BOUDJEMAA</td>\n      <td>CITE 103 LOGTS BP 575 Adrar</td>\n      <td>28.017440</td>\n      <td>-0.264250</td>\n      <td>1</td>\n      <td>False</td>\n      <td>POINT (-0.26425 28.01744)</td>\n    </tr>\n    <tr>\n      <th>3</th>\n      <td>17</td>\n      <td>BOUDJELTIA ABDELKADER</td>\n      <td>42 RUE DES MARTYRS Chlef</td>\n      <td>36.157966</td>\n      <td>1.337282</td>\n      <td>2</td>\n      <td>False</td>\n      <td>POINT (1.33728 36.15797)</td>\n    </tr>\n    <tr>\n      <th>4</th>\n      <td>202</td>\n      <td>BEN DAOUDIA DRISS</td>\n      <td>1 CITE 136 LOGTS BT I Chlef</td>\n      <td>36.157966</td>\n      <td>1.337282</td>\n      <td>2</td>\n      <td>False</td>\n      <td>POINT (1.33728 36.15797)</td>\n    </tr>\n  </tbody>\n</table>\n</div>"
     },
     "metadata": {},
     "execution_count": 8
    }
   ],
   "source": [
    "# Load the targeted dataset\n",
    "pois_path = '../dz-datasets/notaries/'\n",
    "pois = gpd.read_file(pois_path + 'pois_checked_in_out_wilayas.geojson')\n",
    "pois.head()"
   ]
  },
  {
   "cell_type": "code",
   "execution_count": 9,
   "metadata": {},
   "outputs": [
    {
     "output_type": "execute_result",
     "data": {
      "text/plain": [
       "<Projected CRS: EPSG:3857>\n",
       "Name: WGS 84 / Pseudo-Mercator\n",
       "Axis Info [cartesian]:\n",
       "- X[east]: Easting (metre)\n",
       "- Y[north]: Northing (metre)\n",
       "Area of Use:\n",
       "- name: World - 85°S to 85°N\n",
       "- bounds: (-180.0, -85.06, 180.0, 85.06)\n",
       "Coordinate Operation:\n",
       "- name: Popular Visualisation Pseudo-Mercator\n",
       "- method: Popular Visualisation Pseudo Mercator\n",
       "Datum: World Geodetic System 1984\n",
       "- Ellipsoid: WGS 84\n",
       "- Prime Meridian: Greenwich"
      ]
     },
     "metadata": {},
     "execution_count": 9
    }
   ],
   "source": [
    "# Define source CRS to geographic and project to a Pseudo-Mercator\n",
    "# Useful for spatial analysis (buffer, intersect, ...)\n",
    "\n",
    "pois = pois.set_crs(\"EPSG:4326\")\n",
    "pois = pois.to_crs(\"EPSG:3857\")\n",
    "pois.crs"
   ]
  },
  {
   "cell_type": "code",
   "execution_count": 10,
   "metadata": {},
   "outputs": [
    {
     "output_type": "execute_result",
     "data": {
      "text/plain": [
       "   num                                           geometry\n",
       "0   58  POLYGON ((27394.388 3408995.798, 27391.981 340...\n",
       "1   55  POLYGON ((-28916.142 3251172.790, -28918.550 3...\n",
       "2   56  POLYGON ((-28916.142 3251172.790, -28918.550 3...\n",
       "3   17  POLYGON ((149365.585 4322379.131, 149363.177 4...\n",
       "4  202  POLYGON ((149365.585 4322379.131, 149363.177 4..."
      ],
      "text/html": "<div>\n<style scoped>\n    .dataframe tbody tr th:only-of-type {\n        vertical-align: middle;\n    }\n\n    .dataframe tbody tr th {\n        vertical-align: top;\n    }\n\n    .dataframe thead th {\n        text-align: right;\n    }\n</style>\n<table border=\"1\" class=\"dataframe\">\n  <thead>\n    <tr style=\"text-align: right;\">\n      <th></th>\n      <th>num</th>\n      <th>geometry</th>\n    </tr>\n  </thead>\n  <tbody>\n    <tr>\n      <th>0</th>\n      <td>58</td>\n      <td>POLYGON ((27394.388 3408995.798, 27391.981 340...</td>\n    </tr>\n    <tr>\n      <th>1</th>\n      <td>55</td>\n      <td>POLYGON ((-28916.142 3251172.790, -28918.550 3...</td>\n    </tr>\n    <tr>\n      <th>2</th>\n      <td>56</td>\n      <td>POLYGON ((-28916.142 3251172.790, -28918.550 3...</td>\n    </tr>\n    <tr>\n      <th>3</th>\n      <td>17</td>\n      <td>POLYGON ((149365.585 4322379.131, 149363.177 4...</td>\n    </tr>\n    <tr>\n      <th>4</th>\n      <td>202</td>\n      <td>POLYGON ((149365.585 4322379.131, 149363.177 4...</td>\n    </tr>\n  </tbody>\n</table>\n</div>"
     },
     "metadata": {},
     "execution_count": 10
    }
   ],
   "source": [
    "# Replace DataFrame geometries with buffers and write it to a file\n",
    "pois['buffer'] = pois.geometry.buffer(500)\n",
    "buffers = pois[['num', 'buffer']]\n",
    "buffers = buffers.rename(columns={'buffer': 'geometry'})\n",
    "buffers = gpd.GeoDataFrame(buffers)\n",
    "buffers = buffers.set_crs(\"EPSG:3857\")\n",
    "#gpd.GeoDataFrame(buffers).to_file(pois_path + \"buffers.geojson\", driver='GeoJSON')\n",
    "buffers.head()"
   ]
  },
  {
   "cell_type": "code",
   "execution_count": 11,
   "metadata": {},
   "outputs": [
    {
     "output_type": "execute_result",
     "data": {
      "text/plain": [
       "num         78146\n",
       "osm_id      78146\n",
       "code        78146\n",
       "fclass      78146\n",
       "name         6801\n",
       "type        18732\n",
       "geometry    78146\n",
       "dtype: int64"
      ]
     },
     "metadata": {},
     "execution_count": 11
    }
   ],
   "source": [
    "# Search for buildings that intersect the locations buffers\n",
    "res_intersection = gpd.overlay(buffers, osm_building_gdf, how='intersection')\n",
    "res_intersection.count()"
   ]
  },
  {
   "cell_type": "code",
   "execution_count": 12,
   "metadata": {},
   "outputs": [
    {
     "output_type": "execute_result",
     "data": {
      "text/plain": [
       "   num     osm_id  code    fclass  name         type  \\\n",
       "0   58  745144709  1500  building  None         None   \n",
       "1   17  427245931  1500  building  None  residential   \n",
       "2  202  427245931  1500  building  None  residential   \n",
       "3  121  427245931  1500  building  None  residential   \n",
       "4  122  427245931  1500  building  None  residential   \n",
       "\n",
       "                                            geometry  \n",
       "0  POLYGON ((26441.936 3409207.201, 26453.428 340...  \n",
       "1  POLYGON ((149114.689 4322812.057, 149123.703 4...  \n",
       "2  POLYGON ((149114.689 4322812.057, 149123.703 4...  \n",
       "3  POLYGON ((149114.689 4322812.057, 149123.703 4...  \n",
       "4  POLYGON ((149114.689 4322812.057, 149123.703 4...  "
      ],
      "text/html": "<div>\n<style scoped>\n    .dataframe tbody tr th:only-of-type {\n        vertical-align: middle;\n    }\n\n    .dataframe tbody tr th {\n        vertical-align: top;\n    }\n\n    .dataframe thead th {\n        text-align: right;\n    }\n</style>\n<table border=\"1\" class=\"dataframe\">\n  <thead>\n    <tr style=\"text-align: right;\">\n      <th></th>\n      <th>num</th>\n      <th>osm_id</th>\n      <th>code</th>\n      <th>fclass</th>\n      <th>name</th>\n      <th>type</th>\n      <th>geometry</th>\n    </tr>\n  </thead>\n  <tbody>\n    <tr>\n      <th>0</th>\n      <td>58</td>\n      <td>745144709</td>\n      <td>1500</td>\n      <td>building</td>\n      <td>None</td>\n      <td>None</td>\n      <td>POLYGON ((26441.936 3409207.201, 26453.428 340...</td>\n    </tr>\n    <tr>\n      <th>1</th>\n      <td>17</td>\n      <td>427245931</td>\n      <td>1500</td>\n      <td>building</td>\n      <td>None</td>\n      <td>residential</td>\n      <td>POLYGON ((149114.689 4322812.057, 149123.703 4...</td>\n    </tr>\n    <tr>\n      <th>2</th>\n      <td>202</td>\n      <td>427245931</td>\n      <td>1500</td>\n      <td>building</td>\n      <td>None</td>\n      <td>residential</td>\n      <td>POLYGON ((149114.689 4322812.057, 149123.703 4...</td>\n    </tr>\n    <tr>\n      <th>3</th>\n      <td>121</td>\n      <td>427245931</td>\n      <td>1500</td>\n      <td>building</td>\n      <td>None</td>\n      <td>residential</td>\n      <td>POLYGON ((149114.689 4322812.057, 149123.703 4...</td>\n    </tr>\n    <tr>\n      <th>4</th>\n      <td>122</td>\n      <td>427245931</td>\n      <td>1500</td>\n      <td>building</td>\n      <td>None</td>\n      <td>residential</td>\n      <td>POLYGON ((149114.689 4322812.057, 149123.703 4...</td>\n    </tr>\n  </tbody>\n</table>\n</div>"
     },
     "metadata": {},
     "execution_count": 12
    }
   ],
   "source": [
    "res_intersection.head()"
   ]
  },
  {
   "cell_type": "code",
   "execution_count": 13,
   "metadata": {},
   "outputs": [
    {
     "output_type": "execute_result",
     "data": {
      "text/plain": [
       "   num                                           geometry\n",
       "0   58  POLYGON ((26441.936 3409207.201, 26453.428 340...\n",
       "1   17  POLYGON ((149114.689 4322812.057, 149123.703 4...\n",
       "2  202  POLYGON ((149114.689 4322812.057, 149123.703 4...\n",
       "3  121  POLYGON ((149114.689 4322812.057, 149123.703 4...\n",
       "4  122  POLYGON ((149114.689 4322812.057, 149123.703 4..."
      ],
      "text/html": "<div>\n<style scoped>\n    .dataframe tbody tr th:only-of-type {\n        vertical-align: middle;\n    }\n\n    .dataframe tbody tr th {\n        vertical-align: top;\n    }\n\n    .dataframe thead th {\n        text-align: right;\n    }\n</style>\n<table border=\"1\" class=\"dataframe\">\n  <thead>\n    <tr style=\"text-align: right;\">\n      <th></th>\n      <th>num</th>\n      <th>geometry</th>\n    </tr>\n  </thead>\n  <tbody>\n    <tr>\n      <th>0</th>\n      <td>58</td>\n      <td>POLYGON ((26441.936 3409207.201, 26453.428 340...</td>\n    </tr>\n    <tr>\n      <th>1</th>\n      <td>17</td>\n      <td>POLYGON ((149114.689 4322812.057, 149123.703 4...</td>\n    </tr>\n    <tr>\n      <th>2</th>\n      <td>202</td>\n      <td>POLYGON ((149114.689 4322812.057, 149123.703 4...</td>\n    </tr>\n    <tr>\n      <th>3</th>\n      <td>121</td>\n      <td>POLYGON ((149114.689 4322812.057, 149123.703 4...</td>\n    </tr>\n    <tr>\n      <th>4</th>\n      <td>122</td>\n      <td>POLYGON ((149114.689 4322812.057, 149123.703 4...</td>\n    </tr>\n  </tbody>\n</table>\n</div>"
     },
     "metadata": {},
     "execution_count": 13
    }
   ],
   "source": [
    "# Write intersected building into a GeoJSON file\n",
    "res = res_intersection[['num', 'geometry']]\n",
    "#res.to_file(pois_path + \"intersection.geojson\", driver='GeoJSON')\n",
    "res.head()"
   ]
  },
  {
   "cell_type": "code",
   "execution_count": 14,
   "metadata": {},
   "outputs": [
    {
     "output_type": "execute_result",
     "data": {
      "text/plain": [
       "to_check_osm    624\n",
       "dtype: int64"
      ]
     },
     "metadata": {},
     "execution_count": 14
    }
   ],
   "source": [
    "# Group results of intersection and add a to_check column (if intersect then doesn't need to check)\n",
    "res_grouped = res [['num']]\n",
    "res_grouped = res_grouped.groupby('num').count()\n",
    "res_grouped['to_check_osm'] = False\n",
    "res_grouped.count()"
   ]
  },
  {
   "cell_type": "code",
   "execution_count": 15,
   "metadata": {},
   "outputs": [
    {
     "output_type": "execute_result",
     "data": {
      "text/plain": [
       "num             665\n",
       "name            665\n",
       "address         665\n",
       "lat             665\n",
       "lon             665\n",
       "code_wil        665\n",
       "to_check        665\n",
       "geometry        665\n",
       "to_check_osm    624\n",
       "dtype: int64"
      ]
     },
     "metadata": {},
     "execution_count": 15
    }
   ],
   "source": [
    "# Merge with DataFrame and set geometry to centroids\n",
    "pois_gdf = pois.merge(res_grouped, left_on='num', right_on='num', how='left')\n",
    "pois_gdf.drop(columns=['buffer'], inplace=True)\n",
    "pois_gdf.count()"
   ]
  },
  {
   "cell_type": "code",
   "execution_count": 16,
   "metadata": {},
   "outputs": [
    {
     "output_type": "execute_result",
     "data": {
      "text/plain": [
       "     num                       name  \\\n",
       "1     55              BENHADJ AHMED   \n",
       "2     56            BARIK BOUDJEMAA   \n",
       "30   259              DELINDA KAMEL   \n",
       "40    19            BENHOUDA BRAHIM   \n",
       "105  219         ABDELAOUI ZOULIKHA   \n",
       "126  318                REBII RAFIK   \n",
       "130  648             BALOUT TOUHAMI   \n",
       "162  146                 TOUMI AKLI   \n",
       "169  156          BELACEL BOUBEKEUR   \n",
       "189  616       BOULEKRIAT BOUDJEMAA   \n",
       "225  527           BELGHERBI FARIDA   \n",
       "301  109        BENABDELLAH MOULOUD   \n",
       "318   75            BOURABA MOHAMED   \n",
       "321  172          ABIDELAH MESSAOUD   \n",
       "386  291          RAHEL ABEDELKADER   \n",
       "453  462              FANTAZI HAMID   \n",
       "454  450          FILALI ABDERRAZAK   \n",
       "455  473             KOUADRI YOUSEF   \n",
       "457  208               DJAAFAR SAAD   \n",
       "517  356   BEN HAOUA ABED EL DJELIL   \n",
       "518  362            NAKROUF MOHAMED   \n",
       "520  363     BELMELIANI ABEDELKADER   \n",
       "522  358              WALID MOHAMED   \n",
       "541  644           LAACHOUB MOHAMED   \n",
       "553  325          BOUAZA ABID AHMED   \n",
       "560  632              IDRISSI AHMED   \n",
       "578  239              ACHOURI RABEH   \n",
       "581  469         BERHIHE ABDELGHANI   \n",
       "582  471            BOUKHARI NACIRA   \n",
       "583  511        MENACER ABD LAAZIZE   \n",
       "586  346             TEFANDJAR SAID   \n",
       "595  253              EL AIDI AHMED   \n",
       "614  478        BOUNAMOUSE ABDELHAK   \n",
       "620  218               BOURAS RABEH   \n",
       "646  355              BERACHED SAAD   \n",
       "651  673  SIROUKANE OMAR BEN MOUSSA   \n",
       "654  397            DKHINISSA RABAH   \n",
       "657  374            KOUDRLI MENNOUR   \n",
       "658  370              AZIZI KHATHIR   \n",
       "660  652          KHATHIR ABEDELLAH   \n",
       "664  687         BEN SAADA MUSTAPHA   \n",
       "\n",
       "                                               address        lat         lon  \\\n",
       "1                     CITE DES 40 LOGTS LOCAL 25 Adrar  28.017440   -0.264250   \n",
       "2                          CITE 103 LOGTS BP 575 Adrar  28.017440   -0.264250   \n",
       "30           15 RUE CHENAF AMAR QUARTIER VERDURE Batna  35.532190    6.168609   \n",
       "40                                  5 BD BENFLIS Batna  35.532190    6.168609   \n",
       "105              CITE DES 120 LOGTS BT 1 APPT 3 Bouira  36.538950    3.675159   \n",
       "126                       43 CITE 84 LOGTS Bir El Ater  34.749839    8.057753   \n",
       "130  116 CITE KASMI ABDELKADER RTE BELABES Ouled Mi...  34.904412   -1.034236   \n",
       "162                38 AVENUE KHOUDJA KHALED Tizi Ouzou  36.735307    3.984973   \n",
       "169             RUE AMIROUCHE AIT BEN AMARA Tizi Ouzou  36.738997    4.010825   \n",
       "189                   CITE 47 LOGTS BT 05 02 Kheraicia  36.667911    2.998277   \n",
       "225                 RESIDENCE DES ROSIERS BT A 1 Hydra  36.158310  -95.838298   \n",
       "301                             RUE BELHADID Kheraicia  36.667911    2.998277   \n",
       "318                 PL 1ER MAI GROUPE 10 BT B  1er Mai  36.048161  -95.886876   \n",
       "321                          2EME GROUPE BT I  1er Mai  36.048161  -95.886876   \n",
       "386                    RUE DES FRERES CHETIOUI Amoucha  36.387944    5.411062   \n",
       "453  CITE EL DAKSI ABDELSALEM BT KQ BLOC 1 LOCAL 5 ...  41.841141  -85.669719   \n",
       "454              2 CITE DES MAGISTRATS Boussouf (cite)  44.836643   -0.579026   \n",
       "455                 148 RUE ALI GHACHI Didouche Mourad  48.837079    2.365043   \n",
       "457         2 RUE  ABED EL KRIM BOUBERTAKH Constantine  28.033886    1.659626   \n",
       "517                         8 RUE MHOUR IDRISS Mascara  35.083432  -89.807304   \n",
       "518           CITE 23 LOGTS BT C/17 VILLE NOUVELLE Sig  34.023018   -4.998270   \n",
       "520                          23 RUE ZIGHOUD YOUCEF Sig  35.533020   -0.198607   \n",
       "522                          6 RUE MOHOR DRISS Mascara  34.434151 -119.920204   \n",
       "541                            2 RUE DES MARTYRS Arzew  35.802020   -0.370675   \n",
       "553      60 RUE CHARIT ALI CHERIF Oran El M'naouer Ctr  42.733707  -84.535104   \n",
       "560              42 LOGTS NOUVELLE ZONE URBAINE Illizi  26.477586    8.477633   \n",
       "578                  RUE HAMDI ABDELLAH MADJID El Tarf  36.757668    8.307634   \n",
       "581                      25 RUE ZEMOURI MOHAMMED Drean  36.686563    7.720806   \n",
       "582                 BOULEVARD ARASSI ABD ELMADJID Dren  42.589120  -71.154570   \n",
       "583                             CITE 46 LOGTS 44 Drean  36.686563    7.720806   \n",
       "586                          CITE 100 LOGTS Tissemsilt  35.659722    1.535146   \n",
       "595                    CITE SALAH SOUFI BT 4/2 Sedrata  36.134525    7.529748   \n",
       "614                       RUE ALI ZEGHDOUD 20 BIS Mila  42.383608  -87.944697   \n",
       "620                      DAIRA DE TELAGHMA Oued Seguen  36.178719    6.388919   \n",
       "646                   91 RUE DE LA REPUBLIQUE Beni Saf  35.289786   -1.376886   \n",
       "651    RUE CHEIKH ABDELAZIZ ETHAMNI BP 138 Beni Isguen  32.462772    3.679272   \n",
       "654  RUE ACHAHMA MOUSSA CITE THENIET EL MAKHZEN Gha...  32.475928    3.684691   \n",
       "657                        RUE CTRE COMMERCIAL Mazouna  36.126470    0.890610   \n",
       "658                   RUE BEN KAHLA MENOUER Oued Rhiou  35.977005    0.924750   \n",
       "660                   RUE BEN KOUDIA MAAMAR Oued Rhiou  35.977005    0.924750   \n",
       "664                        CITE ADMINISTRATIVE Mazouna  36.126470    0.890610   \n",
       "\n",
       "     code_wil  to_check                           geometry  to_check_osm  \n",
       "1           1     False     POINT (-29416.142 3251172.790)          True  \n",
       "2           1     False     POINT (-29416.142 3251172.790)          True  \n",
       "30          5     False     POINT (686686.457 4236440.873)          True  \n",
       "40          5     False     POINT (686686.457 4236440.873)          True  \n",
       "105        10     False     POINT (409116.828 4375035.759)          True  \n",
       "126        12     False     POINT (896984.916 4129937.016)          True  \n",
       "130        13     False    POINT (-115130.603 4150898.638)          True  \n",
       "162        15     False     POINT (443605.132 4402275.909)          True  \n",
       "169        15     False     POINT (446483.008 4402788.551)          True  \n",
       "189        16     False     POINT (333766.647 4392918.357)          True  \n",
       "225        16      True  POINT (-10668670.498 4322426.437)          True  \n",
       "301        16     False     POINT (333766.647 4392918.357)          True  \n",
       "318        16      True  POINT (-10674078.166 4307250.249)          True  \n",
       "321        16      True  POINT (-10674078.166 4307250.249)          True  \n",
       "386        19     False     POINT (602356.700 4354133.982)          True  \n",
       "453        25      True   POINT (-9536709.473 5137212.700)          True  \n",
       "454        25      True     POINT (-64456.902 5595840.858)          True  \n",
       "455        25      True     POINT (263275.371 6247262.221)          True  \n",
       "457        25      True     POINT (184748.721 3253246.711)          True  \n",
       "517        29      True   POINT (-9997303.295 4175225.062)          True  \n",
       "518        29      True    POINT (-556404.916 4031893.267)          True  \n",
       "520        29     False     POINT (-22108.808 4236554.451)          True  \n",
       "522        29      True  POINT (-13349456.034 4087247.985)          True  \n",
       "541        31     False     POINT (-41263.408 4273413.782)          True  \n",
       "553        31      True   POINT (-9410404.765 5271526.819)          True  \n",
       "560        33     False     POINT (943725.744 3058353.305)          True  \n",
       "578        36     False     POINT (924801.620 4405382.417)          True  \n",
       "581        36     False     POINT (859476.215 4395507.257)          True  \n",
       "582        36      True   POINT (-7920890.500 5249639.373)          True  \n",
       "583        36     False     POINT (859476.215 4395507.257)          True  \n",
       "586        38     False     POINT (170891.638 4253900.028)          True  \n",
       "595        41     False     POINT (838207.669 4319147.614)          True  \n",
       "614        43      True   POINT (-9789958.910 5218616.443)          True  \n",
       "620        43     False     POINT (711211.254 4325240.792)          True  \n",
       "646        46     False    POINT (-153274.204 4203331.984)          True  \n",
       "651        47     False     POINT (409574.674 3824211.092)          True  \n",
       "654        47     False     POINT (410177.881 3825946.952)          True  \n",
       "657        48     False      POINT (99142.274 4318037.432)          True  \n",
       "658        48     False     POINT (102942.710 4297457.729)          True  \n",
       "660        48     False     POINT (102942.710 4297457.729)          True  \n",
       "664        48     False      POINT (99142.274 4318037.432)          True  "
      ],
      "text/html": "<div>\n<style scoped>\n    .dataframe tbody tr th:only-of-type {\n        vertical-align: middle;\n    }\n\n    .dataframe tbody tr th {\n        vertical-align: top;\n    }\n\n    .dataframe thead th {\n        text-align: right;\n    }\n</style>\n<table border=\"1\" class=\"dataframe\">\n  <thead>\n    <tr style=\"text-align: right;\">\n      <th></th>\n      <th>num</th>\n      <th>name</th>\n      <th>address</th>\n      <th>lat</th>\n      <th>lon</th>\n      <th>code_wil</th>\n      <th>to_check</th>\n      <th>geometry</th>\n      <th>to_check_osm</th>\n    </tr>\n  </thead>\n  <tbody>\n    <tr>\n      <th>1</th>\n      <td>55</td>\n      <td>BENHADJ AHMED</td>\n      <td>CITE DES 40 LOGTS LOCAL 25 Adrar</td>\n      <td>28.017440</td>\n      <td>-0.264250</td>\n      <td>1</td>\n      <td>False</td>\n      <td>POINT (-29416.142 3251172.790)</td>\n      <td>True</td>\n    </tr>\n    <tr>\n      <th>2</th>\n      <td>56</td>\n      <td>BARIK BOUDJEMAA</td>\n      <td>CITE 103 LOGTS BP 575 Adrar</td>\n      <td>28.017440</td>\n      <td>-0.264250</td>\n      <td>1</td>\n      <td>False</td>\n      <td>POINT (-29416.142 3251172.790)</td>\n      <td>True</td>\n    </tr>\n    <tr>\n      <th>30</th>\n      <td>259</td>\n      <td>DELINDA KAMEL</td>\n      <td>15 RUE CHENAF AMAR QUARTIER VERDURE Batna</td>\n      <td>35.532190</td>\n      <td>6.168609</td>\n      <td>5</td>\n      <td>False</td>\n      <td>POINT (686686.457 4236440.873)</td>\n      <td>True</td>\n    </tr>\n    <tr>\n      <th>40</th>\n      <td>19</td>\n      <td>BENHOUDA BRAHIM</td>\n      <td>5 BD BENFLIS Batna</td>\n      <td>35.532190</td>\n      <td>6.168609</td>\n      <td>5</td>\n      <td>False</td>\n      <td>POINT (686686.457 4236440.873)</td>\n      <td>True</td>\n    </tr>\n    <tr>\n      <th>105</th>\n      <td>219</td>\n      <td>ABDELAOUI ZOULIKHA</td>\n      <td>CITE DES 120 LOGTS BT 1 APPT 3 Bouira</td>\n      <td>36.538950</td>\n      <td>3.675159</td>\n      <td>10</td>\n      <td>False</td>\n      <td>POINT (409116.828 4375035.759)</td>\n      <td>True</td>\n    </tr>\n    <tr>\n      <th>126</th>\n      <td>318</td>\n      <td>REBII RAFIK</td>\n      <td>43 CITE 84 LOGTS Bir El Ater</td>\n      <td>34.749839</td>\n      <td>8.057753</td>\n      <td>12</td>\n      <td>False</td>\n      <td>POINT (896984.916 4129937.016)</td>\n      <td>True</td>\n    </tr>\n    <tr>\n      <th>130</th>\n      <td>648</td>\n      <td>BALOUT TOUHAMI</td>\n      <td>116 CITE KASMI ABDELKADER RTE BELABES Ouled Mi...</td>\n      <td>34.904412</td>\n      <td>-1.034236</td>\n      <td>13</td>\n      <td>False</td>\n      <td>POINT (-115130.603 4150898.638)</td>\n      <td>True</td>\n    </tr>\n    <tr>\n      <th>162</th>\n      <td>146</td>\n      <td>TOUMI AKLI</td>\n      <td>38 AVENUE KHOUDJA KHALED Tizi Ouzou</td>\n      <td>36.735307</td>\n      <td>3.984973</td>\n      <td>15</td>\n      <td>False</td>\n      <td>POINT (443605.132 4402275.909)</td>\n      <td>True</td>\n    </tr>\n    <tr>\n      <th>169</th>\n      <td>156</td>\n      <td>BELACEL BOUBEKEUR</td>\n      <td>RUE AMIROUCHE AIT BEN AMARA Tizi Ouzou</td>\n      <td>36.738997</td>\n      <td>4.010825</td>\n      <td>15</td>\n      <td>False</td>\n      <td>POINT (446483.008 4402788.551)</td>\n      <td>True</td>\n    </tr>\n    <tr>\n      <th>189</th>\n      <td>616</td>\n      <td>BOULEKRIAT BOUDJEMAA</td>\n      <td>CITE 47 LOGTS BT 05 02 Kheraicia</td>\n      <td>36.667911</td>\n      <td>2.998277</td>\n      <td>16</td>\n      <td>False</td>\n      <td>POINT (333766.647 4392918.357)</td>\n      <td>True</td>\n    </tr>\n    <tr>\n      <th>225</th>\n      <td>527</td>\n      <td>BELGHERBI FARIDA</td>\n      <td>RESIDENCE DES ROSIERS BT A 1 Hydra</td>\n      <td>36.158310</td>\n      <td>-95.838298</td>\n      <td>16</td>\n      <td>True</td>\n      <td>POINT (-10668670.498 4322426.437)</td>\n      <td>True</td>\n    </tr>\n    <tr>\n      <th>301</th>\n      <td>109</td>\n      <td>BENABDELLAH MOULOUD</td>\n      <td>RUE BELHADID Kheraicia</td>\n      <td>36.667911</td>\n      <td>2.998277</td>\n      <td>16</td>\n      <td>False</td>\n      <td>POINT (333766.647 4392918.357)</td>\n      <td>True</td>\n    </tr>\n    <tr>\n      <th>318</th>\n      <td>75</td>\n      <td>BOURABA MOHAMED</td>\n      <td>PL 1ER MAI GROUPE 10 BT B  1er Mai</td>\n      <td>36.048161</td>\n      <td>-95.886876</td>\n      <td>16</td>\n      <td>True</td>\n      <td>POINT (-10674078.166 4307250.249)</td>\n      <td>True</td>\n    </tr>\n    <tr>\n      <th>321</th>\n      <td>172</td>\n      <td>ABIDELAH MESSAOUD</td>\n      <td>2EME GROUPE BT I  1er Mai</td>\n      <td>36.048161</td>\n      <td>-95.886876</td>\n      <td>16</td>\n      <td>True</td>\n      <td>POINT (-10674078.166 4307250.249)</td>\n      <td>True</td>\n    </tr>\n    <tr>\n      <th>386</th>\n      <td>291</td>\n      <td>RAHEL ABEDELKADER</td>\n      <td>RUE DES FRERES CHETIOUI Amoucha</td>\n      <td>36.387944</td>\n      <td>5.411062</td>\n      <td>19</td>\n      <td>False</td>\n      <td>POINT (602356.700 4354133.982)</td>\n      <td>True</td>\n    </tr>\n    <tr>\n      <th>453</th>\n      <td>462</td>\n      <td>FANTAZI HAMID</td>\n      <td>CITE EL DAKSI ABDELSALEM BT KQ BLOC 1 LOCAL 5 ...</td>\n      <td>41.841141</td>\n      <td>-85.669719</td>\n      <td>25</td>\n      <td>True</td>\n      <td>POINT (-9536709.473 5137212.700)</td>\n      <td>True</td>\n    </tr>\n    <tr>\n      <th>454</th>\n      <td>450</td>\n      <td>FILALI ABDERRAZAK</td>\n      <td>2 CITE DES MAGISTRATS Boussouf (cite)</td>\n      <td>44.836643</td>\n      <td>-0.579026</td>\n      <td>25</td>\n      <td>True</td>\n      <td>POINT (-64456.902 5595840.858)</td>\n      <td>True</td>\n    </tr>\n    <tr>\n      <th>455</th>\n      <td>473</td>\n      <td>KOUADRI YOUSEF</td>\n      <td>148 RUE ALI GHACHI Didouche Mourad</td>\n      <td>48.837079</td>\n      <td>2.365043</td>\n      <td>25</td>\n      <td>True</td>\n      <td>POINT (263275.371 6247262.221)</td>\n      <td>True</td>\n    </tr>\n    <tr>\n      <th>457</th>\n      <td>208</td>\n      <td>DJAAFAR SAAD</td>\n      <td>2 RUE  ABED EL KRIM BOUBERTAKH Constantine</td>\n      <td>28.033886</td>\n      <td>1.659626</td>\n      <td>25</td>\n      <td>True</td>\n      <td>POINT (184748.721 3253246.711)</td>\n      <td>True</td>\n    </tr>\n    <tr>\n      <th>517</th>\n      <td>356</td>\n      <td>BEN HAOUA ABED EL DJELIL</td>\n      <td>8 RUE MHOUR IDRISS Mascara</td>\n      <td>35.083432</td>\n      <td>-89.807304</td>\n      <td>29</td>\n      <td>True</td>\n      <td>POINT (-9997303.295 4175225.062)</td>\n      <td>True</td>\n    </tr>\n    <tr>\n      <th>518</th>\n      <td>362</td>\n      <td>NAKROUF MOHAMED</td>\n      <td>CITE 23 LOGTS BT C/17 VILLE NOUVELLE Sig</td>\n      <td>34.023018</td>\n      <td>-4.998270</td>\n      <td>29</td>\n      <td>True</td>\n      <td>POINT (-556404.916 4031893.267)</td>\n      <td>True</td>\n    </tr>\n    <tr>\n      <th>520</th>\n      <td>363</td>\n      <td>BELMELIANI ABEDELKADER</td>\n      <td>23 RUE ZIGHOUD YOUCEF Sig</td>\n      <td>35.533020</td>\n      <td>-0.198607</td>\n      <td>29</td>\n      <td>False</td>\n      <td>POINT (-22108.808 4236554.451)</td>\n      <td>True</td>\n    </tr>\n    <tr>\n      <th>522</th>\n      <td>358</td>\n      <td>WALID MOHAMED</td>\n      <td>6 RUE MOHOR DRISS Mascara</td>\n      <td>34.434151</td>\n      <td>-119.920204</td>\n      <td>29</td>\n      <td>True</td>\n      <td>POINT (-13349456.034 4087247.985)</td>\n      <td>True</td>\n    </tr>\n    <tr>\n      <th>541</th>\n      <td>644</td>\n      <td>LAACHOUB MOHAMED</td>\n      <td>2 RUE DES MARTYRS Arzew</td>\n      <td>35.802020</td>\n      <td>-0.370675</td>\n      <td>31</td>\n      <td>False</td>\n      <td>POINT (-41263.408 4273413.782)</td>\n      <td>True</td>\n    </tr>\n    <tr>\n      <th>553</th>\n      <td>325</td>\n      <td>BOUAZA ABID AHMED</td>\n      <td>60 RUE CHARIT ALI CHERIF Oran El M'naouer Ctr</td>\n      <td>42.733707</td>\n      <td>-84.535104</td>\n      <td>31</td>\n      <td>True</td>\n      <td>POINT (-9410404.765 5271526.819)</td>\n      <td>True</td>\n    </tr>\n    <tr>\n      <th>560</th>\n      <td>632</td>\n      <td>IDRISSI AHMED</td>\n      <td>42 LOGTS NOUVELLE ZONE URBAINE Illizi</td>\n      <td>26.477586</td>\n      <td>8.477633</td>\n      <td>33</td>\n      <td>False</td>\n      <td>POINT (943725.744 3058353.305)</td>\n      <td>True</td>\n    </tr>\n    <tr>\n      <th>578</th>\n      <td>239</td>\n      <td>ACHOURI RABEH</td>\n      <td>RUE HAMDI ABDELLAH MADJID El Tarf</td>\n      <td>36.757668</td>\n      <td>8.307634</td>\n      <td>36</td>\n      <td>False</td>\n      <td>POINT (924801.620 4405382.417)</td>\n      <td>True</td>\n    </tr>\n    <tr>\n      <th>581</th>\n      <td>469</td>\n      <td>BERHIHE ABDELGHANI</td>\n      <td>25 RUE ZEMOURI MOHAMMED Drean</td>\n      <td>36.686563</td>\n      <td>7.720806</td>\n      <td>36</td>\n      <td>False</td>\n      <td>POINT (859476.215 4395507.257)</td>\n      <td>True</td>\n    </tr>\n    <tr>\n      <th>582</th>\n      <td>471</td>\n      <td>BOUKHARI NACIRA</td>\n      <td>BOULEVARD ARASSI ABD ELMADJID Dren</td>\n      <td>42.589120</td>\n      <td>-71.154570</td>\n      <td>36</td>\n      <td>True</td>\n      <td>POINT (-7920890.500 5249639.373)</td>\n      <td>True</td>\n    </tr>\n    <tr>\n      <th>583</th>\n      <td>511</td>\n      <td>MENACER ABD LAAZIZE</td>\n      <td>CITE 46 LOGTS 44 Drean</td>\n      <td>36.686563</td>\n      <td>7.720806</td>\n      <td>36</td>\n      <td>False</td>\n      <td>POINT (859476.215 4395507.257)</td>\n      <td>True</td>\n    </tr>\n    <tr>\n      <th>586</th>\n      <td>346</td>\n      <td>TEFANDJAR SAID</td>\n      <td>CITE 100 LOGTS Tissemsilt</td>\n      <td>35.659722</td>\n      <td>1.535146</td>\n      <td>38</td>\n      <td>False</td>\n      <td>POINT (170891.638 4253900.028)</td>\n      <td>True</td>\n    </tr>\n    <tr>\n      <th>595</th>\n      <td>253</td>\n      <td>EL AIDI AHMED</td>\n      <td>CITE SALAH SOUFI BT 4/2 Sedrata</td>\n      <td>36.134525</td>\n      <td>7.529748</td>\n      <td>41</td>\n      <td>False</td>\n      <td>POINT (838207.669 4319147.614)</td>\n      <td>True</td>\n    </tr>\n    <tr>\n      <th>614</th>\n      <td>478</td>\n      <td>BOUNAMOUSE ABDELHAK</td>\n      <td>RUE ALI ZEGHDOUD 20 BIS Mila</td>\n      <td>42.383608</td>\n      <td>-87.944697</td>\n      <td>43</td>\n      <td>True</td>\n      <td>POINT (-9789958.910 5218616.443)</td>\n      <td>True</td>\n    </tr>\n    <tr>\n      <th>620</th>\n      <td>218</td>\n      <td>BOURAS RABEH</td>\n      <td>DAIRA DE TELAGHMA Oued Seguen</td>\n      <td>36.178719</td>\n      <td>6.388919</td>\n      <td>43</td>\n      <td>False</td>\n      <td>POINT (711211.254 4325240.792)</td>\n      <td>True</td>\n    </tr>\n    <tr>\n      <th>646</th>\n      <td>355</td>\n      <td>BERACHED SAAD</td>\n      <td>91 RUE DE LA REPUBLIQUE Beni Saf</td>\n      <td>35.289786</td>\n      <td>-1.376886</td>\n      <td>46</td>\n      <td>False</td>\n      <td>POINT (-153274.204 4203331.984)</td>\n      <td>True</td>\n    </tr>\n    <tr>\n      <th>651</th>\n      <td>673</td>\n      <td>SIROUKANE OMAR BEN MOUSSA</td>\n      <td>RUE CHEIKH ABDELAZIZ ETHAMNI BP 138 Beni Isguen</td>\n      <td>32.462772</td>\n      <td>3.679272</td>\n      <td>47</td>\n      <td>False</td>\n      <td>POINT (409574.674 3824211.092)</td>\n      <td>True</td>\n    </tr>\n    <tr>\n      <th>654</th>\n      <td>397</td>\n      <td>DKHINISSA RABAH</td>\n      <td>RUE ACHAHMA MOUSSA CITE THENIET EL MAKHZEN Gha...</td>\n      <td>32.475928</td>\n      <td>3.684691</td>\n      <td>47</td>\n      <td>False</td>\n      <td>POINT (410177.881 3825946.952)</td>\n      <td>True</td>\n    </tr>\n    <tr>\n      <th>657</th>\n      <td>374</td>\n      <td>KOUDRLI MENNOUR</td>\n      <td>RUE CTRE COMMERCIAL Mazouna</td>\n      <td>36.126470</td>\n      <td>0.890610</td>\n      <td>48</td>\n      <td>False</td>\n      <td>POINT (99142.274 4318037.432)</td>\n      <td>True</td>\n    </tr>\n    <tr>\n      <th>658</th>\n      <td>370</td>\n      <td>AZIZI KHATHIR</td>\n      <td>RUE BEN KAHLA MENOUER Oued Rhiou</td>\n      <td>35.977005</td>\n      <td>0.924750</td>\n      <td>48</td>\n      <td>False</td>\n      <td>POINT (102942.710 4297457.729)</td>\n      <td>True</td>\n    </tr>\n    <tr>\n      <th>660</th>\n      <td>652</td>\n      <td>KHATHIR ABEDELLAH</td>\n      <td>RUE BEN KOUDIA MAAMAR Oued Rhiou</td>\n      <td>35.977005</td>\n      <td>0.924750</td>\n      <td>48</td>\n      <td>False</td>\n      <td>POINT (102942.710 4297457.729)</td>\n      <td>True</td>\n    </tr>\n    <tr>\n      <th>664</th>\n      <td>687</td>\n      <td>BEN SAADA MUSTAPHA</td>\n      <td>CITE ADMINISTRATIVE Mazouna</td>\n      <td>36.126470</td>\n      <td>0.890610</td>\n      <td>48</td>\n      <td>False</td>\n      <td>POINT (99142.274 4318037.432)</td>\n      <td>True</td>\n    </tr>\n  </tbody>\n</table>\n</div>"
     },
     "metadata": {},
     "execution_count": 16
    }
   ],
   "source": [
    "# Update to_check column :if doesn't intersect then we need to check it manually\n",
    "pois_gdf['to_check_osm'] = pois_gdf.apply(lambda row: row.to_check_osm != False, axis=1)\n",
    "pois_gdf[pois_gdf['to_check_osm'] != False]"
   ]
  },
  {
   "cell_type": "code",
   "execution_count": 17,
   "metadata": {},
   "outputs": [
    {
     "output_type": "execute_result",
     "data": {
      "text/plain": [
       "     num                       name  \\\n",
       "1     55              BENHADJ AHMED   \n",
       "2     56            BARIK BOUDJEMAA   \n",
       "30   259              DELINDA KAMEL   \n",
       "40    19            BENHOUDA BRAHIM   \n",
       "92   189              DRAFLI HOURIA   \n",
       "105  219         ABDELAOUI ZOULIKHA   \n",
       "126  318                REBII RAFIK   \n",
       "130  648             BALOUT TOUHAMI   \n",
       "162  146                 TOUMI AKLI   \n",
       "169  156          BELACEL BOUBEKEUR   \n",
       "189  616       BOULEKRIAT BOUDJEMAA   \n",
       "225  527           BELGHERBI FARIDA   \n",
       "301  109        BENABDELLAH MOULOUD   \n",
       "318   75            BOURABA MOHAMED   \n",
       "321  172          ABIDELAH MESSAOUD   \n",
       "322  436    BEN KABOU MOHAMED FERIH   \n",
       "386  291          RAHEL ABEDELKADER   \n",
       "453  462              FANTAZI HAMID   \n",
       "454  450          FILALI ABDERRAZAK   \n",
       "455  473             KOUADRI YOUSEF   \n",
       "457  208               DJAAFAR SAAD   \n",
       "517  356   BEN HAOUA ABED EL DJELIL   \n",
       "518  362            NAKROUF MOHAMED   \n",
       "520  363     BELMELIANI ABEDELKADER   \n",
       "522  358              WALID MOHAMED   \n",
       "541  644           LAACHOUB MOHAMED   \n",
       "553  325          BOUAZA ABID AHMED   \n",
       "560  632              IDRISSI AHMED   \n",
       "562  288              AMMOUR ZOHEIR   \n",
       "578  239              ACHOURI RABEH   \n",
       "581  469         BERHIHE ABDELGHANI   \n",
       "582  471            BOUKHARI NACIRA   \n",
       "583  511        MENACER ABD LAAZIZE   \n",
       "586  346             TEFANDJAR SAID   \n",
       "595  253              EL AIDI AHMED   \n",
       "614  478        BOUNAMOUSE ABDELHAK   \n",
       "620  218               BOURAS RABEH   \n",
       "646  355              BERACHED SAAD   \n",
       "651  673  SIROUKANE OMAR BEN MOUSSA   \n",
       "654  397            DKHINISSA RABAH   \n",
       "657  374            KOUDRLI MENNOUR   \n",
       "658  370              AZIZI KHATHIR   \n",
       "660  652          KHATHIR ABEDELLAH   \n",
       "664  687         BEN SAADA MUSTAPHA   \n",
       "\n",
       "                                               address        lat         lon  \\\n",
       "1                     CITE DES 40 LOGTS LOCAL 25 Adrar  28.017440   -0.264250   \n",
       "2                          CITE 103 LOGTS BP 575 Adrar  28.017440   -0.264250   \n",
       "30           15 RUE CHENAF AMAR QUARTIER VERDURE Batna  35.532190    6.168609   \n",
       "40                                  5 BD BENFLIS Batna  35.532190    6.168609   \n",
       "92                         RUE MOHAMED BOURAS Boufarik  36.663154    3.106977   \n",
       "105              CITE DES 120 LOGTS BT 1 APPT 3 Bouira  36.538950    3.675159   \n",
       "126                       43 CITE 84 LOGTS Bir El Ater  34.749839    8.057753   \n",
       "130  116 CITE KASMI ABDELKADER RTE BELABES Ouled Mi...  34.904412   -1.034236   \n",
       "162                38 AVENUE KHOUDJA KHALED Tizi Ouzou  36.735307    3.984973   \n",
       "169             RUE AMIROUCHE AIT BEN AMARA Tizi Ouzou  36.738997    4.010825   \n",
       "189                   CITE 47 LOGTS BT 05 02 Kheraicia  36.667911    2.998277   \n",
       "225                 RESIDENCE DES ROSIERS BT A 1 Hydra  36.158310  -95.838298   \n",
       "301                             RUE BELHADID Kheraicia  36.667911    2.998277   \n",
       "318                 PL 1ER MAI GROUPE 10 BT B  1er Mai  36.048161  -95.886876   \n",
       "321                          2EME GROUPE BT I  1er Mai  36.048161  -95.886876   \n",
       "322           02 RUE KLAYLYA MOULAY BP 1009 Mohammadia  35.591910    0.065420   \n",
       "386                    RUE DES FRERES CHETIOUI Amoucha  36.387944    5.411062   \n",
       "453  CITE EL DAKSI ABDELSALEM BT KQ BLOC 1 LOCAL 5 ...  41.841141  -85.669719   \n",
       "454              2 CITE DES MAGISTRATS Boussouf (cite)  44.836643   -0.579026   \n",
       "455                 148 RUE ALI GHACHI Didouche Mourad  48.837079    2.365043   \n",
       "457         2 RUE  ABED EL KRIM BOUBERTAKH Constantine  28.033886    1.659626   \n",
       "517                         8 RUE MHOUR IDRISS Mascara  35.083432  -89.807304   \n",
       "518           CITE 23 LOGTS BT C/17 VILLE NOUVELLE Sig  34.023018   -4.998270   \n",
       "520                          23 RUE ZIGHOUD YOUCEF Sig  35.533020   -0.198607   \n",
       "522                          6 RUE MOHOR DRISS Mascara  34.434151 -119.920204   \n",
       "541                            2 RUE DES MARTYRS Arzew  35.802020   -0.370675   \n",
       "553      60 RUE CHARIT ALI CHERIF Oran El M'naouer Ctr  42.733707  -84.535104   \n",
       "560              42 LOGTS NOUVELLE ZONE URBAINE Illizi  26.477586    8.477633   \n",
       "562                              RUE DE L'ALN Mansoura  34.874214   -1.326084   \n",
       "578                  RUE HAMDI ABDELLAH MADJID El Tarf  36.757668    8.307634   \n",
       "581                      25 RUE ZEMOURI MOHAMMED Drean  36.686563    7.720806   \n",
       "582                 BOULEVARD ARASSI ABD ELMADJID Dren  42.589120  -71.154570   \n",
       "583                             CITE 46 LOGTS 44 Drean  36.686563    7.720806   \n",
       "586                          CITE 100 LOGTS Tissemsilt  35.659722    1.535146   \n",
       "595                    CITE SALAH SOUFI BT 4/2 Sedrata  36.134525    7.529748   \n",
       "614                       RUE ALI ZEGHDOUD 20 BIS Mila  42.383608  -87.944697   \n",
       "620                      DAIRA DE TELAGHMA Oued Seguen  36.178719    6.388919   \n",
       "646                   91 RUE DE LA REPUBLIQUE Beni Saf  35.289786   -1.376886   \n",
       "651    RUE CHEIKH ABDELAZIZ ETHAMNI BP 138 Beni Isguen  32.462772    3.679272   \n",
       "654  RUE ACHAHMA MOUSSA CITE THENIET EL MAKHZEN Gha...  32.475928    3.684691   \n",
       "657                        RUE CTRE COMMERCIAL Mazouna  36.126470    0.890610   \n",
       "658                   RUE BEN KAHLA MENOUER Oued Rhiou  35.977005    0.924750   \n",
       "660                   RUE BEN KOUDIA MAAMAR Oued Rhiou  35.977005    0.924750   \n",
       "664                        CITE ADMINISTRATIVE Mazouna  36.126470    0.890610   \n",
       "\n",
       "     code_wil  to_check                           geometry  to_check_osm  \n",
       "1           1      True     POINT (-29416.142 3251172.790)          True  \n",
       "2           1      True     POINT (-29416.142 3251172.790)          True  \n",
       "30          5      True     POINT (686686.457 4236440.873)          True  \n",
       "40          5      True     POINT (686686.457 4236440.873)          True  \n",
       "92          9      True     POINT (345867.086 4392258.241)         False  \n",
       "105        10      True     POINT (409116.828 4375035.759)          True  \n",
       "126        12      True     POINT (896984.916 4129937.016)          True  \n",
       "130        13      True    POINT (-115130.603 4150898.638)          True  \n",
       "162        15      True     POINT (443605.132 4402275.909)          True  \n",
       "169        15      True     POINT (446483.008 4402788.551)          True  \n",
       "189        16      True     POINT (333766.647 4392918.357)          True  \n",
       "225        16      True  POINT (-10668670.498 4322426.437)          True  \n",
       "301        16      True     POINT (333766.647 4392918.357)          True  \n",
       "318        16      True  POINT (-10674078.166 4307250.249)          True  \n",
       "321        16      True  POINT (-10674078.166 4307250.249)          True  \n",
       "322        16      True       POINT (7282.521 4244613.081)         False  \n",
       "386        19      True     POINT (602356.700 4354133.982)          True  \n",
       "453        25      True   POINT (-9536709.473 5137212.700)          True  \n",
       "454        25      True     POINT (-64456.902 5595840.858)          True  \n",
       "455        25      True     POINT (263275.371 6247262.221)          True  \n",
       "457        25      True     POINT (184748.721 3253246.711)          True  \n",
       "517        29      True   POINT (-9997303.295 4175225.062)          True  \n",
       "518        29      True    POINT (-556404.916 4031893.267)          True  \n",
       "520        29      True     POINT (-22108.808 4236554.451)          True  \n",
       "522        29      True  POINT (-13349456.034 4087247.985)          True  \n",
       "541        31      True     POINT (-41263.408 4273413.782)          True  \n",
       "553        31      True   POINT (-9410404.765 5271526.819)          True  \n",
       "560        33      True     POINT (943725.744 3058353.305)          True  \n",
       "562        34      True    POINT (-147619.007 4146800.454)         False  \n",
       "578        36      True     POINT (924801.620 4405382.417)          True  \n",
       "581        36      True     POINT (859476.215 4395507.257)          True  \n",
       "582        36      True   POINT (-7920890.500 5249639.373)          True  \n",
       "583        36      True     POINT (859476.215 4395507.257)          True  \n",
       "586        38      True     POINT (170891.638 4253900.028)          True  \n",
       "595        41      True     POINT (838207.669 4319147.614)          True  \n",
       "614        43      True   POINT (-9789958.910 5218616.443)          True  \n",
       "620        43      True     POINT (711211.254 4325240.792)          True  \n",
       "646        46      True    POINT (-153274.204 4203331.984)          True  \n",
       "651        47      True     POINT (409574.674 3824211.092)          True  \n",
       "654        47      True     POINT (410177.881 3825946.952)          True  \n",
       "657        48      True      POINT (99142.274 4318037.432)          True  \n",
       "658        48      True     POINT (102942.710 4297457.729)          True  \n",
       "660        48      True     POINT (102942.710 4297457.729)          True  \n",
       "664        48      True      POINT (99142.274 4318037.432)          True  "
      ],
      "text/html": "<div>\n<style scoped>\n    .dataframe tbody tr th:only-of-type {\n        vertical-align: middle;\n    }\n\n    .dataframe tbody tr th {\n        vertical-align: top;\n    }\n\n    .dataframe thead th {\n        text-align: right;\n    }\n</style>\n<table border=\"1\" class=\"dataframe\">\n  <thead>\n    <tr style=\"text-align: right;\">\n      <th></th>\n      <th>num</th>\n      <th>name</th>\n      <th>address</th>\n      <th>lat</th>\n      <th>lon</th>\n      <th>code_wil</th>\n      <th>to_check</th>\n      <th>geometry</th>\n      <th>to_check_osm</th>\n    </tr>\n  </thead>\n  <tbody>\n    <tr>\n      <th>1</th>\n      <td>55</td>\n      <td>BENHADJ AHMED</td>\n      <td>CITE DES 40 LOGTS LOCAL 25 Adrar</td>\n      <td>28.017440</td>\n      <td>-0.264250</td>\n      <td>1</td>\n      <td>True</td>\n      <td>POINT (-29416.142 3251172.790)</td>\n      <td>True</td>\n    </tr>\n    <tr>\n      <th>2</th>\n      <td>56</td>\n      <td>BARIK BOUDJEMAA</td>\n      <td>CITE 103 LOGTS BP 575 Adrar</td>\n      <td>28.017440</td>\n      <td>-0.264250</td>\n      <td>1</td>\n      <td>True</td>\n      <td>POINT (-29416.142 3251172.790)</td>\n      <td>True</td>\n    </tr>\n    <tr>\n      <th>30</th>\n      <td>259</td>\n      <td>DELINDA KAMEL</td>\n      <td>15 RUE CHENAF AMAR QUARTIER VERDURE Batna</td>\n      <td>35.532190</td>\n      <td>6.168609</td>\n      <td>5</td>\n      <td>True</td>\n      <td>POINT (686686.457 4236440.873)</td>\n      <td>True</td>\n    </tr>\n    <tr>\n      <th>40</th>\n      <td>19</td>\n      <td>BENHOUDA BRAHIM</td>\n      <td>5 BD BENFLIS Batna</td>\n      <td>35.532190</td>\n      <td>6.168609</td>\n      <td>5</td>\n      <td>True</td>\n      <td>POINT (686686.457 4236440.873)</td>\n      <td>True</td>\n    </tr>\n    <tr>\n      <th>92</th>\n      <td>189</td>\n      <td>DRAFLI HOURIA</td>\n      <td>RUE MOHAMED BOURAS Boufarik</td>\n      <td>36.663154</td>\n      <td>3.106977</td>\n      <td>9</td>\n      <td>True</td>\n      <td>POINT (345867.086 4392258.241)</td>\n      <td>False</td>\n    </tr>\n    <tr>\n      <th>105</th>\n      <td>219</td>\n      <td>ABDELAOUI ZOULIKHA</td>\n      <td>CITE DES 120 LOGTS BT 1 APPT 3 Bouira</td>\n      <td>36.538950</td>\n      <td>3.675159</td>\n      <td>10</td>\n      <td>True</td>\n      <td>POINT (409116.828 4375035.759)</td>\n      <td>True</td>\n    </tr>\n    <tr>\n      <th>126</th>\n      <td>318</td>\n      <td>REBII RAFIK</td>\n      <td>43 CITE 84 LOGTS Bir El Ater</td>\n      <td>34.749839</td>\n      <td>8.057753</td>\n      <td>12</td>\n      <td>True</td>\n      <td>POINT (896984.916 4129937.016)</td>\n      <td>True</td>\n    </tr>\n    <tr>\n      <th>130</th>\n      <td>648</td>\n      <td>BALOUT TOUHAMI</td>\n      <td>116 CITE KASMI ABDELKADER RTE BELABES Ouled Mi...</td>\n      <td>34.904412</td>\n      <td>-1.034236</td>\n      <td>13</td>\n      <td>True</td>\n      <td>POINT (-115130.603 4150898.638)</td>\n      <td>True</td>\n    </tr>\n    <tr>\n      <th>162</th>\n      <td>146</td>\n      <td>TOUMI AKLI</td>\n      <td>38 AVENUE KHOUDJA KHALED Tizi Ouzou</td>\n      <td>36.735307</td>\n      <td>3.984973</td>\n      <td>15</td>\n      <td>True</td>\n      <td>POINT (443605.132 4402275.909)</td>\n      <td>True</td>\n    </tr>\n    <tr>\n      <th>169</th>\n      <td>156</td>\n      <td>BELACEL BOUBEKEUR</td>\n      <td>RUE AMIROUCHE AIT BEN AMARA Tizi Ouzou</td>\n      <td>36.738997</td>\n      <td>4.010825</td>\n      <td>15</td>\n      <td>True</td>\n      <td>POINT (446483.008 4402788.551)</td>\n      <td>True</td>\n    </tr>\n    <tr>\n      <th>189</th>\n      <td>616</td>\n      <td>BOULEKRIAT BOUDJEMAA</td>\n      <td>CITE 47 LOGTS BT 05 02 Kheraicia</td>\n      <td>36.667911</td>\n      <td>2.998277</td>\n      <td>16</td>\n      <td>True</td>\n      <td>POINT (333766.647 4392918.357)</td>\n      <td>True</td>\n    </tr>\n    <tr>\n      <th>225</th>\n      <td>527</td>\n      <td>BELGHERBI FARIDA</td>\n      <td>RESIDENCE DES ROSIERS BT A 1 Hydra</td>\n      <td>36.158310</td>\n      <td>-95.838298</td>\n      <td>16</td>\n      <td>True</td>\n      <td>POINT (-10668670.498 4322426.437)</td>\n      <td>True</td>\n    </tr>\n    <tr>\n      <th>301</th>\n      <td>109</td>\n      <td>BENABDELLAH MOULOUD</td>\n      <td>RUE BELHADID Kheraicia</td>\n      <td>36.667911</td>\n      <td>2.998277</td>\n      <td>16</td>\n      <td>True</td>\n      <td>POINT (333766.647 4392918.357)</td>\n      <td>True</td>\n    </tr>\n    <tr>\n      <th>318</th>\n      <td>75</td>\n      <td>BOURABA MOHAMED</td>\n      <td>PL 1ER MAI GROUPE 10 BT B  1er Mai</td>\n      <td>36.048161</td>\n      <td>-95.886876</td>\n      <td>16</td>\n      <td>True</td>\n      <td>POINT (-10674078.166 4307250.249)</td>\n      <td>True</td>\n    </tr>\n    <tr>\n      <th>321</th>\n      <td>172</td>\n      <td>ABIDELAH MESSAOUD</td>\n      <td>2EME GROUPE BT I  1er Mai</td>\n      <td>36.048161</td>\n      <td>-95.886876</td>\n      <td>16</td>\n      <td>True</td>\n      <td>POINT (-10674078.166 4307250.249)</td>\n      <td>True</td>\n    </tr>\n    <tr>\n      <th>322</th>\n      <td>436</td>\n      <td>BEN KABOU MOHAMED FERIH</td>\n      <td>02 RUE KLAYLYA MOULAY BP 1009 Mohammadia</td>\n      <td>35.591910</td>\n      <td>0.065420</td>\n      <td>16</td>\n      <td>True</td>\n      <td>POINT (7282.521 4244613.081)</td>\n      <td>False</td>\n    </tr>\n    <tr>\n      <th>386</th>\n      <td>291</td>\n      <td>RAHEL ABEDELKADER</td>\n      <td>RUE DES FRERES CHETIOUI Amoucha</td>\n      <td>36.387944</td>\n      <td>5.411062</td>\n      <td>19</td>\n      <td>True</td>\n      <td>POINT (602356.700 4354133.982)</td>\n      <td>True</td>\n    </tr>\n    <tr>\n      <th>453</th>\n      <td>462</td>\n      <td>FANTAZI HAMID</td>\n      <td>CITE EL DAKSI ABDELSALEM BT KQ BLOC 1 LOCAL 5 ...</td>\n      <td>41.841141</td>\n      <td>-85.669719</td>\n      <td>25</td>\n      <td>True</td>\n      <td>POINT (-9536709.473 5137212.700)</td>\n      <td>True</td>\n    </tr>\n    <tr>\n      <th>454</th>\n      <td>450</td>\n      <td>FILALI ABDERRAZAK</td>\n      <td>2 CITE DES MAGISTRATS Boussouf (cite)</td>\n      <td>44.836643</td>\n      <td>-0.579026</td>\n      <td>25</td>\n      <td>True</td>\n      <td>POINT (-64456.902 5595840.858)</td>\n      <td>True</td>\n    </tr>\n    <tr>\n      <th>455</th>\n      <td>473</td>\n      <td>KOUADRI YOUSEF</td>\n      <td>148 RUE ALI GHACHI Didouche Mourad</td>\n      <td>48.837079</td>\n      <td>2.365043</td>\n      <td>25</td>\n      <td>True</td>\n      <td>POINT (263275.371 6247262.221)</td>\n      <td>True</td>\n    </tr>\n    <tr>\n      <th>457</th>\n      <td>208</td>\n      <td>DJAAFAR SAAD</td>\n      <td>2 RUE  ABED EL KRIM BOUBERTAKH Constantine</td>\n      <td>28.033886</td>\n      <td>1.659626</td>\n      <td>25</td>\n      <td>True</td>\n      <td>POINT (184748.721 3253246.711)</td>\n      <td>True</td>\n    </tr>\n    <tr>\n      <th>517</th>\n      <td>356</td>\n      <td>BEN HAOUA ABED EL DJELIL</td>\n      <td>8 RUE MHOUR IDRISS Mascara</td>\n      <td>35.083432</td>\n      <td>-89.807304</td>\n      <td>29</td>\n      <td>True</td>\n      <td>POINT (-9997303.295 4175225.062)</td>\n      <td>True</td>\n    </tr>\n    <tr>\n      <th>518</th>\n      <td>362</td>\n      <td>NAKROUF MOHAMED</td>\n      <td>CITE 23 LOGTS BT C/17 VILLE NOUVELLE Sig</td>\n      <td>34.023018</td>\n      <td>-4.998270</td>\n      <td>29</td>\n      <td>True</td>\n      <td>POINT (-556404.916 4031893.267)</td>\n      <td>True</td>\n    </tr>\n    <tr>\n      <th>520</th>\n      <td>363</td>\n      <td>BELMELIANI ABEDELKADER</td>\n      <td>23 RUE ZIGHOUD YOUCEF Sig</td>\n      <td>35.533020</td>\n      <td>-0.198607</td>\n      <td>29</td>\n      <td>True</td>\n      <td>POINT (-22108.808 4236554.451)</td>\n      <td>True</td>\n    </tr>\n    <tr>\n      <th>522</th>\n      <td>358</td>\n      <td>WALID MOHAMED</td>\n      <td>6 RUE MOHOR DRISS Mascara</td>\n      <td>34.434151</td>\n      <td>-119.920204</td>\n      <td>29</td>\n      <td>True</td>\n      <td>POINT (-13349456.034 4087247.985)</td>\n      <td>True</td>\n    </tr>\n    <tr>\n      <th>541</th>\n      <td>644</td>\n      <td>LAACHOUB MOHAMED</td>\n      <td>2 RUE DES MARTYRS Arzew</td>\n      <td>35.802020</td>\n      <td>-0.370675</td>\n      <td>31</td>\n      <td>True</td>\n      <td>POINT (-41263.408 4273413.782)</td>\n      <td>True</td>\n    </tr>\n    <tr>\n      <th>553</th>\n      <td>325</td>\n      <td>BOUAZA ABID AHMED</td>\n      <td>60 RUE CHARIT ALI CHERIF Oran El M'naouer Ctr</td>\n      <td>42.733707</td>\n      <td>-84.535104</td>\n      <td>31</td>\n      <td>True</td>\n      <td>POINT (-9410404.765 5271526.819)</td>\n      <td>True</td>\n    </tr>\n    <tr>\n      <th>560</th>\n      <td>632</td>\n      <td>IDRISSI AHMED</td>\n      <td>42 LOGTS NOUVELLE ZONE URBAINE Illizi</td>\n      <td>26.477586</td>\n      <td>8.477633</td>\n      <td>33</td>\n      <td>True</td>\n      <td>POINT (943725.744 3058353.305)</td>\n      <td>True</td>\n    </tr>\n    <tr>\n      <th>562</th>\n      <td>288</td>\n      <td>AMMOUR ZOHEIR</td>\n      <td>RUE DE L'ALN Mansoura</td>\n      <td>34.874214</td>\n      <td>-1.326084</td>\n      <td>34</td>\n      <td>True</td>\n      <td>POINT (-147619.007 4146800.454)</td>\n      <td>False</td>\n    </tr>\n    <tr>\n      <th>578</th>\n      <td>239</td>\n      <td>ACHOURI RABEH</td>\n      <td>RUE HAMDI ABDELLAH MADJID El Tarf</td>\n      <td>36.757668</td>\n      <td>8.307634</td>\n      <td>36</td>\n      <td>True</td>\n      <td>POINT (924801.620 4405382.417)</td>\n      <td>True</td>\n    </tr>\n    <tr>\n      <th>581</th>\n      <td>469</td>\n      <td>BERHIHE ABDELGHANI</td>\n      <td>25 RUE ZEMOURI MOHAMMED Drean</td>\n      <td>36.686563</td>\n      <td>7.720806</td>\n      <td>36</td>\n      <td>True</td>\n      <td>POINT (859476.215 4395507.257)</td>\n      <td>True</td>\n    </tr>\n    <tr>\n      <th>582</th>\n      <td>471</td>\n      <td>BOUKHARI NACIRA</td>\n      <td>BOULEVARD ARASSI ABD ELMADJID Dren</td>\n      <td>42.589120</td>\n      <td>-71.154570</td>\n      <td>36</td>\n      <td>True</td>\n      <td>POINT (-7920890.500 5249639.373)</td>\n      <td>True</td>\n    </tr>\n    <tr>\n      <th>583</th>\n      <td>511</td>\n      <td>MENACER ABD LAAZIZE</td>\n      <td>CITE 46 LOGTS 44 Drean</td>\n      <td>36.686563</td>\n      <td>7.720806</td>\n      <td>36</td>\n      <td>True</td>\n      <td>POINT (859476.215 4395507.257)</td>\n      <td>True</td>\n    </tr>\n    <tr>\n      <th>586</th>\n      <td>346</td>\n      <td>TEFANDJAR SAID</td>\n      <td>CITE 100 LOGTS Tissemsilt</td>\n      <td>35.659722</td>\n      <td>1.535146</td>\n      <td>38</td>\n      <td>True</td>\n      <td>POINT (170891.638 4253900.028)</td>\n      <td>True</td>\n    </tr>\n    <tr>\n      <th>595</th>\n      <td>253</td>\n      <td>EL AIDI AHMED</td>\n      <td>CITE SALAH SOUFI BT 4/2 Sedrata</td>\n      <td>36.134525</td>\n      <td>7.529748</td>\n      <td>41</td>\n      <td>True</td>\n      <td>POINT (838207.669 4319147.614)</td>\n      <td>True</td>\n    </tr>\n    <tr>\n      <th>614</th>\n      <td>478</td>\n      <td>BOUNAMOUSE ABDELHAK</td>\n      <td>RUE ALI ZEGHDOUD 20 BIS Mila</td>\n      <td>42.383608</td>\n      <td>-87.944697</td>\n      <td>43</td>\n      <td>True</td>\n      <td>POINT (-9789958.910 5218616.443)</td>\n      <td>True</td>\n    </tr>\n    <tr>\n      <th>620</th>\n      <td>218</td>\n      <td>BOURAS RABEH</td>\n      <td>DAIRA DE TELAGHMA Oued Seguen</td>\n      <td>36.178719</td>\n      <td>6.388919</td>\n      <td>43</td>\n      <td>True</td>\n      <td>POINT (711211.254 4325240.792)</td>\n      <td>True</td>\n    </tr>\n    <tr>\n      <th>646</th>\n      <td>355</td>\n      <td>BERACHED SAAD</td>\n      <td>91 RUE DE LA REPUBLIQUE Beni Saf</td>\n      <td>35.289786</td>\n      <td>-1.376886</td>\n      <td>46</td>\n      <td>True</td>\n      <td>POINT (-153274.204 4203331.984)</td>\n      <td>True</td>\n    </tr>\n    <tr>\n      <th>651</th>\n      <td>673</td>\n      <td>SIROUKANE OMAR BEN MOUSSA</td>\n      <td>RUE CHEIKH ABDELAZIZ ETHAMNI BP 138 Beni Isguen</td>\n      <td>32.462772</td>\n      <td>3.679272</td>\n      <td>47</td>\n      <td>True</td>\n      <td>POINT (409574.674 3824211.092)</td>\n      <td>True</td>\n    </tr>\n    <tr>\n      <th>654</th>\n      <td>397</td>\n      <td>DKHINISSA RABAH</td>\n      <td>RUE ACHAHMA MOUSSA CITE THENIET EL MAKHZEN Gha...</td>\n      <td>32.475928</td>\n      <td>3.684691</td>\n      <td>47</td>\n      <td>True</td>\n      <td>POINT (410177.881 3825946.952)</td>\n      <td>True</td>\n    </tr>\n    <tr>\n      <th>657</th>\n      <td>374</td>\n      <td>KOUDRLI MENNOUR</td>\n      <td>RUE CTRE COMMERCIAL Mazouna</td>\n      <td>36.126470</td>\n      <td>0.890610</td>\n      <td>48</td>\n      <td>True</td>\n      <td>POINT (99142.274 4318037.432)</td>\n      <td>True</td>\n    </tr>\n    <tr>\n      <th>658</th>\n      <td>370</td>\n      <td>AZIZI KHATHIR</td>\n      <td>RUE BEN KAHLA MENOUER Oued Rhiou</td>\n      <td>35.977005</td>\n      <td>0.924750</td>\n      <td>48</td>\n      <td>True</td>\n      <td>POINT (102942.710 4297457.729)</td>\n      <td>True</td>\n    </tr>\n    <tr>\n      <th>660</th>\n      <td>652</td>\n      <td>KHATHIR ABEDELLAH</td>\n      <td>RUE BEN KOUDIA MAAMAR Oued Rhiou</td>\n      <td>35.977005</td>\n      <td>0.924750</td>\n      <td>48</td>\n      <td>True</td>\n      <td>POINT (102942.710 4297457.729)</td>\n      <td>True</td>\n    </tr>\n    <tr>\n      <th>664</th>\n      <td>687</td>\n      <td>BEN SAADA MUSTAPHA</td>\n      <td>CITE ADMINISTRATIVE Mazouna</td>\n      <td>36.126470</td>\n      <td>0.890610</td>\n      <td>48</td>\n      <td>True</td>\n      <td>POINT (99142.274 4318037.432)</td>\n      <td>True</td>\n    </tr>\n  </tbody>\n</table>\n</div>"
     },
     "metadata": {},
     "execution_count": 17
    }
   ],
   "source": [
    "final_gdf = pois_gdf\n",
    "final_gdf['to_check'] = (pois_gdf['to_check'] == True) | (pois_gdf['to_check_osm'] == True)   \n",
    "final_gdf[final_gdf.to_check == True]"
   ]
  },
  {
   "cell_type": "code",
   "execution_count": 18,
   "metadata": {},
   "outputs": [],
   "source": [
    "# Drop unecessary columns\n",
    "final_gdf = final_gdf.drop(columns=['to_check_osm'], axis=1)"
   ]
  },
  {
   "cell_type": "code",
   "execution_count": 19,
   "metadata": {},
   "outputs": [],
   "source": [
    "# Reproject to geograĥic and Write to a GeoPackage file\n",
    "final_gdf = final_gdf.set_crs(\"EPSG:3857\")\n",
    "final_gdf = final_gdf.to_crs(\"EPSG:4326\")\n",
    "final_gdf.to_file(pois_path + \"pois_to_check.geojson\", driver='GeoJSON')"
   ]
  }
 ]
}