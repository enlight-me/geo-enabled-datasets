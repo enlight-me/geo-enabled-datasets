{
 "metadata": {
  "language_info": {
   "codemirror_mode": {
    "name": "ipython",
    "version": 3
   },
   "file_extension": ".py",
   "mimetype": "text/x-python",
   "name": "python",
   "nbconvert_exporter": "python",
   "pygments_lexer": "ipython3",
   "version": "3.8.5"
  },
  "orig_nbformat": 2,
  "kernelspec": {
   "name": "python38564bitc5dda015dcc140dba795e9b0465f9f9d",
   "display_name": "Python 3.8.5 64-bit"
  },
  "metadata": {
   "interpreter": {
    "hash": "916dbcbb3f70747c44a77c7bcd40155683ae19c65e1c03b4aa3499c5328201f1"
   }
  }
 },
 "nbformat": 4,
 "nbformat_minor": 2,
 "cells": [
  {
   "cell_type": "code",
   "execution_count": null,
   "metadata": {},
   "outputs": [],
   "source": [
    "# Load packages\n",
    "import os\n",
    "import pandas as pd \n",
    "import geopandas as gpd \n",
    "from shapely.geometry import Point\n",
    "import numpy as np "
   ]
  },
  {
   "cell_type": "code",
   "execution_count": null,
   "metadata": {},
   "outputs": [],
   "source": [
    "# Load osm_building Features and calculate polygon centroids\n",
    "home_path = os.getenv('HOME')\n",
    "osm_building_shp = home_path+'/GeoData/OSM/algeria-latest-free.shp/gis_osm_buildings_a_free_1.shp'\n",
    "osm_building_gdf = gpd.read_file(osm_building_shp)\n",
    "osm_building_gdf.head()"
   ]
  },
  {
   "cell_type": "code",
   "execution_count": null,
   "metadata": {},
   "outputs": [],
   "source": [
    "# Set the correct CRS and reproject\n",
    "osm_building_gdf = osm_building_gdf.set_crs(\"EPSG:4326\")\n",
    "osm_building_gdf = osm_building_gdf.to_crs(\"EPSG:3857\")\n",
    "\n",
    "osm_building_gdf.crs"
   ]
  },
  {
   "cell_type": "code",
   "execution_count": null,
   "metadata": {},
   "outputs": [],
   "source": [
    "# Load the targeted dataset\n",
    "pois_path = '../dz-datasets/insurance/gam/'\n",
    "pois = gpd.read_file(pois_path + 'pois_checked_in_out_wilayas.geojson')\n",
    "pois.head()"
   ]
  },
  {
   "cell_type": "code",
   "execution_count": null,
   "metadata": {},
   "outputs": [],
   "source": [
    "# Define source CRS to geographic and project to a Pseudo-Mercator\n",
    "# Useful for spatial analysis (buffer, intersect, ...)\n",
    "\n",
    "pois = pois.set_crs(\"EPSG:4326\")\n",
    "pois = pois.to_crs(\"EPSG:3857\")\n",
    "pois.crs"
   ]
  },
  {
   "cell_type": "code",
   "execution_count": null,
   "metadata": {},
   "outputs": [],
   "source": [
    "# Replace DataFrame geometries with buffers and write it to a file\n",
    "pois['buffer'] = pois.geometry.buffer(500)\n",
    "buffers = pois[['num', 'buffer']]\n",
    "buffers = buffers.rename(columns={'buffer': 'geometry'})\n",
    "buffers = gpd.GeoDataFrame(buffers)\n",
    "buffers = buffers.set_crs(\"EPSG:3857\")\n",
    "#gpd.GeoDataFrame(buffers).to_file(pois_path + \"buffers.geojson\", driver='GeoJSON')\n",
    "buffers.head()"
   ]
  },
  {
   "cell_type": "code",
   "execution_count": null,
   "metadata": {},
   "outputs": [],
   "source": [
    "# Search for buildings that intersect the locations buffers\n",
    "res_intersection = gpd.overlay(buffers, osm_building_gdf, how='intersection')\n",
    "res_intersection.count()"
   ]
  },
  {
   "cell_type": "code",
   "execution_count": null,
   "metadata": {},
   "outputs": [],
   "source": [
    "res_intersection.head()"
   ]
  },
  {
   "cell_type": "code",
   "execution_count": null,
   "metadata": {},
   "outputs": [],
   "source": [
    "# Write intersected building into a GeoJSON file\n",
    "res = res_intersection[['num', 'geometry']]\n",
    "#res.to_file(pois_path + \"intersection.geojson\", driver='GeoJSON')\n",
    "res.head()"
   ]
  },
  {
   "cell_type": "code",
   "execution_count": null,
   "metadata": {},
   "outputs": [],
   "source": [
    "# Group results of intersection and add a to_check column (if intersect then doesn't need to check)\n",
    "res_grouped = res [['num']]\n",
    "res_grouped = res_grouped.groupby('num').count()\n",
    "res_grouped['to_check_osm'] = False\n",
    "res_grouped.count()"
   ]
  },
  {
   "cell_type": "code",
   "execution_count": null,
   "metadata": {},
   "outputs": [],
   "source": [
    "# Merge with DataFrame and set geometry to centroids\n",
    "pois_gdf = pois.merge(res_grouped, left_on='num', right_on='num', how='left')\n",
    "pois_gdf.drop(columns=['buffer'], inplace=True)\n",
    "pois_gdf.count()"
   ]
  },
  {
   "cell_type": "code",
   "execution_count": null,
   "metadata": {},
   "outputs": [],
   "source": [
    "# Update to_check column :if doesn't intersect then we need to check it manually\n",
    "pois_gdf['to_check_osm'] = pois_gdf.apply(lambda row: row.to_check_osm != False, axis=1)\n",
    "pois_gdf[pois_gdf['to_check_osm'] != False]"
   ]
  },
  {
   "cell_type": "code",
   "execution_count": null,
   "metadata": {},
   "outputs": [],
   "source": [
    "final_gdf = pois_gdf\n",
    "final_gdf['to_check'] = (pois_gdf['to_check'] == True) | (pois_gdf['to_check_osm'] == True)   \n",
    "final_gdf[final_gdf.to_check == True]"
   ]
  },
  {
   "cell_type": "code",
   "execution_count": null,
   "metadata": {},
   "outputs": [],
   "source": [
    "# Drop unecessary columns\n",
    "final_gdf = final_gdf.drop(columns=['to_check_osm'], axis=1)"
   ]
  },
  {
   "cell_type": "code",
   "execution_count": null,
   "metadata": {},
   "outputs": [],
   "source": [
    "# Reproject to geograĥic and Write to a GeoPackage file\n",
    "final_gdf = final_gdf.set_crs(\"EPSG:3857\")\n",
    "final_gdf = final_gdf.to_crs(\"EPSG:4326\")\n",
    "final_gdf.to_file(pois_path + \"pois_to_check.geojson\", driver='GeoJSON')"
   ]
  }
 ]
}