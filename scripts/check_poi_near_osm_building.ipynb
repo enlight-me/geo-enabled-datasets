{
 "metadata": {
  "language_info": {
   "codemirror_mode": {
    "name": "ipython",
    "version": 3
   },
   "file_extension": ".py",
   "mimetype": "text/x-python",
   "name": "python",
   "nbconvert_exporter": "python",
   "pygments_lexer": "ipython3",
   "version": "3.8.5"
  },
  "orig_nbformat": 2,
  "kernelspec": {
   "name": "python38564bitc5dda015dcc140dba795e9b0465f9f9d",
   "display_name": "Python 3.8.5 64-bit"
  },
  "metadata": {
   "interpreter": {
    "hash": "916dbcbb3f70747c44a77c7bcd40155683ae19c65e1c03b4aa3499c5328201f1"
   }
  }
 },
 "nbformat": 4,
 "nbformat_minor": 2,
 "cells": [
  {
   "cell_type": "code",
   "execution_count": 1,
   "metadata": {},
   "outputs": [],
   "source": [
    "# Load packages\n",
    "import os\n",
    "import pandas as pd \n",
    "import geopandas as gpd \n",
    "from shapely.geometry import Point\n",
    "import numpy as np "
   ]
  },
  {
   "cell_type": "code",
   "execution_count": 2,
   "metadata": {},
   "outputs": [
    {
     "output_type": "execute_result",
     "data": {
      "text/plain": [
       "     osm_id  code    fclass            name        type  \\\n",
       "0  23453590  1500  building            None        None   \n",
       "1  23453621  1500  building            None  industrial   \n",
       "2  23453649  1500  building            None  industrial   \n",
       "3  26224008  1500  building    Hilton Alger       hotel   \n",
       "4  26224288  1500  building  Crystal Lounge        None   \n",
       "\n",
       "                                            geometry  \n",
       "0  POLYGON ((3.28630 36.72337, 3.28680 36.72384, ...  \n",
       "1  POLYGON ((3.28839 36.72555, 3.28945 36.72653, ...  \n",
       "2  POLYGON ((3.29652 36.73153, 3.29695 36.73203, ...  \n",
       "3  POLYGON ((3.15595 36.73836, 3.15634 36.73856, ...  \n",
       "4  POLYGON ((3.15561 36.73811, 3.15583 36.73823, ...  "
      ],
      "text/html": "<div>\n<style scoped>\n    .dataframe tbody tr th:only-of-type {\n        vertical-align: middle;\n    }\n\n    .dataframe tbody tr th {\n        vertical-align: top;\n    }\n\n    .dataframe thead th {\n        text-align: right;\n    }\n</style>\n<table border=\"1\" class=\"dataframe\">\n  <thead>\n    <tr style=\"text-align: right;\">\n      <th></th>\n      <th>osm_id</th>\n      <th>code</th>\n      <th>fclass</th>\n      <th>name</th>\n      <th>type</th>\n      <th>geometry</th>\n    </tr>\n  </thead>\n  <tbody>\n    <tr>\n      <th>0</th>\n      <td>23453590</td>\n      <td>1500</td>\n      <td>building</td>\n      <td>None</td>\n      <td>None</td>\n      <td>POLYGON ((3.28630 36.72337, 3.28680 36.72384, ...</td>\n    </tr>\n    <tr>\n      <th>1</th>\n      <td>23453621</td>\n      <td>1500</td>\n      <td>building</td>\n      <td>None</td>\n      <td>industrial</td>\n      <td>POLYGON ((3.28839 36.72555, 3.28945 36.72653, ...</td>\n    </tr>\n    <tr>\n      <th>2</th>\n      <td>23453649</td>\n      <td>1500</td>\n      <td>building</td>\n      <td>None</td>\n      <td>industrial</td>\n      <td>POLYGON ((3.29652 36.73153, 3.29695 36.73203, ...</td>\n    </tr>\n    <tr>\n      <th>3</th>\n      <td>26224008</td>\n      <td>1500</td>\n      <td>building</td>\n      <td>Hilton Alger</td>\n      <td>hotel</td>\n      <td>POLYGON ((3.15595 36.73836, 3.15634 36.73856, ...</td>\n    </tr>\n    <tr>\n      <th>4</th>\n      <td>26224288</td>\n      <td>1500</td>\n      <td>building</td>\n      <td>Crystal Lounge</td>\n      <td>None</td>\n      <td>POLYGON ((3.15561 36.73811, 3.15583 36.73823, ...</td>\n    </tr>\n  </tbody>\n</table>\n</div>"
     },
     "metadata": {},
     "execution_count": 2
    }
   ],
   "source": [
    "# Load osm_building Features and calculate polygon centroids\n",
    "home_path = os.getenv('HOME')\n",
    "osm_building_shp = home_path+'/GeoData/OSM/algeria-latest-free.shp/gis_osm_buildings_a_free_1.shp'\n",
    "osm_building_gdf = gpd.read_file(osm_building_shp)\n",
    "osm_building_gdf.head()"
   ]
  },
  {
   "cell_type": "code",
   "execution_count": 3,
   "metadata": {},
   "outputs": [
    {
     "output_type": "execute_result",
     "data": {
      "text/plain": [
       "<Projected CRS: EPSG:3857>\n",
       "Name: WGS 84 / Pseudo-Mercator\n",
       "Axis Info [cartesian]:\n",
       "- X[east]: Easting (metre)\n",
       "- Y[north]: Northing (metre)\n",
       "Area of Use:\n",
       "- name: World - 85°S to 85°N\n",
       "- bounds: (-180.0, -85.06, 180.0, 85.06)\n",
       "Coordinate Operation:\n",
       "- name: Popular Visualisation Pseudo-Mercator\n",
       "- method: Popular Visualisation Pseudo Mercator\n",
       "Datum: World Geodetic System 1984\n",
       "- Ellipsoid: WGS 84\n",
       "- Prime Meridian: Greenwich"
      ]
     },
     "metadata": {},
     "execution_count": 3
    }
   ],
   "source": [
    "# Set the correct CRS and reproject\n",
    "osm_building_gdf = osm_building_gdf.set_crs(\"EPSG:4326\")\n",
    "osm_building_gdf = osm_building_gdf.to_crs(\"EPSG:3857\")\n",
    "\n",
    "osm_building_gdf.crs"
   ]
  },
  {
   "cell_type": "code",
   "execution_count": 4,
   "metadata": {},
   "outputs": [
    {
     "output_type": "execute_result",
     "data": {
      "text/plain": [
       "   num                 name                                      address  \\\n",
       "0    1      BARIK BOUDJEMAA                  CITE 103 LOGTS BP 575 Adrar   \n",
       "1    2        BENHADJ AHMED             CITE DES 40 LOGTS LOCAL 25 Adrar   \n",
       "2    3  AZZOU ABD ERRAHMANE             Rue Amrad Cité OULED ANKAL Adrar   \n",
       "3    4   MIMOUNI ABDELKADER  Rue Mokadem El Arbi, lot 30 Group 191 Adrar   \n",
       "4    5      OULED ALI AHMED             Cité 60 Logements Timimoun Adrar   \n",
       "\n",
       "   code_wil     court            tel    status        lat       lon  to_check  \\\n",
       "0         1     Adrar   049 96 53 89  physical  28.017440 -0.264250     False   \n",
       "1         1     Adrar   049 96 67 26  physical  28.017440 -0.264250     False   \n",
       "2         1     Adrar   049 96 53 19  physical  36.102009  2.712287      True   \n",
       "3         1     Adrar  0665 01 20 18  physical  28.017440 -0.264250     False   \n",
       "4         1  Timimoun  0555 40 62 94  physical  35.261165  6.368815      True   \n",
       "\n",
       "                    geometry  \n",
       "0  POINT (-0.26425 28.01744)  \n",
       "1  POINT (-0.26425 28.01744)  \n",
       "2   POINT (2.71229 36.10201)  \n",
       "3  POINT (-0.26425 28.01744)  \n",
       "4   POINT (6.36881 35.26116)  "
      ],
      "text/html": "<div>\n<style scoped>\n    .dataframe tbody tr th:only-of-type {\n        vertical-align: middle;\n    }\n\n    .dataframe tbody tr th {\n        vertical-align: top;\n    }\n\n    .dataframe thead th {\n        text-align: right;\n    }\n</style>\n<table border=\"1\" class=\"dataframe\">\n  <thead>\n    <tr style=\"text-align: right;\">\n      <th></th>\n      <th>num</th>\n      <th>name</th>\n      <th>address</th>\n      <th>code_wil</th>\n      <th>court</th>\n      <th>tel</th>\n      <th>status</th>\n      <th>lat</th>\n      <th>lon</th>\n      <th>to_check</th>\n      <th>geometry</th>\n    </tr>\n  </thead>\n  <tbody>\n    <tr>\n      <th>0</th>\n      <td>1</td>\n      <td>BARIK BOUDJEMAA</td>\n      <td>CITE 103 LOGTS BP 575 Adrar</td>\n      <td>1</td>\n      <td>Adrar</td>\n      <td>049 96 53 89</td>\n      <td>physical</td>\n      <td>28.017440</td>\n      <td>-0.264250</td>\n      <td>False</td>\n      <td>POINT (-0.26425 28.01744)</td>\n    </tr>\n    <tr>\n      <th>1</th>\n      <td>2</td>\n      <td>BENHADJ AHMED</td>\n      <td>CITE DES 40 LOGTS LOCAL 25 Adrar</td>\n      <td>1</td>\n      <td>Adrar</td>\n      <td>049 96 67 26</td>\n      <td>physical</td>\n      <td>28.017440</td>\n      <td>-0.264250</td>\n      <td>False</td>\n      <td>POINT (-0.26425 28.01744)</td>\n    </tr>\n    <tr>\n      <th>2</th>\n      <td>3</td>\n      <td>AZZOU ABD ERRAHMANE</td>\n      <td>Rue Amrad Cité OULED ANKAL Adrar</td>\n      <td>1</td>\n      <td>Adrar</td>\n      <td>049 96 53 19</td>\n      <td>physical</td>\n      <td>36.102009</td>\n      <td>2.712287</td>\n      <td>True</td>\n      <td>POINT (2.71229 36.10201)</td>\n    </tr>\n    <tr>\n      <th>3</th>\n      <td>4</td>\n      <td>MIMOUNI ABDELKADER</td>\n      <td>Rue Mokadem El Arbi, lot 30 Group 191 Adrar</td>\n      <td>1</td>\n      <td>Adrar</td>\n      <td>0665 01 20 18</td>\n      <td>physical</td>\n      <td>28.017440</td>\n      <td>-0.264250</td>\n      <td>False</td>\n      <td>POINT (-0.26425 28.01744)</td>\n    </tr>\n    <tr>\n      <th>4</th>\n      <td>5</td>\n      <td>OULED ALI AHMED</td>\n      <td>Cité 60 Logements Timimoun Adrar</td>\n      <td>1</td>\n      <td>Timimoun</td>\n      <td>0555 40 62 94</td>\n      <td>physical</td>\n      <td>35.261165</td>\n      <td>6.368815</td>\n      <td>True</td>\n      <td>POINT (6.36881 35.26116)</td>\n    </tr>\n  </tbody>\n</table>\n</div>"
     },
     "metadata": {},
     "execution_count": 4
    }
   ],
   "source": [
    "# Load the targeted dataset\n",
    "pois_path = '../dz-datasets/notaries/'\n",
    "pois = gpd.read_file(pois_path + 'pois_checked_in_out_wilayas.geojson')\n",
    "pois.head()"
   ]
  },
  {
   "cell_type": "code",
   "execution_count": 5,
   "metadata": {},
   "outputs": [
    {
     "output_type": "execute_result",
     "data": {
      "text/plain": [
       "<Projected CRS: EPSG:3857>\n",
       "Name: WGS 84 / Pseudo-Mercator\n",
       "Axis Info [cartesian]:\n",
       "- X[east]: Easting (metre)\n",
       "- Y[north]: Northing (metre)\n",
       "Area of Use:\n",
       "- name: World - 85°S to 85°N\n",
       "- bounds: (-180.0, -85.06, 180.0, 85.06)\n",
       "Coordinate Operation:\n",
       "- name: Popular Visualisation Pseudo-Mercator\n",
       "- method: Popular Visualisation Pseudo Mercator\n",
       "Datum: World Geodetic System 1984\n",
       "- Ellipsoid: WGS 84\n",
       "- Prime Meridian: Greenwich"
      ]
     },
     "metadata": {},
     "execution_count": 5
    }
   ],
   "source": [
    "# Define source CRS to geographic and project to a Pseudo-Mercator\n",
    "# Useful for spatial analysis (buffer, intersect, ...)\n",
    "\n",
    "pois = pois.set_crs(\"EPSG:4326\")\n",
    "pois = pois.to_crs(\"EPSG:3857\")\n",
    "pois.crs"
   ]
  },
  {
   "cell_type": "code",
   "execution_count": 6,
   "metadata": {},
   "outputs": [
    {
     "output_type": "execute_result",
     "data": {
      "text/plain": [
       "   num                                           geometry\n",
       "0    1  POLYGON ((-28916.142 3251172.790, -28918.550 3...\n",
       "1    2  POLYGON ((-28916.142 3251172.790, -28918.550 3...\n",
       "2    3  POLYGON ((302430.419 4314666.719, 302428.011 4...\n",
       "3    4  POLYGON ((-28916.142 3251172.790, -28918.550 3...\n",
       "4    5  POLYGON ((709473.243 4199429.307, 709470.835 4..."
      ],
      "text/html": "<div>\n<style scoped>\n    .dataframe tbody tr th:only-of-type {\n        vertical-align: middle;\n    }\n\n    .dataframe tbody tr th {\n        vertical-align: top;\n    }\n\n    .dataframe thead th {\n        text-align: right;\n    }\n</style>\n<table border=\"1\" class=\"dataframe\">\n  <thead>\n    <tr style=\"text-align: right;\">\n      <th></th>\n      <th>num</th>\n      <th>geometry</th>\n    </tr>\n  </thead>\n  <tbody>\n    <tr>\n      <th>0</th>\n      <td>1</td>\n      <td>POLYGON ((-28916.142 3251172.790, -28918.550 3...</td>\n    </tr>\n    <tr>\n      <th>1</th>\n      <td>2</td>\n      <td>POLYGON ((-28916.142 3251172.790, -28918.550 3...</td>\n    </tr>\n    <tr>\n      <th>2</th>\n      <td>3</td>\n      <td>POLYGON ((302430.419 4314666.719, 302428.011 4...</td>\n    </tr>\n    <tr>\n      <th>3</th>\n      <td>4</td>\n      <td>POLYGON ((-28916.142 3251172.790, -28918.550 3...</td>\n    </tr>\n    <tr>\n      <th>4</th>\n      <td>5</td>\n      <td>POLYGON ((709473.243 4199429.307, 709470.835 4...</td>\n    </tr>\n  </tbody>\n</table>\n</div>"
     },
     "metadata": {},
     "execution_count": 6
    }
   ],
   "source": [
    "# Replace DataFrame geometries with buffers and write it to a file\n",
    "pois['buffer'] = pois.geometry.buffer(500)\n",
    "buffers = pois[['num', 'buffer']]\n",
    "buffers = buffers.rename(columns={'buffer': 'geometry'})\n",
    "buffers = gpd.GeoDataFrame(buffers)\n",
    "buffers = buffers.set_crs(\"EPSG:3857\")\n",
    "#gpd.GeoDataFrame(buffers).to_file(pois_path + \"buffers.geojson\", driver='GeoJSON')\n",
    "buffers.head()"
   ]
  },
  {
   "cell_type": "code",
   "execution_count": 7,
   "metadata": {},
   "outputs": [
    {
     "output_type": "execute_result",
     "data": {
      "text/plain": [
       "num         88120\n",
       "osm_id      88120\n",
       "code        88120\n",
       "fclass      88120\n",
       "name         8047\n",
       "type        21841\n",
       "geometry    88120\n",
       "dtype: int64"
      ]
     },
     "metadata": {},
     "execution_count": 7
    }
   ],
   "source": [
    "# Search for buildings that intersect the locations buffers\n",
    "res_intersection = gpd.overlay(buffers, osm_building_gdf, how='intersection')\n",
    "res_intersection.count()"
   ]
  },
  {
   "cell_type": "code",
   "execution_count": 10,
   "metadata": {},
   "outputs": [
    {
     "output_type": "execute_result",
     "data": {
      "text/plain": [
       "   num     osm_id  code    fclass               name         type  \\\n",
       "0    3  531250778  1500  building               None  residential   \n",
       "1    6  745144709  1500  building               None         None   \n",
       "2    7  296725259  1500  building                APC       office   \n",
       "3    7  296922214  1500  building  Maison de justice     detached   \n",
       "4    7  296926257  1500  building               None   commercial   \n",
       "\n",
       "                                            geometry  \n",
       "0  POLYGON ((302264.440 4315037.976, 302283.972 4...  \n",
       "1  POLYGON ((26441.936 3409207.201, 26453.428 340...  \n",
       "2  POLYGON ((120045.570 3120061.364, 120077.663 3...  \n",
       "3  POLYGON ((120320.351 3120156.905, 120329.635 3...  \n",
       "4  POLYGON ((120333.331 3119914.412, 120342.470 3...  "
      ],
      "text/html": "<div>\n<style scoped>\n    .dataframe tbody tr th:only-of-type {\n        vertical-align: middle;\n    }\n\n    .dataframe tbody tr th {\n        vertical-align: top;\n    }\n\n    .dataframe thead th {\n        text-align: right;\n    }\n</style>\n<table border=\"1\" class=\"dataframe\">\n  <thead>\n    <tr style=\"text-align: right;\">\n      <th></th>\n      <th>num</th>\n      <th>osm_id</th>\n      <th>code</th>\n      <th>fclass</th>\n      <th>name</th>\n      <th>type</th>\n      <th>geometry</th>\n    </tr>\n  </thead>\n  <tbody>\n    <tr>\n      <th>0</th>\n      <td>3</td>\n      <td>531250778</td>\n      <td>1500</td>\n      <td>building</td>\n      <td>None</td>\n      <td>residential</td>\n      <td>POLYGON ((302264.440 4315037.976, 302283.972 4...</td>\n    </tr>\n    <tr>\n      <th>1</th>\n      <td>6</td>\n      <td>745144709</td>\n      <td>1500</td>\n      <td>building</td>\n      <td>None</td>\n      <td>None</td>\n      <td>POLYGON ((26441.936 3409207.201, 26453.428 340...</td>\n    </tr>\n    <tr>\n      <th>2</th>\n      <td>7</td>\n      <td>296725259</td>\n      <td>1500</td>\n      <td>building</td>\n      <td>APC</td>\n      <td>office</td>\n      <td>POLYGON ((120045.570 3120061.364, 120077.663 3...</td>\n    </tr>\n    <tr>\n      <th>3</th>\n      <td>7</td>\n      <td>296922214</td>\n      <td>1500</td>\n      <td>building</td>\n      <td>Maison de justice</td>\n      <td>detached</td>\n      <td>POLYGON ((120320.351 3120156.905, 120329.635 3...</td>\n    </tr>\n    <tr>\n      <th>4</th>\n      <td>7</td>\n      <td>296926257</td>\n      <td>1500</td>\n      <td>building</td>\n      <td>None</td>\n      <td>commercial</td>\n      <td>POLYGON ((120333.331 3119914.412, 120342.470 3...</td>\n    </tr>\n  </tbody>\n</table>\n</div>"
     },
     "metadata": {},
     "execution_count": 10
    }
   ],
   "source": [
    "res_intersection.head()"
   ]
  },
  {
   "cell_type": "code",
   "execution_count": 11,
   "metadata": {},
   "outputs": [
    {
     "output_type": "execute_result",
     "data": {
      "text/plain": [
       "   num                                           geometry\n",
       "0    3  POLYGON ((302264.440 4315037.976, 302283.972 4...\n",
       "1    6  POLYGON ((26441.936 3409207.201, 26453.428 340...\n",
       "2    7  POLYGON ((120045.570 3120061.364, 120077.663 3...\n",
       "3    7  POLYGON ((120320.351 3120156.905, 120329.635 3...\n",
       "4    7  POLYGON ((120333.331 3119914.412, 120342.470 3..."
      ],
      "text/html": "<div>\n<style scoped>\n    .dataframe tbody tr th:only-of-type {\n        vertical-align: middle;\n    }\n\n    .dataframe tbody tr th {\n        vertical-align: top;\n    }\n\n    .dataframe thead th {\n        text-align: right;\n    }\n</style>\n<table border=\"1\" class=\"dataframe\">\n  <thead>\n    <tr style=\"text-align: right;\">\n      <th></th>\n      <th>num</th>\n      <th>geometry</th>\n    </tr>\n  </thead>\n  <tbody>\n    <tr>\n      <th>0</th>\n      <td>3</td>\n      <td>POLYGON ((302264.440 4315037.976, 302283.972 4...</td>\n    </tr>\n    <tr>\n      <th>1</th>\n      <td>6</td>\n      <td>POLYGON ((26441.936 3409207.201, 26453.428 340...</td>\n    </tr>\n    <tr>\n      <th>2</th>\n      <td>7</td>\n      <td>POLYGON ((120045.570 3120061.364, 120077.663 3...</td>\n    </tr>\n    <tr>\n      <th>3</th>\n      <td>7</td>\n      <td>POLYGON ((120320.351 3120156.905, 120329.635 3...</td>\n    </tr>\n    <tr>\n      <th>4</th>\n      <td>7</td>\n      <td>POLYGON ((120333.331 3119914.412, 120342.470 3...</td>\n    </tr>\n  </tbody>\n</table>\n</div>"
     },
     "metadata": {},
     "execution_count": 11
    }
   ],
   "source": [
    "# Write intersected building into a GeoJSON file\n",
    "res = res_intersection[['num', 'geometry']]\n",
    "#res.to_file(pois_path + \"intersection.geojson\", driver='GeoJSON')\n",
    "res.head()"
   ]
  },
  {
   "cell_type": "code",
   "execution_count": 12,
   "metadata": {},
   "outputs": [
    {
     "output_type": "execute_result",
     "data": {
      "text/plain": [
       "to_check_osm    818\n",
       "dtype: int64"
      ]
     },
     "metadata": {},
     "execution_count": 12
    }
   ],
   "source": [
    "# Group results of intersection and add a to_check column (if intersect then doesn't need to check)\n",
    "res_grouped = res [['num']]\n",
    "res_grouped = res_grouped.groupby('num').count()\n",
    "res_grouped['to_check_osm'] = False\n",
    "res_grouped.count()"
   ]
  },
  {
   "cell_type": "code",
   "execution_count": 13,
   "metadata": {},
   "outputs": [
    {
     "output_type": "execute_result",
     "data": {
      "text/plain": [
       "num             892\n",
       "name            892\n",
       "address         892\n",
       "code_wil        892\n",
       "court           335\n",
       "tel             296\n",
       "status          310\n",
       "lat             883\n",
       "lon             883\n",
       "to_check        892\n",
       "geometry        892\n",
       "to_check_osm    818\n",
       "dtype: int64"
      ]
     },
     "metadata": {},
     "execution_count": 13
    }
   ],
   "source": [
    "# Merge with DataFrame and set geometry to centroids\n",
    "pois_gdf = pois.merge(res_grouped, left_on='num', right_on='num', how='left')\n",
    "pois_gdf.drop(columns=['buffer'], inplace=True)\n",
    "pois_gdf.count()"
   ]
  },
  {
   "cell_type": "code",
   "execution_count": 14,
   "metadata": {},
   "outputs": [
    {
     "output_type": "execute_result",
     "data": {
      "text/plain": [
       "     num                     name  \\\n",
       "0      1          BARIK BOUDJEMAA   \n",
       "1      2            BENHADJ AHMED   \n",
       "3      4       MIMOUNI ABDELKADER   \n",
       "4      5          OULED ALI AHMED   \n",
       "16    13  SAMET BOUHAYEK DJILLALI   \n",
       "..   ...                      ...   \n",
       "877  883        ACHOUR NOUREDDINE   \n",
       "878  885        KHATHIR ABEDELLAH   \n",
       "880  882      HENNI ABD ERRAHMANE   \n",
       "881  881            AZIZI KHATHIR   \n",
       "890  886             ATTOU KADOUR   \n",
       "\n",
       "                                               address  code_wil        court  \\\n",
       "0                          CITE 103 LOGTS BP 575 Adrar         1        Adrar   \n",
       "1                     CITE DES 40 LOGTS LOCAL 25 Adrar         1        Adrar   \n",
       "3          Rue Mokadem El Arbi, lot 30 Group 191 Adrar         1        Adrar   \n",
       "4                     Cité 60 Logements Timimoun Adrar         1     Timimoun   \n",
       "16                     26 RUE EL MOUSSAAD AZZOUN Chlef         2         None   \n",
       "..                                                 ...       ...          ...   \n",
       "877  Batiement 07 Tazghat El Jilali  Oued Rhiou Rel...        48   Oued Rhiou   \n",
       "878          RUE BEN KOUDIA MAAMAR Oued Rhiou Relizane        48  Oued Rhiou*   \n",
       "880         Rue Tazghat El Jilali  Oued Rhiou Relizane        48   Oued Rhiou   \n",
       "881          RUE BEN KAHLA MENOUER Oued Rhiou Relizane        48   Oued Rhiou   \n",
       "890              33 Cité 50 Logements Mazouna Relizane        48      Mazouna   \n",
       "\n",
       "                              tel    status        lat        lon  to_check  \\\n",
       "0                    049 96 53 89  physical  28.017440  -0.264250     False   \n",
       "1                    049 96 67 26  physical  28.017440  -0.264250     False   \n",
       "3                   0665 01 20 18  physical  28.017440  -0.264250     False   \n",
       "4                   0555 40 62 94  physical  35.261165   6.368815      True   \n",
       "16                           None      None  32.177101  35.055957      True   \n",
       "..                            ...       ...        ...        ...       ...   \n",
       "877  046 78 62 73 / 0773 23 61 72  physical  35.977005   0.924750     False   \n",
       "878                          None      None  35.977005   0.924750     False   \n",
       "880  046 78 68 42 / 0550 27 25 40  physical  35.977005   0.924750     False   \n",
       "881  046 78 76 78 / 0698 81 48 35  physical  35.977005   0.924750     False   \n",
       "890                  046 94 81 76  physical  36.126470   0.890610     False   \n",
       "\n",
       "                            geometry  to_check_osm  \n",
       "0     POINT (-29416.142 3251172.790)          True  \n",
       "1     POINT (-29416.142 3251172.790)          True  \n",
       "3     POINT (-29416.142 3251172.790)          True  \n",
       "4     POINT (708973.243 4199429.307)          True  \n",
       "16   POINT (3902411.283 3786580.402)          True  \n",
       "..                               ...           ...  \n",
       "877   POINT (102942.710 4297457.729)          True  \n",
       "878   POINT (102942.710 4297457.729)          True  \n",
       "880   POINT (102942.710 4297457.729)          True  \n",
       "881   POINT (102942.710 4297457.729)          True  \n",
       "890    POINT (99142.274 4318037.432)          True  \n",
       "\n",
       "[74 rows x 12 columns]"
      ],
      "text/html": "<div>\n<style scoped>\n    .dataframe tbody tr th:only-of-type {\n        vertical-align: middle;\n    }\n\n    .dataframe tbody tr th {\n        vertical-align: top;\n    }\n\n    .dataframe thead th {\n        text-align: right;\n    }\n</style>\n<table border=\"1\" class=\"dataframe\">\n  <thead>\n    <tr style=\"text-align: right;\">\n      <th></th>\n      <th>num</th>\n      <th>name</th>\n      <th>address</th>\n      <th>code_wil</th>\n      <th>court</th>\n      <th>tel</th>\n      <th>status</th>\n      <th>lat</th>\n      <th>lon</th>\n      <th>to_check</th>\n      <th>geometry</th>\n      <th>to_check_osm</th>\n    </tr>\n  </thead>\n  <tbody>\n    <tr>\n      <th>0</th>\n      <td>1</td>\n      <td>BARIK BOUDJEMAA</td>\n      <td>CITE 103 LOGTS BP 575 Adrar</td>\n      <td>1</td>\n      <td>Adrar</td>\n      <td>049 96 53 89</td>\n      <td>physical</td>\n      <td>28.017440</td>\n      <td>-0.264250</td>\n      <td>False</td>\n      <td>POINT (-29416.142 3251172.790)</td>\n      <td>True</td>\n    </tr>\n    <tr>\n      <th>1</th>\n      <td>2</td>\n      <td>BENHADJ AHMED</td>\n      <td>CITE DES 40 LOGTS LOCAL 25 Adrar</td>\n      <td>1</td>\n      <td>Adrar</td>\n      <td>049 96 67 26</td>\n      <td>physical</td>\n      <td>28.017440</td>\n      <td>-0.264250</td>\n      <td>False</td>\n      <td>POINT (-29416.142 3251172.790)</td>\n      <td>True</td>\n    </tr>\n    <tr>\n      <th>3</th>\n      <td>4</td>\n      <td>MIMOUNI ABDELKADER</td>\n      <td>Rue Mokadem El Arbi, lot 30 Group 191 Adrar</td>\n      <td>1</td>\n      <td>Adrar</td>\n      <td>0665 01 20 18</td>\n      <td>physical</td>\n      <td>28.017440</td>\n      <td>-0.264250</td>\n      <td>False</td>\n      <td>POINT (-29416.142 3251172.790)</td>\n      <td>True</td>\n    </tr>\n    <tr>\n      <th>4</th>\n      <td>5</td>\n      <td>OULED ALI AHMED</td>\n      <td>Cité 60 Logements Timimoun Adrar</td>\n      <td>1</td>\n      <td>Timimoun</td>\n      <td>0555 40 62 94</td>\n      <td>physical</td>\n      <td>35.261165</td>\n      <td>6.368815</td>\n      <td>True</td>\n      <td>POINT (708973.243 4199429.307)</td>\n      <td>True</td>\n    </tr>\n    <tr>\n      <th>16</th>\n      <td>13</td>\n      <td>SAMET BOUHAYEK DJILLALI</td>\n      <td>26 RUE EL MOUSSAAD AZZOUN Chlef</td>\n      <td>2</td>\n      <td>None</td>\n      <td>None</td>\n      <td>None</td>\n      <td>32.177101</td>\n      <td>35.055957</td>\n      <td>True</td>\n      <td>POINT (3902411.283 3786580.402)</td>\n      <td>True</td>\n    </tr>\n    <tr>\n      <th>...</th>\n      <td>...</td>\n      <td>...</td>\n      <td>...</td>\n      <td>...</td>\n      <td>...</td>\n      <td>...</td>\n      <td>...</td>\n      <td>...</td>\n      <td>...</td>\n      <td>...</td>\n      <td>...</td>\n      <td>...</td>\n    </tr>\n    <tr>\n      <th>877</th>\n      <td>883</td>\n      <td>ACHOUR NOUREDDINE</td>\n      <td>Batiement 07 Tazghat El Jilali  Oued Rhiou Rel...</td>\n      <td>48</td>\n      <td>Oued Rhiou</td>\n      <td>046 78 62 73 / 0773 23 61 72</td>\n      <td>physical</td>\n      <td>35.977005</td>\n      <td>0.924750</td>\n      <td>False</td>\n      <td>POINT (102942.710 4297457.729)</td>\n      <td>True</td>\n    </tr>\n    <tr>\n      <th>878</th>\n      <td>885</td>\n      <td>KHATHIR ABEDELLAH</td>\n      <td>RUE BEN KOUDIA MAAMAR Oued Rhiou Relizane</td>\n      <td>48</td>\n      <td>Oued Rhiou*</td>\n      <td>None</td>\n      <td>None</td>\n      <td>35.977005</td>\n      <td>0.924750</td>\n      <td>False</td>\n      <td>POINT (102942.710 4297457.729)</td>\n      <td>True</td>\n    </tr>\n    <tr>\n      <th>880</th>\n      <td>882</td>\n      <td>HENNI ABD ERRAHMANE</td>\n      <td>Rue Tazghat El Jilali  Oued Rhiou Relizane</td>\n      <td>48</td>\n      <td>Oued Rhiou</td>\n      <td>046 78 68 42 / 0550 27 25 40</td>\n      <td>physical</td>\n      <td>35.977005</td>\n      <td>0.924750</td>\n      <td>False</td>\n      <td>POINT (102942.710 4297457.729)</td>\n      <td>True</td>\n    </tr>\n    <tr>\n      <th>881</th>\n      <td>881</td>\n      <td>AZIZI KHATHIR</td>\n      <td>RUE BEN KAHLA MENOUER Oued Rhiou Relizane</td>\n      <td>48</td>\n      <td>Oued Rhiou</td>\n      <td>046 78 76 78 / 0698 81 48 35</td>\n      <td>physical</td>\n      <td>35.977005</td>\n      <td>0.924750</td>\n      <td>False</td>\n      <td>POINT (102942.710 4297457.729)</td>\n      <td>True</td>\n    </tr>\n    <tr>\n      <th>890</th>\n      <td>886</td>\n      <td>ATTOU KADOUR</td>\n      <td>33 Cité 50 Logements Mazouna Relizane</td>\n      <td>48</td>\n      <td>Mazouna</td>\n      <td>046 94 81 76</td>\n      <td>physical</td>\n      <td>36.126470</td>\n      <td>0.890610</td>\n      <td>False</td>\n      <td>POINT (99142.274 4318037.432)</td>\n      <td>True</td>\n    </tr>\n  </tbody>\n</table>\n<p>74 rows × 12 columns</p>\n</div>"
     },
     "metadata": {},
     "execution_count": 14
    }
   ],
   "source": [
    "# Update to_check column :if doesn't intersect then we need to check it manually\n",
    "pois_gdf['to_check_osm'] = pois_gdf.apply(lambda row: row.to_check_osm != False, axis=1)\n",
    "pois_gdf[pois_gdf['to_check_osm'] != False]"
   ]
  },
  {
   "cell_type": "code",
   "execution_count": 15,
   "metadata": {},
   "outputs": [
    {
     "output_type": "execute_result",
     "data": {
      "text/plain": [
       "     num                 name                                      address  \\\n",
       "0      1      BARIK BOUDJEMAA                  CITE 103 LOGTS BP 575 Adrar   \n",
       "1      2        BENHADJ AHMED             CITE DES 40 LOGTS LOCAL 25 Adrar   \n",
       "2      3  AZZOU ABD ERRAHMANE             Rue Amrad Cité OULED ANKAL Adrar   \n",
       "3      4   MIMOUNI ABDELKADER  Rue Mokadem El Arbi, lot 30 Group 191 Adrar   \n",
       "4      5      OULED ALI AHMED             Cité 60 Logements Timimoun Adrar   \n",
       "..   ...                  ...                                          ...   \n",
       "878  885    KHATHIR ABEDELLAH    RUE BEN KOUDIA MAAMAR Oued Rhiou Relizane   \n",
       "880  882  HENNI ABD ERRAHMANE   Rue Tazghat El Jilali  Oued Rhiou Relizane   \n",
       "881  881        AZIZI KHATHIR    RUE BEN KAHLA MENOUER Oued Rhiou Relizane   \n",
       "890  886         ATTOU KADOUR        33 Cité 50 Logements Mazouna Relizane   \n",
       "891  876     DJILLALI MOHAMED            36 Rue Mohamed Khemisti  Relizane   \n",
       "\n",
       "     code_wil        court                                           tel  \\\n",
       "0           1        Adrar                                  049 96 53 89   \n",
       "1           1        Adrar                                  049 96 67 26   \n",
       "2           1        Adrar                                  049 96 53 19   \n",
       "3           1        Adrar                                 0665 01 20 18   \n",
       "4           1     Timimoun                                 0555 40 62 94   \n",
       "..        ...          ...                                           ...   \n",
       "878        48  Oued Rhiou*                                          None   \n",
       "880        48   Oued Rhiou                  046 78 68 42 / 0550 27 25 40   \n",
       "881        48   Oued Rhiou                  046 78 76 78 / 0698 81 48 35   \n",
       "890        48      Mazouna                                  046 94 81 76   \n",
       "891        48     Relizane  0772 79 78 55 / 046 72 32 70 / 0550 89 31 85   \n",
       "\n",
       "       status        lat       lon  to_check                         geometry  \\\n",
       "0    physical  28.017440 -0.264250      True   POINT (-29416.142 3251172.790)   \n",
       "1    physical  28.017440 -0.264250      True   POINT (-29416.142 3251172.790)   \n",
       "2    physical  36.102009  2.712287      True   POINT (301930.419 4314666.719)   \n",
       "3    physical  28.017440 -0.264250      True   POINT (-29416.142 3251172.790)   \n",
       "4    physical  35.261165  6.368815      True   POINT (708973.243 4199429.307)   \n",
       "..        ...        ...       ...       ...                              ...   \n",
       "878      None  35.977005  0.924750      True   POINT (102942.710 4297457.729)   \n",
       "880  physical  35.977005  0.924750      True   POINT (102942.710 4297457.729)   \n",
       "881  physical  35.977005  0.924750      True   POINT (102942.710 4297457.729)   \n",
       "890  physical  36.126470  0.890610      True    POINT (99142.274 4318037.432)   \n",
       "891  physical  35.291433 -1.139081      True  POINT (-126801.883 4203556.537)   \n",
       "\n",
       "     to_check_osm  \n",
       "0            True  \n",
       "1            True  \n",
       "2           False  \n",
       "3            True  \n",
       "4            True  \n",
       "..            ...  \n",
       "878          True  \n",
       "880          True  \n",
       "881          True  \n",
       "890          True  \n",
       "891         False  \n",
       "\n",
       "[147 rows x 12 columns]"
      ],
      "text/html": "<div>\n<style scoped>\n    .dataframe tbody tr th:only-of-type {\n        vertical-align: middle;\n    }\n\n    .dataframe tbody tr th {\n        vertical-align: top;\n    }\n\n    .dataframe thead th {\n        text-align: right;\n    }\n</style>\n<table border=\"1\" class=\"dataframe\">\n  <thead>\n    <tr style=\"text-align: right;\">\n      <th></th>\n      <th>num</th>\n      <th>name</th>\n      <th>address</th>\n      <th>code_wil</th>\n      <th>court</th>\n      <th>tel</th>\n      <th>status</th>\n      <th>lat</th>\n      <th>lon</th>\n      <th>to_check</th>\n      <th>geometry</th>\n      <th>to_check_osm</th>\n    </tr>\n  </thead>\n  <tbody>\n    <tr>\n      <th>0</th>\n      <td>1</td>\n      <td>BARIK BOUDJEMAA</td>\n      <td>CITE 103 LOGTS BP 575 Adrar</td>\n      <td>1</td>\n      <td>Adrar</td>\n      <td>049 96 53 89</td>\n      <td>physical</td>\n      <td>28.017440</td>\n      <td>-0.264250</td>\n      <td>True</td>\n      <td>POINT (-29416.142 3251172.790)</td>\n      <td>True</td>\n    </tr>\n    <tr>\n      <th>1</th>\n      <td>2</td>\n      <td>BENHADJ AHMED</td>\n      <td>CITE DES 40 LOGTS LOCAL 25 Adrar</td>\n      <td>1</td>\n      <td>Adrar</td>\n      <td>049 96 67 26</td>\n      <td>physical</td>\n      <td>28.017440</td>\n      <td>-0.264250</td>\n      <td>True</td>\n      <td>POINT (-29416.142 3251172.790)</td>\n      <td>True</td>\n    </tr>\n    <tr>\n      <th>2</th>\n      <td>3</td>\n      <td>AZZOU ABD ERRAHMANE</td>\n      <td>Rue Amrad Cité OULED ANKAL Adrar</td>\n      <td>1</td>\n      <td>Adrar</td>\n      <td>049 96 53 19</td>\n      <td>physical</td>\n      <td>36.102009</td>\n      <td>2.712287</td>\n      <td>True</td>\n      <td>POINT (301930.419 4314666.719)</td>\n      <td>False</td>\n    </tr>\n    <tr>\n      <th>3</th>\n      <td>4</td>\n      <td>MIMOUNI ABDELKADER</td>\n      <td>Rue Mokadem El Arbi, lot 30 Group 191 Adrar</td>\n      <td>1</td>\n      <td>Adrar</td>\n      <td>0665 01 20 18</td>\n      <td>physical</td>\n      <td>28.017440</td>\n      <td>-0.264250</td>\n      <td>True</td>\n      <td>POINT (-29416.142 3251172.790)</td>\n      <td>True</td>\n    </tr>\n    <tr>\n      <th>4</th>\n      <td>5</td>\n      <td>OULED ALI AHMED</td>\n      <td>Cité 60 Logements Timimoun Adrar</td>\n      <td>1</td>\n      <td>Timimoun</td>\n      <td>0555 40 62 94</td>\n      <td>physical</td>\n      <td>35.261165</td>\n      <td>6.368815</td>\n      <td>True</td>\n      <td>POINT (708973.243 4199429.307)</td>\n      <td>True</td>\n    </tr>\n    <tr>\n      <th>...</th>\n      <td>...</td>\n      <td>...</td>\n      <td>...</td>\n      <td>...</td>\n      <td>...</td>\n      <td>...</td>\n      <td>...</td>\n      <td>...</td>\n      <td>...</td>\n      <td>...</td>\n      <td>...</td>\n      <td>...</td>\n    </tr>\n    <tr>\n      <th>878</th>\n      <td>885</td>\n      <td>KHATHIR ABEDELLAH</td>\n      <td>RUE BEN KOUDIA MAAMAR Oued Rhiou Relizane</td>\n      <td>48</td>\n      <td>Oued Rhiou*</td>\n      <td>None</td>\n      <td>None</td>\n      <td>35.977005</td>\n      <td>0.924750</td>\n      <td>True</td>\n      <td>POINT (102942.710 4297457.729)</td>\n      <td>True</td>\n    </tr>\n    <tr>\n      <th>880</th>\n      <td>882</td>\n      <td>HENNI ABD ERRAHMANE</td>\n      <td>Rue Tazghat El Jilali  Oued Rhiou Relizane</td>\n      <td>48</td>\n      <td>Oued Rhiou</td>\n      <td>046 78 68 42 / 0550 27 25 40</td>\n      <td>physical</td>\n      <td>35.977005</td>\n      <td>0.924750</td>\n      <td>True</td>\n      <td>POINT (102942.710 4297457.729)</td>\n      <td>True</td>\n    </tr>\n    <tr>\n      <th>881</th>\n      <td>881</td>\n      <td>AZIZI KHATHIR</td>\n      <td>RUE BEN KAHLA MENOUER Oued Rhiou Relizane</td>\n      <td>48</td>\n      <td>Oued Rhiou</td>\n      <td>046 78 76 78 / 0698 81 48 35</td>\n      <td>physical</td>\n      <td>35.977005</td>\n      <td>0.924750</td>\n      <td>True</td>\n      <td>POINT (102942.710 4297457.729)</td>\n      <td>True</td>\n    </tr>\n    <tr>\n      <th>890</th>\n      <td>886</td>\n      <td>ATTOU KADOUR</td>\n      <td>33 Cité 50 Logements Mazouna Relizane</td>\n      <td>48</td>\n      <td>Mazouna</td>\n      <td>046 94 81 76</td>\n      <td>physical</td>\n      <td>36.126470</td>\n      <td>0.890610</td>\n      <td>True</td>\n      <td>POINT (99142.274 4318037.432)</td>\n      <td>True</td>\n    </tr>\n    <tr>\n      <th>891</th>\n      <td>876</td>\n      <td>DJILLALI MOHAMED</td>\n      <td>36 Rue Mohamed Khemisti  Relizane</td>\n      <td>48</td>\n      <td>Relizane</td>\n      <td>0772 79 78 55 / 046 72 32 70 / 0550 89 31 85</td>\n      <td>physical</td>\n      <td>35.291433</td>\n      <td>-1.139081</td>\n      <td>True</td>\n      <td>POINT (-126801.883 4203556.537)</td>\n      <td>False</td>\n    </tr>\n  </tbody>\n</table>\n<p>147 rows × 12 columns</p>\n</div>"
     },
     "metadata": {},
     "execution_count": 15
    }
   ],
   "source": [
    "final_gdf = pois_gdf\n",
    "final_gdf['to_check'] = (pois_gdf['to_check'] == True) | (pois_gdf['to_check_osm'] == True)   \n",
    "final_gdf[final_gdf.to_check == True]"
   ]
  },
  {
   "cell_type": "code",
   "execution_count": 16,
   "metadata": {},
   "outputs": [],
   "source": [
    "# Drop unecessary columns\n",
    "final_gdf = final_gdf.drop(columns=['to_check_osm'], axis=1)"
   ]
  },
  {
   "cell_type": "code",
   "execution_count": 17,
   "metadata": {},
   "outputs": [],
   "source": [
    "# Reproject to geograĥic and Write to a GeoPackage file\n",
    "final_gdf = final_gdf.set_crs(\"EPSG:3857\")\n",
    "final_gdf = final_gdf.to_crs(\"EPSG:4326\")\n",
    "final_gdf.to_file(pois_path + \"pois_to_check.geojson\", driver='GeoJSON')"
   ]
  }
 ]
}