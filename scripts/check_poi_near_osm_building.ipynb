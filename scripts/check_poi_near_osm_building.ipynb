{
 "metadata": {
  "language_info": {
   "codemirror_mode": {
    "name": "ipython",
    "version": 3
   },
   "file_extension": ".py",
   "mimetype": "text/x-python",
   "name": "python",
   "nbconvert_exporter": "python",
   "pygments_lexer": "ipython3",
   "version": "3.8.5"
  },
  "orig_nbformat": 2,
  "kernelspec": {
   "name": "python38564bitc5dda015dcc140dba795e9b0465f9f9d",
   "display_name": "Python 3.8.5 64-bit"
  },
  "metadata": {
   "interpreter": {
    "hash": "916dbcbb3f70747c44a77c7bcd40155683ae19c65e1c03b4aa3499c5328201f1"
   }
  }
 },
 "nbformat": 4,
 "nbformat_minor": 2,
 "cells": [
  {
   "cell_type": "code",
   "execution_count": 1,
   "metadata": {},
   "outputs": [],
   "source": [
    "# Load packages\n",
    "import os\n",
    "import pandas as pd \n",
    "import geopandas as gpd \n",
    "from shapely.geometry import Point\n",
    "import numpy as np "
   ]
  },
  {
   "cell_type": "code",
   "execution_count": 2,
   "metadata": {},
   "outputs": [
    {
     "output_type": "execute_result",
     "data": {
      "text/plain": [
       "     osm_id  code    fclass            name        type  \\\n",
       "0  23453590  1500  building            None        None   \n",
       "1  23453621  1500  building            None  industrial   \n",
       "2  23453649  1500  building            None  industrial   \n",
       "3  26224008  1500  building    Hilton Alger       hotel   \n",
       "4  26224288  1500  building  Crystal Lounge        None   \n",
       "\n",
       "                                            geometry  \n",
       "0  POLYGON ((3.28630 36.72337, 3.28680 36.72384, ...  \n",
       "1  POLYGON ((3.28839 36.72555, 3.28945 36.72653, ...  \n",
       "2  POLYGON ((3.29652 36.73153, 3.29695 36.73203, ...  \n",
       "3  POLYGON ((3.15595 36.73836, 3.15634 36.73856, ...  \n",
       "4  POLYGON ((3.15561 36.73811, 3.15583 36.73823, ...  "
      ],
      "text/html": "<div>\n<style scoped>\n    .dataframe tbody tr th:only-of-type {\n        vertical-align: middle;\n    }\n\n    .dataframe tbody tr th {\n        vertical-align: top;\n    }\n\n    .dataframe thead th {\n        text-align: right;\n    }\n</style>\n<table border=\"1\" class=\"dataframe\">\n  <thead>\n    <tr style=\"text-align: right;\">\n      <th></th>\n      <th>osm_id</th>\n      <th>code</th>\n      <th>fclass</th>\n      <th>name</th>\n      <th>type</th>\n      <th>geometry</th>\n    </tr>\n  </thead>\n  <tbody>\n    <tr>\n      <th>0</th>\n      <td>23453590</td>\n      <td>1500</td>\n      <td>building</td>\n      <td>None</td>\n      <td>None</td>\n      <td>POLYGON ((3.28630 36.72337, 3.28680 36.72384, ...</td>\n    </tr>\n    <tr>\n      <th>1</th>\n      <td>23453621</td>\n      <td>1500</td>\n      <td>building</td>\n      <td>None</td>\n      <td>industrial</td>\n      <td>POLYGON ((3.28839 36.72555, 3.28945 36.72653, ...</td>\n    </tr>\n    <tr>\n      <th>2</th>\n      <td>23453649</td>\n      <td>1500</td>\n      <td>building</td>\n      <td>None</td>\n      <td>industrial</td>\n      <td>POLYGON ((3.29652 36.73153, 3.29695 36.73203, ...</td>\n    </tr>\n    <tr>\n      <th>3</th>\n      <td>26224008</td>\n      <td>1500</td>\n      <td>building</td>\n      <td>Hilton Alger</td>\n      <td>hotel</td>\n      <td>POLYGON ((3.15595 36.73836, 3.15634 36.73856, ...</td>\n    </tr>\n    <tr>\n      <th>4</th>\n      <td>26224288</td>\n      <td>1500</td>\n      <td>building</td>\n      <td>Crystal Lounge</td>\n      <td>None</td>\n      <td>POLYGON ((3.15561 36.73811, 3.15583 36.73823, ...</td>\n    </tr>\n  </tbody>\n</table>\n</div>"
     },
     "metadata": {},
     "execution_count": 2
    }
   ],
   "source": [
    "# Load osm_building Features and calculate polygon centroids\n",
    "home_path = os.getenv('HOME')\n",
    "osm_building_shp = home_path+'/GeoData/OSM/algeria-latest-free.shp/gis_osm_buildings_a_free_1.shp'\n",
    "osm_building_gdf = gpd.read_file(osm_building_shp)\n",
    "osm_building_gdf.head()"
   ]
  },
  {
   "cell_type": "code",
   "execution_count": 3,
   "metadata": {},
   "outputs": [
    {
     "output_type": "execute_result",
     "data": {
      "text/plain": [
       "<Projected CRS: EPSG:3857>\n",
       "Name: WGS 84 / Pseudo-Mercator\n",
       "Axis Info [cartesian]:\n",
       "- X[east]: Easting (metre)\n",
       "- Y[north]: Northing (metre)\n",
       "Area of Use:\n",
       "- name: World - 85°S to 85°N\n",
       "- bounds: (-180.0, -85.06, 180.0, 85.06)\n",
       "Coordinate Operation:\n",
       "- name: Popular Visualisation Pseudo-Mercator\n",
       "- method: Popular Visualisation Pseudo Mercator\n",
       "Datum: World Geodetic System 1984\n",
       "- Ellipsoid: WGS 84\n",
       "- Prime Meridian: Greenwich"
      ]
     },
     "metadata": {},
     "execution_count": 3
    }
   ],
   "source": [
    "# Set the correct CRS and reproject\n",
    "osm_building_gdf = osm_building_gdf.set_crs(\"EPSG:4326\")\n",
    "osm_building_gdf = osm_building_gdf.to_crs(\"EPSG:3857\")\n",
    "\n",
    "osm_building_gdf.crs"
   ]
  },
  {
   "cell_type": "code",
   "execution_count": 4,
   "metadata": {},
   "outputs": [
    {
     "output_type": "execute_result",
     "data": {
      "text/plain": [
       "    num  num_inscription       nom        prenom  \\\n",
       "0  1865             2038     SAIDI    ABDERRAFIR   \n",
       "1   239             1511  BAKHOUIA  ABDERRAHMANE   \n",
       "2  1418             1355    LAAFOU         AHMED   \n",
       "3    61             1632     AHRES        HASSEN   \n",
       "4   327             1213  BELLAOUI  ABDERRAHMANE   \n",
       "\n",
       "                                             adresse wilaya        tel  \\\n",
       "0  RUE ABDELKA DER BENSLIMANE EN FACE PARC DTP - ...  Adrar       None   \n",
       "1                    CITE 137 LOGTS, 1er MAI - ADRAR  Adrar   49966472   \n",
       "2              CITE 175 LOGTS ROUTETILILANE - ADRA R  Adrar  0499667OO   \n",
       "3                       RUE KADDOUR BELLITIM - ADRAR  Adrar   49964925   \n",
       "4                       CITE 05 JUILLET 1962 - ADRAR  Adrar       None   \n",
       "\n",
       "        fax                     email        lat       lon  to_check  \\\n",
       "0      None  saidiabderaflr@gmail.com  33.618970 -7.130554      True   \n",
       "1  49966472         ab647200@yahoo.fr  28.017440 -0.264250     False   \n",
       "2      None                      None  27.898056 -0.248333     False   \n",
       "3      None     hassanahres@gmail.com  27.882773 -0.270904     False   \n",
       "4  49951555                      None  28.017440 -0.264250     False   \n",
       "\n",
       "   code_wil                   geometry  \n",
       "0         1  POINT (-7.13055 33.61897)  \n",
       "1         1  POINT (-0.26425 28.01744)  \n",
       "2         1  POINT (-0.24833 27.89806)  \n",
       "3         1  POINT (-0.27090 27.88277)  \n",
       "4         1  POINT (-0.26425 28.01744)  "
      ],
      "text/html": "<div>\n<style scoped>\n    .dataframe tbody tr th:only-of-type {\n        vertical-align: middle;\n    }\n\n    .dataframe tbody tr th {\n        vertical-align: top;\n    }\n\n    .dataframe thead th {\n        text-align: right;\n    }\n</style>\n<table border=\"1\" class=\"dataframe\">\n  <thead>\n    <tr style=\"text-align: right;\">\n      <th></th>\n      <th>num</th>\n      <th>num_inscription</th>\n      <th>nom</th>\n      <th>prenom</th>\n      <th>adresse</th>\n      <th>wilaya</th>\n      <th>tel</th>\n      <th>fax</th>\n      <th>email</th>\n      <th>lat</th>\n      <th>lon</th>\n      <th>to_check</th>\n      <th>code_wil</th>\n      <th>geometry</th>\n    </tr>\n  </thead>\n  <tbody>\n    <tr>\n      <th>0</th>\n      <td>1865</td>\n      <td>2038</td>\n      <td>SAIDI</td>\n      <td>ABDERRAFIR</td>\n      <td>RUE ABDELKA DER BENSLIMANE EN FACE PARC DTP - ...</td>\n      <td>Adrar</td>\n      <td>None</td>\n      <td>None</td>\n      <td>saidiabderaflr@gmail.com</td>\n      <td>33.618970</td>\n      <td>-7.130554</td>\n      <td>True</td>\n      <td>1</td>\n      <td>POINT (-7.13055 33.61897)</td>\n    </tr>\n    <tr>\n      <th>1</th>\n      <td>239</td>\n      <td>1511</td>\n      <td>BAKHOUIA</td>\n      <td>ABDERRAHMANE</td>\n      <td>CITE 137 LOGTS, 1er MAI - ADRAR</td>\n      <td>Adrar</td>\n      <td>49966472</td>\n      <td>49966472</td>\n      <td>ab647200@yahoo.fr</td>\n      <td>28.017440</td>\n      <td>-0.264250</td>\n      <td>False</td>\n      <td>1</td>\n      <td>POINT (-0.26425 28.01744)</td>\n    </tr>\n    <tr>\n      <th>2</th>\n      <td>1418</td>\n      <td>1355</td>\n      <td>LAAFOU</td>\n      <td>AHMED</td>\n      <td>CITE 175 LOGTS ROUTETILILANE - ADRA R</td>\n      <td>Adrar</td>\n      <td>0499667OO</td>\n      <td>None</td>\n      <td>None</td>\n      <td>27.898056</td>\n      <td>-0.248333</td>\n      <td>False</td>\n      <td>1</td>\n      <td>POINT (-0.24833 27.89806)</td>\n    </tr>\n    <tr>\n      <th>3</th>\n      <td>61</td>\n      <td>1632</td>\n      <td>AHRES</td>\n      <td>HASSEN</td>\n      <td>RUE KADDOUR BELLITIM - ADRAR</td>\n      <td>Adrar</td>\n      <td>49964925</td>\n      <td>None</td>\n      <td>hassanahres@gmail.com</td>\n      <td>27.882773</td>\n      <td>-0.270904</td>\n      <td>False</td>\n      <td>1</td>\n      <td>POINT (-0.27090 27.88277)</td>\n    </tr>\n    <tr>\n      <th>4</th>\n      <td>327</td>\n      <td>1213</td>\n      <td>BELLAOUI</td>\n      <td>ABDERRAHMANE</td>\n      <td>CITE 05 JUILLET 1962 - ADRAR</td>\n      <td>Adrar</td>\n      <td>None</td>\n      <td>49951555</td>\n      <td>None</td>\n      <td>28.017440</td>\n      <td>-0.264250</td>\n      <td>False</td>\n      <td>1</td>\n      <td>POINT (-0.26425 28.01744)</td>\n    </tr>\n  </tbody>\n</table>\n</div>"
     },
     "metadata": {},
     "execution_count": 4
    }
   ],
   "source": [
    "# Load the targeted dataset\n",
    "pois_path = '../dz-datasets/accountants/'\n",
    "pois = gpd.read_file(pois_path + 'pois_checked_in_out_wilayas.geojson')\n",
    "pois.head()"
   ]
  },
  {
   "cell_type": "code",
   "execution_count": 5,
   "metadata": {},
   "outputs": [
    {
     "output_type": "execute_result",
     "data": {
      "text/plain": [
       "<Projected CRS: EPSG:3857>\n",
       "Name: WGS 84 / Pseudo-Mercator\n",
       "Axis Info [cartesian]:\n",
       "- X[east]: Easting (metre)\n",
       "- Y[north]: Northing (metre)\n",
       "Area of Use:\n",
       "- name: World - 85°S to 85°N\n",
       "- bounds: (-180.0, -85.06, 180.0, 85.06)\n",
       "Coordinate Operation:\n",
       "- name: Popular Visualisation Pseudo-Mercator\n",
       "- method: Popular Visualisation Pseudo Mercator\n",
       "Datum: World Geodetic System 1984\n",
       "- Ellipsoid: WGS 84\n",
       "- Prime Meridian: Greenwich"
      ]
     },
     "metadata": {},
     "execution_count": 5
    }
   ],
   "source": [
    "# Define source CRS to geographic and project to a Pseudo-Mercator\n",
    "# Useful for spatial analysis (buffer, intersect, ...)\n",
    "\n",
    "pois = pois.set_crs(\"EPSG:4326\")\n",
    "pois = pois.to_crs(\"EPSG:3857\")\n",
    "pois.crs"
   ]
  },
  {
   "cell_type": "code",
   "execution_count": 6,
   "metadata": {},
   "outputs": [
    {
     "output_type": "execute_result",
     "data": {
      "text/plain": [
       "    num                                           geometry\n",
       "0  1865  POLYGON ((-793269.596 3977753.012, -793272.003...\n",
       "1   239  POLYGON ((-28916.142 3251172.790, -28918.550 3...\n",
       "2  1418  POLYGON ((-27144.337 3236127.002, -27146.744 3...\n",
       "3    61  POLYGON ((-29656.840 3234202.120, -29659.247 3...\n",
       "4   327  POLYGON ((-28916.142 3251172.790, -28918.550 3..."
      ],
      "text/html": "<div>\n<style scoped>\n    .dataframe tbody tr th:only-of-type {\n        vertical-align: middle;\n    }\n\n    .dataframe tbody tr th {\n        vertical-align: top;\n    }\n\n    .dataframe thead th {\n        text-align: right;\n    }\n</style>\n<table border=\"1\" class=\"dataframe\">\n  <thead>\n    <tr style=\"text-align: right;\">\n      <th></th>\n      <th>num</th>\n      <th>geometry</th>\n    </tr>\n  </thead>\n  <tbody>\n    <tr>\n      <th>0</th>\n      <td>1865</td>\n      <td>POLYGON ((-793269.596 3977753.012, -793272.003...</td>\n    </tr>\n    <tr>\n      <th>1</th>\n      <td>239</td>\n      <td>POLYGON ((-28916.142 3251172.790, -28918.550 3...</td>\n    </tr>\n    <tr>\n      <th>2</th>\n      <td>1418</td>\n      <td>POLYGON ((-27144.337 3236127.002, -27146.744 3...</td>\n    </tr>\n    <tr>\n      <th>3</th>\n      <td>61</td>\n      <td>POLYGON ((-29656.840 3234202.120, -29659.247 3...</td>\n    </tr>\n    <tr>\n      <th>4</th>\n      <td>327</td>\n      <td>POLYGON ((-28916.142 3251172.790, -28918.550 3...</td>\n    </tr>\n  </tbody>\n</table>\n</div>"
     },
     "metadata": {},
     "execution_count": 6
    }
   ],
   "source": [
    "# Replace DataFrame geometries with buffers and write it to a file\n",
    "pois['buffer'] = pois.geometry.buffer(500)\n",
    "buffers = pois[['num', 'buffer']]\n",
    "buffers = buffers.rename(columns={'buffer': 'geometry'})\n",
    "buffers = gpd.GeoDataFrame(buffers)\n",
    "buffers = buffers.set_crs(\"EPSG:3857\")\n",
    "#gpd.GeoDataFrame(buffers).to_file(pois_path + \"buffers.geojson\", driver='GeoJSON')\n",
    "buffers.head()"
   ]
  },
  {
   "cell_type": "code",
   "execution_count": 7,
   "metadata": {},
   "outputs": [
    {
     "output_type": "execute_result",
     "data": {
      "text/plain": [
       "num         229595\n",
       "osm_id      229595\n",
       "code        229595\n",
       "fclass      229595\n",
       "name         27409\n",
       "type         59297\n",
       "geometry    229595\n",
       "dtype: int64"
      ]
     },
     "metadata": {},
     "execution_count": 7
    }
   ],
   "source": [
    "# Search for buildings that intersect the locations buffers\n",
    "res_intersection = gpd.overlay(buffers, osm_building_gdf, how='intersection')\n",
    "res_intersection.count()"
   ]
  },
  {
   "cell_type": "code",
   "execution_count": 8,
   "metadata": {},
   "outputs": [
    {
     "output_type": "execute_result",
     "data": {
      "text/plain": [
       "    num     osm_id  code    fclass                 name  type  \\\n",
       "0  1418  433470111  1500  building                 None  None   \n",
       "1    61  304696040  1500  building  Direction des Foret  None   \n",
       "2    61  432784883  1500  building  Direction des Foret  None   \n",
       "3    61  432784884  1500  building                 None  None   \n",
       "4    61  432784886  1500  building                 None  None   \n",
       "\n",
       "                                            geometry  \n",
       "0  POLYGON ((-27307.094 3236402.513, -27306.426 3...  \n",
       "1  POLYGON ((-30027.197 3233895.509, -30008.217 3...  \n",
       "2  POLYGON ((-30040.155 3233856.304, -30030.882 3...  \n",
       "3  POLYGON ((-30022.266 3233831.130, -30013.382 3...  \n",
       "4  POLYGON ((-30033.910 3233802.680, -30015.787 3...  "
      ],
      "text/html": "<div>\n<style scoped>\n    .dataframe tbody tr th:only-of-type {\n        vertical-align: middle;\n    }\n\n    .dataframe tbody tr th {\n        vertical-align: top;\n    }\n\n    .dataframe thead th {\n        text-align: right;\n    }\n</style>\n<table border=\"1\" class=\"dataframe\">\n  <thead>\n    <tr style=\"text-align: right;\">\n      <th></th>\n      <th>num</th>\n      <th>osm_id</th>\n      <th>code</th>\n      <th>fclass</th>\n      <th>name</th>\n      <th>type</th>\n      <th>geometry</th>\n    </tr>\n  </thead>\n  <tbody>\n    <tr>\n      <th>0</th>\n      <td>1418</td>\n      <td>433470111</td>\n      <td>1500</td>\n      <td>building</td>\n      <td>None</td>\n      <td>None</td>\n      <td>POLYGON ((-27307.094 3236402.513, -27306.426 3...</td>\n    </tr>\n    <tr>\n      <th>1</th>\n      <td>61</td>\n      <td>304696040</td>\n      <td>1500</td>\n      <td>building</td>\n      <td>Direction des Foret</td>\n      <td>None</td>\n      <td>POLYGON ((-30027.197 3233895.509, -30008.217 3...</td>\n    </tr>\n    <tr>\n      <th>2</th>\n      <td>61</td>\n      <td>432784883</td>\n      <td>1500</td>\n      <td>building</td>\n      <td>Direction des Foret</td>\n      <td>None</td>\n      <td>POLYGON ((-30040.155 3233856.304, -30030.882 3...</td>\n    </tr>\n    <tr>\n      <th>3</th>\n      <td>61</td>\n      <td>432784884</td>\n      <td>1500</td>\n      <td>building</td>\n      <td>None</td>\n      <td>None</td>\n      <td>POLYGON ((-30022.266 3233831.130, -30013.382 3...</td>\n    </tr>\n    <tr>\n      <th>4</th>\n      <td>61</td>\n      <td>432784886</td>\n      <td>1500</td>\n      <td>building</td>\n      <td>None</td>\n      <td>None</td>\n      <td>POLYGON ((-30033.910 3233802.680, -30015.787 3...</td>\n    </tr>\n  </tbody>\n</table>\n</div>"
     },
     "metadata": {},
     "execution_count": 8
    }
   ],
   "source": [
    "res_intersection.head()"
   ]
  },
  {
   "cell_type": "code",
   "execution_count": 9,
   "metadata": {},
   "outputs": [
    {
     "output_type": "execute_result",
     "data": {
      "text/plain": [
       "    num                                           geometry\n",
       "0  1418  POLYGON ((-27307.094 3236402.513, -27306.426 3...\n",
       "1    61  POLYGON ((-30027.197 3233895.509, -30008.217 3...\n",
       "2    61  POLYGON ((-30040.155 3233856.304, -30030.882 3...\n",
       "3    61  POLYGON ((-30022.266 3233831.130, -30013.382 3...\n",
       "4    61  POLYGON ((-30033.910 3233802.680, -30015.787 3..."
      ],
      "text/html": "<div>\n<style scoped>\n    .dataframe tbody tr th:only-of-type {\n        vertical-align: middle;\n    }\n\n    .dataframe tbody tr th {\n        vertical-align: top;\n    }\n\n    .dataframe thead th {\n        text-align: right;\n    }\n</style>\n<table border=\"1\" class=\"dataframe\">\n  <thead>\n    <tr style=\"text-align: right;\">\n      <th></th>\n      <th>num</th>\n      <th>geometry</th>\n    </tr>\n  </thead>\n  <tbody>\n    <tr>\n      <th>0</th>\n      <td>1418</td>\n      <td>POLYGON ((-27307.094 3236402.513, -27306.426 3...</td>\n    </tr>\n    <tr>\n      <th>1</th>\n      <td>61</td>\n      <td>POLYGON ((-30027.197 3233895.509, -30008.217 3...</td>\n    </tr>\n    <tr>\n      <th>2</th>\n      <td>61</td>\n      <td>POLYGON ((-30040.155 3233856.304, -30030.882 3...</td>\n    </tr>\n    <tr>\n      <th>3</th>\n      <td>61</td>\n      <td>POLYGON ((-30022.266 3233831.130, -30013.382 3...</td>\n    </tr>\n    <tr>\n      <th>4</th>\n      <td>61</td>\n      <td>POLYGON ((-30033.910 3233802.680, -30015.787 3...</td>\n    </tr>\n  </tbody>\n</table>\n</div>"
     },
     "metadata": {},
     "execution_count": 9
    }
   ],
   "source": [
    "# Write intersected building into a GeoJSON file\n",
    "res = res_intersection[['num', 'geometry']]\n",
    "#res.to_file(pois_path + \"intersection.geojson\", driver='GeoJSON')\n",
    "res.head()"
   ]
  },
  {
   "cell_type": "code",
   "execution_count": 10,
   "metadata": {},
   "outputs": [
    {
     "output_type": "execute_result",
     "data": {
      "text/plain": [
       "to_check_osm    1889\n",
       "dtype: int64"
      ]
     },
     "metadata": {},
     "execution_count": 10
    }
   ],
   "source": [
    "# Group results of intersection and add a to_check column (if intersect then doesn't need to check)\n",
    "res_grouped = res [['num']]\n",
    "res_grouped = res_grouped.groupby('num').count()\n",
    "res_grouped['to_check_osm'] = False\n",
    "res_grouped.count()"
   ]
  },
  {
   "cell_type": "code",
   "execution_count": 11,
   "metadata": {},
   "outputs": [
    {
     "output_type": "execute_result",
     "data": {
      "text/plain": [
       "num                2116\n",
       "num_inscription    2116\n",
       "nom                2116\n",
       "prenom             2116\n",
       "adresse            2116\n",
       "wilaya             2116\n",
       "tel                1389\n",
       "fax                 994\n",
       "email              1477\n",
       "lat                2027\n",
       "lon                2027\n",
       "to_check           2116\n",
       "code_wil           2116\n",
       "geometry           2116\n",
       "to_check_osm       1889\n",
       "dtype: int64"
      ]
     },
     "metadata": {},
     "execution_count": 11
    }
   ],
   "source": [
    "# Merge with DataFrame and set geometry to centroids\n",
    "pois_gdf = pois.merge(res_grouped, left_on='num', right_on='num', how='left')\n",
    "pois_gdf.drop(columns=['buffer'], inplace=True)\n",
    "pois_gdf.count()"
   ]
  },
  {
   "cell_type": "code",
   "execution_count": 12,
   "metadata": {},
   "outputs": [
    {
     "output_type": "execute_result",
     "data": {
      "text/plain": [
       "       num  num_inscription           nom        prenom  \\\n",
       "0     1865             2038         SAIDI    ABDERRAFIR   \n",
       "1      239             1511      BAKHOUIA  ABDERRAHMANE   \n",
       "4      327             1213      BELLAOUI  ABDERRAHMANE   \n",
       "5     1517             1189         MALKI        RACHID   \n",
       "6     1086              801         GRISI       MOHAMED   \n",
       "...    ...              ...           ...           ...   \n",
       "2099  1757             2027  OULAD HEDDAR      MAHAMMED   \n",
       "2100   430             1877    BENKHELIFA           ALI   \n",
       "2101  1033              273      FIHAKHIR        BACHIR   \n",
       "2106  1045             2182       GACE Ml         ATIKA   \n",
       "2115  1740             2025      OUAZZANE       M'HAMED   \n",
       "\n",
       "                                                adresse    wilaya        tel  \\\n",
       "0     RUE ABDELKA DER BENSLIMANE EN FACE PARC DTP - ...     Adrar       None   \n",
       "1                       CITE 137 LOGTS, 1er MAI - ADRAR     Adrar   49966472   \n",
       "4                          CITE 05 JUILLET 1962 - ADRAR     Adrar       None   \n",
       "5                     RUE BELGHIT MOHAMMED N°20 - ADRAR     Adrar   49967999   \n",
       "6           CIA DES FONCTIONNAIRES BT 05 N'C 06 - CHLEF     Chlef   27777822   \n",
       "...                                                 ...       ...        ...   \n",
       "2099                                 BP 5045 - GHARDAIA  Ghardaia  0298376OO   \n",
       "2100              26, AVENUE  DU 1er NOVEMBRE -GHARDAIA  Ghardaia   29234702   \n",
       "2101           T.E.M, RUE BELMOKHTAR SLIMANE - GHARDAIA  Ghardaia   29837281   \n",
       "2106  COLLECTIVITE 90 LOGEMENT  82 N'l6 OUED RHIOU -...  Relizane       None   \n",
       "2115                      RUE HADJ ABEDATIKA - RELIZANE  Relizane       None   \n",
       "\n",
       "            fax                     email        lat        lon  to_check  \\\n",
       "0          None  saidiabderaflr@gmail.com  33.618970  -7.130554      True   \n",
       "1      49966472         ab647200@yahoo.fr  28.017440  -0.264250     False   \n",
       "4      49951555                      None  28.017440  -0.264250     False   \n",
       "5          None        malki2004@yahoo.fr  28.017440  -0.264250     False   \n",
       "6          None                      None  36.417984 -79.650211      True   \n",
       "...         ...                       ...        ...        ...       ...   \n",
       "2099  0298376OO       comptamoh@gmail.com  32.494374   3.644460     False   \n",
       "2100   29234703    alibenkhelifa@yahoo.fr        NaN        NaN      True   \n",
       "2101   29837281                      None  32.494374   3.644460     False   \n",
       "2106       None        atgaceml@gmall.com  35.977005   0.924750     False   \n",
       "2115       None                      None        NaN        NaN      True   \n",
       "\n",
       "      code_wil                          geometry  to_check_osm  \n",
       "0            1   POINT (-793769.596 3977753.012)          True  \n",
       "1            1    POINT (-29416.142 3251172.790)          True  \n",
       "4            1    POINT (-29416.142 3251172.790)          True  \n",
       "5            1    POINT (-29416.142 3251172.790)          True  \n",
       "6            2  POINT (-8866620.874 4358288.772)          True  \n",
       "...        ...                               ...           ...  \n",
       "2099        47    POINT (405699.431 3828381.296)          True  \n",
       "2100        47    POINT (353693.063 3656147.148)          True  \n",
       "2101        47    POINT (405699.431 3828381.296)          True  \n",
       "2106        48    POINT (102942.710 4297457.729)          True  \n",
       "2115        48     POINT (89202.574 4273246.295)          True  \n",
       "\n",
       "[227 rows x 15 columns]"
      ],
      "text/html": "<div>\n<style scoped>\n    .dataframe tbody tr th:only-of-type {\n        vertical-align: middle;\n    }\n\n    .dataframe tbody tr th {\n        vertical-align: top;\n    }\n\n    .dataframe thead th {\n        text-align: right;\n    }\n</style>\n<table border=\"1\" class=\"dataframe\">\n  <thead>\n    <tr style=\"text-align: right;\">\n      <th></th>\n      <th>num</th>\n      <th>num_inscription</th>\n      <th>nom</th>\n      <th>prenom</th>\n      <th>adresse</th>\n      <th>wilaya</th>\n      <th>tel</th>\n      <th>fax</th>\n      <th>email</th>\n      <th>lat</th>\n      <th>lon</th>\n      <th>to_check</th>\n      <th>code_wil</th>\n      <th>geometry</th>\n      <th>to_check_osm</th>\n    </tr>\n  </thead>\n  <tbody>\n    <tr>\n      <th>0</th>\n      <td>1865</td>\n      <td>2038</td>\n      <td>SAIDI</td>\n      <td>ABDERRAFIR</td>\n      <td>RUE ABDELKA DER BENSLIMANE EN FACE PARC DTP - ...</td>\n      <td>Adrar</td>\n      <td>None</td>\n      <td>None</td>\n      <td>saidiabderaflr@gmail.com</td>\n      <td>33.618970</td>\n      <td>-7.130554</td>\n      <td>True</td>\n      <td>1</td>\n      <td>POINT (-793769.596 3977753.012)</td>\n      <td>True</td>\n    </tr>\n    <tr>\n      <th>1</th>\n      <td>239</td>\n      <td>1511</td>\n      <td>BAKHOUIA</td>\n      <td>ABDERRAHMANE</td>\n      <td>CITE 137 LOGTS, 1er MAI - ADRAR</td>\n      <td>Adrar</td>\n      <td>49966472</td>\n      <td>49966472</td>\n      <td>ab647200@yahoo.fr</td>\n      <td>28.017440</td>\n      <td>-0.264250</td>\n      <td>False</td>\n      <td>1</td>\n      <td>POINT (-29416.142 3251172.790)</td>\n      <td>True</td>\n    </tr>\n    <tr>\n      <th>4</th>\n      <td>327</td>\n      <td>1213</td>\n      <td>BELLAOUI</td>\n      <td>ABDERRAHMANE</td>\n      <td>CITE 05 JUILLET 1962 - ADRAR</td>\n      <td>Adrar</td>\n      <td>None</td>\n      <td>49951555</td>\n      <td>None</td>\n      <td>28.017440</td>\n      <td>-0.264250</td>\n      <td>False</td>\n      <td>1</td>\n      <td>POINT (-29416.142 3251172.790)</td>\n      <td>True</td>\n    </tr>\n    <tr>\n      <th>5</th>\n      <td>1517</td>\n      <td>1189</td>\n      <td>MALKI</td>\n      <td>RACHID</td>\n      <td>RUE BELGHIT MOHAMMED N°20 - ADRAR</td>\n      <td>Adrar</td>\n      <td>49967999</td>\n      <td>None</td>\n      <td>malki2004@yahoo.fr</td>\n      <td>28.017440</td>\n      <td>-0.264250</td>\n      <td>False</td>\n      <td>1</td>\n      <td>POINT (-29416.142 3251172.790)</td>\n      <td>True</td>\n    </tr>\n    <tr>\n      <th>6</th>\n      <td>1086</td>\n      <td>801</td>\n      <td>GRISI</td>\n      <td>MOHAMED</td>\n      <td>CIA DES FONCTIONNAIRES BT 05 N'C 06 - CHLEF</td>\n      <td>Chlef</td>\n      <td>27777822</td>\n      <td>None</td>\n      <td>None</td>\n      <td>36.417984</td>\n      <td>-79.650211</td>\n      <td>True</td>\n      <td>2</td>\n      <td>POINT (-8866620.874 4358288.772)</td>\n      <td>True</td>\n    </tr>\n    <tr>\n      <th>...</th>\n      <td>...</td>\n      <td>...</td>\n      <td>...</td>\n      <td>...</td>\n      <td>...</td>\n      <td>...</td>\n      <td>...</td>\n      <td>...</td>\n      <td>...</td>\n      <td>...</td>\n      <td>...</td>\n      <td>...</td>\n      <td>...</td>\n      <td>...</td>\n      <td>...</td>\n    </tr>\n    <tr>\n      <th>2099</th>\n      <td>1757</td>\n      <td>2027</td>\n      <td>OULAD HEDDAR</td>\n      <td>MAHAMMED</td>\n      <td>BP 5045 - GHARDAIA</td>\n      <td>Ghardaia</td>\n      <td>0298376OO</td>\n      <td>0298376OO</td>\n      <td>comptamoh@gmail.com</td>\n      <td>32.494374</td>\n      <td>3.644460</td>\n      <td>False</td>\n      <td>47</td>\n      <td>POINT (405699.431 3828381.296)</td>\n      <td>True</td>\n    </tr>\n    <tr>\n      <th>2100</th>\n      <td>430</td>\n      <td>1877</td>\n      <td>BENKHELIFA</td>\n      <td>ALI</td>\n      <td>26, AVENUE  DU 1er NOVEMBRE -GHARDAIA</td>\n      <td>Ghardaia</td>\n      <td>29234702</td>\n      <td>29234703</td>\n      <td>alibenkhelifa@yahoo.fr</td>\n      <td>NaN</td>\n      <td>NaN</td>\n      <td>True</td>\n      <td>47</td>\n      <td>POINT (353693.063 3656147.148)</td>\n      <td>True</td>\n    </tr>\n    <tr>\n      <th>2101</th>\n      <td>1033</td>\n      <td>273</td>\n      <td>FIHAKHIR</td>\n      <td>BACHIR</td>\n      <td>T.E.M, RUE BELMOKHTAR SLIMANE - GHARDAIA</td>\n      <td>Ghardaia</td>\n      <td>29837281</td>\n      <td>29837281</td>\n      <td>None</td>\n      <td>32.494374</td>\n      <td>3.644460</td>\n      <td>False</td>\n      <td>47</td>\n      <td>POINT (405699.431 3828381.296)</td>\n      <td>True</td>\n    </tr>\n    <tr>\n      <th>2106</th>\n      <td>1045</td>\n      <td>2182</td>\n      <td>GACE Ml</td>\n      <td>ATIKA</td>\n      <td>COLLECTIVITE 90 LOGEMENT  82 N'l6 OUED RHIOU -...</td>\n      <td>Relizane</td>\n      <td>None</td>\n      <td>None</td>\n      <td>atgaceml@gmall.com</td>\n      <td>35.977005</td>\n      <td>0.924750</td>\n      <td>False</td>\n      <td>48</td>\n      <td>POINT (102942.710 4297457.729)</td>\n      <td>True</td>\n    </tr>\n    <tr>\n      <th>2115</th>\n      <td>1740</td>\n      <td>2025</td>\n      <td>OUAZZANE</td>\n      <td>M'HAMED</td>\n      <td>RUE HADJ ABEDATIKA - RELIZANE</td>\n      <td>Relizane</td>\n      <td>None</td>\n      <td>None</td>\n      <td>None</td>\n      <td>NaN</td>\n      <td>NaN</td>\n      <td>True</td>\n      <td>48</td>\n      <td>POINT (89202.574 4273246.295)</td>\n      <td>True</td>\n    </tr>\n  </tbody>\n</table>\n<p>227 rows × 15 columns</p>\n</div>"
     },
     "metadata": {},
     "execution_count": 12
    }
   ],
   "source": [
    "# Update to_check column :if doesn't intersect then we need to check it manually\n",
    "pois_gdf['to_check_osm'] = pois_gdf.apply(lambda row: row.to_check_osm != False, axis=1)\n",
    "pois_gdf[pois_gdf['to_check_osm'] != False]"
   ]
  },
  {
   "cell_type": "code",
   "execution_count": 13,
   "metadata": {},
   "outputs": [
    {
     "output_type": "execute_result",
     "data": {
      "text/plain": [
       "       num  num_inscription         nom        prenom  \\\n",
       "0     1865             2038       SAIDI    ABDERRAFIR   \n",
       "1      239             1511    BAKHOUIA  ABDERRAHMANE   \n",
       "4      327             1213    BELLAOUI  ABDERRAHMANE   \n",
       "5     1517             1189       MALKI        RACHID   \n",
       "6     1086              801       GRISI       MOHAMED   \n",
       "...    ...              ...         ...           ...   \n",
       "2100   430             1877  BENKHELIFA           ALI   \n",
       "2101  1033              273    FIHAKHIR        BACHIR   \n",
       "2106  1045             2182     GACE Ml         ATIKA   \n",
       "2108  1130             1666      HADOAD         AHMED   \n",
       "2115  1740             2025    OUAZZANE       M'HAMED   \n",
       "\n",
       "                                                adresse    wilaya       tel  \\\n",
       "0     RUE ABDELKA DER BENSLIMANE EN FACE PARC DTP - ...     Adrar      None   \n",
       "1                       CITE 137 LOGTS, 1er MAI - ADRAR     Adrar  49966472   \n",
       "4                          CITE 05 JUILLET 1962 - ADRAR     Adrar      None   \n",
       "5                     RUE BELGHIT MOHAMMED N°20 - ADRAR     Adrar  49967999   \n",
       "6           CIA DES FONCTIONNAIRES BT 05 N'C 06 - CHLEF     Chlef  27777822   \n",
       "...                                                 ...       ...       ...   \n",
       "2100              26, AVENUE  DU 1er NOVEMBRE -GHARDAIA  Ghardaia  29234702   \n",
       "2101           T.E.M, RUE BELMOKHTAR SLIMANE - GHARDAIA  Ghardaia  29837281   \n",
       "2106  COLLECTIVITE 90 LOGEMENT  82 N'l6 OUED RHIOU -...  Relizane      None   \n",
       "2108                  RUE HAMANI BELOJILALI - GUELIZANE  Relizane  46718057   \n",
       "2115                      RUE HADJ ABEDATIKA - RELIZANE  Relizane      None   \n",
       "\n",
       "           fax                     email        lat        lon  to_check  \\\n",
       "0         None  saidiabderaflr@gmail.com  33.618970  -7.130554      True   \n",
       "1     49966472         ab647200@yahoo.fr  28.017440  -0.264250      True   \n",
       "4     49951555                      None  28.017440  -0.264250      True   \n",
       "5         None        malki2004@yahoo.fr  28.017440  -0.264250      True   \n",
       "6         None                      None  36.417984 -79.650211      True   \n",
       "...        ...                       ...        ...        ...       ...   \n",
       "2100  29234703    alibenkhelifa@yahoo.fr        NaN        NaN      True   \n",
       "2101  29837281                      None  32.494374   3.644460      True   \n",
       "2106      None        atgaceml@gmall.com  35.977005   0.924750      True   \n",
       "2108      None                      None  36.770662   3.056956      True   \n",
       "2115      None                      None        NaN        NaN      True   \n",
       "\n",
       "      code_wil                          geometry  to_check_osm  \n",
       "0            1   POINT (-793769.596 3977753.012)          True  \n",
       "1            1    POINT (-29416.142 3251172.790)          True  \n",
       "4            1    POINT (-29416.142 3251172.790)          True  \n",
       "5            1    POINT (-29416.142 3251172.790)          True  \n",
       "6            2  POINT (-8866620.874 4358288.772)          True  \n",
       "...        ...                               ...           ...  \n",
       "2100        47    POINT (353693.063 3656147.148)          True  \n",
       "2101        47    POINT (405699.431 3828381.296)          True  \n",
       "2106        48    POINT (102942.710 4297457.729)          True  \n",
       "2108        48    POINT (340298.785 4407188.097)         False  \n",
       "2115        48     POINT (89202.574 4273246.295)          True  \n",
       "\n",
       "[283 rows x 15 columns]"
      ],
      "text/html": "<div>\n<style scoped>\n    .dataframe tbody tr th:only-of-type {\n        vertical-align: middle;\n    }\n\n    .dataframe tbody tr th {\n        vertical-align: top;\n    }\n\n    .dataframe thead th {\n        text-align: right;\n    }\n</style>\n<table border=\"1\" class=\"dataframe\">\n  <thead>\n    <tr style=\"text-align: right;\">\n      <th></th>\n      <th>num</th>\n      <th>num_inscription</th>\n      <th>nom</th>\n      <th>prenom</th>\n      <th>adresse</th>\n      <th>wilaya</th>\n      <th>tel</th>\n      <th>fax</th>\n      <th>email</th>\n      <th>lat</th>\n      <th>lon</th>\n      <th>to_check</th>\n      <th>code_wil</th>\n      <th>geometry</th>\n      <th>to_check_osm</th>\n    </tr>\n  </thead>\n  <tbody>\n    <tr>\n      <th>0</th>\n      <td>1865</td>\n      <td>2038</td>\n      <td>SAIDI</td>\n      <td>ABDERRAFIR</td>\n      <td>RUE ABDELKA DER BENSLIMANE EN FACE PARC DTP - ...</td>\n      <td>Adrar</td>\n      <td>None</td>\n      <td>None</td>\n      <td>saidiabderaflr@gmail.com</td>\n      <td>33.618970</td>\n      <td>-7.130554</td>\n      <td>True</td>\n      <td>1</td>\n      <td>POINT (-793769.596 3977753.012)</td>\n      <td>True</td>\n    </tr>\n    <tr>\n      <th>1</th>\n      <td>239</td>\n      <td>1511</td>\n      <td>BAKHOUIA</td>\n      <td>ABDERRAHMANE</td>\n      <td>CITE 137 LOGTS, 1er MAI - ADRAR</td>\n      <td>Adrar</td>\n      <td>49966472</td>\n      <td>49966472</td>\n      <td>ab647200@yahoo.fr</td>\n      <td>28.017440</td>\n      <td>-0.264250</td>\n      <td>True</td>\n      <td>1</td>\n      <td>POINT (-29416.142 3251172.790)</td>\n      <td>True</td>\n    </tr>\n    <tr>\n      <th>4</th>\n      <td>327</td>\n      <td>1213</td>\n      <td>BELLAOUI</td>\n      <td>ABDERRAHMANE</td>\n      <td>CITE 05 JUILLET 1962 - ADRAR</td>\n      <td>Adrar</td>\n      <td>None</td>\n      <td>49951555</td>\n      <td>None</td>\n      <td>28.017440</td>\n      <td>-0.264250</td>\n      <td>True</td>\n      <td>1</td>\n      <td>POINT (-29416.142 3251172.790)</td>\n      <td>True</td>\n    </tr>\n    <tr>\n      <th>5</th>\n      <td>1517</td>\n      <td>1189</td>\n      <td>MALKI</td>\n      <td>RACHID</td>\n      <td>RUE BELGHIT MOHAMMED N°20 - ADRAR</td>\n      <td>Adrar</td>\n      <td>49967999</td>\n      <td>None</td>\n      <td>malki2004@yahoo.fr</td>\n      <td>28.017440</td>\n      <td>-0.264250</td>\n      <td>True</td>\n      <td>1</td>\n      <td>POINT (-29416.142 3251172.790)</td>\n      <td>True</td>\n    </tr>\n    <tr>\n      <th>6</th>\n      <td>1086</td>\n      <td>801</td>\n      <td>GRISI</td>\n      <td>MOHAMED</td>\n      <td>CIA DES FONCTIONNAIRES BT 05 N'C 06 - CHLEF</td>\n      <td>Chlef</td>\n      <td>27777822</td>\n      <td>None</td>\n      <td>None</td>\n      <td>36.417984</td>\n      <td>-79.650211</td>\n      <td>True</td>\n      <td>2</td>\n      <td>POINT (-8866620.874 4358288.772)</td>\n      <td>True</td>\n    </tr>\n    <tr>\n      <th>...</th>\n      <td>...</td>\n      <td>...</td>\n      <td>...</td>\n      <td>...</td>\n      <td>...</td>\n      <td>...</td>\n      <td>...</td>\n      <td>...</td>\n      <td>...</td>\n      <td>...</td>\n      <td>...</td>\n      <td>...</td>\n      <td>...</td>\n      <td>...</td>\n      <td>...</td>\n    </tr>\n    <tr>\n      <th>2100</th>\n      <td>430</td>\n      <td>1877</td>\n      <td>BENKHELIFA</td>\n      <td>ALI</td>\n      <td>26, AVENUE  DU 1er NOVEMBRE -GHARDAIA</td>\n      <td>Ghardaia</td>\n      <td>29234702</td>\n      <td>29234703</td>\n      <td>alibenkhelifa@yahoo.fr</td>\n      <td>NaN</td>\n      <td>NaN</td>\n      <td>True</td>\n      <td>47</td>\n      <td>POINT (353693.063 3656147.148)</td>\n      <td>True</td>\n    </tr>\n    <tr>\n      <th>2101</th>\n      <td>1033</td>\n      <td>273</td>\n      <td>FIHAKHIR</td>\n      <td>BACHIR</td>\n      <td>T.E.M, RUE BELMOKHTAR SLIMANE - GHARDAIA</td>\n      <td>Ghardaia</td>\n      <td>29837281</td>\n      <td>29837281</td>\n      <td>None</td>\n      <td>32.494374</td>\n      <td>3.644460</td>\n      <td>True</td>\n      <td>47</td>\n      <td>POINT (405699.431 3828381.296)</td>\n      <td>True</td>\n    </tr>\n    <tr>\n      <th>2106</th>\n      <td>1045</td>\n      <td>2182</td>\n      <td>GACE Ml</td>\n      <td>ATIKA</td>\n      <td>COLLECTIVITE 90 LOGEMENT  82 N'l6 OUED RHIOU -...</td>\n      <td>Relizane</td>\n      <td>None</td>\n      <td>None</td>\n      <td>atgaceml@gmall.com</td>\n      <td>35.977005</td>\n      <td>0.924750</td>\n      <td>True</td>\n      <td>48</td>\n      <td>POINT (102942.710 4297457.729)</td>\n      <td>True</td>\n    </tr>\n    <tr>\n      <th>2108</th>\n      <td>1130</td>\n      <td>1666</td>\n      <td>HADOAD</td>\n      <td>AHMED</td>\n      <td>RUE HAMANI BELOJILALI - GUELIZANE</td>\n      <td>Relizane</td>\n      <td>46718057</td>\n      <td>None</td>\n      <td>None</td>\n      <td>36.770662</td>\n      <td>3.056956</td>\n      <td>True</td>\n      <td>48</td>\n      <td>POINT (340298.785 4407188.097)</td>\n      <td>False</td>\n    </tr>\n    <tr>\n      <th>2115</th>\n      <td>1740</td>\n      <td>2025</td>\n      <td>OUAZZANE</td>\n      <td>M'HAMED</td>\n      <td>RUE HADJ ABEDATIKA - RELIZANE</td>\n      <td>Relizane</td>\n      <td>None</td>\n      <td>None</td>\n      <td>None</td>\n      <td>NaN</td>\n      <td>NaN</td>\n      <td>True</td>\n      <td>48</td>\n      <td>POINT (89202.574 4273246.295)</td>\n      <td>True</td>\n    </tr>\n  </tbody>\n</table>\n<p>283 rows × 15 columns</p>\n</div>"
     },
     "metadata": {},
     "execution_count": 13
    }
   ],
   "source": [
    "final_gdf = pois_gdf\n",
    "final_gdf['to_check'] = (pois_gdf['to_check'] == True) | (pois_gdf['to_check_osm'] == True)   \n",
    "final_gdf[final_gdf.to_check == True]"
   ]
  },
  {
   "cell_type": "code",
   "execution_count": 14,
   "metadata": {},
   "outputs": [],
   "source": [
    "# Drop unecessary columns\n",
    "final_gdf = final_gdf.drop(columns=['to_check_osm'], axis=1)"
   ]
  },
  {
   "cell_type": "code",
   "execution_count": 15,
   "metadata": {},
   "outputs": [],
   "source": [
    "# Reproject to geograĥic and Write to a GeoPackage file\n",
    "final_gdf = final_gdf.set_crs(\"EPSG:3857\")\n",
    "final_gdf = final_gdf.to_crs(\"EPSG:4326\")\n",
    "final_gdf.to_file(pois_path + \"pois_to_check.geojson\", driver='GeoJSON')"
   ]
  }
 ]
}