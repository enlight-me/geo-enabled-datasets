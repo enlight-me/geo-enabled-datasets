{
 "metadata": {
  "language_info": {
   "codemirror_mode": {
    "name": "ipython",
    "version": 3
   },
   "file_extension": ".py",
   "mimetype": "text/x-python",
   "name": "python",
   "nbconvert_exporter": "python",
   "pygments_lexer": "ipython3",
   "version": "3.8.5"
  },
  "orig_nbformat": 2,
  "kernelspec": {
   "name": "python38564bitc5dda015dcc140dba795e9b0465f9f9d",
   "display_name": "Python 3.8.5 64-bit"
  },
  "metadata": {
   "interpreter": {
    "hash": "916dbcbb3f70747c44a77c7bcd40155683ae19c65e1c03b4aa3499c5328201f1"
   }
  }
 },
 "nbformat": 4,
 "nbformat_minor": 2,
 "cells": [
  {
   "cell_type": "code",
   "execution_count": 71,
   "metadata": {},
   "outputs": [],
   "source": [
    "import pandas as pd \n",
    "import geopandas as gpd \n",
    "from shapely.geometry import Point\n",
    "import numpy as np "
   ]
  },
  {
   "cell_type": "code",
   "execution_count": 58,
   "metadata": {},
   "outputs": [
    {
     "output_type": "stream",
     "name": "stderr",
     "text": [
      "<ipython-input-58-6fe9d1a6e253>:4: UserWarning: Geometry is in a geographic CRS. Results from 'centroid' are likely incorrect. Use 'GeoSeries.to_crs()' to re-project geometries to a projected CRS before this operation.\n\n  wilayas_gdf['centroid'] = wilayas_gdf['geometry'].centroid\n"
     ]
    },
    {
     "output_type": "execute_result",
     "data": {
      "text/plain": [
       "   code             nom         nom_maj      nom_ar  \\\n",
       "0     1           Adrar           ADRAR       أدرار   \n",
       "1     2           Chlef           CHLEF       الشلف   \n",
       "2     3        Laghouat        LAGHOUAT      اﻷغواط   \n",
       "3     4  Oum El Bouaghi  OUM EL BOUAGHI  أم البواقي   \n",
       "4     5           Batna           BATNA       باتنة   \n",
       "\n",
       "                                            geometry  \\\n",
       "0  MULTIPOLYGON (((1.33461 20.72282, 1.32667 20.7...   \n",
       "1  MULTIPOLYGON (((1.55326 36.02990, 1.55325 36.0...   \n",
       "2  MULTIPOLYGON (((2.88464 32.88137, 2.87848 32.8...   \n",
       "3  MULTIPOLYGON (((7.47320 35.52005, 7.47227 35.5...   \n",
       "4  MULTIPOLYGON (((6.10102 35.05459, 6.10090 35.0...   \n",
       "\n",
       "                    centroid  \n",
       "0  POINT (-0.62174 26.01400)  \n",
       "1   POINT (1.25669 36.23826)  \n",
       "2   POINT (2.72955 33.60757)  \n",
       "3   POINT (7.06527 35.83646)  \n",
       "4   POINT (5.87455 35.41969)  "
      ],
      "text/html": "<div>\n<style scoped>\n    .dataframe tbody tr th:only-of-type {\n        vertical-align: middle;\n    }\n\n    .dataframe tbody tr th {\n        vertical-align: top;\n    }\n\n    .dataframe thead th {\n        text-align: right;\n    }\n</style>\n<table border=\"1\" class=\"dataframe\">\n  <thead>\n    <tr style=\"text-align: right;\">\n      <th></th>\n      <th>code</th>\n      <th>nom</th>\n      <th>nom_maj</th>\n      <th>nom_ar</th>\n      <th>geometry</th>\n      <th>centroid</th>\n    </tr>\n  </thead>\n  <tbody>\n    <tr>\n      <th>0</th>\n      <td>1</td>\n      <td>Adrar</td>\n      <td>ADRAR</td>\n      <td>أدرار</td>\n      <td>MULTIPOLYGON (((1.33461 20.72282, 1.32667 20.7...</td>\n      <td>POINT (-0.62174 26.01400)</td>\n    </tr>\n    <tr>\n      <th>1</th>\n      <td>2</td>\n      <td>Chlef</td>\n      <td>CHLEF</td>\n      <td>الشلف</td>\n      <td>MULTIPOLYGON (((1.55326 36.02990, 1.55325 36.0...</td>\n      <td>POINT (1.25669 36.23826)</td>\n    </tr>\n    <tr>\n      <th>2</th>\n      <td>3</td>\n      <td>Laghouat</td>\n      <td>LAGHOUAT</td>\n      <td>اﻷغواط</td>\n      <td>MULTIPOLYGON (((2.88464 32.88137, 2.87848 32.8...</td>\n      <td>POINT (2.72955 33.60757)</td>\n    </tr>\n    <tr>\n      <th>3</th>\n      <td>4</td>\n      <td>Oum El Bouaghi</td>\n      <td>OUM EL BOUAGHI</td>\n      <td>أم البواقي</td>\n      <td>MULTIPOLYGON (((7.47320 35.52005, 7.47227 35.5...</td>\n      <td>POINT (7.06527 35.83646)</td>\n    </tr>\n    <tr>\n      <th>4</th>\n      <td>5</td>\n      <td>Batna</td>\n      <td>BATNA</td>\n      <td>باتنة</td>\n      <td>MULTIPOLYGON (((6.10102 35.05459, 6.10090 35.0...</td>\n      <td>POINT (5.87455 35.41969)</td>\n    </tr>\n  </tbody>\n</table>\n</div>"
     },
     "metadata": {},
     "execution_count": 58
    }
   ],
   "source": [
    "# Load Wilayas Features and calculate polygon centroids\n",
    "wilayas_gjson = '../dz-admin/wilayas_48.geojson'\n",
    "wilayas_gdf = gpd.read_file(wilayas_gjson)\n",
    "wilayas_gdf['centroid'] = wilayas_gdf['geometry'].centroid\n",
    "wilayas_gdf.head()"
   ]
  },
  {
   "cell_type": "code",
   "execution_count": 72,
   "metadata": {},
   "outputs": [
    {
     "output_type": "execute_result",
     "data": {
      "text/plain": [
       "<Geographic 2D CRS: EPSG:4326>\n",
       "Name: WGS 84\n",
       "Axis Info [ellipsoidal]:\n",
       "- Lat[north]: Geodetic latitude (degree)\n",
       "- Lon[east]: Geodetic longitude (degree)\n",
       "Area of Use:\n",
       "- name: World\n",
       "- bounds: (-180.0, -90.0, 180.0, 90.0)\n",
       "Datum: World Geodetic System 1984\n",
       "- Ellipsoid: WGS 84\n",
       "- Prime Meridian: Greenwich"
      ]
     },
     "metadata": {},
     "execution_count": 72
    }
   ],
   "source": [
    "wilayas_gdf = wilayas_gdf.set_crs(\"EPSG:4326\")\n",
    "wilayas_gdf.crs"
   ]
  },
  {
   "cell_type": "code",
   "execution_count": 73,
   "metadata": {},
   "outputs": [
    {
     "output_type": "execute_result",
     "data": {
      "text/plain": [
       "   num  num_inscription               nom           prenom  \\\n",
       "0    1             1707             ABADA  MOHAMMED CHERIF   \n",
       "1    2              202  ABADA eps GUERFI           FARIDA   \n",
       "2    3             1708            ABADOU         MOHAMMED   \n",
       "3    4              214              ABAR          MOHAMEO   \n",
       "4    5             1073            ABBACI          MOHAMED   \n",
       "\n",
       "                                        adresse  wilaya       tel       fax  \\\n",
       "0           58,RUE ABDELHAMID BENBADIS - ANNABA  Annaba  38862288       NaN   \n",
       "1  CITE PLEINE OUEST 687 LOGTS BLOC 13 - ANNABA  Annaba  38542953  38761462   \n",
       "2   CITE 556 LOGTS Bt 110 N'111FERDJIOUA - MILA    Mila       NaN       NaN   \n",
       "3      32, RUE DES FUSILLES,EL ANNASS ER -ALGER   Alger       NaN  21684890   \n",
       "4                         BO EL MOKRANI - CHLEF   Chlef  27775003       NaN   \n",
       "\n",
       "                      email        lat       lon  to_check  \n",
       "0  abadamedcherif@gmail.com  36.914208  7.742667     False  \n",
       "1                       NaN  36.900380  7.734217     False  \n",
       "2                       NaN        NaN       NaN     False  \n",
       "3         cab_abar@yahoo.fr        NaN       NaN     False  \n",
       "4                       NaN  36.157966  1.337282     False  "
      ],
      "text/html": "<div>\n<style scoped>\n    .dataframe tbody tr th:only-of-type {\n        vertical-align: middle;\n    }\n\n    .dataframe tbody tr th {\n        vertical-align: top;\n    }\n\n    .dataframe thead th {\n        text-align: right;\n    }\n</style>\n<table border=\"1\" class=\"dataframe\">\n  <thead>\n    <tr style=\"text-align: right;\">\n      <th></th>\n      <th>num</th>\n      <th>num_inscription</th>\n      <th>nom</th>\n      <th>prenom</th>\n      <th>adresse</th>\n      <th>wilaya</th>\n      <th>tel</th>\n      <th>fax</th>\n      <th>email</th>\n      <th>lat</th>\n      <th>lon</th>\n      <th>to_check</th>\n    </tr>\n  </thead>\n  <tbody>\n    <tr>\n      <th>0</th>\n      <td>1</td>\n      <td>1707</td>\n      <td>ABADA</td>\n      <td>MOHAMMED CHERIF</td>\n      <td>58,RUE ABDELHAMID BENBADIS - ANNABA</td>\n      <td>Annaba</td>\n      <td>38862288</td>\n      <td>NaN</td>\n      <td>abadamedcherif@gmail.com</td>\n      <td>36.914208</td>\n      <td>7.742667</td>\n      <td>False</td>\n    </tr>\n    <tr>\n      <th>1</th>\n      <td>2</td>\n      <td>202</td>\n      <td>ABADA eps GUERFI</td>\n      <td>FARIDA</td>\n      <td>CITE PLEINE OUEST 687 LOGTS BLOC 13 - ANNABA</td>\n      <td>Annaba</td>\n      <td>38542953</td>\n      <td>38761462</td>\n      <td>NaN</td>\n      <td>36.900380</td>\n      <td>7.734217</td>\n      <td>False</td>\n    </tr>\n    <tr>\n      <th>2</th>\n      <td>3</td>\n      <td>1708</td>\n      <td>ABADOU</td>\n      <td>MOHAMMED</td>\n      <td>CITE 556 LOGTS Bt 110 N'111FERDJIOUA - MILA</td>\n      <td>Mila</td>\n      <td>NaN</td>\n      <td>NaN</td>\n      <td>NaN</td>\n      <td>NaN</td>\n      <td>NaN</td>\n      <td>False</td>\n    </tr>\n    <tr>\n      <th>3</th>\n      <td>4</td>\n      <td>214</td>\n      <td>ABAR</td>\n      <td>MOHAMEO</td>\n      <td>32, RUE DES FUSILLES,EL ANNASS ER -ALGER</td>\n      <td>Alger</td>\n      <td>NaN</td>\n      <td>21684890</td>\n      <td>cab_abar@yahoo.fr</td>\n      <td>NaN</td>\n      <td>NaN</td>\n      <td>False</td>\n    </tr>\n    <tr>\n      <th>4</th>\n      <td>5</td>\n      <td>1073</td>\n      <td>ABBACI</td>\n      <td>MOHAMED</td>\n      <td>BO EL MOKRANI - CHLEF</td>\n      <td>Chlef</td>\n      <td>27775003</td>\n      <td>NaN</td>\n      <td>NaN</td>\n      <td>36.157966</td>\n      <td>1.337282</td>\n      <td>False</td>\n    </tr>\n  </tbody>\n</table>\n</div>"
     },
     "metadata": {},
     "execution_count": 73
    }
   ],
   "source": [
    "# Load Tagreted dataset and set to_check to False assuming all geocoded coordinates are OK \n",
    "pois = pd.read_csv('../dz-datasets/accountants/personnes_physiques.csv')\n",
    "pois['to_check'] = False\n",
    "pois.head()"
   ]
  },
  {
   "cell_type": "code",
   "execution_count": 74,
   "metadata": {},
   "outputs": [
    {
     "output_type": "execute_result",
     "data": {
      "text/plain": [
       "   num  num_inscription               nom           prenom  \\\n",
       "0    1             1707             ABADA  MOHAMMED CHERIF   \n",
       "1    2              202  ABADA eps GUERFI           FARIDA   \n",
       "2   26               35              ABED          BOUALEM   \n",
       "3   73              205          AISSAOUI       NASREDDINE   \n",
       "4  124              366            ALLOUT         MOHAMMED   \n",
       "\n",
       "                                        adresse  wilaya       tel       fax  \\\n",
       "0           58,RUE ABDELHAMID BENBADIS - ANNABA  Annaba  38862288       NaN   \n",
       "1  CITE PLEINE OUEST 687 LOGTS BLOC 13 - ANNABA  Annaba  38542953  38761462   \n",
       "2       RUE DlDOUCHE MOURAD, EL HADJAR - ANNABA  Annaba  38892681       NaN   \n",
       "3               AVENUE DE L'AVANT PORT - ANNABA  Annaba       NaN       NaN   \n",
       "4            20, RUE LAMARA ABDELKADER - ANNABA  Annaba  38864148  38864148   \n",
       "\n",
       "                         email        lat       lon  to_check  code  \n",
       "0     abadamedcherif@gmail.com  36.914208  7.742667     False    23  \n",
       "1                          NaN  36.900380  7.734217     False    23  \n",
       "2           becblm23@gmail.com  36.807471  7.738913     False    23  \n",
       "3  aissaoulcompta2003@yahoo.fr  36.899954  7.765460     False    23  \n",
       "4        cecfallout@hotmall.fr  36.898577  7.759510     False    23  "
      ],
      "text/html": "<div>\n<style scoped>\n    .dataframe tbody tr th:only-of-type {\n        vertical-align: middle;\n    }\n\n    .dataframe tbody tr th {\n        vertical-align: top;\n    }\n\n    .dataframe thead th {\n        text-align: right;\n    }\n</style>\n<table border=\"1\" class=\"dataframe\">\n  <thead>\n    <tr style=\"text-align: right;\">\n      <th></th>\n      <th>num</th>\n      <th>num_inscription</th>\n      <th>nom</th>\n      <th>prenom</th>\n      <th>adresse</th>\n      <th>wilaya</th>\n      <th>tel</th>\n      <th>fax</th>\n      <th>email</th>\n      <th>lat</th>\n      <th>lon</th>\n      <th>to_check</th>\n      <th>code</th>\n    </tr>\n  </thead>\n  <tbody>\n    <tr>\n      <th>0</th>\n      <td>1</td>\n      <td>1707</td>\n      <td>ABADA</td>\n      <td>MOHAMMED CHERIF</td>\n      <td>58,RUE ABDELHAMID BENBADIS - ANNABA</td>\n      <td>Annaba</td>\n      <td>38862288</td>\n      <td>NaN</td>\n      <td>abadamedcherif@gmail.com</td>\n      <td>36.914208</td>\n      <td>7.742667</td>\n      <td>False</td>\n      <td>23</td>\n    </tr>\n    <tr>\n      <th>1</th>\n      <td>2</td>\n      <td>202</td>\n      <td>ABADA eps GUERFI</td>\n      <td>FARIDA</td>\n      <td>CITE PLEINE OUEST 687 LOGTS BLOC 13 - ANNABA</td>\n      <td>Annaba</td>\n      <td>38542953</td>\n      <td>38761462</td>\n      <td>NaN</td>\n      <td>36.900380</td>\n      <td>7.734217</td>\n      <td>False</td>\n      <td>23</td>\n    </tr>\n    <tr>\n      <th>2</th>\n      <td>26</td>\n      <td>35</td>\n      <td>ABED</td>\n      <td>BOUALEM</td>\n      <td>RUE DlDOUCHE MOURAD, EL HADJAR - ANNABA</td>\n      <td>Annaba</td>\n      <td>38892681</td>\n      <td>NaN</td>\n      <td>becblm23@gmail.com</td>\n      <td>36.807471</td>\n      <td>7.738913</td>\n      <td>False</td>\n      <td>23</td>\n    </tr>\n    <tr>\n      <th>3</th>\n      <td>73</td>\n      <td>205</td>\n      <td>AISSAOUI</td>\n      <td>NASREDDINE</td>\n      <td>AVENUE DE L'AVANT PORT - ANNABA</td>\n      <td>Annaba</td>\n      <td>NaN</td>\n      <td>NaN</td>\n      <td>aissaoulcompta2003@yahoo.fr</td>\n      <td>36.899954</td>\n      <td>7.765460</td>\n      <td>False</td>\n      <td>23</td>\n    </tr>\n    <tr>\n      <th>4</th>\n      <td>124</td>\n      <td>366</td>\n      <td>ALLOUT</td>\n      <td>MOHAMMED</td>\n      <td>20, RUE LAMARA ABDELKADER - ANNABA</td>\n      <td>Annaba</td>\n      <td>38864148</td>\n      <td>38864148</td>\n      <td>cecfallout@hotmall.fr</td>\n      <td>36.898577</td>\n      <td>7.759510</td>\n      <td>False</td>\n      <td>23</td>\n    </tr>\n  </tbody>\n</table>\n</div>"
     },
     "metadata": {},
     "execution_count": 74
    }
   ],
   "source": [
    "# Add wilayas codes \n",
    "wilayas_codes = wilayas_gdf[['code', 'nom']]\n",
    "wilayas_codes = wilayas_codes.rename(columns={'nom': 'nom_wil'})\n",
    "pois_wilayas = pois.merge(wilayas_codes, left_on='wilaya', right_on='nom_wil')\n",
    "pois_wilayas.drop(columns=['nom_wil'], inplace=True)\n",
    "pois_wilayas.head()"
   ]
  },
  {
   "cell_type": "code",
   "execution_count": 75,
   "metadata": {},
   "outputs": [
    {
     "output_type": "execute_result",
     "data": {
      "text/plain": [
       "   num  num_inscription               nom           prenom  \\\n",
       "0    1             1707             ABADA  MOHAMMED CHERIF   \n",
       "1    2              202  ABADA eps GUERFI           FARIDA   \n",
       "2   26               35              ABED          BOUALEM   \n",
       "3   73              205          AISSAOUI       NASREDDINE   \n",
       "4  124              366            ALLOUT         MOHAMMED   \n",
       "\n",
       "                                        adresse  wilaya       tel       fax  \\\n",
       "0           58,RUE ABDELHAMID BENBADIS - ANNABA  Annaba  38862288       NaN   \n",
       "1  CITE PLEINE OUEST 687 LOGTS BLOC 13 - ANNABA  Annaba  38542953  38761462   \n",
       "2       RUE DlDOUCHE MOURAD, EL HADJAR - ANNABA  Annaba  38892681       NaN   \n",
       "3               AVENUE DE L'AVANT PORT - ANNABA  Annaba       NaN       NaN   \n",
       "4            20, RUE LAMARA ABDELKADER - ANNABA  Annaba  38864148  38864148   \n",
       "\n",
       "                         email        lat       lon  to_check  code  \\\n",
       "0     abadamedcherif@gmail.com  36.914208  7.742667     False    23   \n",
       "1                          NaN  36.900380  7.734217     False    23   \n",
       "2           becblm23@gmail.com  36.807471  7.738913     False    23   \n",
       "3  aissaoulcompta2003@yahoo.fr  36.899954  7.765460     False    23   \n",
       "4        cecfallout@hotmall.fr  36.898577  7.759510     False    23   \n",
       "\n",
       "                   geometry  \n",
       "0  POINT (7.74267 36.91421)  \n",
       "1  POINT (7.73422 36.90038)  \n",
       "2  POINT (7.73891 36.80747)  \n",
       "3  POINT (7.76546 36.89995)  \n",
       "4  POINT (7.75951 36.89858)  "
      ],
      "text/html": "<div>\n<style scoped>\n    .dataframe tbody tr th:only-of-type {\n        vertical-align: middle;\n    }\n\n    .dataframe tbody tr th {\n        vertical-align: top;\n    }\n\n    .dataframe thead th {\n        text-align: right;\n    }\n</style>\n<table border=\"1\" class=\"dataframe\">\n  <thead>\n    <tr style=\"text-align: right;\">\n      <th></th>\n      <th>num</th>\n      <th>num_inscription</th>\n      <th>nom</th>\n      <th>prenom</th>\n      <th>adresse</th>\n      <th>wilaya</th>\n      <th>tel</th>\n      <th>fax</th>\n      <th>email</th>\n      <th>lat</th>\n      <th>lon</th>\n      <th>to_check</th>\n      <th>code</th>\n      <th>geometry</th>\n    </tr>\n  </thead>\n  <tbody>\n    <tr>\n      <th>0</th>\n      <td>1</td>\n      <td>1707</td>\n      <td>ABADA</td>\n      <td>MOHAMMED CHERIF</td>\n      <td>58,RUE ABDELHAMID BENBADIS - ANNABA</td>\n      <td>Annaba</td>\n      <td>38862288</td>\n      <td>NaN</td>\n      <td>abadamedcherif@gmail.com</td>\n      <td>36.914208</td>\n      <td>7.742667</td>\n      <td>False</td>\n      <td>23</td>\n      <td>POINT (7.74267 36.91421)</td>\n    </tr>\n    <tr>\n      <th>1</th>\n      <td>2</td>\n      <td>202</td>\n      <td>ABADA eps GUERFI</td>\n      <td>FARIDA</td>\n      <td>CITE PLEINE OUEST 687 LOGTS BLOC 13 - ANNABA</td>\n      <td>Annaba</td>\n      <td>38542953</td>\n      <td>38761462</td>\n      <td>NaN</td>\n      <td>36.900380</td>\n      <td>7.734217</td>\n      <td>False</td>\n      <td>23</td>\n      <td>POINT (7.73422 36.90038)</td>\n    </tr>\n    <tr>\n      <th>2</th>\n      <td>26</td>\n      <td>35</td>\n      <td>ABED</td>\n      <td>BOUALEM</td>\n      <td>RUE DlDOUCHE MOURAD, EL HADJAR - ANNABA</td>\n      <td>Annaba</td>\n      <td>38892681</td>\n      <td>NaN</td>\n      <td>becblm23@gmail.com</td>\n      <td>36.807471</td>\n      <td>7.738913</td>\n      <td>False</td>\n      <td>23</td>\n      <td>POINT (7.73891 36.80747)</td>\n    </tr>\n    <tr>\n      <th>3</th>\n      <td>73</td>\n      <td>205</td>\n      <td>AISSAOUI</td>\n      <td>NASREDDINE</td>\n      <td>AVENUE DE L'AVANT PORT - ANNABA</td>\n      <td>Annaba</td>\n      <td>NaN</td>\n      <td>NaN</td>\n      <td>aissaoulcompta2003@yahoo.fr</td>\n      <td>36.899954</td>\n      <td>7.765460</td>\n      <td>False</td>\n      <td>23</td>\n      <td>POINT (7.76546 36.89995)</td>\n    </tr>\n    <tr>\n      <th>4</th>\n      <td>124</td>\n      <td>366</td>\n      <td>ALLOUT</td>\n      <td>MOHAMMED</td>\n      <td>20, RUE LAMARA ABDELKADER - ANNABA</td>\n      <td>Annaba</td>\n      <td>38864148</td>\n      <td>38864148</td>\n      <td>cecfallout@hotmall.fr</td>\n      <td>36.898577</td>\n      <td>7.759510</td>\n      <td>False</td>\n      <td>23</td>\n      <td>POINT (7.75951 36.89858)</td>\n    </tr>\n  </tbody>\n</table>\n</div>"
     },
     "metadata": {},
     "execution_count": 75
    }
   ],
   "source": [
    "# Convert pandas DataFrame to GeoPandas \n",
    "pois_wilayas['geometry'] = pois_wilayas.apply(lambda row: Point(row.lon, row.lat), axis=1)\n",
    "pois_gdf  = gpd.GeoDataFrame(pois_wilayas)\n",
    "pois_gdf.head()"
   ]
  },
  {
   "cell_type": "code",
   "execution_count": 76,
   "metadata": {},
   "outputs": [
    {
     "output_type": "execute_result",
     "data": {
      "text/plain": [
       "<Geographic 2D CRS: EPSG:4326>\n",
       "Name: WGS 84\n",
       "Axis Info [ellipsoidal]:\n",
       "- Lat[north]: Geodetic latitude (degree)\n",
       "- Lon[east]: Geodetic longitude (degree)\n",
       "Area of Use:\n",
       "- name: World\n",
       "- bounds: (-180.0, -90.0, 180.0, 90.0)\n",
       "Datum: World Geodetic System 1984\n",
       "- Ellipsoid: WGS 84\n",
       "- Prime Meridian: Greenwich"
      ]
     },
     "metadata": {},
     "execution_count": 76
    }
   ],
   "source": [
    "# Set the Coordinate reference system\n",
    "pois_gdf = pois_gdf.set_crs(\"EPSG:4326\")\n",
    "pois_gdf.crs"
   ]
  },
  {
   "cell_type": "code",
   "execution_count": 82,
   "metadata": {},
   "outputs": [
    {
     "output_type": "execute_result",
     "data": {
      "text/plain": [
       "     num  num_inscription            nom_x        prenom  \\\n",
       "0   1798              148          REDJATI        SEDDIK   \n",
       "1      3             1708           ABADOU      MOHAMMED   \n",
       "2     23              446       ABDESSEMED    ABDELHAFID   \n",
       "3   1024             1938         FERRADJI        ALDJIA   \n",
       "4      4              214             ABAR       MOHAMEO   \n",
       "..   ...              ...              ...           ...   \n",
       "62   133              447      AMAR ROUANA        LIAZID   \n",
       "63  2016             2058            TOBBA  FATIMA ZOHRA   \n",
       "64   333             1869       BELMAMOUNE      BOUZIANE   \n",
       "65   348             1297  BENABDELMOUMENE      MOHAMMED   \n",
       "66   744             1543         BOUZIANE       KADDOUR   \n",
       "\n",
       "                                              adresse     wilaya       tel  \\\n",
       "0   CITE 08 MARS VILLA  N' 3 COOP EL ALOUANE - ANNABA     Annaba  38541563   \n",
       "1         CITE 556 LOGTS Bt 110 N'111FERDJIOUA - MILA       Mila       NaN   \n",
       "2     CITE 20 AOUT Bt Bl N'03 CHELGHOUM EL AID - MILA       Mila  31457424   \n",
       "3         CITE 18 LOGTS B1 01 \"CHÂTEAU  D'EAU\" - MILA       Mila  31475302   \n",
       "4            32, RUE DES FUSILLES,EL ANNASS ER -ALGER      Alger       NaN   \n",
       "..                                                ...        ...       ...   \n",
       "62           CITE   ER NOVEMBRE 54 BT 31 N°lO -SKIKDA     Skikda       NaN   \n",
       "63  CITE GUEHDOUR TAHAR  Bt N' 03 Appart  N' 05 -G...     Guelma  37117550   \n",
       "64                   RUE AVOCAT ABED N' 21- EL BAYADH  El Bayadh       NaN   \n",
       "65                          ROUTE D'AFLOU - EL BAYADH  El Bayadh       NaN   \n",
       "66           APPTOl, BT 02, RUE MAAROUF AHMED -TIARET     Tiaret  46202070   \n",
       "\n",
       "         fax                 email  lat  lon  to_check  code       geometry_x  \\\n",
       "0        NaN                   NaN  NaN  NaN      True    23  POINT (nan nan)   \n",
       "1        NaN                   NaN  NaN  NaN      True    43  POINT (nan nan)   \n",
       "2   31457424   asamed.af@gmail.com  NaN  NaN      True    43  POINT (nan nan)   \n",
       "3        NaN      leuars@yahoo.com  NaN  NaN      True    43  POINT (nan nan)   \n",
       "4   21684890     cab_abar@yahoo.fr  NaN  NaN      True    16  POINT (nan nan)   \n",
       "..       ...                   ...  ...  ...       ...   ...              ...   \n",
       "62       NaN                   NaN  NaN  NaN      True    21  POINT (nan nan)   \n",
       "63  37117550                   NaN  NaN  NaN      True    24  POINT (nan nan)   \n",
       "64       NaN                   NaN  NaN  NaN      True    32  POINT (nan nan)   \n",
       "65       NaN                   NaN  NaN  NaN      True    32  POINT (nan nan)   \n",
       "66  46415709  kmbouziane@gmail.com  NaN  NaN      True    14  POINT (nan nan)   \n",
       "\n",
       "        nom_y    nom_maj   nom_ar  \\\n",
       "0      Annaba     ANNABA    عنابة   \n",
       "1        Mila       MILA     ميلة   \n",
       "2        Mila       MILA     ميلة   \n",
       "3        Mila       MILA     ميلة   \n",
       "4       Alger      ALGER  الجزائر   \n",
       "..        ...        ...      ...   \n",
       "62     Skikda     SKIKDA   سكيكدة   \n",
       "63     Guelma     GUELMA    قالمة   \n",
       "64  El Bayadh  EL BAYADH    البيض   \n",
       "65  El Bayadh  EL BAYADH    البيض   \n",
       "66     Tiaret     TIARET    تيارت   \n",
       "\n",
       "                                           geometry_y  \\\n",
       "0   MULTIPOLYGON (((7.48643 36.67331, 7.48571 36.6...   \n",
       "1   MULTIPOLYGON (((6.01335 35.89529, 6.01206 35.8...   \n",
       "2   MULTIPOLYGON (((6.01335 35.89529, 6.01206 35.8...   \n",
       "3   MULTIPOLYGON (((6.01335 35.89529, 6.01206 35.8...   \n",
       "4   MULTIPOLYGON (((2.95544 36.61091, 2.95366 36.6...   \n",
       "..                                                ...   \n",
       "62  MULTIPOLYGON (((6.88006 36.56313, 6.87913 36.5...   \n",
       "63  MULTIPOLYGON (((7.04176 36.20559, 7.04187 36.2...   \n",
       "64  MULTIPOLYGON (((-0.02094 32.71034, -0.02327 32...   \n",
       "65  MULTIPOLYGON (((-0.02094 32.71034, -0.02327 32...   \n",
       "66  MULTIPOLYGON (((0.81448 34.61685, 0.81329 34.6...   \n",
       "\n",
       "                    centroid                  geometry  \n",
       "0   POINT (7.54325 36.83843)  POINT (7.54325 36.83843)  \n",
       "1   POINT (6.14584 36.29332)  POINT (6.14584 36.29332)  \n",
       "2   POINT (6.14584 36.29332)  POINT (6.14584 36.29332)  \n",
       "3   POINT (6.14584 36.29332)  POINT (6.14584 36.29332)  \n",
       "4   POINT (3.05748 36.70539)  POINT (3.05748 36.70539)  \n",
       "..                       ...                       ...  \n",
       "62  POINT (6.83331 36.78202)  POINT (6.83331 36.78202)  \n",
       "63  POINT (7.39568 36.39577)  POINT (7.39568 36.39577)  \n",
       "64  POINT (0.91159 32.56540)  POINT (0.91159 32.56540)  \n",
       "65  POINT (0.91159 32.56540)  POINT (0.91159 32.56540)  \n",
       "66  POINT (1.53042 34.96511)  POINT (1.53042 34.96511)  \n",
       "\n",
       "[67 rows x 20 columns]"
      ],
      "text/html": "<div>\n<style scoped>\n    .dataframe tbody tr th:only-of-type {\n        vertical-align: middle;\n    }\n\n    .dataframe tbody tr th {\n        vertical-align: top;\n    }\n\n    .dataframe thead th {\n        text-align: right;\n    }\n</style>\n<table border=\"1\" class=\"dataframe\">\n  <thead>\n    <tr style=\"text-align: right;\">\n      <th></th>\n      <th>num</th>\n      <th>num_inscription</th>\n      <th>nom_x</th>\n      <th>prenom</th>\n      <th>adresse</th>\n      <th>wilaya</th>\n      <th>tel</th>\n      <th>fax</th>\n      <th>email</th>\n      <th>lat</th>\n      <th>lon</th>\n      <th>to_check</th>\n      <th>code</th>\n      <th>geometry_x</th>\n      <th>nom_y</th>\n      <th>nom_maj</th>\n      <th>nom_ar</th>\n      <th>geometry_y</th>\n      <th>centroid</th>\n      <th>geometry</th>\n    </tr>\n  </thead>\n  <tbody>\n    <tr>\n      <th>0</th>\n      <td>1798</td>\n      <td>148</td>\n      <td>REDJATI</td>\n      <td>SEDDIK</td>\n      <td>CITE 08 MARS VILLA  N' 3 COOP EL ALOUANE - ANNABA</td>\n      <td>Annaba</td>\n      <td>38541563</td>\n      <td>NaN</td>\n      <td>NaN</td>\n      <td>NaN</td>\n      <td>NaN</td>\n      <td>True</td>\n      <td>23</td>\n      <td>POINT (nan nan)</td>\n      <td>Annaba</td>\n      <td>ANNABA</td>\n      <td>عنابة</td>\n      <td>MULTIPOLYGON (((7.48643 36.67331, 7.48571 36.6...</td>\n      <td>POINT (7.54325 36.83843)</td>\n      <td>POINT (7.54325 36.83843)</td>\n    </tr>\n    <tr>\n      <th>1</th>\n      <td>3</td>\n      <td>1708</td>\n      <td>ABADOU</td>\n      <td>MOHAMMED</td>\n      <td>CITE 556 LOGTS Bt 110 N'111FERDJIOUA - MILA</td>\n      <td>Mila</td>\n      <td>NaN</td>\n      <td>NaN</td>\n      <td>NaN</td>\n      <td>NaN</td>\n      <td>NaN</td>\n      <td>True</td>\n      <td>43</td>\n      <td>POINT (nan nan)</td>\n      <td>Mila</td>\n      <td>MILA</td>\n      <td>ميلة</td>\n      <td>MULTIPOLYGON (((6.01335 35.89529, 6.01206 35.8...</td>\n      <td>POINT (6.14584 36.29332)</td>\n      <td>POINT (6.14584 36.29332)</td>\n    </tr>\n    <tr>\n      <th>2</th>\n      <td>23</td>\n      <td>446</td>\n      <td>ABDESSEMED</td>\n      <td>ABDELHAFID</td>\n      <td>CITE 20 AOUT Bt Bl N'03 CHELGHOUM EL AID - MILA</td>\n      <td>Mila</td>\n      <td>31457424</td>\n      <td>31457424</td>\n      <td>asamed.af@gmail.com</td>\n      <td>NaN</td>\n      <td>NaN</td>\n      <td>True</td>\n      <td>43</td>\n      <td>POINT (nan nan)</td>\n      <td>Mila</td>\n      <td>MILA</td>\n      <td>ميلة</td>\n      <td>MULTIPOLYGON (((6.01335 35.89529, 6.01206 35.8...</td>\n      <td>POINT (6.14584 36.29332)</td>\n      <td>POINT (6.14584 36.29332)</td>\n    </tr>\n    <tr>\n      <th>3</th>\n      <td>1024</td>\n      <td>1938</td>\n      <td>FERRADJI</td>\n      <td>ALDJIA</td>\n      <td>CITE 18 LOGTS B1 01 \"CHÂTEAU  D'EAU\" - MILA</td>\n      <td>Mila</td>\n      <td>31475302</td>\n      <td>NaN</td>\n      <td>leuars@yahoo.com</td>\n      <td>NaN</td>\n      <td>NaN</td>\n      <td>True</td>\n      <td>43</td>\n      <td>POINT (nan nan)</td>\n      <td>Mila</td>\n      <td>MILA</td>\n      <td>ميلة</td>\n      <td>MULTIPOLYGON (((6.01335 35.89529, 6.01206 35.8...</td>\n      <td>POINT (6.14584 36.29332)</td>\n      <td>POINT (6.14584 36.29332)</td>\n    </tr>\n    <tr>\n      <th>4</th>\n      <td>4</td>\n      <td>214</td>\n      <td>ABAR</td>\n      <td>MOHAMEO</td>\n      <td>32, RUE DES FUSILLES,EL ANNASS ER -ALGER</td>\n      <td>Alger</td>\n      <td>NaN</td>\n      <td>21684890</td>\n      <td>cab_abar@yahoo.fr</td>\n      <td>NaN</td>\n      <td>NaN</td>\n      <td>True</td>\n      <td>16</td>\n      <td>POINT (nan nan)</td>\n      <td>Alger</td>\n      <td>ALGER</td>\n      <td>الجزائر</td>\n      <td>MULTIPOLYGON (((2.95544 36.61091, 2.95366 36.6...</td>\n      <td>POINT (3.05748 36.70539)</td>\n      <td>POINT (3.05748 36.70539)</td>\n    </tr>\n    <tr>\n      <th>...</th>\n      <td>...</td>\n      <td>...</td>\n      <td>...</td>\n      <td>...</td>\n      <td>...</td>\n      <td>...</td>\n      <td>...</td>\n      <td>...</td>\n      <td>...</td>\n      <td>...</td>\n      <td>...</td>\n      <td>...</td>\n      <td>...</td>\n      <td>...</td>\n      <td>...</td>\n      <td>...</td>\n      <td>...</td>\n      <td>...</td>\n      <td>...</td>\n      <td>...</td>\n    </tr>\n    <tr>\n      <th>62</th>\n      <td>133</td>\n      <td>447</td>\n      <td>AMAR ROUANA</td>\n      <td>LIAZID</td>\n      <td>CITE   ER NOVEMBRE 54 BT 31 N°lO -SKIKDA</td>\n      <td>Skikda</td>\n      <td>NaN</td>\n      <td>NaN</td>\n      <td>NaN</td>\n      <td>NaN</td>\n      <td>NaN</td>\n      <td>True</td>\n      <td>21</td>\n      <td>POINT (nan nan)</td>\n      <td>Skikda</td>\n      <td>SKIKDA</td>\n      <td>سكيكدة</td>\n      <td>MULTIPOLYGON (((6.88006 36.56313, 6.87913 36.5...</td>\n      <td>POINT (6.83331 36.78202)</td>\n      <td>POINT (6.83331 36.78202)</td>\n    </tr>\n    <tr>\n      <th>63</th>\n      <td>2016</td>\n      <td>2058</td>\n      <td>TOBBA</td>\n      <td>FATIMA ZOHRA</td>\n      <td>CITE GUEHDOUR TAHAR  Bt N' 03 Appart  N' 05 -G...</td>\n      <td>Guelma</td>\n      <td>37117550</td>\n      <td>37117550</td>\n      <td>NaN</td>\n      <td>NaN</td>\n      <td>NaN</td>\n      <td>True</td>\n      <td>24</td>\n      <td>POINT (nan nan)</td>\n      <td>Guelma</td>\n      <td>GUELMA</td>\n      <td>قالمة</td>\n      <td>MULTIPOLYGON (((7.04176 36.20559, 7.04187 36.2...</td>\n      <td>POINT (7.39568 36.39577)</td>\n      <td>POINT (7.39568 36.39577)</td>\n    </tr>\n    <tr>\n      <th>64</th>\n      <td>333</td>\n      <td>1869</td>\n      <td>BELMAMOUNE</td>\n      <td>BOUZIANE</td>\n      <td>RUE AVOCAT ABED N' 21- EL BAYADH</td>\n      <td>El Bayadh</td>\n      <td>NaN</td>\n      <td>NaN</td>\n      <td>NaN</td>\n      <td>NaN</td>\n      <td>NaN</td>\n      <td>True</td>\n      <td>32</td>\n      <td>POINT (nan nan)</td>\n      <td>El Bayadh</td>\n      <td>EL BAYADH</td>\n      <td>البيض</td>\n      <td>MULTIPOLYGON (((-0.02094 32.71034, -0.02327 32...</td>\n      <td>POINT (0.91159 32.56540)</td>\n      <td>POINT (0.91159 32.56540)</td>\n    </tr>\n    <tr>\n      <th>65</th>\n      <td>348</td>\n      <td>1297</td>\n      <td>BENABDELMOUMENE</td>\n      <td>MOHAMMED</td>\n      <td>ROUTE D'AFLOU - EL BAYADH</td>\n      <td>El Bayadh</td>\n      <td>NaN</td>\n      <td>NaN</td>\n      <td>NaN</td>\n      <td>NaN</td>\n      <td>NaN</td>\n      <td>True</td>\n      <td>32</td>\n      <td>POINT (nan nan)</td>\n      <td>El Bayadh</td>\n      <td>EL BAYADH</td>\n      <td>البيض</td>\n      <td>MULTIPOLYGON (((-0.02094 32.71034, -0.02327 32...</td>\n      <td>POINT (0.91159 32.56540)</td>\n      <td>POINT (0.91159 32.56540)</td>\n    </tr>\n    <tr>\n      <th>66</th>\n      <td>744</td>\n      <td>1543</td>\n      <td>BOUZIANE</td>\n      <td>KADDOUR</td>\n      <td>APPTOl, BT 02, RUE MAAROUF AHMED -TIARET</td>\n      <td>Tiaret</td>\n      <td>46202070</td>\n      <td>46415709</td>\n      <td>kmbouziane@gmail.com</td>\n      <td>NaN</td>\n      <td>NaN</td>\n      <td>True</td>\n      <td>14</td>\n      <td>POINT (nan nan)</td>\n      <td>Tiaret</td>\n      <td>TIARET</td>\n      <td>تيارت</td>\n      <td>MULTIPOLYGON (((0.81448 34.61685, 0.81329 34.6...</td>\n      <td>POINT (1.53042 34.96511)</td>\n      <td>POINT (1.53042 34.96511)</td>\n    </tr>\n  </tbody>\n</table>\n<p>67 rows × 20 columns</p>\n</div>"
     },
     "metadata": {},
     "execution_count": 82
    }
   ],
   "source": [
    "# Check for rows with no coordiantes\n",
    "no_coords_gdf = pois_gdf[(pois_gdf['lat'].isnull() | pois_gdf['lat'].isnull())]\n",
    "\n",
    "# Merge with Wialyas DataFrame and set geometry to centroids\n",
    "no_coords_gdf = no_coords_gdf.merge(wilayas_gdf, left_on='code', right_on='code')\n",
    "no_coords_gdf['geometry'] = no_coords_gdf['centroid']\n",
    "no_coords_gdf['to_check'] = True\n",
    "\n",
    "with_coords_gdf = no_coords_gdf.drop(columns=['geometry_x'], axis=1)\n",
    "\n",
    "no_coords_gdf "
   ]
  },
  {
   "cell_type": "code",
   "execution_count": 85,
   "metadata": {},
   "outputs": [
    {
     "output_type": "error",
     "ename": "InvalidIndexError",
     "evalue": "Reindexing only valid with uniquely valued Index objects",
     "traceback": [
      "\u001b[0;31m---------------------------------------------------------------------------\u001b[0m",
      "\u001b[0;31mInvalidIndexError\u001b[0m                         Traceback (most recent call last)",
      "\u001b[0;32m<ipython-input-85-386aaaa36a02>\u001b[0m in \u001b[0;36m<module>\u001b[0;34m\u001b[0m\n\u001b[1;32m      5\u001b[0m \u001b[0;34m\u001b[0m\u001b[0m\n\u001b[1;32m      6\u001b[0m \u001b[0;31m# Concat the Targeted DataFrame with rows without coordinates and approximated with Wilayas centroids\u001b[0m\u001b[0;34m\u001b[0m\u001b[0;34m\u001b[0m\u001b[0;34m\u001b[0m\u001b[0m\n\u001b[0;32m----> 7\u001b[0;31m \u001b[0mpois_gdf\u001b[0m \u001b[0;34m=\u001b[0m \u001b[0mpd\u001b[0m\u001b[0;34m.\u001b[0m\u001b[0mconcat\u001b[0m\u001b[0;34m(\u001b[0m\u001b[0;34m[\u001b[0m\u001b[0mpois_gdf\u001b[0m\u001b[0;34m,\u001b[0m \u001b[0mwith_coords_gdf\u001b[0m\u001b[0;34m]\u001b[0m\u001b[0;34m)\u001b[0m\u001b[0;34m\u001b[0m\u001b[0;34m\u001b[0m\u001b[0m\n\u001b[0m\u001b[1;32m      8\u001b[0m \u001b[0mpois_gdf\u001b[0m\u001b[0;34m[\u001b[0m\u001b[0;34m(\u001b[0m\u001b[0mpois_gdf\u001b[0m\u001b[0;34m[\u001b[0m\u001b[0;34m'lat'\u001b[0m\u001b[0;34m]\u001b[0m\u001b[0;34m.\u001b[0m\u001b[0misnull\u001b[0m\u001b[0;34m(\u001b[0m\u001b[0;34m)\u001b[0m \u001b[0;34m|\u001b[0m \u001b[0mpois_gdf\u001b[0m\u001b[0;34m[\u001b[0m\u001b[0;34m'lon'\u001b[0m\u001b[0;34m]\u001b[0m\u001b[0;34m.\u001b[0m\u001b[0misnull\u001b[0m\u001b[0;34m(\u001b[0m\u001b[0;34m)\u001b[0m\u001b[0;34m)\u001b[0m\u001b[0;34m]\u001b[0m\u001b[0;34m\u001b[0m\u001b[0;34m\u001b[0m\u001b[0m\n",
      "\u001b[0;32m~/.local/lib/python3.8/site-packages/pandas/core/reshape/concat.py\u001b[0m in \u001b[0;36mconcat\u001b[0;34m(objs, axis, join, ignore_index, keys, levels, names, verify_integrity, sort, copy)\u001b[0m\n\u001b[1;32m    296\u001b[0m     )\n\u001b[1;32m    297\u001b[0m \u001b[0;34m\u001b[0m\u001b[0m\n\u001b[0;32m--> 298\u001b[0;31m     \u001b[0;32mreturn\u001b[0m \u001b[0mop\u001b[0m\u001b[0;34m.\u001b[0m\u001b[0mget_result\u001b[0m\u001b[0;34m(\u001b[0m\u001b[0;34m)\u001b[0m\u001b[0;34m\u001b[0m\u001b[0;34m\u001b[0m\u001b[0m\n\u001b[0m\u001b[1;32m    299\u001b[0m \u001b[0;34m\u001b[0m\u001b[0m\n\u001b[1;32m    300\u001b[0m \u001b[0;34m\u001b[0m\u001b[0m\n",
      "\u001b[0;32m~/.local/lib/python3.8/site-packages/pandas/core/reshape/concat.py\u001b[0m in \u001b[0;36mget_result\u001b[0;34m(self)\u001b[0m\n\u001b[1;32m    514\u001b[0m                     \u001b[0mobj_labels\u001b[0m \u001b[0;34m=\u001b[0m \u001b[0mobj\u001b[0m\u001b[0;34m.\u001b[0m\u001b[0maxes\u001b[0m\u001b[0;34m[\u001b[0m\u001b[0;36m1\u001b[0m \u001b[0;34m-\u001b[0m \u001b[0max\u001b[0m\u001b[0;34m]\u001b[0m\u001b[0;34m\u001b[0m\u001b[0;34m\u001b[0m\u001b[0m\n\u001b[1;32m    515\u001b[0m                     \u001b[0;32mif\u001b[0m \u001b[0;32mnot\u001b[0m \u001b[0mnew_labels\u001b[0m\u001b[0;34m.\u001b[0m\u001b[0mequals\u001b[0m\u001b[0;34m(\u001b[0m\u001b[0mobj_labels\u001b[0m\u001b[0;34m)\u001b[0m\u001b[0;34m:\u001b[0m\u001b[0;34m\u001b[0m\u001b[0;34m\u001b[0m\u001b[0m\n\u001b[0;32m--> 516\u001b[0;31m                         \u001b[0mindexers\u001b[0m\u001b[0;34m[\u001b[0m\u001b[0max\u001b[0m\u001b[0;34m]\u001b[0m \u001b[0;34m=\u001b[0m \u001b[0mobj_labels\u001b[0m\u001b[0;34m.\u001b[0m\u001b[0mget_indexer\u001b[0m\u001b[0;34m(\u001b[0m\u001b[0mnew_labels\u001b[0m\u001b[0;34m)\u001b[0m\u001b[0;34m\u001b[0m\u001b[0;34m\u001b[0m\u001b[0m\n\u001b[0m\u001b[1;32m    517\u001b[0m \u001b[0;34m\u001b[0m\u001b[0m\n\u001b[1;32m    518\u001b[0m                 \u001b[0mmgrs_indexers\u001b[0m\u001b[0;34m.\u001b[0m\u001b[0mappend\u001b[0m\u001b[0;34m(\u001b[0m\u001b[0;34m(\u001b[0m\u001b[0mobj\u001b[0m\u001b[0;34m.\u001b[0m\u001b[0m_mgr\u001b[0m\u001b[0;34m,\u001b[0m \u001b[0mindexers\u001b[0m\u001b[0;34m)\u001b[0m\u001b[0;34m)\u001b[0m\u001b[0;34m\u001b[0m\u001b[0;34m\u001b[0m\u001b[0m\n",
      "\u001b[0;32m~/.local/lib/python3.8/site-packages/pandas/core/indexes/base.py\u001b[0m in \u001b[0;36mget_indexer\u001b[0;34m(self, target, method, limit, tolerance)\u001b[0m\n\u001b[1;32m   3169\u001b[0m \u001b[0;34m\u001b[0m\u001b[0m\n\u001b[1;32m   3170\u001b[0m         \u001b[0;32mif\u001b[0m \u001b[0;32mnot\u001b[0m \u001b[0mself\u001b[0m\u001b[0;34m.\u001b[0m\u001b[0mis_unique\u001b[0m\u001b[0;34m:\u001b[0m\u001b[0;34m\u001b[0m\u001b[0;34m\u001b[0m\u001b[0m\n\u001b[0;32m-> 3171\u001b[0;31m             raise InvalidIndexError(\n\u001b[0m\u001b[1;32m   3172\u001b[0m                 \u001b[0;34m\"Reindexing only valid with uniquely valued Index objects\"\u001b[0m\u001b[0;34m\u001b[0m\u001b[0;34m\u001b[0m\u001b[0m\n\u001b[1;32m   3173\u001b[0m             )\n",
      "\u001b[0;31mInvalidIndexError\u001b[0m: Reindexing only valid with uniquely valued Index objects"
     ]
    }
   ],
   "source": [
    "# Update the Targeted DataFrame by adding Wilayas geometries and centroids \n",
    "pois_gdf = pois_gdf[(pois_gdf['lat'].notnull() & pois_gdf['lat'].notnull())]\n",
    "pois_gdf = pois_gdf.merge(wilayas_gdf, left_on='code', right_on='code')\n",
    "pois_gdf.rename(columns={\"geometry_x\": \"geometry\"}, inplace=True)\n",
    "\n",
    "# Concat the Targeted DataFrame with rows without coordinates and approximated with Wilayas centroids \n",
    "pois_gdf = pd.concat([pois_gdf, with_coords_gdf])\n",
    "pois_gdf[(pois_gdf['lat'].isnull() | pois_gdf['lon'].isnull())]"
   ]
  },
  {
   "cell_type": "code",
   "execution_count": 86,
   "metadata": {},
   "outputs": [
    {
     "output_type": "execute_result",
     "data": {
      "text/plain": [
       "    num  num_inscription     nom_x        prenom  \\\n",
       "0    61             1632     AHRES        HASSEN   \n",
       "1  1865             2038     SAIDI    ABDERRAFIR   \n",
       "2  1517             1189     MALKI        RACHID   \n",
       "3  1418             1355    LAAFOU         AHMED   \n",
       "4   327             1213  BELLAOUI  ABDERRAHMANE   \n",
       "\n",
       "                                             adresse wilaya        tel  \\\n",
       "0                       RUE KADDOUR BELLITIM - ADRAR  Adrar   49964925   \n",
       "1  RUE ABDELKA DER BENSLIMANE EN FACE PARC DTP - ...  Adrar        NaN   \n",
       "2                  RUE BELGHIT MOHAMMED N°20 - ADRAR  Adrar   49967999   \n",
       "3              CITE 175 LOGTS ROUTETILILANE - ADRA R  Adrar  0499667OO   \n",
       "4                       CITE 05 JUILLET 1962 - ADRAR  Adrar        NaN   \n",
       "\n",
       "        fax                     email        lat  ...  nom_y  nom_maj_x  \\\n",
       "0       NaN     hassanahres@gmail.com  27.882773  ...  Adrar      ADRAR   \n",
       "1       NaN  saidiabderaflr@gmail.com  33.618970  ...  Adrar      ADRAR   \n",
       "2       NaN        malki2004@yahoo.fr  28.017440  ...  Adrar      ADRAR   \n",
       "3       NaN                       NaN  27.898056  ...  Adrar      ADRAR   \n",
       "4  49951555                       NaN  28.017440  ...  Adrar      ADRAR   \n",
       "\n",
       "   nom_ar_x                                         geometry_y  \\\n",
       "0     أدرار  MULTIPOLYGON (((1.33461 20.72282, 1.32667 20.7...   \n",
       "1     أدرار  MULTIPOLYGON (((1.33461 20.72282, 1.32667 20.7...   \n",
       "2     أدرار  MULTIPOLYGON (((1.33461 20.72282, 1.32667 20.7...   \n",
       "3     أدرار  MULTIPOLYGON (((1.33461 20.72282, 1.32667 20.7...   \n",
       "4     أدرار  MULTIPOLYGON (((1.33461 20.72282, 1.32667 20.7...   \n",
       "\n",
       "                  centroid_x    nom nom_maj_y nom_ar_y  \\\n",
       "0  POINT (-0.62174 26.01400)  Adrar     ADRAR    أدرار   \n",
       "1  POINT (-0.62174 26.01400)  Adrar     ADRAR    أدرار   \n",
       "2  POINT (-0.62174 26.01400)  Adrar     ADRAR    أدرار   \n",
       "3  POINT (-0.62174 26.01400)  Adrar     ADRAR    أدرار   \n",
       "4  POINT (-0.62174 26.01400)  Adrar     ADRAR    أدرار   \n",
       "\n",
       "                                          geometry_y  \\\n",
       "0  MULTIPOLYGON (((1.33461 20.72282, 1.32667 20.7...   \n",
       "1  MULTIPOLYGON (((1.33461 20.72282, 1.32667 20.7...   \n",
       "2  MULTIPOLYGON (((1.33461 20.72282, 1.32667 20.7...   \n",
       "3  MULTIPOLYGON (((1.33461 20.72282, 1.32667 20.7...   \n",
       "4  MULTIPOLYGON (((1.33461 20.72282, 1.32667 20.7...   \n",
       "\n",
       "                  centroid_y  \n",
       "0  POINT (-0.62174 26.01400)  \n",
       "1  POINT (-0.62174 26.01400)  \n",
       "2  POINT (-0.62174 26.01400)  \n",
       "3  POINT (-0.62174 26.01400)  \n",
       "4  POINT (-0.62174 26.01400)  \n",
       "\n",
       "[5 rows x 24 columns]"
      ],
      "text/html": "<div>\n<style scoped>\n    .dataframe tbody tr th:only-of-type {\n        vertical-align: middle;\n    }\n\n    .dataframe tbody tr th {\n        vertical-align: top;\n    }\n\n    .dataframe thead th {\n        text-align: right;\n    }\n</style>\n<table border=\"1\" class=\"dataframe\">\n  <thead>\n    <tr style=\"text-align: right;\">\n      <th></th>\n      <th>num</th>\n      <th>num_inscription</th>\n      <th>nom_x</th>\n      <th>prenom</th>\n      <th>adresse</th>\n      <th>wilaya</th>\n      <th>tel</th>\n      <th>fax</th>\n      <th>email</th>\n      <th>lat</th>\n      <th>...</th>\n      <th>nom_y</th>\n      <th>nom_maj_x</th>\n      <th>nom_ar_x</th>\n      <th>geometry_y</th>\n      <th>centroid_x</th>\n      <th>nom</th>\n      <th>nom_maj_y</th>\n      <th>nom_ar_y</th>\n      <th>geometry_y</th>\n      <th>centroid_y</th>\n    </tr>\n  </thead>\n  <tbody>\n    <tr>\n      <th>0</th>\n      <td>61</td>\n      <td>1632</td>\n      <td>AHRES</td>\n      <td>HASSEN</td>\n      <td>RUE KADDOUR BELLITIM - ADRAR</td>\n      <td>Adrar</td>\n      <td>49964925</td>\n      <td>NaN</td>\n      <td>hassanahres@gmail.com</td>\n      <td>27.882773</td>\n      <td>...</td>\n      <td>Adrar</td>\n      <td>ADRAR</td>\n      <td>أدرار</td>\n      <td>MULTIPOLYGON (((1.33461 20.72282, 1.32667 20.7...</td>\n      <td>POINT (-0.62174 26.01400)</td>\n      <td>Adrar</td>\n      <td>ADRAR</td>\n      <td>أدرار</td>\n      <td>MULTIPOLYGON (((1.33461 20.72282, 1.32667 20.7...</td>\n      <td>POINT (-0.62174 26.01400)</td>\n    </tr>\n    <tr>\n      <th>1</th>\n      <td>1865</td>\n      <td>2038</td>\n      <td>SAIDI</td>\n      <td>ABDERRAFIR</td>\n      <td>RUE ABDELKA DER BENSLIMANE EN FACE PARC DTP - ...</td>\n      <td>Adrar</td>\n      <td>NaN</td>\n      <td>NaN</td>\n      <td>saidiabderaflr@gmail.com</td>\n      <td>33.618970</td>\n      <td>...</td>\n      <td>Adrar</td>\n      <td>ADRAR</td>\n      <td>أدرار</td>\n      <td>MULTIPOLYGON (((1.33461 20.72282, 1.32667 20.7...</td>\n      <td>POINT (-0.62174 26.01400)</td>\n      <td>Adrar</td>\n      <td>ADRAR</td>\n      <td>أدرار</td>\n      <td>MULTIPOLYGON (((1.33461 20.72282, 1.32667 20.7...</td>\n      <td>POINT (-0.62174 26.01400)</td>\n    </tr>\n    <tr>\n      <th>2</th>\n      <td>1517</td>\n      <td>1189</td>\n      <td>MALKI</td>\n      <td>RACHID</td>\n      <td>RUE BELGHIT MOHAMMED N°20 - ADRAR</td>\n      <td>Adrar</td>\n      <td>49967999</td>\n      <td>NaN</td>\n      <td>malki2004@yahoo.fr</td>\n      <td>28.017440</td>\n      <td>...</td>\n      <td>Adrar</td>\n      <td>ADRAR</td>\n      <td>أدرار</td>\n      <td>MULTIPOLYGON (((1.33461 20.72282, 1.32667 20.7...</td>\n      <td>POINT (-0.62174 26.01400)</td>\n      <td>Adrar</td>\n      <td>ADRAR</td>\n      <td>أدرار</td>\n      <td>MULTIPOLYGON (((1.33461 20.72282, 1.32667 20.7...</td>\n      <td>POINT (-0.62174 26.01400)</td>\n    </tr>\n    <tr>\n      <th>3</th>\n      <td>1418</td>\n      <td>1355</td>\n      <td>LAAFOU</td>\n      <td>AHMED</td>\n      <td>CITE 175 LOGTS ROUTETILILANE - ADRA R</td>\n      <td>Adrar</td>\n      <td>0499667OO</td>\n      <td>NaN</td>\n      <td>NaN</td>\n      <td>27.898056</td>\n      <td>...</td>\n      <td>Adrar</td>\n      <td>ADRAR</td>\n      <td>أدرار</td>\n      <td>MULTIPOLYGON (((1.33461 20.72282, 1.32667 20.7...</td>\n      <td>POINT (-0.62174 26.01400)</td>\n      <td>Adrar</td>\n      <td>ADRAR</td>\n      <td>أدرار</td>\n      <td>MULTIPOLYGON (((1.33461 20.72282, 1.32667 20.7...</td>\n      <td>POINT (-0.62174 26.01400)</td>\n    </tr>\n    <tr>\n      <th>4</th>\n      <td>327</td>\n      <td>1213</td>\n      <td>BELLAOUI</td>\n      <td>ABDERRAHMANE</td>\n      <td>CITE 05 JUILLET 1962 - ADRAR</td>\n      <td>Adrar</td>\n      <td>NaN</td>\n      <td>49951555</td>\n      <td>NaN</td>\n      <td>28.017440</td>\n      <td>...</td>\n      <td>Adrar</td>\n      <td>ADRAR</td>\n      <td>أدرار</td>\n      <td>MULTIPOLYGON (((1.33461 20.72282, 1.32667 20.7...</td>\n      <td>POINT (-0.62174 26.01400)</td>\n      <td>Adrar</td>\n      <td>ADRAR</td>\n      <td>أدرار</td>\n      <td>MULTIPOLYGON (((1.33461 20.72282, 1.32667 20.7...</td>\n      <td>POINT (-0.62174 26.01400)</td>\n    </tr>\n  </tbody>\n</table>\n<p>5 rows × 24 columns</p>\n</div>"
     },
     "metadata": {},
     "execution_count": 86
    }
   ],
   "source": [
    "# Sort the DataFrame by code (Wilaya number) and reset the index\n",
    "pois_gdf = pois_gdf.sort_values(by=['code'],ignore_index=True)\n",
    "pois_gdf.reset_index(drop=True)\n",
    "pois_gdf.head()"
   ]
  },
  {
   "cell_type": "code",
   "execution_count": 87,
   "metadata": {
    "tags": []
   },
   "outputs": [
    {
     "output_type": "error",
     "ename": "KeyError",
     "evalue": "0",
     "traceback": [
      "\u001b[0;31m---------------------------------------------------------------------------\u001b[0m",
      "\u001b[0;31mTypeError\u001b[0m                                 Traceback (most recent call last)",
      "\u001b[0;32mpandas/_libs/index.pyx\u001b[0m in \u001b[0;36mpandas._libs.index.IndexEngine._get_loc_duplicates\u001b[0;34m()\u001b[0m\n",
      "\u001b[0;31mTypeError\u001b[0m: '<' not supported between instances of 'str' and 'int'",
      "\nDuring handling of the above exception, another exception occurred:\n",
      "\u001b[0;31mKeyError\u001b[0m                                  Traceback (most recent call last)",
      "\u001b[0;32m~/.local/lib/python3.8/site-packages/pandas/core/indexes/base.py\u001b[0m in \u001b[0;36mget_loc\u001b[0;34m(self, key, method, tolerance)\u001b[0m\n\u001b[1;32m   3079\u001b[0m             \u001b[0;32mtry\u001b[0m\u001b[0;34m:\u001b[0m\u001b[0;34m\u001b[0m\u001b[0;34m\u001b[0m\u001b[0m\n\u001b[0;32m-> 3080\u001b[0;31m                 \u001b[0;32mreturn\u001b[0m \u001b[0mself\u001b[0m\u001b[0;34m.\u001b[0m\u001b[0m_engine\u001b[0m\u001b[0;34m.\u001b[0m\u001b[0mget_loc\u001b[0m\u001b[0;34m(\u001b[0m\u001b[0mcasted_key\u001b[0m\u001b[0;34m)\u001b[0m\u001b[0;34m\u001b[0m\u001b[0;34m\u001b[0m\u001b[0m\n\u001b[0m\u001b[1;32m   3081\u001b[0m             \u001b[0;32mexcept\u001b[0m \u001b[0mKeyError\u001b[0m \u001b[0;32mas\u001b[0m \u001b[0merr\u001b[0m\u001b[0;34m:\u001b[0m\u001b[0;34m\u001b[0m\u001b[0;34m\u001b[0m\u001b[0m\n",
      "\u001b[0;32mpandas/_libs/index.pyx\u001b[0m in \u001b[0;36mpandas._libs.index.IndexEngine.get_loc\u001b[0;34m()\u001b[0m\n",
      "\u001b[0;32mpandas/_libs/index.pyx\u001b[0m in \u001b[0;36mpandas._libs.index.IndexEngine.get_loc\u001b[0;34m()\u001b[0m\n",
      "\u001b[0;32mpandas/_libs/index.pyx\u001b[0m in \u001b[0;36mpandas._libs.index.IndexEngine._get_loc_duplicates\u001b[0;34m()\u001b[0m\n",
      "\u001b[0;31mKeyError\u001b[0m: 0",
      "\nThe above exception was the direct cause of the following exception:\n",
      "\u001b[0;31mKeyError\u001b[0m                                  Traceback (most recent call last)",
      "\u001b[0;32m<ipython-input-87-cc64ad534ae9>\u001b[0m in \u001b[0;36m<module>\u001b[0;34m\u001b[0m\n\u001b[1;32m      1\u001b[0m \u001b[0;31m# Check if coordinates are within Wilayas polygons\u001b[0m\u001b[0;34m\u001b[0m\u001b[0;34m\u001b[0m\u001b[0;34m\u001b[0m\u001b[0m\n\u001b[0;32m----> 2\u001b[0;31m \u001b[0mpois_gdf\u001b[0m\u001b[0;34m[\u001b[0m\u001b[0;34m'coords_in_wil'\u001b[0m\u001b[0;34m]\u001b[0m \u001b[0;34m=\u001b[0m \u001b[0;34m[\u001b[0m\u001b[0mpois_gdf\u001b[0m\u001b[0;34m.\u001b[0m\u001b[0mgeometry\u001b[0m\u001b[0;34m[\u001b[0m\u001b[0mi\u001b[0m\u001b[0;34m]\u001b[0m\u001b[0;34m.\u001b[0m\u001b[0mwithin\u001b[0m\u001b[0;34m(\u001b[0m\u001b[0mpois_gdf\u001b[0m\u001b[0;34m.\u001b[0m\u001b[0mgeometry_y\u001b[0m\u001b[0;34m[\u001b[0m\u001b[0mi\u001b[0m\u001b[0;34m]\u001b[0m\u001b[0;34m)\u001b[0m \u001b[0;32mfor\u001b[0m \u001b[0mi\u001b[0m \u001b[0;32min\u001b[0m \u001b[0mrange\u001b[0m\u001b[0;34m(\u001b[0m\u001b[0mpois_gdf\u001b[0m\u001b[0;34m.\u001b[0m\u001b[0mgeometry\u001b[0m\u001b[0;34m.\u001b[0m\u001b[0mcount\u001b[0m\u001b[0;34m(\u001b[0m\u001b[0;34m)\u001b[0m\u001b[0;34m)\u001b[0m\u001b[0;34m]\u001b[0m\u001b[0;34m\u001b[0m\u001b[0;34m\u001b[0m\u001b[0m\n\u001b[0m\u001b[1;32m      3\u001b[0m \u001b[0mpois_gdf\u001b[0m\u001b[0;34m[\u001b[0m\u001b[0mpois_gdf\u001b[0m\u001b[0;34m.\u001b[0m\u001b[0mcoords_in_wil\u001b[0m \u001b[0;34m==\u001b[0m \u001b[0;32mFalse\u001b[0m\u001b[0;34m]\u001b[0m\u001b[0;34m\u001b[0m\u001b[0;34m\u001b[0m\u001b[0m\n",
      "\u001b[0;32m<ipython-input-87-cc64ad534ae9>\u001b[0m in \u001b[0;36m<listcomp>\u001b[0;34m(.0)\u001b[0m\n\u001b[1;32m      1\u001b[0m \u001b[0;31m# Check if coordinates are within Wilayas polygons\u001b[0m\u001b[0;34m\u001b[0m\u001b[0;34m\u001b[0m\u001b[0;34m\u001b[0m\u001b[0m\n\u001b[0;32m----> 2\u001b[0;31m \u001b[0mpois_gdf\u001b[0m\u001b[0;34m[\u001b[0m\u001b[0;34m'coords_in_wil'\u001b[0m\u001b[0;34m]\u001b[0m \u001b[0;34m=\u001b[0m \u001b[0;34m[\u001b[0m\u001b[0mpois_gdf\u001b[0m\u001b[0;34m.\u001b[0m\u001b[0mgeometry\u001b[0m\u001b[0;34m[\u001b[0m\u001b[0mi\u001b[0m\u001b[0;34m]\u001b[0m\u001b[0;34m.\u001b[0m\u001b[0mwithin\u001b[0m\u001b[0;34m(\u001b[0m\u001b[0mpois_gdf\u001b[0m\u001b[0;34m.\u001b[0m\u001b[0mgeometry_y\u001b[0m\u001b[0;34m[\u001b[0m\u001b[0mi\u001b[0m\u001b[0;34m]\u001b[0m\u001b[0;34m)\u001b[0m \u001b[0;32mfor\u001b[0m \u001b[0mi\u001b[0m \u001b[0;32min\u001b[0m \u001b[0mrange\u001b[0m\u001b[0;34m(\u001b[0m\u001b[0mpois_gdf\u001b[0m\u001b[0;34m.\u001b[0m\u001b[0mgeometry\u001b[0m\u001b[0;34m.\u001b[0m\u001b[0mcount\u001b[0m\u001b[0;34m(\u001b[0m\u001b[0;34m)\u001b[0m\u001b[0;34m)\u001b[0m\u001b[0;34m]\u001b[0m\u001b[0;34m\u001b[0m\u001b[0;34m\u001b[0m\u001b[0m\n\u001b[0m\u001b[1;32m      3\u001b[0m \u001b[0mpois_gdf\u001b[0m\u001b[0;34m[\u001b[0m\u001b[0mpois_gdf\u001b[0m\u001b[0;34m.\u001b[0m\u001b[0mcoords_in_wil\u001b[0m \u001b[0;34m==\u001b[0m \u001b[0;32mFalse\u001b[0m\u001b[0;34m]\u001b[0m\u001b[0;34m\u001b[0m\u001b[0;34m\u001b[0m\u001b[0m\n",
      "\u001b[0;32m~/.local/lib/python3.8/site-packages/pandas/core/frame.py\u001b[0m in \u001b[0;36m__getitem__\u001b[0;34m(self, key)\u001b[0m\n\u001b[1;32m   3022\u001b[0m             \u001b[0;32mif\u001b[0m \u001b[0mself\u001b[0m\u001b[0;34m.\u001b[0m\u001b[0mcolumns\u001b[0m\u001b[0;34m.\u001b[0m\u001b[0mnlevels\u001b[0m \u001b[0;34m>\u001b[0m \u001b[0;36m1\u001b[0m\u001b[0;34m:\u001b[0m\u001b[0;34m\u001b[0m\u001b[0;34m\u001b[0m\u001b[0m\n\u001b[1;32m   3023\u001b[0m                 \u001b[0;32mreturn\u001b[0m \u001b[0mself\u001b[0m\u001b[0;34m.\u001b[0m\u001b[0m_getitem_multilevel\u001b[0m\u001b[0;34m(\u001b[0m\u001b[0mkey\u001b[0m\u001b[0;34m)\u001b[0m\u001b[0;34m\u001b[0m\u001b[0;34m\u001b[0m\u001b[0m\n\u001b[0;32m-> 3024\u001b[0;31m             \u001b[0mindexer\u001b[0m \u001b[0;34m=\u001b[0m \u001b[0mself\u001b[0m\u001b[0;34m.\u001b[0m\u001b[0mcolumns\u001b[0m\u001b[0;34m.\u001b[0m\u001b[0mget_loc\u001b[0m\u001b[0;34m(\u001b[0m\u001b[0mkey\u001b[0m\u001b[0;34m)\u001b[0m\u001b[0;34m\u001b[0m\u001b[0;34m\u001b[0m\u001b[0m\n\u001b[0m\u001b[1;32m   3025\u001b[0m             \u001b[0;32mif\u001b[0m \u001b[0mis_integer\u001b[0m\u001b[0;34m(\u001b[0m\u001b[0mindexer\u001b[0m\u001b[0;34m)\u001b[0m\u001b[0;34m:\u001b[0m\u001b[0;34m\u001b[0m\u001b[0;34m\u001b[0m\u001b[0m\n\u001b[1;32m   3026\u001b[0m                 \u001b[0mindexer\u001b[0m \u001b[0;34m=\u001b[0m \u001b[0;34m[\u001b[0m\u001b[0mindexer\u001b[0m\u001b[0;34m]\u001b[0m\u001b[0;34m\u001b[0m\u001b[0;34m\u001b[0m\u001b[0m\n",
      "\u001b[0;32m~/.local/lib/python3.8/site-packages/pandas/core/indexes/base.py\u001b[0m in \u001b[0;36mget_loc\u001b[0;34m(self, key, method, tolerance)\u001b[0m\n\u001b[1;32m   3080\u001b[0m                 \u001b[0;32mreturn\u001b[0m \u001b[0mself\u001b[0m\u001b[0;34m.\u001b[0m\u001b[0m_engine\u001b[0m\u001b[0;34m.\u001b[0m\u001b[0mget_loc\u001b[0m\u001b[0;34m(\u001b[0m\u001b[0mcasted_key\u001b[0m\u001b[0;34m)\u001b[0m\u001b[0;34m\u001b[0m\u001b[0;34m\u001b[0m\u001b[0m\n\u001b[1;32m   3081\u001b[0m             \u001b[0;32mexcept\u001b[0m \u001b[0mKeyError\u001b[0m \u001b[0;32mas\u001b[0m \u001b[0merr\u001b[0m\u001b[0;34m:\u001b[0m\u001b[0;34m\u001b[0m\u001b[0;34m\u001b[0m\u001b[0m\n\u001b[0;32m-> 3082\u001b[0;31m                 \u001b[0;32mraise\u001b[0m \u001b[0mKeyError\u001b[0m\u001b[0;34m(\u001b[0m\u001b[0mkey\u001b[0m\u001b[0;34m)\u001b[0m \u001b[0;32mfrom\u001b[0m \u001b[0merr\u001b[0m\u001b[0;34m\u001b[0m\u001b[0;34m\u001b[0m\u001b[0m\n\u001b[0m\u001b[1;32m   3083\u001b[0m \u001b[0;34m\u001b[0m\u001b[0m\n\u001b[1;32m   3084\u001b[0m         \u001b[0;32mif\u001b[0m \u001b[0mtolerance\u001b[0m \u001b[0;32mis\u001b[0m \u001b[0;32mnot\u001b[0m \u001b[0;32mNone\u001b[0m\u001b[0;34m:\u001b[0m\u001b[0;34m\u001b[0m\u001b[0;34m\u001b[0m\u001b[0m\n",
      "\u001b[0;31mKeyError\u001b[0m: 0"
     ]
    }
   ],
   "source": [
    "# Check if coordinates are within Wilayas polygons\n",
    "pois_gdf['coords_in_wil'] = [pois_gdf.geometry[i].within(pois_gdf.geometry_y[i]) for i in range(pois_gdf.geometry.count())] \n",
    "pois_gdf[pois_gdf.coords_in_wil == False]"
   ]
  },
  {
   "cell_type": "code",
   "execution_count": 525,
   "metadata": {},
   "outputs": [
    {
     "output_type": "execute_result",
     "data": {
      "text/plain": [
       "    code             nom     type  \\\n",
       "4      5           BATNA   Agence   \n",
       "7      7          BISKRA  Antenne   \n",
       "8      7          BISKRA   Agence   \n",
       "12    10          BOUIRA   Agence   \n",
       "25    20           SAIDA   Agence   \n",
       "37    29         MASCARA   Agence   \n",
       "42    33          ILLIZI   Agence   \n",
       "50    41      SOUK AHRAS   Agence   \n",
       "53    43            MILA   Agence   \n",
       "55    45           NAAMA   Agence   \n",
       "56    46  AIN TEMOUCHENT   Agence   \n",
       "\n",
       "                                             adresses                  e-mail  \\\n",
       "4        CITE NACER CITE ADMINISTRATIVE BLOC 02 BATNA          batna@angem.dz   \n",
       "7   BLOC N°06 CITE 200/500(PRES DE LA MOSQUEE EL F...       arbiskra@angem.dz   \n",
       "8   BLOC N° 06 CITE 200/500 (PRES DE LA MOSQUEE EL...         biskra@angem.dz   \n",
       "12  CITE 56 LGTS BT F ENTREE 02 A COTE DU STADE MU...         bouira@angem.dz   \n",
       "25         BOULVARD FRANZ FANON EX MOHAFADAT DE SAIDA          saida@angem.dz   \n",
       "37                       RUE CHEMMOUM MOKHTAR MASCARA        mascara@angem.dz   \n",
       "42                   PLACE EL MAGHREB EL ARABI ILLIZI         illizi@angem.dz   \n",
       "50  CITE ADMINISTRATIVE 80 BUREAUX EL BORDJ EL KAB...      soukahras@angem.dz   \n",
       "53                      CITE BEN GUERBA FACE APW MILA           mila@angem.dz   \n",
       "55        CITE ADMINISTRATIVE 50 BUREAUX BT 146 NAAMA          naama@angem.dz   \n",
       "56                     AVENUE AMRO MOKDAD CITE MEDINA  aintemouchent@angem.dz   \n",
       "\n",
       "             fax           tel             wilayas de rattachement        lat  \\\n",
       "4   033 25 39 79  033 25 39 78                               BATNA        NaN   \n",
       "7   033 51 53 17  033 51 53 17  Biskra, El Oued, Khenchla, Tebessa  37.172745   \n",
       "8   033 51 53 55  033 51 53 56                              BISKRA  33.140374   \n",
       "12  026 72 02 72  026 72 02 72                              BOUIRA  40.520423   \n",
       "25  048 41 02 53  048 41 00 94                               SAIDA        NaN   \n",
       "37  045 71 89 98  045 71 89 36                             MASCARA        NaN   \n",
       "42  029 41 16 10  029 41 16 10                              ILLIZI  35.856345   \n",
       "50  037 72 43 86  037 72 43 87                          SOUK AHRAS  35.515206   \n",
       "53  031 47 48 16  031 47 47 44                                MILA  47.255310   \n",
       "55  049 59 50 09  049 59 56 63                               NAAMA        NaN   \n",
       "56  043 79 53 34  043 79 21 38                      AIN TEMOUCHENT  38.588127   \n",
       "\n",
       "           lon  to_check                     geometry  \n",
       "4          NaN      True     POINT (5.87455 35.41969)  \n",
       "7    10.033169      True    POINT (10.03317 37.17275)  \n",
       "8     5.595066      True     POINT (5.59507 33.14037)  \n",
       "12   22.971676      True    POINT (22.97168 40.52042)  \n",
       "25         NaN      True     POINT (0.28119 34.73743)  \n",
       "37         NaN      True     POINT (0.15926 35.39167)  \n",
       "42   -0.312907      True    POINT (-0.31291 35.85634)  \n",
       "50    0.300470      True     POINT (0.30047 35.51521)  \n",
       "53 -122.472227      True  POINT (-122.47223 47.25531)  \n",
       "55         NaN      True    POINT (-0.76827 33.30472)  \n",
       "56  -90.297416      True   POINT (-90.29742 38.58813)  "
      ],
      "text/html": "<div>\n<style scoped>\n    .dataframe tbody tr th:only-of-type {\n        vertical-align: middle;\n    }\n\n    .dataframe tbody tr th {\n        vertical-align: top;\n    }\n\n    .dataframe thead th {\n        text-align: right;\n    }\n</style>\n<table border=\"1\" class=\"dataframe\">\n  <thead>\n    <tr style=\"text-align: right;\">\n      <th></th>\n      <th>code</th>\n      <th>nom</th>\n      <th>type</th>\n      <th>adresses</th>\n      <th>e-mail</th>\n      <th>fax</th>\n      <th>tel</th>\n      <th>wilayas de rattachement</th>\n      <th>lat</th>\n      <th>lon</th>\n      <th>to_check</th>\n      <th>geometry</th>\n    </tr>\n  </thead>\n  <tbody>\n    <tr>\n      <th>4</th>\n      <td>5</td>\n      <td>BATNA</td>\n      <td>Agence</td>\n      <td>CITE NACER CITE ADMINISTRATIVE BLOC 02 BATNA</td>\n      <td>batna@angem.dz</td>\n      <td>033 25 39 79</td>\n      <td>033 25 39 78</td>\n      <td>BATNA</td>\n      <td>NaN</td>\n      <td>NaN</td>\n      <td>True</td>\n      <td>POINT (5.87455 35.41969)</td>\n    </tr>\n    <tr>\n      <th>7</th>\n      <td>7</td>\n      <td>BISKRA</td>\n      <td>Antenne</td>\n      <td>BLOC N°06 CITE 200/500(PRES DE LA MOSQUEE EL F...</td>\n      <td>arbiskra@angem.dz</td>\n      <td>033 51 53 17</td>\n      <td>033 51 53 17</td>\n      <td>Biskra, El Oued, Khenchla, Tebessa</td>\n      <td>37.172745</td>\n      <td>10.033169</td>\n      <td>True</td>\n      <td>POINT (10.03317 37.17275)</td>\n    </tr>\n    <tr>\n      <th>8</th>\n      <td>7</td>\n      <td>BISKRA</td>\n      <td>Agence</td>\n      <td>BLOC N° 06 CITE 200/500 (PRES DE LA MOSQUEE EL...</td>\n      <td>biskra@angem.dz</td>\n      <td>033 51 53 55</td>\n      <td>033 51 53 56</td>\n      <td>BISKRA</td>\n      <td>33.140374</td>\n      <td>5.595066</td>\n      <td>True</td>\n      <td>POINT (5.59507 33.14037)</td>\n    </tr>\n    <tr>\n      <th>12</th>\n      <td>10</td>\n      <td>BOUIRA</td>\n      <td>Agence</td>\n      <td>CITE 56 LGTS BT F ENTREE 02 A COTE DU STADE MU...</td>\n      <td>bouira@angem.dz</td>\n      <td>026 72 02 72</td>\n      <td>026 72 02 72</td>\n      <td>BOUIRA</td>\n      <td>40.520423</td>\n      <td>22.971676</td>\n      <td>True</td>\n      <td>POINT (22.97168 40.52042)</td>\n    </tr>\n    <tr>\n      <th>25</th>\n      <td>20</td>\n      <td>SAIDA</td>\n      <td>Agence</td>\n      <td>BOULVARD FRANZ FANON EX MOHAFADAT DE SAIDA</td>\n      <td>saida@angem.dz</td>\n      <td>048 41 02 53</td>\n      <td>048 41 00 94</td>\n      <td>SAIDA</td>\n      <td>NaN</td>\n      <td>NaN</td>\n      <td>True</td>\n      <td>POINT (0.28119 34.73743)</td>\n    </tr>\n    <tr>\n      <th>37</th>\n      <td>29</td>\n      <td>MASCARA</td>\n      <td>Agence</td>\n      <td>RUE CHEMMOUM MOKHTAR MASCARA</td>\n      <td>mascara@angem.dz</td>\n      <td>045 71 89 98</td>\n      <td>045 71 89 36</td>\n      <td>MASCARA</td>\n      <td>NaN</td>\n      <td>NaN</td>\n      <td>True</td>\n      <td>POINT (0.15926 35.39167)</td>\n    </tr>\n    <tr>\n      <th>42</th>\n      <td>33</td>\n      <td>ILLIZI</td>\n      <td>Agence</td>\n      <td>PLACE EL MAGHREB EL ARABI ILLIZI</td>\n      <td>illizi@angem.dz</td>\n      <td>029 41 16 10</td>\n      <td>029 41 16 10</td>\n      <td>ILLIZI</td>\n      <td>35.856345</td>\n      <td>-0.312907</td>\n      <td>True</td>\n      <td>POINT (-0.31291 35.85634)</td>\n    </tr>\n    <tr>\n      <th>50</th>\n      <td>41</td>\n      <td>SOUK AHRAS</td>\n      <td>Agence</td>\n      <td>CITE ADMINISTRATIVE 80 BUREAUX EL BORDJ EL KAB...</td>\n      <td>soukahras@angem.dz</td>\n      <td>037 72 43 86</td>\n      <td>037 72 43 87</td>\n      <td>SOUK AHRAS</td>\n      <td>35.515206</td>\n      <td>0.300470</td>\n      <td>True</td>\n      <td>POINT (0.30047 35.51521)</td>\n    </tr>\n    <tr>\n      <th>53</th>\n      <td>43</td>\n      <td>MILA</td>\n      <td>Agence</td>\n      <td>CITE BEN GUERBA FACE APW MILA</td>\n      <td>mila@angem.dz</td>\n      <td>031 47 48 16</td>\n      <td>031 47 47 44</td>\n      <td>MILA</td>\n      <td>47.255310</td>\n      <td>-122.472227</td>\n      <td>True</td>\n      <td>POINT (-122.47223 47.25531)</td>\n    </tr>\n    <tr>\n      <th>55</th>\n      <td>45</td>\n      <td>NAAMA</td>\n      <td>Agence</td>\n      <td>CITE ADMINISTRATIVE 50 BUREAUX BT 146 NAAMA</td>\n      <td>naama@angem.dz</td>\n      <td>049 59 50 09</td>\n      <td>049 59 56 63</td>\n      <td>NAAMA</td>\n      <td>NaN</td>\n      <td>NaN</td>\n      <td>True</td>\n      <td>POINT (-0.76827 33.30472)</td>\n    </tr>\n    <tr>\n      <th>56</th>\n      <td>46</td>\n      <td>AIN TEMOUCHENT</td>\n      <td>Agence</td>\n      <td>AVENUE AMRO MOKDAD CITE MEDINA</td>\n      <td>aintemouchent@angem.dz</td>\n      <td>043 79 53 34</td>\n      <td>043 79 21 38</td>\n      <td>AIN TEMOUCHENT</td>\n      <td>38.588127</td>\n      <td>-90.297416</td>\n      <td>True</td>\n      <td>POINT (-90.29742 38.58813)</td>\n    </tr>\n  </tbody>\n</table>\n</div>"
     },
     "metadata": {},
     "execution_count": 525
    }
   ],
   "source": [
    "# Update to_check flag to take into account points outside Wilays and without geocoding coordinates\n",
    "#final_gdf = angem_gdf\n",
    "#final_gdf['to_check'] = (angem_gdf['to_check'] == True) | (angem_gdf['coords_in_wil'] == False)   \n",
    "\n",
    "# Remove unecessary columns\n",
    "#final_gdf = final_gdf.drop(['geometry_y', 'code_wil', 'centroid', 'WILAYA', 'coords_in_wil'], axis=1)\n",
    "\n",
    "#final_gdf[final_gdf.to_check == True]"
   ]
  },
  {
   "cell_type": "code",
   "execution_count": 528,
   "metadata": {},
   "outputs": [],
   "source": [
    "# Write to a GeoPackage file\n",
    "\n",
    "#gpd.GeoDataFrame(final_gdf).to_file(\"angem_to_check.geojson\", driver='GeoJSON')"
   ]
  }
 ]
}