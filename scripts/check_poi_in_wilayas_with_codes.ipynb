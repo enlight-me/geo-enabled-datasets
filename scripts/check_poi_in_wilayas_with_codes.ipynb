{
 "metadata": {
  "language_info": {
   "codemirror_mode": {
    "name": "ipython",
    "version": 3
   },
   "file_extension": ".py",
   "mimetype": "text/x-python",
   "name": "python",
   "nbconvert_exporter": "python",
   "pygments_lexer": "ipython3",
   "version": "3.8.5"
  },
  "orig_nbformat": 2,
  "kernelspec": {
   "name": "python38564bitc5dda015dcc140dba795e9b0465f9f9d",
   "display_name": "Python 3.8.5 64-bit"
  },
  "metadata": {
   "interpreter": {
    "hash": "916dbcbb3f70747c44a77c7bcd40155683ae19c65e1c03b4aa3499c5328201f1"
   }
  }
 },
 "nbformat": 4,
 "nbformat_minor": 2,
 "cells": [
  {
   "cell_type": "code",
   "execution_count": 29,
   "metadata": {},
   "outputs": [],
   "source": [
    "import pandas as pd \n",
    "import geopandas as gpd \n",
    "from shapely.geometry import Point\n",
    "import numpy as np "
   ]
  },
  {
   "cell_type": "code",
   "execution_count": 30,
   "metadata": {},
   "outputs": [
    {
     "output_type": "stream",
     "name": "stderr",
     "text": [
      "<ipython-input-30-e95edb6e38e9>:6: UserWarning: Geometry is in a geographic CRS. Results from 'centroid' are likely incorrect. Use 'GeoSeries.to_crs()' to re-project geometries to a projected CRS before this operation.\n\n  wilayas_gdf['centroid'] = wilayas_gdf['geometry'].centroid\n"
     ]
    },
    {
     "output_type": "execute_result",
     "data": {
      "text/plain": [
       "   code_wil         nom_wil  \\\n",
       "0         1           Adrar   \n",
       "1         2           Chlef   \n",
       "2         3        Laghouat   \n",
       "3         4  Oum El Bouaghi   \n",
       "4         5           Batna   \n",
       "\n",
       "                                            geometry  \\\n",
       "0  MULTIPOLYGON (((1.33461 20.72282, 1.32667 20.7...   \n",
       "1  MULTIPOLYGON (((1.55326 36.02990, 1.55325 36.0...   \n",
       "2  MULTIPOLYGON (((2.88464 32.88137, 2.87848 32.8...   \n",
       "3  MULTIPOLYGON (((7.47320 35.52005, 7.47227 35.5...   \n",
       "4  MULTIPOLYGON (((6.10102 35.05459, 6.10090 35.0...   \n",
       "\n",
       "                    centroid  \n",
       "0  POINT (-0.62174 26.01400)  \n",
       "1   POINT (1.25669 36.23826)  \n",
       "2   POINT (2.72955 33.60757)  \n",
       "3   POINT (7.06527 35.83646)  \n",
       "4   POINT (5.87455 35.41969)  "
      ],
      "text/html": "<div>\n<style scoped>\n    .dataframe tbody tr th:only-of-type {\n        vertical-align: middle;\n    }\n\n    .dataframe tbody tr th {\n        vertical-align: top;\n    }\n\n    .dataframe thead th {\n        text-align: right;\n    }\n</style>\n<table border=\"1\" class=\"dataframe\">\n  <thead>\n    <tr style=\"text-align: right;\">\n      <th></th>\n      <th>code_wil</th>\n      <th>nom_wil</th>\n      <th>geometry</th>\n      <th>centroid</th>\n    </tr>\n  </thead>\n  <tbody>\n    <tr>\n      <th>0</th>\n      <td>1</td>\n      <td>Adrar</td>\n      <td>MULTIPOLYGON (((1.33461 20.72282, 1.32667 20.7...</td>\n      <td>POINT (-0.62174 26.01400)</td>\n    </tr>\n    <tr>\n      <th>1</th>\n      <td>2</td>\n      <td>Chlef</td>\n      <td>MULTIPOLYGON (((1.55326 36.02990, 1.55325 36.0...</td>\n      <td>POINT (1.25669 36.23826)</td>\n    </tr>\n    <tr>\n      <th>2</th>\n      <td>3</td>\n      <td>Laghouat</td>\n      <td>MULTIPOLYGON (((2.88464 32.88137, 2.87848 32.8...</td>\n      <td>POINT (2.72955 33.60757)</td>\n    </tr>\n    <tr>\n      <th>3</th>\n      <td>4</td>\n      <td>Oum El Bouaghi</td>\n      <td>MULTIPOLYGON (((7.47320 35.52005, 7.47227 35.5...</td>\n      <td>POINT (7.06527 35.83646)</td>\n    </tr>\n    <tr>\n      <th>4</th>\n      <td>5</td>\n      <td>Batna</td>\n      <td>MULTIPOLYGON (((6.10102 35.05459, 6.10090 35.0...</td>\n      <td>POINT (5.87455 35.41969)</td>\n    </tr>\n  </tbody>\n</table>\n</div>"
     },
     "metadata": {},
     "execution_count": 30
    }
   ],
   "source": [
    "# Load Wilayas Features and calculate polygon centroids\n",
    "wilayas_gjson = '../dz-admin/wilayas_48.geojson'\n",
    "wilayas_gdf = gpd.read_file(wilayas_gjson)\n",
    "wilayas_gdf = wilayas_gdf[['code', 'nom', 'geometry']]\n",
    "wilayas_gdf = wilayas_gdf.rename(columns={'nom': 'nom_wil', 'code': 'code_wil'})\n",
    "wilayas_gdf['centroid'] = wilayas_gdf['geometry'].centroid\n",
    "wilayas_gdf.head()"
   ]
  },
  {
   "cell_type": "code",
   "execution_count": 31,
   "metadata": {},
   "outputs": [
    {
     "output_type": "execute_result",
     "data": {
      "text/plain": [
       "<Geographic 2D CRS: EPSG:4326>\n",
       "Name: WGS 84\n",
       "Axis Info [ellipsoidal]:\n",
       "- Lat[north]: Geodetic latitude (degree)\n",
       "- Lon[east]: Geodetic longitude (degree)\n",
       "Area of Use:\n",
       "- name: World\n",
       "- bounds: (-180.0, -90.0, 180.0, 90.0)\n",
       "Datum: World Geodetic System 1984\n",
       "- Ellipsoid: WGS 84\n",
       "- Prime Meridian: Greenwich"
      ]
     },
     "metadata": {},
     "execution_count": 31
    }
   ],
   "source": [
    "wilayas_gdf = wilayas_gdf.set_crs(\"EPSG:4326\")\n",
    "wilayas_gdf.crs"
   ]
  },
  {
   "cell_type": "code",
   "execution_count": 32,
   "metadata": {},
   "outputs": [
    {
     "output_type": "execute_result",
     "data": {
      "text/plain": [
       "   num                 name                                      address  \\\n",
       "0    1      BARIK BOUDJEMAA                  CITE 103 LOGTS BP 575 Adrar   \n",
       "1    2        BENHADJ AHMED             CITE DES 40 LOGTS LOCAL 25 Adrar   \n",
       "2    3  AZZOU ABD ERRAHMANE             Rue Amrad Cité OULED ANKAL Adrar   \n",
       "3    4   MIMOUNI ABDELKADER  Rue Mokadem El Arbi, lot 30 Group 191 Adrar   \n",
       "4    5      OULED ALI AHMED             Cité 60 Logements Timimoun Adrar   \n",
       "\n",
       "   code_wil     court            tel    status        lat       lon  to_check  \n",
       "0         1     Adrar   049 96 53 89  physical  28.017440 -0.264250     False  \n",
       "1         1     Adrar   049 96 67 26  physical  28.017440 -0.264250     False  \n",
       "2         1     Adrar   049 96 53 19  physical  36.102009  2.712287     False  \n",
       "3         1     Adrar  0665 01 20 18  physical  28.017440 -0.264250     False  \n",
       "4         1  Timimoun  0555 40 62 94  physical  35.261165  6.368815     False  "
      ],
      "text/html": "<div>\n<style scoped>\n    .dataframe tbody tr th:only-of-type {\n        vertical-align: middle;\n    }\n\n    .dataframe tbody tr th {\n        vertical-align: top;\n    }\n\n    .dataframe thead th {\n        text-align: right;\n    }\n</style>\n<table border=\"1\" class=\"dataframe\">\n  <thead>\n    <tr style=\"text-align: right;\">\n      <th></th>\n      <th>num</th>\n      <th>name</th>\n      <th>address</th>\n      <th>code_wil</th>\n      <th>court</th>\n      <th>tel</th>\n      <th>status</th>\n      <th>lat</th>\n      <th>lon</th>\n      <th>to_check</th>\n    </tr>\n  </thead>\n  <tbody>\n    <tr>\n      <th>0</th>\n      <td>1</td>\n      <td>BARIK BOUDJEMAA</td>\n      <td>CITE 103 LOGTS BP 575 Adrar</td>\n      <td>1</td>\n      <td>Adrar</td>\n      <td>049 96 53 89</td>\n      <td>physical</td>\n      <td>28.017440</td>\n      <td>-0.264250</td>\n      <td>False</td>\n    </tr>\n    <tr>\n      <th>1</th>\n      <td>2</td>\n      <td>BENHADJ AHMED</td>\n      <td>CITE DES 40 LOGTS LOCAL 25 Adrar</td>\n      <td>1</td>\n      <td>Adrar</td>\n      <td>049 96 67 26</td>\n      <td>physical</td>\n      <td>28.017440</td>\n      <td>-0.264250</td>\n      <td>False</td>\n    </tr>\n    <tr>\n      <th>2</th>\n      <td>3</td>\n      <td>AZZOU ABD ERRAHMANE</td>\n      <td>Rue Amrad Cité OULED ANKAL Adrar</td>\n      <td>1</td>\n      <td>Adrar</td>\n      <td>049 96 53 19</td>\n      <td>physical</td>\n      <td>36.102009</td>\n      <td>2.712287</td>\n      <td>False</td>\n    </tr>\n    <tr>\n      <th>3</th>\n      <td>4</td>\n      <td>MIMOUNI ABDELKADER</td>\n      <td>Rue Mokadem El Arbi, lot 30 Group 191 Adrar</td>\n      <td>1</td>\n      <td>Adrar</td>\n      <td>0665 01 20 18</td>\n      <td>physical</td>\n      <td>28.017440</td>\n      <td>-0.264250</td>\n      <td>False</td>\n    </tr>\n    <tr>\n      <th>4</th>\n      <td>5</td>\n      <td>OULED ALI AHMED</td>\n      <td>Cité 60 Logements Timimoun Adrar</td>\n      <td>1</td>\n      <td>Timimoun</td>\n      <td>0555 40 62 94</td>\n      <td>physical</td>\n      <td>35.261165</td>\n      <td>6.368815</td>\n      <td>False</td>\n    </tr>\n  </tbody>\n</table>\n</div>"
     },
     "metadata": {},
     "execution_count": 32
    }
   ],
   "source": [
    "# Load Tagreted dataset and set to_check to False assuming all geocoded coordinates are OK \n",
    "pois_path = '../dz-datasets/notaries/'\n",
    "pois = pd.read_csv(pois_path + 'notaries_geocoded.csv')\n",
    "pois['to_check'] = False\n",
    "pois.head()"
   ]
  },
  {
   "cell_type": "code",
   "execution_count": 33,
   "metadata": {},
   "outputs": [
    {
     "output_type": "execute_result",
     "data": {
      "text/plain": [
       "   num                 name                                      address  \\\n",
       "0    1      BARIK BOUDJEMAA                  CITE 103 LOGTS BP 575 Adrar   \n",
       "1    2        BENHADJ AHMED             CITE DES 40 LOGTS LOCAL 25 Adrar   \n",
       "2    3  AZZOU ABD ERRAHMANE             Rue Amrad Cité OULED ANKAL Adrar   \n",
       "3    4   MIMOUNI ABDELKADER  Rue Mokadem El Arbi, lot 30 Group 191 Adrar   \n",
       "4    5      OULED ALI AHMED             Cité 60 Logements Timimoun Adrar   \n",
       "\n",
       "   code_wil     court            tel    status        lat       lon  to_check  \\\n",
       "0         1     Adrar   049 96 53 89  physical  28.017440 -0.264250     False   \n",
       "1         1     Adrar   049 96 67 26  physical  28.017440 -0.264250     False   \n",
       "2         1     Adrar   049 96 53 19  physical  36.102009  2.712287     False   \n",
       "3         1     Adrar  0665 01 20 18  physical  28.017440 -0.264250     False   \n",
       "4         1  Timimoun  0555 40 62 94  physical  35.261165  6.368815     False   \n",
       "\n",
       "                    geometry  \n",
       "0  POINT (-0.26425 28.01744)  \n",
       "1  POINT (-0.26425 28.01744)  \n",
       "2   POINT (2.71229 36.10201)  \n",
       "3  POINT (-0.26425 28.01744)  \n",
       "4   POINT (6.36881 35.26116)  "
      ],
      "text/html": "<div>\n<style scoped>\n    .dataframe tbody tr th:only-of-type {\n        vertical-align: middle;\n    }\n\n    .dataframe tbody tr th {\n        vertical-align: top;\n    }\n\n    .dataframe thead th {\n        text-align: right;\n    }\n</style>\n<table border=\"1\" class=\"dataframe\">\n  <thead>\n    <tr style=\"text-align: right;\">\n      <th></th>\n      <th>num</th>\n      <th>name</th>\n      <th>address</th>\n      <th>code_wil</th>\n      <th>court</th>\n      <th>tel</th>\n      <th>status</th>\n      <th>lat</th>\n      <th>lon</th>\n      <th>to_check</th>\n      <th>geometry</th>\n    </tr>\n  </thead>\n  <tbody>\n    <tr>\n      <th>0</th>\n      <td>1</td>\n      <td>BARIK BOUDJEMAA</td>\n      <td>CITE 103 LOGTS BP 575 Adrar</td>\n      <td>1</td>\n      <td>Adrar</td>\n      <td>049 96 53 89</td>\n      <td>physical</td>\n      <td>28.017440</td>\n      <td>-0.264250</td>\n      <td>False</td>\n      <td>POINT (-0.26425 28.01744)</td>\n    </tr>\n    <tr>\n      <th>1</th>\n      <td>2</td>\n      <td>BENHADJ AHMED</td>\n      <td>CITE DES 40 LOGTS LOCAL 25 Adrar</td>\n      <td>1</td>\n      <td>Adrar</td>\n      <td>049 96 67 26</td>\n      <td>physical</td>\n      <td>28.017440</td>\n      <td>-0.264250</td>\n      <td>False</td>\n      <td>POINT (-0.26425 28.01744)</td>\n    </tr>\n    <tr>\n      <th>2</th>\n      <td>3</td>\n      <td>AZZOU ABD ERRAHMANE</td>\n      <td>Rue Amrad Cité OULED ANKAL Adrar</td>\n      <td>1</td>\n      <td>Adrar</td>\n      <td>049 96 53 19</td>\n      <td>physical</td>\n      <td>36.102009</td>\n      <td>2.712287</td>\n      <td>False</td>\n      <td>POINT (2.71229 36.10201)</td>\n    </tr>\n    <tr>\n      <th>3</th>\n      <td>4</td>\n      <td>MIMOUNI ABDELKADER</td>\n      <td>Rue Mokadem El Arbi, lot 30 Group 191 Adrar</td>\n      <td>1</td>\n      <td>Adrar</td>\n      <td>0665 01 20 18</td>\n      <td>physical</td>\n      <td>28.017440</td>\n      <td>-0.264250</td>\n      <td>False</td>\n      <td>POINT (-0.26425 28.01744)</td>\n    </tr>\n    <tr>\n      <th>4</th>\n      <td>5</td>\n      <td>OULED ALI AHMED</td>\n      <td>Cité 60 Logements Timimoun Adrar</td>\n      <td>1</td>\n      <td>Timimoun</td>\n      <td>0555 40 62 94</td>\n      <td>physical</td>\n      <td>35.261165</td>\n      <td>6.368815</td>\n      <td>False</td>\n      <td>POINT (6.36881 35.26116)</td>\n    </tr>\n  </tbody>\n</table>\n</div>"
     },
     "metadata": {},
     "execution_count": 33
    }
   ],
   "source": [
    "# Convert pandas DataFrame to GeoPandas \n",
    "pois['geometry'] = pois.apply(lambda row: Point(row.lon, row.lat), axis=1)\n",
    "pois_gdf  = gpd.GeoDataFrame(pois)\n",
    "pois_gdf.head()"
   ]
  },
  {
   "cell_type": "code",
   "execution_count": 34,
   "metadata": {},
   "outputs": [
    {
     "output_type": "execute_result",
     "data": {
      "text/plain": [
       "num         892\n",
       "name        892\n",
       "address     892\n",
       "code_wil    892\n",
       "court       335\n",
       "tel         296\n",
       "status      310\n",
       "lat         883\n",
       "lon         883\n",
       "to_check    892\n",
       "geometry    892\n",
       "dtype: int64"
      ]
     },
     "metadata": {},
     "execution_count": 34
    }
   ],
   "source": [
    "pois_gdf.count()"
   ]
  },
  {
   "cell_type": "code",
   "execution_count": 35,
   "metadata": {},
   "outputs": [
    {
     "output_type": "execute_result",
     "data": {
      "text/plain": [
       "<Geographic 2D CRS: EPSG:4326>\n",
       "Name: WGS 84\n",
       "Axis Info [ellipsoidal]:\n",
       "- Lat[north]: Geodetic latitude (degree)\n",
       "- Lon[east]: Geodetic longitude (degree)\n",
       "Area of Use:\n",
       "- name: World\n",
       "- bounds: (-180.0, -90.0, 180.0, 90.0)\n",
       "Datum: World Geodetic System 1984\n",
       "- Ellipsoid: WGS 84\n",
       "- Prime Meridian: Greenwich"
      ]
     },
     "metadata": {},
     "execution_count": 35
    }
   ],
   "source": [
    "# Set the Coordinate reference system\n",
    "pois_gdf = pois_gdf.set_crs(\"EPSG:4326\")\n",
    "pois_gdf.crs"
   ]
  },
  {
   "cell_type": "code",
   "execution_count": 36,
   "metadata": {},
   "outputs": [
    {
     "output_type": "execute_result",
     "data": {
      "text/plain": [
       "num           9\n",
       "name          9\n",
       "address       9\n",
       "code_wil      9\n",
       "court         2\n",
       "tel           2\n",
       "status        1\n",
       "lat           0\n",
       "lon           0\n",
       "to_check      9\n",
       "nom_wil       9\n",
       "geometry_y    9\n",
       "centroid      9\n",
       "geometry      9\n",
       "dtype: int64"
      ]
     },
     "metadata": {},
     "execution_count": 36
    }
   ],
   "source": [
    "# Check for rows with no coordiantes\n",
    "no_coords_gdf = pois_gdf[(pois_gdf['lat'].isnull() | pois_gdf['lat'].isnull())]\n",
    "\n",
    "# Merge with Wialyas DataFrame and set geometry to centroids\n",
    "# The merge may be done either with Wilayas code or wilayas names   \n",
    "no_coords_gdf = no_coords_gdf.merge(wilayas_gdf, left_on='code_wil', right_on='code_wil', how='left')\n",
    "no_coords_gdf['geometry'] = no_coords_gdf['centroid']\n",
    "no_coords_gdf['to_check'] = True\n",
    "\n",
    "with_coords_gdf = no_coords_gdf.drop(columns=['geometry_x'], axis=1)\n",
    "\n",
    "with_coords_gdf.count() "
   ]
  },
  {
   "cell_type": "code",
   "execution_count": 37,
   "metadata": {},
   "outputs": [
    {
     "output_type": "execute_result",
     "data": {
      "text/plain": [
       "num           883\n",
       "name          883\n",
       "address       883\n",
       "code_wil      883\n",
       "court         333\n",
       "tel           294\n",
       "status        309\n",
       "lat           883\n",
       "lon           883\n",
       "to_check      883\n",
       "geometry      883\n",
       "nom_wil       883\n",
       "geometry_y    883\n",
       "centroid      883\n",
       "dtype: int64"
      ]
     },
     "metadata": {},
     "execution_count": 37
    }
   ],
   "source": [
    "# Update the Targeted DataFrame by adding Wilayas geometries and centroids \n",
    "pois_gdf = pois_gdf[(pois_gdf['lat'].notnull() & pois_gdf['lat'].notnull())]\n",
    "\n",
    "# Merge with Wialyas DataFrame and set geometry to centroids\n",
    "# The merge may be done either with Wilayas code or wilayas names   \n",
    "pois_gdf = pois_gdf.merge(wilayas_gdf, left_on='code_wil', right_on='code_wil', how='left')\n",
    "pois_gdf.rename(columns={\"geometry_x\": \"geometry\"}, inplace=True)\n",
    "pois_gdf.count()"
   ]
  },
  {
   "cell_type": "code",
   "execution_count": 38,
   "metadata": {},
   "outputs": [
    {
     "output_type": "execute_result",
     "data": {
      "text/plain": [
       "num           892\n",
       "name          892\n",
       "address       892\n",
       "code_wil      892\n",
       "court         335\n",
       "tel           296\n",
       "status        310\n",
       "lat           883\n",
       "lon           883\n",
       "to_check      892\n",
       "geometry      892\n",
       "geometry_y    892\n",
       "dtype: int64"
      ]
     },
     "metadata": {},
     "execution_count": 38
    }
   ],
   "source": [
    "# Concat the Targeted DataFrame with rows without coordinates and approximated with Wilayas centroids \n",
    "pois_gdf = pd.concat([pois_gdf, with_coords_gdf])\n",
    "\n",
    "# Drop unecessary columns\n",
    "pois_gdf = pois_gdf.drop(columns=['centroid', 'nom_wil'], axis=1)\n",
    "\n",
    "pois_gdf[(pois_gdf['lat'].isnull() | pois_gdf['lon'].isnull())]\n",
    "pois_gdf.count()"
   ]
  },
  {
   "cell_type": "code",
   "execution_count": 39,
   "metadata": {},
   "outputs": [
    {
     "output_type": "execute_result",
     "data": {
      "text/plain": [
       "   num                 name                                      address  \\\n",
       "0    1      BARIK BOUDJEMAA                  CITE 103 LOGTS BP 575 Adrar   \n",
       "1    2        BENHADJ AHMED             CITE DES 40 LOGTS LOCAL 25 Adrar   \n",
       "2    3  AZZOU ABD ERRAHMANE             Rue Amrad Cité OULED ANKAL Adrar   \n",
       "3    4   MIMOUNI ABDELKADER  Rue Mokadem El Arbi, lot 30 Group 191 Adrar   \n",
       "4    5      OULED ALI AHMED             Cité 60 Logements Timimoun Adrar   \n",
       "\n",
       "   code_wil     court            tel    status        lat       lon  to_check  \\\n",
       "0         1     Adrar   049 96 53 89  physical  28.017440 -0.264250     False   \n",
       "1         1     Adrar   049 96 67 26  physical  28.017440 -0.264250     False   \n",
       "2         1     Adrar   049 96 53 19  physical  36.102009  2.712287     False   \n",
       "3         1     Adrar  0665 01 20 18  physical  28.017440 -0.264250     False   \n",
       "4         1  Timimoun  0555 40 62 94  physical  35.261165  6.368815     False   \n",
       "\n",
       "                    geometry  \\\n",
       "0  POINT (-0.26425 28.01744)   \n",
       "1  POINT (-0.26425 28.01744)   \n",
       "2   POINT (2.71229 36.10201)   \n",
       "3  POINT (-0.26425 28.01744)   \n",
       "4   POINT (6.36881 35.26116)   \n",
       "\n",
       "                                          geometry_y  \n",
       "0  MULTIPOLYGON (((1.33461 20.72282, 1.32667 20.7...  \n",
       "1  MULTIPOLYGON (((1.33461 20.72282, 1.32667 20.7...  \n",
       "2  MULTIPOLYGON (((1.33461 20.72282, 1.32667 20.7...  \n",
       "3  MULTIPOLYGON (((1.33461 20.72282, 1.32667 20.7...  \n",
       "4  MULTIPOLYGON (((1.33461 20.72282, 1.32667 20.7...  "
      ],
      "text/html": "<div>\n<style scoped>\n    .dataframe tbody tr th:only-of-type {\n        vertical-align: middle;\n    }\n\n    .dataframe tbody tr th {\n        vertical-align: top;\n    }\n\n    .dataframe thead th {\n        text-align: right;\n    }\n</style>\n<table border=\"1\" class=\"dataframe\">\n  <thead>\n    <tr style=\"text-align: right;\">\n      <th></th>\n      <th>num</th>\n      <th>name</th>\n      <th>address</th>\n      <th>code_wil</th>\n      <th>court</th>\n      <th>tel</th>\n      <th>status</th>\n      <th>lat</th>\n      <th>lon</th>\n      <th>to_check</th>\n      <th>geometry</th>\n      <th>geometry_y</th>\n    </tr>\n  </thead>\n  <tbody>\n    <tr>\n      <th>0</th>\n      <td>1</td>\n      <td>BARIK BOUDJEMAA</td>\n      <td>CITE 103 LOGTS BP 575 Adrar</td>\n      <td>1</td>\n      <td>Adrar</td>\n      <td>049 96 53 89</td>\n      <td>physical</td>\n      <td>28.017440</td>\n      <td>-0.264250</td>\n      <td>False</td>\n      <td>POINT (-0.26425 28.01744)</td>\n      <td>MULTIPOLYGON (((1.33461 20.72282, 1.32667 20.7...</td>\n    </tr>\n    <tr>\n      <th>1</th>\n      <td>2</td>\n      <td>BENHADJ AHMED</td>\n      <td>CITE DES 40 LOGTS LOCAL 25 Adrar</td>\n      <td>1</td>\n      <td>Adrar</td>\n      <td>049 96 67 26</td>\n      <td>physical</td>\n      <td>28.017440</td>\n      <td>-0.264250</td>\n      <td>False</td>\n      <td>POINT (-0.26425 28.01744)</td>\n      <td>MULTIPOLYGON (((1.33461 20.72282, 1.32667 20.7...</td>\n    </tr>\n    <tr>\n      <th>2</th>\n      <td>3</td>\n      <td>AZZOU ABD ERRAHMANE</td>\n      <td>Rue Amrad Cité OULED ANKAL Adrar</td>\n      <td>1</td>\n      <td>Adrar</td>\n      <td>049 96 53 19</td>\n      <td>physical</td>\n      <td>36.102009</td>\n      <td>2.712287</td>\n      <td>False</td>\n      <td>POINT (2.71229 36.10201)</td>\n      <td>MULTIPOLYGON (((1.33461 20.72282, 1.32667 20.7...</td>\n    </tr>\n    <tr>\n      <th>3</th>\n      <td>4</td>\n      <td>MIMOUNI ABDELKADER</td>\n      <td>Rue Mokadem El Arbi, lot 30 Group 191 Adrar</td>\n      <td>1</td>\n      <td>Adrar</td>\n      <td>0665 01 20 18</td>\n      <td>physical</td>\n      <td>28.017440</td>\n      <td>-0.264250</td>\n      <td>False</td>\n      <td>POINT (-0.26425 28.01744)</td>\n      <td>MULTIPOLYGON (((1.33461 20.72282, 1.32667 20.7...</td>\n    </tr>\n    <tr>\n      <th>4</th>\n      <td>5</td>\n      <td>OULED ALI AHMED</td>\n      <td>Cité 60 Logements Timimoun Adrar</td>\n      <td>1</td>\n      <td>Timimoun</td>\n      <td>0555 40 62 94</td>\n      <td>physical</td>\n      <td>35.261165</td>\n      <td>6.368815</td>\n      <td>False</td>\n      <td>POINT (6.36881 35.26116)</td>\n      <td>MULTIPOLYGON (((1.33461 20.72282, 1.32667 20.7...</td>\n    </tr>\n  </tbody>\n</table>\n</div>"
     },
     "metadata": {},
     "execution_count": 39
    }
   ],
   "source": [
    "# Sort the DataFrame by code (Wilaya number) and reset the index\n",
    "pois_gdf = pois_gdf.sort_values(by=['code_wil'],ignore_index=True)\n",
    "pois_gdf.reset_index(drop=True)\n",
    "pois_gdf.head()"
   ]
  },
  {
   "cell_type": "code",
   "execution_count": 40,
   "metadata": {
    "tags": []
   },
   "outputs": [
    {
     "output_type": "execute_result",
     "data": {
      "text/plain": [
       "     num                       name  \\\n",
       "2      3        AZZOU ABD ERRAHMANE   \n",
       "4      5            OULED ALI AHMED   \n",
       "12    17         HADJ SADOUK MALIKA   \n",
       "16    13    SAMET BOUHAYEK DJILLALI   \n",
       "25    26           EL TAHER MAHFOUD   \n",
       "..   ...                        ...   \n",
       "857  860              TOUAMI ETTAIB   \n",
       "861  856            BELKHCHI FATIHA   \n",
       "865  871  SIROUKANE OMAR BEN MOUSSA   \n",
       "871  888         KROUOUDRLI MOHAMED   \n",
       "891  876           DJILLALI MOHAMED   \n",
       "\n",
       "                                               address  code_wil  \\\n",
       "2                     Rue Amrad Cité OULED ANKAL Adrar         1   \n",
       "4                     Cité 60 Logements Timimoun Adrar         1   \n",
       "12                           RUE EMIR ABDELKADER Chlef         2   \n",
       "16                     26 RUE EL MOUSSAAD AZZOUN Chlef         2   \n",
       "25                  RUE AKKARI BELKACEM Aflou Laghouat         3   \n",
       "..                                                 ...       ...   \n",
       "857  06 Cité 90 Logements El Baraka Hammam Bouhdjar...        46   \n",
       "861           41 CITE ABOU BEKR ESSEDIK Ain Temouchent        46   \n",
       "865  RUE CHEIKH ABDELAZIZ ETHAMNI BP 138 Beni Isgue...        47   \n",
       "871           Rue Abid Ahmed Bousrour Mazouna Relizane        48   \n",
       "891                  36 Rue Mohamed Khemisti  Relizane        48   \n",
       "\n",
       "              court                                           tel    status  \\\n",
       "2             Adrar                                  049 96 53 19  physical   \n",
       "4          Timimoun                                 0555 40 62 94  physical   \n",
       "12              NaN                                           NaN       NaN   \n",
       "16              NaN                                           NaN       NaN   \n",
       "25              NaN                                           NaN       NaN   \n",
       "..              ...                                           ...       ...   \n",
       "857  Hamam Bouhdjar                  043 73 61 73 / 0696 54 45 09       NaN   \n",
       "861  Ain Temouchent   043 79 59 05 / 043 79 32 41 / 0661 22 71 00  physical   \n",
       "865             NaN                                           NaN       NaN   \n",
       "871         Mazouna                  046 94 73 82 / 0665 50 14 71  physical   \n",
       "891        Relizane  0772 79 78 55 / 046 72 32 70 / 0550 89 31 85  physical   \n",
       "\n",
       "           lat        lon  to_check                   geometry  \\\n",
       "2    36.102009   2.712287     False   POINT (2.71229 36.10201)   \n",
       "4    35.261165   6.368815     False   POINT (6.36881 35.26116)   \n",
       "12   35.731771  -0.577258     False  POINT (-0.57726 35.73177)   \n",
       "16   32.177101  35.055957     False  POINT (35.05596 32.17710)   \n",
       "25   50.272480   1.667315     False   POINT (1.66732 50.27248)   \n",
       "..         ...        ...       ...                        ...   \n",
       "857  43.946679   7.179026     False   POINT (7.17903 43.94668)   \n",
       "861  47.676190   1.415907     False   POINT (1.41591 47.67619)   \n",
       "865  49.929941   2.191623     False   POINT (2.19162 49.92994)   \n",
       "871  36.166763   1.336110     False   POINT (1.33611 36.16676)   \n",
       "891  35.291433  -1.139081     False  POINT (-1.13908 35.29143)   \n",
       "\n",
       "                                            geometry_y  coords_in_wil  \n",
       "2    MULTIPOLYGON (((1.33461 20.72282, 1.32667 20.7...          False  \n",
       "4    MULTIPOLYGON (((1.33461 20.72282, 1.32667 20.7...          False  \n",
       "12   MULTIPOLYGON (((1.55326 36.02990, 1.55325 36.0...          False  \n",
       "16   MULTIPOLYGON (((1.55326 36.02990, 1.55325 36.0...          False  \n",
       "25   MULTIPOLYGON (((2.88464 32.88137, 2.87848 32.8...          False  \n",
       "..                                                 ...            ...  \n",
       "857  MULTIPOLYGON (((-1.06748 35.12752, -1.06791 35...          False  \n",
       "861  MULTIPOLYGON (((-1.06748 35.12752, -1.06791 35...          False  \n",
       "865  MULTIPOLYGON (((4.12740 33.01380, 4.14386 33.0...          False  \n",
       "871  MULTIPOLYGON (((0.69164 35.48482, 0.69160 35.4...          False  \n",
       "891  MULTIPOLYGON (((0.69164 35.48482, 0.69160 35.4...          False  \n",
       "\n",
       "[99 rows x 13 columns]"
      ],
      "text/html": "<div>\n<style scoped>\n    .dataframe tbody tr th:only-of-type {\n        vertical-align: middle;\n    }\n\n    .dataframe tbody tr th {\n        vertical-align: top;\n    }\n\n    .dataframe thead th {\n        text-align: right;\n    }\n</style>\n<table border=\"1\" class=\"dataframe\">\n  <thead>\n    <tr style=\"text-align: right;\">\n      <th></th>\n      <th>num</th>\n      <th>name</th>\n      <th>address</th>\n      <th>code_wil</th>\n      <th>court</th>\n      <th>tel</th>\n      <th>status</th>\n      <th>lat</th>\n      <th>lon</th>\n      <th>to_check</th>\n      <th>geometry</th>\n      <th>geometry_y</th>\n      <th>coords_in_wil</th>\n    </tr>\n  </thead>\n  <tbody>\n    <tr>\n      <th>2</th>\n      <td>3</td>\n      <td>AZZOU ABD ERRAHMANE</td>\n      <td>Rue Amrad Cité OULED ANKAL Adrar</td>\n      <td>1</td>\n      <td>Adrar</td>\n      <td>049 96 53 19</td>\n      <td>physical</td>\n      <td>36.102009</td>\n      <td>2.712287</td>\n      <td>False</td>\n      <td>POINT (2.71229 36.10201)</td>\n      <td>MULTIPOLYGON (((1.33461 20.72282, 1.32667 20.7...</td>\n      <td>False</td>\n    </tr>\n    <tr>\n      <th>4</th>\n      <td>5</td>\n      <td>OULED ALI AHMED</td>\n      <td>Cité 60 Logements Timimoun Adrar</td>\n      <td>1</td>\n      <td>Timimoun</td>\n      <td>0555 40 62 94</td>\n      <td>physical</td>\n      <td>35.261165</td>\n      <td>6.368815</td>\n      <td>False</td>\n      <td>POINT (6.36881 35.26116)</td>\n      <td>MULTIPOLYGON (((1.33461 20.72282, 1.32667 20.7...</td>\n      <td>False</td>\n    </tr>\n    <tr>\n      <th>12</th>\n      <td>17</td>\n      <td>HADJ SADOUK MALIKA</td>\n      <td>RUE EMIR ABDELKADER Chlef</td>\n      <td>2</td>\n      <td>NaN</td>\n      <td>NaN</td>\n      <td>NaN</td>\n      <td>35.731771</td>\n      <td>-0.577258</td>\n      <td>False</td>\n      <td>POINT (-0.57726 35.73177)</td>\n      <td>MULTIPOLYGON (((1.55326 36.02990, 1.55325 36.0...</td>\n      <td>False</td>\n    </tr>\n    <tr>\n      <th>16</th>\n      <td>13</td>\n      <td>SAMET BOUHAYEK DJILLALI</td>\n      <td>26 RUE EL MOUSSAAD AZZOUN Chlef</td>\n      <td>2</td>\n      <td>NaN</td>\n      <td>NaN</td>\n      <td>NaN</td>\n      <td>32.177101</td>\n      <td>35.055957</td>\n      <td>False</td>\n      <td>POINT (35.05596 32.17710)</td>\n      <td>MULTIPOLYGON (((1.55326 36.02990, 1.55325 36.0...</td>\n      <td>False</td>\n    </tr>\n    <tr>\n      <th>25</th>\n      <td>26</td>\n      <td>EL TAHER MAHFOUD</td>\n      <td>RUE AKKARI BELKACEM Aflou Laghouat</td>\n      <td>3</td>\n      <td>NaN</td>\n      <td>NaN</td>\n      <td>NaN</td>\n      <td>50.272480</td>\n      <td>1.667315</td>\n      <td>False</td>\n      <td>POINT (1.66732 50.27248)</td>\n      <td>MULTIPOLYGON (((2.88464 32.88137, 2.87848 32.8...</td>\n      <td>False</td>\n    </tr>\n    <tr>\n      <th>...</th>\n      <td>...</td>\n      <td>...</td>\n      <td>...</td>\n      <td>...</td>\n      <td>...</td>\n      <td>...</td>\n      <td>...</td>\n      <td>...</td>\n      <td>...</td>\n      <td>...</td>\n      <td>...</td>\n      <td>...</td>\n      <td>...</td>\n    </tr>\n    <tr>\n      <th>857</th>\n      <td>860</td>\n      <td>TOUAMI ETTAIB</td>\n      <td>06 Cité 90 Logements El Baraka Hammam Bouhdjar...</td>\n      <td>46</td>\n      <td>Hamam Bouhdjar</td>\n      <td>043 73 61 73 / 0696 54 45 09</td>\n      <td>NaN</td>\n      <td>43.946679</td>\n      <td>7.179026</td>\n      <td>False</td>\n      <td>POINT (7.17903 43.94668)</td>\n      <td>MULTIPOLYGON (((-1.06748 35.12752, -1.06791 35...</td>\n      <td>False</td>\n    </tr>\n    <tr>\n      <th>861</th>\n      <td>856</td>\n      <td>BELKHCHI FATIHA</td>\n      <td>41 CITE ABOU BEKR ESSEDIK Ain Temouchent</td>\n      <td>46</td>\n      <td>Ain Temouchent</td>\n      <td>043 79 59 05 / 043 79 32 41 / 0661 22 71 00</td>\n      <td>physical</td>\n      <td>47.676190</td>\n      <td>1.415907</td>\n      <td>False</td>\n      <td>POINT (1.41591 47.67619)</td>\n      <td>MULTIPOLYGON (((-1.06748 35.12752, -1.06791 35...</td>\n      <td>False</td>\n    </tr>\n    <tr>\n      <th>865</th>\n      <td>871</td>\n      <td>SIROUKANE OMAR BEN MOUSSA</td>\n      <td>RUE CHEIKH ABDELAZIZ ETHAMNI BP 138 Beni Isgue...</td>\n      <td>47</td>\n      <td>NaN</td>\n      <td>NaN</td>\n      <td>NaN</td>\n      <td>49.929941</td>\n      <td>2.191623</td>\n      <td>False</td>\n      <td>POINT (2.19162 49.92994)</td>\n      <td>MULTIPOLYGON (((4.12740 33.01380, 4.14386 33.0...</td>\n      <td>False</td>\n    </tr>\n    <tr>\n      <th>871</th>\n      <td>888</td>\n      <td>KROUOUDRLI MOHAMED</td>\n      <td>Rue Abid Ahmed Bousrour Mazouna Relizane</td>\n      <td>48</td>\n      <td>Mazouna</td>\n      <td>046 94 73 82 / 0665 50 14 71</td>\n      <td>physical</td>\n      <td>36.166763</td>\n      <td>1.336110</td>\n      <td>False</td>\n      <td>POINT (1.33611 36.16676)</td>\n      <td>MULTIPOLYGON (((0.69164 35.48482, 0.69160 35.4...</td>\n      <td>False</td>\n    </tr>\n    <tr>\n      <th>891</th>\n      <td>876</td>\n      <td>DJILLALI MOHAMED</td>\n      <td>36 Rue Mohamed Khemisti  Relizane</td>\n      <td>48</td>\n      <td>Relizane</td>\n      <td>0772 79 78 55 / 046 72 32 70 / 0550 89 31 85</td>\n      <td>physical</td>\n      <td>35.291433</td>\n      <td>-1.139081</td>\n      <td>False</td>\n      <td>POINT (-1.13908 35.29143)</td>\n      <td>MULTIPOLYGON (((0.69164 35.48482, 0.69160 35.4...</td>\n      <td>False</td>\n    </tr>\n  </tbody>\n</table>\n<p>99 rows × 13 columns</p>\n</div>"
     },
     "metadata": {},
     "execution_count": 40
    }
   ],
   "source": [
    "# Check if coordinates are within Wilayas polygons\n",
    "pois_gdf['coords_in_wil'] = [pois_gdf.geometry[i].within(pois_gdf.geometry_y[i]) for i in range(pois_gdf.geometry.count())] \n",
    "pois_gdf[pois_gdf.coords_in_wil == False]"
   ]
  },
  {
   "cell_type": "code",
   "execution_count": 41,
   "metadata": {},
   "outputs": [
    {
     "output_type": "execute_result",
     "data": {
      "text/plain": [
       "     num                       name  \\\n",
       "2      3        AZZOU ABD ERRAHMANE   \n",
       "4      5            OULED ALI AHMED   \n",
       "12    17         HADJ SADOUK MALIKA   \n",
       "16    13    SAMET BOUHAYEK DJILLALI   \n",
       "25    26           EL TAHER MAHFOUD   \n",
       "..   ...                        ...   \n",
       "857  860              TOUAMI ETTAIB   \n",
       "861  856            BELKHCHI FATIHA   \n",
       "865  871  SIROUKANE OMAR BEN MOUSSA   \n",
       "871  888         KROUOUDRLI MOHAMED   \n",
       "891  876           DJILLALI MOHAMED   \n",
       "\n",
       "                                               address  code_wil  \\\n",
       "2                     Rue Amrad Cité OULED ANKAL Adrar         1   \n",
       "4                     Cité 60 Logements Timimoun Adrar         1   \n",
       "12                           RUE EMIR ABDELKADER Chlef         2   \n",
       "16                     26 RUE EL MOUSSAAD AZZOUN Chlef         2   \n",
       "25                  RUE AKKARI BELKACEM Aflou Laghouat         3   \n",
       "..                                                 ...       ...   \n",
       "857  06 Cité 90 Logements El Baraka Hammam Bouhdjar...        46   \n",
       "861           41 CITE ABOU BEKR ESSEDIK Ain Temouchent        46   \n",
       "865  RUE CHEIKH ABDELAZIZ ETHAMNI BP 138 Beni Isgue...        47   \n",
       "871           Rue Abid Ahmed Bousrour Mazouna Relizane        48   \n",
       "891                  36 Rue Mohamed Khemisti  Relizane        48   \n",
       "\n",
       "              court                                           tel    status  \\\n",
       "2             Adrar                                  049 96 53 19  physical   \n",
       "4          Timimoun                                 0555 40 62 94  physical   \n",
       "12              NaN                                           NaN       NaN   \n",
       "16              NaN                                           NaN       NaN   \n",
       "25              NaN                                           NaN       NaN   \n",
       "..              ...                                           ...       ...   \n",
       "857  Hamam Bouhdjar                  043 73 61 73 / 0696 54 45 09       NaN   \n",
       "861  Ain Temouchent   043 79 59 05 / 043 79 32 41 / 0661 22 71 00  physical   \n",
       "865             NaN                                           NaN       NaN   \n",
       "871         Mazouna                  046 94 73 82 / 0665 50 14 71  physical   \n",
       "891        Relizane  0772 79 78 55 / 046 72 32 70 / 0550 89 31 85  physical   \n",
       "\n",
       "           lat        lon  to_check                   geometry  \n",
       "2    36.102009   2.712287      True   POINT (2.71229 36.10201)  \n",
       "4    35.261165   6.368815      True   POINT (6.36881 35.26116)  \n",
       "12   35.731771  -0.577258      True  POINT (-0.57726 35.73177)  \n",
       "16   32.177101  35.055957      True  POINT (35.05596 32.17710)  \n",
       "25   50.272480   1.667315      True   POINT (1.66732 50.27248)  \n",
       "..         ...        ...       ...                        ...  \n",
       "857  43.946679   7.179026      True   POINT (7.17903 43.94668)  \n",
       "861  47.676190   1.415907      True   POINT (1.41591 47.67619)  \n",
       "865  49.929941   2.191623      True   POINT (2.19162 49.92994)  \n",
       "871  36.166763   1.336110      True   POINT (1.33611 36.16676)  \n",
       "891  35.291433  -1.139081      True  POINT (-1.13908 35.29143)  \n",
       "\n",
       "[108 rows x 11 columns]"
      ],
      "text/html": "<div>\n<style scoped>\n    .dataframe tbody tr th:only-of-type {\n        vertical-align: middle;\n    }\n\n    .dataframe tbody tr th {\n        vertical-align: top;\n    }\n\n    .dataframe thead th {\n        text-align: right;\n    }\n</style>\n<table border=\"1\" class=\"dataframe\">\n  <thead>\n    <tr style=\"text-align: right;\">\n      <th></th>\n      <th>num</th>\n      <th>name</th>\n      <th>address</th>\n      <th>code_wil</th>\n      <th>court</th>\n      <th>tel</th>\n      <th>status</th>\n      <th>lat</th>\n      <th>lon</th>\n      <th>to_check</th>\n      <th>geometry</th>\n    </tr>\n  </thead>\n  <tbody>\n    <tr>\n      <th>2</th>\n      <td>3</td>\n      <td>AZZOU ABD ERRAHMANE</td>\n      <td>Rue Amrad Cité OULED ANKAL Adrar</td>\n      <td>1</td>\n      <td>Adrar</td>\n      <td>049 96 53 19</td>\n      <td>physical</td>\n      <td>36.102009</td>\n      <td>2.712287</td>\n      <td>True</td>\n      <td>POINT (2.71229 36.10201)</td>\n    </tr>\n    <tr>\n      <th>4</th>\n      <td>5</td>\n      <td>OULED ALI AHMED</td>\n      <td>Cité 60 Logements Timimoun Adrar</td>\n      <td>1</td>\n      <td>Timimoun</td>\n      <td>0555 40 62 94</td>\n      <td>physical</td>\n      <td>35.261165</td>\n      <td>6.368815</td>\n      <td>True</td>\n      <td>POINT (6.36881 35.26116)</td>\n    </tr>\n    <tr>\n      <th>12</th>\n      <td>17</td>\n      <td>HADJ SADOUK MALIKA</td>\n      <td>RUE EMIR ABDELKADER Chlef</td>\n      <td>2</td>\n      <td>NaN</td>\n      <td>NaN</td>\n      <td>NaN</td>\n      <td>35.731771</td>\n      <td>-0.577258</td>\n      <td>True</td>\n      <td>POINT (-0.57726 35.73177)</td>\n    </tr>\n    <tr>\n      <th>16</th>\n      <td>13</td>\n      <td>SAMET BOUHAYEK DJILLALI</td>\n      <td>26 RUE EL MOUSSAAD AZZOUN Chlef</td>\n      <td>2</td>\n      <td>NaN</td>\n      <td>NaN</td>\n      <td>NaN</td>\n      <td>32.177101</td>\n      <td>35.055957</td>\n      <td>True</td>\n      <td>POINT (35.05596 32.17710)</td>\n    </tr>\n    <tr>\n      <th>25</th>\n      <td>26</td>\n      <td>EL TAHER MAHFOUD</td>\n      <td>RUE AKKARI BELKACEM Aflou Laghouat</td>\n      <td>3</td>\n      <td>NaN</td>\n      <td>NaN</td>\n      <td>NaN</td>\n      <td>50.272480</td>\n      <td>1.667315</td>\n      <td>True</td>\n      <td>POINT (1.66732 50.27248)</td>\n    </tr>\n    <tr>\n      <th>...</th>\n      <td>...</td>\n      <td>...</td>\n      <td>...</td>\n      <td>...</td>\n      <td>...</td>\n      <td>...</td>\n      <td>...</td>\n      <td>...</td>\n      <td>...</td>\n      <td>...</td>\n      <td>...</td>\n    </tr>\n    <tr>\n      <th>857</th>\n      <td>860</td>\n      <td>TOUAMI ETTAIB</td>\n      <td>06 Cité 90 Logements El Baraka Hammam Bouhdjar...</td>\n      <td>46</td>\n      <td>Hamam Bouhdjar</td>\n      <td>043 73 61 73 / 0696 54 45 09</td>\n      <td>NaN</td>\n      <td>43.946679</td>\n      <td>7.179026</td>\n      <td>True</td>\n      <td>POINT (7.17903 43.94668)</td>\n    </tr>\n    <tr>\n      <th>861</th>\n      <td>856</td>\n      <td>BELKHCHI FATIHA</td>\n      <td>41 CITE ABOU BEKR ESSEDIK Ain Temouchent</td>\n      <td>46</td>\n      <td>Ain Temouchent</td>\n      <td>043 79 59 05 / 043 79 32 41 / 0661 22 71 00</td>\n      <td>physical</td>\n      <td>47.676190</td>\n      <td>1.415907</td>\n      <td>True</td>\n      <td>POINT (1.41591 47.67619)</td>\n    </tr>\n    <tr>\n      <th>865</th>\n      <td>871</td>\n      <td>SIROUKANE OMAR BEN MOUSSA</td>\n      <td>RUE CHEIKH ABDELAZIZ ETHAMNI BP 138 Beni Isgue...</td>\n      <td>47</td>\n      <td>NaN</td>\n      <td>NaN</td>\n      <td>NaN</td>\n      <td>49.929941</td>\n      <td>2.191623</td>\n      <td>True</td>\n      <td>POINT (2.19162 49.92994)</td>\n    </tr>\n    <tr>\n      <th>871</th>\n      <td>888</td>\n      <td>KROUOUDRLI MOHAMED</td>\n      <td>Rue Abid Ahmed Bousrour Mazouna Relizane</td>\n      <td>48</td>\n      <td>Mazouna</td>\n      <td>046 94 73 82 / 0665 50 14 71</td>\n      <td>physical</td>\n      <td>36.166763</td>\n      <td>1.336110</td>\n      <td>True</td>\n      <td>POINT (1.33611 36.16676)</td>\n    </tr>\n    <tr>\n      <th>891</th>\n      <td>876</td>\n      <td>DJILLALI MOHAMED</td>\n      <td>36 Rue Mohamed Khemisti  Relizane</td>\n      <td>48</td>\n      <td>Relizane</td>\n      <td>0772 79 78 55 / 046 72 32 70 / 0550 89 31 85</td>\n      <td>physical</td>\n      <td>35.291433</td>\n      <td>-1.139081</td>\n      <td>True</td>\n      <td>POINT (-1.13908 35.29143)</td>\n    </tr>\n  </tbody>\n</table>\n<p>108 rows × 11 columns</p>\n</div>"
     },
     "metadata": {},
     "execution_count": 41
    }
   ],
   "source": [
    "# Update to_check flag to take into account points outside Wilays and without geocoding coordinates\n",
    "final_gdf = pois_gdf\n",
    "final_gdf['to_check'] = (pois_gdf['to_check'] == True) | (pois_gdf['coords_in_wil'] == False)   \n",
    "\n",
    "# Remove unecessary columns\n",
    "final_gdf = final_gdf.drop(['geometry_y', 'coords_in_wil'], axis=1)\n",
    "\n",
    "final_gdf[final_gdf.to_check == True]"
   ]
  },
  {
   "cell_type": "code",
   "execution_count": 42,
   "metadata": {},
   "outputs": [
    {
     "output_type": "execute_result",
     "data": {
      "text/plain": [
       "num         892\n",
       "name        892\n",
       "address     892\n",
       "code_wil    892\n",
       "court       335\n",
       "tel         296\n",
       "status      310\n",
       "lat         883\n",
       "lon         883\n",
       "to_check    892\n",
       "geometry    892\n",
       "dtype: int64"
      ]
     },
     "metadata": {},
     "execution_count": 42
    }
   ],
   "source": [
    "final_gdf.count()"
   ]
  },
  {
   "cell_type": "code",
   "execution_count": 43,
   "metadata": {},
   "outputs": [],
   "source": [
    "# Write to a GeoJSON file\n",
    "\n",
    "gpd.GeoDataFrame(final_gdf).to_file(pois_path + \"pois_checked_in_out_wilayas.geojson\", driver='GeoJSON')"
   ]
  }
 ]
}