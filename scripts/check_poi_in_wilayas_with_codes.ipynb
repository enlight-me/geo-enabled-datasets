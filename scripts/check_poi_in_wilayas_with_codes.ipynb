{
 "metadata": {
  "language_info": {
   "codemirror_mode": {
    "name": "ipython",
    "version": 3
   },
   "file_extension": ".py",
   "mimetype": "text/x-python",
   "name": "python",
   "nbconvert_exporter": "python",
   "pygments_lexer": "ipython3",
   "version": "3.8.5"
  },
  "orig_nbformat": 2,
  "kernelspec": {
   "name": "python38564bitc5dda015dcc140dba795e9b0465f9f9d",
   "display_name": "Python 3.8.5 64-bit"
  },
  "metadata": {
   "interpreter": {
    "hash": "916dbcbb3f70747c44a77c7bcd40155683ae19c65e1c03b4aa3499c5328201f1"
   }
  }
 },
 "nbformat": 4,
 "nbformat_minor": 2,
 "cells": [
  {
   "cell_type": "code",
   "execution_count": 29,
   "metadata": {},
   "outputs": [],
   "source": [
    "import pandas as pd \n",
    "import geopandas as gpd \n",
    "from shapely.geometry import Point\n",
    "import numpy as np "
   ]
  },
  {
   "cell_type": "code",
   "execution_count": 30,
   "metadata": {},
   "outputs": [
    {
     "output_type": "stream",
     "name": "stderr",
     "text": [
      "<ipython-input-30-e95edb6e38e9>:6: UserWarning: Geometry is in a geographic CRS. Results from 'centroid' are likely incorrect. Use 'GeoSeries.to_crs()' to re-project geometries to a projected CRS before this operation.\n\n  wilayas_gdf['centroid'] = wilayas_gdf['geometry'].centroid\n"
     ]
    },
    {
     "output_type": "execute_result",
     "data": {
      "text/plain": [
       "   code_wil         nom_wil  \\\n",
       "0         1           Adrar   \n",
       "1         2           Chlef   \n",
       "2         3        Laghouat   \n",
       "3         4  Oum El Bouaghi   \n",
       "4         5           Batna   \n",
       "\n",
       "                                            geometry  \\\n",
       "0  MULTIPOLYGON (((1.33461 20.72282, 1.32667 20.7...   \n",
       "1  MULTIPOLYGON (((1.55326 36.02990, 1.55325 36.0...   \n",
       "2  MULTIPOLYGON (((2.88464 32.88137, 2.87848 32.8...   \n",
       "3  MULTIPOLYGON (((7.47320 35.52005, 7.47227 35.5...   \n",
       "4  MULTIPOLYGON (((6.10102 35.05459, 6.10090 35.0...   \n",
       "\n",
       "                    centroid  \n",
       "0  POINT (-0.62174 26.01400)  \n",
       "1   POINT (1.25669 36.23826)  \n",
       "2   POINT (2.72955 33.60757)  \n",
       "3   POINT (7.06527 35.83646)  \n",
       "4   POINT (5.87455 35.41969)  "
      ],
      "text/html": "<div>\n<style scoped>\n    .dataframe tbody tr th:only-of-type {\n        vertical-align: middle;\n    }\n\n    .dataframe tbody tr th {\n        vertical-align: top;\n    }\n\n    .dataframe thead th {\n        text-align: right;\n    }\n</style>\n<table border=\"1\" class=\"dataframe\">\n  <thead>\n    <tr style=\"text-align: right;\">\n      <th></th>\n      <th>code_wil</th>\n      <th>nom_wil</th>\n      <th>geometry</th>\n      <th>centroid</th>\n    </tr>\n  </thead>\n  <tbody>\n    <tr>\n      <th>0</th>\n      <td>1</td>\n      <td>Adrar</td>\n      <td>MULTIPOLYGON (((1.33461 20.72282, 1.32667 20.7...</td>\n      <td>POINT (-0.62174 26.01400)</td>\n    </tr>\n    <tr>\n      <th>1</th>\n      <td>2</td>\n      <td>Chlef</td>\n      <td>MULTIPOLYGON (((1.55326 36.02990, 1.55325 36.0...</td>\n      <td>POINT (1.25669 36.23826)</td>\n    </tr>\n    <tr>\n      <th>2</th>\n      <td>3</td>\n      <td>Laghouat</td>\n      <td>MULTIPOLYGON (((2.88464 32.88137, 2.87848 32.8...</td>\n      <td>POINT (2.72955 33.60757)</td>\n    </tr>\n    <tr>\n      <th>3</th>\n      <td>4</td>\n      <td>Oum El Bouaghi</td>\n      <td>MULTIPOLYGON (((7.47320 35.52005, 7.47227 35.5...</td>\n      <td>POINT (7.06527 35.83646)</td>\n    </tr>\n    <tr>\n      <th>4</th>\n      <td>5</td>\n      <td>Batna</td>\n      <td>MULTIPOLYGON (((6.10102 35.05459, 6.10090 35.0...</td>\n      <td>POINT (5.87455 35.41969)</td>\n    </tr>\n  </tbody>\n</table>\n</div>"
     },
     "metadata": {},
     "execution_count": 30
    }
   ],
   "source": [
    "# Load Wilayas Features and calculate polygon centroids\n",
    "wilayas_gjson = '../dz-admin/wilayas_48.geojson'\n",
    "wilayas_gdf = gpd.read_file(wilayas_gjson)\n",
    "wilayas_gdf = wilayas_gdf[['code', 'nom', 'geometry']]\n",
    "wilayas_gdf = wilayas_gdf.rename(columns={'nom': 'nom_wil', 'code': 'code_wil'})\n",
    "wilayas_gdf['centroid'] = wilayas_gdf['geometry'].centroid\n",
    "wilayas_gdf.head()"
   ]
  },
  {
   "cell_type": "code",
   "execution_count": 31,
   "metadata": {},
   "outputs": [
    {
     "output_type": "execute_result",
     "data": {
      "text/plain": [
       "<Geographic 2D CRS: EPSG:4326>\n",
       "Name: WGS 84\n",
       "Axis Info [ellipsoidal]:\n",
       "- Lat[north]: Geodetic latitude (degree)\n",
       "- Lon[east]: Geodetic longitude (degree)\n",
       "Area of Use:\n",
       "- name: World\n",
       "- bounds: (-180.0, -90.0, 180.0, 90.0)\n",
       "Datum: World Geodetic System 1984\n",
       "- Ellipsoid: WGS 84\n",
       "- Prime Meridian: Greenwich"
      ]
     },
     "metadata": {},
     "execution_count": 31
    }
   ],
   "source": [
    "wilayas_gdf = wilayas_gdf.set_crs(\"EPSG:4326\")\n",
    "wilayas_gdf.crs"
   ]
  },
  {
   "cell_type": "code",
   "execution_count": 32,
   "metadata": {},
   "outputs": [
    {
     "output_type": "execute_result",
     "data": {
      "text/plain": [
       "   num                            name  \\\n",
       "0    1                  SAADI ABDELLAH   \n",
       "1    2  CHAMBRE NATIONALE DES NOTAIRES   \n",
       "2    3                 BOUCHALI FOUZIA   \n",
       "3    4                     CHIALI HIND   \n",
       "4    5                    OUBAD NADJET   \n",
       "\n",
       "                                             address        lat       lon  \\\n",
       "0           CITE 180 200 BAT 8 APPART 01 Bab Ezzouar  36.722018  3.185681   \n",
       "1                       2 RUE EL BAKRI Ben Aknoun Rp  36.764634  3.015649   \n",
       "2  12 RUE MOULOUD ZADI ET LE 110 ANGLE DIDOUCHE M...  36.763738  3.048095   \n",
       "3                    157 CITE AISSAT IDIR Cheraga Rp  36.757828  2.957272   \n",
       "4                                    62 R.N.  Bainem  36.812723  2.962592   \n",
       "\n",
       "   code_wil  to_check  \n",
       "0        16     False  \n",
       "1        16     False  \n",
       "2        16     False  \n",
       "3        16     False  \n",
       "4        16     False  "
      ],
      "text/html": "<div>\n<style scoped>\n    .dataframe tbody tr th:only-of-type {\n        vertical-align: middle;\n    }\n\n    .dataframe tbody tr th {\n        vertical-align: top;\n    }\n\n    .dataframe thead th {\n        text-align: right;\n    }\n</style>\n<table border=\"1\" class=\"dataframe\">\n  <thead>\n    <tr style=\"text-align: right;\">\n      <th></th>\n      <th>num</th>\n      <th>name</th>\n      <th>address</th>\n      <th>lat</th>\n      <th>lon</th>\n      <th>code_wil</th>\n      <th>to_check</th>\n    </tr>\n  </thead>\n  <tbody>\n    <tr>\n      <th>0</th>\n      <td>1</td>\n      <td>SAADI ABDELLAH</td>\n      <td>CITE 180 200 BAT 8 APPART 01 Bab Ezzouar</td>\n      <td>36.722018</td>\n      <td>3.185681</td>\n      <td>16</td>\n      <td>False</td>\n    </tr>\n    <tr>\n      <th>1</th>\n      <td>2</td>\n      <td>CHAMBRE NATIONALE DES NOTAIRES</td>\n      <td>2 RUE EL BAKRI Ben Aknoun Rp</td>\n      <td>36.764634</td>\n      <td>3.015649</td>\n      <td>16</td>\n      <td>False</td>\n    </tr>\n    <tr>\n      <th>2</th>\n      <td>3</td>\n      <td>BOUCHALI FOUZIA</td>\n      <td>12 RUE MOULOUD ZADI ET LE 110 ANGLE DIDOUCHE M...</td>\n      <td>36.763738</td>\n      <td>3.048095</td>\n      <td>16</td>\n      <td>False</td>\n    </tr>\n    <tr>\n      <th>3</th>\n      <td>4</td>\n      <td>CHIALI HIND</td>\n      <td>157 CITE AISSAT IDIR Cheraga Rp</td>\n      <td>36.757828</td>\n      <td>2.957272</td>\n      <td>16</td>\n      <td>False</td>\n    </tr>\n    <tr>\n      <th>4</th>\n      <td>5</td>\n      <td>OUBAD NADJET</td>\n      <td>62 R.N.  Bainem</td>\n      <td>36.812723</td>\n      <td>2.962592</td>\n      <td>16</td>\n      <td>False</td>\n    </tr>\n  </tbody>\n</table>\n</div>"
     },
     "metadata": {},
     "execution_count": 32
    }
   ],
   "source": [
    "# Load Tagreted dataset and set to_check to False assuming all geocoded coordinates are OK \n",
    "pois_path = '../dz-datasets/notaries/'\n",
    "pois = pd.read_csv(pois_path + 'notaries_to_check.csv')\n",
    "pois['to_check'] = False\n",
    "pois.head()"
   ]
  },
  {
   "cell_type": "code",
   "execution_count": 33,
   "metadata": {},
   "outputs": [
    {
     "output_type": "execute_result",
     "data": {
      "text/plain": [
       "   num                            name  \\\n",
       "0    1                  SAADI ABDELLAH   \n",
       "1    2  CHAMBRE NATIONALE DES NOTAIRES   \n",
       "2    3                 BOUCHALI FOUZIA   \n",
       "3    4                     CHIALI HIND   \n",
       "4    5                    OUBAD NADJET   \n",
       "\n",
       "                                             address        lat       lon  \\\n",
       "0           CITE 180 200 BAT 8 APPART 01 Bab Ezzouar  36.722018  3.185681   \n",
       "1                       2 RUE EL BAKRI Ben Aknoun Rp  36.764634  3.015649   \n",
       "2  12 RUE MOULOUD ZADI ET LE 110 ANGLE DIDOUCHE M...  36.763738  3.048095   \n",
       "3                    157 CITE AISSAT IDIR Cheraga Rp  36.757828  2.957272   \n",
       "4                                    62 R.N.  Bainem  36.812723  2.962592   \n",
       "\n",
       "   code_wil  to_check                  geometry  \n",
       "0        16     False  POINT (3.18568 36.72202)  \n",
       "1        16     False  POINT (3.01565 36.76463)  \n",
       "2        16     False  POINT (3.04809 36.76374)  \n",
       "3        16     False  POINT (2.95727 36.75783)  \n",
       "4        16     False  POINT (2.96259 36.81272)  "
      ],
      "text/html": "<div>\n<style scoped>\n    .dataframe tbody tr th:only-of-type {\n        vertical-align: middle;\n    }\n\n    .dataframe tbody tr th {\n        vertical-align: top;\n    }\n\n    .dataframe thead th {\n        text-align: right;\n    }\n</style>\n<table border=\"1\" class=\"dataframe\">\n  <thead>\n    <tr style=\"text-align: right;\">\n      <th></th>\n      <th>num</th>\n      <th>name</th>\n      <th>address</th>\n      <th>lat</th>\n      <th>lon</th>\n      <th>code_wil</th>\n      <th>to_check</th>\n      <th>geometry</th>\n    </tr>\n  </thead>\n  <tbody>\n    <tr>\n      <th>0</th>\n      <td>1</td>\n      <td>SAADI ABDELLAH</td>\n      <td>CITE 180 200 BAT 8 APPART 01 Bab Ezzouar</td>\n      <td>36.722018</td>\n      <td>3.185681</td>\n      <td>16</td>\n      <td>False</td>\n      <td>POINT (3.18568 36.72202)</td>\n    </tr>\n    <tr>\n      <th>1</th>\n      <td>2</td>\n      <td>CHAMBRE NATIONALE DES NOTAIRES</td>\n      <td>2 RUE EL BAKRI Ben Aknoun Rp</td>\n      <td>36.764634</td>\n      <td>3.015649</td>\n      <td>16</td>\n      <td>False</td>\n      <td>POINT (3.01565 36.76463)</td>\n    </tr>\n    <tr>\n      <th>2</th>\n      <td>3</td>\n      <td>BOUCHALI FOUZIA</td>\n      <td>12 RUE MOULOUD ZADI ET LE 110 ANGLE DIDOUCHE M...</td>\n      <td>36.763738</td>\n      <td>3.048095</td>\n      <td>16</td>\n      <td>False</td>\n      <td>POINT (3.04809 36.76374)</td>\n    </tr>\n    <tr>\n      <th>3</th>\n      <td>4</td>\n      <td>CHIALI HIND</td>\n      <td>157 CITE AISSAT IDIR Cheraga Rp</td>\n      <td>36.757828</td>\n      <td>2.957272</td>\n      <td>16</td>\n      <td>False</td>\n      <td>POINT (2.95727 36.75783)</td>\n    </tr>\n    <tr>\n      <th>4</th>\n      <td>5</td>\n      <td>OUBAD NADJET</td>\n      <td>62 R.N.  Bainem</td>\n      <td>36.812723</td>\n      <td>2.962592</td>\n      <td>16</td>\n      <td>False</td>\n      <td>POINT (2.96259 36.81272)</td>\n    </tr>\n  </tbody>\n</table>\n</div>"
     },
     "metadata": {},
     "execution_count": 33
    }
   ],
   "source": [
    "# Convert pandas DataFrame to GeoPandas \n",
    "pois['geometry'] = pois.apply(lambda row: Point(row.lon, row.lat), axis=1)\n",
    "pois_gdf  = gpd.GeoDataFrame(pois)\n",
    "pois_gdf.head()"
   ]
  },
  {
   "cell_type": "code",
   "execution_count": 34,
   "metadata": {},
   "outputs": [
    {
     "output_type": "execute_result",
     "data": {
      "text/plain": [
       "num         665\n",
       "name        665\n",
       "address     665\n",
       "lat         665\n",
       "lon         665\n",
       "code_wil    665\n",
       "to_check    665\n",
       "geometry    665\n",
       "dtype: int64"
      ]
     },
     "metadata": {},
     "execution_count": 34
    }
   ],
   "source": [
    "pois_gdf.count()"
   ]
  },
  {
   "cell_type": "code",
   "execution_count": 35,
   "metadata": {},
   "outputs": [
    {
     "output_type": "execute_result",
     "data": {
      "text/plain": [
       "<Geographic 2D CRS: EPSG:4326>\n",
       "Name: WGS 84\n",
       "Axis Info [ellipsoidal]:\n",
       "- Lat[north]: Geodetic latitude (degree)\n",
       "- Lon[east]: Geodetic longitude (degree)\n",
       "Area of Use:\n",
       "- name: World\n",
       "- bounds: (-180.0, -90.0, 180.0, 90.0)\n",
       "Datum: World Geodetic System 1984\n",
       "- Ellipsoid: WGS 84\n",
       "- Prime Meridian: Greenwich"
      ]
     },
     "metadata": {},
     "execution_count": 35
    }
   ],
   "source": [
    "# Set the Coordinate reference system\n",
    "pois_gdf = pois_gdf.set_crs(\"EPSG:4326\")\n",
    "pois_gdf.crs"
   ]
  },
  {
   "cell_type": "code",
   "execution_count": 36,
   "metadata": {},
   "outputs": [
    {
     "output_type": "execute_result",
     "data": {
      "text/plain": [
       "num           0\n",
       "name          0\n",
       "address       0\n",
       "lat           0\n",
       "lon           0\n",
       "to_check      0\n",
       "code_wil      0\n",
       "nom_wil       0\n",
       "geometry_y    0\n",
       "centroid      0\n",
       "geometry      0\n",
       "dtype: int64"
      ]
     },
     "metadata": {},
     "execution_count": 36
    }
   ],
   "source": [
    "# Check for rows with no coordiantes\n",
    "no_coords_gdf = pois_gdf[(pois_gdf['lat'].isnull() | pois_gdf['lat'].isnull())]\n",
    "\n",
    "# Merge with Wialyas DataFrame and set geometry to centroids\n",
    "# The merge may be done either with Wilayas code or wilayas names   \n",
    "no_coords_gdf = no_coords_gdf.merge(wilayas_gdf, left_on='code_wil', right_on='code_wil', how='left')\n",
    "no_coords_gdf['geometry'] = no_coords_gdf['centroid']\n",
    "no_coords_gdf['to_check'] = True\n",
    "\n",
    "with_coords_gdf = no_coords_gdf.drop(columns=['geometry_x'], axis=1)\n",
    "\n",
    "with_coords_gdf.count() "
   ]
  },
  {
   "cell_type": "code",
   "execution_count": 37,
   "metadata": {},
   "outputs": [
    {
     "output_type": "execute_result",
     "data": {
      "text/plain": [
       "num           665\n",
       "name          665\n",
       "address       665\n",
       "lat           665\n",
       "lon           665\n",
       "code_wil      665\n",
       "to_check      665\n",
       "geometry      665\n",
       "nom_wil       665\n",
       "geometry_y    665\n",
       "centroid      665\n",
       "dtype: int64"
      ]
     },
     "metadata": {},
     "execution_count": 37
    }
   ],
   "source": [
    "# Update the Targeted DataFrame by adding Wilayas geometries and centroids \n",
    "pois_gdf = pois_gdf[(pois_gdf['lat'].notnull() & pois_gdf['lat'].notnull())]\n",
    "\n",
    "# Merge with Wialyas DataFrame and set geometry to centroids\n",
    "# The merge may be done either with Wilayas code or wilayas names   \n",
    "pois_gdf = pois_gdf.merge(wilayas_gdf, left_on='code_wil', right_on='code_wil', how='left')\n",
    "pois_gdf.rename(columns={\"geometry_x\": \"geometry\"}, inplace=True)\n",
    "pois_gdf.count()"
   ]
  },
  {
   "cell_type": "code",
   "execution_count": 38,
   "metadata": {},
   "outputs": [
    {
     "output_type": "execute_result",
     "data": {
      "text/plain": [
       "num           665\n",
       "name          665\n",
       "address       665\n",
       "lat           665\n",
       "lon           665\n",
       "code_wil      665\n",
       "to_check      665\n",
       "geometry      665\n",
       "geometry_y    665\n",
       "dtype: int64"
      ]
     },
     "metadata": {},
     "execution_count": 38
    }
   ],
   "source": [
    "# Concat the Targeted DataFrame with rows without coordinates and approximated with Wilayas centroids \n",
    "pois_gdf = pd.concat([pois_gdf, with_coords_gdf])\n",
    "\n",
    "# Drop unecessary columns\n",
    "pois_gdf = pois_gdf.drop(columns=['centroid', 'nom_wil'], axis=1)\n",
    "\n",
    "pois_gdf[(pois_gdf['lat'].isnull() | pois_gdf['lon'].isnull())]\n",
    "pois_gdf.count()"
   ]
  },
  {
   "cell_type": "code",
   "execution_count": 39,
   "metadata": {},
   "outputs": [
    {
     "output_type": "execute_result",
     "data": {
      "text/plain": [
       "   num                   name                           address        lat  \\\n",
       "0   58         AROUCHE HOCINE   CITE BEN HAMMADI ALLAL Timimoun  29.261691   \n",
       "1   55          BENHADJ AHMED  CITE DES 40 LOGTS LOCAL 25 Adrar  28.017440   \n",
       "2   56        BARIK BOUDJEMAA       CITE 103 LOGTS BP 575 Adrar  28.017440   \n",
       "3   17  BOUDJELTIA ABDELKADER          42 RUE DES MARTYRS Chlef  36.157966   \n",
       "4  202      BEN DAOUDIA DRISS       1 CITE 136 LOGTS BT I Chlef  36.157966   \n",
       "\n",
       "        lon  code_wil  to_check                   geometry  \\\n",
       "0  0.241596         1     False   POINT (0.24160 29.26169)   \n",
       "1 -0.264250         1     False  POINT (-0.26425 28.01744)   \n",
       "2 -0.264250         1     False  POINT (-0.26425 28.01744)   \n",
       "3  1.337282         2     False   POINT (1.33728 36.15797)   \n",
       "4  1.337282         2     False   POINT (1.33728 36.15797)   \n",
       "\n",
       "                                          geometry_y  \n",
       "0  MULTIPOLYGON (((1.33461 20.72282, 1.32667 20.7...  \n",
       "1  MULTIPOLYGON (((1.33461 20.72282, 1.32667 20.7...  \n",
       "2  MULTIPOLYGON (((1.33461 20.72282, 1.32667 20.7...  \n",
       "3  MULTIPOLYGON (((1.55326 36.02990, 1.55325 36.0...  \n",
       "4  MULTIPOLYGON (((1.55326 36.02990, 1.55325 36.0...  "
      ],
      "text/html": "<div>\n<style scoped>\n    .dataframe tbody tr th:only-of-type {\n        vertical-align: middle;\n    }\n\n    .dataframe tbody tr th {\n        vertical-align: top;\n    }\n\n    .dataframe thead th {\n        text-align: right;\n    }\n</style>\n<table border=\"1\" class=\"dataframe\">\n  <thead>\n    <tr style=\"text-align: right;\">\n      <th></th>\n      <th>num</th>\n      <th>name</th>\n      <th>address</th>\n      <th>lat</th>\n      <th>lon</th>\n      <th>code_wil</th>\n      <th>to_check</th>\n      <th>geometry</th>\n      <th>geometry_y</th>\n    </tr>\n  </thead>\n  <tbody>\n    <tr>\n      <th>0</th>\n      <td>58</td>\n      <td>AROUCHE HOCINE</td>\n      <td>CITE BEN HAMMADI ALLAL Timimoun</td>\n      <td>29.261691</td>\n      <td>0.241596</td>\n      <td>1</td>\n      <td>False</td>\n      <td>POINT (0.24160 29.26169)</td>\n      <td>MULTIPOLYGON (((1.33461 20.72282, 1.32667 20.7...</td>\n    </tr>\n    <tr>\n      <th>1</th>\n      <td>55</td>\n      <td>BENHADJ AHMED</td>\n      <td>CITE DES 40 LOGTS LOCAL 25 Adrar</td>\n      <td>28.017440</td>\n      <td>-0.264250</td>\n      <td>1</td>\n      <td>False</td>\n      <td>POINT (-0.26425 28.01744)</td>\n      <td>MULTIPOLYGON (((1.33461 20.72282, 1.32667 20.7...</td>\n    </tr>\n    <tr>\n      <th>2</th>\n      <td>56</td>\n      <td>BARIK BOUDJEMAA</td>\n      <td>CITE 103 LOGTS BP 575 Adrar</td>\n      <td>28.017440</td>\n      <td>-0.264250</td>\n      <td>1</td>\n      <td>False</td>\n      <td>POINT (-0.26425 28.01744)</td>\n      <td>MULTIPOLYGON (((1.33461 20.72282, 1.32667 20.7...</td>\n    </tr>\n    <tr>\n      <th>3</th>\n      <td>17</td>\n      <td>BOUDJELTIA ABDELKADER</td>\n      <td>42 RUE DES MARTYRS Chlef</td>\n      <td>36.157966</td>\n      <td>1.337282</td>\n      <td>2</td>\n      <td>False</td>\n      <td>POINT (1.33728 36.15797)</td>\n      <td>MULTIPOLYGON (((1.55326 36.02990, 1.55325 36.0...</td>\n    </tr>\n    <tr>\n      <th>4</th>\n      <td>202</td>\n      <td>BEN DAOUDIA DRISS</td>\n      <td>1 CITE 136 LOGTS BT I Chlef</td>\n      <td>36.157966</td>\n      <td>1.337282</td>\n      <td>2</td>\n      <td>False</td>\n      <td>POINT (1.33728 36.15797)</td>\n      <td>MULTIPOLYGON (((1.55326 36.02990, 1.55325 36.0...</td>\n    </tr>\n  </tbody>\n</table>\n</div>"
     },
     "metadata": {},
     "execution_count": 39
    }
   ],
   "source": [
    "# Sort the DataFrame by code (Wilaya number) and reset the index\n",
    "pois_gdf = pois_gdf.sort_values(by=['code_wil'],ignore_index=True)\n",
    "pois_gdf.reset_index(drop=True)\n",
    "pois_gdf.head()"
   ]
  },
  {
   "cell_type": "code",
   "execution_count": 40,
   "metadata": {
    "tags": []
   },
   "outputs": [
    {
     "output_type": "execute_result",
     "data": {
      "text/plain": [
       "     num                      name  \\\n",
       "92   189             DRAFLI HOURIA   \n",
       "225  527          BELGHERBI FARIDA   \n",
       "318   75           BOURABA MOHAMED   \n",
       "321  172         ABIDELAH MESSAOUD   \n",
       "322  436   BEN KABOU MOHAMED FERIH   \n",
       "453  462             FANTAZI HAMID   \n",
       "454  450         FILALI ABDERRAZAK   \n",
       "455  473            KOUADRI YOUSEF   \n",
       "457  208              DJAAFAR SAAD   \n",
       "517  356  BEN HAOUA ABED EL DJELIL   \n",
       "518  362           NAKROUF MOHAMED   \n",
       "522  358             WALID MOHAMED   \n",
       "553  325         BOUAZA ABID AHMED   \n",
       "562  288             AMMOUR ZOHEIR   \n",
       "582  471           BOUKHARI NACIRA   \n",
       "614  478       BOUNAMOUSE ABDELHAK   \n",
       "\n",
       "                                               address        lat         lon  \\\n",
       "92                         RUE MOHAMED BOURAS Boufarik  36.663154    3.106977   \n",
       "225                 RESIDENCE DES ROSIERS BT A 1 Hydra  36.158310  -95.838298   \n",
       "318                 PL 1ER MAI GROUPE 10 BT B  1er Mai  36.048161  -95.886876   \n",
       "321                          2EME GROUPE BT I  1er Mai  36.048161  -95.886876   \n",
       "322           02 RUE KLAYLYA MOULAY BP 1009 Mohammadia  35.591910    0.065420   \n",
       "453  CITE EL DAKSI ABDELSALEM BT KQ BLOC 1 LOCAL 5 ...  41.841141  -85.669719   \n",
       "454              2 CITE DES MAGISTRATS Boussouf (cite)  44.836643   -0.579026   \n",
       "455                 148 RUE ALI GHACHI Didouche Mourad  48.837079    2.365043   \n",
       "457         2 RUE  ABED EL KRIM BOUBERTAKH Constantine  28.033886    1.659626   \n",
       "517                         8 RUE MHOUR IDRISS Mascara  35.083432  -89.807304   \n",
       "518           CITE 23 LOGTS BT C/17 VILLE NOUVELLE Sig  34.023018   -4.998270   \n",
       "522                          6 RUE MOHOR DRISS Mascara  34.434151 -119.920204   \n",
       "553      60 RUE CHARIT ALI CHERIF Oran El M'naouer Ctr  42.733707  -84.535104   \n",
       "562                              RUE DE L'ALN Mansoura  34.874214   -1.326084   \n",
       "582                 BOULEVARD ARASSI ABD ELMADJID Dren  42.589120  -71.154570   \n",
       "614                       RUE ALI ZEGHDOUD 20 BIS Mila  42.383608  -87.944697   \n",
       "\n",
       "     code_wil  to_check                     geometry  \\\n",
       "92          9     False     POINT (3.10698 36.66315)   \n",
       "225        16     False   POINT (-95.83830 36.15831)   \n",
       "318        16     False   POINT (-95.88688 36.04816)   \n",
       "321        16     False   POINT (-95.88688 36.04816)   \n",
       "322        16     False     POINT (0.06542 35.59191)   \n",
       "453        25     False   POINT (-85.66972 41.84114)   \n",
       "454        25     False    POINT (-0.57903 44.83664)   \n",
       "455        25     False     POINT (2.36504 48.83708)   \n",
       "457        25     False     POINT (1.65963 28.03389)   \n",
       "517        29     False   POINT (-89.80730 35.08343)   \n",
       "518        29     False    POINT (-4.99827 34.02302)   \n",
       "522        29     False  POINT (-119.92020 34.43415)   \n",
       "553        31     False   POINT (-84.53510 42.73371)   \n",
       "562        34     False    POINT (-1.32608 34.87421)   \n",
       "582        36     False   POINT (-71.15457 42.58912)   \n",
       "614        43     False   POINT (-87.94470 42.38361)   \n",
       "\n",
       "                                            geometry_y  coords_in_wil  \n",
       "92   MULTIPOLYGON (((2.57442 36.37632, 2.57435 36.3...          False  \n",
       "225  MULTIPOLYGON (((2.95544 36.61091, 2.95366 36.6...          False  \n",
       "318  MULTIPOLYGON (((2.95544 36.61091, 2.95366 36.6...          False  \n",
       "321  MULTIPOLYGON (((2.95544 36.61091, 2.95366 36.6...          False  \n",
       "322  MULTIPOLYGON (((2.95544 36.61091, 2.95366 36.6...          False  \n",
       "453  MULTIPOLYGON (((6.53679 36.17123, 6.53731 36.1...          False  \n",
       "454  MULTIPOLYGON (((6.53679 36.17123, 6.53731 36.1...          False  \n",
       "455  MULTIPOLYGON (((6.53679 36.17123, 6.53731 36.1...          False  \n",
       "457  MULTIPOLYGON (((6.53679 36.17123, 6.53731 36.1...          False  \n",
       "517  MULTIPOLYGON (((0.15620 35.07143, 0.15508 35.0...          False  \n",
       "518  MULTIPOLYGON (((0.15620 35.07143, 0.15508 35.0...          False  \n",
       "522  MULTIPOLYGON (((0.15620 35.07143, 0.15508 35.0...          False  \n",
       "553  MULTIPOLYGON (((-0.62241 35.52321, -0.62195 35...          False  \n",
       "562  MULTIPOLYGON (((4.94312 35.81929, 4.94275 35.8...          False  \n",
       "582  MULTIPOLYGON (((8.02614 36.45937, 8.02509 36.4...          False  \n",
       "614  MULTIPOLYGON (((6.01335 35.89529, 6.01206 35.8...          False  "
      ],
      "text/html": "<div>\n<style scoped>\n    .dataframe tbody tr th:only-of-type {\n        vertical-align: middle;\n    }\n\n    .dataframe tbody tr th {\n        vertical-align: top;\n    }\n\n    .dataframe thead th {\n        text-align: right;\n    }\n</style>\n<table border=\"1\" class=\"dataframe\">\n  <thead>\n    <tr style=\"text-align: right;\">\n      <th></th>\n      <th>num</th>\n      <th>name</th>\n      <th>address</th>\n      <th>lat</th>\n      <th>lon</th>\n      <th>code_wil</th>\n      <th>to_check</th>\n      <th>geometry</th>\n      <th>geometry_y</th>\n      <th>coords_in_wil</th>\n    </tr>\n  </thead>\n  <tbody>\n    <tr>\n      <th>92</th>\n      <td>189</td>\n      <td>DRAFLI HOURIA</td>\n      <td>RUE MOHAMED BOURAS Boufarik</td>\n      <td>36.663154</td>\n      <td>3.106977</td>\n      <td>9</td>\n      <td>False</td>\n      <td>POINT (3.10698 36.66315)</td>\n      <td>MULTIPOLYGON (((2.57442 36.37632, 2.57435 36.3...</td>\n      <td>False</td>\n    </tr>\n    <tr>\n      <th>225</th>\n      <td>527</td>\n      <td>BELGHERBI FARIDA</td>\n      <td>RESIDENCE DES ROSIERS BT A 1 Hydra</td>\n      <td>36.158310</td>\n      <td>-95.838298</td>\n      <td>16</td>\n      <td>False</td>\n      <td>POINT (-95.83830 36.15831)</td>\n      <td>MULTIPOLYGON (((2.95544 36.61091, 2.95366 36.6...</td>\n      <td>False</td>\n    </tr>\n    <tr>\n      <th>318</th>\n      <td>75</td>\n      <td>BOURABA MOHAMED</td>\n      <td>PL 1ER MAI GROUPE 10 BT B  1er Mai</td>\n      <td>36.048161</td>\n      <td>-95.886876</td>\n      <td>16</td>\n      <td>False</td>\n      <td>POINT (-95.88688 36.04816)</td>\n      <td>MULTIPOLYGON (((2.95544 36.61091, 2.95366 36.6...</td>\n      <td>False</td>\n    </tr>\n    <tr>\n      <th>321</th>\n      <td>172</td>\n      <td>ABIDELAH MESSAOUD</td>\n      <td>2EME GROUPE BT I  1er Mai</td>\n      <td>36.048161</td>\n      <td>-95.886876</td>\n      <td>16</td>\n      <td>False</td>\n      <td>POINT (-95.88688 36.04816)</td>\n      <td>MULTIPOLYGON (((2.95544 36.61091, 2.95366 36.6...</td>\n      <td>False</td>\n    </tr>\n    <tr>\n      <th>322</th>\n      <td>436</td>\n      <td>BEN KABOU MOHAMED FERIH</td>\n      <td>02 RUE KLAYLYA MOULAY BP 1009 Mohammadia</td>\n      <td>35.591910</td>\n      <td>0.065420</td>\n      <td>16</td>\n      <td>False</td>\n      <td>POINT (0.06542 35.59191)</td>\n      <td>MULTIPOLYGON (((2.95544 36.61091, 2.95366 36.6...</td>\n      <td>False</td>\n    </tr>\n    <tr>\n      <th>453</th>\n      <td>462</td>\n      <td>FANTAZI HAMID</td>\n      <td>CITE EL DAKSI ABDELSALEM BT KQ BLOC 1 LOCAL 5 ...</td>\n      <td>41.841141</td>\n      <td>-85.669719</td>\n      <td>25</td>\n      <td>False</td>\n      <td>POINT (-85.66972 41.84114)</td>\n      <td>MULTIPOLYGON (((6.53679 36.17123, 6.53731 36.1...</td>\n      <td>False</td>\n    </tr>\n    <tr>\n      <th>454</th>\n      <td>450</td>\n      <td>FILALI ABDERRAZAK</td>\n      <td>2 CITE DES MAGISTRATS Boussouf (cite)</td>\n      <td>44.836643</td>\n      <td>-0.579026</td>\n      <td>25</td>\n      <td>False</td>\n      <td>POINT (-0.57903 44.83664)</td>\n      <td>MULTIPOLYGON (((6.53679 36.17123, 6.53731 36.1...</td>\n      <td>False</td>\n    </tr>\n    <tr>\n      <th>455</th>\n      <td>473</td>\n      <td>KOUADRI YOUSEF</td>\n      <td>148 RUE ALI GHACHI Didouche Mourad</td>\n      <td>48.837079</td>\n      <td>2.365043</td>\n      <td>25</td>\n      <td>False</td>\n      <td>POINT (2.36504 48.83708)</td>\n      <td>MULTIPOLYGON (((6.53679 36.17123, 6.53731 36.1...</td>\n      <td>False</td>\n    </tr>\n    <tr>\n      <th>457</th>\n      <td>208</td>\n      <td>DJAAFAR SAAD</td>\n      <td>2 RUE  ABED EL KRIM BOUBERTAKH Constantine</td>\n      <td>28.033886</td>\n      <td>1.659626</td>\n      <td>25</td>\n      <td>False</td>\n      <td>POINT (1.65963 28.03389)</td>\n      <td>MULTIPOLYGON (((6.53679 36.17123, 6.53731 36.1...</td>\n      <td>False</td>\n    </tr>\n    <tr>\n      <th>517</th>\n      <td>356</td>\n      <td>BEN HAOUA ABED EL DJELIL</td>\n      <td>8 RUE MHOUR IDRISS Mascara</td>\n      <td>35.083432</td>\n      <td>-89.807304</td>\n      <td>29</td>\n      <td>False</td>\n      <td>POINT (-89.80730 35.08343)</td>\n      <td>MULTIPOLYGON (((0.15620 35.07143, 0.15508 35.0...</td>\n      <td>False</td>\n    </tr>\n    <tr>\n      <th>518</th>\n      <td>362</td>\n      <td>NAKROUF MOHAMED</td>\n      <td>CITE 23 LOGTS BT C/17 VILLE NOUVELLE Sig</td>\n      <td>34.023018</td>\n      <td>-4.998270</td>\n      <td>29</td>\n      <td>False</td>\n      <td>POINT (-4.99827 34.02302)</td>\n      <td>MULTIPOLYGON (((0.15620 35.07143, 0.15508 35.0...</td>\n      <td>False</td>\n    </tr>\n    <tr>\n      <th>522</th>\n      <td>358</td>\n      <td>WALID MOHAMED</td>\n      <td>6 RUE MOHOR DRISS Mascara</td>\n      <td>34.434151</td>\n      <td>-119.920204</td>\n      <td>29</td>\n      <td>False</td>\n      <td>POINT (-119.92020 34.43415)</td>\n      <td>MULTIPOLYGON (((0.15620 35.07143, 0.15508 35.0...</td>\n      <td>False</td>\n    </tr>\n    <tr>\n      <th>553</th>\n      <td>325</td>\n      <td>BOUAZA ABID AHMED</td>\n      <td>60 RUE CHARIT ALI CHERIF Oran El M'naouer Ctr</td>\n      <td>42.733707</td>\n      <td>-84.535104</td>\n      <td>31</td>\n      <td>False</td>\n      <td>POINT (-84.53510 42.73371)</td>\n      <td>MULTIPOLYGON (((-0.62241 35.52321, -0.62195 35...</td>\n      <td>False</td>\n    </tr>\n    <tr>\n      <th>562</th>\n      <td>288</td>\n      <td>AMMOUR ZOHEIR</td>\n      <td>RUE DE L'ALN Mansoura</td>\n      <td>34.874214</td>\n      <td>-1.326084</td>\n      <td>34</td>\n      <td>False</td>\n      <td>POINT (-1.32608 34.87421)</td>\n      <td>MULTIPOLYGON (((4.94312 35.81929, 4.94275 35.8...</td>\n      <td>False</td>\n    </tr>\n    <tr>\n      <th>582</th>\n      <td>471</td>\n      <td>BOUKHARI NACIRA</td>\n      <td>BOULEVARD ARASSI ABD ELMADJID Dren</td>\n      <td>42.589120</td>\n      <td>-71.154570</td>\n      <td>36</td>\n      <td>False</td>\n      <td>POINT (-71.15457 42.58912)</td>\n      <td>MULTIPOLYGON (((8.02614 36.45937, 8.02509 36.4...</td>\n      <td>False</td>\n    </tr>\n    <tr>\n      <th>614</th>\n      <td>478</td>\n      <td>BOUNAMOUSE ABDELHAK</td>\n      <td>RUE ALI ZEGHDOUD 20 BIS Mila</td>\n      <td>42.383608</td>\n      <td>-87.944697</td>\n      <td>43</td>\n      <td>False</td>\n      <td>POINT (-87.94470 42.38361)</td>\n      <td>MULTIPOLYGON (((6.01335 35.89529, 6.01206 35.8...</td>\n      <td>False</td>\n    </tr>\n  </tbody>\n</table>\n</div>"
     },
     "metadata": {},
     "execution_count": 40
    }
   ],
   "source": [
    "# Check if coordinates are within Wilayas polygons\n",
    "pois_gdf['coords_in_wil'] = [pois_gdf.geometry[i].within(pois_gdf.geometry_y[i]) for i in range(pois_gdf.geometry.count())] \n",
    "pois_gdf[pois_gdf.coords_in_wil == False]"
   ]
  },
  {
   "cell_type": "code",
   "execution_count": 42,
   "metadata": {},
   "outputs": [
    {
     "output_type": "execute_result",
     "data": {
      "text/plain": [
       "     num                      name  \\\n",
       "92   189             DRAFLI HOURIA   \n",
       "225  527          BELGHERBI FARIDA   \n",
       "318   75           BOURABA MOHAMED   \n",
       "321  172         ABIDELAH MESSAOUD   \n",
       "322  436   BEN KABOU MOHAMED FERIH   \n",
       "453  462             FANTAZI HAMID   \n",
       "454  450         FILALI ABDERRAZAK   \n",
       "455  473            KOUADRI YOUSEF   \n",
       "457  208              DJAAFAR SAAD   \n",
       "517  356  BEN HAOUA ABED EL DJELIL   \n",
       "518  362           NAKROUF MOHAMED   \n",
       "522  358             WALID MOHAMED   \n",
       "553  325         BOUAZA ABID AHMED   \n",
       "562  288             AMMOUR ZOHEIR   \n",
       "582  471           BOUKHARI NACIRA   \n",
       "614  478       BOUNAMOUSE ABDELHAK   \n",
       "\n",
       "                                               address        lat         lon  \\\n",
       "92                         RUE MOHAMED BOURAS Boufarik  36.663154    3.106977   \n",
       "225                 RESIDENCE DES ROSIERS BT A 1 Hydra  36.158310  -95.838298   \n",
       "318                 PL 1ER MAI GROUPE 10 BT B  1er Mai  36.048161  -95.886876   \n",
       "321                          2EME GROUPE BT I  1er Mai  36.048161  -95.886876   \n",
       "322           02 RUE KLAYLYA MOULAY BP 1009 Mohammadia  35.591910    0.065420   \n",
       "453  CITE EL DAKSI ABDELSALEM BT KQ BLOC 1 LOCAL 5 ...  41.841141  -85.669719   \n",
       "454              2 CITE DES MAGISTRATS Boussouf (cite)  44.836643   -0.579026   \n",
       "455                 148 RUE ALI GHACHI Didouche Mourad  48.837079    2.365043   \n",
       "457         2 RUE  ABED EL KRIM BOUBERTAKH Constantine  28.033886    1.659626   \n",
       "517                         8 RUE MHOUR IDRISS Mascara  35.083432  -89.807304   \n",
       "518           CITE 23 LOGTS BT C/17 VILLE NOUVELLE Sig  34.023018   -4.998270   \n",
       "522                          6 RUE MOHOR DRISS Mascara  34.434151 -119.920204   \n",
       "553      60 RUE CHARIT ALI CHERIF Oran El M'naouer Ctr  42.733707  -84.535104   \n",
       "562                              RUE DE L'ALN Mansoura  34.874214   -1.326084   \n",
       "582                 BOULEVARD ARASSI ABD ELMADJID Dren  42.589120  -71.154570   \n",
       "614                       RUE ALI ZEGHDOUD 20 BIS Mila  42.383608  -87.944697   \n",
       "\n",
       "     code_wil  to_check                     geometry  \n",
       "92          9      True     POINT (3.10698 36.66315)  \n",
       "225        16      True   POINT (-95.83830 36.15831)  \n",
       "318        16      True   POINT (-95.88688 36.04816)  \n",
       "321        16      True   POINT (-95.88688 36.04816)  \n",
       "322        16      True     POINT (0.06542 35.59191)  \n",
       "453        25      True   POINT (-85.66972 41.84114)  \n",
       "454        25      True    POINT (-0.57903 44.83664)  \n",
       "455        25      True     POINT (2.36504 48.83708)  \n",
       "457        25      True     POINT (1.65963 28.03389)  \n",
       "517        29      True   POINT (-89.80730 35.08343)  \n",
       "518        29      True    POINT (-4.99827 34.02302)  \n",
       "522        29      True  POINT (-119.92020 34.43415)  \n",
       "553        31      True   POINT (-84.53510 42.73371)  \n",
       "562        34      True    POINT (-1.32608 34.87421)  \n",
       "582        36      True   POINT (-71.15457 42.58912)  \n",
       "614        43      True   POINT (-87.94470 42.38361)  "
      ],
      "text/html": "<div>\n<style scoped>\n    .dataframe tbody tr th:only-of-type {\n        vertical-align: middle;\n    }\n\n    .dataframe tbody tr th {\n        vertical-align: top;\n    }\n\n    .dataframe thead th {\n        text-align: right;\n    }\n</style>\n<table border=\"1\" class=\"dataframe\">\n  <thead>\n    <tr style=\"text-align: right;\">\n      <th></th>\n      <th>num</th>\n      <th>name</th>\n      <th>address</th>\n      <th>lat</th>\n      <th>lon</th>\n      <th>code_wil</th>\n      <th>to_check</th>\n      <th>geometry</th>\n    </tr>\n  </thead>\n  <tbody>\n    <tr>\n      <th>92</th>\n      <td>189</td>\n      <td>DRAFLI HOURIA</td>\n      <td>RUE MOHAMED BOURAS Boufarik</td>\n      <td>36.663154</td>\n      <td>3.106977</td>\n      <td>9</td>\n      <td>True</td>\n      <td>POINT (3.10698 36.66315)</td>\n    </tr>\n    <tr>\n      <th>225</th>\n      <td>527</td>\n      <td>BELGHERBI FARIDA</td>\n      <td>RESIDENCE DES ROSIERS BT A 1 Hydra</td>\n      <td>36.158310</td>\n      <td>-95.838298</td>\n      <td>16</td>\n      <td>True</td>\n      <td>POINT (-95.83830 36.15831)</td>\n    </tr>\n    <tr>\n      <th>318</th>\n      <td>75</td>\n      <td>BOURABA MOHAMED</td>\n      <td>PL 1ER MAI GROUPE 10 BT B  1er Mai</td>\n      <td>36.048161</td>\n      <td>-95.886876</td>\n      <td>16</td>\n      <td>True</td>\n      <td>POINT (-95.88688 36.04816)</td>\n    </tr>\n    <tr>\n      <th>321</th>\n      <td>172</td>\n      <td>ABIDELAH MESSAOUD</td>\n      <td>2EME GROUPE BT I  1er Mai</td>\n      <td>36.048161</td>\n      <td>-95.886876</td>\n      <td>16</td>\n      <td>True</td>\n      <td>POINT (-95.88688 36.04816)</td>\n    </tr>\n    <tr>\n      <th>322</th>\n      <td>436</td>\n      <td>BEN KABOU MOHAMED FERIH</td>\n      <td>02 RUE KLAYLYA MOULAY BP 1009 Mohammadia</td>\n      <td>35.591910</td>\n      <td>0.065420</td>\n      <td>16</td>\n      <td>True</td>\n      <td>POINT (0.06542 35.59191)</td>\n    </tr>\n    <tr>\n      <th>453</th>\n      <td>462</td>\n      <td>FANTAZI HAMID</td>\n      <td>CITE EL DAKSI ABDELSALEM BT KQ BLOC 1 LOCAL 5 ...</td>\n      <td>41.841141</td>\n      <td>-85.669719</td>\n      <td>25</td>\n      <td>True</td>\n      <td>POINT (-85.66972 41.84114)</td>\n    </tr>\n    <tr>\n      <th>454</th>\n      <td>450</td>\n      <td>FILALI ABDERRAZAK</td>\n      <td>2 CITE DES MAGISTRATS Boussouf (cite)</td>\n      <td>44.836643</td>\n      <td>-0.579026</td>\n      <td>25</td>\n      <td>True</td>\n      <td>POINT (-0.57903 44.83664)</td>\n    </tr>\n    <tr>\n      <th>455</th>\n      <td>473</td>\n      <td>KOUADRI YOUSEF</td>\n      <td>148 RUE ALI GHACHI Didouche Mourad</td>\n      <td>48.837079</td>\n      <td>2.365043</td>\n      <td>25</td>\n      <td>True</td>\n      <td>POINT (2.36504 48.83708)</td>\n    </tr>\n    <tr>\n      <th>457</th>\n      <td>208</td>\n      <td>DJAAFAR SAAD</td>\n      <td>2 RUE  ABED EL KRIM BOUBERTAKH Constantine</td>\n      <td>28.033886</td>\n      <td>1.659626</td>\n      <td>25</td>\n      <td>True</td>\n      <td>POINT (1.65963 28.03389)</td>\n    </tr>\n    <tr>\n      <th>517</th>\n      <td>356</td>\n      <td>BEN HAOUA ABED EL DJELIL</td>\n      <td>8 RUE MHOUR IDRISS Mascara</td>\n      <td>35.083432</td>\n      <td>-89.807304</td>\n      <td>29</td>\n      <td>True</td>\n      <td>POINT (-89.80730 35.08343)</td>\n    </tr>\n    <tr>\n      <th>518</th>\n      <td>362</td>\n      <td>NAKROUF MOHAMED</td>\n      <td>CITE 23 LOGTS BT C/17 VILLE NOUVELLE Sig</td>\n      <td>34.023018</td>\n      <td>-4.998270</td>\n      <td>29</td>\n      <td>True</td>\n      <td>POINT (-4.99827 34.02302)</td>\n    </tr>\n    <tr>\n      <th>522</th>\n      <td>358</td>\n      <td>WALID MOHAMED</td>\n      <td>6 RUE MOHOR DRISS Mascara</td>\n      <td>34.434151</td>\n      <td>-119.920204</td>\n      <td>29</td>\n      <td>True</td>\n      <td>POINT (-119.92020 34.43415)</td>\n    </tr>\n    <tr>\n      <th>553</th>\n      <td>325</td>\n      <td>BOUAZA ABID AHMED</td>\n      <td>60 RUE CHARIT ALI CHERIF Oran El M'naouer Ctr</td>\n      <td>42.733707</td>\n      <td>-84.535104</td>\n      <td>31</td>\n      <td>True</td>\n      <td>POINT (-84.53510 42.73371)</td>\n    </tr>\n    <tr>\n      <th>562</th>\n      <td>288</td>\n      <td>AMMOUR ZOHEIR</td>\n      <td>RUE DE L'ALN Mansoura</td>\n      <td>34.874214</td>\n      <td>-1.326084</td>\n      <td>34</td>\n      <td>True</td>\n      <td>POINT (-1.32608 34.87421)</td>\n    </tr>\n    <tr>\n      <th>582</th>\n      <td>471</td>\n      <td>BOUKHARI NACIRA</td>\n      <td>BOULEVARD ARASSI ABD ELMADJID Dren</td>\n      <td>42.589120</td>\n      <td>-71.154570</td>\n      <td>36</td>\n      <td>True</td>\n      <td>POINT (-71.15457 42.58912)</td>\n    </tr>\n    <tr>\n      <th>614</th>\n      <td>478</td>\n      <td>BOUNAMOUSE ABDELHAK</td>\n      <td>RUE ALI ZEGHDOUD 20 BIS Mila</td>\n      <td>42.383608</td>\n      <td>-87.944697</td>\n      <td>43</td>\n      <td>True</td>\n      <td>POINT (-87.94470 42.38361)</td>\n    </tr>\n  </tbody>\n</table>\n</div>"
     },
     "metadata": {},
     "execution_count": 42
    }
   ],
   "source": [
    "# Update to_check flag to take into account points outside Wilays and without geocoding coordinates\n",
    "final_gdf = pois_gdf\n",
    "final_gdf['to_check'] = (pois_gdf['to_check'] == True) | (pois_gdf['coords_in_wil'] == False)   \n",
    "\n",
    "# Remove unecessary columns\n",
    "final_gdf = final_gdf.drop(['geometry_y', 'coords_in_wil'], axis=1)\n",
    "\n",
    "final_gdf[final_gdf.to_check == True]"
   ]
  },
  {
   "cell_type": "code",
   "execution_count": 43,
   "metadata": {},
   "outputs": [
    {
     "output_type": "execute_result",
     "data": {
      "text/plain": [
       "num         665\n",
       "name        665\n",
       "address     665\n",
       "lat         665\n",
       "lon         665\n",
       "code_wil    665\n",
       "to_check    665\n",
       "geometry    665\n",
       "dtype: int64"
      ]
     },
     "metadata": {},
     "execution_count": 43
    }
   ],
   "source": [
    "final_gdf.count()"
   ]
  },
  {
   "cell_type": "code",
   "execution_count": 44,
   "metadata": {},
   "outputs": [],
   "source": [
    "# Write to a GeoJSON file\n",
    "\n",
    "gpd.GeoDataFrame(final_gdf).to_file(pois_path + \"pois_checked_in_out_wilayas.geojson\", driver='GeoJSON')"
   ]
  }
 ]
}