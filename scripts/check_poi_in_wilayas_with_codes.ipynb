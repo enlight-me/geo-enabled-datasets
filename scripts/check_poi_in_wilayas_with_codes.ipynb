{
 "metadata": {
  "language_info": {
   "codemirror_mode": {
    "name": "ipython",
    "version": 3
   },
   "file_extension": ".py",
   "mimetype": "text/x-python",
   "name": "python",
   "nbconvert_exporter": "python",
   "pygments_lexer": "ipython3",
   "version": "3.8.5"
  },
  "orig_nbformat": 2,
  "kernelspec": {
   "name": "python38564bitc5dda015dcc140dba795e9b0465f9f9d",
   "display_name": "Python 3.8.5 64-bit"
  },
  "metadata": {
   "interpreter": {
    "hash": "916dbcbb3f70747c44a77c7bcd40155683ae19c65e1c03b4aa3499c5328201f1"
   }
  }
 },
 "nbformat": 4,
 "nbformat_minor": 2,
 "cells": [
  {
   "cell_type": "code",
   "execution_count": 1,
   "metadata": {},
   "outputs": [],
   "source": [
    "import pandas as pd \n",
    "import geopandas as gpd \n",
    "from shapely.geometry import Point\n",
    "import numpy as np "
   ]
  },
  {
   "cell_type": "code",
   "execution_count": 2,
   "metadata": {},
   "outputs": [
    {
     "output_type": "stream",
     "name": "stderr",
     "text": [
      "<ipython-input-2-e95edb6e38e9>:6: UserWarning: Geometry is in a geographic CRS. Results from 'centroid' are likely incorrect. Use 'GeoSeries.to_crs()' to re-project geometries to a projected CRS before this operation.\n\n  wilayas_gdf['centroid'] = wilayas_gdf['geometry'].centroid\n"
     ]
    },
    {
     "output_type": "execute_result",
     "data": {
      "text/plain": [
       "   code_wil         nom_wil  \\\n",
       "0         1           Adrar   \n",
       "1         2           Chlef   \n",
       "2         3        Laghouat   \n",
       "3         4  Oum El Bouaghi   \n",
       "4         5           Batna   \n",
       "\n",
       "                                            geometry  \\\n",
       "0  MULTIPOLYGON (((1.33461 20.72282, 1.32667 20.7...   \n",
       "1  MULTIPOLYGON (((1.55326 36.02990, 1.55325 36.0...   \n",
       "2  MULTIPOLYGON (((2.88464 32.88137, 2.87848 32.8...   \n",
       "3  MULTIPOLYGON (((7.47320 35.52005, 7.47227 35.5...   \n",
       "4  MULTIPOLYGON (((6.10102 35.05459, 6.10090 35.0...   \n",
       "\n",
       "                    centroid  \n",
       "0  POINT (-0.62174 26.01400)  \n",
       "1   POINT (1.25669 36.23826)  \n",
       "2   POINT (2.72955 33.60757)  \n",
       "3   POINT (7.06527 35.83646)  \n",
       "4   POINT (5.87455 35.41969)  "
      ],
      "text/html": "<div>\n<style scoped>\n    .dataframe tbody tr th:only-of-type {\n        vertical-align: middle;\n    }\n\n    .dataframe tbody tr th {\n        vertical-align: top;\n    }\n\n    .dataframe thead th {\n        text-align: right;\n    }\n</style>\n<table border=\"1\" class=\"dataframe\">\n  <thead>\n    <tr style=\"text-align: right;\">\n      <th></th>\n      <th>code_wil</th>\n      <th>nom_wil</th>\n      <th>geometry</th>\n      <th>centroid</th>\n    </tr>\n  </thead>\n  <tbody>\n    <tr>\n      <th>0</th>\n      <td>1</td>\n      <td>Adrar</td>\n      <td>MULTIPOLYGON (((1.33461 20.72282, 1.32667 20.7...</td>\n      <td>POINT (-0.62174 26.01400)</td>\n    </tr>\n    <tr>\n      <th>1</th>\n      <td>2</td>\n      <td>Chlef</td>\n      <td>MULTIPOLYGON (((1.55326 36.02990, 1.55325 36.0...</td>\n      <td>POINT (1.25669 36.23826)</td>\n    </tr>\n    <tr>\n      <th>2</th>\n      <td>3</td>\n      <td>Laghouat</td>\n      <td>MULTIPOLYGON (((2.88464 32.88137, 2.87848 32.8...</td>\n      <td>POINT (2.72955 33.60757)</td>\n    </tr>\n    <tr>\n      <th>3</th>\n      <td>4</td>\n      <td>Oum El Bouaghi</td>\n      <td>MULTIPOLYGON (((7.47320 35.52005, 7.47227 35.5...</td>\n      <td>POINT (7.06527 35.83646)</td>\n    </tr>\n    <tr>\n      <th>4</th>\n      <td>5</td>\n      <td>Batna</td>\n      <td>MULTIPOLYGON (((6.10102 35.05459, 6.10090 35.0...</td>\n      <td>POINT (5.87455 35.41969)</td>\n    </tr>\n  </tbody>\n</table>\n</div>"
     },
     "metadata": {},
     "execution_count": 2
    }
   ],
   "source": [
    "# Load Wilayas Features and calculate polygon centroids\n",
    "wilayas_gjson = '../dz-admin/wilayas_48.geojson'\n",
    "wilayas_gdf = gpd.read_file(wilayas_gjson)\n",
    "wilayas_gdf = wilayas_gdf[['code', 'nom', 'geometry']]\n",
    "wilayas_gdf = wilayas_gdf.rename(columns={'nom': 'nom_wil', 'code': 'code_wil'})\n",
    "wilayas_gdf['centroid'] = wilayas_gdf['geometry'].centroid\n",
    "wilayas_gdf.head()"
   ]
  },
  {
   "cell_type": "code",
   "execution_count": 4,
   "metadata": {},
   "outputs": [
    {
     "output_type": "execute_result",
     "data": {
      "text/plain": [
       "<Geographic 2D CRS: EPSG:4326>\n",
       "Name: WGS 84\n",
       "Axis Info [ellipsoidal]:\n",
       "- Lat[north]: Geodetic latitude (degree)\n",
       "- Lon[east]: Geodetic longitude (degree)\n",
       "Area of Use:\n",
       "- name: World\n",
       "- bounds: (-180.0, -90.0, 180.0, 90.0)\n",
       "Datum: World Geodetic System 1984\n",
       "- Ellipsoid: WGS 84\n",
       "- Prime Meridian: Greenwich"
      ]
     },
     "metadata": {},
     "execution_count": 4
    }
   ],
   "source": [
    "wilayas_gdf = wilayas_gdf.set_crs(\"EPSG:4326\")\n",
    "wilayas_gdf.crs"
   ]
  },
  {
   "cell_type": "code",
   "execution_count": 5,
   "metadata": {},
   "outputs": [
    {
     "output_type": "execute_result",
     "data": {
      "text/plain": [
       "   Unnamed: 0                                        name  \\\n",
       "0           0                  Ouled Hamla SPA Tikouyavic   \n",
       "1           1  Point de vente UPD Ain Kercha SPA Thagavic   \n",
       "2           2          Point de vente kaous SPA TAHAGAVIC   \n",
       "3           3             POINT DE VENTE DAWADJEN SITIFIS   \n",
       "4           4             POINT DE VENTE DAWADJEN SITIFIS   \n",
       "\n",
       "                                             address    phone_number category  \\\n",
       "0          CITE GOUADJLIA RABAH PROJET 160 LOG BT 09   0798 22 14 13       pv   \n",
       "1  cite Mohamed m'gena nord ouest  Commune Ain Ke...   0561 65 30 18       pv   \n",
       "2                        cité stade Commune de Kaous   0661 33 60 29       pv   \n",
       "3           RUE DES ABATTOIRS CITE LAID DHAOUI Sétif   0661 31 60 90       pv   \n",
       "4   CITE BIR EN NSA AADL 3000 LOGTS LOCAL Num 124125  0770 80 45 32        pv   \n",
       "\n",
       "  organization        lat       lon commune_name     wilaya_name type_name  \\\n",
       "0      AGROLOG  36.027295  6.563820    AIN MLILA  OUM EL BOUAGHI   Viandes   \n",
       "1      AGROLOG  35.928594  6.684329   AIN KERCHA  OUM EL BOUAGHI   Viandes   \n",
       "2      AGROLOG  36.377426  5.814824        KAOUS           JIJEL   Viandes   \n",
       "3      AGROLOG  36.170960  5.406740        SETIF           SETIF   Viandes   \n",
       "4      AGROLOG  36.176870  5.476410        SETIF           SETIF   Viandes   \n",
       "\n",
       "   type_id  code_wil  to_check  \n",
       "0        1         4     False  \n",
       "1        1         4     False  \n",
       "2        1        18     False  \n",
       "3        1        19     False  \n",
       "4        1        19     False  "
      ],
      "text/html": "<div>\n<style scoped>\n    .dataframe tbody tr th:only-of-type {\n        vertical-align: middle;\n    }\n\n    .dataframe tbody tr th {\n        vertical-align: top;\n    }\n\n    .dataframe thead th {\n        text-align: right;\n    }\n</style>\n<table border=\"1\" class=\"dataframe\">\n  <thead>\n    <tr style=\"text-align: right;\">\n      <th></th>\n      <th>Unnamed: 0</th>\n      <th>name</th>\n      <th>address</th>\n      <th>phone_number</th>\n      <th>category</th>\n      <th>organization</th>\n      <th>lat</th>\n      <th>lon</th>\n      <th>commune_name</th>\n      <th>wilaya_name</th>\n      <th>type_name</th>\n      <th>type_id</th>\n      <th>code_wil</th>\n      <th>to_check</th>\n    </tr>\n  </thead>\n  <tbody>\n    <tr>\n      <th>0</th>\n      <td>0</td>\n      <td>Ouled Hamla SPA Tikouyavic</td>\n      <td>CITE GOUADJLIA RABAH PROJET 160 LOG BT 09</td>\n      <td>0798 22 14 13</td>\n      <td>pv</td>\n      <td>AGROLOG</td>\n      <td>36.027295</td>\n      <td>6.563820</td>\n      <td>AIN MLILA</td>\n      <td>OUM EL BOUAGHI</td>\n      <td>Viandes</td>\n      <td>1</td>\n      <td>4</td>\n      <td>False</td>\n    </tr>\n    <tr>\n      <th>1</th>\n      <td>1</td>\n      <td>Point de vente UPD Ain Kercha SPA Thagavic</td>\n      <td>cite Mohamed m'gena nord ouest  Commune Ain Ke...</td>\n      <td>0561 65 30 18</td>\n      <td>pv</td>\n      <td>AGROLOG</td>\n      <td>35.928594</td>\n      <td>6.684329</td>\n      <td>AIN KERCHA</td>\n      <td>OUM EL BOUAGHI</td>\n      <td>Viandes</td>\n      <td>1</td>\n      <td>4</td>\n      <td>False</td>\n    </tr>\n    <tr>\n      <th>2</th>\n      <td>2</td>\n      <td>Point de vente kaous SPA TAHAGAVIC</td>\n      <td>cité stade Commune de Kaous</td>\n      <td>0661 33 60 29</td>\n      <td>pv</td>\n      <td>AGROLOG</td>\n      <td>36.377426</td>\n      <td>5.814824</td>\n      <td>KAOUS</td>\n      <td>JIJEL</td>\n      <td>Viandes</td>\n      <td>1</td>\n      <td>18</td>\n      <td>False</td>\n    </tr>\n    <tr>\n      <th>3</th>\n      <td>3</td>\n      <td>POINT DE VENTE DAWADJEN SITIFIS</td>\n      <td>RUE DES ABATTOIRS CITE LAID DHAOUI Sétif</td>\n      <td>0661 31 60 90</td>\n      <td>pv</td>\n      <td>AGROLOG</td>\n      <td>36.170960</td>\n      <td>5.406740</td>\n      <td>SETIF</td>\n      <td>SETIF</td>\n      <td>Viandes</td>\n      <td>1</td>\n      <td>19</td>\n      <td>False</td>\n    </tr>\n    <tr>\n      <th>4</th>\n      <td>4</td>\n      <td>POINT DE VENTE DAWADJEN SITIFIS</td>\n      <td>CITE BIR EN NSA AADL 3000 LOGTS LOCAL Num 124125</td>\n      <td>0770 80 45 32</td>\n      <td>pv</td>\n      <td>AGROLOG</td>\n      <td>36.176870</td>\n      <td>5.476410</td>\n      <td>SETIF</td>\n      <td>SETIF</td>\n      <td>Viandes</td>\n      <td>1</td>\n      <td>19</td>\n      <td>False</td>\n    </tr>\n  </tbody>\n</table>\n</div>"
     },
     "metadata": {},
     "execution_count": 5
    }
   ],
   "source": [
    "# Load Tagreted dataset and set to_check to False assuming all geocoded coordinates are OK \n",
    "pois_path = '../dz-datasets/agriculture/'\n",
    "pois = pd.read_csv(pois_path + 'elfirma.csv')\n",
    "pois['to_check'] = False\n",
    "pois.head()"
   ]
  },
  {
   "cell_type": "code",
   "execution_count": 6,
   "metadata": {},
   "outputs": [
    {
     "output_type": "execute_result",
     "data": {
      "text/plain": [
       "   Unnamed: 0                                        name  \\\n",
       "0           0                  Ouled Hamla SPA Tikouyavic   \n",
       "1           1  Point de vente UPD Ain Kercha SPA Thagavic   \n",
       "2           2          Point de vente kaous SPA TAHAGAVIC   \n",
       "3           3             POINT DE VENTE DAWADJEN SITIFIS   \n",
       "4           4             POINT DE VENTE DAWADJEN SITIFIS   \n",
       "\n",
       "                                             address    phone_number category  \\\n",
       "0          CITE GOUADJLIA RABAH PROJET 160 LOG BT 09   0798 22 14 13       pv   \n",
       "1  cite Mohamed m'gena nord ouest  Commune Ain Ke...   0561 65 30 18       pv   \n",
       "2                        cité stade Commune de Kaous   0661 33 60 29       pv   \n",
       "3           RUE DES ABATTOIRS CITE LAID DHAOUI Sétif   0661 31 60 90       pv   \n",
       "4   CITE BIR EN NSA AADL 3000 LOGTS LOCAL Num 124125  0770 80 45 32        pv   \n",
       "\n",
       "  organization        lat       lon commune_name     wilaya_name type_name  \\\n",
       "0      AGROLOG  36.027295  6.563820    AIN MLILA  OUM EL BOUAGHI   Viandes   \n",
       "1      AGROLOG  35.928594  6.684329   AIN KERCHA  OUM EL BOUAGHI   Viandes   \n",
       "2      AGROLOG  36.377426  5.814824        KAOUS           JIJEL   Viandes   \n",
       "3      AGROLOG  36.170960  5.406740        SETIF           SETIF   Viandes   \n",
       "4      AGROLOG  36.176870  5.476410        SETIF           SETIF   Viandes   \n",
       "\n",
       "   type_id  code_wil  to_check                  geometry  \n",
       "0        1         4     False  POINT (6.56382 36.02730)  \n",
       "1        1         4     False  POINT (6.68433 35.92859)  \n",
       "2        1        18     False  POINT (5.81482 36.37743)  \n",
       "3        1        19     False  POINT (5.40674 36.17096)  \n",
       "4        1        19     False  POINT (5.47641 36.17687)  "
      ],
      "text/html": "<div>\n<style scoped>\n    .dataframe tbody tr th:only-of-type {\n        vertical-align: middle;\n    }\n\n    .dataframe tbody tr th {\n        vertical-align: top;\n    }\n\n    .dataframe thead th {\n        text-align: right;\n    }\n</style>\n<table border=\"1\" class=\"dataframe\">\n  <thead>\n    <tr style=\"text-align: right;\">\n      <th></th>\n      <th>Unnamed: 0</th>\n      <th>name</th>\n      <th>address</th>\n      <th>phone_number</th>\n      <th>category</th>\n      <th>organization</th>\n      <th>lat</th>\n      <th>lon</th>\n      <th>commune_name</th>\n      <th>wilaya_name</th>\n      <th>type_name</th>\n      <th>type_id</th>\n      <th>code_wil</th>\n      <th>to_check</th>\n      <th>geometry</th>\n    </tr>\n  </thead>\n  <tbody>\n    <tr>\n      <th>0</th>\n      <td>0</td>\n      <td>Ouled Hamla SPA Tikouyavic</td>\n      <td>CITE GOUADJLIA RABAH PROJET 160 LOG BT 09</td>\n      <td>0798 22 14 13</td>\n      <td>pv</td>\n      <td>AGROLOG</td>\n      <td>36.027295</td>\n      <td>6.563820</td>\n      <td>AIN MLILA</td>\n      <td>OUM EL BOUAGHI</td>\n      <td>Viandes</td>\n      <td>1</td>\n      <td>4</td>\n      <td>False</td>\n      <td>POINT (6.56382 36.02730)</td>\n    </tr>\n    <tr>\n      <th>1</th>\n      <td>1</td>\n      <td>Point de vente UPD Ain Kercha SPA Thagavic</td>\n      <td>cite Mohamed m'gena nord ouest  Commune Ain Ke...</td>\n      <td>0561 65 30 18</td>\n      <td>pv</td>\n      <td>AGROLOG</td>\n      <td>35.928594</td>\n      <td>6.684329</td>\n      <td>AIN KERCHA</td>\n      <td>OUM EL BOUAGHI</td>\n      <td>Viandes</td>\n      <td>1</td>\n      <td>4</td>\n      <td>False</td>\n      <td>POINT (6.68433 35.92859)</td>\n    </tr>\n    <tr>\n      <th>2</th>\n      <td>2</td>\n      <td>Point de vente kaous SPA TAHAGAVIC</td>\n      <td>cité stade Commune de Kaous</td>\n      <td>0661 33 60 29</td>\n      <td>pv</td>\n      <td>AGROLOG</td>\n      <td>36.377426</td>\n      <td>5.814824</td>\n      <td>KAOUS</td>\n      <td>JIJEL</td>\n      <td>Viandes</td>\n      <td>1</td>\n      <td>18</td>\n      <td>False</td>\n      <td>POINT (5.81482 36.37743)</td>\n    </tr>\n    <tr>\n      <th>3</th>\n      <td>3</td>\n      <td>POINT DE VENTE DAWADJEN SITIFIS</td>\n      <td>RUE DES ABATTOIRS CITE LAID DHAOUI Sétif</td>\n      <td>0661 31 60 90</td>\n      <td>pv</td>\n      <td>AGROLOG</td>\n      <td>36.170960</td>\n      <td>5.406740</td>\n      <td>SETIF</td>\n      <td>SETIF</td>\n      <td>Viandes</td>\n      <td>1</td>\n      <td>19</td>\n      <td>False</td>\n      <td>POINT (5.40674 36.17096)</td>\n    </tr>\n    <tr>\n      <th>4</th>\n      <td>4</td>\n      <td>POINT DE VENTE DAWADJEN SITIFIS</td>\n      <td>CITE BIR EN NSA AADL 3000 LOGTS LOCAL Num 124125</td>\n      <td>0770 80 45 32</td>\n      <td>pv</td>\n      <td>AGROLOG</td>\n      <td>36.176870</td>\n      <td>5.476410</td>\n      <td>SETIF</td>\n      <td>SETIF</td>\n      <td>Viandes</td>\n      <td>1</td>\n      <td>19</td>\n      <td>False</td>\n      <td>POINT (5.47641 36.17687)</td>\n    </tr>\n  </tbody>\n</table>\n</div>"
     },
     "metadata": {},
     "execution_count": 6
    }
   ],
   "source": [
    "# Convert pandas DataFrame to GeoPandas \n",
    "pois['geometry'] = pois.apply(lambda row: Point(row.lon, row.lat), axis=1)\n",
    "pois_gdf  = gpd.GeoDataFrame(pois)\n",
    "pois_gdf.head()"
   ]
  },
  {
   "cell_type": "code",
   "execution_count": 7,
   "metadata": {},
   "outputs": [
    {
     "output_type": "execute_result",
     "data": {
      "text/plain": [
       "Unnamed: 0      486\n",
       "name            486\n",
       "address         486\n",
       "phone_number     54\n",
       "category        486\n",
       "organization    486\n",
       "lat             486\n",
       "lon             486\n",
       "commune_name    486\n",
       "wilaya_name     486\n",
       "type_name       486\n",
       "type_id         486\n",
       "code_wil        486\n",
       "to_check        486\n",
       "geometry        486\n",
       "dtype: int64"
      ]
     },
     "metadata": {},
     "execution_count": 7
    }
   ],
   "source": [
    "pois_gdf.count()"
   ]
  },
  {
   "cell_type": "code",
   "execution_count": 8,
   "metadata": {},
   "outputs": [
    {
     "output_type": "execute_result",
     "data": {
      "text/plain": [
       "<Geographic 2D CRS: EPSG:4326>\n",
       "Name: WGS 84\n",
       "Axis Info [ellipsoidal]:\n",
       "- Lat[north]: Geodetic latitude (degree)\n",
       "- Lon[east]: Geodetic longitude (degree)\n",
       "Area of Use:\n",
       "- name: World\n",
       "- bounds: (-180.0, -90.0, 180.0, 90.0)\n",
       "Datum: World Geodetic System 1984\n",
       "- Ellipsoid: WGS 84\n",
       "- Prime Meridian: Greenwich"
      ]
     },
     "metadata": {},
     "execution_count": 8
    }
   ],
   "source": [
    "# Set the Coordinate reference system\n",
    "pois_gdf = pois_gdf.set_crs(\"EPSG:4326\")\n",
    "pois_gdf.crs"
   ]
  },
  {
   "cell_type": "code",
   "execution_count": 9,
   "metadata": {},
   "outputs": [
    {
     "output_type": "execute_result",
     "data": {
      "text/plain": [
       "Unnamed: 0      0\n",
       "name            0\n",
       "address         0\n",
       "phone_number    0\n",
       "category        0\n",
       "organization    0\n",
       "lat             0\n",
       "lon             0\n",
       "commune_name    0\n",
       "wilaya_name     0\n",
       "type_name       0\n",
       "type_id         0\n",
       "to_check        0\n",
       "code_wil        0\n",
       "nom_wil         0\n",
       "geometry_y      0\n",
       "centroid        0\n",
       "geometry        0\n",
       "dtype: int64"
      ]
     },
     "metadata": {},
     "execution_count": 9
    }
   ],
   "source": [
    "# Check for rows with no coordiantes\n",
    "no_coords_gdf = pois_gdf[(pois_gdf['lat'].isnull() | pois_gdf['lat'].isnull())]\n",
    "\n",
    "# Merge with Wialyas DataFrame and set geometry to centroids\n",
    "# The merge may be done either with Wilayas code or wilayas names   \n",
    "no_coords_gdf = no_coords_gdf.merge(wilayas_gdf, left_on='code_wil', right_on='code_wil', how='left')\n",
    "no_coords_gdf['geometry'] = no_coords_gdf['centroid']\n",
    "no_coords_gdf['to_check'] = True\n",
    "\n",
    "with_coords_gdf = no_coords_gdf.drop(columns=['geometry_x'], axis=1)\n",
    "\n",
    "with_coords_gdf.count() "
   ]
  },
  {
   "cell_type": "code",
   "execution_count": 10,
   "metadata": {},
   "outputs": [
    {
     "output_type": "execute_result",
     "data": {
      "text/plain": [
       "Unnamed: 0      486\n",
       "name            486\n",
       "address         486\n",
       "phone_number     54\n",
       "category        486\n",
       "organization    486\n",
       "lat             486\n",
       "lon             486\n",
       "commune_name    486\n",
       "wilaya_name     486\n",
       "type_name       486\n",
       "type_id         486\n",
       "code_wil        486\n",
       "to_check        486\n",
       "geometry        486\n",
       "nom_wil         486\n",
       "geometry_y      486\n",
       "centroid        486\n",
       "dtype: int64"
      ]
     },
     "metadata": {},
     "execution_count": 10
    }
   ],
   "source": [
    "# Update the Targeted DataFrame by adding Wilayas geometries and centroids \n",
    "pois_gdf = pois_gdf[(pois_gdf['lat'].notnull() & pois_gdf['lat'].notnull())]\n",
    "\n",
    "# Merge with Wialyas DataFrame and set geometry to centroids\n",
    "# The merge may be done either with Wilayas code or wilayas names   \n",
    "pois_gdf = pois_gdf.merge(wilayas_gdf, left_on='code_wil', right_on='code_wil', how='left')\n",
    "pois_gdf.rename(columns={\"geometry_x\": \"geometry\"}, inplace=True)\n",
    "pois_gdf.count()"
   ]
  },
  {
   "cell_type": "code",
   "execution_count": 11,
   "metadata": {},
   "outputs": [
    {
     "output_type": "execute_result",
     "data": {
      "text/plain": [
       "Unnamed: 0      486\n",
       "name            486\n",
       "address         486\n",
       "phone_number     54\n",
       "category        486\n",
       "organization    486\n",
       "lat             486\n",
       "lon             486\n",
       "commune_name    486\n",
       "wilaya_name     486\n",
       "type_name       486\n",
       "type_id         486\n",
       "code_wil        486\n",
       "to_check        486\n",
       "geometry        486\n",
       "geometry_y      486\n",
       "dtype: int64"
      ]
     },
     "metadata": {},
     "execution_count": 11
    }
   ],
   "source": [
    "# Concat the Targeted DataFrame with rows without coordinates and approximated with Wilayas centroids \n",
    "pois_gdf = pd.concat([pois_gdf, with_coords_gdf])\n",
    "\n",
    "# Drop unecessary columns\n",
    "pois_gdf = pois_gdf.drop(columns=['centroid', 'nom_wil'], axis=1)\n",
    "\n",
    "pois_gdf[(pois_gdf['lat'].isnull() | pois_gdf['lon'].isnull())]\n",
    "pois_gdf.count()"
   ]
  },
  {
   "cell_type": "code",
   "execution_count": 12,
   "metadata": {},
   "outputs": [
    {
     "output_type": "execute_result",
     "data": {
      "text/plain": [
       "   Unnamed: 0        name                                         address  \\\n",
       "0         380  CCLS ADRAR                                      CCLS ADRAR   \n",
       "1         408  CCLS TENES  Station Ouled Farres RN 19 centre Ouled Fares    \n",
       "2         410  CCLS TENES        Abou El Hassen Cite Abou  Abou El Hassen   \n",
       "3         407  CCLS TENES          Station Oued Sly  Cité Abdeli Oued Sly   \n",
       "4         409  CCLS TENES           Dock Métal Chlef  Route d'Alger Chlef   \n",
       "\n",
       "  phone_number category organization        lat       lon    commune_name  \\\n",
       "0          NaN       pv         OAIC  27.897786 -0.290856           ADRAR   \n",
       "1          NaN       pv         OAIC  36.226154  1.234580     OULED FARES   \n",
       "2          NaN       pv         OAIC  35.692364  4.533764  ABOU EL HASSEN   \n",
       "3          NaN       pv         OAIC  36.106413  1.194841        OUED SLY   \n",
       "4          NaN       pv         OAIC  36.175738  1.354213           CHLEF   \n",
       "\n",
       "  wilaya_name     type_name  type_id  code_wil  to_check  \\\n",
       "0       ADRAR  Légumes secs        5         1     False   \n",
       "1       CHLEF  Légumes secs        5         2     False   \n",
       "2       CHLEF  Légumes secs        5         2     False   \n",
       "3       CHLEF  Légumes secs        5         2     False   \n",
       "4       CHLEF  Légumes secs        5         2     False   \n",
       "\n",
       "                    geometry  \\\n",
       "0  POINT (-0.29086 27.89779)   \n",
       "1   POINT (1.23458 36.22615)   \n",
       "2   POINT (4.53376 35.69236)   \n",
       "3   POINT (1.19484 36.10641)   \n",
       "4   POINT (1.35421 36.17574)   \n",
       "\n",
       "                                          geometry_y  \n",
       "0  MULTIPOLYGON (((1.33461 20.72282, 1.32667 20.7...  \n",
       "1  MULTIPOLYGON (((1.55326 36.02990, 1.55325 36.0...  \n",
       "2  MULTIPOLYGON (((1.55326 36.02990, 1.55325 36.0...  \n",
       "3  MULTIPOLYGON (((1.55326 36.02990, 1.55325 36.0...  \n",
       "4  MULTIPOLYGON (((1.55326 36.02990, 1.55325 36.0...  "
      ],
      "text/html": "<div>\n<style scoped>\n    .dataframe tbody tr th:only-of-type {\n        vertical-align: middle;\n    }\n\n    .dataframe tbody tr th {\n        vertical-align: top;\n    }\n\n    .dataframe thead th {\n        text-align: right;\n    }\n</style>\n<table border=\"1\" class=\"dataframe\">\n  <thead>\n    <tr style=\"text-align: right;\">\n      <th></th>\n      <th>Unnamed: 0</th>\n      <th>name</th>\n      <th>address</th>\n      <th>phone_number</th>\n      <th>category</th>\n      <th>organization</th>\n      <th>lat</th>\n      <th>lon</th>\n      <th>commune_name</th>\n      <th>wilaya_name</th>\n      <th>type_name</th>\n      <th>type_id</th>\n      <th>code_wil</th>\n      <th>to_check</th>\n      <th>geometry</th>\n      <th>geometry_y</th>\n    </tr>\n  </thead>\n  <tbody>\n    <tr>\n      <th>0</th>\n      <td>380</td>\n      <td>CCLS ADRAR</td>\n      <td>CCLS ADRAR</td>\n      <td>NaN</td>\n      <td>pv</td>\n      <td>OAIC</td>\n      <td>27.897786</td>\n      <td>-0.290856</td>\n      <td>ADRAR</td>\n      <td>ADRAR</td>\n      <td>Légumes secs</td>\n      <td>5</td>\n      <td>1</td>\n      <td>False</td>\n      <td>POINT (-0.29086 27.89779)</td>\n      <td>MULTIPOLYGON (((1.33461 20.72282, 1.32667 20.7...</td>\n    </tr>\n    <tr>\n      <th>1</th>\n      <td>408</td>\n      <td>CCLS TENES</td>\n      <td>Station Ouled Farres RN 19 centre Ouled Fares</td>\n      <td>NaN</td>\n      <td>pv</td>\n      <td>OAIC</td>\n      <td>36.226154</td>\n      <td>1.234580</td>\n      <td>OULED FARES</td>\n      <td>CHLEF</td>\n      <td>Légumes secs</td>\n      <td>5</td>\n      <td>2</td>\n      <td>False</td>\n      <td>POINT (1.23458 36.22615)</td>\n      <td>MULTIPOLYGON (((1.55326 36.02990, 1.55325 36.0...</td>\n    </tr>\n    <tr>\n      <th>2</th>\n      <td>410</td>\n      <td>CCLS TENES</td>\n      <td>Abou El Hassen Cite Abou  Abou El Hassen</td>\n      <td>NaN</td>\n      <td>pv</td>\n      <td>OAIC</td>\n      <td>35.692364</td>\n      <td>4.533764</td>\n      <td>ABOU EL HASSEN</td>\n      <td>CHLEF</td>\n      <td>Légumes secs</td>\n      <td>5</td>\n      <td>2</td>\n      <td>False</td>\n      <td>POINT (4.53376 35.69236)</td>\n      <td>MULTIPOLYGON (((1.55326 36.02990, 1.55325 36.0...</td>\n    </tr>\n    <tr>\n      <th>3</th>\n      <td>407</td>\n      <td>CCLS TENES</td>\n      <td>Station Oued Sly  Cité Abdeli Oued Sly</td>\n      <td>NaN</td>\n      <td>pv</td>\n      <td>OAIC</td>\n      <td>36.106413</td>\n      <td>1.194841</td>\n      <td>OUED SLY</td>\n      <td>CHLEF</td>\n      <td>Légumes secs</td>\n      <td>5</td>\n      <td>2</td>\n      <td>False</td>\n      <td>POINT (1.19484 36.10641)</td>\n      <td>MULTIPOLYGON (((1.55326 36.02990, 1.55325 36.0...</td>\n    </tr>\n    <tr>\n      <th>4</th>\n      <td>409</td>\n      <td>CCLS TENES</td>\n      <td>Dock Métal Chlef  Route d'Alger Chlef</td>\n      <td>NaN</td>\n      <td>pv</td>\n      <td>OAIC</td>\n      <td>36.175738</td>\n      <td>1.354213</td>\n      <td>CHLEF</td>\n      <td>CHLEF</td>\n      <td>Légumes secs</td>\n      <td>5</td>\n      <td>2</td>\n      <td>False</td>\n      <td>POINT (1.35421 36.17574)</td>\n      <td>MULTIPOLYGON (((1.55326 36.02990, 1.55325 36.0...</td>\n    </tr>\n  </tbody>\n</table>\n</div>"
     },
     "metadata": {},
     "execution_count": 12
    }
   ],
   "source": [
    "# Sort the DataFrame by code (Wilaya number) and reset the index\n",
    "pois_gdf = pois_gdf.sort_values(by=['code_wil'],ignore_index=True)\n",
    "pois_gdf.reset_index(drop=True)\n",
    "pois_gdf.head()"
   ]
  },
  {
   "cell_type": "code",
   "execution_count": 13,
   "metadata": {
    "tags": []
   },
   "outputs": [
    {
     "output_type": "execute_result",
     "data": {
      "text/plain": [
       "     Unnamed: 0                                name  \\\n",
       "2           410                          CCLS TENES   \n",
       "94           42                          OUED DJER    \n",
       "110         379                    LAITERIE NUMIDIA   \n",
       "129         147                        SOUK RAMADAN   \n",
       "197         375         EAC 5 BOURAADA (2ème point)   \n",
       "212         374                     EAC 5 BOURAADA    \n",
       "227           2  Point de vente kaous SPA TAHAGAVIC   \n",
       "317          11                PV 02 UPC BENBOULAID   \n",
       "325         359                    LAITERIE NUMIDIA   \n",
       "343         247                 LAITERIELE LITTORAL   \n",
       "353         429                        ccls kascara   \n",
       "\n",
       "                                      address   phone_number category  \\\n",
       "2    Abou El Hassen Cite Abou  Abou El Hassen            NaN       pv   \n",
       "94           ROUTE NATIONAL Num 04 OUED DJER    0782 466 656       pv   \n",
       "110                                 Chef Lieu            NaN       pv   \n",
       "129                   Pose Num 10 El -Hamadia      035710168       pv   \n",
       "197               EAC 5 BOURAADA (2ème point)            NaN       pv   \n",
       "212                           EAC 5 BOURAADA             NaN       pv   \n",
       "227               cité stade Commune de Kaous  0661 33 60 29       pv   \n",
       "317      VSA Mostagha benboulaid Ouad Seguene  0676 64 44 02       pv   \n",
       "325                      Centre ville (Jijel)            NaN       pv   \n",
       "343           Site de la laiterie Salamandre             NaN       pv   \n",
       "353   RUE SLATNA MARCHE DES FRUITS ET LEGUMES            NaN       pv   \n",
       "\n",
       "    organization        lat       lon    commune_name  wilaya_name  \\\n",
       "2           OAIC  35.692364  4.533764  ABOU EL HASSEN        CHLEF   \n",
       "94       AGROLOG  36.419722  2.396389        OUEDDJER        BLIDA   \n",
       "110      GIPLAIT  36.407832  8.112700         TEBESSA      TEBESSA   \n",
       "129          CNA  35.977007  4.748635         HAMADIA       TIARET   \n",
       "197          CNA  36.763618  3.368104         REGHAIA        ALGER   \n",
       "212          CNA  36.763618  3.368104         REGHAIA        ALGER   \n",
       "227      AGROLOG  36.377426  5.814824           KAOUS        JIJEL   \n",
       "317      AGROLOG  36.222812  6.517688       AIN SMARA  CONSTANTINE   \n",
       "325      GIPLAIT  36.810630  5.762748     CONSTANTINE  CONSTANTINE   \n",
       "343      GIPLAIT  35.100000  0.069000      MOSTAGANEM   MOSTAGANEM   \n",
       "353         OAIC  35.803411  0.047463     BOU HANIFIA      MASCARA   \n",
       "\n",
       "             type_name  type_id  code_wil  to_check                  geometry  \\\n",
       "2         Légumes secs        5         2     False  POINT (4.53376 35.69236)   \n",
       "94             Viandes        1         9     False  POINT (2.39639 36.41972)   \n",
       "110  Produits laitiers        3        12     False  POINT (8.11270 36.40783)   \n",
       "129  Fruits et légumes        2        14     False  POINT (4.74863 35.97701)   \n",
       "197  Fruits et légumes        2        16     False  POINT (3.36810 36.76362)   \n",
       "212  Fruits et légumes        2        16     False  POINT (3.36810 36.76362)   \n",
       "227            Viandes        1        18     False  POINT (5.81482 36.37743)   \n",
       "317            Viandes        1        25     False  POINT (6.51769 36.22281)   \n",
       "325  Produits laitiers        3        25     False  POINT (5.76275 36.81063)   \n",
       "343  Produits laitiers        3        27     False  POINT (0.06900 35.10000)   \n",
       "353       Légumes secs        5        29     False  POINT (0.04746 35.80341)   \n",
       "\n",
       "                                            geometry_y  coords_in_wil  \n",
       "2    MULTIPOLYGON (((1.55326 36.02990, 1.55325 36.0...          False  \n",
       "94   MULTIPOLYGON (((2.57442 36.37632, 2.57435 36.3...          False  \n",
       "110  MULTIPOLYGON (((7.36037 34.29662, 7.36034 34.2...          False  \n",
       "129  MULTIPOLYGON (((0.81448 34.61685, 0.81329 34.6...          False  \n",
       "197  MULTIPOLYGON (((2.95544 36.61091, 2.95366 36.6...          False  \n",
       "212  MULTIPOLYGON (((2.95544 36.61091, 2.95366 36.6...          False  \n",
       "227  MULTIPOLYGON (((5.50709 36.59502, 5.50652 36.5...          False  \n",
       "317  MULTIPOLYGON (((6.53679 36.17123, 6.53731 36.1...          False  \n",
       "325  MULTIPOLYGON (((6.53679 36.17123, 6.53731 36.1...          False  \n",
       "343  MULTIPOLYGON (((0.01588 35.74168, 0.01562 35.7...          False  \n",
       "353  MULTIPOLYGON (((0.15620 35.07143, 0.15508 35.0...          False  "
      ],
      "text/html": "<div>\n<style scoped>\n    .dataframe tbody tr th:only-of-type {\n        vertical-align: middle;\n    }\n\n    .dataframe tbody tr th {\n        vertical-align: top;\n    }\n\n    .dataframe thead th {\n        text-align: right;\n    }\n</style>\n<table border=\"1\" class=\"dataframe\">\n  <thead>\n    <tr style=\"text-align: right;\">\n      <th></th>\n      <th>Unnamed: 0</th>\n      <th>name</th>\n      <th>address</th>\n      <th>phone_number</th>\n      <th>category</th>\n      <th>organization</th>\n      <th>lat</th>\n      <th>lon</th>\n      <th>commune_name</th>\n      <th>wilaya_name</th>\n      <th>type_name</th>\n      <th>type_id</th>\n      <th>code_wil</th>\n      <th>to_check</th>\n      <th>geometry</th>\n      <th>geometry_y</th>\n      <th>coords_in_wil</th>\n    </tr>\n  </thead>\n  <tbody>\n    <tr>\n      <th>2</th>\n      <td>410</td>\n      <td>CCLS TENES</td>\n      <td>Abou El Hassen Cite Abou  Abou El Hassen</td>\n      <td>NaN</td>\n      <td>pv</td>\n      <td>OAIC</td>\n      <td>35.692364</td>\n      <td>4.533764</td>\n      <td>ABOU EL HASSEN</td>\n      <td>CHLEF</td>\n      <td>Légumes secs</td>\n      <td>5</td>\n      <td>2</td>\n      <td>False</td>\n      <td>POINT (4.53376 35.69236)</td>\n      <td>MULTIPOLYGON (((1.55326 36.02990, 1.55325 36.0...</td>\n      <td>False</td>\n    </tr>\n    <tr>\n      <th>94</th>\n      <td>42</td>\n      <td>OUED DJER</td>\n      <td>ROUTE NATIONAL Num 04 OUED DJER</td>\n      <td>0782 466 656</td>\n      <td>pv</td>\n      <td>AGROLOG</td>\n      <td>36.419722</td>\n      <td>2.396389</td>\n      <td>OUEDDJER</td>\n      <td>BLIDA</td>\n      <td>Viandes</td>\n      <td>1</td>\n      <td>9</td>\n      <td>False</td>\n      <td>POINT (2.39639 36.41972)</td>\n      <td>MULTIPOLYGON (((2.57442 36.37632, 2.57435 36.3...</td>\n      <td>False</td>\n    </tr>\n    <tr>\n      <th>110</th>\n      <td>379</td>\n      <td>LAITERIE NUMIDIA</td>\n      <td>Chef Lieu</td>\n      <td>NaN</td>\n      <td>pv</td>\n      <td>GIPLAIT</td>\n      <td>36.407832</td>\n      <td>8.112700</td>\n      <td>TEBESSA</td>\n      <td>TEBESSA</td>\n      <td>Produits laitiers</td>\n      <td>3</td>\n      <td>12</td>\n      <td>False</td>\n      <td>POINT (8.11270 36.40783)</td>\n      <td>MULTIPOLYGON (((7.36037 34.29662, 7.36034 34.2...</td>\n      <td>False</td>\n    </tr>\n    <tr>\n      <th>129</th>\n      <td>147</td>\n      <td>SOUK RAMADAN</td>\n      <td>Pose Num 10 El -Hamadia</td>\n      <td>035710168</td>\n      <td>pv</td>\n      <td>CNA</td>\n      <td>35.977007</td>\n      <td>4.748635</td>\n      <td>HAMADIA</td>\n      <td>TIARET</td>\n      <td>Fruits et légumes</td>\n      <td>2</td>\n      <td>14</td>\n      <td>False</td>\n      <td>POINT (4.74863 35.97701)</td>\n      <td>MULTIPOLYGON (((0.81448 34.61685, 0.81329 34.6...</td>\n      <td>False</td>\n    </tr>\n    <tr>\n      <th>197</th>\n      <td>375</td>\n      <td>EAC 5 BOURAADA (2ème point)</td>\n      <td>EAC 5 BOURAADA (2ème point)</td>\n      <td>NaN</td>\n      <td>pv</td>\n      <td>CNA</td>\n      <td>36.763618</td>\n      <td>3.368104</td>\n      <td>REGHAIA</td>\n      <td>ALGER</td>\n      <td>Fruits et légumes</td>\n      <td>2</td>\n      <td>16</td>\n      <td>False</td>\n      <td>POINT (3.36810 36.76362)</td>\n      <td>MULTIPOLYGON (((2.95544 36.61091, 2.95366 36.6...</td>\n      <td>False</td>\n    </tr>\n    <tr>\n      <th>212</th>\n      <td>374</td>\n      <td>EAC 5 BOURAADA</td>\n      <td>EAC 5 BOURAADA</td>\n      <td>NaN</td>\n      <td>pv</td>\n      <td>CNA</td>\n      <td>36.763618</td>\n      <td>3.368104</td>\n      <td>REGHAIA</td>\n      <td>ALGER</td>\n      <td>Fruits et légumes</td>\n      <td>2</td>\n      <td>16</td>\n      <td>False</td>\n      <td>POINT (3.36810 36.76362)</td>\n      <td>MULTIPOLYGON (((2.95544 36.61091, 2.95366 36.6...</td>\n      <td>False</td>\n    </tr>\n    <tr>\n      <th>227</th>\n      <td>2</td>\n      <td>Point de vente kaous SPA TAHAGAVIC</td>\n      <td>cité stade Commune de Kaous</td>\n      <td>0661 33 60 29</td>\n      <td>pv</td>\n      <td>AGROLOG</td>\n      <td>36.377426</td>\n      <td>5.814824</td>\n      <td>KAOUS</td>\n      <td>JIJEL</td>\n      <td>Viandes</td>\n      <td>1</td>\n      <td>18</td>\n      <td>False</td>\n      <td>POINT (5.81482 36.37743)</td>\n      <td>MULTIPOLYGON (((5.50709 36.59502, 5.50652 36.5...</td>\n      <td>False</td>\n    </tr>\n    <tr>\n      <th>317</th>\n      <td>11</td>\n      <td>PV 02 UPC BENBOULAID</td>\n      <td>VSA Mostagha benboulaid Ouad Seguene</td>\n      <td>0676 64 44 02</td>\n      <td>pv</td>\n      <td>AGROLOG</td>\n      <td>36.222812</td>\n      <td>6.517688</td>\n      <td>AIN SMARA</td>\n      <td>CONSTANTINE</td>\n      <td>Viandes</td>\n      <td>1</td>\n      <td>25</td>\n      <td>False</td>\n      <td>POINT (6.51769 36.22281)</td>\n      <td>MULTIPOLYGON (((6.53679 36.17123, 6.53731 36.1...</td>\n      <td>False</td>\n    </tr>\n    <tr>\n      <th>325</th>\n      <td>359</td>\n      <td>LAITERIE NUMIDIA</td>\n      <td>Centre ville (Jijel)</td>\n      <td>NaN</td>\n      <td>pv</td>\n      <td>GIPLAIT</td>\n      <td>36.810630</td>\n      <td>5.762748</td>\n      <td>CONSTANTINE</td>\n      <td>CONSTANTINE</td>\n      <td>Produits laitiers</td>\n      <td>3</td>\n      <td>25</td>\n      <td>False</td>\n      <td>POINT (5.76275 36.81063)</td>\n      <td>MULTIPOLYGON (((6.53679 36.17123, 6.53731 36.1...</td>\n      <td>False</td>\n    </tr>\n    <tr>\n      <th>343</th>\n      <td>247</td>\n      <td>LAITERIELE LITTORAL</td>\n      <td>Site de la laiterie Salamandre</td>\n      <td>NaN</td>\n      <td>pv</td>\n      <td>GIPLAIT</td>\n      <td>35.100000</td>\n      <td>0.069000</td>\n      <td>MOSTAGANEM</td>\n      <td>MOSTAGANEM</td>\n      <td>Produits laitiers</td>\n      <td>3</td>\n      <td>27</td>\n      <td>False</td>\n      <td>POINT (0.06900 35.10000)</td>\n      <td>MULTIPOLYGON (((0.01588 35.74168, 0.01562 35.7...</td>\n      <td>False</td>\n    </tr>\n    <tr>\n      <th>353</th>\n      <td>429</td>\n      <td>ccls kascara</td>\n      <td>RUE SLATNA MARCHE DES FRUITS ET LEGUMES</td>\n      <td>NaN</td>\n      <td>pv</td>\n      <td>OAIC</td>\n      <td>35.803411</td>\n      <td>0.047463</td>\n      <td>BOU HANIFIA</td>\n      <td>MASCARA</td>\n      <td>Légumes secs</td>\n      <td>5</td>\n      <td>29</td>\n      <td>False</td>\n      <td>POINT (0.04746 35.80341)</td>\n      <td>MULTIPOLYGON (((0.15620 35.07143, 0.15508 35.0...</td>\n      <td>False</td>\n    </tr>\n  </tbody>\n</table>\n</div>"
     },
     "metadata": {},
     "execution_count": 13
    }
   ],
   "source": [
    "# Check if coordinates are within Wilayas polygons\n",
    "pois_gdf['coords_in_wil'] = [pois_gdf.geometry[i].within(pois_gdf.geometry_y[i]) for i in range(pois_gdf.geometry.count())] \n",
    "pois_gdf[pois_gdf.coords_in_wil == False]"
   ]
  },
  {
   "cell_type": "code",
   "execution_count": 14,
   "metadata": {},
   "outputs": [
    {
     "output_type": "execute_result",
     "data": {
      "text/plain": [
       "     Unnamed: 0                                name  \\\n",
       "2           410                          CCLS TENES   \n",
       "94           42                          OUED DJER    \n",
       "110         379                    LAITERIE NUMIDIA   \n",
       "129         147                        SOUK RAMADAN   \n",
       "197         375         EAC 5 BOURAADA (2ème point)   \n",
       "212         374                     EAC 5 BOURAADA    \n",
       "227           2  Point de vente kaous SPA TAHAGAVIC   \n",
       "317          11                PV 02 UPC BENBOULAID   \n",
       "325         359                    LAITERIE NUMIDIA   \n",
       "343         247                 LAITERIELE LITTORAL   \n",
       "353         429                        ccls kascara   \n",
       "\n",
       "                                      address   phone_number category  \\\n",
       "2    Abou El Hassen Cite Abou  Abou El Hassen            NaN       pv   \n",
       "94           ROUTE NATIONAL Num 04 OUED DJER    0782 466 656       pv   \n",
       "110                                 Chef Lieu            NaN       pv   \n",
       "129                   Pose Num 10 El -Hamadia      035710168       pv   \n",
       "197               EAC 5 BOURAADA (2ème point)            NaN       pv   \n",
       "212                           EAC 5 BOURAADA             NaN       pv   \n",
       "227               cité stade Commune de Kaous  0661 33 60 29       pv   \n",
       "317      VSA Mostagha benboulaid Ouad Seguene  0676 64 44 02       pv   \n",
       "325                      Centre ville (Jijel)            NaN       pv   \n",
       "343           Site de la laiterie Salamandre             NaN       pv   \n",
       "353   RUE SLATNA MARCHE DES FRUITS ET LEGUMES            NaN       pv   \n",
       "\n",
       "    organization        lat       lon    commune_name  wilaya_name  \\\n",
       "2           OAIC  35.692364  4.533764  ABOU EL HASSEN        CHLEF   \n",
       "94       AGROLOG  36.419722  2.396389        OUEDDJER        BLIDA   \n",
       "110      GIPLAIT  36.407832  8.112700         TEBESSA      TEBESSA   \n",
       "129          CNA  35.977007  4.748635         HAMADIA       TIARET   \n",
       "197          CNA  36.763618  3.368104         REGHAIA        ALGER   \n",
       "212          CNA  36.763618  3.368104         REGHAIA        ALGER   \n",
       "227      AGROLOG  36.377426  5.814824           KAOUS        JIJEL   \n",
       "317      AGROLOG  36.222812  6.517688       AIN SMARA  CONSTANTINE   \n",
       "325      GIPLAIT  36.810630  5.762748     CONSTANTINE  CONSTANTINE   \n",
       "343      GIPLAIT  35.100000  0.069000      MOSTAGANEM   MOSTAGANEM   \n",
       "353         OAIC  35.803411  0.047463     BOU HANIFIA      MASCARA   \n",
       "\n",
       "             type_name  type_id  code_wil  to_check                  geometry  \n",
       "2         Légumes secs        5         2      True  POINT (4.53376 35.69236)  \n",
       "94             Viandes        1         9      True  POINT (2.39639 36.41972)  \n",
       "110  Produits laitiers        3        12      True  POINT (8.11270 36.40783)  \n",
       "129  Fruits et légumes        2        14      True  POINT (4.74863 35.97701)  \n",
       "197  Fruits et légumes        2        16      True  POINT (3.36810 36.76362)  \n",
       "212  Fruits et légumes        2        16      True  POINT (3.36810 36.76362)  \n",
       "227            Viandes        1        18      True  POINT (5.81482 36.37743)  \n",
       "317            Viandes        1        25      True  POINT (6.51769 36.22281)  \n",
       "325  Produits laitiers        3        25      True  POINT (5.76275 36.81063)  \n",
       "343  Produits laitiers        3        27      True  POINT (0.06900 35.10000)  \n",
       "353       Légumes secs        5        29      True  POINT (0.04746 35.80341)  "
      ],
      "text/html": "<div>\n<style scoped>\n    .dataframe tbody tr th:only-of-type {\n        vertical-align: middle;\n    }\n\n    .dataframe tbody tr th {\n        vertical-align: top;\n    }\n\n    .dataframe thead th {\n        text-align: right;\n    }\n</style>\n<table border=\"1\" class=\"dataframe\">\n  <thead>\n    <tr style=\"text-align: right;\">\n      <th></th>\n      <th>Unnamed: 0</th>\n      <th>name</th>\n      <th>address</th>\n      <th>phone_number</th>\n      <th>category</th>\n      <th>organization</th>\n      <th>lat</th>\n      <th>lon</th>\n      <th>commune_name</th>\n      <th>wilaya_name</th>\n      <th>type_name</th>\n      <th>type_id</th>\n      <th>code_wil</th>\n      <th>to_check</th>\n      <th>geometry</th>\n    </tr>\n  </thead>\n  <tbody>\n    <tr>\n      <th>2</th>\n      <td>410</td>\n      <td>CCLS TENES</td>\n      <td>Abou El Hassen Cite Abou  Abou El Hassen</td>\n      <td>NaN</td>\n      <td>pv</td>\n      <td>OAIC</td>\n      <td>35.692364</td>\n      <td>4.533764</td>\n      <td>ABOU EL HASSEN</td>\n      <td>CHLEF</td>\n      <td>Légumes secs</td>\n      <td>5</td>\n      <td>2</td>\n      <td>True</td>\n      <td>POINT (4.53376 35.69236)</td>\n    </tr>\n    <tr>\n      <th>94</th>\n      <td>42</td>\n      <td>OUED DJER</td>\n      <td>ROUTE NATIONAL Num 04 OUED DJER</td>\n      <td>0782 466 656</td>\n      <td>pv</td>\n      <td>AGROLOG</td>\n      <td>36.419722</td>\n      <td>2.396389</td>\n      <td>OUEDDJER</td>\n      <td>BLIDA</td>\n      <td>Viandes</td>\n      <td>1</td>\n      <td>9</td>\n      <td>True</td>\n      <td>POINT (2.39639 36.41972)</td>\n    </tr>\n    <tr>\n      <th>110</th>\n      <td>379</td>\n      <td>LAITERIE NUMIDIA</td>\n      <td>Chef Lieu</td>\n      <td>NaN</td>\n      <td>pv</td>\n      <td>GIPLAIT</td>\n      <td>36.407832</td>\n      <td>8.112700</td>\n      <td>TEBESSA</td>\n      <td>TEBESSA</td>\n      <td>Produits laitiers</td>\n      <td>3</td>\n      <td>12</td>\n      <td>True</td>\n      <td>POINT (8.11270 36.40783)</td>\n    </tr>\n    <tr>\n      <th>129</th>\n      <td>147</td>\n      <td>SOUK RAMADAN</td>\n      <td>Pose Num 10 El -Hamadia</td>\n      <td>035710168</td>\n      <td>pv</td>\n      <td>CNA</td>\n      <td>35.977007</td>\n      <td>4.748635</td>\n      <td>HAMADIA</td>\n      <td>TIARET</td>\n      <td>Fruits et légumes</td>\n      <td>2</td>\n      <td>14</td>\n      <td>True</td>\n      <td>POINT (4.74863 35.97701)</td>\n    </tr>\n    <tr>\n      <th>197</th>\n      <td>375</td>\n      <td>EAC 5 BOURAADA (2ème point)</td>\n      <td>EAC 5 BOURAADA (2ème point)</td>\n      <td>NaN</td>\n      <td>pv</td>\n      <td>CNA</td>\n      <td>36.763618</td>\n      <td>3.368104</td>\n      <td>REGHAIA</td>\n      <td>ALGER</td>\n      <td>Fruits et légumes</td>\n      <td>2</td>\n      <td>16</td>\n      <td>True</td>\n      <td>POINT (3.36810 36.76362)</td>\n    </tr>\n    <tr>\n      <th>212</th>\n      <td>374</td>\n      <td>EAC 5 BOURAADA</td>\n      <td>EAC 5 BOURAADA</td>\n      <td>NaN</td>\n      <td>pv</td>\n      <td>CNA</td>\n      <td>36.763618</td>\n      <td>3.368104</td>\n      <td>REGHAIA</td>\n      <td>ALGER</td>\n      <td>Fruits et légumes</td>\n      <td>2</td>\n      <td>16</td>\n      <td>True</td>\n      <td>POINT (3.36810 36.76362)</td>\n    </tr>\n    <tr>\n      <th>227</th>\n      <td>2</td>\n      <td>Point de vente kaous SPA TAHAGAVIC</td>\n      <td>cité stade Commune de Kaous</td>\n      <td>0661 33 60 29</td>\n      <td>pv</td>\n      <td>AGROLOG</td>\n      <td>36.377426</td>\n      <td>5.814824</td>\n      <td>KAOUS</td>\n      <td>JIJEL</td>\n      <td>Viandes</td>\n      <td>1</td>\n      <td>18</td>\n      <td>True</td>\n      <td>POINT (5.81482 36.37743)</td>\n    </tr>\n    <tr>\n      <th>317</th>\n      <td>11</td>\n      <td>PV 02 UPC BENBOULAID</td>\n      <td>VSA Mostagha benboulaid Ouad Seguene</td>\n      <td>0676 64 44 02</td>\n      <td>pv</td>\n      <td>AGROLOG</td>\n      <td>36.222812</td>\n      <td>6.517688</td>\n      <td>AIN SMARA</td>\n      <td>CONSTANTINE</td>\n      <td>Viandes</td>\n      <td>1</td>\n      <td>25</td>\n      <td>True</td>\n      <td>POINT (6.51769 36.22281)</td>\n    </tr>\n    <tr>\n      <th>325</th>\n      <td>359</td>\n      <td>LAITERIE NUMIDIA</td>\n      <td>Centre ville (Jijel)</td>\n      <td>NaN</td>\n      <td>pv</td>\n      <td>GIPLAIT</td>\n      <td>36.810630</td>\n      <td>5.762748</td>\n      <td>CONSTANTINE</td>\n      <td>CONSTANTINE</td>\n      <td>Produits laitiers</td>\n      <td>3</td>\n      <td>25</td>\n      <td>True</td>\n      <td>POINT (5.76275 36.81063)</td>\n    </tr>\n    <tr>\n      <th>343</th>\n      <td>247</td>\n      <td>LAITERIELE LITTORAL</td>\n      <td>Site de la laiterie Salamandre</td>\n      <td>NaN</td>\n      <td>pv</td>\n      <td>GIPLAIT</td>\n      <td>35.100000</td>\n      <td>0.069000</td>\n      <td>MOSTAGANEM</td>\n      <td>MOSTAGANEM</td>\n      <td>Produits laitiers</td>\n      <td>3</td>\n      <td>27</td>\n      <td>True</td>\n      <td>POINT (0.06900 35.10000)</td>\n    </tr>\n    <tr>\n      <th>353</th>\n      <td>429</td>\n      <td>ccls kascara</td>\n      <td>RUE SLATNA MARCHE DES FRUITS ET LEGUMES</td>\n      <td>NaN</td>\n      <td>pv</td>\n      <td>OAIC</td>\n      <td>35.803411</td>\n      <td>0.047463</td>\n      <td>BOU HANIFIA</td>\n      <td>MASCARA</td>\n      <td>Légumes secs</td>\n      <td>5</td>\n      <td>29</td>\n      <td>True</td>\n      <td>POINT (0.04746 35.80341)</td>\n    </tr>\n  </tbody>\n</table>\n</div>"
     },
     "metadata": {},
     "execution_count": 14
    }
   ],
   "source": [
    "# Update to_check flag to take into account points outside Wilays and without geocoding coordinates\n",
    "final_gdf = pois_gdf\n",
    "final_gdf['to_check'] = (pois_gdf['to_check'] == True) | (pois_gdf['coords_in_wil'] == False)   \n",
    "\n",
    "# Remove unecessary columns\n",
    "final_gdf = final_gdf.drop(['geometry_y', 'coords_in_wil'], axis=1)\n",
    "\n",
    "final_gdf[final_gdf.to_check == True]"
   ]
  },
  {
   "cell_type": "code",
   "execution_count": 15,
   "metadata": {},
   "outputs": [
    {
     "output_type": "execute_result",
     "data": {
      "text/plain": [
       "Unnamed: 0      486\n",
       "name            486\n",
       "address         486\n",
       "phone_number     54\n",
       "category        486\n",
       "organization    486\n",
       "lat             486\n",
       "lon             486\n",
       "commune_name    486\n",
       "wilaya_name     486\n",
       "type_name       486\n",
       "type_id         486\n",
       "code_wil        486\n",
       "to_check        486\n",
       "geometry        486\n",
       "dtype: int64"
      ]
     },
     "metadata": {},
     "execution_count": 15
    }
   ],
   "source": [
    "final_gdf.count()"
   ]
  },
  {
   "cell_type": "code",
   "execution_count": 16,
   "metadata": {},
   "outputs": [],
   "source": [
    "# Write to a GeoJSON file\n",
    "\n",
    "gpd.GeoDataFrame(final_gdf).to_file(pois_path + \"pois_checked_in_out_wilayas.geojson\", driver='GeoJSON')"
   ]
  }
 ]
}