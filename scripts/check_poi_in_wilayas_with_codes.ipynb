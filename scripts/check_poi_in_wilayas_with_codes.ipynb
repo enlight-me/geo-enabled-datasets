{
 "metadata": {
  "language_info": {
   "codemirror_mode": {
    "name": "ipython",
    "version": 3
   },
   "file_extension": ".py",
   "mimetype": "text/x-python",
   "name": "python",
   "nbconvert_exporter": "python",
   "pygments_lexer": "ipython3",
   "version": "3.8.5"
  },
  "orig_nbformat": 2,
  "kernelspec": {
   "name": "python38564bitc5dda015dcc140dba795e9b0465f9f9d",
   "display_name": "Python 3.8.5 64-bit"
  },
  "metadata": {
   "interpreter": {
    "hash": "916dbcbb3f70747c44a77c7bcd40155683ae19c65e1c03b4aa3499c5328201f1"
   }
  }
 },
 "nbformat": 4,
 "nbformat_minor": 2,
 "cells": [
  {
   "cell_type": "code",
   "execution_count": 34,
   "metadata": {},
   "outputs": [],
   "source": [
    "import pandas as pd \n",
    "import geopandas as gpd \n",
    "from shapely.geometry import Point\n",
    "import numpy as np "
   ]
  },
  {
   "cell_type": "code",
   "execution_count": 35,
   "metadata": {},
   "outputs": [
    {
     "output_type": "stream",
     "name": "stderr",
     "text": [
      "<ipython-input-35-e95edb6e38e9>:6: UserWarning: Geometry is in a geographic CRS. Results from 'centroid' are likely incorrect. Use 'GeoSeries.to_crs()' to re-project geometries to a projected CRS before this operation.\n\n  wilayas_gdf['centroid'] = wilayas_gdf['geometry'].centroid\n"
     ]
    },
    {
     "output_type": "execute_result",
     "data": {
      "text/plain": [
       "   code_wil         nom_wil  \\\n",
       "0         1           Adrar   \n",
       "1         2           Chlef   \n",
       "2         3        Laghouat   \n",
       "3         4  Oum El Bouaghi   \n",
       "4         5           Batna   \n",
       "\n",
       "                                            geometry  \\\n",
       "0  MULTIPOLYGON (((1.33461 20.72282, 1.32667 20.7...   \n",
       "1  MULTIPOLYGON (((1.55326 36.02990, 1.55325 36.0...   \n",
       "2  MULTIPOLYGON (((2.88464 32.88137, 2.87848 32.8...   \n",
       "3  MULTIPOLYGON (((7.47320 35.52005, 7.47227 35.5...   \n",
       "4  MULTIPOLYGON (((6.10102 35.05459, 6.10090 35.0...   \n",
       "\n",
       "                    centroid  \n",
       "0  POINT (-0.62174 26.01400)  \n",
       "1   POINT (1.25669 36.23826)  \n",
       "2   POINT (2.72955 33.60757)  \n",
       "3   POINT (7.06527 35.83646)  \n",
       "4   POINT (5.87455 35.41969)  "
      ],
      "text/html": "<div>\n<style scoped>\n    .dataframe tbody tr th:only-of-type {\n        vertical-align: middle;\n    }\n\n    .dataframe tbody tr th {\n        vertical-align: top;\n    }\n\n    .dataframe thead th {\n        text-align: right;\n    }\n</style>\n<table border=\"1\" class=\"dataframe\">\n  <thead>\n    <tr style=\"text-align: right;\">\n      <th></th>\n      <th>code_wil</th>\n      <th>nom_wil</th>\n      <th>geometry</th>\n      <th>centroid</th>\n    </tr>\n  </thead>\n  <tbody>\n    <tr>\n      <th>0</th>\n      <td>1</td>\n      <td>Adrar</td>\n      <td>MULTIPOLYGON (((1.33461 20.72282, 1.32667 20.7...</td>\n      <td>POINT (-0.62174 26.01400)</td>\n    </tr>\n    <tr>\n      <th>1</th>\n      <td>2</td>\n      <td>Chlef</td>\n      <td>MULTIPOLYGON (((1.55326 36.02990, 1.55325 36.0...</td>\n      <td>POINT (1.25669 36.23826)</td>\n    </tr>\n    <tr>\n      <th>2</th>\n      <td>3</td>\n      <td>Laghouat</td>\n      <td>MULTIPOLYGON (((2.88464 32.88137, 2.87848 32.8...</td>\n      <td>POINT (2.72955 33.60757)</td>\n    </tr>\n    <tr>\n      <th>3</th>\n      <td>4</td>\n      <td>Oum El Bouaghi</td>\n      <td>MULTIPOLYGON (((7.47320 35.52005, 7.47227 35.5...</td>\n      <td>POINT (7.06527 35.83646)</td>\n    </tr>\n    <tr>\n      <th>4</th>\n      <td>5</td>\n      <td>Batna</td>\n      <td>MULTIPOLYGON (((6.10102 35.05459, 6.10090 35.0...</td>\n      <td>POINT (5.87455 35.41969)</td>\n    </tr>\n  </tbody>\n</table>\n</div>"
     },
     "metadata": {},
     "execution_count": 35
    }
   ],
   "source": [
    "# Load Wilayas Features and calculate polygon centroids\n",
    "wilayas_gjson = '../dz-admin/wilayas_48.geojson'\n",
    "wilayas_gdf = gpd.read_file(wilayas_gjson)\n",
    "wilayas_gdf = wilayas_gdf[['code', 'nom', 'geometry']]\n",
    "wilayas_gdf = wilayas_gdf.rename(columns={'nom': 'nom_wil', 'code': 'code_wil'})\n",
    "wilayas_gdf['centroid'] = wilayas_gdf['geometry'].centroid\n",
    "wilayas_gdf.head()"
   ]
  },
  {
   "cell_type": "code",
   "execution_count": 36,
   "metadata": {},
   "outputs": [
    {
     "output_type": "execute_result",
     "data": {
      "text/plain": [
       "<Geographic 2D CRS: EPSG:4326>\n",
       "Name: WGS 84\n",
       "Axis Info [ellipsoidal]:\n",
       "- Lat[north]: Geodetic latitude (degree)\n",
       "- Lon[east]: Geodetic longitude (degree)\n",
       "Area of Use:\n",
       "- name: World\n",
       "- bounds: (-180.0, -90.0, 180.0, 90.0)\n",
       "Datum: World Geodetic System 1984\n",
       "- Ellipsoid: WGS 84\n",
       "- Prime Meridian: Greenwich"
      ]
     },
     "metadata": {},
     "execution_count": 36
    }
   ],
   "source": [
    "wilayas_gdf = wilayas_gdf.set_crs(\"EPSG:4326\")\n",
    "wilayas_gdf.crs"
   ]
  },
  {
   "cell_type": "code",
   "execution_count": 37,
   "metadata": {},
   "outputs": [
    {
     "output_type": "execute_result",
     "data": {
      "text/plain": [
       "   num                                               name  \\\n",
       "0    0  Ministère de l’Agriculture, du Développement R...   \n",
       "1    1                      Direction Générale des Forêts   \n",
       "2    2              Direction des Services Agricole ADRAR   \n",
       "3    3              Direction des Services Agricole Chlef   \n",
       "4    4           Direction des Services Agricole Laghouat   \n",
       "\n",
       "                                             address            tel  \\\n",
       "0              12 Boulevard Colonel Amirouche, Alger  023 50 32 38    \n",
       "1  Chemin Doudou Mokhtar, BP N° 232, Ben Aknoun, ...   023 78 58 96   \n",
       "2                                  RUE TALEB MOHAMED   049 36 48 28   \n",
       "3                       CITE BELHAMRI DJILALI  CHLEF   027 77 59 00   \n",
       "4                                             MHAFIR   029 14 54 12   \n",
       "\n",
       "            fax           website       lon        lat       acronym  \\\n",
       "0  023 50 31 17      madrp.gov.dz  3.058677  36.770581          MADR   \n",
       "1  023 78 54 56  madrp.gov.dz/dgf  3.012842  36.750640           DGF   \n",
       "2     049364811               NaN -0.281850  27.877450     DSA ADRAR   \n",
       "3  027 79 05 75               NaN  1.329005  36.161627     DSA Chlef   \n",
       "4  029 14 64 84               NaN  2.854042  33.795670  DSA Laghouat   \n",
       "\n",
       "   code_wil  to_check  \n",
       "0        16     False  \n",
       "1        16     False  \n",
       "2         1     False  \n",
       "3         2     False  \n",
       "4         3     False  "
      ],
      "text/html": "<div>\n<style scoped>\n    .dataframe tbody tr th:only-of-type {\n        vertical-align: middle;\n    }\n\n    .dataframe tbody tr th {\n        vertical-align: top;\n    }\n\n    .dataframe thead th {\n        text-align: right;\n    }\n</style>\n<table border=\"1\" class=\"dataframe\">\n  <thead>\n    <tr style=\"text-align: right;\">\n      <th></th>\n      <th>num</th>\n      <th>name</th>\n      <th>address</th>\n      <th>tel</th>\n      <th>fax</th>\n      <th>website</th>\n      <th>lon</th>\n      <th>lat</th>\n      <th>acronym</th>\n      <th>code_wil</th>\n      <th>to_check</th>\n    </tr>\n  </thead>\n  <tbody>\n    <tr>\n      <th>0</th>\n      <td>0</td>\n      <td>Ministère de l’Agriculture, du Développement R...</td>\n      <td>12 Boulevard Colonel Amirouche, Alger</td>\n      <td>023 50 32 38</td>\n      <td>023 50 31 17</td>\n      <td>madrp.gov.dz</td>\n      <td>3.058677</td>\n      <td>36.770581</td>\n      <td>MADR</td>\n      <td>16</td>\n      <td>False</td>\n    </tr>\n    <tr>\n      <th>1</th>\n      <td>1</td>\n      <td>Direction Générale des Forêts</td>\n      <td>Chemin Doudou Mokhtar, BP N° 232, Ben Aknoun, ...</td>\n      <td>023 78 58 96</td>\n      <td>023 78 54 56</td>\n      <td>madrp.gov.dz/dgf</td>\n      <td>3.012842</td>\n      <td>36.750640</td>\n      <td>DGF</td>\n      <td>16</td>\n      <td>False</td>\n    </tr>\n    <tr>\n      <th>2</th>\n      <td>2</td>\n      <td>Direction des Services Agricole ADRAR</td>\n      <td>RUE TALEB MOHAMED</td>\n      <td>049 36 48 28</td>\n      <td>049364811</td>\n      <td>NaN</td>\n      <td>-0.281850</td>\n      <td>27.877450</td>\n      <td>DSA ADRAR</td>\n      <td>1</td>\n      <td>False</td>\n    </tr>\n    <tr>\n      <th>3</th>\n      <td>3</td>\n      <td>Direction des Services Agricole Chlef</td>\n      <td>CITE BELHAMRI DJILALI  CHLEF</td>\n      <td>027 77 59 00</td>\n      <td>027 79 05 75</td>\n      <td>NaN</td>\n      <td>1.329005</td>\n      <td>36.161627</td>\n      <td>DSA Chlef</td>\n      <td>2</td>\n      <td>False</td>\n    </tr>\n    <tr>\n      <th>4</th>\n      <td>4</td>\n      <td>Direction des Services Agricole Laghouat</td>\n      <td>MHAFIR</td>\n      <td>029 14 54 12</td>\n      <td>029 14 64 84</td>\n      <td>NaN</td>\n      <td>2.854042</td>\n      <td>33.795670</td>\n      <td>DSA Laghouat</td>\n      <td>3</td>\n      <td>False</td>\n    </tr>\n  </tbody>\n</table>\n</div>"
     },
     "metadata": {},
     "execution_count": 37
    }
   ],
   "source": [
    "# Load Tagreted dataset and set to_check to False assuming all geocoded coordinates are OK \n",
    "pois_path = '../dz-datasets/agriculture/'\n",
    "pois = pd.read_csv(pois_path + 'structures_mard.csv')\n",
    "pois['to_check'] = False\n",
    "pois.head()"
   ]
  },
  {
   "cell_type": "code",
   "execution_count": 38,
   "metadata": {},
   "outputs": [
    {
     "output_type": "execute_result",
     "data": {
      "text/plain": [
       "   num                                               name  \\\n",
       "0    0  Ministère de l’Agriculture, du Développement R...   \n",
       "1    1                      Direction Générale des Forêts   \n",
       "2    2              Direction des Services Agricole ADRAR   \n",
       "3    3              Direction des Services Agricole Chlef   \n",
       "4    4           Direction des Services Agricole Laghouat   \n",
       "\n",
       "                                             address            tel  \\\n",
       "0              12 Boulevard Colonel Amirouche, Alger  023 50 32 38    \n",
       "1  Chemin Doudou Mokhtar, BP N° 232, Ben Aknoun, ...   023 78 58 96   \n",
       "2                                  RUE TALEB MOHAMED   049 36 48 28   \n",
       "3                       CITE BELHAMRI DJILALI  CHLEF   027 77 59 00   \n",
       "4                                             MHAFIR   029 14 54 12   \n",
       "\n",
       "            fax           website       lon        lat       acronym  \\\n",
       "0  023 50 31 17      madrp.gov.dz  3.058677  36.770581          MADR   \n",
       "1  023 78 54 56  madrp.gov.dz/dgf  3.012842  36.750640           DGF   \n",
       "2     049364811               NaN -0.281850  27.877450     DSA ADRAR   \n",
       "3  027 79 05 75               NaN  1.329005  36.161627     DSA Chlef   \n",
       "4  029 14 64 84               NaN  2.854042  33.795670  DSA Laghouat   \n",
       "\n",
       "   code_wil  to_check                   geometry  \n",
       "0        16     False   POINT (3.05868 36.77058)  \n",
       "1        16     False   POINT (3.01284 36.75064)  \n",
       "2         1     False  POINT (-0.28185 27.87745)  \n",
       "3         2     False   POINT (1.32900 36.16163)  \n",
       "4         3     False   POINT (2.85404 33.79567)  "
      ],
      "text/html": "<div>\n<style scoped>\n    .dataframe tbody tr th:only-of-type {\n        vertical-align: middle;\n    }\n\n    .dataframe tbody tr th {\n        vertical-align: top;\n    }\n\n    .dataframe thead th {\n        text-align: right;\n    }\n</style>\n<table border=\"1\" class=\"dataframe\">\n  <thead>\n    <tr style=\"text-align: right;\">\n      <th></th>\n      <th>num</th>\n      <th>name</th>\n      <th>address</th>\n      <th>tel</th>\n      <th>fax</th>\n      <th>website</th>\n      <th>lon</th>\n      <th>lat</th>\n      <th>acronym</th>\n      <th>code_wil</th>\n      <th>to_check</th>\n      <th>geometry</th>\n    </tr>\n  </thead>\n  <tbody>\n    <tr>\n      <th>0</th>\n      <td>0</td>\n      <td>Ministère de l’Agriculture, du Développement R...</td>\n      <td>12 Boulevard Colonel Amirouche, Alger</td>\n      <td>023 50 32 38</td>\n      <td>023 50 31 17</td>\n      <td>madrp.gov.dz</td>\n      <td>3.058677</td>\n      <td>36.770581</td>\n      <td>MADR</td>\n      <td>16</td>\n      <td>False</td>\n      <td>POINT (3.05868 36.77058)</td>\n    </tr>\n    <tr>\n      <th>1</th>\n      <td>1</td>\n      <td>Direction Générale des Forêts</td>\n      <td>Chemin Doudou Mokhtar, BP N° 232, Ben Aknoun, ...</td>\n      <td>023 78 58 96</td>\n      <td>023 78 54 56</td>\n      <td>madrp.gov.dz/dgf</td>\n      <td>3.012842</td>\n      <td>36.750640</td>\n      <td>DGF</td>\n      <td>16</td>\n      <td>False</td>\n      <td>POINT (3.01284 36.75064)</td>\n    </tr>\n    <tr>\n      <th>2</th>\n      <td>2</td>\n      <td>Direction des Services Agricole ADRAR</td>\n      <td>RUE TALEB MOHAMED</td>\n      <td>049 36 48 28</td>\n      <td>049364811</td>\n      <td>NaN</td>\n      <td>-0.281850</td>\n      <td>27.877450</td>\n      <td>DSA ADRAR</td>\n      <td>1</td>\n      <td>False</td>\n      <td>POINT (-0.28185 27.87745)</td>\n    </tr>\n    <tr>\n      <th>3</th>\n      <td>3</td>\n      <td>Direction des Services Agricole Chlef</td>\n      <td>CITE BELHAMRI DJILALI  CHLEF</td>\n      <td>027 77 59 00</td>\n      <td>027 79 05 75</td>\n      <td>NaN</td>\n      <td>1.329005</td>\n      <td>36.161627</td>\n      <td>DSA Chlef</td>\n      <td>2</td>\n      <td>False</td>\n      <td>POINT (1.32900 36.16163)</td>\n    </tr>\n    <tr>\n      <th>4</th>\n      <td>4</td>\n      <td>Direction des Services Agricole Laghouat</td>\n      <td>MHAFIR</td>\n      <td>029 14 54 12</td>\n      <td>029 14 64 84</td>\n      <td>NaN</td>\n      <td>2.854042</td>\n      <td>33.795670</td>\n      <td>DSA Laghouat</td>\n      <td>3</td>\n      <td>False</td>\n      <td>POINT (2.85404 33.79567)</td>\n    </tr>\n  </tbody>\n</table>\n</div>"
     },
     "metadata": {},
     "execution_count": 38
    }
   ],
   "source": [
    "# Convert pandas DataFrame to GeoPandas \n",
    "pois['geometry'] = pois.apply(lambda row: Point(row.lon, row.lat), axis=1)\n",
    "pois_gdf  = gpd.GeoDataFrame(pois)\n",
    "pois_gdf.head()"
   ]
  },
  {
   "cell_type": "code",
   "execution_count": 39,
   "metadata": {},
   "outputs": [
    {
     "output_type": "execute_result",
     "data": {
      "text/plain": [
       "num         207\n",
       "name        207\n",
       "address     189\n",
       "tel         196\n",
       "fax         181\n",
       "website      21\n",
       "lon         207\n",
       "lat         207\n",
       "acronym     207\n",
       "code_wil    207\n",
       "to_check    207\n",
       "geometry    207\n",
       "dtype: int64"
      ]
     },
     "metadata": {},
     "execution_count": 39
    }
   ],
   "source": [
    "pois_gdf.count()"
   ]
  },
  {
   "cell_type": "code",
   "execution_count": 40,
   "metadata": {},
   "outputs": [
    {
     "output_type": "execute_result",
     "data": {
      "text/plain": [
       "<Geographic 2D CRS: EPSG:4326>\n",
       "Name: WGS 84\n",
       "Axis Info [ellipsoidal]:\n",
       "- Lat[north]: Geodetic latitude (degree)\n",
       "- Lon[east]: Geodetic longitude (degree)\n",
       "Area of Use:\n",
       "- name: World\n",
       "- bounds: (-180.0, -90.0, 180.0, 90.0)\n",
       "Datum: World Geodetic System 1984\n",
       "- Ellipsoid: WGS 84\n",
       "- Prime Meridian: Greenwich"
      ]
     },
     "metadata": {},
     "execution_count": 40
    }
   ],
   "source": [
    "# Set the Coordinate reference system\n",
    "pois_gdf = pois_gdf.set_crs(\"EPSG:4326\")\n",
    "pois_gdf.crs"
   ]
  },
  {
   "cell_type": "code",
   "execution_count": 41,
   "metadata": {},
   "outputs": [
    {
     "output_type": "execute_result",
     "data": {
      "text/plain": [
       "num           0\n",
       "name          0\n",
       "address       0\n",
       "tel           0\n",
       "fax           0\n",
       "website       0\n",
       "lon           0\n",
       "lat           0\n",
       "acronym       0\n",
       "to_check      0\n",
       "code_wil      0\n",
       "nom_wil       0\n",
       "geometry_y    0\n",
       "centroid      0\n",
       "geometry      0\n",
       "dtype: int64"
      ]
     },
     "metadata": {},
     "execution_count": 41
    }
   ],
   "source": [
    "# Check for rows with no coordiantes\n",
    "no_coords_gdf = pois_gdf[(pois_gdf['lat'].isnull() | pois_gdf['lat'].isnull())]\n",
    "\n",
    "# Merge with Wialyas DataFrame and set geometry to centroids\n",
    "# The merge may be done either with Wilayas code or wilayas names   \n",
    "no_coords_gdf = no_coords_gdf.merge(wilayas_gdf, left_on='code_wil', right_on='code_wil', how='left')\n",
    "no_coords_gdf['geometry'] = no_coords_gdf['centroid']\n",
    "no_coords_gdf['to_check'] = True\n",
    "\n",
    "with_coords_gdf = no_coords_gdf.drop(columns=['geometry_x'], axis=1)\n",
    "\n",
    "with_coords_gdf.count() "
   ]
  },
  {
   "cell_type": "code",
   "execution_count": 42,
   "metadata": {},
   "outputs": [
    {
     "output_type": "execute_result",
     "data": {
      "text/plain": [
       "num           207\n",
       "name          207\n",
       "address       189\n",
       "tel           196\n",
       "fax           181\n",
       "website        21\n",
       "lon           207\n",
       "lat           207\n",
       "acronym       207\n",
       "code_wil      207\n",
       "to_check      207\n",
       "geometry      207\n",
       "nom_wil       207\n",
       "geometry_y    207\n",
       "centroid      207\n",
       "dtype: int64"
      ]
     },
     "metadata": {},
     "execution_count": 42
    }
   ],
   "source": [
    "# Update the Targeted DataFrame by adding Wilayas geometries and centroids \n",
    "pois_gdf = pois_gdf[(pois_gdf['lat'].notnull() & pois_gdf['lat'].notnull())]\n",
    "\n",
    "# Merge with Wialyas DataFrame and set geometry to centroids\n",
    "# The merge may be done either with Wilayas code or wilayas names   \n",
    "pois_gdf = pois_gdf.merge(wilayas_gdf, left_on='code_wil', right_on='code_wil', how='left')\n",
    "pois_gdf.rename(columns={\"geometry_x\": \"geometry\"}, inplace=True)\n",
    "pois_gdf.count()"
   ]
  },
  {
   "cell_type": "code",
   "execution_count": 43,
   "metadata": {},
   "outputs": [
    {
     "output_type": "execute_result",
     "data": {
      "text/plain": [
       "num           207\n",
       "name          207\n",
       "address       189\n",
       "tel           196\n",
       "fax           181\n",
       "website        21\n",
       "lon           207\n",
       "lat           207\n",
       "acronym       207\n",
       "code_wil      207\n",
       "to_check      207\n",
       "geometry      207\n",
       "geometry_y    207\n",
       "dtype: int64"
      ]
     },
     "metadata": {},
     "execution_count": 43
    }
   ],
   "source": [
    "# Concat the Targeted DataFrame with rows without coordinates and approximated with Wilayas centroids \n",
    "pois_gdf = pd.concat([pois_gdf, with_coords_gdf])\n",
    "\n",
    "# Drop unecessary columns\n",
    "pois_gdf = pois_gdf.drop(columns=['centroid', 'nom_wil'], axis=1)\n",
    "\n",
    "pois_gdf[(pois_gdf['lat'].isnull() | pois_gdf['lon'].isnull())]\n",
    "pois_gdf.count()"
   ]
  },
  {
   "cell_type": "code",
   "execution_count": 44,
   "metadata": {},
   "outputs": [
    {
     "output_type": "execute_result",
     "data": {
      "text/plain": [
       "   num                                               name  \\\n",
       "0  136  Commissariat au Développement de l'Agriculture...   \n",
       "1    2              Direction des Services Agricole ADRAR   \n",
       "2  115  Institut deTechnologie Moyen Agricole Spéciali...   \n",
       "3   50                      Conservation des Forêts ADRAR   \n",
       "4    3              Direction des Services Agricole Chlef   \n",
       "\n",
       "                                             address  \\\n",
       "0                                                      \n",
       "1                                  RUE TALEB MOHAMED   \n",
       "2                                                NaN   \n",
       "3  CITE OULED OUNGAL A ADRAR (ANCIEN SIEGE DE LA ...   \n",
       "4                       CITE BELHAMRI DJILALI  CHLEF   \n",
       "\n",
       "                         tel           fax website       lon        lat  \\\n",
       "0                                              NaN  0.276064  27.873386   \n",
       "1               049 36 48 28     049364811     NaN -0.281850  27.877450   \n",
       "2  049 90 49 50/049 90-49-51           NaN     NaN  0.236256  29.253941   \n",
       "3              049 36 12 32   049 36 12 34     NaN -0.287901  27.899426   \n",
       "4               027 77 59 00  027 79 05 75     NaN  1.329005  36.161627   \n",
       "\n",
       "               acronym  code_wil  to_check                   geometry  \\\n",
       "0  CDARS Antenne Adrar         1     False   POINT (0.27606 27.87339)   \n",
       "1            DSA ADRAR         1     False  POINT (-0.28185 27.87745)   \n",
       "2          ITMAS Adrar         1     False   POINT (0.23626 29.25394)   \n",
       "3             CF ADRAR         1     False  POINT (-0.28790 27.89943)   \n",
       "4            DSA Chlef         2     False   POINT (1.32900 36.16163)   \n",
       "\n",
       "                                          geometry_y  \n",
       "0  MULTIPOLYGON (((1.33461 20.72282, 1.32667 20.7...  \n",
       "1  MULTIPOLYGON (((1.33461 20.72282, 1.32667 20.7...  \n",
       "2  MULTIPOLYGON (((1.33461 20.72282, 1.32667 20.7...  \n",
       "3  MULTIPOLYGON (((1.33461 20.72282, 1.32667 20.7...  \n",
       "4  MULTIPOLYGON (((1.55326 36.02990, 1.55325 36.0...  "
      ],
      "text/html": "<div>\n<style scoped>\n    .dataframe tbody tr th:only-of-type {\n        vertical-align: middle;\n    }\n\n    .dataframe tbody tr th {\n        vertical-align: top;\n    }\n\n    .dataframe thead th {\n        text-align: right;\n    }\n</style>\n<table border=\"1\" class=\"dataframe\">\n  <thead>\n    <tr style=\"text-align: right;\">\n      <th></th>\n      <th>num</th>\n      <th>name</th>\n      <th>address</th>\n      <th>tel</th>\n      <th>fax</th>\n      <th>website</th>\n      <th>lon</th>\n      <th>lat</th>\n      <th>acronym</th>\n      <th>code_wil</th>\n      <th>to_check</th>\n      <th>geometry</th>\n      <th>geometry_y</th>\n    </tr>\n  </thead>\n  <tbody>\n    <tr>\n      <th>0</th>\n      <td>136</td>\n      <td>Commissariat au Développement de l'Agriculture...</td>\n      <td></td>\n      <td></td>\n      <td></td>\n      <td>NaN</td>\n      <td>0.276064</td>\n      <td>27.873386</td>\n      <td>CDARS Antenne Adrar</td>\n      <td>1</td>\n      <td>False</td>\n      <td>POINT (0.27606 27.87339)</td>\n      <td>MULTIPOLYGON (((1.33461 20.72282, 1.32667 20.7...</td>\n    </tr>\n    <tr>\n      <th>1</th>\n      <td>2</td>\n      <td>Direction des Services Agricole ADRAR</td>\n      <td>RUE TALEB MOHAMED</td>\n      <td>049 36 48 28</td>\n      <td>049364811</td>\n      <td>NaN</td>\n      <td>-0.281850</td>\n      <td>27.877450</td>\n      <td>DSA ADRAR</td>\n      <td>1</td>\n      <td>False</td>\n      <td>POINT (-0.28185 27.87745)</td>\n      <td>MULTIPOLYGON (((1.33461 20.72282, 1.32667 20.7...</td>\n    </tr>\n    <tr>\n      <th>2</th>\n      <td>115</td>\n      <td>Institut deTechnologie Moyen Agricole Spéciali...</td>\n      <td>NaN</td>\n      <td>049 90 49 50/049 90-49-51</td>\n      <td>NaN</td>\n      <td>NaN</td>\n      <td>0.236256</td>\n      <td>29.253941</td>\n      <td>ITMAS Adrar</td>\n      <td>1</td>\n      <td>False</td>\n      <td>POINT (0.23626 29.25394)</td>\n      <td>MULTIPOLYGON (((1.33461 20.72282, 1.32667 20.7...</td>\n    </tr>\n    <tr>\n      <th>3</th>\n      <td>50</td>\n      <td>Conservation des Forêts ADRAR</td>\n      <td>CITE OULED OUNGAL A ADRAR (ANCIEN SIEGE DE LA ...</td>\n      <td>049 36 12 32</td>\n      <td>049 36 12 34</td>\n      <td>NaN</td>\n      <td>-0.287901</td>\n      <td>27.899426</td>\n      <td>CF ADRAR</td>\n      <td>1</td>\n      <td>False</td>\n      <td>POINT (-0.28790 27.89943)</td>\n      <td>MULTIPOLYGON (((1.33461 20.72282, 1.32667 20.7...</td>\n    </tr>\n    <tr>\n      <th>4</th>\n      <td>3</td>\n      <td>Direction des Services Agricole Chlef</td>\n      <td>CITE BELHAMRI DJILALI  CHLEF</td>\n      <td>027 77 59 00</td>\n      <td>027 79 05 75</td>\n      <td>NaN</td>\n      <td>1.329005</td>\n      <td>36.161627</td>\n      <td>DSA Chlef</td>\n      <td>2</td>\n      <td>False</td>\n      <td>POINT (1.32900 36.16163)</td>\n      <td>MULTIPOLYGON (((1.55326 36.02990, 1.55325 36.0...</td>\n    </tr>\n  </tbody>\n</table>\n</div>"
     },
     "metadata": {},
     "execution_count": 44
    }
   ],
   "source": [
    "# Sort the DataFrame by code (Wilaya number) and reset the index\n",
    "pois_gdf = pois_gdf.sort_values(by=['code_wil'],ignore_index=True)\n",
    "pois_gdf.reset_index(drop=True)\n",
    "pois_gdf.head()"
   ]
  },
  {
   "cell_type": "code",
   "execution_count": 45,
   "metadata": {
    "tags": []
   },
   "outputs": [
    {
     "output_type": "execute_result",
     "data": {
      "text/plain": [
       "     num                                               name  \\\n",
       "36    11             Direction des Services Agricole Bouira   \n",
       "70   138  OFFICE NATIONAL INTERPROFESSIONNEL DU LAIT ET ...   \n",
       "148  113  Centre de Formation et de Vulgarisation Agrico...   \n",
       "172   38            Direction des Services Agricole Tindouf   \n",
       "188  156                                                GGR   \n",
       "\n",
       "                                               address  \\\n",
       "36                               RUE BOUKAROU MAKHLOUF   \n",
       "70   Zone industrielle, route nationale N° 01 Boufa...   \n",
       "148                       sidi mahdi bp 04 30001 nezla   \n",
       "172  RUE DE LA REVOLUTION AGRAIRE - CITE KSABI  - T...   \n",
       "188                                                NaN   \n",
       "\n",
       "                             tel           fax      website       lon  \\\n",
       "36                  026 73 02 10  026 73 01 77          NaN  3.151952   \n",
       "70    025 28 37 87/ 025 28 37 88  021 28 36 32  www.onab.dz  2.915039   \n",
       "148  029 69 31 74/(029) 69 32 79           NaN          NaN  0.236256   \n",
       "172                 049 92 20 29  049 37 67 56          NaN -0.973435   \n",
       "188                          NaN           NaN          NaN  2.866187   \n",
       "\n",
       "           lat         acronym  code_wil  to_check                   geometry  \\\n",
       "36   36.564227      DSA Bouira        10     False   POINT (3.15195 36.56423)   \n",
       "70   36.588040            ONIL        16     False   POINT (2.91504 36.58804)   \n",
       "148  29.253941  CFVA Touggourt        30     False   POINT (0.23626 29.25394)   \n",
       "172  29.096644     DSA Tindouf        37     False  POINT (-0.97344 29.09664)   \n",
       "188  36.755860            EHEV        42     False   POINT (2.86619 36.75586)   \n",
       "\n",
       "                                            geometry_y  coords_in_wil  \n",
       "36   MULTIPOLYGON (((3.77427 35.90221, 3.77327 35.9...          False  \n",
       "70   MULTIPOLYGON (((2.95544 36.61091, 2.95366 36.6...          False  \n",
       "148  MULTIPOLYGON (((4.46283 32.21564, 4.46327 32.2...          False  \n",
       "172  MULTIPOLYGON (((-8.30703 28.92607, -8.29929 28...          False  \n",
       "188  MULTIPOLYGON (((1.65518 36.44814, 1.65519 36.4...          False  "
      ],
      "text/html": "<div>\n<style scoped>\n    .dataframe tbody tr th:only-of-type {\n        vertical-align: middle;\n    }\n\n    .dataframe tbody tr th {\n        vertical-align: top;\n    }\n\n    .dataframe thead th {\n        text-align: right;\n    }\n</style>\n<table border=\"1\" class=\"dataframe\">\n  <thead>\n    <tr style=\"text-align: right;\">\n      <th></th>\n      <th>num</th>\n      <th>name</th>\n      <th>address</th>\n      <th>tel</th>\n      <th>fax</th>\n      <th>website</th>\n      <th>lon</th>\n      <th>lat</th>\n      <th>acronym</th>\n      <th>code_wil</th>\n      <th>to_check</th>\n      <th>geometry</th>\n      <th>geometry_y</th>\n      <th>coords_in_wil</th>\n    </tr>\n  </thead>\n  <tbody>\n    <tr>\n      <th>36</th>\n      <td>11</td>\n      <td>Direction des Services Agricole Bouira</td>\n      <td>RUE BOUKAROU MAKHLOUF</td>\n      <td>026 73 02 10</td>\n      <td>026 73 01 77</td>\n      <td>NaN</td>\n      <td>3.151952</td>\n      <td>36.564227</td>\n      <td>DSA Bouira</td>\n      <td>10</td>\n      <td>False</td>\n      <td>POINT (3.15195 36.56423)</td>\n      <td>MULTIPOLYGON (((3.77427 35.90221, 3.77327 35.9...</td>\n      <td>False</td>\n    </tr>\n    <tr>\n      <th>70</th>\n      <td>138</td>\n      <td>OFFICE NATIONAL INTERPROFESSIONNEL DU LAIT ET ...</td>\n      <td>Zone industrielle, route nationale N° 01 Boufa...</td>\n      <td>025 28 37 87/ 025 28 37 88</td>\n      <td>021 28 36 32</td>\n      <td>www.onab.dz</td>\n      <td>2.915039</td>\n      <td>36.588040</td>\n      <td>ONIL</td>\n      <td>16</td>\n      <td>False</td>\n      <td>POINT (2.91504 36.58804)</td>\n      <td>MULTIPOLYGON (((2.95544 36.61091, 2.95366 36.6...</td>\n      <td>False</td>\n    </tr>\n    <tr>\n      <th>148</th>\n      <td>113</td>\n      <td>Centre de Formation et de Vulgarisation Agrico...</td>\n      <td>sidi mahdi bp 04 30001 nezla</td>\n      <td>029 69 31 74/(029) 69 32 79</td>\n      <td>NaN</td>\n      <td>NaN</td>\n      <td>0.236256</td>\n      <td>29.253941</td>\n      <td>CFVA Touggourt</td>\n      <td>30</td>\n      <td>False</td>\n      <td>POINT (0.23626 29.25394)</td>\n      <td>MULTIPOLYGON (((4.46283 32.21564, 4.46327 32.2...</td>\n      <td>False</td>\n    </tr>\n    <tr>\n      <th>172</th>\n      <td>38</td>\n      <td>Direction des Services Agricole Tindouf</td>\n      <td>RUE DE LA REVOLUTION AGRAIRE - CITE KSABI  - T...</td>\n      <td>049 92 20 29</td>\n      <td>049 37 67 56</td>\n      <td>NaN</td>\n      <td>-0.973435</td>\n      <td>29.096644</td>\n      <td>DSA Tindouf</td>\n      <td>37</td>\n      <td>False</td>\n      <td>POINT (-0.97344 29.09664)</td>\n      <td>MULTIPOLYGON (((-8.30703 28.92607, -8.29929 28...</td>\n      <td>False</td>\n    </tr>\n    <tr>\n      <th>188</th>\n      <td>156</td>\n      <td>GGR</td>\n      <td>NaN</td>\n      <td>NaN</td>\n      <td>NaN</td>\n      <td>NaN</td>\n      <td>2.866187</td>\n      <td>36.755860</td>\n      <td>EHEV</td>\n      <td>42</td>\n      <td>False</td>\n      <td>POINT (2.86619 36.75586)</td>\n      <td>MULTIPOLYGON (((1.65518 36.44814, 1.65519 36.4...</td>\n      <td>False</td>\n    </tr>\n  </tbody>\n</table>\n</div>"
     },
     "metadata": {},
     "execution_count": 45
    }
   ],
   "source": [
    "# Check if coordinates are within Wilayas polygons\n",
    "pois_gdf['coords_in_wil'] = [pois_gdf.geometry[i].within(pois_gdf.geometry_y[i]) for i in range(pois_gdf.geometry.count())] \n",
    "pois_gdf[pois_gdf.coords_in_wil == False]"
   ]
  },
  {
   "cell_type": "code",
   "execution_count": 46,
   "metadata": {},
   "outputs": [
    {
     "output_type": "execute_result",
     "data": {
      "text/plain": [
       "     num                                               name  \\\n",
       "36    11             Direction des Services Agricole Bouira   \n",
       "70   138  OFFICE NATIONAL INTERPROFESSIONNEL DU LAIT ET ...   \n",
       "148  113  Centre de Formation et de Vulgarisation Agrico...   \n",
       "172   38            Direction des Services Agricole Tindouf   \n",
       "188  156                                                GGR   \n",
       "\n",
       "                                               address  \\\n",
       "36                               RUE BOUKAROU MAKHLOUF   \n",
       "70   Zone industrielle, route nationale N° 01 Boufa...   \n",
       "148                       sidi mahdi bp 04 30001 nezla   \n",
       "172  RUE DE LA REVOLUTION AGRAIRE - CITE KSABI  - T...   \n",
       "188                                                NaN   \n",
       "\n",
       "                             tel           fax      website       lon  \\\n",
       "36                  026 73 02 10  026 73 01 77          NaN  3.151952   \n",
       "70    025 28 37 87/ 025 28 37 88  021 28 36 32  www.onab.dz  2.915039   \n",
       "148  029 69 31 74/(029) 69 32 79           NaN          NaN  0.236256   \n",
       "172                 049 92 20 29  049 37 67 56          NaN -0.973435   \n",
       "188                          NaN           NaN          NaN  2.866187   \n",
       "\n",
       "           lat         acronym  code_wil  to_check                   geometry  \n",
       "36   36.564227      DSA Bouira        10      True   POINT (3.15195 36.56423)  \n",
       "70   36.588040            ONIL        16      True   POINT (2.91504 36.58804)  \n",
       "148  29.253941  CFVA Touggourt        30      True   POINT (0.23626 29.25394)  \n",
       "172  29.096644     DSA Tindouf        37      True  POINT (-0.97344 29.09664)  \n",
       "188  36.755860            EHEV        42      True   POINT (2.86619 36.75586)  "
      ],
      "text/html": "<div>\n<style scoped>\n    .dataframe tbody tr th:only-of-type {\n        vertical-align: middle;\n    }\n\n    .dataframe tbody tr th {\n        vertical-align: top;\n    }\n\n    .dataframe thead th {\n        text-align: right;\n    }\n</style>\n<table border=\"1\" class=\"dataframe\">\n  <thead>\n    <tr style=\"text-align: right;\">\n      <th></th>\n      <th>num</th>\n      <th>name</th>\n      <th>address</th>\n      <th>tel</th>\n      <th>fax</th>\n      <th>website</th>\n      <th>lon</th>\n      <th>lat</th>\n      <th>acronym</th>\n      <th>code_wil</th>\n      <th>to_check</th>\n      <th>geometry</th>\n    </tr>\n  </thead>\n  <tbody>\n    <tr>\n      <th>36</th>\n      <td>11</td>\n      <td>Direction des Services Agricole Bouira</td>\n      <td>RUE BOUKAROU MAKHLOUF</td>\n      <td>026 73 02 10</td>\n      <td>026 73 01 77</td>\n      <td>NaN</td>\n      <td>3.151952</td>\n      <td>36.564227</td>\n      <td>DSA Bouira</td>\n      <td>10</td>\n      <td>True</td>\n      <td>POINT (3.15195 36.56423)</td>\n    </tr>\n    <tr>\n      <th>70</th>\n      <td>138</td>\n      <td>OFFICE NATIONAL INTERPROFESSIONNEL DU LAIT ET ...</td>\n      <td>Zone industrielle, route nationale N° 01 Boufa...</td>\n      <td>025 28 37 87/ 025 28 37 88</td>\n      <td>021 28 36 32</td>\n      <td>www.onab.dz</td>\n      <td>2.915039</td>\n      <td>36.588040</td>\n      <td>ONIL</td>\n      <td>16</td>\n      <td>True</td>\n      <td>POINT (2.91504 36.58804)</td>\n    </tr>\n    <tr>\n      <th>148</th>\n      <td>113</td>\n      <td>Centre de Formation et de Vulgarisation Agrico...</td>\n      <td>sidi mahdi bp 04 30001 nezla</td>\n      <td>029 69 31 74/(029) 69 32 79</td>\n      <td>NaN</td>\n      <td>NaN</td>\n      <td>0.236256</td>\n      <td>29.253941</td>\n      <td>CFVA Touggourt</td>\n      <td>30</td>\n      <td>True</td>\n      <td>POINT (0.23626 29.25394)</td>\n    </tr>\n    <tr>\n      <th>172</th>\n      <td>38</td>\n      <td>Direction des Services Agricole Tindouf</td>\n      <td>RUE DE LA REVOLUTION AGRAIRE - CITE KSABI  - T...</td>\n      <td>049 92 20 29</td>\n      <td>049 37 67 56</td>\n      <td>NaN</td>\n      <td>-0.973435</td>\n      <td>29.096644</td>\n      <td>DSA Tindouf</td>\n      <td>37</td>\n      <td>True</td>\n      <td>POINT (-0.97344 29.09664)</td>\n    </tr>\n    <tr>\n      <th>188</th>\n      <td>156</td>\n      <td>GGR</td>\n      <td>NaN</td>\n      <td>NaN</td>\n      <td>NaN</td>\n      <td>NaN</td>\n      <td>2.866187</td>\n      <td>36.755860</td>\n      <td>EHEV</td>\n      <td>42</td>\n      <td>True</td>\n      <td>POINT (2.86619 36.75586)</td>\n    </tr>\n  </tbody>\n</table>\n</div>"
     },
     "metadata": {},
     "execution_count": 46
    }
   ],
   "source": [
    "# Update to_check flag to take into account points outside Wilays and without geocoding coordinates\n",
    "final_gdf = pois_gdf\n",
    "final_gdf['to_check'] = (pois_gdf['to_check'] == True) | (pois_gdf['coords_in_wil'] == False)   \n",
    "\n",
    "# Remove unecessary columns\n",
    "final_gdf = final_gdf.drop(['geometry_y', 'coords_in_wil'], axis=1)\n",
    "\n",
    "final_gdf[final_gdf.to_check == True]"
   ]
  },
  {
   "cell_type": "code",
   "execution_count": 47,
   "metadata": {},
   "outputs": [
    {
     "output_type": "execute_result",
     "data": {
      "text/plain": [
       "num         207\n",
       "name        207\n",
       "address     189\n",
       "tel         196\n",
       "fax         181\n",
       "website      21\n",
       "lon         207\n",
       "lat         207\n",
       "acronym     207\n",
       "code_wil    207\n",
       "to_check    207\n",
       "geometry    207\n",
       "dtype: int64"
      ]
     },
     "metadata": {},
     "execution_count": 47
    }
   ],
   "source": [
    "final_gdf.count()"
   ]
  },
  {
   "cell_type": "code",
   "execution_count": 48,
   "metadata": {},
   "outputs": [],
   "source": [
    "# Write to a GeoJSON file\n",
    "\n",
    "gpd.GeoDataFrame(final_gdf).to_file(pois_path + \"madr_struct_checked_in_out_wilayas.geojson\", driver='GeoJSON')"
   ]
  }
 ]
}