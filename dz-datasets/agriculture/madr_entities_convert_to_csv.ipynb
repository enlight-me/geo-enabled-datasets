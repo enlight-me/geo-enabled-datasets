{
 "metadata": {
  "language_info": {
   "codemirror_mode": {
    "name": "ipython",
    "version": 3
   },
   "file_extension": ".py",
   "mimetype": "text/x-python",
   "name": "python",
   "nbconvert_exporter": "python",
   "pygments_lexer": "ipython3",
   "version": "3.8.5"
  },
  "orig_nbformat": 2,
  "kernelspec": {
   "name": "python3",
   "display_name": "Python 3",
   "language": "python"
  }
 },
 "nbformat": 4,
 "nbformat_minor": 2,
 "cells": [
  {
   "cell_type": "code",
   "execution_count": 194,
   "metadata": {},
   "outputs": [],
   "source": [
    "# load packages\n",
    "import pandas as pd "
   ]
  },
  {
   "cell_type": "code",
   "execution_count": 195,
   "metadata": {},
   "outputs": [
    {
     "output_type": "execute_result",
     "data": {
      "text/plain": [
       "0    7\n",
       "dtype: int64"
      ]
     },
     "metadata": {},
     "execution_count": 195
    }
   ],
   "source": [
    "pois_file_name = './structures_madr.json'\n",
    "madr_df = pd.read_json(pois_file_name)\n",
    "madr_df.count()"
   ]
  },
  {
   "cell_type": "code",
   "execution_count": 196,
   "metadata": {},
   "outputs": [
    {
     "output_type": "execute_result",
     "data": {
      "text/plain": [
       "207"
      ]
     },
     "metadata": {},
     "execution_count": 196
    }
   ],
   "source": [
    "df5 = [madr_df[0][i] for i in range(madr_df[0].count())]\n",
    "pois = []\n",
    "\n",
    "for i in range(len(df5)):\n",
    "    for j in range(len(df5[i])):\n",
    "        pois.append(df5[i][j][5])\n",
    "\n",
    "len(pois)"
   ]
  },
  {
   "cell_type": "code",
   "execution_count": 197,
   "metadata": {},
   "outputs": [
    {
     "output_type": "execute_result",
     "data": {
      "text/plain": [
       "[['Code', [42], 3],\n",
       " ['Wilaya', ['Tipaza'], 1],\n",
       " ['Intitulé', [\"Chambre d'Agriculture de Wilaya Tipaza\"], 1],\n",
       " ['Tel', ['024 40 92 92'], 1],\n",
       " ['Fax', ['024 47 93 58'], 1],\n",
       " ['Adresse', ['RN 11, Aïn Tagourait, Daïra Bou Ismaïl, Tipaza'], 1],\n",
       " ['Longitude', ['2.520825'], 1],\n",
       " ['Latitude', ['36.587854'], 1]]"
      ]
     },
     "metadata": {},
     "execution_count": 197
    }
   ],
   "source": [
    "df = pd.DataFrame(pois)\n",
    "df[3][200] "
   ]
  },
  {
   "cell_type": "code",
   "execution_count": 198,
   "metadata": {},
   "outputs": [
    {
     "output_type": "execute_result",
     "data": {
      "text/plain": [
       "{'Wilaya': 'Blida',\n",
       " 'Intitulé': 'Direction des Services Agricole Blida',\n",
       " 'Adresse': 'CITE AZZI ALI SIDI AEK',\n",
       " 'Tel': '025 39 13 47/ 025 39 14 57',\n",
       " 'Fax': '025 24 65 31',\n",
       " 'Longitude': '2.815244',\n",
       " 'Latitude': '36.490729'}"
      ]
     },
     "metadata": {},
     "execution_count": 198
    }
   ],
   "source": [
    "pois_obj = [{df[3][i][j][0]: df[3][i][j][1][0] for j in range(0, len(df[3][i]))} for i in range(0, len(df[3]))]\n",
    "pois_obj[10]"
   ]
  },
  {
   "cell_type": "code",
   "execution_count": 199,
   "metadata": {},
   "outputs": [
    {
     "output_type": "execute_result",
     "data": {
      "text/plain": [
       "Wilaya         207\n",
       "Intitulé       207\n",
       "Adresse        189\n",
       "Tel            196\n",
       "Fax            181\n",
       "Site Web        21\n",
       "Longitude      207\n",
       "Latitude       207\n",
       "unnamed (1)      1\n",
       "Code            89\n",
       "dtype: int64"
      ]
     },
     "metadata": {},
     "execution_count": 199
    }
   ],
   "source": [
    "pois_df = pd.DataFrame(pois_obj)\n",
    "pois_df.count()"
   ]
  },
  {
   "cell_type": "code",
   "execution_count": 200,
   "metadata": {},
   "outputs": [
    {
     "output_type": "execute_result",
     "data": {
      "text/plain": [
       "     Wilaya                                           Intitulé  \\\n",
       "0     ALGER  Ministère de l’Agriculture, du Développement R...   \n",
       "1     ALGER                      Direction Générale des Forêts   \n",
       "2     Adrar              Direction des Services Agricole ADRAR   \n",
       "3     Chlef              Direction des Services Agricole Chlef   \n",
       "4  Laghouat           Direction des Services Agricole Laghouat   \n",
       "\n",
       "                                             Adresse            Tel  \\\n",
       "0              12 Boulevard Colonel Amirouche, Alger  023 50 32 38    \n",
       "1  Chemin Doudou Mokhtar, BP N° 232, Ben Aknoun, ...   023 78 58 96   \n",
       "2                                  RUE TALEB MOHAMED   049 36 48 28   \n",
       "3                       CITE BELHAMRI DJILALI  CHLEF   027 77 59 00   \n",
       "4                                             MHAFIR   029 14 54 12   \n",
       "\n",
       "            Fax          Site Web Longitude   Latitude unnamed (1)  Code  \\\n",
       "0  023 50 31 17      madrp.gov.dz  3.058677  36.770581         NaN   NaN   \n",
       "1  023 78 54 56  madrp.gov.dz/dgf  3.012842   36.75064         NaN   NaN   \n",
       "2     049364811               NaN  -0.28185   27.87745         NaN   NaN   \n",
       "3  027 79 05 75               NaN  1.329005  36.161627         NaN   NaN   \n",
       "4  029 14 64 84               NaN  2.854042   33.79567         NaN   NaN   \n",
       "\n",
       "        acronym  \n",
       "0          MADR  \n",
       "1           DGF  \n",
       "2     DSA ADRAR  \n",
       "3     DSA Chlef  \n",
       "4  DSA Laghouat  "
      ],
      "text/html": "<div>\n<style scoped>\n    .dataframe tbody tr th:only-of-type {\n        vertical-align: middle;\n    }\n\n    .dataframe tbody tr th {\n        vertical-align: top;\n    }\n\n    .dataframe thead th {\n        text-align: right;\n    }\n</style>\n<table border=\"1\" class=\"dataframe\">\n  <thead>\n    <tr style=\"text-align: right;\">\n      <th></th>\n      <th>Wilaya</th>\n      <th>Intitulé</th>\n      <th>Adresse</th>\n      <th>Tel</th>\n      <th>Fax</th>\n      <th>Site Web</th>\n      <th>Longitude</th>\n      <th>Latitude</th>\n      <th>unnamed (1)</th>\n      <th>Code</th>\n      <th>acronym</th>\n    </tr>\n  </thead>\n  <tbody>\n    <tr>\n      <th>0</th>\n      <td>ALGER</td>\n      <td>Ministère de l’Agriculture, du Développement R...</td>\n      <td>12 Boulevard Colonel Amirouche, Alger</td>\n      <td>023 50 32 38</td>\n      <td>023 50 31 17</td>\n      <td>madrp.gov.dz</td>\n      <td>3.058677</td>\n      <td>36.770581</td>\n      <td>NaN</td>\n      <td>NaN</td>\n      <td>MADR</td>\n    </tr>\n    <tr>\n      <th>1</th>\n      <td>ALGER</td>\n      <td>Direction Générale des Forêts</td>\n      <td>Chemin Doudou Mokhtar, BP N° 232, Ben Aknoun, ...</td>\n      <td>023 78 58 96</td>\n      <td>023 78 54 56</td>\n      <td>madrp.gov.dz/dgf</td>\n      <td>3.012842</td>\n      <td>36.75064</td>\n      <td>NaN</td>\n      <td>NaN</td>\n      <td>DGF</td>\n    </tr>\n    <tr>\n      <th>2</th>\n      <td>Adrar</td>\n      <td>Direction des Services Agricole ADRAR</td>\n      <td>RUE TALEB MOHAMED</td>\n      <td>049 36 48 28</td>\n      <td>049364811</td>\n      <td>NaN</td>\n      <td>-0.28185</td>\n      <td>27.87745</td>\n      <td>NaN</td>\n      <td>NaN</td>\n      <td>DSA ADRAR</td>\n    </tr>\n    <tr>\n      <th>3</th>\n      <td>Chlef</td>\n      <td>Direction des Services Agricole Chlef</td>\n      <td>CITE BELHAMRI DJILALI  CHLEF</td>\n      <td>027 77 59 00</td>\n      <td>027 79 05 75</td>\n      <td>NaN</td>\n      <td>1.329005</td>\n      <td>36.161627</td>\n      <td>NaN</td>\n      <td>NaN</td>\n      <td>DSA Chlef</td>\n    </tr>\n    <tr>\n      <th>4</th>\n      <td>Laghouat</td>\n      <td>Direction des Services Agricole Laghouat</td>\n      <td>MHAFIR</td>\n      <td>029 14 54 12</td>\n      <td>029 14 64 84</td>\n      <td>NaN</td>\n      <td>2.854042</td>\n      <td>33.79567</td>\n      <td>NaN</td>\n      <td>NaN</td>\n      <td>DSA Laghouat</td>\n    </tr>\n  </tbody>\n</table>\n</div>"
     },
     "metadata": {},
     "execution_count": 200
    }
   ],
   "source": [
    "# Add Acronyms\n",
    "pois_df['acronym'] = [df[0][i][1][0] for i in range(0, len(df[0]))]\n",
    "pois_df.head()"
   ]
  },
  {
   "cell_type": "code",
   "execution_count": 201,
   "metadata": {},
   "outputs": [
    {
     "output_type": "execute_result",
     "data": {
      "text/plain": [
       "             Wilaya                                           Intitulé  \\\n",
       "0             ALGER  Ministère de l’Agriculture, du Développement R...   \n",
       "1             ALGER                      Direction Générale des Forêts   \n",
       "2             Adrar              Direction des Services Agricole ADRAR   \n",
       "3             Chlef              Direction des Services Agricole Chlef   \n",
       "4          Laghouat           Direction des Services Agricole Laghouat   \n",
       "..              ...                                                ...   \n",
       "202       AIN DEFLA          Chambre d'Agriculture de Wilaya Aïn Defla   \n",
       "203           NAAMA              Chambre d'Agriculture de Wilaya Naâma   \n",
       "204  AIN TEMOUCHENT     Chambre d'Agriculture de Wilaya Ain Témouchent   \n",
       "205        Ghardaia           Chambre d'Agriculture de Wilaya Ghardaia   \n",
       "206        Relizane           Chambre d'Agriculture de Wilaya Relizane   \n",
       "\n",
       "                                               Adresse            Tel  \\\n",
       "0                12 Boulevard Colonel Amirouche, Alger  023 50 32 38    \n",
       "1    Chemin Doudou Mokhtar, BP N° 232, Ben Aknoun, ...   023 78 58 96   \n",
       "2                                    RUE TALEB MOHAMED   049 36 48 28   \n",
       "3                         CITE BELHAMRI DJILALI  CHLEF   027 77 59 00   \n",
       "4                                               MHAFIR   029 14 54 12   \n",
       "..                                                 ...            ...   \n",
       "202              Cité 160 Logts Menad Hadj Kaddour N65   027 50 30 67   \n",
       "203         ZI Mecheria BP 270 45100 Mecheria Algérie.   049 78 75 33   \n",
       "204         Cité Akid  Othmane CASTORS Ain Témouchent    043 79 68 00   \n",
       "205                Bp 117 sidi abaz. Ghardaia Algerie    029 25 50 59   \n",
       "206                             07 Cité Feghoul  Allem   046 76 60 03   \n",
       "\n",
       "              Fax          Site Web  Longitude   Latitude unnamed (1)  Code  \\\n",
       "0    023 50 31 17      madrp.gov.dz   3.058677  36.770581         NaN   NaN   \n",
       "1    023 78 54 56  madrp.gov.dz/dgf   3.012842   36.75064         NaN   NaN   \n",
       "2       049364811               NaN   -0.28185   27.87745         NaN   NaN   \n",
       "3    027 79 05 75               NaN   1.329005  36.161627         NaN   NaN   \n",
       "4    029 14 64 84               NaN   2.854042   33.79567         NaN   NaN   \n",
       "..            ...               ...        ...        ...         ...   ...   \n",
       "202  027 50 30 76               NaN   1.957211  36.256265         NaN  44.0   \n",
       "203  049 58 74 08               NaN  -0.276014  33.544059         NaN  45.0   \n",
       "204  043 79 18 52               NaN  -1.140093  35.303438         NaN  46.0   \n",
       "205  029 25 55 99               NaN   3.698006  32.486291         NaN  47.0   \n",
       "206  046 76 60 04               NaN   0.546984  35.746907         NaN  48.0   \n",
       "\n",
       "                acronym      wilaya_maj  \n",
       "0                  MADR           ALGER  \n",
       "1                   DGF           ALGER  \n",
       "2             DSA ADRAR           ADRAR  \n",
       "3             DSA Chlef           CHLEF  \n",
       "4          DSA Laghouat        LAGHOUAT  \n",
       "..                  ...             ...  \n",
       "202       CAW Aïn Defla       AIN DEFLA  \n",
       "203           CAW Naâma           NAAMA  \n",
       "204  CAW Ain Témouchent  AIN TEMOUCHENT  \n",
       "205        CAW Ghardaia        GHARDAIA  \n",
       "206        CAW Relizane        RELIZANE  \n",
       "\n",
       "[207 rows x 12 columns]"
      ],
      "text/html": "<div>\n<style scoped>\n    .dataframe tbody tr th:only-of-type {\n        vertical-align: middle;\n    }\n\n    .dataframe tbody tr th {\n        vertical-align: top;\n    }\n\n    .dataframe thead th {\n        text-align: right;\n    }\n</style>\n<table border=\"1\" class=\"dataframe\">\n  <thead>\n    <tr style=\"text-align: right;\">\n      <th></th>\n      <th>Wilaya</th>\n      <th>Intitulé</th>\n      <th>Adresse</th>\n      <th>Tel</th>\n      <th>Fax</th>\n      <th>Site Web</th>\n      <th>Longitude</th>\n      <th>Latitude</th>\n      <th>unnamed (1)</th>\n      <th>Code</th>\n      <th>acronym</th>\n      <th>wilaya_maj</th>\n    </tr>\n  </thead>\n  <tbody>\n    <tr>\n      <th>0</th>\n      <td>ALGER</td>\n      <td>Ministère de l’Agriculture, du Développement R...</td>\n      <td>12 Boulevard Colonel Amirouche, Alger</td>\n      <td>023 50 32 38</td>\n      <td>023 50 31 17</td>\n      <td>madrp.gov.dz</td>\n      <td>3.058677</td>\n      <td>36.770581</td>\n      <td>NaN</td>\n      <td>NaN</td>\n      <td>MADR</td>\n      <td>ALGER</td>\n    </tr>\n    <tr>\n      <th>1</th>\n      <td>ALGER</td>\n      <td>Direction Générale des Forêts</td>\n      <td>Chemin Doudou Mokhtar, BP N° 232, Ben Aknoun, ...</td>\n      <td>023 78 58 96</td>\n      <td>023 78 54 56</td>\n      <td>madrp.gov.dz/dgf</td>\n      <td>3.012842</td>\n      <td>36.75064</td>\n      <td>NaN</td>\n      <td>NaN</td>\n      <td>DGF</td>\n      <td>ALGER</td>\n    </tr>\n    <tr>\n      <th>2</th>\n      <td>Adrar</td>\n      <td>Direction des Services Agricole ADRAR</td>\n      <td>RUE TALEB MOHAMED</td>\n      <td>049 36 48 28</td>\n      <td>049364811</td>\n      <td>NaN</td>\n      <td>-0.28185</td>\n      <td>27.87745</td>\n      <td>NaN</td>\n      <td>NaN</td>\n      <td>DSA ADRAR</td>\n      <td>ADRAR</td>\n    </tr>\n    <tr>\n      <th>3</th>\n      <td>Chlef</td>\n      <td>Direction des Services Agricole Chlef</td>\n      <td>CITE BELHAMRI DJILALI  CHLEF</td>\n      <td>027 77 59 00</td>\n      <td>027 79 05 75</td>\n      <td>NaN</td>\n      <td>1.329005</td>\n      <td>36.161627</td>\n      <td>NaN</td>\n      <td>NaN</td>\n      <td>DSA Chlef</td>\n      <td>CHLEF</td>\n    </tr>\n    <tr>\n      <th>4</th>\n      <td>Laghouat</td>\n      <td>Direction des Services Agricole Laghouat</td>\n      <td>MHAFIR</td>\n      <td>029 14 54 12</td>\n      <td>029 14 64 84</td>\n      <td>NaN</td>\n      <td>2.854042</td>\n      <td>33.79567</td>\n      <td>NaN</td>\n      <td>NaN</td>\n      <td>DSA Laghouat</td>\n      <td>LAGHOUAT</td>\n    </tr>\n    <tr>\n      <th>...</th>\n      <td>...</td>\n      <td>...</td>\n      <td>...</td>\n      <td>...</td>\n      <td>...</td>\n      <td>...</td>\n      <td>...</td>\n      <td>...</td>\n      <td>...</td>\n      <td>...</td>\n      <td>...</td>\n      <td>...</td>\n    </tr>\n    <tr>\n      <th>202</th>\n      <td>AIN DEFLA</td>\n      <td>Chambre d'Agriculture de Wilaya Aïn Defla</td>\n      <td>Cité 160 Logts Menad Hadj Kaddour N65</td>\n      <td>027 50 30 67</td>\n      <td>027 50 30 76</td>\n      <td>NaN</td>\n      <td>1.957211</td>\n      <td>36.256265</td>\n      <td>NaN</td>\n      <td>44.0</td>\n      <td>CAW Aïn Defla</td>\n      <td>AIN DEFLA</td>\n    </tr>\n    <tr>\n      <th>203</th>\n      <td>NAAMA</td>\n      <td>Chambre d'Agriculture de Wilaya Naâma</td>\n      <td>ZI Mecheria BP 270 45100 Mecheria Algérie.</td>\n      <td>049 78 75 33</td>\n      <td>049 58 74 08</td>\n      <td>NaN</td>\n      <td>-0.276014</td>\n      <td>33.544059</td>\n      <td>NaN</td>\n      <td>45.0</td>\n      <td>CAW Naâma</td>\n      <td>NAAMA</td>\n    </tr>\n    <tr>\n      <th>204</th>\n      <td>AIN TEMOUCHENT</td>\n      <td>Chambre d'Agriculture de Wilaya Ain Témouchent</td>\n      <td>Cité Akid  Othmane CASTORS Ain Témouchent</td>\n      <td>043 79 68 00</td>\n      <td>043 79 18 52</td>\n      <td>NaN</td>\n      <td>-1.140093</td>\n      <td>35.303438</td>\n      <td>NaN</td>\n      <td>46.0</td>\n      <td>CAW Ain Témouchent</td>\n      <td>AIN TEMOUCHENT</td>\n    </tr>\n    <tr>\n      <th>205</th>\n      <td>Ghardaia</td>\n      <td>Chambre d'Agriculture de Wilaya Ghardaia</td>\n      <td>Bp 117 sidi abaz. Ghardaia Algerie</td>\n      <td>029 25 50 59</td>\n      <td>029 25 55 99</td>\n      <td>NaN</td>\n      <td>3.698006</td>\n      <td>32.486291</td>\n      <td>NaN</td>\n      <td>47.0</td>\n      <td>CAW Ghardaia</td>\n      <td>GHARDAIA</td>\n    </tr>\n    <tr>\n      <th>206</th>\n      <td>Relizane</td>\n      <td>Chambre d'Agriculture de Wilaya Relizane</td>\n      <td>07 Cité Feghoul  Allem</td>\n      <td>046 76 60 03</td>\n      <td>046 76 60 04</td>\n      <td>NaN</td>\n      <td>0.546984</td>\n      <td>35.746907</td>\n      <td>NaN</td>\n      <td>48.0</td>\n      <td>CAW Relizane</td>\n      <td>RELIZANE</td>\n    </tr>\n  </tbody>\n</table>\n<p>207 rows × 12 columns</p>\n</div>"
     },
     "metadata": {},
     "execution_count": 201
    }
   ],
   "source": [
    "pois_df['wilaya_maj'] = pois_df.Wilaya.str.upper()\n",
    "pois_df"
   ]
  },
  {
   "cell_type": "code",
   "execution_count": 202,
   "metadata": {},
   "outputs": [
    {
     "output_type": "execute_result",
     "data": {
      "text/plain": [
       "   code_wil         nom_wil\n",
       "0         1           ADRAR\n",
       "1         2           CHLEF\n",
       "2         3        LAGHOUAT\n",
       "3         4  OUM EL BOUAGHI\n",
       "4         5           BATNA"
      ],
      "text/html": "<div>\n<style scoped>\n    .dataframe tbody tr th:only-of-type {\n        vertical-align: middle;\n    }\n\n    .dataframe tbody tr th {\n        vertical-align: top;\n    }\n\n    .dataframe thead th {\n        text-align: right;\n    }\n</style>\n<table border=\"1\" class=\"dataframe\">\n  <thead>\n    <tr style=\"text-align: right;\">\n      <th></th>\n      <th>code_wil</th>\n      <th>nom_wil</th>\n    </tr>\n  </thead>\n  <tbody>\n    <tr>\n      <th>0</th>\n      <td>1</td>\n      <td>ADRAR</td>\n    </tr>\n    <tr>\n      <th>1</th>\n      <td>2</td>\n      <td>CHLEF</td>\n    </tr>\n    <tr>\n      <th>2</th>\n      <td>3</td>\n      <td>LAGHOUAT</td>\n    </tr>\n    <tr>\n      <th>3</th>\n      <td>4</td>\n      <td>OUM EL BOUAGHI</td>\n    </tr>\n    <tr>\n      <th>4</th>\n      <td>5</td>\n      <td>BATNA</td>\n    </tr>\n  </tbody>\n</table>\n</div>"
     },
     "metadata": {},
     "execution_count": 202
    }
   ],
   "source": [
    "# Add Wilayas codes\n",
    "# Load Wilayas Features and calculate polygon centroids\n",
    "wilayas_gjson = '../../dz-admin/wilayas_48.csv'\n",
    "wilayas_df = pd.read_csv(wilayas_gjson)\n",
    "wilayas_df = wilayas_df[['code', 'nom_maj']]\n",
    "wilayas_df = wilayas_df.rename(columns={'nom_maj': 'nom_wil', 'code': 'code_wil'})\n",
    "wilayas_df.head()"
   ]
  },
  {
   "cell_type": "code",
   "execution_count": 203,
   "metadata": {},
   "outputs": [
    {
     "output_type": "execute_result",
     "data": {
      "text/plain": [
       "Empty DataFrame\n",
       "Columns: [Wilaya, Intitulé, Adresse, Tel, Fax, Site Web, Longitude, Latitude, unnamed (1), Code, acronym, wilaya_maj, code_wil, nom_wil]\n",
       "Index: []"
      ],
      "text/html": "<div>\n<style scoped>\n    .dataframe tbody tr th:only-of-type {\n        vertical-align: middle;\n    }\n\n    .dataframe tbody tr th {\n        vertical-align: top;\n    }\n\n    .dataframe thead th {\n        text-align: right;\n    }\n</style>\n<table border=\"1\" class=\"dataframe\">\n  <thead>\n    <tr style=\"text-align: right;\">\n      <th></th>\n      <th>Wilaya</th>\n      <th>Intitulé</th>\n      <th>Adresse</th>\n      <th>Tel</th>\n      <th>Fax</th>\n      <th>Site Web</th>\n      <th>Longitude</th>\n      <th>Latitude</th>\n      <th>unnamed (1)</th>\n      <th>Code</th>\n      <th>acronym</th>\n      <th>wilaya_maj</th>\n      <th>code_wil</th>\n      <th>nom_wil</th>\n    </tr>\n  </thead>\n  <tbody>\n  </tbody>\n</table>\n</div>"
     },
     "metadata": {},
     "execution_count": 203
    }
   ],
   "source": [
    "# Merge with Wialyas DataFrame\n",
    "merged = pois_df.merge(wilayas_df, left_on='wilaya_maj', right_on='nom_wil', how='left')\n",
    "\n",
    "merged[merged['code_wil'].isnull()]"
   ]
  },
  {
   "cell_type": "code",
   "execution_count": 206,
   "metadata": {},
   "outputs": [
    {
     "output_type": "execute_result",
     "data": {
      "text/plain": [
       "Wilaya         207\n",
       "Intitulé       207\n",
       "Adresse        189\n",
       "Tel            196\n",
       "Fax            181\n",
       "Site Web        21\n",
       "Longitude      207\n",
       "Latitude       207\n",
       "unnamed (1)      1\n",
       "Code            89\n",
       "acronym        207\n",
       "wilaya_maj     207\n",
       "code_wil       207\n",
       "nom_wil        207\n",
       "dtype: int64"
      ]
     },
     "metadata": {},
     "execution_count": 206
    }
   ],
   "source": [
    "merged.count()"
   ]
  },
  {
   "cell_type": "code",
   "execution_count": 209,
   "metadata": {},
   "outputs": [
    {
     "output_type": "execute_result",
     "data": {
      "text/plain": [
       "     Wilaya                                           Intitulé  \\\n",
       "0     ALGER  Ministère de l’Agriculture, du Développement R...   \n",
       "1     ALGER                      Direction Générale des Forêts   \n",
       "2     Adrar              Direction des Services Agricole ADRAR   \n",
       "3     Chlef              Direction des Services Agricole Chlef   \n",
       "4  Laghouat           Direction des Services Agricole Laghouat   \n",
       "\n",
       "                                             Adresse            Tel  \\\n",
       "0              12 Boulevard Colonel Amirouche, Alger  023 50 32 38    \n",
       "1  Chemin Doudou Mokhtar, BP N° 232, Ben Aknoun, ...   023 78 58 96   \n",
       "2                                  RUE TALEB MOHAMED   049 36 48 28   \n",
       "3                       CITE BELHAMRI DJILALI  CHLEF   027 77 59 00   \n",
       "4                                             MHAFIR   029 14 54 12   \n",
       "\n",
       "            Fax          Site Web Longitude   Latitude unnamed (1)  Code  \\\n",
       "0  023 50 31 17      madrp.gov.dz  3.058677  36.770581         NaN   NaN   \n",
       "1  023 78 54 56  madrp.gov.dz/dgf  3.012842   36.75064         NaN   NaN   \n",
       "2     049364811               NaN  -0.28185   27.87745         NaN   NaN   \n",
       "3  027 79 05 75               NaN  1.329005  36.161627         NaN   NaN   \n",
       "4  029 14 64 84               NaN  2.854042   33.79567         NaN   NaN   \n",
       "\n",
       "        acronym wilaya_maj  code_wil   nom_wil  \n",
       "0          MADR      ALGER        16     ALGER  \n",
       "1           DGF      ALGER        16     ALGER  \n",
       "2     DSA ADRAR      ADRAR         1     ADRAR  \n",
       "3     DSA Chlef      CHLEF         2     CHLEF  \n",
       "4  DSA Laghouat   LAGHOUAT         3  LAGHOUAT  "
      ],
      "text/html": "<div>\n<style scoped>\n    .dataframe tbody tr th:only-of-type {\n        vertical-align: middle;\n    }\n\n    .dataframe tbody tr th {\n        vertical-align: top;\n    }\n\n    .dataframe thead th {\n        text-align: right;\n    }\n</style>\n<table border=\"1\" class=\"dataframe\">\n  <thead>\n    <tr style=\"text-align: right;\">\n      <th></th>\n      <th>Wilaya</th>\n      <th>Intitulé</th>\n      <th>Adresse</th>\n      <th>Tel</th>\n      <th>Fax</th>\n      <th>Site Web</th>\n      <th>Longitude</th>\n      <th>Latitude</th>\n      <th>unnamed (1)</th>\n      <th>Code</th>\n      <th>acronym</th>\n      <th>wilaya_maj</th>\n      <th>code_wil</th>\n      <th>nom_wil</th>\n    </tr>\n  </thead>\n  <tbody>\n    <tr>\n      <th>0</th>\n      <td>ALGER</td>\n      <td>Ministère de l’Agriculture, du Développement R...</td>\n      <td>12 Boulevard Colonel Amirouche, Alger</td>\n      <td>023 50 32 38</td>\n      <td>023 50 31 17</td>\n      <td>madrp.gov.dz</td>\n      <td>3.058677</td>\n      <td>36.770581</td>\n      <td>NaN</td>\n      <td>NaN</td>\n      <td>MADR</td>\n      <td>ALGER</td>\n      <td>16</td>\n      <td>ALGER</td>\n    </tr>\n    <tr>\n      <th>1</th>\n      <td>ALGER</td>\n      <td>Direction Générale des Forêts</td>\n      <td>Chemin Doudou Mokhtar, BP N° 232, Ben Aknoun, ...</td>\n      <td>023 78 58 96</td>\n      <td>023 78 54 56</td>\n      <td>madrp.gov.dz/dgf</td>\n      <td>3.012842</td>\n      <td>36.75064</td>\n      <td>NaN</td>\n      <td>NaN</td>\n      <td>DGF</td>\n      <td>ALGER</td>\n      <td>16</td>\n      <td>ALGER</td>\n    </tr>\n    <tr>\n      <th>2</th>\n      <td>Adrar</td>\n      <td>Direction des Services Agricole ADRAR</td>\n      <td>RUE TALEB MOHAMED</td>\n      <td>049 36 48 28</td>\n      <td>049364811</td>\n      <td>NaN</td>\n      <td>-0.28185</td>\n      <td>27.87745</td>\n      <td>NaN</td>\n      <td>NaN</td>\n      <td>DSA ADRAR</td>\n      <td>ADRAR</td>\n      <td>1</td>\n      <td>ADRAR</td>\n    </tr>\n    <tr>\n      <th>3</th>\n      <td>Chlef</td>\n      <td>Direction des Services Agricole Chlef</td>\n      <td>CITE BELHAMRI DJILALI  CHLEF</td>\n      <td>027 77 59 00</td>\n      <td>027 79 05 75</td>\n      <td>NaN</td>\n      <td>1.329005</td>\n      <td>36.161627</td>\n      <td>NaN</td>\n      <td>NaN</td>\n      <td>DSA Chlef</td>\n      <td>CHLEF</td>\n      <td>2</td>\n      <td>CHLEF</td>\n    </tr>\n    <tr>\n      <th>4</th>\n      <td>Laghouat</td>\n      <td>Direction des Services Agricole Laghouat</td>\n      <td>MHAFIR</td>\n      <td>029 14 54 12</td>\n      <td>029 14 64 84</td>\n      <td>NaN</td>\n      <td>2.854042</td>\n      <td>33.79567</td>\n      <td>NaN</td>\n      <td>NaN</td>\n      <td>DSA Laghouat</td>\n      <td>LAGHOUAT</td>\n      <td>3</td>\n      <td>LAGHOUAT</td>\n    </tr>\n  </tbody>\n</table>\n</div>"
     },
     "metadata": {},
     "execution_count": 209
    }
   ],
   "source": [
    "merged.head()"
   ]
  },
  {
   "cell_type": "code",
   "execution_count": 214,
   "metadata": {},
   "outputs": [
    {
     "output_type": "execute_result",
     "data": {
      "text/plain": [
       "                                                name  \\\n",
       "0  Ministère de l’Agriculture, du Développement R...   \n",
       "1                      Direction Générale des Forêts   \n",
       "2              Direction des Services Agricole ADRAR   \n",
       "3              Direction des Services Agricole Chlef   \n",
       "4           Direction des Services Agricole Laghouat   \n",
       "\n",
       "                                             address            tel  \\\n",
       "0              12 Boulevard Colonel Amirouche, Alger  023 50 32 38    \n",
       "1  Chemin Doudou Mokhtar, BP N° 232, Ben Aknoun, ...   023 78 58 96   \n",
       "2                                  RUE TALEB MOHAMED   049 36 48 28   \n",
       "3                       CITE BELHAMRI DJILALI  CHLEF   027 77 59 00   \n",
       "4                                             MHAFIR   029 14 54 12   \n",
       "\n",
       "            fax           website       lon        lat       acronym  code_wil  \n",
       "0  023 50 31 17      madrp.gov.dz  3.058677  36.770581          MADR        16  \n",
       "1  023 78 54 56  madrp.gov.dz/dgf  3.012842   36.75064           DGF        16  \n",
       "2     049364811               NaN  -0.28185   27.87745     DSA ADRAR         1  \n",
       "3  027 79 05 75               NaN  1.329005  36.161627     DSA Chlef         2  \n",
       "4  029 14 64 84               NaN  2.854042   33.79567  DSA Laghouat         3  "
      ],
      "text/html": "<div>\n<style scoped>\n    .dataframe tbody tr th:only-of-type {\n        vertical-align: middle;\n    }\n\n    .dataframe tbody tr th {\n        vertical-align: top;\n    }\n\n    .dataframe thead th {\n        text-align: right;\n    }\n</style>\n<table border=\"1\" class=\"dataframe\">\n  <thead>\n    <tr style=\"text-align: right;\">\n      <th></th>\n      <th>name</th>\n      <th>address</th>\n      <th>tel</th>\n      <th>fax</th>\n      <th>website</th>\n      <th>lon</th>\n      <th>lat</th>\n      <th>acronym</th>\n      <th>code_wil</th>\n    </tr>\n  </thead>\n  <tbody>\n    <tr>\n      <th>0</th>\n      <td>Ministère de l’Agriculture, du Développement R...</td>\n      <td>12 Boulevard Colonel Amirouche, Alger</td>\n      <td>023 50 32 38</td>\n      <td>023 50 31 17</td>\n      <td>madrp.gov.dz</td>\n      <td>3.058677</td>\n      <td>36.770581</td>\n      <td>MADR</td>\n      <td>16</td>\n    </tr>\n    <tr>\n      <th>1</th>\n      <td>Direction Générale des Forêts</td>\n      <td>Chemin Doudou Mokhtar, BP N° 232, Ben Aknoun, ...</td>\n      <td>023 78 58 96</td>\n      <td>023 78 54 56</td>\n      <td>madrp.gov.dz/dgf</td>\n      <td>3.012842</td>\n      <td>36.75064</td>\n      <td>DGF</td>\n      <td>16</td>\n    </tr>\n    <tr>\n      <th>2</th>\n      <td>Direction des Services Agricole ADRAR</td>\n      <td>RUE TALEB MOHAMED</td>\n      <td>049 36 48 28</td>\n      <td>049364811</td>\n      <td>NaN</td>\n      <td>-0.28185</td>\n      <td>27.87745</td>\n      <td>DSA ADRAR</td>\n      <td>1</td>\n    </tr>\n    <tr>\n      <th>3</th>\n      <td>Direction des Services Agricole Chlef</td>\n      <td>CITE BELHAMRI DJILALI  CHLEF</td>\n      <td>027 77 59 00</td>\n      <td>027 79 05 75</td>\n      <td>NaN</td>\n      <td>1.329005</td>\n      <td>36.161627</td>\n      <td>DSA Chlef</td>\n      <td>2</td>\n    </tr>\n    <tr>\n      <th>4</th>\n      <td>Direction des Services Agricole Laghouat</td>\n      <td>MHAFIR</td>\n      <td>029 14 54 12</td>\n      <td>029 14 64 84</td>\n      <td>NaN</td>\n      <td>2.854042</td>\n      <td>33.79567</td>\n      <td>DSA Laghouat</td>\n      <td>3</td>\n    </tr>\n  </tbody>\n</table>\n</div>"
     },
     "metadata": {},
     "execution_count": 214
    }
   ],
   "source": [
    "final_df = merged.drop(columns=['unnamed (1)', 'Code', 'wilaya_maj', 'nom_wil', \"Wilaya\"], axis=1)\n",
    "merged.rename(columns={\"Latitude\": \"lat\", \"Longitude\": \"lon\", \"Intitulé\": \"name\", \"Adresse\": \"address\", \"Tel\":\"tel\", \"Fax\":\"fax\", \"Site Web\": \"website\"}, inplace=True)\n",
    "final_df.head()"
   ]
  },
  {
   "cell_type": "code",
   "execution_count": 216,
   "metadata": {},
   "outputs": [],
   "source": [
    "final_df.to_csv('./structures_mard.csv', header = True)"
   ]
  }
 ]
}