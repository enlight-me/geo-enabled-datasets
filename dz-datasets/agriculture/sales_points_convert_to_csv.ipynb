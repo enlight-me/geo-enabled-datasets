{
 "metadata": {
  "language_info": {
   "codemirror_mode": {
    "name": "ipython",
    "version": 3
   },
   "file_extension": ".py",
   "mimetype": "text/x-python",
   "name": "python",
   "nbconvert_exporter": "python",
   "pygments_lexer": "ipython3",
   "version": "3.8.5"
  },
  "orig_nbformat": 2,
  "kernelspec": {
   "name": "python3",
   "display_name": "Python 3",
   "language": "python"
  }
 },
 "nbformat": 4,
 "nbformat_minor": 2,
 "cells": [
  {
   "cell_type": "code",
   "execution_count": 2,
   "metadata": {},
   "outputs": [],
   "source": [
    "# load packages\n",
    "import pandas as pd "
   ]
  },
  {
   "cell_type": "code",
   "execution_count": 18,
   "metadata": {},
   "outputs": [
    {
     "output_type": "execute_result",
     "data": {
      "text/plain": [
       "   id                                        name  \\\n",
       "0   1                  Ouled Hamla SPA Tikouyavic   \n",
       "1   2  Point de vente UPD Ain Kercha SPA Thagavic   \n",
       "2   3          Point de vente kaous SPA TAHAGAVIC   \n",
       "3   4             POINT DE VENTE DAWADJEN SITIFIS   \n",
       "4   5             POINT DE VENTE DAWADJEN SITIFIS   \n",
       "\n",
       "                                             address    phone_number category  \\\n",
       "0          CITE GOUADJLIA RABAH PROJET 160 LOG BT 09   0798 22 14 13       pv   \n",
       "1  cite Mohamed m'gena nord ouest  Commune Ain Ke...   0561 65 30 18       pv   \n",
       "2                        cité stade Commune de Kaous   0661 33 60 29       pv   \n",
       "3           RUE DES ABATTOIRS CITE LAID DHAOUI Sétif   0661 31 60 90       pv   \n",
       "4   CITE BIR EN NSA AADL 3000 LOGTS LOCAL Num 124125  0770 80 45 32        pv   \n",
       "\n",
       "  organization   latitude  longitude commune_name     wilaya_name type_name  \\\n",
       "0      AGROLOG  36.027295   6.563820    AIN MLILA  OUM EL BOUAGHI   Viandes   \n",
       "1      AGROLOG  35.928594   6.684329   AIN KERCHA  OUM EL BOUAGHI   Viandes   \n",
       "2      AGROLOG  36.377426   5.814824        KAOUS           JIJEL   Viandes   \n",
       "3      AGROLOG  36.170960   5.406740        SETIF           SETIF   Viandes   \n",
       "4      AGROLOG  36.176870   5.476410        SETIF           SETIF   Viandes   \n",
       "\n",
       "   type_id  \n",
       "0        1  \n",
       "1        1  \n",
       "2        1  \n",
       "3        1  \n",
       "4        1  "
      ],
      "text/html": "<div>\n<style scoped>\n    .dataframe tbody tr th:only-of-type {\n        vertical-align: middle;\n    }\n\n    .dataframe tbody tr th {\n        vertical-align: top;\n    }\n\n    .dataframe thead th {\n        text-align: right;\n    }\n</style>\n<table border=\"1\" class=\"dataframe\">\n  <thead>\n    <tr style=\"text-align: right;\">\n      <th></th>\n      <th>id</th>\n      <th>name</th>\n      <th>address</th>\n      <th>phone_number</th>\n      <th>category</th>\n      <th>organization</th>\n      <th>latitude</th>\n      <th>longitude</th>\n      <th>commune_name</th>\n      <th>wilaya_name</th>\n      <th>type_name</th>\n      <th>type_id</th>\n    </tr>\n  </thead>\n  <tbody>\n    <tr>\n      <th>0</th>\n      <td>1</td>\n      <td>Ouled Hamla SPA Tikouyavic</td>\n      <td>CITE GOUADJLIA RABAH PROJET 160 LOG BT 09</td>\n      <td>0798 22 14 13</td>\n      <td>pv</td>\n      <td>AGROLOG</td>\n      <td>36.027295</td>\n      <td>6.563820</td>\n      <td>AIN MLILA</td>\n      <td>OUM EL BOUAGHI</td>\n      <td>Viandes</td>\n      <td>1</td>\n    </tr>\n    <tr>\n      <th>1</th>\n      <td>2</td>\n      <td>Point de vente UPD Ain Kercha SPA Thagavic</td>\n      <td>cite Mohamed m'gena nord ouest  Commune Ain Ke...</td>\n      <td>0561 65 30 18</td>\n      <td>pv</td>\n      <td>AGROLOG</td>\n      <td>35.928594</td>\n      <td>6.684329</td>\n      <td>AIN KERCHA</td>\n      <td>OUM EL BOUAGHI</td>\n      <td>Viandes</td>\n      <td>1</td>\n    </tr>\n    <tr>\n      <th>2</th>\n      <td>3</td>\n      <td>Point de vente kaous SPA TAHAGAVIC</td>\n      <td>cité stade Commune de Kaous</td>\n      <td>0661 33 60 29</td>\n      <td>pv</td>\n      <td>AGROLOG</td>\n      <td>36.377426</td>\n      <td>5.814824</td>\n      <td>KAOUS</td>\n      <td>JIJEL</td>\n      <td>Viandes</td>\n      <td>1</td>\n    </tr>\n    <tr>\n      <th>3</th>\n      <td>4</td>\n      <td>POINT DE VENTE DAWADJEN SITIFIS</td>\n      <td>RUE DES ABATTOIRS CITE LAID DHAOUI Sétif</td>\n      <td>0661 31 60 90</td>\n      <td>pv</td>\n      <td>AGROLOG</td>\n      <td>36.170960</td>\n      <td>5.406740</td>\n      <td>SETIF</td>\n      <td>SETIF</td>\n      <td>Viandes</td>\n      <td>1</td>\n    </tr>\n    <tr>\n      <th>4</th>\n      <td>5</td>\n      <td>POINT DE VENTE DAWADJEN SITIFIS</td>\n      <td>CITE BIR EN NSA AADL 3000 LOGTS LOCAL Num 124125</td>\n      <td>0770 80 45 32</td>\n      <td>pv</td>\n      <td>AGROLOG</td>\n      <td>36.176870</td>\n      <td>5.476410</td>\n      <td>SETIF</td>\n      <td>SETIF</td>\n      <td>Viandes</td>\n      <td>1</td>\n    </tr>\n  </tbody>\n</table>\n</div>"
     },
     "metadata": {},
     "execution_count": 18
    }
   ],
   "source": [
    "pois_file_name = './elfirma.json'\n",
    "pois_df = pd.read_json(pois_file_name)\n",
    "pois_df.head()"
   ]
  },
  {
   "cell_type": "code",
   "execution_count": 11,
   "metadata": {},
   "outputs": [
    {
     "output_type": "execute_result",
     "data": {
      "text/plain": [
       "   code_wil         nom_wil\n",
       "0         1           ADRAR\n",
       "1         2           CHLEF\n",
       "2         3        LAGHOUAT\n",
       "3         4  OUM EL BOUAGHI\n",
       "4         5           BATNA"
      ],
      "text/html": "<div>\n<style scoped>\n    .dataframe tbody tr th:only-of-type {\n        vertical-align: middle;\n    }\n\n    .dataframe tbody tr th {\n        vertical-align: top;\n    }\n\n    .dataframe thead th {\n        text-align: right;\n    }\n</style>\n<table border=\"1\" class=\"dataframe\">\n  <thead>\n    <tr style=\"text-align: right;\">\n      <th></th>\n      <th>code_wil</th>\n      <th>nom_wil</th>\n    </tr>\n  </thead>\n  <tbody>\n    <tr>\n      <th>0</th>\n      <td>1</td>\n      <td>ADRAR</td>\n    </tr>\n    <tr>\n      <th>1</th>\n      <td>2</td>\n      <td>CHLEF</td>\n    </tr>\n    <tr>\n      <th>2</th>\n      <td>3</td>\n      <td>LAGHOUAT</td>\n    </tr>\n    <tr>\n      <th>3</th>\n      <td>4</td>\n      <td>OUM EL BOUAGHI</td>\n    </tr>\n    <tr>\n      <th>4</th>\n      <td>5</td>\n      <td>BATNA</td>\n    </tr>\n  </tbody>\n</table>\n</div>"
     },
     "metadata": {},
     "execution_count": 11
    }
   ],
   "source": [
    "# Load Wilayas Features and calculate polygon centroids\n",
    "wilayas_gjson = '../../dz-admin/wilayas_48.csv'\n",
    "wilayas_df = pd.read_csv(wilayas_gjson)\n",
    "wilayas_df = wilayas_df[['code', 'nom_maj']]\n",
    "wilayas_df = wilayas_df.rename(columns={'nom_maj': 'nom_wil', 'code': 'code_wil'})\n",
    "wilayas_df.head()"
   ]
  },
  {
   "cell_type": "code",
   "execution_count": 22,
   "metadata": {},
   "outputs": [
    {
     "output_type": "execute_result",
     "data": {
      "text/plain": [
       "id              486\n",
       "name            486\n",
       "address         486\n",
       "phone_number     54\n",
       "category        486\n",
       "organization    486\n",
       "latitude        486\n",
       "longitude       486\n",
       "commune_name    486\n",
       "wilaya_name     486\n",
       "type_name       486\n",
       "type_id         486\n",
       "code_wil        486\n",
       "nom_wil         486\n",
       "dtype: int64"
      ]
     },
     "metadata": {},
     "execution_count": 22
    }
   ],
   "source": [
    "# Merge with Wialyas DataFrame\n",
    "merged = pois_df.merge(wilayas_df, left_on='wilaya_name', right_on='nom_wil', how='left')\n",
    "\n",
    "merged.count()"
   ]
  },
  {
   "cell_type": "code",
   "execution_count": 24,
   "metadata": {},
   "outputs": [
    {
     "output_type": "execute_result",
     "data": {
      "text/plain": [
       "       id         name                            address phone_number  \\\n",
       "481  2039   URCA JIJEL               Marché couvert taher         None   \n",
       "482  2040   URCA JIJEL                              Jijel         None   \n",
       "483  2041   ccls saida                     route N6 SAIDA         None   \n",
       "484  2042  ccls skikda  complexe cerealier hammadi krouma         None   \n",
       "485  2043  ccls skikda        route souk salaha bouchaour         None   \n",
       "\n",
       "    category organization   latitude  longitude     commune_name wilaya_name  \\\n",
       "481       pv         OAIC  36.772383   5.896356            TAHER       JIJEL   \n",
       "482       pv         OAIC  36.808004   5.763458            JIJEL       JIJEL   \n",
       "483       pv         OAIC  34.836281   0.146586            SAIDA       SAIDA   \n",
       "484       pv         OAIC  36.844111   6.929096           SKIKDA      SKIKDA   \n",
       "485       pv         OAIC  36.704290   6.856340  SALAH BOUCHAOUR      SKIKDA   \n",
       "\n",
       "        type_name  type_id  code_wil nom_wil  \n",
       "481  Légumes secs        5        18   JIJEL  \n",
       "482  Légumes secs        5        18   JIJEL  \n",
       "483  Légumes secs        5        20   SAIDA  \n",
       "484  Légumes secs        5        21  SKIKDA  \n",
       "485  Légumes secs        5        21  SKIKDA  "
      ],
      "text/html": "<div>\n<style scoped>\n    .dataframe tbody tr th:only-of-type {\n        vertical-align: middle;\n    }\n\n    .dataframe tbody tr th {\n        vertical-align: top;\n    }\n\n    .dataframe thead th {\n        text-align: right;\n    }\n</style>\n<table border=\"1\" class=\"dataframe\">\n  <thead>\n    <tr style=\"text-align: right;\">\n      <th></th>\n      <th>id</th>\n      <th>name</th>\n      <th>address</th>\n      <th>phone_number</th>\n      <th>category</th>\n      <th>organization</th>\n      <th>latitude</th>\n      <th>longitude</th>\n      <th>commune_name</th>\n      <th>wilaya_name</th>\n      <th>type_name</th>\n      <th>type_id</th>\n      <th>code_wil</th>\n      <th>nom_wil</th>\n    </tr>\n  </thead>\n  <tbody>\n    <tr>\n      <th>481</th>\n      <td>2039</td>\n      <td>URCA JIJEL</td>\n      <td>Marché couvert taher</td>\n      <td>None</td>\n      <td>pv</td>\n      <td>OAIC</td>\n      <td>36.772383</td>\n      <td>5.896356</td>\n      <td>TAHER</td>\n      <td>JIJEL</td>\n      <td>Légumes secs</td>\n      <td>5</td>\n      <td>18</td>\n      <td>JIJEL</td>\n    </tr>\n    <tr>\n      <th>482</th>\n      <td>2040</td>\n      <td>URCA JIJEL</td>\n      <td>Jijel</td>\n      <td>None</td>\n      <td>pv</td>\n      <td>OAIC</td>\n      <td>36.808004</td>\n      <td>5.763458</td>\n      <td>JIJEL</td>\n      <td>JIJEL</td>\n      <td>Légumes secs</td>\n      <td>5</td>\n      <td>18</td>\n      <td>JIJEL</td>\n    </tr>\n    <tr>\n      <th>483</th>\n      <td>2041</td>\n      <td>ccls saida</td>\n      <td>route N6 SAIDA</td>\n      <td>None</td>\n      <td>pv</td>\n      <td>OAIC</td>\n      <td>34.836281</td>\n      <td>0.146586</td>\n      <td>SAIDA</td>\n      <td>SAIDA</td>\n      <td>Légumes secs</td>\n      <td>5</td>\n      <td>20</td>\n      <td>SAIDA</td>\n    </tr>\n    <tr>\n      <th>484</th>\n      <td>2042</td>\n      <td>ccls skikda</td>\n      <td>complexe cerealier hammadi krouma</td>\n      <td>None</td>\n      <td>pv</td>\n      <td>OAIC</td>\n      <td>36.844111</td>\n      <td>6.929096</td>\n      <td>SKIKDA</td>\n      <td>SKIKDA</td>\n      <td>Légumes secs</td>\n      <td>5</td>\n      <td>21</td>\n      <td>SKIKDA</td>\n    </tr>\n    <tr>\n      <th>485</th>\n      <td>2043</td>\n      <td>ccls skikda</td>\n      <td>route souk salaha bouchaour</td>\n      <td>None</td>\n      <td>pv</td>\n      <td>OAIC</td>\n      <td>36.704290</td>\n      <td>6.856340</td>\n      <td>SALAH BOUCHAOUR</td>\n      <td>SKIKDA</td>\n      <td>Légumes secs</td>\n      <td>5</td>\n      <td>21</td>\n      <td>SKIKDA</td>\n    </tr>\n  </tbody>\n</table>\n</div>"
     },
     "metadata": {},
     "execution_count": 24
    }
   ],
   "source": [
    "merged.tail()"
   ]
  },
  {
   "cell_type": "code",
   "execution_count": 29,
   "metadata": {},
   "outputs": [
    {
     "output_type": "execute_result",
     "data": {
      "text/plain": [
       "                                         name  \\\n",
       "0                  Ouled Hamla SPA Tikouyavic   \n",
       "1  Point de vente UPD Ain Kercha SPA Thagavic   \n",
       "2          Point de vente kaous SPA TAHAGAVIC   \n",
       "3             POINT DE VENTE DAWADJEN SITIFIS   \n",
       "4             POINT DE VENTE DAWADJEN SITIFIS   \n",
       "\n",
       "                                             address    phone_number category  \\\n",
       "0          CITE GOUADJLIA RABAH PROJET 160 LOG BT 09   0798 22 14 13       pv   \n",
       "1  cite Mohamed m'gena nord ouest  Commune Ain Ke...   0561 65 30 18       pv   \n",
       "2                        cité stade Commune de Kaous   0661 33 60 29       pv   \n",
       "3           RUE DES ABATTOIRS CITE LAID DHAOUI Sétif   0661 31 60 90       pv   \n",
       "4   CITE BIR EN NSA AADL 3000 LOGTS LOCAL Num 124125  0770 80 45 32        pv   \n",
       "\n",
       "  organization        lat       lon commune_name     wilaya_name type_name  \\\n",
       "0      AGROLOG  36.027295  6.563820    AIN MLILA  OUM EL BOUAGHI   Viandes   \n",
       "1      AGROLOG  35.928594  6.684329   AIN KERCHA  OUM EL BOUAGHI   Viandes   \n",
       "2      AGROLOG  36.377426  5.814824        KAOUS           JIJEL   Viandes   \n",
       "3      AGROLOG  36.170960  5.406740        SETIF           SETIF   Viandes   \n",
       "4      AGROLOG  36.176870  5.476410        SETIF           SETIF   Viandes   \n",
       "\n",
       "   type_id  code_wil  \n",
       "0        1         4  \n",
       "1        1         4  \n",
       "2        1        18  \n",
       "3        1        19  \n",
       "4        1        19  "
      ],
      "text/html": "<div>\n<style scoped>\n    .dataframe tbody tr th:only-of-type {\n        vertical-align: middle;\n    }\n\n    .dataframe tbody tr th {\n        vertical-align: top;\n    }\n\n    .dataframe thead th {\n        text-align: right;\n    }\n</style>\n<table border=\"1\" class=\"dataframe\">\n  <thead>\n    <tr style=\"text-align: right;\">\n      <th></th>\n      <th>name</th>\n      <th>address</th>\n      <th>phone_number</th>\n      <th>category</th>\n      <th>organization</th>\n      <th>lat</th>\n      <th>lon</th>\n      <th>commune_name</th>\n      <th>wilaya_name</th>\n      <th>type_name</th>\n      <th>type_id</th>\n      <th>code_wil</th>\n    </tr>\n  </thead>\n  <tbody>\n    <tr>\n      <th>0</th>\n      <td>Ouled Hamla SPA Tikouyavic</td>\n      <td>CITE GOUADJLIA RABAH PROJET 160 LOG BT 09</td>\n      <td>0798 22 14 13</td>\n      <td>pv</td>\n      <td>AGROLOG</td>\n      <td>36.027295</td>\n      <td>6.563820</td>\n      <td>AIN MLILA</td>\n      <td>OUM EL BOUAGHI</td>\n      <td>Viandes</td>\n      <td>1</td>\n      <td>4</td>\n    </tr>\n    <tr>\n      <th>1</th>\n      <td>Point de vente UPD Ain Kercha SPA Thagavic</td>\n      <td>cite Mohamed m'gena nord ouest  Commune Ain Ke...</td>\n      <td>0561 65 30 18</td>\n      <td>pv</td>\n      <td>AGROLOG</td>\n      <td>35.928594</td>\n      <td>6.684329</td>\n      <td>AIN KERCHA</td>\n      <td>OUM EL BOUAGHI</td>\n      <td>Viandes</td>\n      <td>1</td>\n      <td>4</td>\n    </tr>\n    <tr>\n      <th>2</th>\n      <td>Point de vente kaous SPA TAHAGAVIC</td>\n      <td>cité stade Commune de Kaous</td>\n      <td>0661 33 60 29</td>\n      <td>pv</td>\n      <td>AGROLOG</td>\n      <td>36.377426</td>\n      <td>5.814824</td>\n      <td>KAOUS</td>\n      <td>JIJEL</td>\n      <td>Viandes</td>\n      <td>1</td>\n      <td>18</td>\n    </tr>\n    <tr>\n      <th>3</th>\n      <td>POINT DE VENTE DAWADJEN SITIFIS</td>\n      <td>RUE DES ABATTOIRS CITE LAID DHAOUI Sétif</td>\n      <td>0661 31 60 90</td>\n      <td>pv</td>\n      <td>AGROLOG</td>\n      <td>36.170960</td>\n      <td>5.406740</td>\n      <td>SETIF</td>\n      <td>SETIF</td>\n      <td>Viandes</td>\n      <td>1</td>\n      <td>19</td>\n    </tr>\n    <tr>\n      <th>4</th>\n      <td>POINT DE VENTE DAWADJEN SITIFIS</td>\n      <td>CITE BIR EN NSA AADL 3000 LOGTS LOCAL Num 124125</td>\n      <td>0770 80 45 32</td>\n      <td>pv</td>\n      <td>AGROLOG</td>\n      <td>36.176870</td>\n      <td>5.476410</td>\n      <td>SETIF</td>\n      <td>SETIF</td>\n      <td>Viandes</td>\n      <td>1</td>\n      <td>19</td>\n    </tr>\n  </tbody>\n</table>\n</div>"
     },
     "metadata": {},
     "execution_count": 29
    }
   ],
   "source": [
    "merged.rename(columns={\"latitude\": \"lat\", \"longitude\": \"lon\"}, inplace=True)\n",
    "merged = merged.drop(columns=['nom_wil', 'id'], axis=1)\n",
    "merged.head()"
   ]
  },
  {
   "cell_type": "code",
   "execution_count": 30,
   "metadata": {},
   "outputs": [],
   "source": [
    "merged.to_csv('./elfirma.csv', header = True)"
   ]
  }
 ]
}