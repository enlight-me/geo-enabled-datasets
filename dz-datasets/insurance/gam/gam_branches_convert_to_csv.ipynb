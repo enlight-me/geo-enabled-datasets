{
 "metadata": {
  "language_info": {
   "codemirror_mode": {
    "name": "ipython",
    "version": 3
   },
   "file_extension": ".py",
   "mimetype": "text/x-python",
   "name": "python",
   "nbconvert_exporter": "python",
   "pygments_lexer": "ipython3",
   "version": "3.8.5"
  },
  "orig_nbformat": 2,
  "kernelspec": {
   "name": "python3",
   "display_name": "Python 3",
   "language": "python"
  }
 },
 "nbformat": 4,
 "nbformat_minor": 2,
 "cells": [
  {
   "cell_type": "code",
   "execution_count": 14,
   "metadata": {},
   "outputs": [],
   "source": [
    "# load packages\n",
    "import pandas as pd\n",
    "import geopandas as gpd\n",
    "import unidecode "
   ]
  },
  {
   "cell_type": "code",
   "execution_count": 15,
   "metadata": {},
   "outputs": [
    {
     "output_type": "execute_result",
     "data": {
      "text/plain": [
       "id               179\n",
       "title            179\n",
       "description      179\n",
       "street           179\n",
       "city             179\n",
       "state            179\n",
       "postal_code      179\n",
       "lat              179\n",
       "lng              179\n",
       "phone            179\n",
       "fax              179\n",
       "email            179\n",
       "website          179\n",
       "logo_id            0\n",
       "path               0\n",
       "marker_id        179\n",
       "description_2    179\n",
       "open_hours       179\n",
       "ordr             179\n",
       "brand              0\n",
       "categories       171\n",
       "days_str         179\n",
       "dtype: int64"
      ]
     },
     "metadata": {},
     "execution_count": 15
    }
   ],
   "source": [
    "pois_file_name = './gam_raw.json'\n",
    "raw_df = pd.read_json(pois_file_name)\n",
    "raw_df.count()"
   ]
  },
  {
   "cell_type": "code",
   "execution_count": 16,
   "metadata": {},
   "outputs": [
    {
     "output_type": "execute_result",
     "data": {
      "text/plain": [
       "     id                              title  \\\n",
       "0  1616          05-01.10 - Agence BOUABSA   \n",
       "1  1591                  21.2.Y.BOULECHFAR   \n",
       "2  1534   44-04.10 - Agence KHEMIS MELIANA   \n",
       "3  1506             DZ001 - Agence CHERAGA   \n",
       "4  1525                           02-01.50   \n",
       "\n",
       "                                           street             city  \\\n",
       "0              08 avenue les frères BOUABSA-BATNA          Batna     \n",
       "1               Route National El Hrouche SKIKDA    Sidi Mezghiche   \n",
       "2                Cité 56 logts LSP khmis miliana   Khemis Miliana    \n",
       "3                 Chéraga Ouled Fayet N° 57 Alger          Chéraga   \n",
       "4   RDC Batiment 4 N°1 commune et daira de Chlef            Chlef    \n",
       "\n",
       "         state                             phone fax  categories        lat  \\\n",
       "0        BATNA   07 82 29 14 75 / 05 54 80 21 39           108.0  35.554867   \n",
       "1  CONSTANTINE                    07 70 99 41 07           105.0  36.655703   \n",
       "2    AIN DEFLA   07 82 29 14 37 / 05 54 80 30 71            94.0  36.256575   \n",
       "3        ALGER                    07 82 29 15 86            91.0  36.755765   \n",
       "4        CHLEF    0782 16 44 39 /  0554 84 86 74            98.0  36.164586   \n",
       "\n",
       "        lng  \n",
       "0  6.176896  \n",
       "1  6.840460  \n",
       "2  2.220505  \n",
       "3  2.951391  \n",
       "4  1.331892  "
      ],
      "text/html": "<div>\n<style scoped>\n    .dataframe tbody tr th:only-of-type {\n        vertical-align: middle;\n    }\n\n    .dataframe tbody tr th {\n        vertical-align: top;\n    }\n\n    .dataframe thead th {\n        text-align: right;\n    }\n</style>\n<table border=\"1\" class=\"dataframe\">\n  <thead>\n    <tr style=\"text-align: right;\">\n      <th></th>\n      <th>id</th>\n      <th>title</th>\n      <th>street</th>\n      <th>city</th>\n      <th>state</th>\n      <th>phone</th>\n      <th>fax</th>\n      <th>categories</th>\n      <th>lat</th>\n      <th>lng</th>\n    </tr>\n  </thead>\n  <tbody>\n    <tr>\n      <th>0</th>\n      <td>1616</td>\n      <td>05-01.10 - Agence BOUABSA</td>\n      <td>08 avenue les frères BOUABSA-BATNA</td>\n      <td>Batna</td>\n      <td>BATNA</td>\n      <td>07 82 29 14 75 / 05 54 80 21 39</td>\n      <td></td>\n      <td>108.0</td>\n      <td>35.554867</td>\n      <td>6.176896</td>\n    </tr>\n    <tr>\n      <th>1</th>\n      <td>1591</td>\n      <td>21.2.Y.BOULECHFAR</td>\n      <td>Route National El Hrouche SKIKDA</td>\n      <td>Sidi Mezghiche</td>\n      <td>CONSTANTINE</td>\n      <td>07 70 99 41 07</td>\n      <td></td>\n      <td>105.0</td>\n      <td>36.655703</td>\n      <td>6.840460</td>\n    </tr>\n    <tr>\n      <th>2</th>\n      <td>1534</td>\n      <td>44-04.10 - Agence KHEMIS MELIANA</td>\n      <td>Cité 56 logts LSP khmis miliana</td>\n      <td>Khemis Miliana</td>\n      <td>AIN DEFLA</td>\n      <td>07 82 29 14 37 / 05 54 80 30 71</td>\n      <td></td>\n      <td>94.0</td>\n      <td>36.256575</td>\n      <td>2.220505</td>\n    </tr>\n    <tr>\n      <th>3</th>\n      <td>1506</td>\n      <td>DZ001 - Agence CHERAGA</td>\n      <td>Chéraga Ouled Fayet N° 57 Alger</td>\n      <td>Chéraga</td>\n      <td>ALGER</td>\n      <td>07 82 29 15 86</td>\n      <td></td>\n      <td>91.0</td>\n      <td>36.755765</td>\n      <td>2.951391</td>\n    </tr>\n    <tr>\n      <th>4</th>\n      <td>1525</td>\n      <td>02-01.50</td>\n      <td>RDC Batiment 4 N°1 commune et daira de Chlef</td>\n      <td>Chlef</td>\n      <td>CHLEF</td>\n      <td>0782 16 44 39 /  0554 84 86 74</td>\n      <td></td>\n      <td>98.0</td>\n      <td>36.164586</td>\n      <td>1.331892</td>\n    </tr>\n  </tbody>\n</table>\n</div>"
     },
     "metadata": {},
     "execution_count": 16
    }
   ],
   "source": [
    "pois_df = raw_df[['id', 'title', 'street', 'city', 'state', 'phone', 'fax','categories', 'lat', 'lng']]\n",
    "pois_df.head()"
   ]
  },
  {
   "cell_type": "code",
   "execution_count": 17,
   "metadata": {},
   "outputs": [
    {
     "output_type": "stream",
     "name": "stderr",
     "text": [
      "/home/ali/.virtualenvs/geoweba/lib/python3.8/site-packages/pandas/core/frame.py:4441: SettingWithCopyWarning: \nA value is trying to be set on a copy of a slice from a DataFrame\n\nSee the caveats in the documentation: https://pandas.pydata.org/pandas-docs/stable/user_guide/indexing.html#returning-a-view-versus-a-copy\n  return super().rename(\n"
     ]
    },
    {
     "output_type": "execute_result",
     "data": {
      "text/plain": [
       "0            BATNA\n",
       "1      CONSTANTINE\n",
       "2        AIN DEFLA\n",
       "3            ALGER\n",
       "4            CHLEF\n",
       "          ...     \n",
       "174          ALGER\n",
       "175          ALGER\n",
       "176           ORAN\n",
       "177           ORAN\n",
       "178          SETIF\n",
       "Name: wilaya, Length: 179, dtype: object"
      ]
     },
     "metadata": {},
     "execution_count": 17
    }
   ],
   "source": [
    "pois_df.rename(columns={'state': 'wilaya', 'lng': 'lon'}, inplace=True) \n",
    "pois_df.wilaya"
   ]
  },
  {
   "cell_type": "code",
   "execution_count": 18,
   "metadata": {},
   "outputs": [
    {
     "output_type": "stream",
     "name": "stderr",
     "text": [
      "<ipython-input-18-6b978fc75b42>:1: SettingWithCopyWarning: \nA value is trying to be set on a copy of a slice from a DataFrame.\nTry using .loc[row_indexer,col_indexer] = value instead\n\nSee the caveats in the documentation: https://pandas.pydata.org/pandas-docs/stable/user_guide/indexing.html#returning-a-view-versus-a-copy\n  pois_df['wilaya_maj'] = [unidecode.unidecode(w) for w in pois_df.wilaya.str.upper()]\n"
     ]
    },
    {
     "output_type": "execute_result",
     "data": {
      "text/plain": [
       "0            BATNA\n",
       "1      CONSTANTINE\n",
       "2        AIN DEFLA\n",
       "3            ALGER\n",
       "4            CHLEF\n",
       "          ...     \n",
       "174          ALGER\n",
       "175          ALGER\n",
       "176           ORAN\n",
       "177           ORAN\n",
       "178          SETIF\n",
       "Name: wilaya_maj, Length: 179, dtype: object"
      ]
     },
     "metadata": {},
     "execution_count": 18
    }
   ],
   "source": [
    "pois_df['wilaya_maj'] = [unidecode.unidecode(w) for w in pois_df.wilaya.str.upper()]\n",
    "pois_df.wilaya_maj"
   ]
  },
  {
   "cell_type": "code",
   "execution_count": 19,
   "metadata": {},
   "outputs": [
    {
     "output_type": "execute_result",
     "data": {
      "text/plain": [
       "   code_wil         nom_wil\n",
       "0         1           ADRAR\n",
       "1         2           CHLEF\n",
       "2         3        LAGHOUAT\n",
       "3         4  OUM EL BOUAGHI\n",
       "4         5           BATNA"
      ],
      "text/html": "<div>\n<style scoped>\n    .dataframe tbody tr th:only-of-type {\n        vertical-align: middle;\n    }\n\n    .dataframe tbody tr th {\n        vertical-align: top;\n    }\n\n    .dataframe thead th {\n        text-align: right;\n    }\n</style>\n<table border=\"1\" class=\"dataframe\">\n  <thead>\n    <tr style=\"text-align: right;\">\n      <th></th>\n      <th>code_wil</th>\n      <th>nom_wil</th>\n    </tr>\n  </thead>\n  <tbody>\n    <tr>\n      <th>0</th>\n      <td>1</td>\n      <td>ADRAR</td>\n    </tr>\n    <tr>\n      <th>1</th>\n      <td>2</td>\n      <td>CHLEF</td>\n    </tr>\n    <tr>\n      <th>2</th>\n      <td>3</td>\n      <td>LAGHOUAT</td>\n    </tr>\n    <tr>\n      <th>3</th>\n      <td>4</td>\n      <td>OUM EL BOUAGHI</td>\n    </tr>\n    <tr>\n      <th>4</th>\n      <td>5</td>\n      <td>BATNA</td>\n    </tr>\n  </tbody>\n</table>\n</div>"
     },
     "metadata": {},
     "execution_count": 19
    }
   ],
   "source": [
    "# Add Wilayas codes\n",
    "# Load Wilayas Features and calculate polygon centroids\n",
    "wilayas_gjson = '../../../dz-admin/wilayas_48.csv'\n",
    "wilayas_df = pd.read_csv(wilayas_gjson)\n",
    "wilayas_df = wilayas_df[['code', 'nom_maj']]\n",
    "wilayas_df = wilayas_df.rename(columns={'nom_maj': 'nom_wil', 'code': 'code_wil'})\n",
    "wilayas_df.head()"
   ]
  },
  {
   "cell_type": "code",
   "execution_count": 20,
   "metadata": {},
   "outputs": [
    {
     "output_type": "execute_result",
     "data": {
      "text/plain": [
       "Empty DataFrame\n",
       "Columns: [id, title, street, city, wilaya, phone, fax, categories, lat, lon, wilaya_maj, code_wil, nom_wil]\n",
       "Index: []"
      ],
      "text/html": "<div>\n<style scoped>\n    .dataframe tbody tr th:only-of-type {\n        vertical-align: middle;\n    }\n\n    .dataframe tbody tr th {\n        vertical-align: top;\n    }\n\n    .dataframe thead th {\n        text-align: right;\n    }\n</style>\n<table border=\"1\" class=\"dataframe\">\n  <thead>\n    <tr style=\"text-align: right;\">\n      <th></th>\n      <th>id</th>\n      <th>title</th>\n      <th>street</th>\n      <th>city</th>\n      <th>wilaya</th>\n      <th>phone</th>\n      <th>fax</th>\n      <th>categories</th>\n      <th>lat</th>\n      <th>lon</th>\n      <th>wilaya_maj</th>\n      <th>code_wil</th>\n      <th>nom_wil</th>\n    </tr>\n  </thead>\n  <tbody>\n  </tbody>\n</table>\n</div>"
     },
     "metadata": {},
     "execution_count": 20
    }
   ],
   "source": [
    "# Merge with Wialyas DataFrame\n",
    "merged = pois_df.merge(wilayas_df, left_on='wilaya_maj', right_on='nom_wil', how='left')\n",
    "\n",
    "merged[merged['code_wil'].isnull()]"
   ]
  },
  {
   "cell_type": "code",
   "execution_count": 21,
   "metadata": {},
   "outputs": [
    {
     "output_type": "execute_result",
     "data": {
      "text/plain": [
       "id            179\n",
       "title         179\n",
       "street        179\n",
       "city          179\n",
       "wilaya        179\n",
       "phone         179\n",
       "fax           179\n",
       "categories    171\n",
       "lat           179\n",
       "lon           179\n",
       "wilaya_maj    179\n",
       "code_wil      179\n",
       "nom_wil       179\n",
       "dtype: int64"
      ]
     },
     "metadata": {},
     "execution_count": 21
    }
   ],
   "source": [
    "merged.count()"
   ]
  },
  {
   "cell_type": "code",
   "execution_count": 22,
   "metadata": {},
   "outputs": [
    {
     "output_type": "execute_result",
     "data": {
      "text/plain": [
       "     id                              title  \\\n",
       "0  1616          05-01.10 - Agence BOUABSA   \n",
       "1  1591                  21.2.Y.BOULECHFAR   \n",
       "2  1534   44-04.10 - Agence KHEMIS MELIANA   \n",
       "3  1506             DZ001 - Agence CHERAGA   \n",
       "4  1525                           02-01.50   \n",
       "\n",
       "                                           street             city  \\\n",
       "0              08 avenue les frères BOUABSA-BATNA          Batna     \n",
       "1               Route National El Hrouche SKIKDA    Sidi Mezghiche   \n",
       "2                Cité 56 logts LSP khmis miliana   Khemis Miliana    \n",
       "3                 Chéraga Ouled Fayet N° 57 Alger          Chéraga   \n",
       "4   RDC Batiment 4 N°1 commune et daira de Chlef            Chlef    \n",
       "\n",
       "        wilaya                             phone fax  categories        lat  \\\n",
       "0        BATNA   07 82 29 14 75 / 05 54 80 21 39           108.0  35.554867   \n",
       "1  CONSTANTINE                    07 70 99 41 07           105.0  36.655703   \n",
       "2    AIN DEFLA   07 82 29 14 37 / 05 54 80 30 71            94.0  36.256575   \n",
       "3        ALGER                    07 82 29 15 86            91.0  36.755765   \n",
       "4        CHLEF    0782 16 44 39 /  0554 84 86 74            98.0  36.164586   \n",
       "\n",
       "        lon   wilaya_maj  code_wil      nom_wil  \n",
       "0  6.176896        BATNA         5        BATNA  \n",
       "1  6.840460  CONSTANTINE        25  CONSTANTINE  \n",
       "2  2.220505    AIN DEFLA        44    AIN DEFLA  \n",
       "3  2.951391        ALGER        16        ALGER  \n",
       "4  1.331892        CHLEF         2        CHLEF  "
      ],
      "text/html": "<div>\n<style scoped>\n    .dataframe tbody tr th:only-of-type {\n        vertical-align: middle;\n    }\n\n    .dataframe tbody tr th {\n        vertical-align: top;\n    }\n\n    .dataframe thead th {\n        text-align: right;\n    }\n</style>\n<table border=\"1\" class=\"dataframe\">\n  <thead>\n    <tr style=\"text-align: right;\">\n      <th></th>\n      <th>id</th>\n      <th>title</th>\n      <th>street</th>\n      <th>city</th>\n      <th>wilaya</th>\n      <th>phone</th>\n      <th>fax</th>\n      <th>categories</th>\n      <th>lat</th>\n      <th>lon</th>\n      <th>wilaya_maj</th>\n      <th>code_wil</th>\n      <th>nom_wil</th>\n    </tr>\n  </thead>\n  <tbody>\n    <tr>\n      <th>0</th>\n      <td>1616</td>\n      <td>05-01.10 - Agence BOUABSA</td>\n      <td>08 avenue les frères BOUABSA-BATNA</td>\n      <td>Batna</td>\n      <td>BATNA</td>\n      <td>07 82 29 14 75 / 05 54 80 21 39</td>\n      <td></td>\n      <td>108.0</td>\n      <td>35.554867</td>\n      <td>6.176896</td>\n      <td>BATNA</td>\n      <td>5</td>\n      <td>BATNA</td>\n    </tr>\n    <tr>\n      <th>1</th>\n      <td>1591</td>\n      <td>21.2.Y.BOULECHFAR</td>\n      <td>Route National El Hrouche SKIKDA</td>\n      <td>Sidi Mezghiche</td>\n      <td>CONSTANTINE</td>\n      <td>07 70 99 41 07</td>\n      <td></td>\n      <td>105.0</td>\n      <td>36.655703</td>\n      <td>6.840460</td>\n      <td>CONSTANTINE</td>\n      <td>25</td>\n      <td>CONSTANTINE</td>\n    </tr>\n    <tr>\n      <th>2</th>\n      <td>1534</td>\n      <td>44-04.10 - Agence KHEMIS MELIANA</td>\n      <td>Cité 56 logts LSP khmis miliana</td>\n      <td>Khemis Miliana</td>\n      <td>AIN DEFLA</td>\n      <td>07 82 29 14 37 / 05 54 80 30 71</td>\n      <td></td>\n      <td>94.0</td>\n      <td>36.256575</td>\n      <td>2.220505</td>\n      <td>AIN DEFLA</td>\n      <td>44</td>\n      <td>AIN DEFLA</td>\n    </tr>\n    <tr>\n      <th>3</th>\n      <td>1506</td>\n      <td>DZ001 - Agence CHERAGA</td>\n      <td>Chéraga Ouled Fayet N° 57 Alger</td>\n      <td>Chéraga</td>\n      <td>ALGER</td>\n      <td>07 82 29 15 86</td>\n      <td></td>\n      <td>91.0</td>\n      <td>36.755765</td>\n      <td>2.951391</td>\n      <td>ALGER</td>\n      <td>16</td>\n      <td>ALGER</td>\n    </tr>\n    <tr>\n      <th>4</th>\n      <td>1525</td>\n      <td>02-01.50</td>\n      <td>RDC Batiment 4 N°1 commune et daira de Chlef</td>\n      <td>Chlef</td>\n      <td>CHLEF</td>\n      <td>0782 16 44 39 /  0554 84 86 74</td>\n      <td></td>\n      <td>98.0</td>\n      <td>36.164586</td>\n      <td>1.331892</td>\n      <td>CHLEF</td>\n      <td>2</td>\n      <td>CHLEF</td>\n    </tr>\n  </tbody>\n</table>\n</div>"
     },
     "metadata": {},
     "execution_count": 22
    }
   ],
   "source": [
    "merged.head()"
   ]
  },
  {
   "cell_type": "code",
   "execution_count": 23,
   "metadata": {},
   "outputs": [
    {
     "output_type": "execute_result",
     "data": {
      "text/plain": [
       "       id                              title  \\\n",
       "num                                            \n",
       "0    1616          05-01.10 - Agence BOUABSA   \n",
       "1    1591                  21.2.Y.BOULECHFAR   \n",
       "2    1534   44-04.10 - Agence KHEMIS MELIANA   \n",
       "3    1506             DZ001 - Agence CHERAGA   \n",
       "4    1525                           02-01.50   \n",
       "\n",
       "                                             street             city  \\\n",
       "num                                                                    \n",
       "0                08 avenue les frères BOUABSA-BATNA          Batna     \n",
       "1                 Route National El Hrouche SKIKDA    Sidi Mezghiche   \n",
       "2                  Cité 56 logts LSP khmis miliana   Khemis Miliana    \n",
       "3                   Chéraga Ouled Fayet N° 57 Alger          Chéraga   \n",
       "4     RDC Batiment 4 N°1 commune et daira de Chlef            Chlef    \n",
       "\n",
       "                                phone fax  categories        lat       lon  \\\n",
       "num                                                                          \n",
       "0     07 82 29 14 75 / 05 54 80 21 39           108.0  35.554867  6.176896   \n",
       "1                      07 70 99 41 07           105.0  36.655703  6.840460   \n",
       "2     07 82 29 14 37 / 05 54 80 30 71            94.0  36.256575  2.220505   \n",
       "3                      07 82 29 15 86            91.0  36.755765  2.951391   \n",
       "4      0782 16 44 39 /  0554 84 86 74            98.0  36.164586  1.331892   \n",
       "\n",
       "     code_wil  \n",
       "num            \n",
       "0           5  \n",
       "1          25  \n",
       "2          44  \n",
       "3          16  \n",
       "4           2  "
      ],
      "text/html": "<div>\n<style scoped>\n    .dataframe tbody tr th:only-of-type {\n        vertical-align: middle;\n    }\n\n    .dataframe tbody tr th {\n        vertical-align: top;\n    }\n\n    .dataframe thead th {\n        text-align: right;\n    }\n</style>\n<table border=\"1\" class=\"dataframe\">\n  <thead>\n    <tr style=\"text-align: right;\">\n      <th></th>\n      <th>id</th>\n      <th>title</th>\n      <th>street</th>\n      <th>city</th>\n      <th>phone</th>\n      <th>fax</th>\n      <th>categories</th>\n      <th>lat</th>\n      <th>lon</th>\n      <th>code_wil</th>\n    </tr>\n    <tr>\n      <th>num</th>\n      <th></th>\n      <th></th>\n      <th></th>\n      <th></th>\n      <th></th>\n      <th></th>\n      <th></th>\n      <th></th>\n      <th></th>\n      <th></th>\n    </tr>\n  </thead>\n  <tbody>\n    <tr>\n      <th>0</th>\n      <td>1616</td>\n      <td>05-01.10 - Agence BOUABSA</td>\n      <td>08 avenue les frères BOUABSA-BATNA</td>\n      <td>Batna</td>\n      <td>07 82 29 14 75 / 05 54 80 21 39</td>\n      <td></td>\n      <td>108.0</td>\n      <td>35.554867</td>\n      <td>6.176896</td>\n      <td>5</td>\n    </tr>\n    <tr>\n      <th>1</th>\n      <td>1591</td>\n      <td>21.2.Y.BOULECHFAR</td>\n      <td>Route National El Hrouche SKIKDA</td>\n      <td>Sidi Mezghiche</td>\n      <td>07 70 99 41 07</td>\n      <td></td>\n      <td>105.0</td>\n      <td>36.655703</td>\n      <td>6.840460</td>\n      <td>25</td>\n    </tr>\n    <tr>\n      <th>2</th>\n      <td>1534</td>\n      <td>44-04.10 - Agence KHEMIS MELIANA</td>\n      <td>Cité 56 logts LSP khmis miliana</td>\n      <td>Khemis Miliana</td>\n      <td>07 82 29 14 37 / 05 54 80 30 71</td>\n      <td></td>\n      <td>94.0</td>\n      <td>36.256575</td>\n      <td>2.220505</td>\n      <td>44</td>\n    </tr>\n    <tr>\n      <th>3</th>\n      <td>1506</td>\n      <td>DZ001 - Agence CHERAGA</td>\n      <td>Chéraga Ouled Fayet N° 57 Alger</td>\n      <td>Chéraga</td>\n      <td>07 82 29 15 86</td>\n      <td></td>\n      <td>91.0</td>\n      <td>36.755765</td>\n      <td>2.951391</td>\n      <td>16</td>\n    </tr>\n    <tr>\n      <th>4</th>\n      <td>1525</td>\n      <td>02-01.50</td>\n      <td>RDC Batiment 4 N°1 commune et daira de Chlef</td>\n      <td>Chlef</td>\n      <td>0782 16 44 39 /  0554 84 86 74</td>\n      <td></td>\n      <td>98.0</td>\n      <td>36.164586</td>\n      <td>1.331892</td>\n      <td>2</td>\n    </tr>\n  </tbody>\n</table>\n</div>"
     },
     "metadata": {},
     "execution_count": 23
    }
   ],
   "source": [
    "final_df = merged.drop(columns=['wilaya_maj', \"wilaya\", 'nom_wil'], axis=1)\n",
    "final_df.rename_axis('num', inplace=True)\n",
    "final_df.head()"
   ]
  },
  {
   "cell_type": "code",
   "execution_count": 24,
   "metadata": {},
   "outputs": [],
   "source": [
    "final_df.to_csv('./gam_branches_to_check.csv', header = True)"
   ]
  }
 ]
}