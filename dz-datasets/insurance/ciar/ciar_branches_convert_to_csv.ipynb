{
 "metadata": {
  "language_info": {
   "codemirror_mode": {
    "name": "ipython",
    "version": 3
   },
   "file_extension": ".py",
   "mimetype": "text/x-python",
   "name": "python",
   "nbconvert_exporter": "python",
   "pygments_lexer": "ipython3",
   "version": "3.8.5"
  },
  "orig_nbformat": 2,
  "kernelspec": {
   "name": "python3",
   "display_name": "Python 3",
   "language": "python"
  }
 },
 "nbformat": 4,
 "nbformat_minor": 2,
 "cells": [
  {
   "cell_type": "code",
   "execution_count": 1,
   "metadata": {},
   "outputs": [],
   "source": [
    "# load packages\n",
    "import pandas as pd\n",
    "import unidecode "
   ]
  },
  {
   "cell_type": "code",
   "execution_count": 2,
   "metadata": {},
   "outputs": [
    {
     "output_type": "execute_result",
     "data": {
      "text/plain": [
       "code_agence    316\n",
       "type           319\n",
       "manager        319\n",
       "address        319\n",
       "commune        319\n",
       "wilaya         319\n",
       "startDate      317\n",
       "tel            314\n",
       "fax            222\n",
       "mobile         149\n",
       "mail           318\n",
       "openHour       319\n",
       "closeHour      319\n",
       "latitude       319\n",
       "longitude      319\n",
       "dtype: int64"
      ]
     },
     "metadata": {},
     "execution_count": 2
    }
   ],
   "source": [
    "pois_file_name = './laciar.json'\n",
    "pois_df = pd.read_json(pois_file_name)\n",
    "pois_df.count()"
   ]
  },
  {
   "cell_type": "code",
   "execution_count": 3,
   "metadata": {},
   "outputs": [
    {
     "output_type": "execute_result",
     "data": {
      "text/plain": [
       "     code_agence type                          manager  \\\n",
       "0         1110.0  A.G                 MAHIEDDINE Zahia   \n",
       "1         1130.0  A.G              HAICHEUR Abdelkarim   \n",
       "2         1140.0  A.G   BENHABILES Samira née BOUAKKAZ   \n",
       "3         1150.0  A.G                      YADI Dalila   \n",
       "4         1160.0  A.G                      HENNI Karim   \n",
       "..           ...  ...                              ...   \n",
       "314       5240.0  A.G  SELMANE Oumelkheir épouse Karim   \n",
       "315       5241.0  ANX  SELMANE Oumelkheir épouse Karim   \n",
       "316       5250.0  A.C                   KARIM Belkacem   \n",
       "317       5260.0  A.G                  GHIBECHE Fayçal   \n",
       "318       5270.0  A.G                HADJ SAID Mohamed   \n",
       "\n",
       "                                               address             commune  \\\n",
       "0                   Cité Sonelgaz - Villa N° 02 B.P.15  Gué de Constantine   \n",
       "1                            29, Route Nationale N° 01     Bir Mourad Rais   \n",
       "2                 Cité du 1er Novembre 1954 - Local D5        Dar El Beida   \n",
       "3                                 14, Lot Said Hamdine               Hydra   \n",
       "4                Lotissement Cadat N° 72 - Les Sources     Bir Mourad Rais   \n",
       "..                                                 ...                 ...   \n",
       "314               Route Nationale 23 - Route de Tiaret               Aflou   \n",
       "315  Rue Chettouh Omar Bt. 34 Classe 18 Groupe de p...         El Idrissia   \n",
       "316                             Cité Essedikia 05/111            El Bayadh   \n",
       "317                               N° 01 Hai Rimel (01)           Touggourt   \n",
       "318             Avenue de l’A.L.N, Belghanem - Ighouza            Ghardaïa   \n",
       "\n",
       "        wilaya startDate          tel          fax         mobile  \\\n",
       "0        Alger   2/18/02  021.835.004  021.838.036  0.561.604.592   \n",
       "1        Alger   2/17/06  023.540.033  023.540.037  0.561.604.596   \n",
       "2        Alger   10/1/18  023.823.203  023.823.203            NaN   \n",
       "3        Alger    5/2/09  021.602.531  021.602.531  0.561.604.755   \n",
       "4        Alger    1/2/05  021.445.755  021.446.172  0.561.604.463   \n",
       "..         ...       ...          ...          ...            ...   \n",
       "314   Laghouat    6/1/13  029.176.112  029.176.114            NaN   \n",
       "315     Djelfa   1/14/18  027.887.450          NaN            NaN   \n",
       "316  El Bayadh    1/2/16  049.615.019  049.615.020  0.561.604.752   \n",
       "317    Ouargla   12/1/16  029.663.762          NaN            NaN   \n",
       "318   Ghardaïa   12/3/17  029.280.647          NaN            NaN   \n",
       "\n",
       "                             mail  openHour closeHour   latitude  longitude  \\\n",
       "0    z.mahieddine_1110@laciar.com  08:30:00  16:30:00  36.709047   3.094730   \n",
       "1      a.haicheur_1130@laciar.com  08:30:00  16:30:00  36.736708   3.048113   \n",
       "2    s.benhabiles_1140@laciar.com  08:30:00  17:30:00  36.714962   3.216395   \n",
       "3          d.yadi_1150@laciar.com  08:30:00  16:30:00  36.737473   3.029793   \n",
       "4         k.henni_1160@laciar.com  08:30:00  16:30:00  36.737117   3.056480   \n",
       "..                            ...       ...       ...        ...        ...   \n",
       "314     o.selmani_5240@laciar.com  08:00:00  16:00:00  34.118358   2.100457   \n",
       "315     o.selmani_5241@laciar.com  08:00:00  16:00:00  34.446870   2.531173   \n",
       "316       b.karim_5250@laciar.com  08:00:00  17:00:00  33.690357   1.017566   \n",
       "317    f.ghibeche_5260@laciar.com  08:00:00  17:00:00  33.101818   6.064293   \n",
       "318        s.hadj_5270@laciar.com  08:00:00  19:00:00  32.491757   3.651426   \n",
       "\n",
       "    wilaya_maj  \n",
       "0        ALGER  \n",
       "1        ALGER  \n",
       "2        ALGER  \n",
       "3        ALGER  \n",
       "4        ALGER  \n",
       "..         ...  \n",
       "314   LAGHOUAT  \n",
       "315     DJELFA  \n",
       "316  EL BAYADH  \n",
       "317    OUARGLA  \n",
       "318   GHARDAIA  \n",
       "\n",
       "[319 rows x 16 columns]"
      ],
      "text/html": "<div>\n<style scoped>\n    .dataframe tbody tr th:only-of-type {\n        vertical-align: middle;\n    }\n\n    .dataframe tbody tr th {\n        vertical-align: top;\n    }\n\n    .dataframe thead th {\n        text-align: right;\n    }\n</style>\n<table border=\"1\" class=\"dataframe\">\n  <thead>\n    <tr style=\"text-align: right;\">\n      <th></th>\n      <th>code_agence</th>\n      <th>type</th>\n      <th>manager</th>\n      <th>address</th>\n      <th>commune</th>\n      <th>wilaya</th>\n      <th>startDate</th>\n      <th>tel</th>\n      <th>fax</th>\n      <th>mobile</th>\n      <th>mail</th>\n      <th>openHour</th>\n      <th>closeHour</th>\n      <th>latitude</th>\n      <th>longitude</th>\n      <th>wilaya_maj</th>\n    </tr>\n  </thead>\n  <tbody>\n    <tr>\n      <th>0</th>\n      <td>1110.0</td>\n      <td>A.G</td>\n      <td>MAHIEDDINE Zahia</td>\n      <td>Cité Sonelgaz - Villa N° 02 B.P.15</td>\n      <td>Gué de Constantine</td>\n      <td>Alger</td>\n      <td>2/18/02</td>\n      <td>021.835.004</td>\n      <td>021.838.036</td>\n      <td>0.561.604.592</td>\n      <td>z.mahieddine_1110@laciar.com</td>\n      <td>08:30:00</td>\n      <td>16:30:00</td>\n      <td>36.709047</td>\n      <td>3.094730</td>\n      <td>ALGER</td>\n    </tr>\n    <tr>\n      <th>1</th>\n      <td>1130.0</td>\n      <td>A.G</td>\n      <td>HAICHEUR Abdelkarim</td>\n      <td>29, Route Nationale N° 01</td>\n      <td>Bir Mourad Rais</td>\n      <td>Alger</td>\n      <td>2/17/06</td>\n      <td>023.540.033</td>\n      <td>023.540.037</td>\n      <td>0.561.604.596</td>\n      <td>a.haicheur_1130@laciar.com</td>\n      <td>08:30:00</td>\n      <td>16:30:00</td>\n      <td>36.736708</td>\n      <td>3.048113</td>\n      <td>ALGER</td>\n    </tr>\n    <tr>\n      <th>2</th>\n      <td>1140.0</td>\n      <td>A.G</td>\n      <td>BENHABILES Samira née BOUAKKAZ</td>\n      <td>Cité du 1er Novembre 1954 - Local D5</td>\n      <td>Dar El Beida</td>\n      <td>Alger</td>\n      <td>10/1/18</td>\n      <td>023.823.203</td>\n      <td>023.823.203</td>\n      <td>NaN</td>\n      <td>s.benhabiles_1140@laciar.com</td>\n      <td>08:30:00</td>\n      <td>17:30:00</td>\n      <td>36.714962</td>\n      <td>3.216395</td>\n      <td>ALGER</td>\n    </tr>\n    <tr>\n      <th>3</th>\n      <td>1150.0</td>\n      <td>A.G</td>\n      <td>YADI Dalila</td>\n      <td>14, Lot Said Hamdine</td>\n      <td>Hydra</td>\n      <td>Alger</td>\n      <td>5/2/09</td>\n      <td>021.602.531</td>\n      <td>021.602.531</td>\n      <td>0.561.604.755</td>\n      <td>d.yadi_1150@laciar.com</td>\n      <td>08:30:00</td>\n      <td>16:30:00</td>\n      <td>36.737473</td>\n      <td>3.029793</td>\n      <td>ALGER</td>\n    </tr>\n    <tr>\n      <th>4</th>\n      <td>1160.0</td>\n      <td>A.G</td>\n      <td>HENNI Karim</td>\n      <td>Lotissement Cadat N° 72 - Les Sources</td>\n      <td>Bir Mourad Rais</td>\n      <td>Alger</td>\n      <td>1/2/05</td>\n      <td>021.445.755</td>\n      <td>021.446.172</td>\n      <td>0.561.604.463</td>\n      <td>k.henni_1160@laciar.com</td>\n      <td>08:30:00</td>\n      <td>16:30:00</td>\n      <td>36.737117</td>\n      <td>3.056480</td>\n      <td>ALGER</td>\n    </tr>\n    <tr>\n      <th>...</th>\n      <td>...</td>\n      <td>...</td>\n      <td>...</td>\n      <td>...</td>\n      <td>...</td>\n      <td>...</td>\n      <td>...</td>\n      <td>...</td>\n      <td>...</td>\n      <td>...</td>\n      <td>...</td>\n      <td>...</td>\n      <td>...</td>\n      <td>...</td>\n      <td>...</td>\n      <td>...</td>\n    </tr>\n    <tr>\n      <th>314</th>\n      <td>5240.0</td>\n      <td>A.G</td>\n      <td>SELMANE Oumelkheir épouse Karim</td>\n      <td>Route Nationale 23 - Route de Tiaret</td>\n      <td>Aflou</td>\n      <td>Laghouat</td>\n      <td>6/1/13</td>\n      <td>029.176.112</td>\n      <td>029.176.114</td>\n      <td>NaN</td>\n      <td>o.selmani_5240@laciar.com</td>\n      <td>08:00:00</td>\n      <td>16:00:00</td>\n      <td>34.118358</td>\n      <td>2.100457</td>\n      <td>LAGHOUAT</td>\n    </tr>\n    <tr>\n      <th>315</th>\n      <td>5241.0</td>\n      <td>ANX</td>\n      <td>SELMANE Oumelkheir épouse Karim</td>\n      <td>Rue Chettouh Omar Bt. 34 Classe 18 Groupe de p...</td>\n      <td>El Idrissia</td>\n      <td>Djelfa</td>\n      <td>1/14/18</td>\n      <td>027.887.450</td>\n      <td>NaN</td>\n      <td>NaN</td>\n      <td>o.selmani_5241@laciar.com</td>\n      <td>08:00:00</td>\n      <td>16:00:00</td>\n      <td>34.446870</td>\n      <td>2.531173</td>\n      <td>DJELFA</td>\n    </tr>\n    <tr>\n      <th>316</th>\n      <td>5250.0</td>\n      <td>A.C</td>\n      <td>KARIM Belkacem</td>\n      <td>Cité Essedikia 05/111</td>\n      <td>El Bayadh</td>\n      <td>El Bayadh</td>\n      <td>1/2/16</td>\n      <td>049.615.019</td>\n      <td>049.615.020</td>\n      <td>0.561.604.752</td>\n      <td>b.karim_5250@laciar.com</td>\n      <td>08:00:00</td>\n      <td>17:00:00</td>\n      <td>33.690357</td>\n      <td>1.017566</td>\n      <td>EL BAYADH</td>\n    </tr>\n    <tr>\n      <th>317</th>\n      <td>5260.0</td>\n      <td>A.G</td>\n      <td>GHIBECHE Fayçal</td>\n      <td>N° 01 Hai Rimel (01)</td>\n      <td>Touggourt</td>\n      <td>Ouargla</td>\n      <td>12/1/16</td>\n      <td>029.663.762</td>\n      <td>NaN</td>\n      <td>NaN</td>\n      <td>f.ghibeche_5260@laciar.com</td>\n      <td>08:00:00</td>\n      <td>17:00:00</td>\n      <td>33.101818</td>\n      <td>6.064293</td>\n      <td>OUARGLA</td>\n    </tr>\n    <tr>\n      <th>318</th>\n      <td>5270.0</td>\n      <td>A.G</td>\n      <td>HADJ SAID Mohamed</td>\n      <td>Avenue de l’A.L.N, Belghanem - Ighouza</td>\n      <td>Ghardaïa</td>\n      <td>Ghardaïa</td>\n      <td>12/3/17</td>\n      <td>029.280.647</td>\n      <td>NaN</td>\n      <td>NaN</td>\n      <td>s.hadj_5270@laciar.com</td>\n      <td>08:00:00</td>\n      <td>19:00:00</td>\n      <td>32.491757</td>\n      <td>3.651426</td>\n      <td>GHARDAIA</td>\n    </tr>\n  </tbody>\n</table>\n<p>319 rows × 16 columns</p>\n</div>"
     },
     "metadata": {},
     "execution_count": 3
    }
   ],
   "source": [
    "pois_df['wilaya_maj'] = [unidecode.unidecode(w) for w in pois_df.wilaya.str.upper()]\n",
    "pois_df"
   ]
  },
  {
   "cell_type": "code",
   "execution_count": 4,
   "metadata": {},
   "outputs": [
    {
     "output_type": "execute_result",
     "data": {
      "text/plain": [
       "   code_wil         nom_wil\n",
       "0         1           ADRAR\n",
       "1         2           CHLEF\n",
       "2         3        LAGHOUAT\n",
       "3         4  OUM EL BOUAGHI\n",
       "4         5           BATNA"
      ],
      "text/html": "<div>\n<style scoped>\n    .dataframe tbody tr th:only-of-type {\n        vertical-align: middle;\n    }\n\n    .dataframe tbody tr th {\n        vertical-align: top;\n    }\n\n    .dataframe thead th {\n        text-align: right;\n    }\n</style>\n<table border=\"1\" class=\"dataframe\">\n  <thead>\n    <tr style=\"text-align: right;\">\n      <th></th>\n      <th>code_wil</th>\n      <th>nom_wil</th>\n    </tr>\n  </thead>\n  <tbody>\n    <tr>\n      <th>0</th>\n      <td>1</td>\n      <td>ADRAR</td>\n    </tr>\n    <tr>\n      <th>1</th>\n      <td>2</td>\n      <td>CHLEF</td>\n    </tr>\n    <tr>\n      <th>2</th>\n      <td>3</td>\n      <td>LAGHOUAT</td>\n    </tr>\n    <tr>\n      <th>3</th>\n      <td>4</td>\n      <td>OUM EL BOUAGHI</td>\n    </tr>\n    <tr>\n      <th>4</th>\n      <td>5</td>\n      <td>BATNA</td>\n    </tr>\n  </tbody>\n</table>\n</div>"
     },
     "metadata": {},
     "execution_count": 4
    }
   ],
   "source": [
    "# Add Wilayas codes\n",
    "# Load Wilayas Features and calculate polygon centroids\n",
    "wilayas_gjson = '../../../dz-admin/wilayas_48.csv'\n",
    "wilayas_df = pd.read_csv(wilayas_gjson)\n",
    "wilayas_df = wilayas_df[['code', 'nom_maj']]\n",
    "wilayas_df = wilayas_df.rename(columns={'nom_maj': 'nom_wil', 'code': 'code_wil'})\n",
    "wilayas_df.head()"
   ]
  },
  {
   "cell_type": "code",
   "execution_count": 5,
   "metadata": {},
   "outputs": [
    {
     "output_type": "execute_result",
     "data": {
      "text/plain": [
       "Empty DataFrame\n",
       "Columns: [code_agence, type, manager, address, commune, wilaya, startDate, tel, fax, mobile, mail, openHour, closeHour, latitude, longitude, wilaya_maj, code_wil, nom_wil]\n",
       "Index: []"
      ],
      "text/html": "<div>\n<style scoped>\n    .dataframe tbody tr th:only-of-type {\n        vertical-align: middle;\n    }\n\n    .dataframe tbody tr th {\n        vertical-align: top;\n    }\n\n    .dataframe thead th {\n        text-align: right;\n    }\n</style>\n<table border=\"1\" class=\"dataframe\">\n  <thead>\n    <tr style=\"text-align: right;\">\n      <th></th>\n      <th>code_agence</th>\n      <th>type</th>\n      <th>manager</th>\n      <th>address</th>\n      <th>commune</th>\n      <th>wilaya</th>\n      <th>startDate</th>\n      <th>tel</th>\n      <th>fax</th>\n      <th>mobile</th>\n      <th>mail</th>\n      <th>openHour</th>\n      <th>closeHour</th>\n      <th>latitude</th>\n      <th>longitude</th>\n      <th>wilaya_maj</th>\n      <th>code_wil</th>\n      <th>nom_wil</th>\n    </tr>\n  </thead>\n  <tbody>\n  </tbody>\n</table>\n</div>"
     },
     "metadata": {},
     "execution_count": 5
    }
   ],
   "source": [
    "# Merge with Wialyas DataFrame\n",
    "merged = pois_df.merge(wilayas_df, left_on='wilaya_maj', right_on='nom_wil', how='left')\n",
    "\n",
    "merged[merged['code_wil'].isnull()]"
   ]
  },
  {
   "cell_type": "code",
   "execution_count": 6,
   "metadata": {},
   "outputs": [
    {
     "output_type": "execute_result",
     "data": {
      "text/plain": [
       "code_agence    316\n",
       "type           319\n",
       "manager        319\n",
       "address        319\n",
       "commune        319\n",
       "wilaya         319\n",
       "startDate      317\n",
       "tel            314\n",
       "fax            222\n",
       "mobile         149\n",
       "mail           318\n",
       "openHour       319\n",
       "closeHour      319\n",
       "latitude       319\n",
       "longitude      319\n",
       "wilaya_maj     319\n",
       "code_wil       319\n",
       "nom_wil        319\n",
       "dtype: int64"
      ]
     },
     "metadata": {},
     "execution_count": 6
    }
   ],
   "source": [
    "merged.count()"
   ]
  },
  {
   "cell_type": "code",
   "execution_count": 7,
   "metadata": {},
   "outputs": [
    {
     "output_type": "execute_result",
     "data": {
      "text/plain": [
       "   code_agence type                         manager  \\\n",
       "0       1110.0  A.G                MAHIEDDINE Zahia   \n",
       "1       1130.0  A.G             HAICHEUR Abdelkarim   \n",
       "2       1140.0  A.G  BENHABILES Samira née BOUAKKAZ   \n",
       "3       1150.0  A.G                     YADI Dalila   \n",
       "4       1160.0  A.G                     HENNI Karim   \n",
       "\n",
       "                                 address             commune wilaya startDate  \\\n",
       "0     Cité Sonelgaz - Villa N° 02 B.P.15  Gué de Constantine  Alger   2/18/02   \n",
       "1              29, Route Nationale N° 01     Bir Mourad Rais  Alger   2/17/06   \n",
       "2   Cité du 1er Novembre 1954 - Local D5        Dar El Beida  Alger   10/1/18   \n",
       "3                   14, Lot Said Hamdine               Hydra  Alger    5/2/09   \n",
       "4  Lotissement Cadat N° 72 - Les Sources     Bir Mourad Rais  Alger    1/2/05   \n",
       "\n",
       "           tel          fax         mobile                          mail  \\\n",
       "0  021.835.004  021.838.036  0.561.604.592  z.mahieddine_1110@laciar.com   \n",
       "1  023.540.033  023.540.037  0.561.604.596    a.haicheur_1130@laciar.com   \n",
       "2  023.823.203  023.823.203            NaN  s.benhabiles_1140@laciar.com   \n",
       "3  021.602.531  021.602.531  0.561.604.755        d.yadi_1150@laciar.com   \n",
       "4  021.445.755  021.446.172  0.561.604.463       k.henni_1160@laciar.com   \n",
       "\n",
       "   openHour closeHour   latitude  longitude wilaya_maj  code_wil nom_wil  \n",
       "0  08:30:00  16:30:00  36.709047   3.094730      ALGER        16   ALGER  \n",
       "1  08:30:00  16:30:00  36.736708   3.048113      ALGER        16   ALGER  \n",
       "2  08:30:00  17:30:00  36.714962   3.216395      ALGER        16   ALGER  \n",
       "3  08:30:00  16:30:00  36.737473   3.029793      ALGER        16   ALGER  \n",
       "4  08:30:00  16:30:00  36.737117   3.056480      ALGER        16   ALGER  "
      ],
      "text/html": "<div>\n<style scoped>\n    .dataframe tbody tr th:only-of-type {\n        vertical-align: middle;\n    }\n\n    .dataframe tbody tr th {\n        vertical-align: top;\n    }\n\n    .dataframe thead th {\n        text-align: right;\n    }\n</style>\n<table border=\"1\" class=\"dataframe\">\n  <thead>\n    <tr style=\"text-align: right;\">\n      <th></th>\n      <th>code_agence</th>\n      <th>type</th>\n      <th>manager</th>\n      <th>address</th>\n      <th>commune</th>\n      <th>wilaya</th>\n      <th>startDate</th>\n      <th>tel</th>\n      <th>fax</th>\n      <th>mobile</th>\n      <th>mail</th>\n      <th>openHour</th>\n      <th>closeHour</th>\n      <th>latitude</th>\n      <th>longitude</th>\n      <th>wilaya_maj</th>\n      <th>code_wil</th>\n      <th>nom_wil</th>\n    </tr>\n  </thead>\n  <tbody>\n    <tr>\n      <th>0</th>\n      <td>1110.0</td>\n      <td>A.G</td>\n      <td>MAHIEDDINE Zahia</td>\n      <td>Cité Sonelgaz - Villa N° 02 B.P.15</td>\n      <td>Gué de Constantine</td>\n      <td>Alger</td>\n      <td>2/18/02</td>\n      <td>021.835.004</td>\n      <td>021.838.036</td>\n      <td>0.561.604.592</td>\n      <td>z.mahieddine_1110@laciar.com</td>\n      <td>08:30:00</td>\n      <td>16:30:00</td>\n      <td>36.709047</td>\n      <td>3.094730</td>\n      <td>ALGER</td>\n      <td>16</td>\n      <td>ALGER</td>\n    </tr>\n    <tr>\n      <th>1</th>\n      <td>1130.0</td>\n      <td>A.G</td>\n      <td>HAICHEUR Abdelkarim</td>\n      <td>29, Route Nationale N° 01</td>\n      <td>Bir Mourad Rais</td>\n      <td>Alger</td>\n      <td>2/17/06</td>\n      <td>023.540.033</td>\n      <td>023.540.037</td>\n      <td>0.561.604.596</td>\n      <td>a.haicheur_1130@laciar.com</td>\n      <td>08:30:00</td>\n      <td>16:30:00</td>\n      <td>36.736708</td>\n      <td>3.048113</td>\n      <td>ALGER</td>\n      <td>16</td>\n      <td>ALGER</td>\n    </tr>\n    <tr>\n      <th>2</th>\n      <td>1140.0</td>\n      <td>A.G</td>\n      <td>BENHABILES Samira née BOUAKKAZ</td>\n      <td>Cité du 1er Novembre 1954 - Local D5</td>\n      <td>Dar El Beida</td>\n      <td>Alger</td>\n      <td>10/1/18</td>\n      <td>023.823.203</td>\n      <td>023.823.203</td>\n      <td>NaN</td>\n      <td>s.benhabiles_1140@laciar.com</td>\n      <td>08:30:00</td>\n      <td>17:30:00</td>\n      <td>36.714962</td>\n      <td>3.216395</td>\n      <td>ALGER</td>\n      <td>16</td>\n      <td>ALGER</td>\n    </tr>\n    <tr>\n      <th>3</th>\n      <td>1150.0</td>\n      <td>A.G</td>\n      <td>YADI Dalila</td>\n      <td>14, Lot Said Hamdine</td>\n      <td>Hydra</td>\n      <td>Alger</td>\n      <td>5/2/09</td>\n      <td>021.602.531</td>\n      <td>021.602.531</td>\n      <td>0.561.604.755</td>\n      <td>d.yadi_1150@laciar.com</td>\n      <td>08:30:00</td>\n      <td>16:30:00</td>\n      <td>36.737473</td>\n      <td>3.029793</td>\n      <td>ALGER</td>\n      <td>16</td>\n      <td>ALGER</td>\n    </tr>\n    <tr>\n      <th>4</th>\n      <td>1160.0</td>\n      <td>A.G</td>\n      <td>HENNI Karim</td>\n      <td>Lotissement Cadat N° 72 - Les Sources</td>\n      <td>Bir Mourad Rais</td>\n      <td>Alger</td>\n      <td>1/2/05</td>\n      <td>021.445.755</td>\n      <td>021.446.172</td>\n      <td>0.561.604.463</td>\n      <td>k.henni_1160@laciar.com</td>\n      <td>08:30:00</td>\n      <td>16:30:00</td>\n      <td>36.737117</td>\n      <td>3.056480</td>\n      <td>ALGER</td>\n      <td>16</td>\n      <td>ALGER</td>\n    </tr>\n  </tbody>\n</table>\n</div>"
     },
     "metadata": {},
     "execution_count": 7
    }
   ],
   "source": [
    "merged.head()"
   ]
  },
  {
   "cell_type": "code",
   "execution_count": 9,
   "metadata": {},
   "outputs": [
    {
     "output_type": "execute_result",
     "data": {
      "text/plain": [
       "   code_agence type                                address  \\\n",
       "0       1110.0  A.G     Cité Sonelgaz - Villa N° 02 B.P.15   \n",
       "1       1130.0  A.G              29, Route Nationale N° 01   \n",
       "2       1140.0  A.G   Cité du 1er Novembre 1954 - Local D5   \n",
       "3       1150.0  A.G                   14, Lot Said Hamdine   \n",
       "4       1160.0  A.G  Lotissement Cadat N° 72 - Les Sources   \n",
       "\n",
       "              commune startDate          tel          fax         mobile  \\\n",
       "0  Gué de Constantine   2/18/02  021.835.004  021.838.036  0.561.604.592   \n",
       "1     Bir Mourad Rais   2/17/06  023.540.033  023.540.037  0.561.604.596   \n",
       "2        Dar El Beida   10/1/18  023.823.203  023.823.203            NaN   \n",
       "3               Hydra    5/2/09  021.602.531  021.602.531  0.561.604.755   \n",
       "4     Bir Mourad Rais    1/2/05  021.445.755  021.446.172  0.561.604.463   \n",
       "\n",
       "                           mail  openHour closeHour        lat       lon  \\\n",
       "0  z.mahieddine_1110@laciar.com  08:30:00  16:30:00  36.709047  3.094730   \n",
       "1    a.haicheur_1130@laciar.com  08:30:00  16:30:00  36.736708  3.048113   \n",
       "2  s.benhabiles_1140@laciar.com  08:30:00  17:30:00  36.714962  3.216395   \n",
       "3        d.yadi_1150@laciar.com  08:30:00  16:30:00  36.737473  3.029793   \n",
       "4       k.henni_1160@laciar.com  08:30:00  16:30:00  36.737117  3.056480   \n",
       "\n",
       "   code_wil  \n",
       "0        16  \n",
       "1        16  \n",
       "2        16  \n",
       "3        16  \n",
       "4        16  "
      ],
      "text/html": "<div>\n<style scoped>\n    .dataframe tbody tr th:only-of-type {\n        vertical-align: middle;\n    }\n\n    .dataframe tbody tr th {\n        vertical-align: top;\n    }\n\n    .dataframe thead th {\n        text-align: right;\n    }\n</style>\n<table border=\"1\" class=\"dataframe\">\n  <thead>\n    <tr style=\"text-align: right;\">\n      <th></th>\n      <th>code_agence</th>\n      <th>type</th>\n      <th>address</th>\n      <th>commune</th>\n      <th>startDate</th>\n      <th>tel</th>\n      <th>fax</th>\n      <th>mobile</th>\n      <th>mail</th>\n      <th>openHour</th>\n      <th>closeHour</th>\n      <th>lat</th>\n      <th>lon</th>\n      <th>code_wil</th>\n    </tr>\n  </thead>\n  <tbody>\n    <tr>\n      <th>0</th>\n      <td>1110.0</td>\n      <td>A.G</td>\n      <td>Cité Sonelgaz - Villa N° 02 B.P.15</td>\n      <td>Gué de Constantine</td>\n      <td>2/18/02</td>\n      <td>021.835.004</td>\n      <td>021.838.036</td>\n      <td>0.561.604.592</td>\n      <td>z.mahieddine_1110@laciar.com</td>\n      <td>08:30:00</td>\n      <td>16:30:00</td>\n      <td>36.709047</td>\n      <td>3.094730</td>\n      <td>16</td>\n    </tr>\n    <tr>\n      <th>1</th>\n      <td>1130.0</td>\n      <td>A.G</td>\n      <td>29, Route Nationale N° 01</td>\n      <td>Bir Mourad Rais</td>\n      <td>2/17/06</td>\n      <td>023.540.033</td>\n      <td>023.540.037</td>\n      <td>0.561.604.596</td>\n      <td>a.haicheur_1130@laciar.com</td>\n      <td>08:30:00</td>\n      <td>16:30:00</td>\n      <td>36.736708</td>\n      <td>3.048113</td>\n      <td>16</td>\n    </tr>\n    <tr>\n      <th>2</th>\n      <td>1140.0</td>\n      <td>A.G</td>\n      <td>Cité du 1er Novembre 1954 - Local D5</td>\n      <td>Dar El Beida</td>\n      <td>10/1/18</td>\n      <td>023.823.203</td>\n      <td>023.823.203</td>\n      <td>NaN</td>\n      <td>s.benhabiles_1140@laciar.com</td>\n      <td>08:30:00</td>\n      <td>17:30:00</td>\n      <td>36.714962</td>\n      <td>3.216395</td>\n      <td>16</td>\n    </tr>\n    <tr>\n      <th>3</th>\n      <td>1150.0</td>\n      <td>A.G</td>\n      <td>14, Lot Said Hamdine</td>\n      <td>Hydra</td>\n      <td>5/2/09</td>\n      <td>021.602.531</td>\n      <td>021.602.531</td>\n      <td>0.561.604.755</td>\n      <td>d.yadi_1150@laciar.com</td>\n      <td>08:30:00</td>\n      <td>16:30:00</td>\n      <td>36.737473</td>\n      <td>3.029793</td>\n      <td>16</td>\n    </tr>\n    <tr>\n      <th>4</th>\n      <td>1160.0</td>\n      <td>A.G</td>\n      <td>Lotissement Cadat N° 72 - Les Sources</td>\n      <td>Bir Mourad Rais</td>\n      <td>1/2/05</td>\n      <td>021.445.755</td>\n      <td>021.446.172</td>\n      <td>0.561.604.463</td>\n      <td>k.henni_1160@laciar.com</td>\n      <td>08:30:00</td>\n      <td>16:30:00</td>\n      <td>36.737117</td>\n      <td>3.056480</td>\n      <td>16</td>\n    </tr>\n  </tbody>\n</table>\n</div>"
     },
     "metadata": {},
     "execution_count": 9
    }
   ],
   "source": [
    "final_df = merged.drop(columns=['manager', 'wilaya_maj', 'nom_wil', \"wilaya\"], axis=1)\n",
    "final_df.rename(columns={\"latitude\": \"lat\", \"longitude\": \"lon\"}, inplace=True)\n",
    "final_df.head()"
   ]
  },
  {
   "cell_type": "code",
   "execution_count": 10,
   "metadata": {},
   "outputs": [],
   "source": [
    "final_df.to_csv('./laciar_branches_to_check.csv', header = True)"
   ]
  }
 ]
}