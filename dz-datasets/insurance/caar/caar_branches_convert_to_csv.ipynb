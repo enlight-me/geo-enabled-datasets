{
 "metadata": {
  "language_info": {
   "codemirror_mode": {
    "name": "ipython",
    "version": 3
   },
   "file_extension": ".py",
   "mimetype": "text/x-python",
   "name": "python",
   "nbconvert_exporter": "python",
   "pygments_lexer": "ipython3",
   "version": "3.8.5"
  },
  "orig_nbformat": 2,
  "kernelspec": {
   "name": "python3",
   "display_name": "Python 3",
   "language": "python"
  }
 },
 "nbformat": 4,
 "nbformat_minor": 2,
 "cells": [
  {
   "cell_type": "code",
   "execution_count": 43,
   "metadata": {},
   "outputs": [],
   "source": [
    "# load packages\n",
    "import pandas as pd\n",
    "import geopandas as gpd\n",
    "import unidecode "
   ]
  },
  {
   "cell_type": "code",
   "execution_count": 44,
   "metadata": {},
   "outputs": [
    {
     "output_type": "execute_result",
     "data": {
      "text/plain": [
       "Name           153\n",
       "localite       153\n",
       "code_agence    153\n",
       "succursale     153\n",
       "address        153\n",
       "phone          153\n",
       "fax            153\n",
       "position       153\n",
       "geometry       153\n",
       "dtype: int64"
      ]
     },
     "metadata": {},
     "execution_count": 44
    }
   ],
   "source": [
    "pois_file_name = './caar_raw.geojson'\n",
    "pois_df = gpd.read_file(pois_file_name)\n",
    "pois_df.count()"
   ]
  },
  {
   "cell_type": "code",
   "execution_count": 45,
   "metadata": {},
   "outputs": [
    {
     "output_type": "execute_result",
     "data": {
      "text/plain": [
       "                Name  localite code_agence       succursale  \\\n",
       "0           01-Adrar     Adrar         408       Oran (400)   \n",
       "1           02-Chlef     Chlef         607  Bouzaréah (600)   \n",
       "2           02-Chlef     Chlef         732  Bouzaréah (600)   \n",
       "3        03-Laghouat  Laghouat         621  Bouzaréah (600)   \n",
       "4  04-Oum El Bouaghi  Meskiana         306     Annaba (300)   \n",
       "\n",
       "                                             address  \\\n",
       "0           N° 03, Centre Commercial \"AMRAD\" - Adrar   \n",
       "1                     Rue Ibn Rochd, BP. 137 - Chlef   \n",
       "2        Cite des fonctionnaires, Bt. 1 N°06 - Chlef   \n",
       "3    Bloc H, cité des 600 Logements Makam - Laghouat   \n",
       "4  Route Radai Amar, Code 04250, Meskiana - Oum E...   \n",
       "\n",
       "                         phone           fax  \\\n",
       "0  049 36 78 83 / 049 36 78 85  049 36 78 85   \n",
       "1                 027 77 15 73  027 77 81 58   \n",
       "2                 027 79 04 20  027 79 04 20   \n",
       "3                 029 11 73 79  029 11 73 84   \n",
       "4                 032 47 18 96  032 66 22 58   \n",
       "\n",
       "                                  position  \\\n",
       "0  27.870513098041783, -0.2878241762255456   \n",
       "1                      36.170123, 1.334741   \n",
       "2                      36.169331, 1.341806   \n",
       "3   33.795496319705656, 2.8569293262669775   \n",
       "4                    35.6334765, 7.6674872   \n",
       "\n",
       "                              geometry  \n",
       "0  POINT Z (-0.28782 27.87051 0.00000)  \n",
       "1   POINT Z (1.33474 36.17012 0.00000)  \n",
       "2   POINT Z (1.34181 36.16933 0.00000)  \n",
       "3   POINT Z (2.85693 33.79550 0.00000)  \n",
       "4   POINT Z (7.66749 35.63348 0.00000)  "
      ],
      "text/html": "<div>\n<style scoped>\n    .dataframe tbody tr th:only-of-type {\n        vertical-align: middle;\n    }\n\n    .dataframe tbody tr th {\n        vertical-align: top;\n    }\n\n    .dataframe thead th {\n        text-align: right;\n    }\n</style>\n<table border=\"1\" class=\"dataframe\">\n  <thead>\n    <tr style=\"text-align: right;\">\n      <th></th>\n      <th>Name</th>\n      <th>localite</th>\n      <th>code_agence</th>\n      <th>succursale</th>\n      <th>address</th>\n      <th>phone</th>\n      <th>fax</th>\n      <th>position</th>\n      <th>geometry</th>\n    </tr>\n  </thead>\n  <tbody>\n    <tr>\n      <th>0</th>\n      <td>01-Adrar</td>\n      <td>Adrar</td>\n      <td>408</td>\n      <td>Oran (400)</td>\n      <td>N° 03, Centre Commercial \"AMRAD\" - Adrar</td>\n      <td>049 36 78 83 / 049 36 78 85</td>\n      <td>049 36 78 85</td>\n      <td>27.870513098041783, -0.2878241762255456</td>\n      <td>POINT Z (-0.28782 27.87051 0.00000)</td>\n    </tr>\n    <tr>\n      <th>1</th>\n      <td>02-Chlef</td>\n      <td>Chlef</td>\n      <td>607</td>\n      <td>Bouzaréah (600)</td>\n      <td>Rue Ibn Rochd, BP. 137 - Chlef</td>\n      <td>027 77 15 73</td>\n      <td>027 77 81 58</td>\n      <td>36.170123, 1.334741</td>\n      <td>POINT Z (1.33474 36.17012 0.00000)</td>\n    </tr>\n    <tr>\n      <th>2</th>\n      <td>02-Chlef</td>\n      <td>Chlef</td>\n      <td>732</td>\n      <td>Bouzaréah (600)</td>\n      <td>Cite des fonctionnaires, Bt. 1 N°06 - Chlef</td>\n      <td>027 79 04 20</td>\n      <td>027 79 04 20</td>\n      <td>36.169331, 1.341806</td>\n      <td>POINT Z (1.34181 36.16933 0.00000)</td>\n    </tr>\n    <tr>\n      <th>3</th>\n      <td>03-Laghouat</td>\n      <td>Laghouat</td>\n      <td>621</td>\n      <td>Bouzaréah (600)</td>\n      <td>Bloc H, cité des 600 Logements Makam - Laghouat</td>\n      <td>029 11 73 79</td>\n      <td>029 11 73 84</td>\n      <td>33.795496319705656, 2.8569293262669775</td>\n      <td>POINT Z (2.85693 33.79550 0.00000)</td>\n    </tr>\n    <tr>\n      <th>4</th>\n      <td>04-Oum El Bouaghi</td>\n      <td>Meskiana</td>\n      <td>306</td>\n      <td>Annaba (300)</td>\n      <td>Route Radai Amar, Code 04250, Meskiana - Oum E...</td>\n      <td>032 47 18 96</td>\n      <td>032 66 22 58</td>\n      <td>35.6334765, 7.6674872</td>\n      <td>POINT Z (7.66749 35.63348 0.00000)</td>\n    </tr>\n  </tbody>\n</table>\n</div>"
     },
     "metadata": {},
     "execution_count": 45
    }
   ],
   "source": [
    "pois_df.head()"
   ]
  },
  {
   "cell_type": "code",
   "execution_count": 46,
   "metadata": {},
   "outputs": [
    {
     "output_type": "execute_result",
     "data": {
      "text/plain": [
       "0               Adrar\n",
       "1               Chlef\n",
       "2               Chlef\n",
       "3            Laghouat\n",
       "4      Oum El Bouaghi\n",
       "            ...      \n",
       "148              Mila\n",
       "149         Aïn Defla\n",
       "150    Ain Temouchent\n",
       "151          Ghardaïa\n",
       "152          Relizane\n",
       "Name: wilaya, Length: 153, dtype: object"
      ]
     },
     "metadata": {},
     "execution_count": 46
    }
   ],
   "source": [
    "pois_df['wilaya'] = [w[len(w)-1].strip() for w in pois_df['address'].str.split('-')]\n",
    "pois_df.wilaya"
   ]
  },
  {
   "cell_type": "code",
   "execution_count": 47,
   "metadata": {},
   "outputs": [
    {
     "output_type": "execute_result",
     "data": {
      "text/plain": [
       "0               ADRAR\n",
       "1               CHLEF\n",
       "2               CHLEF\n",
       "3            LAGHOUAT\n",
       "4      OUM EL BOUAGHI\n",
       "            ...      \n",
       "148              MILA\n",
       "149         AIN DEFLA\n",
       "150    AIN TEMOUCHENT\n",
       "151          GHARDAIA\n",
       "152          RELIZANE\n",
       "Name: wilaya_maj, Length: 153, dtype: object"
      ]
     },
     "metadata": {},
     "execution_count": 47
    }
   ],
   "source": [
    "pois_df['wilaya_maj'] = [unidecode.unidecode(w) for w in pois_df.wilaya.str.upper()]\n",
    "pois_df.wilaya_maj"
   ]
  },
  {
   "cell_type": "code",
   "execution_count": 48,
   "metadata": {},
   "outputs": [
    {
     "output_type": "execute_result",
     "data": {
      "text/plain": [
       "   code_wil         nom_wil\n",
       "0         1           ADRAR\n",
       "1         2           CHLEF\n",
       "2         3        LAGHOUAT\n",
       "3         4  OUM EL BOUAGHI\n",
       "4         5           BATNA"
      ],
      "text/html": "<div>\n<style scoped>\n    .dataframe tbody tr th:only-of-type {\n        vertical-align: middle;\n    }\n\n    .dataframe tbody tr th {\n        vertical-align: top;\n    }\n\n    .dataframe thead th {\n        text-align: right;\n    }\n</style>\n<table border=\"1\" class=\"dataframe\">\n  <thead>\n    <tr style=\"text-align: right;\">\n      <th></th>\n      <th>code_wil</th>\n      <th>nom_wil</th>\n    </tr>\n  </thead>\n  <tbody>\n    <tr>\n      <th>0</th>\n      <td>1</td>\n      <td>ADRAR</td>\n    </tr>\n    <tr>\n      <th>1</th>\n      <td>2</td>\n      <td>CHLEF</td>\n    </tr>\n    <tr>\n      <th>2</th>\n      <td>3</td>\n      <td>LAGHOUAT</td>\n    </tr>\n    <tr>\n      <th>3</th>\n      <td>4</td>\n      <td>OUM EL BOUAGHI</td>\n    </tr>\n    <tr>\n      <th>4</th>\n      <td>5</td>\n      <td>BATNA</td>\n    </tr>\n  </tbody>\n</table>\n</div>"
     },
     "metadata": {},
     "execution_count": 48
    }
   ],
   "source": [
    "# Add Wilayas codes\n",
    "# Load Wilayas Features and calculate polygon centroids\n",
    "wilayas_gjson = '../../../dz-admin/wilayas_48.csv'\n",
    "wilayas_df = pd.read_csv(wilayas_gjson)\n",
    "wilayas_df = wilayas_df[['code', 'nom_maj']]\n",
    "wilayas_df = wilayas_df.rename(columns={'nom_maj': 'nom_wil', 'code': 'code_wil'})\n",
    "wilayas_df.head()"
   ]
  },
  {
   "cell_type": "code",
   "execution_count": 49,
   "metadata": {},
   "outputs": [
    {
     "output_type": "execute_result",
     "data": {
      "text/plain": [
       "Empty GeoDataFrame\n",
       "Columns: [Name, localite, code_agence, succursale, address, phone, fax, position, geometry, wilaya, wilaya_maj, code_wil, nom_wil]\n",
       "Index: []"
      ],
      "text/html": "<div>\n<style scoped>\n    .dataframe tbody tr th:only-of-type {\n        vertical-align: middle;\n    }\n\n    .dataframe tbody tr th {\n        vertical-align: top;\n    }\n\n    .dataframe thead th {\n        text-align: right;\n    }\n</style>\n<table border=\"1\" class=\"dataframe\">\n  <thead>\n    <tr style=\"text-align: right;\">\n      <th></th>\n      <th>Name</th>\n      <th>localite</th>\n      <th>code_agence</th>\n      <th>succursale</th>\n      <th>address</th>\n      <th>phone</th>\n      <th>fax</th>\n      <th>position</th>\n      <th>geometry</th>\n      <th>wilaya</th>\n      <th>wilaya_maj</th>\n      <th>code_wil</th>\n      <th>nom_wil</th>\n    </tr>\n  </thead>\n  <tbody>\n  </tbody>\n</table>\n</div>"
     },
     "metadata": {},
     "execution_count": 49
    }
   ],
   "source": [
    "# Merge with Wialyas DataFrame\n",
    "merged = pois_df.merge(wilayas_df, left_on='wilaya_maj', right_on='nom_wil', how='left')\n",
    "\n",
    "merged[merged['code_wil'].isnull()]"
   ]
  },
  {
   "cell_type": "code",
   "execution_count": 50,
   "metadata": {},
   "outputs": [
    {
     "output_type": "execute_result",
     "data": {
      "text/plain": [
       "Name           153\n",
       "localite       153\n",
       "code_agence    153\n",
       "succursale     153\n",
       "address        153\n",
       "phone          153\n",
       "fax            153\n",
       "position       153\n",
       "geometry       153\n",
       "wilaya         153\n",
       "wilaya_maj     153\n",
       "code_wil       153\n",
       "nom_wil        153\n",
       "dtype: int64"
      ]
     },
     "metadata": {},
     "execution_count": 50
    }
   ],
   "source": [
    "merged.count()"
   ]
  },
  {
   "cell_type": "code",
   "execution_count": 55,
   "metadata": {},
   "outputs": [
    {
     "output_type": "execute_result",
     "data": {
      "text/plain": [
       "0     -0.287824\n",
       "1      1.334741\n",
       "2      1.341806\n",
       "3      2.856929\n",
       "4      7.667487\n",
       "         ...   \n",
       "148    6.159697\n",
       "149    2.217620\n",
       "150   -1.138409\n",
       "151    3.697482\n",
       "152    0.556412\n",
       "Name: lon, Length: 153, dtype: float64"
      ]
     },
     "metadata": {},
     "execution_count": 55
    }
   ],
   "source": [
    "merged['lat'] = merged['geometry'].y\n",
    "merged['lon'] = merged['geometry'].x"
   ]
  },
  {
   "cell_type": "code",
   "execution_count": 56,
   "metadata": {},
   "outputs": [
    {
     "output_type": "execute_result",
     "data": {
      "text/plain": [
       "                Name  localite code_agence       succursale  \\\n",
       "0           01-Adrar     Adrar         408       Oran (400)   \n",
       "1           02-Chlef     Chlef         607  Bouzaréah (600)   \n",
       "2           02-Chlef     Chlef         732  Bouzaréah (600)   \n",
       "3        03-Laghouat  Laghouat         621  Bouzaréah (600)   \n",
       "4  04-Oum El Bouaghi  Meskiana         306     Annaba (300)   \n",
       "\n",
       "                                             address  \\\n",
       "0           N° 03, Centre Commercial \"AMRAD\" - Adrar   \n",
       "1                     Rue Ibn Rochd, BP. 137 - Chlef   \n",
       "2        Cite des fonctionnaires, Bt. 1 N°06 - Chlef   \n",
       "3    Bloc H, cité des 600 Logements Makam - Laghouat   \n",
       "4  Route Radai Amar, Code 04250, Meskiana - Oum E...   \n",
       "\n",
       "                         phone           fax  \\\n",
       "0  049 36 78 83 / 049 36 78 85  049 36 78 85   \n",
       "1                 027 77 15 73  027 77 81 58   \n",
       "2                 027 79 04 20  027 79 04 20   \n",
       "3                 029 11 73 79  029 11 73 84   \n",
       "4                 032 47 18 96  032 66 22 58   \n",
       "\n",
       "                                  position  \\\n",
       "0  27.870513098041783, -0.2878241762255456   \n",
       "1                      36.170123, 1.334741   \n",
       "2                      36.169331, 1.341806   \n",
       "3   33.795496319705656, 2.8569293262669775   \n",
       "4                    35.6334765, 7.6674872   \n",
       "\n",
       "                              geometry          wilaya      wilaya_maj  \\\n",
       "0  POINT Z (-0.28782 27.87051 0.00000)           Adrar           ADRAR   \n",
       "1   POINT Z (1.33474 36.17012 0.00000)           Chlef           CHLEF   \n",
       "2   POINT Z (1.34181 36.16933 0.00000)           Chlef           CHLEF   \n",
       "3   POINT Z (2.85693 33.79550 0.00000)        Laghouat        LAGHOUAT   \n",
       "4   POINT Z (7.66749 35.63348 0.00000)  Oum El Bouaghi  OUM EL BOUAGHI   \n",
       "\n",
       "   code_wil         nom_wil        lat       lon  \n",
       "0         1           ADRAR  27.870513 -0.287824  \n",
       "1         2           CHLEF  36.170123  1.334741  \n",
       "2         2           CHLEF  36.169331  1.341806  \n",
       "3         3        LAGHOUAT  33.795496  2.856929  \n",
       "4         4  OUM EL BOUAGHI  35.633477  7.667487  "
      ],
      "text/html": "<div>\n<style scoped>\n    .dataframe tbody tr th:only-of-type {\n        vertical-align: middle;\n    }\n\n    .dataframe tbody tr th {\n        vertical-align: top;\n    }\n\n    .dataframe thead th {\n        text-align: right;\n    }\n</style>\n<table border=\"1\" class=\"dataframe\">\n  <thead>\n    <tr style=\"text-align: right;\">\n      <th></th>\n      <th>Name</th>\n      <th>localite</th>\n      <th>code_agence</th>\n      <th>succursale</th>\n      <th>address</th>\n      <th>phone</th>\n      <th>fax</th>\n      <th>position</th>\n      <th>geometry</th>\n      <th>wilaya</th>\n      <th>wilaya_maj</th>\n      <th>code_wil</th>\n      <th>nom_wil</th>\n      <th>lat</th>\n      <th>lon</th>\n    </tr>\n  </thead>\n  <tbody>\n    <tr>\n      <th>0</th>\n      <td>01-Adrar</td>\n      <td>Adrar</td>\n      <td>408</td>\n      <td>Oran (400)</td>\n      <td>N° 03, Centre Commercial \"AMRAD\" - Adrar</td>\n      <td>049 36 78 83 / 049 36 78 85</td>\n      <td>049 36 78 85</td>\n      <td>27.870513098041783, -0.2878241762255456</td>\n      <td>POINT Z (-0.28782 27.87051 0.00000)</td>\n      <td>Adrar</td>\n      <td>ADRAR</td>\n      <td>1</td>\n      <td>ADRAR</td>\n      <td>27.870513</td>\n      <td>-0.287824</td>\n    </tr>\n    <tr>\n      <th>1</th>\n      <td>02-Chlef</td>\n      <td>Chlef</td>\n      <td>607</td>\n      <td>Bouzaréah (600)</td>\n      <td>Rue Ibn Rochd, BP. 137 - Chlef</td>\n      <td>027 77 15 73</td>\n      <td>027 77 81 58</td>\n      <td>36.170123, 1.334741</td>\n      <td>POINT Z (1.33474 36.17012 0.00000)</td>\n      <td>Chlef</td>\n      <td>CHLEF</td>\n      <td>2</td>\n      <td>CHLEF</td>\n      <td>36.170123</td>\n      <td>1.334741</td>\n    </tr>\n    <tr>\n      <th>2</th>\n      <td>02-Chlef</td>\n      <td>Chlef</td>\n      <td>732</td>\n      <td>Bouzaréah (600)</td>\n      <td>Cite des fonctionnaires, Bt. 1 N°06 - Chlef</td>\n      <td>027 79 04 20</td>\n      <td>027 79 04 20</td>\n      <td>36.169331, 1.341806</td>\n      <td>POINT Z (1.34181 36.16933 0.00000)</td>\n      <td>Chlef</td>\n      <td>CHLEF</td>\n      <td>2</td>\n      <td>CHLEF</td>\n      <td>36.169331</td>\n      <td>1.341806</td>\n    </tr>\n    <tr>\n      <th>3</th>\n      <td>03-Laghouat</td>\n      <td>Laghouat</td>\n      <td>621</td>\n      <td>Bouzaréah (600)</td>\n      <td>Bloc H, cité des 600 Logements Makam - Laghouat</td>\n      <td>029 11 73 79</td>\n      <td>029 11 73 84</td>\n      <td>33.795496319705656, 2.8569293262669775</td>\n      <td>POINT Z (2.85693 33.79550 0.00000)</td>\n      <td>Laghouat</td>\n      <td>LAGHOUAT</td>\n      <td>3</td>\n      <td>LAGHOUAT</td>\n      <td>33.795496</td>\n      <td>2.856929</td>\n    </tr>\n    <tr>\n      <th>4</th>\n      <td>04-Oum El Bouaghi</td>\n      <td>Meskiana</td>\n      <td>306</td>\n      <td>Annaba (300)</td>\n      <td>Route Radai Amar, Code 04250, Meskiana - Oum E...</td>\n      <td>032 47 18 96</td>\n      <td>032 66 22 58</td>\n      <td>35.6334765, 7.6674872</td>\n      <td>POINT Z (7.66749 35.63348 0.00000)</td>\n      <td>Oum El Bouaghi</td>\n      <td>OUM EL BOUAGHI</td>\n      <td>4</td>\n      <td>OUM EL BOUAGHI</td>\n      <td>35.633477</td>\n      <td>7.667487</td>\n    </tr>\n  </tbody>\n</table>\n</div>"
     },
     "metadata": {},
     "execution_count": 56
    }
   ],
   "source": [
    "merged.head()"
   ]
  },
  {
   "cell_type": "code",
   "execution_count": 63,
   "metadata": {},
   "outputs": [
    {
     "output_type": "execute_result",
     "data": {
      "text/plain": [
       "                  Name  localite code_agence       succursale  \\\n",
       "num                                                             \n",
       "0             01-Adrar     Adrar         408       Oran (400)   \n",
       "1             02-Chlef     Chlef         607  Bouzaréah (600)   \n",
       "2             02-Chlef     Chlef         732  Bouzaréah (600)   \n",
       "3          03-Laghouat  Laghouat         621  Bouzaréah (600)   \n",
       "4    04-Oum El Bouaghi  Meskiana         306     Annaba (300)   \n",
       "\n",
       "                                               address  \\\n",
       "num                                                      \n",
       "0             N° 03, Centre Commercial \"AMRAD\" - Adrar   \n",
       "1                       Rue Ibn Rochd, BP. 137 - Chlef   \n",
       "2          Cite des fonctionnaires, Bt. 1 N°06 - Chlef   \n",
       "3      Bloc H, cité des 600 Logements Makam - Laghouat   \n",
       "4    Route Radai Amar, Code 04250, Meskiana - Oum E...   \n",
       "\n",
       "                           phone           fax  code_wil        lat       lon  \n",
       "num                                                                            \n",
       "0    049 36 78 83 / 049 36 78 85  049 36 78 85         1  27.870513 -0.287824  \n",
       "1                   027 77 15 73  027 77 81 58         2  36.170123  1.334741  \n",
       "2                   027 79 04 20  027 79 04 20         2  36.169331  1.341806  \n",
       "3                   029 11 73 79  029 11 73 84         3  33.795496  2.856929  \n",
       "4                   032 47 18 96  032 66 22 58         4  35.633477  7.667487  "
      ],
      "text/html": "<div>\n<style scoped>\n    .dataframe tbody tr th:only-of-type {\n        vertical-align: middle;\n    }\n\n    .dataframe tbody tr th {\n        vertical-align: top;\n    }\n\n    .dataframe thead th {\n        text-align: right;\n    }\n</style>\n<table border=\"1\" class=\"dataframe\">\n  <thead>\n    <tr style=\"text-align: right;\">\n      <th></th>\n      <th>Name</th>\n      <th>localite</th>\n      <th>code_agence</th>\n      <th>succursale</th>\n      <th>address</th>\n      <th>phone</th>\n      <th>fax</th>\n      <th>code_wil</th>\n      <th>lat</th>\n      <th>lon</th>\n    </tr>\n    <tr>\n      <th>num</th>\n      <th></th>\n      <th></th>\n      <th></th>\n      <th></th>\n      <th></th>\n      <th></th>\n      <th></th>\n      <th></th>\n      <th></th>\n      <th></th>\n    </tr>\n  </thead>\n  <tbody>\n    <tr>\n      <th>0</th>\n      <td>01-Adrar</td>\n      <td>Adrar</td>\n      <td>408</td>\n      <td>Oran (400)</td>\n      <td>N° 03, Centre Commercial \"AMRAD\" - Adrar</td>\n      <td>049 36 78 83 / 049 36 78 85</td>\n      <td>049 36 78 85</td>\n      <td>1</td>\n      <td>27.870513</td>\n      <td>-0.287824</td>\n    </tr>\n    <tr>\n      <th>1</th>\n      <td>02-Chlef</td>\n      <td>Chlef</td>\n      <td>607</td>\n      <td>Bouzaréah (600)</td>\n      <td>Rue Ibn Rochd, BP. 137 - Chlef</td>\n      <td>027 77 15 73</td>\n      <td>027 77 81 58</td>\n      <td>2</td>\n      <td>36.170123</td>\n      <td>1.334741</td>\n    </tr>\n    <tr>\n      <th>2</th>\n      <td>02-Chlef</td>\n      <td>Chlef</td>\n      <td>732</td>\n      <td>Bouzaréah (600)</td>\n      <td>Cite des fonctionnaires, Bt. 1 N°06 - Chlef</td>\n      <td>027 79 04 20</td>\n      <td>027 79 04 20</td>\n      <td>2</td>\n      <td>36.169331</td>\n      <td>1.341806</td>\n    </tr>\n    <tr>\n      <th>3</th>\n      <td>03-Laghouat</td>\n      <td>Laghouat</td>\n      <td>621</td>\n      <td>Bouzaréah (600)</td>\n      <td>Bloc H, cité des 600 Logements Makam - Laghouat</td>\n      <td>029 11 73 79</td>\n      <td>029 11 73 84</td>\n      <td>3</td>\n      <td>33.795496</td>\n      <td>2.856929</td>\n    </tr>\n    <tr>\n      <th>4</th>\n      <td>04-Oum El Bouaghi</td>\n      <td>Meskiana</td>\n      <td>306</td>\n      <td>Annaba (300)</td>\n      <td>Route Radai Amar, Code 04250, Meskiana - Oum E...</td>\n      <td>032 47 18 96</td>\n      <td>032 66 22 58</td>\n      <td>4</td>\n      <td>35.633477</td>\n      <td>7.667487</td>\n    </tr>\n  </tbody>\n</table>\n</div>"
     },
     "metadata": {},
     "execution_count": 63
    }
   ],
   "source": [
    "final_df = merged.drop(columns=['wilaya_maj', \"wilaya\", 'nom_wil', 'position', 'geometry'], axis=1)\n",
    "final_df.rename_axis('num', inplace=True)\n",
    "final_df.head()"
   ]
  },
  {
   "cell_type": "code",
   "execution_count": 64,
   "metadata": {},
   "outputs": [],
   "source": [
    "final_df.to_csv('./caar_branches_to_check.csv', header = True)"
   ]
  }
 ]
}