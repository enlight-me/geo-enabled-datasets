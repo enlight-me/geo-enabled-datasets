{
 "metadata": {
  "language_info": {
   "codemirror_mode": {
    "name": "ipython",
    "version": 3
   },
   "file_extension": ".py",
   "mimetype": "text/x-python",
   "name": "python",
   "nbconvert_exporter": "python",
   "pygments_lexer": "ipython3",
   "version": "3.8.5"
  },
  "orig_nbformat": 2,
  "kernelspec": {
   "name": "python3",
   "display_name": "Python 3",
   "language": "python"
  }
 },
 "nbformat": 4,
 "nbformat_minor": 2,
 "cells": [
  {
   "cell_type": "code",
   "execution_count": 9,
   "metadata": {},
   "outputs": [],
   "source": [
    "# load packages\n",
    "import pandas as pd\n",
    "import geopandas as gpd\n",
    "import unidecode \n",
    "from bs4 import BeautifulSoup"
   ]
  },
  {
   "cell_type": "code",
   "execution_count": 5,
   "metadata": {},
   "outputs": [
    {
     "output_type": "execute_result",
     "data": {
      "text/plain": [
       "Name              41\n",
       "description       41\n",
       "timestamp          0\n",
       "begin              0\n",
       "end                0\n",
       "altitudeMode       0\n",
       "tessellate        41\n",
       "extrude           41\n",
       "visibility        41\n",
       "drawOrder          0\n",
       "icon               0\n",
       "Lat               41\n",
       "Long              41\n",
       "gx_media_links    40\n",
       "geometry          41\n",
       "dtype: int64"
      ]
     },
     "metadata": {},
     "execution_count": 5
    }
   ],
   "source": [
    "pois_file_name = './macirvie_raw.geojson'\n",
    "pois_gdf = gpd.read_file(pois_file_name)\n",
    "pois_gdf.count()"
   ]
  },
  {
   "cell_type": "code",
   "execution_count": 23,
   "metadata": {},
   "outputs": [
    {
     "output_type": "execute_result",
     "data": {
      "text/plain": [
       "        Name                                        description       Lat  \\\n",
       "0      Adrar  <img src=\"https://doc-0s-ao-mymaps.googleuserc...  27.97163   \n",
       "1  Ain Defla  <img src=\"https://doc-0o-ao-mymaps.googleuserc...  36.26318   \n",
       "2      Alger  <img src=\"https://doc-0k-ao-mymaps.googleuserc...  36.74768   \n",
       "3     Annaba  <img src=\"https://doc-14-ao-mymaps.googleuserc...  36.90598   \n",
       "4      Batna  <img src=\"https://doc-14-ao-mymaps.googleuserc...  35.56102   \n",
       "\n",
       "       Long                             geometry  \n",
       "0  -0.18696  POINT Z (-0.18696 27.97163 0.00000)  \n",
       "1    1.9641   POINT Z (1.96410 36.26318 0.00000)  \n",
       "2   3.04321   POINT Z (3.04321 36.74768 0.00000)  \n",
       "3   7.76733   POINT Z (7.76733 36.90598 0.00000)  \n",
       "4   6.17391   POINT Z (6.17391 35.56102 0.00000)  "
      ],
      "text/html": "<div>\n<style scoped>\n    .dataframe tbody tr th:only-of-type {\n        vertical-align: middle;\n    }\n\n    .dataframe tbody tr th {\n        vertical-align: top;\n    }\n\n    .dataframe thead th {\n        text-align: right;\n    }\n</style>\n<table border=\"1\" class=\"dataframe\">\n  <thead>\n    <tr style=\"text-align: right;\">\n      <th></th>\n      <th>Name</th>\n      <th>description</th>\n      <th>Lat</th>\n      <th>Long</th>\n      <th>geometry</th>\n    </tr>\n  </thead>\n  <tbody>\n    <tr>\n      <th>0</th>\n      <td>Adrar</td>\n      <td>&lt;img src=\"https://doc-0s-ao-mymaps.googleuserc...</td>\n      <td>27.97163</td>\n      <td>-0.18696</td>\n      <td>POINT Z (-0.18696 27.97163 0.00000)</td>\n    </tr>\n    <tr>\n      <th>1</th>\n      <td>Ain Defla</td>\n      <td>&lt;img src=\"https://doc-0o-ao-mymaps.googleuserc...</td>\n      <td>36.26318</td>\n      <td>1.9641</td>\n      <td>POINT Z (1.96410 36.26318 0.00000)</td>\n    </tr>\n    <tr>\n      <th>2</th>\n      <td>Alger</td>\n      <td>&lt;img src=\"https://doc-0k-ao-mymaps.googleuserc...</td>\n      <td>36.74768</td>\n      <td>3.04321</td>\n      <td>POINT Z (3.04321 36.74768 0.00000)</td>\n    </tr>\n    <tr>\n      <th>3</th>\n      <td>Annaba</td>\n      <td>&lt;img src=\"https://doc-14-ao-mymaps.googleuserc...</td>\n      <td>36.90598</td>\n      <td>7.76733</td>\n      <td>POINT Z (7.76733 36.90598 0.00000)</td>\n    </tr>\n    <tr>\n      <th>4</th>\n      <td>Batna</td>\n      <td>&lt;img src=\"https://doc-14-ao-mymaps.googleuserc...</td>\n      <td>35.56102</td>\n      <td>6.17391</td>\n      <td>POINT Z (6.17391 35.56102 0.00000)</td>\n    </tr>\n  </tbody>\n</table>\n</div>"
     },
     "metadata": {},
     "execution_count": 23
    }
   ],
   "source": [
    "pois_df = pois_gdf[['Name', 'description', 'Lat', 'Long', 'geometry']]\n",
    "pois_df.head()"
   ]
  },
  {
   "cell_type": "code",
   "execution_count": 24,
   "metadata": {},
   "outputs": [
    {
     "output_type": "stream",
     "name": "stdout",
     "text": [
      "<html>\n <body>\n  <img height=\"200\" src=\"https://doc-0o-ao-mymaps.googleusercontent.com/untrusted/hostedimage/67ht0gn364521qiheeia79564g/3jrh7l65hjsd2hptdra0s8p7m8/1619458200000/ytoW1m9Dal9XfYyzwHLZWg4ozR-Iju9d/*/6AF2TALqMA6kp-5uot3iiy-ne6e36FISglNb994B2nMQn7vLTHvZo9-xW9pbiWINQlsyDMiRrqhHprxz-SzLAaXMTyXkBRHqAqz3po3SXOzfnWiwB87OXl_91cvg9JAdrFbVi6Bigsd6pvmsxeHFb-nE-BdZTVakF0rIB681Ktm10bOW0DmCWvZrCgn1yYZdO5OERMnpxe0N2?session=0&amp;fife\" width=\"auto\"/>\n  <br/>\n  <br/>\n  Code agence : 2120\n  <br/>\n  Adresse postale : Rue Med Khemisti, El Attaf\n  <br/>\n  Numéro de téléphone : 027.632.725\n  <br/>\n  Numéro de mobile : 0550 90 33 29\n  <br/>\n  Numéro de fax : 027.632.725\n  <br/>\n  Adresse email : a.zane@macirvie.com\n  <br/>\n  -----------------------------------------------\n  <br/>\n  Code agence : 2123\n  <br/>\n  Adresse postale : Cité CHOUAL n° 121\n  <br/>\n  Numéro de téléphone : 027.510.141\n  <br/>\n  Numéro de mobile : 0550 90 33 31\n  <br/>\n  Numéro de fax : 027.510.141\n  <br/>\n  Adresse email : a.zane@macirvie.com\n  <br/>\n  -----------------------------------------------\n  <br/>\n  Code agence : 2140\n  <br/>\n  Adresse postale : Rue du 20 Août - Cité EPLF, Khemis Miliana\n  <br/>\n  Numéro de téléphone : 027.663.316\n  <br/>\n  Numéro de mobile : 0.561.604.758\n  <br/>\n  Numéro de fax : 027.663.316\n  <br/>\n  Adresse email : K.zoubeidi@mcirvie.com\n  <br/>\n  -----------------------------------------------\n  <br/>\n  Code agence : 2141\n  <br/>\n  Adresse postale : Rue du 20 Août, Sidi Lakhdar\n  <br/>\n  Numéro de téléphone : 027.688.191\n  <br/>\n  Numéro de mobile : 0.561.604.758\n  <br/>\n  Numéro de fax : 027.688.191\n  <br/>\n  Adresse email : K.zoubeidi@mcirvie.com\n  <br/>\n  -----------------------------------------------\n  <br/>\n  Code agence : 2142\n  <br/>\n  Adresse postale : 59, Rue Emir Abdelkader, Bou Medfaa\n  <br/>\n  Numéro de téléphone : 027.544.338\n  <br/>\n  Numéro de mobile : 0.561.604.758\n  <br/>\n  Numéro de fax : 027.544.338\n  <br/>\n  Adresse email : K.zoubeidi@mcirvie.com\n  <br/>\n  -----------------------------------------------\n  <br/>\n  Code agence : 2180\n  <br/>\n  Adresse postale : Haï des frères METAI (NADJAM)\n  <br/>\n  Numéro de téléphone : 027.504.188\n  <br/>\n  Numéro de mobile : 0.560.932.554\n  <br/>\n  Numéro de fax : 027.504.188\n  <br/>\n  Adresse email : s.hadjoucif@macirvie.com\n  <br/>\n  -----------------------------------------------\n  <br/>\n  Code agence : 2250\n  <br/>\n  Adresse postale : 201, Rue BELSAADI Abdelkader, Khemis Miliana\n  <br/>\n  Numéro de téléphone : 027.560.427\n  <br/>\n  Numéro de mobile : 0550 59 56 55\n  <br/>\n  Numéro de fax : 027.560.427\n  <br/>\n  Adresse email : a.azizou@macirvie.com\n  <br/>\n  -----------------------------------------------\n  <br/>\n  Code agence : 2251\n  <br/>\n  Adresse postale : Cité LSP 18 logements bat B n° 4, Djelida\n  <br/>\n  Numéro de téléphone : 027.612.127\n  <br/>\n  Numéro de mobile : 0550 59 56 55\n  <br/>\n  Numéro de fax : 027.612.127\n  <br/>\n  Adresse email : a.azizou@macirvie.com\n  <br/>\n  -----------------------------------------------\n  <br/>\n  Code agence : 2410\n  <br/>\n  Adresse postale : Rue Benchaaben Abdelhafidh, Miliana\n  <br/>\n  Numéro de téléphone : 027.640.707\n  <br/>\n  Numéro de mobile : 0.561.604.759\n  <br/>\n  Numéro de fax : 027.640.707\n  <br/>\n  Adresse email : r.bougherara@macirvie.com\n  <br/>\n  -----------------------------------------------\n  <br/>\n  Code agence : 2411\n  <br/>\n  Adresse postale : Lot n°45 - Rue Zouaoui Miloud (en face DAIRA), Djendel\n  <br/>\n  Numéro de téléphone : 027.541.314\n  <br/>\n  Numéro de mobile : 0.561.604.759\n  <br/>\n  Numéro de fax : 027.541.314\n  <br/>\n  Adresse email : r.bougherara@macirvie.com\n  <br/>\n  -----------------------------------------------\n  <br/>\n  Code agence : 2252A\n  <br/>\n  Adresse postale : Rue Principale, Bir Ould Khelifa\n  <br/>\n  Numéro de téléphone : 027.56.04.27\n  <br/>\n  Numéro de mobile : 0.561.604.759\n  <br/>\n  Numéro de fax : 027.541.314\n  <br/>\n  Adresse email : r.bougherara@macirvie.com\n  <br/>\n  -----------------------------------------------\n  <br/>\n  <br/>\n  Lat: 36.26318\n  <br/>\n  Long: 1.9641\n  <br/>\n  <br/>\n  <img height=\"200\" src=\"https://doc-08-ao-mymaps.googleusercontent.com/untrusted/hostedimage/67ht0gn364521qiheeia79564g/b2qf0vnfr51nejg9oupj4l6f80/1619458200000/ytoW1m9Dal9XfYyzwHLZWg4ozR-Iju9d/*/6AF2TALqxLkXGaAX9Z7MbOWck2PWpLfogLnkEFkbEJw8gH7f23IyR5_Ba7uHuteCHrj8diapL2hfO601Cb6MxrVmyUp4OyCA_Al6bDvbqSeV-cj3rvCp0F8wkf6_NIWDGJy87ZeUvsJ32Ai_svM9n2ijhgM8JrroGoD7e_gzhkj1t-XESev7lYanRNJBQFsAIaAjEl0EQqUZgjbBBd6QCYTz5R3pXRxBbpw?session=0&amp;fife\" width=\"auto\"/>\n </body>\n</html>\n"
     ]
    }
   ],
   "source": [
    "soup = BeautifulSoup(pois_df.iloc[1].description, 'lxml')\n",
    "print(soup.prettify())"
   ]
  },
  {
   "cell_type": "code",
   "execution_count": 22,
   "metadata": {},
   "outputs": [
    {
     "output_type": "execute_result",
     "data": {
      "text/plain": [
       "'Code agence : 5140'"
      ]
     },
     "metadata": {},
     "execution_count": 22
    }
   ],
   "source": [
    "brs = soup.find_all('br')\n",
    "brs[1].next_sibling "
   ]
  },
  {
   "cell_type": "code",
   "execution_count": 3,
   "metadata": {},
   "outputs": [
    {
     "output_type": "execute_result",
     "data": {
      "text/plain": [
       "     code_agence type                          manager  \\\n",
       "0         1110.0  A.G                 MAHIEDDINE Zahia   \n",
       "1         1130.0  A.G              HAICHEUR Abdelkarim   \n",
       "2         1140.0  A.G   BENHABILES Samira née BOUAKKAZ   \n",
       "3         1150.0  A.G                      YADI Dalila   \n",
       "4         1160.0  A.G                      HENNI Karim   \n",
       "..           ...  ...                              ...   \n",
       "314       5240.0  A.G  SELMANE Oumelkheir épouse Karim   \n",
       "315       5241.0  ANX  SELMANE Oumelkheir épouse Karim   \n",
       "316       5250.0  A.C                   KARIM Belkacem   \n",
       "317       5260.0  A.G                  GHIBECHE Fayçal   \n",
       "318       5270.0  A.G                HADJ SAID Mohamed   \n",
       "\n",
       "                                               address             commune  \\\n",
       "0                   Cité Sonelgaz - Villa N° 02 B.P.15  Gué de Constantine   \n",
       "1                            29, Route Nationale N° 01     Bir Mourad Rais   \n",
       "2                 Cité du 1er Novembre 1954 - Local D5        Dar El Beida   \n",
       "3                                 14, Lot Said Hamdine               Hydra   \n",
       "4                Lotissement Cadat N° 72 - Les Sources     Bir Mourad Rais   \n",
       "..                                                 ...                 ...   \n",
       "314               Route Nationale 23 - Route de Tiaret               Aflou   \n",
       "315  Rue Chettouh Omar Bt. 34 Classe 18 Groupe de p...         El Idrissia   \n",
       "316                             Cité Essedikia 05/111            El Bayadh   \n",
       "317                               N° 01 Hai Rimel (01)           Touggourt   \n",
       "318             Avenue de l’A.L.N, Belghanem - Ighouza            Ghardaïa   \n",
       "\n",
       "        wilaya startDate          tel          fax         mobile  \\\n",
       "0        Alger   2/18/02  021.835.004  021.838.036  0.561.604.592   \n",
       "1        Alger   2/17/06  023.540.033  023.540.037  0.561.604.596   \n",
       "2        Alger   10/1/18  023.823.203  023.823.203            NaN   \n",
       "3        Alger    5/2/09  021.602.531  021.602.531  0.561.604.755   \n",
       "4        Alger    1/2/05  021.445.755  021.446.172  0.561.604.463   \n",
       "..         ...       ...          ...          ...            ...   \n",
       "314   Laghouat    6/1/13  029.176.112  029.176.114            NaN   \n",
       "315     Djelfa   1/14/18  027.887.450          NaN            NaN   \n",
       "316  El Bayadh    1/2/16  049.615.019  049.615.020  0.561.604.752   \n",
       "317    Ouargla   12/1/16  029.663.762          NaN            NaN   \n",
       "318   Ghardaïa   12/3/17  029.280.647          NaN            NaN   \n",
       "\n",
       "                             mail  openHour closeHour   latitude  longitude  \\\n",
       "0    z.mahieddine_1110@laciar.com  08:30:00  16:30:00  36.709047   3.094730   \n",
       "1      a.haicheur_1130@laciar.com  08:30:00  16:30:00  36.736708   3.048113   \n",
       "2    s.benhabiles_1140@laciar.com  08:30:00  17:30:00  36.714962   3.216395   \n",
       "3          d.yadi_1150@laciar.com  08:30:00  16:30:00  36.737473   3.029793   \n",
       "4         k.henni_1160@laciar.com  08:30:00  16:30:00  36.737117   3.056480   \n",
       "..                            ...       ...       ...        ...        ...   \n",
       "314     o.selmani_5240@laciar.com  08:00:00  16:00:00  34.118358   2.100457   \n",
       "315     o.selmani_5241@laciar.com  08:00:00  16:00:00  34.446870   2.531173   \n",
       "316       b.karim_5250@laciar.com  08:00:00  17:00:00  33.690357   1.017566   \n",
       "317    f.ghibeche_5260@laciar.com  08:00:00  17:00:00  33.101818   6.064293   \n",
       "318        s.hadj_5270@laciar.com  08:00:00  19:00:00  32.491757   3.651426   \n",
       "\n",
       "    wilaya_maj  \n",
       "0        ALGER  \n",
       "1        ALGER  \n",
       "2        ALGER  \n",
       "3        ALGER  \n",
       "4        ALGER  \n",
       "..         ...  \n",
       "314   LAGHOUAT  \n",
       "315     DJELFA  \n",
       "316  EL BAYADH  \n",
       "317    OUARGLA  \n",
       "318   GHARDAIA  \n",
       "\n",
       "[319 rows x 16 columns]"
      ],
      "text/html": "<div>\n<style scoped>\n    .dataframe tbody tr th:only-of-type {\n        vertical-align: middle;\n    }\n\n    .dataframe tbody tr th {\n        vertical-align: top;\n    }\n\n    .dataframe thead th {\n        text-align: right;\n    }\n</style>\n<table border=\"1\" class=\"dataframe\">\n  <thead>\n    <tr style=\"text-align: right;\">\n      <th></th>\n      <th>code_agence</th>\n      <th>type</th>\n      <th>manager</th>\n      <th>address</th>\n      <th>commune</th>\n      <th>wilaya</th>\n      <th>startDate</th>\n      <th>tel</th>\n      <th>fax</th>\n      <th>mobile</th>\n      <th>mail</th>\n      <th>openHour</th>\n      <th>closeHour</th>\n      <th>latitude</th>\n      <th>longitude</th>\n      <th>wilaya_maj</th>\n    </tr>\n  </thead>\n  <tbody>\n    <tr>\n      <th>0</th>\n      <td>1110.0</td>\n      <td>A.G</td>\n      <td>MAHIEDDINE Zahia</td>\n      <td>Cité Sonelgaz - Villa N° 02 B.P.15</td>\n      <td>Gué de Constantine</td>\n      <td>Alger</td>\n      <td>2/18/02</td>\n      <td>021.835.004</td>\n      <td>021.838.036</td>\n      <td>0.561.604.592</td>\n      <td>z.mahieddine_1110@laciar.com</td>\n      <td>08:30:00</td>\n      <td>16:30:00</td>\n      <td>36.709047</td>\n      <td>3.094730</td>\n      <td>ALGER</td>\n    </tr>\n    <tr>\n      <th>1</th>\n      <td>1130.0</td>\n      <td>A.G</td>\n      <td>HAICHEUR Abdelkarim</td>\n      <td>29, Route Nationale N° 01</td>\n      <td>Bir Mourad Rais</td>\n      <td>Alger</td>\n      <td>2/17/06</td>\n      <td>023.540.033</td>\n      <td>023.540.037</td>\n      <td>0.561.604.596</td>\n      <td>a.haicheur_1130@laciar.com</td>\n      <td>08:30:00</td>\n      <td>16:30:00</td>\n      <td>36.736708</td>\n      <td>3.048113</td>\n      <td>ALGER</td>\n    </tr>\n    <tr>\n      <th>2</th>\n      <td>1140.0</td>\n      <td>A.G</td>\n      <td>BENHABILES Samira née BOUAKKAZ</td>\n      <td>Cité du 1er Novembre 1954 - Local D5</td>\n      <td>Dar El Beida</td>\n      <td>Alger</td>\n      <td>10/1/18</td>\n      <td>023.823.203</td>\n      <td>023.823.203</td>\n      <td>NaN</td>\n      <td>s.benhabiles_1140@laciar.com</td>\n      <td>08:30:00</td>\n      <td>17:30:00</td>\n      <td>36.714962</td>\n      <td>3.216395</td>\n      <td>ALGER</td>\n    </tr>\n    <tr>\n      <th>3</th>\n      <td>1150.0</td>\n      <td>A.G</td>\n      <td>YADI Dalila</td>\n      <td>14, Lot Said Hamdine</td>\n      <td>Hydra</td>\n      <td>Alger</td>\n      <td>5/2/09</td>\n      <td>021.602.531</td>\n      <td>021.602.531</td>\n      <td>0.561.604.755</td>\n      <td>d.yadi_1150@laciar.com</td>\n      <td>08:30:00</td>\n      <td>16:30:00</td>\n      <td>36.737473</td>\n      <td>3.029793</td>\n      <td>ALGER</td>\n    </tr>\n    <tr>\n      <th>4</th>\n      <td>1160.0</td>\n      <td>A.G</td>\n      <td>HENNI Karim</td>\n      <td>Lotissement Cadat N° 72 - Les Sources</td>\n      <td>Bir Mourad Rais</td>\n      <td>Alger</td>\n      <td>1/2/05</td>\n      <td>021.445.755</td>\n      <td>021.446.172</td>\n      <td>0.561.604.463</td>\n      <td>k.henni_1160@laciar.com</td>\n      <td>08:30:00</td>\n      <td>16:30:00</td>\n      <td>36.737117</td>\n      <td>3.056480</td>\n      <td>ALGER</td>\n    </tr>\n    <tr>\n      <th>...</th>\n      <td>...</td>\n      <td>...</td>\n      <td>...</td>\n      <td>...</td>\n      <td>...</td>\n      <td>...</td>\n      <td>...</td>\n      <td>...</td>\n      <td>...</td>\n      <td>...</td>\n      <td>...</td>\n      <td>...</td>\n      <td>...</td>\n      <td>...</td>\n      <td>...</td>\n      <td>...</td>\n    </tr>\n    <tr>\n      <th>314</th>\n      <td>5240.0</td>\n      <td>A.G</td>\n      <td>SELMANE Oumelkheir épouse Karim</td>\n      <td>Route Nationale 23 - Route de Tiaret</td>\n      <td>Aflou</td>\n      <td>Laghouat</td>\n      <td>6/1/13</td>\n      <td>029.176.112</td>\n      <td>029.176.114</td>\n      <td>NaN</td>\n      <td>o.selmani_5240@laciar.com</td>\n      <td>08:00:00</td>\n      <td>16:00:00</td>\n      <td>34.118358</td>\n      <td>2.100457</td>\n      <td>LAGHOUAT</td>\n    </tr>\n    <tr>\n      <th>315</th>\n      <td>5241.0</td>\n      <td>ANX</td>\n      <td>SELMANE Oumelkheir épouse Karim</td>\n      <td>Rue Chettouh Omar Bt. 34 Classe 18 Groupe de p...</td>\n      <td>El Idrissia</td>\n      <td>Djelfa</td>\n      <td>1/14/18</td>\n      <td>027.887.450</td>\n      <td>NaN</td>\n      <td>NaN</td>\n      <td>o.selmani_5241@laciar.com</td>\n      <td>08:00:00</td>\n      <td>16:00:00</td>\n      <td>34.446870</td>\n      <td>2.531173</td>\n      <td>DJELFA</td>\n    </tr>\n    <tr>\n      <th>316</th>\n      <td>5250.0</td>\n      <td>A.C</td>\n      <td>KARIM Belkacem</td>\n      <td>Cité Essedikia 05/111</td>\n      <td>El Bayadh</td>\n      <td>El Bayadh</td>\n      <td>1/2/16</td>\n      <td>049.615.019</td>\n      <td>049.615.020</td>\n      <td>0.561.604.752</td>\n      <td>b.karim_5250@laciar.com</td>\n      <td>08:00:00</td>\n      <td>17:00:00</td>\n      <td>33.690357</td>\n      <td>1.017566</td>\n      <td>EL BAYADH</td>\n    </tr>\n    <tr>\n      <th>317</th>\n      <td>5260.0</td>\n      <td>A.G</td>\n      <td>GHIBECHE Fayçal</td>\n      <td>N° 01 Hai Rimel (01)</td>\n      <td>Touggourt</td>\n      <td>Ouargla</td>\n      <td>12/1/16</td>\n      <td>029.663.762</td>\n      <td>NaN</td>\n      <td>NaN</td>\n      <td>f.ghibeche_5260@laciar.com</td>\n      <td>08:00:00</td>\n      <td>17:00:00</td>\n      <td>33.101818</td>\n      <td>6.064293</td>\n      <td>OUARGLA</td>\n    </tr>\n    <tr>\n      <th>318</th>\n      <td>5270.0</td>\n      <td>A.G</td>\n      <td>HADJ SAID Mohamed</td>\n      <td>Avenue de l’A.L.N, Belghanem - Ighouza</td>\n      <td>Ghardaïa</td>\n      <td>Ghardaïa</td>\n      <td>12/3/17</td>\n      <td>029.280.647</td>\n      <td>NaN</td>\n      <td>NaN</td>\n      <td>s.hadj_5270@laciar.com</td>\n      <td>08:00:00</td>\n      <td>19:00:00</td>\n      <td>32.491757</td>\n      <td>3.651426</td>\n      <td>GHARDAIA</td>\n    </tr>\n  </tbody>\n</table>\n<p>319 rows × 16 columns</p>\n</div>"
     },
     "metadata": {},
     "execution_count": 3
    }
   ],
   "source": [
    "pois_df['wilaya_maj'] = [unidecode.unidecode(w) for w in pois_df.wilaya.str.upper()]\n",
    "pois_df"
   ]
  },
  {
   "cell_type": "code",
   "execution_count": 4,
   "metadata": {},
   "outputs": [
    {
     "output_type": "execute_result",
     "data": {
      "text/plain": [
       "   code_wil         nom_wil\n",
       "0         1           ADRAR\n",
       "1         2           CHLEF\n",
       "2         3        LAGHOUAT\n",
       "3         4  OUM EL BOUAGHI\n",
       "4         5           BATNA"
      ],
      "text/html": "<div>\n<style scoped>\n    .dataframe tbody tr th:only-of-type {\n        vertical-align: middle;\n    }\n\n    .dataframe tbody tr th {\n        vertical-align: top;\n    }\n\n    .dataframe thead th {\n        text-align: right;\n    }\n</style>\n<table border=\"1\" class=\"dataframe\">\n  <thead>\n    <tr style=\"text-align: right;\">\n      <th></th>\n      <th>code_wil</th>\n      <th>nom_wil</th>\n    </tr>\n  </thead>\n  <tbody>\n    <tr>\n      <th>0</th>\n      <td>1</td>\n      <td>ADRAR</td>\n    </tr>\n    <tr>\n      <th>1</th>\n      <td>2</td>\n      <td>CHLEF</td>\n    </tr>\n    <tr>\n      <th>2</th>\n      <td>3</td>\n      <td>LAGHOUAT</td>\n    </tr>\n    <tr>\n      <th>3</th>\n      <td>4</td>\n      <td>OUM EL BOUAGHI</td>\n    </tr>\n    <tr>\n      <th>4</th>\n      <td>5</td>\n      <td>BATNA</td>\n    </tr>\n  </tbody>\n</table>\n</div>"
     },
     "metadata": {},
     "execution_count": 4
    }
   ],
   "source": [
    "# Add Wilayas codes\n",
    "# Load Wilayas Features and calculate polygon centroids\n",
    "wilayas_gjson = '../../../dz-admin/wilayas_48.csv'\n",
    "wilayas_df = pd.read_csv(wilayas_gjson)\n",
    "wilayas_df = wilayas_df[['code', 'nom_maj']]\n",
    "wilayas_df = wilayas_df.rename(columns={'nom_maj': 'nom_wil', 'code': 'code_wil'})\n",
    "wilayas_df.head()"
   ]
  },
  {
   "cell_type": "code",
   "execution_count": 5,
   "metadata": {},
   "outputs": [
    {
     "output_type": "execute_result",
     "data": {
      "text/plain": [
       "Empty DataFrame\n",
       "Columns: [code_agence, type, manager, address, commune, wilaya, startDate, tel, fax, mobile, mail, openHour, closeHour, latitude, longitude, wilaya_maj, code_wil, nom_wil]\n",
       "Index: []"
      ],
      "text/html": "<div>\n<style scoped>\n    .dataframe tbody tr th:only-of-type {\n        vertical-align: middle;\n    }\n\n    .dataframe tbody tr th {\n        vertical-align: top;\n    }\n\n    .dataframe thead th {\n        text-align: right;\n    }\n</style>\n<table border=\"1\" class=\"dataframe\">\n  <thead>\n    <tr style=\"text-align: right;\">\n      <th></th>\n      <th>code_agence</th>\n      <th>type</th>\n      <th>manager</th>\n      <th>address</th>\n      <th>commune</th>\n      <th>wilaya</th>\n      <th>startDate</th>\n      <th>tel</th>\n      <th>fax</th>\n      <th>mobile</th>\n      <th>mail</th>\n      <th>openHour</th>\n      <th>closeHour</th>\n      <th>latitude</th>\n      <th>longitude</th>\n      <th>wilaya_maj</th>\n      <th>code_wil</th>\n      <th>nom_wil</th>\n    </tr>\n  </thead>\n  <tbody>\n  </tbody>\n</table>\n</div>"
     },
     "metadata": {},
     "execution_count": 5
    }
   ],
   "source": [
    "# Merge with Wialyas DataFrame\n",
    "merged = pois_df.merge(wilayas_df, left_on='wilaya_maj', right_on='nom_wil', how='left')\n",
    "\n",
    "merged[merged['code_wil'].isnull()]"
   ]
  },
  {
   "cell_type": "code",
   "execution_count": 6,
   "metadata": {},
   "outputs": [
    {
     "output_type": "execute_result",
     "data": {
      "text/plain": [
       "code_agence    316\n",
       "type           319\n",
       "manager        319\n",
       "address        319\n",
       "commune        319\n",
       "wilaya         319\n",
       "startDate      317\n",
       "tel            314\n",
       "fax            222\n",
       "mobile         149\n",
       "mail           318\n",
       "openHour       319\n",
       "closeHour      319\n",
       "latitude       319\n",
       "longitude      319\n",
       "wilaya_maj     319\n",
       "code_wil       319\n",
       "nom_wil        319\n",
       "dtype: int64"
      ]
     },
     "metadata": {},
     "execution_count": 6
    }
   ],
   "source": [
    "merged.count()"
   ]
  },
  {
   "cell_type": "code",
   "execution_count": 7,
   "metadata": {},
   "outputs": [
    {
     "output_type": "execute_result",
     "data": {
      "text/plain": [
       "   code_agence type                         manager  \\\n",
       "0       1110.0  A.G                MAHIEDDINE Zahia   \n",
       "1       1130.0  A.G             HAICHEUR Abdelkarim   \n",
       "2       1140.0  A.G  BENHABILES Samira née BOUAKKAZ   \n",
       "3       1150.0  A.G                     YADI Dalila   \n",
       "4       1160.0  A.G                     HENNI Karim   \n",
       "\n",
       "                                 address             commune wilaya startDate  \\\n",
       "0     Cité Sonelgaz - Villa N° 02 B.P.15  Gué de Constantine  Alger   2/18/02   \n",
       "1              29, Route Nationale N° 01     Bir Mourad Rais  Alger   2/17/06   \n",
       "2   Cité du 1er Novembre 1954 - Local D5        Dar El Beida  Alger   10/1/18   \n",
       "3                   14, Lot Said Hamdine               Hydra  Alger    5/2/09   \n",
       "4  Lotissement Cadat N° 72 - Les Sources     Bir Mourad Rais  Alger    1/2/05   \n",
       "\n",
       "           tel          fax         mobile                          mail  \\\n",
       "0  021.835.004  021.838.036  0.561.604.592  z.mahieddine_1110@laciar.com   \n",
       "1  023.540.033  023.540.037  0.561.604.596    a.haicheur_1130@laciar.com   \n",
       "2  023.823.203  023.823.203            NaN  s.benhabiles_1140@laciar.com   \n",
       "3  021.602.531  021.602.531  0.561.604.755        d.yadi_1150@laciar.com   \n",
       "4  021.445.755  021.446.172  0.561.604.463       k.henni_1160@laciar.com   \n",
       "\n",
       "   openHour closeHour   latitude  longitude wilaya_maj  code_wil nom_wil  \n",
       "0  08:30:00  16:30:00  36.709047   3.094730      ALGER        16   ALGER  \n",
       "1  08:30:00  16:30:00  36.736708   3.048113      ALGER        16   ALGER  \n",
       "2  08:30:00  17:30:00  36.714962   3.216395      ALGER        16   ALGER  \n",
       "3  08:30:00  16:30:00  36.737473   3.029793      ALGER        16   ALGER  \n",
       "4  08:30:00  16:30:00  36.737117   3.056480      ALGER        16   ALGER  "
      ],
      "text/html": "<div>\n<style scoped>\n    .dataframe tbody tr th:only-of-type {\n        vertical-align: middle;\n    }\n\n    .dataframe tbody tr th {\n        vertical-align: top;\n    }\n\n    .dataframe thead th {\n        text-align: right;\n    }\n</style>\n<table border=\"1\" class=\"dataframe\">\n  <thead>\n    <tr style=\"text-align: right;\">\n      <th></th>\n      <th>code_agence</th>\n      <th>type</th>\n      <th>manager</th>\n      <th>address</th>\n      <th>commune</th>\n      <th>wilaya</th>\n      <th>startDate</th>\n      <th>tel</th>\n      <th>fax</th>\n      <th>mobile</th>\n      <th>mail</th>\n      <th>openHour</th>\n      <th>closeHour</th>\n      <th>latitude</th>\n      <th>longitude</th>\n      <th>wilaya_maj</th>\n      <th>code_wil</th>\n      <th>nom_wil</th>\n    </tr>\n  </thead>\n  <tbody>\n    <tr>\n      <th>0</th>\n      <td>1110.0</td>\n      <td>A.G</td>\n      <td>MAHIEDDINE Zahia</td>\n      <td>Cité Sonelgaz - Villa N° 02 B.P.15</td>\n      <td>Gué de Constantine</td>\n      <td>Alger</td>\n      <td>2/18/02</td>\n      <td>021.835.004</td>\n      <td>021.838.036</td>\n      <td>0.561.604.592</td>\n      <td>z.mahieddine_1110@laciar.com</td>\n      <td>08:30:00</td>\n      <td>16:30:00</td>\n      <td>36.709047</td>\n      <td>3.094730</td>\n      <td>ALGER</td>\n      <td>16</td>\n      <td>ALGER</td>\n    </tr>\n    <tr>\n      <th>1</th>\n      <td>1130.0</td>\n      <td>A.G</td>\n      <td>HAICHEUR Abdelkarim</td>\n      <td>29, Route Nationale N° 01</td>\n      <td>Bir Mourad Rais</td>\n      <td>Alger</td>\n      <td>2/17/06</td>\n      <td>023.540.033</td>\n      <td>023.540.037</td>\n      <td>0.561.604.596</td>\n      <td>a.haicheur_1130@laciar.com</td>\n      <td>08:30:00</td>\n      <td>16:30:00</td>\n      <td>36.736708</td>\n      <td>3.048113</td>\n      <td>ALGER</td>\n      <td>16</td>\n      <td>ALGER</td>\n    </tr>\n    <tr>\n      <th>2</th>\n      <td>1140.0</td>\n      <td>A.G</td>\n      <td>BENHABILES Samira née BOUAKKAZ</td>\n      <td>Cité du 1er Novembre 1954 - Local D5</td>\n      <td>Dar El Beida</td>\n      <td>Alger</td>\n      <td>10/1/18</td>\n      <td>023.823.203</td>\n      <td>023.823.203</td>\n      <td>NaN</td>\n      <td>s.benhabiles_1140@laciar.com</td>\n      <td>08:30:00</td>\n      <td>17:30:00</td>\n      <td>36.714962</td>\n      <td>3.216395</td>\n      <td>ALGER</td>\n      <td>16</td>\n      <td>ALGER</td>\n    </tr>\n    <tr>\n      <th>3</th>\n      <td>1150.0</td>\n      <td>A.G</td>\n      <td>YADI Dalila</td>\n      <td>14, Lot Said Hamdine</td>\n      <td>Hydra</td>\n      <td>Alger</td>\n      <td>5/2/09</td>\n      <td>021.602.531</td>\n      <td>021.602.531</td>\n      <td>0.561.604.755</td>\n      <td>d.yadi_1150@laciar.com</td>\n      <td>08:30:00</td>\n      <td>16:30:00</td>\n      <td>36.737473</td>\n      <td>3.029793</td>\n      <td>ALGER</td>\n      <td>16</td>\n      <td>ALGER</td>\n    </tr>\n    <tr>\n      <th>4</th>\n      <td>1160.0</td>\n      <td>A.G</td>\n      <td>HENNI Karim</td>\n      <td>Lotissement Cadat N° 72 - Les Sources</td>\n      <td>Bir Mourad Rais</td>\n      <td>Alger</td>\n      <td>1/2/05</td>\n      <td>021.445.755</td>\n      <td>021.446.172</td>\n      <td>0.561.604.463</td>\n      <td>k.henni_1160@laciar.com</td>\n      <td>08:30:00</td>\n      <td>16:30:00</td>\n      <td>36.737117</td>\n      <td>3.056480</td>\n      <td>ALGER</td>\n      <td>16</td>\n      <td>ALGER</td>\n    </tr>\n  </tbody>\n</table>\n</div>"
     },
     "metadata": {},
     "execution_count": 7
    }
   ],
   "source": [
    "merged.head()"
   ]
  },
  {
   "cell_type": "code",
   "execution_count": 9,
   "metadata": {},
   "outputs": [
    {
     "output_type": "execute_result",
     "data": {
      "text/plain": [
       "   code_agence type                                address  \\\n",
       "0       1110.0  A.G     Cité Sonelgaz - Villa N° 02 B.P.15   \n",
       "1       1130.0  A.G              29, Route Nationale N° 01   \n",
       "2       1140.0  A.G   Cité du 1er Novembre 1954 - Local D5   \n",
       "3       1150.0  A.G                   14, Lot Said Hamdine   \n",
       "4       1160.0  A.G  Lotissement Cadat N° 72 - Les Sources   \n",
       "\n",
       "              commune startDate          tel          fax         mobile  \\\n",
       "0  Gué de Constantine   2/18/02  021.835.004  021.838.036  0.561.604.592   \n",
       "1     Bir Mourad Rais   2/17/06  023.540.033  023.540.037  0.561.604.596   \n",
       "2        Dar El Beida   10/1/18  023.823.203  023.823.203            NaN   \n",
       "3               Hydra    5/2/09  021.602.531  021.602.531  0.561.604.755   \n",
       "4     Bir Mourad Rais    1/2/05  021.445.755  021.446.172  0.561.604.463   \n",
       "\n",
       "                           mail  openHour closeHour        lat       lon  \\\n",
       "0  z.mahieddine_1110@laciar.com  08:30:00  16:30:00  36.709047  3.094730   \n",
       "1    a.haicheur_1130@laciar.com  08:30:00  16:30:00  36.736708  3.048113   \n",
       "2  s.benhabiles_1140@laciar.com  08:30:00  17:30:00  36.714962  3.216395   \n",
       "3        d.yadi_1150@laciar.com  08:30:00  16:30:00  36.737473  3.029793   \n",
       "4       k.henni_1160@laciar.com  08:30:00  16:30:00  36.737117  3.056480   \n",
       "\n",
       "   code_wil  \n",
       "0        16  \n",
       "1        16  \n",
       "2        16  \n",
       "3        16  \n",
       "4        16  "
      ],
      "text/html": "<div>\n<style scoped>\n    .dataframe tbody tr th:only-of-type {\n        vertical-align: middle;\n    }\n\n    .dataframe tbody tr th {\n        vertical-align: top;\n    }\n\n    .dataframe thead th {\n        text-align: right;\n    }\n</style>\n<table border=\"1\" class=\"dataframe\">\n  <thead>\n    <tr style=\"text-align: right;\">\n      <th></th>\n      <th>code_agence</th>\n      <th>type</th>\n      <th>address</th>\n      <th>commune</th>\n      <th>startDate</th>\n      <th>tel</th>\n      <th>fax</th>\n      <th>mobile</th>\n      <th>mail</th>\n      <th>openHour</th>\n      <th>closeHour</th>\n      <th>lat</th>\n      <th>lon</th>\n      <th>code_wil</th>\n    </tr>\n  </thead>\n  <tbody>\n    <tr>\n      <th>0</th>\n      <td>1110.0</td>\n      <td>A.G</td>\n      <td>Cité Sonelgaz - Villa N° 02 B.P.15</td>\n      <td>Gué de Constantine</td>\n      <td>2/18/02</td>\n      <td>021.835.004</td>\n      <td>021.838.036</td>\n      <td>0.561.604.592</td>\n      <td>z.mahieddine_1110@laciar.com</td>\n      <td>08:30:00</td>\n      <td>16:30:00</td>\n      <td>36.709047</td>\n      <td>3.094730</td>\n      <td>16</td>\n    </tr>\n    <tr>\n      <th>1</th>\n      <td>1130.0</td>\n      <td>A.G</td>\n      <td>29, Route Nationale N° 01</td>\n      <td>Bir Mourad Rais</td>\n      <td>2/17/06</td>\n      <td>023.540.033</td>\n      <td>023.540.037</td>\n      <td>0.561.604.596</td>\n      <td>a.haicheur_1130@laciar.com</td>\n      <td>08:30:00</td>\n      <td>16:30:00</td>\n      <td>36.736708</td>\n      <td>3.048113</td>\n      <td>16</td>\n    </tr>\n    <tr>\n      <th>2</th>\n      <td>1140.0</td>\n      <td>A.G</td>\n      <td>Cité du 1er Novembre 1954 - Local D5</td>\n      <td>Dar El Beida</td>\n      <td>10/1/18</td>\n      <td>023.823.203</td>\n      <td>023.823.203</td>\n      <td>NaN</td>\n      <td>s.benhabiles_1140@laciar.com</td>\n      <td>08:30:00</td>\n      <td>17:30:00</td>\n      <td>36.714962</td>\n      <td>3.216395</td>\n      <td>16</td>\n    </tr>\n    <tr>\n      <th>3</th>\n      <td>1150.0</td>\n      <td>A.G</td>\n      <td>14, Lot Said Hamdine</td>\n      <td>Hydra</td>\n      <td>5/2/09</td>\n      <td>021.602.531</td>\n      <td>021.602.531</td>\n      <td>0.561.604.755</td>\n      <td>d.yadi_1150@laciar.com</td>\n      <td>08:30:00</td>\n      <td>16:30:00</td>\n      <td>36.737473</td>\n      <td>3.029793</td>\n      <td>16</td>\n    </tr>\n    <tr>\n      <th>4</th>\n      <td>1160.0</td>\n      <td>A.G</td>\n      <td>Lotissement Cadat N° 72 - Les Sources</td>\n      <td>Bir Mourad Rais</td>\n      <td>1/2/05</td>\n      <td>021.445.755</td>\n      <td>021.446.172</td>\n      <td>0.561.604.463</td>\n      <td>k.henni_1160@laciar.com</td>\n      <td>08:30:00</td>\n      <td>16:30:00</td>\n      <td>36.737117</td>\n      <td>3.056480</td>\n      <td>16</td>\n    </tr>\n  </tbody>\n</table>\n</div>"
     },
     "metadata": {},
     "execution_count": 9
    }
   ],
   "source": [
    "final_df = merged.drop(columns=['manager', 'wilaya_maj', 'nom_wil', \"wilaya\"], axis=1)\n",
    "final_df.rename(columns={\"latitude\": \"lat\", \"longitude\": \"lon\"}, inplace=True)\n",
    "final_df.head()"
   ]
  },
  {
   "cell_type": "code",
   "execution_count": 10,
   "metadata": {},
   "outputs": [],
   "source": [
    "final_df.to_csv('./laciar_branches_to_check.csv', header = True)"
   ]
  }
 ]
}