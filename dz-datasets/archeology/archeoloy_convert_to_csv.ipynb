{
 "metadata": {
  "language_info": {
   "codemirror_mode": {
    "name": "ipython",
    "version": 3
   },
   "file_extension": ".py",
   "mimetype": "text/x-python",
   "name": "python",
   "nbconvert_exporter": "python",
   "pygments_lexer": "ipython3",
   "version": "3.8.5"
  },
  "orig_nbformat": 2,
  "kernelspec": {
   "name": "python3",
   "display_name": "Python 3",
   "language": "python"
  }
 },
 "nbformat": 4,
 "nbformat_minor": 2,
 "cells": [
  {
   "cell_type": "code",
   "execution_count": 48,
   "metadata": {},
   "outputs": [],
   "source": [
    "# load packages\n",
    "import pandas as pd\n",
    "import unidecode"
   ]
  },
  {
   "cell_type": "code",
   "execution_count": 49,
   "metadata": {},
   "outputs": [
    {
     "output_type": "execute_result",
     "data": {
      "text/plain": [
       "  source                                    title  \\\n",
       "0   post                Fort Turc de Tamentafoust   \n",
       "1   post  Ruines de l'ancienne cité de Tihamamine   \n",
       "2   post                       Fort de Santa-Cruz   \n",
       "3   post                   Chapelle de Santa Cruz   \n",
       "4   post                     Palais du Bey (Oran)   \n",
       "\n",
       "                                  infowindow_content content address  \\\n",
       "0  <div class=\"fc-main\"><div class=\"fc-item-title...                   \n",
       "1  <div class=\"fc-main\"><div class=\"fc-item-title...     NaN     NaN   \n",
       "2  <div class=\"fc-main\"><div class=\"fc-item-title...     NaN     NaN   \n",
       "3  <div class=\"fc-main\"><div class=\"fc-item-title...     NaN     NaN   \n",
       "4  <div class=\"fc-main\"><div class=\"fc-item-title...     NaN     NaN   \n",
       "\n",
       "                                            location    id custom_filters  \\\n",
       "0  {'lat': '36.8074742', 'lng': '3.2305329', 'red...  1597             []   \n",
       "1  {'lat': '35.9496797', 'lng': '4.549802', 'oncl...  1594            NaN   \n",
       "2  {'lat': '35.7098036', 'lng': '-0.6639907', 'on...  1586            NaN   \n",
       "3  {'lat': '35.7098407', 'lng': '-0.664087', 'onc...  1580            NaN   \n",
       "4  {'lat': '35.7053024', 'lng': '-0.6491188', 'on...  1572            NaN   \n",
       "\n",
       "   infowindow_disable                                         categories  \n",
       "0               False  [{'icon': 'http://cnra.dz/atlas/wp-content/upl...  \n",
       "1               False  [{'icon': 'http://cnra.dz/atlas/wp-content/upl...  \n",
       "2               False  [{'icon': 'http://cnra.dz/atlas/wp-content/upl...  \n",
       "3               False  [{'icon': 'http://cnra.dz/atlas/wp-content/upl...  \n",
       "4               False  [{'icon': 'http://cnra.dz/atlas/wp-content/upl...  "
      ],
      "text/html": "<div>\n<style scoped>\n    .dataframe tbody tr th:only-of-type {\n        vertical-align: middle;\n    }\n\n    .dataframe tbody tr th {\n        vertical-align: top;\n    }\n\n    .dataframe thead th {\n        text-align: right;\n    }\n</style>\n<table border=\"1\" class=\"dataframe\">\n  <thead>\n    <tr style=\"text-align: right;\">\n      <th></th>\n      <th>source</th>\n      <th>title</th>\n      <th>infowindow_content</th>\n      <th>content</th>\n      <th>address</th>\n      <th>location</th>\n      <th>id</th>\n      <th>custom_filters</th>\n      <th>infowindow_disable</th>\n      <th>categories</th>\n    </tr>\n  </thead>\n  <tbody>\n    <tr>\n      <th>0</th>\n      <td>post</td>\n      <td>Fort Turc de Tamentafoust</td>\n      <td>&lt;div class=\"fc-main\"&gt;&lt;div class=\"fc-item-title...</td>\n      <td></td>\n      <td></td>\n      <td>{'lat': '36.8074742', 'lng': '3.2305329', 'red...</td>\n      <td>1597</td>\n      <td>[]</td>\n      <td>False</td>\n      <td>[{'icon': 'http://cnra.dz/atlas/wp-content/upl...</td>\n    </tr>\n    <tr>\n      <th>1</th>\n      <td>post</td>\n      <td>Ruines de l'ancienne cité de Tihamamine</td>\n      <td>&lt;div class=\"fc-main\"&gt;&lt;div class=\"fc-item-title...</td>\n      <td>NaN</td>\n      <td>NaN</td>\n      <td>{'lat': '35.9496797', 'lng': '4.549802', 'oncl...</td>\n      <td>1594</td>\n      <td>NaN</td>\n      <td>False</td>\n      <td>[{'icon': 'http://cnra.dz/atlas/wp-content/upl...</td>\n    </tr>\n    <tr>\n      <th>2</th>\n      <td>post</td>\n      <td>Fort de Santa-Cruz</td>\n      <td>&lt;div class=\"fc-main\"&gt;&lt;div class=\"fc-item-title...</td>\n      <td>NaN</td>\n      <td>NaN</td>\n      <td>{'lat': '35.7098036', 'lng': '-0.6639907', 'on...</td>\n      <td>1586</td>\n      <td>NaN</td>\n      <td>False</td>\n      <td>[{'icon': 'http://cnra.dz/atlas/wp-content/upl...</td>\n    </tr>\n    <tr>\n      <th>3</th>\n      <td>post</td>\n      <td>Chapelle de Santa Cruz</td>\n      <td>&lt;div class=\"fc-main\"&gt;&lt;div class=\"fc-item-title...</td>\n      <td>NaN</td>\n      <td>NaN</td>\n      <td>{'lat': '35.7098407', 'lng': '-0.664087', 'onc...</td>\n      <td>1580</td>\n      <td>NaN</td>\n      <td>False</td>\n      <td>[{'icon': 'http://cnra.dz/atlas/wp-content/upl...</td>\n    </tr>\n    <tr>\n      <th>4</th>\n      <td>post</td>\n      <td>Palais du Bey (Oran)</td>\n      <td>&lt;div class=\"fc-main\"&gt;&lt;div class=\"fc-item-title...</td>\n      <td>NaN</td>\n      <td>NaN</td>\n      <td>{'lat': '35.7053024', 'lng': '-0.6491188', 'on...</td>\n      <td>1572</td>\n      <td>NaN</td>\n      <td>False</td>\n      <td>[{'icon': 'http://cnra.dz/atlas/wp-content/upl...</td>\n    </tr>\n  </tbody>\n</table>\n</div>"
     },
     "metadata": {},
     "execution_count": 49
    }
   ],
   "source": [
    "\n",
    "arch_file_name = './archeology.json'\n",
    "raw_df = pd.read_json(arch_file_name)\n",
    "raw_df.head()"
   ]
  },
  {
   "cell_type": "code",
   "execution_count": 50,
   "metadata": {},
   "outputs": [
    {
     "output_type": "execute_result",
     "data": {
      "text/plain": [
       "                                     title         lat         lon  \\\n",
       "0                Fort Turc de Tamentafoust  36.8074742   3.2305329   \n",
       "1  Ruines de l'ancienne cité de Tihamamine  35.9496797    4.549802   \n",
       "2                       Fort de Santa-Cruz  35.7098036  -0.6639907   \n",
       "3                   Chapelle de Santa Cruz  35.7098407   -0.664087   \n",
       "4                     Palais du Bey (Oran)  35.7053024  -0.6491188   \n",
       "\n",
       "                             categories  \\\n",
       "0             Alger, Monuments, Ottoman   \n",
       "1  Bordj Bou Arreridj, Médiévale, Sites   \n",
       "2            Oran, Médiévale, Monuments   \n",
       "3            Oran, Médiévale, Monuments   \n",
       "4              Oran, Monuments, Ottoman   \n",
       "\n",
       "                                           permalink  wilaya  \n",
       "0    http://cnra.dz/atlas/fort-turc-de-tamentafoust/     NaN  \n",
       "1  http://cnra.dz/atlas/ruines-de-lancienne-cite-...     NaN  \n",
       "2           http://cnra.dz/atlas/fort-de-santa-cruz/     NaN  \n",
       "3       http://cnra.dz/atlas/chapelle-de-santa-cruz/     NaN  \n",
       "4           http://cnra.dz/atlas/palais-du-bey-oran/     NaN  "
      ],
      "text/html": "<div>\n<style scoped>\n    .dataframe tbody tr th:only-of-type {\n        vertical-align: middle;\n    }\n\n    .dataframe tbody tr th {\n        vertical-align: top;\n    }\n\n    .dataframe thead th {\n        text-align: right;\n    }\n</style>\n<table border=\"1\" class=\"dataframe\">\n  <thead>\n    <tr style=\"text-align: right;\">\n      <th></th>\n      <th>title</th>\n      <th>lat</th>\n      <th>lon</th>\n      <th>categories</th>\n      <th>permalink</th>\n      <th>wilaya</th>\n    </tr>\n  </thead>\n  <tbody>\n    <tr>\n      <th>0</th>\n      <td>Fort Turc de Tamentafoust</td>\n      <td>36.8074742</td>\n      <td>3.2305329</td>\n      <td>Alger, Monuments, Ottoman</td>\n      <td>http://cnra.dz/atlas/fort-turc-de-tamentafoust/</td>\n      <td>NaN</td>\n    </tr>\n    <tr>\n      <th>1</th>\n      <td>Ruines de l'ancienne cité de Tihamamine</td>\n      <td>35.9496797</td>\n      <td>4.549802</td>\n      <td>Bordj Bou Arreridj, Médiévale, Sites</td>\n      <td>http://cnra.dz/atlas/ruines-de-lancienne-cite-...</td>\n      <td>NaN</td>\n    </tr>\n    <tr>\n      <th>2</th>\n      <td>Fort de Santa-Cruz</td>\n      <td>35.7098036</td>\n      <td>-0.6639907</td>\n      <td>Oran, Médiévale, Monuments</td>\n      <td>http://cnra.dz/atlas/fort-de-santa-cruz/</td>\n      <td>NaN</td>\n    </tr>\n    <tr>\n      <th>3</th>\n      <td>Chapelle de Santa Cruz</td>\n      <td>35.7098407</td>\n      <td>-0.664087</td>\n      <td>Oran, Médiévale, Monuments</td>\n      <td>http://cnra.dz/atlas/chapelle-de-santa-cruz/</td>\n      <td>NaN</td>\n    </tr>\n    <tr>\n      <th>4</th>\n      <td>Palais du Bey (Oran)</td>\n      <td>35.7053024</td>\n      <td>-0.6491188</td>\n      <td>Oran, Monuments, Ottoman</td>\n      <td>http://cnra.dz/atlas/palais-du-bey-oran/</td>\n      <td>NaN</td>\n    </tr>\n  </tbody>\n</table>\n</div>"
     },
     "metadata": {},
     "execution_count": 50
    }
   ],
   "source": [
    "archeology_df = raw_df[['title']]\n",
    "archeology_df = archeology_df.reindex(columns = ['title', 'lat', 'lon', 'categories', 'permalink', 'wilaya'])  \n",
    "archeology_df['lat'] = [raw_df.location[i]['lat'] for i in range(0, len(raw_df))]\n",
    "archeology_df['lon'] = [raw_df.location[i]['lng'] for i in range(0, len(raw_df))]\n",
    "archeology_df['categories'] = [raw_df.location[i]['extra_fields']['post_categories'] for i in range(0, len(raw_df))]\n",
    "archeology_df['permalink'] = [raw_df.location[i]['redirect_permalink'] for i in range(0, len(raw_df))]\n",
    "archeology_df.head()"
   ]
  },
  {
   "cell_type": "code",
   "execution_count": 51,
   "metadata": {},
   "outputs": [
    {
     "output_type": "execute_result",
     "data": {
      "text/plain": [
       "title         186\n",
       "lat           186\n",
       "lon           186\n",
       "categories    186\n",
       "permalink     186\n",
       "wilaya        186\n",
       "dtype: int64"
      ]
     },
     "metadata": {},
     "execution_count": 51
    }
   ],
   "source": [
    "# Extract wialya names \n",
    "wilayas = archeology_df['categories'].str.split(',')\n",
    "archeology_df['wilaya'] = [unidecode.unidecode(wilayas[i][0].upper()) for i in range(0, len(wilayas))]\n",
    "archeology_df.count()"
   ]
  },
  {
   "cell_type": "code",
   "execution_count": 52,
   "metadata": {},
   "outputs": [
    {
     "output_type": "execute_result",
     "data": {
      "text/plain": [
       "   code_wil         nom_wil\n",
       "0         1           ADRAR\n",
       "1         2           CHLEF\n",
       "2         3        LAGHOUAT\n",
       "3         4  OUM EL BOUAGHI\n",
       "4         5           BATNA"
      ],
      "text/html": "<div>\n<style scoped>\n    .dataframe tbody tr th:only-of-type {\n        vertical-align: middle;\n    }\n\n    .dataframe tbody tr th {\n        vertical-align: top;\n    }\n\n    .dataframe thead th {\n        text-align: right;\n    }\n</style>\n<table border=\"1\" class=\"dataframe\">\n  <thead>\n    <tr style=\"text-align: right;\">\n      <th></th>\n      <th>code_wil</th>\n      <th>nom_wil</th>\n    </tr>\n  </thead>\n  <tbody>\n    <tr>\n      <th>0</th>\n      <td>1</td>\n      <td>ADRAR</td>\n    </tr>\n    <tr>\n      <th>1</th>\n      <td>2</td>\n      <td>CHLEF</td>\n    </tr>\n    <tr>\n      <th>2</th>\n      <td>3</td>\n      <td>LAGHOUAT</td>\n    </tr>\n    <tr>\n      <th>3</th>\n      <td>4</td>\n      <td>OUM EL BOUAGHI</td>\n    </tr>\n    <tr>\n      <th>4</th>\n      <td>5</td>\n      <td>BATNA</td>\n    </tr>\n  </tbody>\n</table>\n</div>"
     },
     "metadata": {},
     "execution_count": 52
    }
   ],
   "source": [
    "# Add Wilayas codes\n",
    "# Load Wilayas Features and calculate polygon centroids\n",
    "wilayas_gjson = '../../dz-admin/wilayas_48.csv'\n",
    "wilayas_df = pd.read_csv(wilayas_gjson)\n",
    "wilayas_df = wilayas_df[['code', 'nom_maj']]\n",
    "wilayas_df = wilayas_df.rename(columns={'nom_maj': 'nom_wil', 'code': 'code_wil'})\n",
    "wilayas_df.head()"
   ]
  },
  {
   "cell_type": "code",
   "execution_count": 53,
   "metadata": {},
   "outputs": [
    {
     "output_type": "execute_result",
     "data": {
      "text/plain": [
       "title         186\n",
       "lat           186\n",
       "lon           186\n",
       "categories    186\n",
       "permalink     186\n",
       "wilaya        186\n",
       "code_wil      186\n",
       "nom_wil       186\n",
       "dtype: int64"
      ]
     },
     "metadata": {},
     "execution_count": 53
    }
   ],
   "source": [
    "# Merge with Wialyas DataFrame\n",
    "merged = archeology_df.merge(wilayas_df, left_on='wilaya', right_on='nom_wil', how='left')\n",
    "\n",
    "merged.count()"
   ]
  },
  {
   "cell_type": "code",
   "execution_count": 54,
   "metadata": {},
   "outputs": [
    {
     "output_type": "execute_result",
     "data": {
      "text/plain": [
       "                                     title         lat         lon  \\\n",
       "0                Fort Turc de Tamentafoust  36.8074742   3.2305329   \n",
       "1  Ruines de l'ancienne cité de Tihamamine  35.9496797    4.549802   \n",
       "2                       Fort de Santa-Cruz  35.7098036  -0.6639907   \n",
       "3                   Chapelle de Santa Cruz  35.7098407   -0.664087   \n",
       "4                     Palais du Bey (Oran)  35.7053024  -0.6491188   \n",
       "\n",
       "                             categories  \\\n",
       "0             Alger, Monuments, Ottoman   \n",
       "1  Bordj Bou Arreridj, Médiévale, Sites   \n",
       "2            Oran, Médiévale, Monuments   \n",
       "3            Oran, Médiévale, Monuments   \n",
       "4              Oran, Monuments, Ottoman   \n",
       "\n",
       "                                           permalink              wilaya  \\\n",
       "0    http://cnra.dz/atlas/fort-turc-de-tamentafoust/               ALGER   \n",
       "1  http://cnra.dz/atlas/ruines-de-lancienne-cite-...  BORDJ BOU ARRERIDJ   \n",
       "2           http://cnra.dz/atlas/fort-de-santa-cruz/                ORAN   \n",
       "3       http://cnra.dz/atlas/chapelle-de-santa-cruz/                ORAN   \n",
       "4           http://cnra.dz/atlas/palais-du-bey-oran/                ORAN   \n",
       "\n",
       "   code_wil             nom_wil  \n",
       "0        16               ALGER  \n",
       "1        34  BORDJ BOU ARRERIDJ  \n",
       "2        31                ORAN  \n",
       "3        31                ORAN  \n",
       "4        31                ORAN  "
      ],
      "text/html": "<div>\n<style scoped>\n    .dataframe tbody tr th:only-of-type {\n        vertical-align: middle;\n    }\n\n    .dataframe tbody tr th {\n        vertical-align: top;\n    }\n\n    .dataframe thead th {\n        text-align: right;\n    }\n</style>\n<table border=\"1\" class=\"dataframe\">\n  <thead>\n    <tr style=\"text-align: right;\">\n      <th></th>\n      <th>title</th>\n      <th>lat</th>\n      <th>lon</th>\n      <th>categories</th>\n      <th>permalink</th>\n      <th>wilaya</th>\n      <th>code_wil</th>\n      <th>nom_wil</th>\n    </tr>\n  </thead>\n  <tbody>\n    <tr>\n      <th>0</th>\n      <td>Fort Turc de Tamentafoust</td>\n      <td>36.8074742</td>\n      <td>3.2305329</td>\n      <td>Alger, Monuments, Ottoman</td>\n      <td>http://cnra.dz/atlas/fort-turc-de-tamentafoust/</td>\n      <td>ALGER</td>\n      <td>16</td>\n      <td>ALGER</td>\n    </tr>\n    <tr>\n      <th>1</th>\n      <td>Ruines de l'ancienne cité de Tihamamine</td>\n      <td>35.9496797</td>\n      <td>4.549802</td>\n      <td>Bordj Bou Arreridj, Médiévale, Sites</td>\n      <td>http://cnra.dz/atlas/ruines-de-lancienne-cite-...</td>\n      <td>BORDJ BOU ARRERIDJ</td>\n      <td>34</td>\n      <td>BORDJ BOU ARRERIDJ</td>\n    </tr>\n    <tr>\n      <th>2</th>\n      <td>Fort de Santa-Cruz</td>\n      <td>35.7098036</td>\n      <td>-0.6639907</td>\n      <td>Oran, Médiévale, Monuments</td>\n      <td>http://cnra.dz/atlas/fort-de-santa-cruz/</td>\n      <td>ORAN</td>\n      <td>31</td>\n      <td>ORAN</td>\n    </tr>\n    <tr>\n      <th>3</th>\n      <td>Chapelle de Santa Cruz</td>\n      <td>35.7098407</td>\n      <td>-0.664087</td>\n      <td>Oran, Médiévale, Monuments</td>\n      <td>http://cnra.dz/atlas/chapelle-de-santa-cruz/</td>\n      <td>ORAN</td>\n      <td>31</td>\n      <td>ORAN</td>\n    </tr>\n    <tr>\n      <th>4</th>\n      <td>Palais du Bey (Oran)</td>\n      <td>35.7053024</td>\n      <td>-0.6491188</td>\n      <td>Oran, Monuments, Ottoman</td>\n      <td>http://cnra.dz/atlas/palais-du-bey-oran/</td>\n      <td>ORAN</td>\n      <td>31</td>\n      <td>ORAN</td>\n    </tr>\n  </tbody>\n</table>\n</div>"
     },
     "metadata": {},
     "execution_count": 54
    }
   ],
   "source": [
    "merged.head()"
   ]
  },
  {
   "cell_type": "code",
   "execution_count": 55,
   "metadata": {},
   "outputs": [
    {
     "output_type": "execute_result",
     "data": {
      "text/plain": [
       "                                             title  \\\n",
       "0                                Casbah de Melouka   \n",
       "1  Secteur Sauvegardé -Vieille ville de Tamentit -   \n",
       "2     Secteur Sauvegardé -Vieille ville de Tenes -   \n",
       "3                             Musée de site  Ténès   \n",
       "4                   Musée National Public de Chlef   \n",
       "\n",
       "                    categories  \\\n",
       "0  Adrar, Médiévale, Monuments   \n",
       "1  Adrar, Secteurs Sauvegardés   \n",
       "2  Chlef, Secteurs Sauvegardés   \n",
       "3  Chlef, Musées Archéologique   \n",
       "4  Chlef, Musées Archéologique   \n",
       "\n",
       "                                           permalink  code_wil        lat  \\\n",
       "0            http://cnra.dz/atlas/casbah-de-melouka/         1  27.873400   \n",
       "1  http://cnra.dz/atlas/secteur-sauvegarde-vieill...         1  27.764986   \n",
       "2  http://cnra.dz/atlas/secteur-sauvegarde-vieill...         2  36.500613   \n",
       "3          http://cnra.dz/atlas/musee-de-site-tenes/         2  36.512286   \n",
       "4  http://cnra.dz/atlas/musee-national-public-de-...         2  36.161463   \n",
       "\n",
       "         lon  \n",
       "0  -0.343033  \n",
       "1  -0.260989  \n",
       "2   1.315999  \n",
       "3   1.304813  \n",
       "4   1.333763  "
      ],
      "text/html": "<div>\n<style scoped>\n    .dataframe tbody tr th:only-of-type {\n        vertical-align: middle;\n    }\n\n    .dataframe tbody tr th {\n        vertical-align: top;\n    }\n\n    .dataframe thead th {\n        text-align: right;\n    }\n</style>\n<table border=\"1\" class=\"dataframe\">\n  <thead>\n    <tr style=\"text-align: right;\">\n      <th></th>\n      <th>title</th>\n      <th>categories</th>\n      <th>permalink</th>\n      <th>code_wil</th>\n      <th>lat</th>\n      <th>lon</th>\n    </tr>\n  </thead>\n  <tbody>\n    <tr>\n      <th>0</th>\n      <td>Casbah de Melouka</td>\n      <td>Adrar, Médiévale, Monuments</td>\n      <td>http://cnra.dz/atlas/casbah-de-melouka/</td>\n      <td>1</td>\n      <td>27.873400</td>\n      <td>-0.343033</td>\n    </tr>\n    <tr>\n      <th>1</th>\n      <td>Secteur Sauvegardé -Vieille ville de Tamentit -</td>\n      <td>Adrar, Secteurs Sauvegardés</td>\n      <td>http://cnra.dz/atlas/secteur-sauvegarde-vieill...</td>\n      <td>1</td>\n      <td>27.764986</td>\n      <td>-0.260989</td>\n    </tr>\n    <tr>\n      <th>2</th>\n      <td>Secteur Sauvegardé -Vieille ville de Tenes -</td>\n      <td>Chlef, Secteurs Sauvegardés</td>\n      <td>http://cnra.dz/atlas/secteur-sauvegarde-vieill...</td>\n      <td>2</td>\n      <td>36.500613</td>\n      <td>1.315999</td>\n    </tr>\n    <tr>\n      <th>3</th>\n      <td>Musée de site  Ténès</td>\n      <td>Chlef, Musées Archéologique</td>\n      <td>http://cnra.dz/atlas/musee-de-site-tenes/</td>\n      <td>2</td>\n      <td>36.512286</td>\n      <td>1.304813</td>\n    </tr>\n    <tr>\n      <th>4</th>\n      <td>Musée National Public de Chlef</td>\n      <td>Chlef, Musées Archéologique</td>\n      <td>http://cnra.dz/atlas/musee-national-public-de-...</td>\n      <td>2</td>\n      <td>36.161463</td>\n      <td>1.333763</td>\n    </tr>\n  </tbody>\n</table>\n</div>"
     },
     "metadata": {},
     "execution_count": 55
    }
   ],
   "source": [
    "pois_gdf = merged[['title','categories', 'permalink', 'code_wil','lat','lon']]\n",
    "\n",
    "# Sort the DataFrame by code (Wilaya number) and reset the index\n",
    "pois_gdf = pois_gdf.sort_values(by=['code_wil'],ignore_index=True)\n",
    "pois_gdf.reset_index(drop=True)\n",
    "pois_gdf.head()"
   ]
  },
  {
   "cell_type": "code",
   "execution_count": 56,
   "metadata": {},
   "outputs": [],
   "source": [
    "pois_gdf.to_csv('./archeology_to_check.csv', header = True)"
   ]
  }
 ]
}