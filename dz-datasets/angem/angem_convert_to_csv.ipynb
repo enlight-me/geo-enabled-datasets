{
 "metadata": {
  "language_info": {
   "codemirror_mode": {
    "name": "ipython",
    "version": 3
   },
   "file_extension": ".py",
   "mimetype": "text/x-python",
   "name": "python",
   "nbconvert_exporter": "python",
   "pygments_lexer": "ipython3",
   "version": "3.8.5"
  },
  "orig_nbformat": 2,
  "kernelspec": {
   "name": "python38564bitgeowebavirtualenvwrapper7ccb0f9f77fe4be2bdba2508418cdd51",
   "display_name": "Python 3.8.5 64-bit ('geoweba': virtualenvwrapper)",
   "language": "python"
  }
 },
 "nbformat": 4,
 "nbformat_minor": 2,
 "cells": [
  {
   "cell_type": "code",
   "execution_count": 169,
   "metadata": {},
   "outputs": [],
   "source": [
    "# load packages\n",
    "from bs4 import BeautifulSoup\n",
    "import pandas as pd "
   ]
  },
  {
   "cell_type": "code",
   "execution_count": 170,
   "metadata": {},
   "outputs": [],
   "source": [
    "with open('angem_antennes.html', 'r') as f:\n",
    "    contents = f.read()\n",
    "    soup = BeautifulSoup(contents, 'lxml')"
   ]
  },
  {
   "cell_type": "code",
   "execution_count": 171,
   "metadata": {},
   "outputs": [],
   "source": [
    "trs = soup.find_all('tr')\n",
    "bsdata = [td.find_all('td') for td in trs if td.find('td') != None]\n",
    "titles = [[title.string for  title in trs[0].find_all('th')]]\n",
    "itmes = [[column.string for column in data_line] for data_line in bsdata]"
   ]
  },
  {
   "cell_type": "code",
   "execution_count": 172,
   "metadata": {},
   "outputs": [
    {
     "output_type": "execute_result",
     "data": {
      "text/plain": [
       "      ANTENNES                       WILAYAS DE RATTACHEMENT        N° TEL  \\\n",
       "0       ANNABA  Annaba, El taref, Skikda, Souk Ahras, Guelma  038 47 93 12   \n",
       "1       BISKRA            Biskra, El Oued, Khenchla, Tebessa  033 51 53 17   \n",
       "2       BEJAIA        Bejaia, Tizi Ouzou, BBA, Setif, Bouira  034 11 31 25   \n",
       "3       BECHAR       Bechar, Tindouf, Adrar,Naama, El Bayadh  049 23 83 13   \n",
       "4  CONSTANTINE        Constantine, Jijel, Mila, O E B, Batna  031 74 74 64   \n",
       "\n",
       "         N° FAX                  E-MAIL  \\\n",
       "0  038 47 93 12       arannaba@angem.dz   \n",
       "1  033 51 53 17       arbiskra@angem.dz   \n",
       "2  034 11 31 26       arbejaia@angem.dz   \n",
       "3  049 23 83 12       arbechar@angem.dz   \n",
       "4  031 74 74 60  arconstantine@angem.dz   \n",
       "\n",
       "                                            ADRESSES  \n",
       "0  Cité AADL 221 logs Bloc w24 S01 ET S02 sidi ac...  \n",
       "1  BLOC N°06 CITE 200/500(PRES DE LA MOSQUEE EL F...  \n",
       "2         BVD KRIM BELKACEM,CENTRE D'AFFAIRES BEJAIA  \n",
       "3                         Ex hôpital 600 lit Bechar   \n",
       "4  204 logements SOREM tour C2 Nouvelle Ville Ali...  "
      ],
      "text/html": "<div>\n<style scoped>\n    .dataframe tbody tr th:only-of-type {\n        vertical-align: middle;\n    }\n\n    .dataframe tbody tr th {\n        vertical-align: top;\n    }\n\n    .dataframe thead tr th {\n        text-align: left;\n    }\n</style>\n<table border=\"1\" class=\"dataframe\">\n  <thead>\n    <tr>\n      <th></th>\n      <th>ANTENNES</th>\n      <th>WILAYAS DE RATTACHEMENT</th>\n      <th>N° TEL</th>\n      <th>N° FAX</th>\n      <th>E-MAIL</th>\n      <th>ADRESSES</th>\n    </tr>\n  </thead>\n  <tbody>\n    <tr>\n      <th>0</th>\n      <td>ANNABA</td>\n      <td>Annaba, El taref, Skikda, Souk Ahras, Guelma</td>\n      <td>038 47 93 12</td>\n      <td>038 47 93 12</td>\n      <td>arannaba@angem.dz</td>\n      <td>Cité AADL 221 logs Bloc w24 S01 ET S02 sidi ac...</td>\n    </tr>\n    <tr>\n      <th>1</th>\n      <td>BISKRA</td>\n      <td>Biskra, El Oued, Khenchla, Tebessa</td>\n      <td>033 51 53 17</td>\n      <td>033 51 53 17</td>\n      <td>arbiskra@angem.dz</td>\n      <td>BLOC N°06 CITE 200/500(PRES DE LA MOSQUEE EL F...</td>\n    </tr>\n    <tr>\n      <th>2</th>\n      <td>BEJAIA</td>\n      <td>Bejaia, Tizi Ouzou, BBA, Setif, Bouira</td>\n      <td>034 11 31 25</td>\n      <td>034 11 31 26</td>\n      <td>arbejaia@angem.dz</td>\n      <td>BVD KRIM BELKACEM,CENTRE D'AFFAIRES BEJAIA</td>\n    </tr>\n    <tr>\n      <th>3</th>\n      <td>BECHAR</td>\n      <td>Bechar, Tindouf, Adrar,Naama, El Bayadh</td>\n      <td>049 23 83 13</td>\n      <td>049 23 83 12</td>\n      <td>arbechar@angem.dz</td>\n      <td>Ex hôpital 600 lit Bechar</td>\n    </tr>\n    <tr>\n      <th>4</th>\n      <td>CONSTANTINE</td>\n      <td>Constantine, Jijel, Mila, O E B, Batna</td>\n      <td>031 74 74 64</td>\n      <td>031 74 74 60</td>\n      <td>arconstantine@angem.dz</td>\n      <td>204 logements SOREM tour C2 Nouvelle Ville Ali...</td>\n    </tr>\n  </tbody>\n</table>\n</div>"
     },
     "metadata": {},
     "execution_count": 172
    }
   ],
   "source": [
    "df_antennes = pd.DataFrame(itmes)\n",
    "df_antennes.columns=titles\n",
    "df_antennes.head()"
   ]
  },
  {
   "cell_type": "code",
   "execution_count": 173,
   "metadata": {},
   "outputs": [],
   "source": [
    "with open('angem_wilaya.html', 'r') as f:\n",
    "    contents = f.read()\n",
    "    soup = BeautifulSoup(contents, 'lxml')"
   ]
  },
  {
   "cell_type": "code",
   "execution_count": 174,
   "metadata": {},
   "outputs": [],
   "source": [
    "trs = soup.find_all('tr')\n",
    "bsdata = [td.find_all('td') for td in trs if td.find('td') != None]\n",
    "titles = [[title.string for  title in trs[0].find_all('th')]]\n",
    "itmes = [[column.string for column in data_line] for data_line in bsdata]"
   ]
  },
  {
   "cell_type": "code",
   "execution_count": 175,
   "metadata": {},
   "outputs": [
    {
     "output_type": "execute_result",
     "data": {
      "text/plain": [
       "  NUMERO AGENCE DE WILAYA         N° TEL         N° FAX  \\\n",
       "0     01            ADRAR   049 96 46 74   049 96 76 19   \n",
       "1     02            CHLEF  027 79 21 58   027 79 21 59    \n",
       "2     03         LAGHOUAT  029 13 25 38   029 13 25 37    \n",
       "3     04              OEB   032 56 52 43  032 56 51 67    \n",
       "4     05            BATNA  033 25 39 78   033 25 39 79    \n",
       "\n",
       "                  E-MAIL                                      ADRESSES  \n",
       "0         adrar@angem.dz              CITE 500 VILLAS CNEP N°40, ADRAR  \n",
       "1         chlef@angem.dz             RUE DJOUBA, HAY BEN SOUNA, CHLEF   \n",
       "2      laghouat@angem.dz          AVENUE 05 JUILLET MAAMOURAH-LAGHOUAT  \n",
       "3  oumelbouaghi@angem.dz     ANCIENNNE CITE ADMINISTRATIVE BP 2002 OEB  \n",
       "4         batna@angem.dz  CITE NACER CITE ADMINISTRATIVE BLOC 02 BATNA  "
      ],
      "text/html": "<div>\n<style scoped>\n    .dataframe tbody tr th:only-of-type {\n        vertical-align: middle;\n    }\n\n    .dataframe tbody tr th {\n        vertical-align: top;\n    }\n\n    .dataframe thead tr th {\n        text-align: left;\n    }\n</style>\n<table border=\"1\" class=\"dataframe\">\n  <thead>\n    <tr>\n      <th></th>\n      <th>NUMERO</th>\n      <th>AGENCE DE WILAYA</th>\n      <th>N° TEL</th>\n      <th>N° FAX</th>\n      <th>E-MAIL</th>\n      <th>ADRESSES</th>\n    </tr>\n  </thead>\n  <tbody>\n    <tr>\n      <th>0</th>\n      <td>01</td>\n      <td>ADRAR</td>\n      <td>049 96 46 74</td>\n      <td>049 96 76 19</td>\n      <td>adrar@angem.dz</td>\n      <td>CITE 500 VILLAS CNEP N°40, ADRAR</td>\n    </tr>\n    <tr>\n      <th>1</th>\n      <td>02</td>\n      <td>CHLEF</td>\n      <td>027 79 21 58</td>\n      <td>027 79 21 59</td>\n      <td>chlef@angem.dz</td>\n      <td>RUE DJOUBA, HAY BEN SOUNA, CHLEF</td>\n    </tr>\n    <tr>\n      <th>2</th>\n      <td>03</td>\n      <td>LAGHOUAT</td>\n      <td>029 13 25 38</td>\n      <td>029 13 25 37</td>\n      <td>laghouat@angem.dz</td>\n      <td>AVENUE 05 JUILLET MAAMOURAH-LAGHOUAT</td>\n    </tr>\n    <tr>\n      <th>3</th>\n      <td>04</td>\n      <td>OEB</td>\n      <td>032 56 52 43</td>\n      <td>032 56 51 67</td>\n      <td>oumelbouaghi@angem.dz</td>\n      <td>ANCIENNNE CITE ADMINISTRATIVE BP 2002 OEB</td>\n    </tr>\n    <tr>\n      <th>4</th>\n      <td>05</td>\n      <td>BATNA</td>\n      <td>033 25 39 78</td>\n      <td>033 25 39 79</td>\n      <td>batna@angem.dz</td>\n      <td>CITE NACER CITE ADMINISTRATIVE BLOC 02 BATNA</td>\n    </tr>\n  </tbody>\n</table>\n</div>"
     },
     "metadata": {},
     "execution_count": 175
    }
   ],
   "source": [
    "df_wilayas = pd.DataFrame(itmes)\n",
    "df_wilayas.columns=titles\n",
    "df_wilayas.head()"
   ]
  },
  {
   "cell_type": "code",
   "execution_count": 176,
   "metadata": {},
   "outputs": [
    {
     "output_type": "execute_result",
     "data": {
      "text/plain": [
       "  CODE       NOM         N° TEL         N° FAX                 E-MAIL  \\\n",
       "0   01     ADRAR   049 96 46 74   049 96 76 19         adrar@angem.dz   \n",
       "1   02     CHLEF  027 79 21 58   027 79 21 59          chlef@angem.dz   \n",
       "2   03  LAGHOUAT  029 13 25 38   029 13 25 37       laghouat@angem.dz   \n",
       "3   04       OEB   032 56 52 43  032 56 51 67   oumelbouaghi@angem.dz   \n",
       "4   05     BATNA  033 25 39 78   033 25 39 79          batna@angem.dz   \n",
       "\n",
       "                                       ADRESSES WILAYAS DE RATTACHEMENT  \\\n",
       "0              CITE 500 VILLAS CNEP N°40, ADRAR                   ADRAR   \n",
       "1             RUE DJOUBA, HAY BEN SOUNA, CHLEF                    CHLEF   \n",
       "2          AVENUE 05 JUILLET MAAMOURAH-LAGHOUAT                LAGHOUAT   \n",
       "3     ANCIENNNE CITE ADMINISTRATIVE BP 2002 OEB                     OEB   \n",
       "4  CITE NACER CITE ADMINISTRATIVE BLOC 02 BATNA                   BATNA   \n",
       "\n",
       "     TYPE  \n",
       "0  Agence  \n",
       "1  Agence  \n",
       "2  Agence  \n",
       "3  Agence  \n",
       "4  Agence  "
      ],
      "text/html": "<div>\n<style scoped>\n    .dataframe tbody tr th:only-of-type {\n        vertical-align: middle;\n    }\n\n    .dataframe tbody tr th {\n        vertical-align: top;\n    }\n\n    .dataframe thead tr th {\n        text-align: left;\n    }\n</style>\n<table border=\"1\" class=\"dataframe\">\n  <thead>\n    <tr>\n      <th></th>\n      <th>CODE</th>\n      <th>NOM</th>\n      <th>N° TEL</th>\n      <th>N° FAX</th>\n      <th>E-MAIL</th>\n      <th>ADRESSES</th>\n      <th>WILAYAS DE RATTACHEMENT</th>\n      <th>TYPE</th>\n    </tr>\n  </thead>\n  <tbody>\n    <tr>\n      <th>0</th>\n      <td>01</td>\n      <td>ADRAR</td>\n      <td>049 96 46 74</td>\n      <td>049 96 76 19</td>\n      <td>adrar@angem.dz</td>\n      <td>CITE 500 VILLAS CNEP N°40, ADRAR</td>\n      <td>ADRAR</td>\n      <td>Agence</td>\n    </tr>\n    <tr>\n      <th>1</th>\n      <td>02</td>\n      <td>CHLEF</td>\n      <td>027 79 21 58</td>\n      <td>027 79 21 59</td>\n      <td>chlef@angem.dz</td>\n      <td>RUE DJOUBA, HAY BEN SOUNA, CHLEF</td>\n      <td>CHLEF</td>\n      <td>Agence</td>\n    </tr>\n    <tr>\n      <th>2</th>\n      <td>03</td>\n      <td>LAGHOUAT</td>\n      <td>029 13 25 38</td>\n      <td>029 13 25 37</td>\n      <td>laghouat@angem.dz</td>\n      <td>AVENUE 05 JUILLET MAAMOURAH-LAGHOUAT</td>\n      <td>LAGHOUAT</td>\n      <td>Agence</td>\n    </tr>\n    <tr>\n      <th>3</th>\n      <td>04</td>\n      <td>OEB</td>\n      <td>032 56 52 43</td>\n      <td>032 56 51 67</td>\n      <td>oumelbouaghi@angem.dz</td>\n      <td>ANCIENNNE CITE ADMINISTRATIVE BP 2002 OEB</td>\n      <td>OEB</td>\n      <td>Agence</td>\n    </tr>\n    <tr>\n      <th>4</th>\n      <td>05</td>\n      <td>BATNA</td>\n      <td>033 25 39 78</td>\n      <td>033 25 39 79</td>\n      <td>batna@angem.dz</td>\n      <td>CITE NACER CITE ADMINISTRATIVE BLOC 02 BATNA</td>\n      <td>BATNA</td>\n      <td>Agence</td>\n    </tr>\n  </tbody>\n</table>\n</div>"
     },
     "metadata": {},
     "execution_count": 176
    }
   ],
   "source": [
    "df_wilayas[\"WILAYAS DE RATTACHEMENT\"] = df_wilayas[\"AGENCE DE WILAYA\"]\n",
    "df_wilayas[\"TYPE\"] = 'Agence'\n",
    "df_wilayas.rename(columns={\"AGENCE DE WILAYA\": \"NOM\", 'NUMERO' : 'CODE'}, inplace=True)\n",
    "df_wilayas.head()"
   ]
  },
  {
   "cell_type": "code",
   "execution_count": 177,
   "metadata": {},
   "outputs": [
    {
     "output_type": "execute_result",
     "data": {
      "text/plain": [
       "           NOM                       WILAYAS DE RATTACHEMENT        N° TEL  \\\n",
       "0       ANNABA  Annaba, El taref, Skikda, Souk Ahras, Guelma  038 47 93 12   \n",
       "1       BISKRA            Biskra, El Oued, Khenchla, Tebessa  033 51 53 17   \n",
       "2       BEJAIA        Bejaia, Tizi Ouzou, BBA, Setif, Bouira  034 11 31 25   \n",
       "3       BECHAR       Bechar, Tindouf, Adrar,Naama, El Bayadh  049 23 83 13   \n",
       "4  CONSTANTINE        Constantine, Jijel, Mila, O E B, Batna  031 74 74 64   \n",
       "\n",
       "         N° FAX                  E-MAIL  \\\n",
       "0  038 47 93 12       arannaba@angem.dz   \n",
       "1  033 51 53 17       arbiskra@angem.dz   \n",
       "2  034 11 31 26       arbejaia@angem.dz   \n",
       "3  049 23 83 12       arbechar@angem.dz   \n",
       "4  031 74 74 60  arconstantine@angem.dz   \n",
       "\n",
       "                                            ADRESSES     TYPE CODE  \n",
       "0  Cité AADL 221 logs Bloc w24 S01 ET S02 sidi ac...  Antenne    0  \n",
       "1  BLOC N°06 CITE 200/500(PRES DE LA MOSQUEE EL F...  Antenne    0  \n",
       "2         BVD KRIM BELKACEM,CENTRE D'AFFAIRES BEJAIA  Antenne    0  \n",
       "3                         Ex hôpital 600 lit Bechar   Antenne    0  \n",
       "4  204 logements SOREM tour C2 Nouvelle Ville Ali...  Antenne    0  "
      ],
      "text/html": "<div>\n<style scoped>\n    .dataframe tbody tr th:only-of-type {\n        vertical-align: middle;\n    }\n\n    .dataframe tbody tr th {\n        vertical-align: top;\n    }\n\n    .dataframe thead tr th {\n        text-align: left;\n    }\n</style>\n<table border=\"1\" class=\"dataframe\">\n  <thead>\n    <tr>\n      <th></th>\n      <th>NOM</th>\n      <th>WILAYAS DE RATTACHEMENT</th>\n      <th>N° TEL</th>\n      <th>N° FAX</th>\n      <th>E-MAIL</th>\n      <th>ADRESSES</th>\n      <th>TYPE</th>\n      <th>CODE</th>\n    </tr>\n  </thead>\n  <tbody>\n    <tr>\n      <th>0</th>\n      <td>ANNABA</td>\n      <td>Annaba, El taref, Skikda, Souk Ahras, Guelma</td>\n      <td>038 47 93 12</td>\n      <td>038 47 93 12</td>\n      <td>arannaba@angem.dz</td>\n      <td>Cité AADL 221 logs Bloc w24 S01 ET S02 sidi ac...</td>\n      <td>Antenne</td>\n      <td>0</td>\n    </tr>\n    <tr>\n      <th>1</th>\n      <td>BISKRA</td>\n      <td>Biskra, El Oued, Khenchla, Tebessa</td>\n      <td>033 51 53 17</td>\n      <td>033 51 53 17</td>\n      <td>arbiskra@angem.dz</td>\n      <td>BLOC N°06 CITE 200/500(PRES DE LA MOSQUEE EL F...</td>\n      <td>Antenne</td>\n      <td>0</td>\n    </tr>\n    <tr>\n      <th>2</th>\n      <td>BEJAIA</td>\n      <td>Bejaia, Tizi Ouzou, BBA, Setif, Bouira</td>\n      <td>034 11 31 25</td>\n      <td>034 11 31 26</td>\n      <td>arbejaia@angem.dz</td>\n      <td>BVD KRIM BELKACEM,CENTRE D'AFFAIRES BEJAIA</td>\n      <td>Antenne</td>\n      <td>0</td>\n    </tr>\n    <tr>\n      <th>3</th>\n      <td>BECHAR</td>\n      <td>Bechar, Tindouf, Adrar,Naama, El Bayadh</td>\n      <td>049 23 83 13</td>\n      <td>049 23 83 12</td>\n      <td>arbechar@angem.dz</td>\n      <td>Ex hôpital 600 lit Bechar</td>\n      <td>Antenne</td>\n      <td>0</td>\n    </tr>\n    <tr>\n      <th>4</th>\n      <td>CONSTANTINE</td>\n      <td>Constantine, Jijel, Mila, O E B, Batna</td>\n      <td>031 74 74 64</td>\n      <td>031 74 74 60</td>\n      <td>arconstantine@angem.dz</td>\n      <td>204 logements SOREM tour C2 Nouvelle Ville Ali...</td>\n      <td>Antenne</td>\n      <td>0</td>\n    </tr>\n  </tbody>\n</table>\n</div>"
     },
     "metadata": {},
     "execution_count": 177
    }
   ],
   "source": [
    "df_antennes[\"TYPE\"] = 'Antenne'\n",
    "df_antennes['CODE'] = '0'\n",
    "df_antennes.rename(columns={\"ANTENNES\": \"NOM\"}, inplace=True)\n",
    "df_antennes.head()"
   ]
  },
  {
   "cell_type": "code",
   "execution_count": 186,
   "metadata": {},
   "outputs": [
    {
     "output_type": "execute_result",
     "data": {
      "text/plain": [
       "  CODE          NOM     TYPE  \\\n",
       "0    0       ANNABA  Antenne   \n",
       "1    0       BISKRA  Antenne   \n",
       "2    0       BEJAIA  Antenne   \n",
       "3    0       BECHAR  Antenne   \n",
       "4    0  CONSTANTINE  Antenne   \n",
       "\n",
       "                                            ADRESSES                  E-MAIL  \\\n",
       "0  Cité AADL 221 logs Bloc w24 S01 ET S02 sidi ac...       arannaba@angem.dz   \n",
       "1  BLOC N°06 CITE 200/500(PRES DE LA MOSQUEE EL F...       arbiskra@angem.dz   \n",
       "2         BVD KRIM BELKACEM,CENTRE D'AFFAIRES BEJAIA       arbejaia@angem.dz   \n",
       "3                         Ex hôpital 600 lit Bechar        arbechar@angem.dz   \n",
       "4  204 logements SOREM tour C2 Nouvelle Ville Ali...  arconstantine@angem.dz   \n",
       "\n",
       "         N° FAX        N° TEL                       WILAYAS DE RATTACHEMENT  \n",
       "0  038 47 93 12  038 47 93 12  Annaba, El taref, Skikda, Souk Ahras, Guelma  \n",
       "1  033 51 53 17  033 51 53 17            Biskra, El Oued, Khenchla, Tebessa  \n",
       "2  034 11 31 26  034 11 31 25        Bejaia, Tizi Ouzou, BBA, Setif, Bouira  \n",
       "3  049 23 83 12  049 23 83 13       Bechar, Tindouf, Adrar,Naama, El Bayadh  \n",
       "4  031 74 74 60  031 74 74 64        Constantine, Jijel, Mila, O E B, Batna  "
      ],
      "text/html": "<div>\n<style scoped>\n    .dataframe tbody tr th:only-of-type {\n        vertical-align: middle;\n    }\n\n    .dataframe tbody tr th {\n        vertical-align: top;\n    }\n\n    .dataframe thead tr th {\n        text-align: left;\n    }\n</style>\n<table border=\"1\" class=\"dataframe\">\n  <thead>\n    <tr>\n      <th></th>\n      <th>CODE</th>\n      <th>NOM</th>\n      <th>TYPE</th>\n      <th>ADRESSES</th>\n      <th>E-MAIL</th>\n      <th>N° FAX</th>\n      <th>N° TEL</th>\n      <th>WILAYAS DE RATTACHEMENT</th>\n    </tr>\n  </thead>\n  <tbody>\n    <tr>\n      <th>0</th>\n      <td>0</td>\n      <td>ANNABA</td>\n      <td>Antenne</td>\n      <td>Cité AADL 221 logs Bloc w24 S01 ET S02 sidi ac...</td>\n      <td>arannaba@angem.dz</td>\n      <td>038 47 93 12</td>\n      <td>038 47 93 12</td>\n      <td>Annaba, El taref, Skikda, Souk Ahras, Guelma</td>\n    </tr>\n    <tr>\n      <th>1</th>\n      <td>0</td>\n      <td>BISKRA</td>\n      <td>Antenne</td>\n      <td>BLOC N°06 CITE 200/500(PRES DE LA MOSQUEE EL F...</td>\n      <td>arbiskra@angem.dz</td>\n      <td>033 51 53 17</td>\n      <td>033 51 53 17</td>\n      <td>Biskra, El Oued, Khenchla, Tebessa</td>\n    </tr>\n    <tr>\n      <th>2</th>\n      <td>0</td>\n      <td>BEJAIA</td>\n      <td>Antenne</td>\n      <td>BVD KRIM BELKACEM,CENTRE D'AFFAIRES BEJAIA</td>\n      <td>arbejaia@angem.dz</td>\n      <td>034 11 31 26</td>\n      <td>034 11 31 25</td>\n      <td>Bejaia, Tizi Ouzou, BBA, Setif, Bouira</td>\n    </tr>\n    <tr>\n      <th>3</th>\n      <td>0</td>\n      <td>BECHAR</td>\n      <td>Antenne</td>\n      <td>Ex hôpital 600 lit Bechar</td>\n      <td>arbechar@angem.dz</td>\n      <td>049 23 83 12</td>\n      <td>049 23 83 13</td>\n      <td>Bechar, Tindouf, Adrar,Naama, El Bayadh</td>\n    </tr>\n    <tr>\n      <th>4</th>\n      <td>0</td>\n      <td>CONSTANTINE</td>\n      <td>Antenne</td>\n      <td>204 logements SOREM tour C2 Nouvelle Ville Ali...</td>\n      <td>arconstantine@angem.dz</td>\n      <td>031 74 74 60</td>\n      <td>031 74 74 64</td>\n      <td>Constantine, Jijel, Mila, O E B, Batna</td>\n    </tr>\n  </tbody>\n</table>\n</div>"
     },
     "metadata": {},
     "execution_count": 186
    }
   ],
   "source": [
    "df =  pd.concat([df_antennes, df_wilayas])\n",
    "col = df_angem.pop(\"CODE\")\n",
    "df_angem.insert(0, 'CODE', col)\n",
    "col = df_angem.pop(\"NOM\")\n",
    "df_angem.insert(1, 'NOM', col)\n",
    "col = df_angem.pop(\"TYPE\")\n",
    "df_angem.insert(2, 'TYPE', col)\n",
    "df_angem.head()"
   ]
  },
  {
   "cell_type": "code",
   "execution_count": 187,
   "metadata": {},
   "outputs": [],
   "source": [
    "df_angem_final = df_angem.rename(columns=str.lower)\n",
    "  #df_angem_final.to_csv('angem_branches_nocoords.csv', index = False, header = True)"
   ]
  }
 ]
}