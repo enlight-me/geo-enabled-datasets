{
 "metadata": {
  "language_info": {
   "codemirror_mode": {
    "name": "ipython",
    "version": 3
   },
   "file_extension": ".py",
   "mimetype": "text/x-python",
   "name": "python",
   "nbconvert_exporter": "python",
   "pygments_lexer": "ipython3",
   "version": "3.8.5"
  },
  "orig_nbformat": 2,
  "kernelspec": {
   "name": "python38564bitc5dda015dcc140dba795e9b0465f9f9d",
   "display_name": "Python 3.8.5 64-bit",
   "language": "python"
  }
 },
 "nbformat": 4,
 "nbformat_minor": 2,
 "cells": [
  {
   "cell_type": "code",
   "execution_count": 516,
   "metadata": {},
   "outputs": [],
   "source": [
    "import pandas as pd \n",
    "import geopandas as gpd \n",
    "from shapely.geometry import Point\n",
    "import numpy as np "
   ]
  },
  {
   "cell_type": "code",
   "execution_count": 517,
   "metadata": {},
   "outputs": [
    {
     "output_type": "execute_result",
     "data": {
      "text/plain": [
       "           WILAYA  code_wil  \\\n",
       "0           CHLEF         2   \n",
       "1        LAGHOUAT         3   \n",
       "2  OUM EL BOUAGHI         4   \n",
       "3           BATNA         5   \n",
       "4          BEJAIA         6   \n",
       "\n",
       "                                            geometry                  centroid  \n",
       "0  POLYGON ((1.55326 36.02990, 1.55325 36.02988, ...  POINT (1.25669 36.23826)  \n",
       "1  POLYGON ((2.88464 32.88137, 2.87848 32.87936, ...  POINT (2.72955 33.60757)  \n",
       "2  POLYGON ((7.47320 35.52005, 7.47227 35.52063, ...  POINT (7.06527 35.83646)  \n",
       "3  POLYGON ((6.10102 35.05459, 6.10090 35.05447, ...  POINT (5.87455 35.41969)  \n",
       "4  MULTIPOLYGON (((4.39109 36.24618, 4.39083 36.2...  POINT (4.83635 36.57705)  "
      ],
      "text/html": "<div>\n<style scoped>\n    .dataframe tbody tr th:only-of-type {\n        vertical-align: middle;\n    }\n\n    .dataframe tbody tr th {\n        vertical-align: top;\n    }\n\n    .dataframe thead th {\n        text-align: right;\n    }\n</style>\n<table border=\"1\" class=\"dataframe\">\n  <thead>\n    <tr style=\"text-align: right;\">\n      <th></th>\n      <th>WILAYA</th>\n      <th>code_wil</th>\n      <th>geometry</th>\n      <th>centroid</th>\n    </tr>\n  </thead>\n  <tbody>\n    <tr>\n      <th>0</th>\n      <td>CHLEF</td>\n      <td>2</td>\n      <td>POLYGON ((1.55326 36.02990, 1.55325 36.02988, ...</td>\n      <td>POINT (1.25669 36.23826)</td>\n    </tr>\n    <tr>\n      <th>1</th>\n      <td>LAGHOUAT</td>\n      <td>3</td>\n      <td>POLYGON ((2.88464 32.88137, 2.87848 32.87936, ...</td>\n      <td>POINT (2.72955 33.60757)</td>\n    </tr>\n    <tr>\n      <th>2</th>\n      <td>OUM EL BOUAGHI</td>\n      <td>4</td>\n      <td>POLYGON ((7.47320 35.52005, 7.47227 35.52063, ...</td>\n      <td>POINT (7.06527 35.83646)</td>\n    </tr>\n    <tr>\n      <th>3</th>\n      <td>BATNA</td>\n      <td>5</td>\n      <td>POLYGON ((6.10102 35.05459, 6.10090 35.05447, ...</td>\n      <td>POINT (5.87455 35.41969)</td>\n    </tr>\n    <tr>\n      <th>4</th>\n      <td>BEJAIA</td>\n      <td>6</td>\n      <td>MULTIPOLYGON (((4.39109 36.24618, 4.39083 36.2...</td>\n      <td>POINT (4.83635 36.57705)</td>\n    </tr>\n  </tbody>\n</table>\n</div>"
     },
     "metadata": {},
     "execution_count": 517
    }
   ],
   "source": [
    "# Load Wilayas Features and calculate polygon centroids\n",
    "wilayas_shp = '/home/ali/GeoData/LimAdmin/wilayas.shp'\n",
    "wilayas_gdf = gpd.read_file(wilayas_shp)\n",
    "wilayas_gdf.rename(columns={\"CODE\": \"code_wil\"}, inplace=True)\n",
    "wilayas_gdf['centroid'] = wilayas_gdf['geometry'].centroid\n",
    "wilayas_gdf.head()"
   ]
  },
  {
   "cell_type": "code",
   "execution_count": 518,
   "metadata": {},
   "outputs": [
    {
     "output_type": "execute_result",
     "data": {
      "text/plain": [
       "   code          nom     type  \\\n",
       "0    23       ANNABA  Antenne   \n",
       "1     7       BISKRA  Antenne   \n",
       "2     6       BEJAIA  Antenne   \n",
       "3     8       BECHAR  Antenne   \n",
       "4    25  CONSTANTINE  Antenne   \n",
       "\n",
       "                                            adresses                  e-mail  \\\n",
       "0  Cité AADL 221 logs Bloc w24 S01 ET S02 sidi ac...       arannaba@angem.dz   \n",
       "1  BLOC N°06 CITE 200/500(PRES DE LA MOSQUEE EL F...       arbiskra@angem.dz   \n",
       "2         BVD KRIM BELKACEM,CENTRE D'AFFAIRES BEJAIA       arbejaia@angem.dz   \n",
       "3                          Ex hôpital 600 lit Bechar       arbechar@angem.dz   \n",
       "4  204 logements SOREM tour C2 Nouvelle Ville Ali...  arconstantine@angem.dz   \n",
       "\n",
       "            fax           tel                       wilayas de rattachement  \\\n",
       "0  038 47 93 12  038 47 93 12  Annaba, El taref, Skikda, Souk Ahras, Guelma   \n",
       "1  033 51 53 17  033 51 53 17            Biskra, El Oued, Khenchla, Tebessa   \n",
       "2  034 11 31 26  034 11 31 25        Bejaia, Tizi Ouzou, BBA, Setif, Bouira   \n",
       "3  049 23 83 12  049 23 83 13       Bechar, Tindouf, Adrar,Naama, El Bayadh   \n",
       "4  031 74 74 60  031 74 74 64        Constantine, Jijel, Mila, O E B, Batna   \n",
       "\n",
       "         lat        lon  to_check  \n",
       "0  36.878511   7.714610     False  \n",
       "1  37.172745  10.033169     False  \n",
       "2  36.744744   5.047844     False  \n",
       "3  31.623810  -2.216244     False  \n",
       "4  36.257037   6.583138     False  "
      ],
      "text/html": "<div>\n<style scoped>\n    .dataframe tbody tr th:only-of-type {\n        vertical-align: middle;\n    }\n\n    .dataframe tbody tr th {\n        vertical-align: top;\n    }\n\n    .dataframe thead th {\n        text-align: right;\n    }\n</style>\n<table border=\"1\" class=\"dataframe\">\n  <thead>\n    <tr style=\"text-align: right;\">\n      <th></th>\n      <th>code</th>\n      <th>nom</th>\n      <th>type</th>\n      <th>adresses</th>\n      <th>e-mail</th>\n      <th>fax</th>\n      <th>tel</th>\n      <th>wilayas de rattachement</th>\n      <th>lat</th>\n      <th>lon</th>\n      <th>to_check</th>\n    </tr>\n  </thead>\n  <tbody>\n    <tr>\n      <th>0</th>\n      <td>23</td>\n      <td>ANNABA</td>\n      <td>Antenne</td>\n      <td>Cité AADL 221 logs Bloc w24 S01 ET S02 sidi ac...</td>\n      <td>arannaba@angem.dz</td>\n      <td>038 47 93 12</td>\n      <td>038 47 93 12</td>\n      <td>Annaba, El taref, Skikda, Souk Ahras, Guelma</td>\n      <td>36.878511</td>\n      <td>7.714610</td>\n      <td>False</td>\n    </tr>\n    <tr>\n      <th>1</th>\n      <td>7</td>\n      <td>BISKRA</td>\n      <td>Antenne</td>\n      <td>BLOC N°06 CITE 200/500(PRES DE LA MOSQUEE EL F...</td>\n      <td>arbiskra@angem.dz</td>\n      <td>033 51 53 17</td>\n      <td>033 51 53 17</td>\n      <td>Biskra, El Oued, Khenchla, Tebessa</td>\n      <td>37.172745</td>\n      <td>10.033169</td>\n      <td>False</td>\n    </tr>\n    <tr>\n      <th>2</th>\n      <td>6</td>\n      <td>BEJAIA</td>\n      <td>Antenne</td>\n      <td>BVD KRIM BELKACEM,CENTRE D'AFFAIRES BEJAIA</td>\n      <td>arbejaia@angem.dz</td>\n      <td>034 11 31 26</td>\n      <td>034 11 31 25</td>\n      <td>Bejaia, Tizi Ouzou, BBA, Setif, Bouira</td>\n      <td>36.744744</td>\n      <td>5.047844</td>\n      <td>False</td>\n    </tr>\n    <tr>\n      <th>3</th>\n      <td>8</td>\n      <td>BECHAR</td>\n      <td>Antenne</td>\n      <td>Ex hôpital 600 lit Bechar</td>\n      <td>arbechar@angem.dz</td>\n      <td>049 23 83 12</td>\n      <td>049 23 83 13</td>\n      <td>Bechar, Tindouf, Adrar,Naama, El Bayadh</td>\n      <td>31.623810</td>\n      <td>-2.216244</td>\n      <td>False</td>\n    </tr>\n    <tr>\n      <th>4</th>\n      <td>25</td>\n      <td>CONSTANTINE</td>\n      <td>Antenne</td>\n      <td>204 logements SOREM tour C2 Nouvelle Ville Ali...</td>\n      <td>arconstantine@angem.dz</td>\n      <td>031 74 74 60</td>\n      <td>031 74 74 64</td>\n      <td>Constantine, Jijel, Mila, O E B, Batna</td>\n      <td>36.257037</td>\n      <td>6.583138</td>\n      <td>False</td>\n    </tr>\n  </tbody>\n</table>\n</div>"
     },
     "metadata": {},
     "execution_count": 518
    }
   ],
   "source": [
    "# Load Tagreted dataset and set to_check to False assuming all geocoded coordinates are OK \n",
    "angem_branches = pd.read_csv('./angem_branches.csv')\n",
    "angem_branches['to_check'] = False\n",
    "angem_branches.head()"
   ]
  },
  {
   "cell_type": "code",
   "execution_count": 519,
   "metadata": {},
   "outputs": [
    {
     "output_type": "execute_result",
     "data": {
      "text/plain": [
       "   code          nom     type  \\\n",
       "0    23       ANNABA  Antenne   \n",
       "1     7       BISKRA  Antenne   \n",
       "2     6       BEJAIA  Antenne   \n",
       "3     8       BECHAR  Antenne   \n",
       "4    25  CONSTANTINE  Antenne   \n",
       "\n",
       "                                            adresses                  e-mail  \\\n",
       "0  Cité AADL 221 logs Bloc w24 S01 ET S02 sidi ac...       arannaba@angem.dz   \n",
       "1  BLOC N°06 CITE 200/500(PRES DE LA MOSQUEE EL F...       arbiskra@angem.dz   \n",
       "2         BVD KRIM BELKACEM,CENTRE D'AFFAIRES BEJAIA       arbejaia@angem.dz   \n",
       "3                          Ex hôpital 600 lit Bechar       arbechar@angem.dz   \n",
       "4  204 logements SOREM tour C2 Nouvelle Ville Ali...  arconstantine@angem.dz   \n",
       "\n",
       "            fax           tel                       wilayas de rattachement  \\\n",
       "0  038 47 93 12  038 47 93 12  Annaba, El taref, Skikda, Souk Ahras, Guelma   \n",
       "1  033 51 53 17  033 51 53 17            Biskra, El Oued, Khenchla, Tebessa   \n",
       "2  034 11 31 26  034 11 31 25        Bejaia, Tizi Ouzou, BBA, Setif, Bouira   \n",
       "3  049 23 83 12  049 23 83 13       Bechar, Tindouf, Adrar,Naama, El Bayadh   \n",
       "4  031 74 74 60  031 74 74 64        Constantine, Jijel, Mila, O E B, Batna   \n",
       "\n",
       "         lat        lon  to_check                   geometry  \n",
       "0  36.878511   7.714610     False   POINT (7.71461 36.87851)  \n",
       "1  37.172745  10.033169     False  POINT (10.03317 37.17275)  \n",
       "2  36.744744   5.047844     False   POINT (5.04784 36.74474)  \n",
       "3  31.623810  -2.216244     False  POINT (-2.21624 31.62381)  \n",
       "4  36.257037   6.583138     False   POINT (6.58314 36.25704)  "
      ],
      "text/html": "<div>\n<style scoped>\n    .dataframe tbody tr th:only-of-type {\n        vertical-align: middle;\n    }\n\n    .dataframe tbody tr th {\n        vertical-align: top;\n    }\n\n    .dataframe thead th {\n        text-align: right;\n    }\n</style>\n<table border=\"1\" class=\"dataframe\">\n  <thead>\n    <tr style=\"text-align: right;\">\n      <th></th>\n      <th>code</th>\n      <th>nom</th>\n      <th>type</th>\n      <th>adresses</th>\n      <th>e-mail</th>\n      <th>fax</th>\n      <th>tel</th>\n      <th>wilayas de rattachement</th>\n      <th>lat</th>\n      <th>lon</th>\n      <th>to_check</th>\n      <th>geometry</th>\n    </tr>\n  </thead>\n  <tbody>\n    <tr>\n      <th>0</th>\n      <td>23</td>\n      <td>ANNABA</td>\n      <td>Antenne</td>\n      <td>Cité AADL 221 logs Bloc w24 S01 ET S02 sidi ac...</td>\n      <td>arannaba@angem.dz</td>\n      <td>038 47 93 12</td>\n      <td>038 47 93 12</td>\n      <td>Annaba, El taref, Skikda, Souk Ahras, Guelma</td>\n      <td>36.878511</td>\n      <td>7.714610</td>\n      <td>False</td>\n      <td>POINT (7.71461 36.87851)</td>\n    </tr>\n    <tr>\n      <th>1</th>\n      <td>7</td>\n      <td>BISKRA</td>\n      <td>Antenne</td>\n      <td>BLOC N°06 CITE 200/500(PRES DE LA MOSQUEE EL F...</td>\n      <td>arbiskra@angem.dz</td>\n      <td>033 51 53 17</td>\n      <td>033 51 53 17</td>\n      <td>Biskra, El Oued, Khenchla, Tebessa</td>\n      <td>37.172745</td>\n      <td>10.033169</td>\n      <td>False</td>\n      <td>POINT (10.03317 37.17275)</td>\n    </tr>\n    <tr>\n      <th>2</th>\n      <td>6</td>\n      <td>BEJAIA</td>\n      <td>Antenne</td>\n      <td>BVD KRIM BELKACEM,CENTRE D'AFFAIRES BEJAIA</td>\n      <td>arbejaia@angem.dz</td>\n      <td>034 11 31 26</td>\n      <td>034 11 31 25</td>\n      <td>Bejaia, Tizi Ouzou, BBA, Setif, Bouira</td>\n      <td>36.744744</td>\n      <td>5.047844</td>\n      <td>False</td>\n      <td>POINT (5.04784 36.74474)</td>\n    </tr>\n    <tr>\n      <th>3</th>\n      <td>8</td>\n      <td>BECHAR</td>\n      <td>Antenne</td>\n      <td>Ex hôpital 600 lit Bechar</td>\n      <td>arbechar@angem.dz</td>\n      <td>049 23 83 12</td>\n      <td>049 23 83 13</td>\n      <td>Bechar, Tindouf, Adrar,Naama, El Bayadh</td>\n      <td>31.623810</td>\n      <td>-2.216244</td>\n      <td>False</td>\n      <td>POINT (-2.21624 31.62381)</td>\n    </tr>\n    <tr>\n      <th>4</th>\n      <td>25</td>\n      <td>CONSTANTINE</td>\n      <td>Antenne</td>\n      <td>204 logements SOREM tour C2 Nouvelle Ville Ali...</td>\n      <td>arconstantine@angem.dz</td>\n      <td>031 74 74 60</td>\n      <td>031 74 74 64</td>\n      <td>Constantine, Jijel, Mila, O E B, Batna</td>\n      <td>36.257037</td>\n      <td>6.583138</td>\n      <td>False</td>\n      <td>POINT (6.58314 36.25704)</td>\n    </tr>\n  </tbody>\n</table>\n</div>"
     },
     "metadata": {},
     "execution_count": 519
    }
   ],
   "source": [
    "# Convert pandas DataFrame to GeoPandas \n",
    "angem_branches['geometry'] = angem_branches.apply(lambda row: Point(row.lon, row.lat), axis=1)\n",
    "angem_gdf  = gpd.GeoDataFrame(angem_branches)\n",
    "angem_gdf.head()"
   ]
  },
  {
   "cell_type": "code",
   "execution_count": 520,
   "metadata": {},
   "outputs": [
    {
     "output_type": "execute_result",
     "data": {
      "text/plain": [
       "<Geographic 2D CRS: EPSG:4326>\n",
       "Name: WGS 84\n",
       "Axis Info [ellipsoidal]:\n",
       "- Lat[north]: Geodetic latitude (degree)\n",
       "- Lon[east]: Geodetic longitude (degree)\n",
       "Area of Use:\n",
       "- name: World\n",
       "- bounds: (-180.0, -90.0, 180.0, 90.0)\n",
       "Datum: World Geodetic System 1984\n",
       "- Ellipsoid: WGS 84\n",
       "- Prime Meridian: Greenwich"
      ]
     },
     "metadata": {},
     "execution_count": 520
    }
   ],
   "source": [
    "# Set the Coordinate reference system\n",
    "angem_gdf = angem_gdf.set_crs(\"EPSG:4326\")\n",
    "wilayas_gdf = wilayas_gdf.set_crs(\"EPSG:4326\")\n",
    "angem_gdf.crs"
   ]
  },
  {
   "cell_type": "code",
   "execution_count": 521,
   "metadata": {},
   "outputs": [
    {
     "output_type": "execute_result",
     "data": {
      "text/plain": [
       "   code      nom    type                                      adresses  \\\n",
       "0     5    BATNA  Agence  CITE NACER CITE ADMINISTRATIVE BLOC 02 BATNA   \n",
       "1    20    SAIDA  Agence    BOULVARD FRANZ FANON EX MOHAFADAT DE SAIDA   \n",
       "2    29  MASCARA  Agence                  RUE CHEMMOUM MOKHTAR MASCARA   \n",
       "3    45    NAAMA  Agence   CITE ADMINISTRATIVE 50 BUREAUX BT 146 NAAMA   \n",
       "\n",
       "             e-mail           fax           tel wilayas de rattachement  lat  \\\n",
       "0    batna@angem.dz  033 25 39 79  033 25 39 78                   BATNA  NaN   \n",
       "1    saida@angem.dz  048 41 02 53  048 41 00 94                   SAIDA  NaN   \n",
       "2  mascara@angem.dz  045 71 89 98  045 71 89 36                 MASCARA  NaN   \n",
       "3    naama@angem.dz  049 59 50 09  049 59 56 63                   NAAMA  NaN   \n",
       "\n",
       "   lon  to_check   WILAYA  code_wil  \\\n",
       "0  NaN      True    BATNA         5   \n",
       "1  NaN      True    SAIDA        20   \n",
       "2  NaN      True  MASCARA        29   \n",
       "3  NaN      True    NAAMA        45   \n",
       "\n",
       "                                          geometry_y  \\\n",
       "0  POLYGON ((6.10102 35.05459, 6.10090 35.05447, ...   \n",
       "1  POLYGON ((0.72323 34.44284, 0.72288 34.44221, ...   \n",
       "2  POLYGON ((0.15620 35.07143, 0.15508 35.07081, ...   \n",
       "3  POLYGON ((-0.99792 32.51558, -0.99799 32.51650...   \n",
       "\n",
       "                    centroid                   geometry  \n",
       "0   POINT (5.87455 35.41969)   POINT (5.87455 35.41969)  \n",
       "1   POINT (0.28119 34.73743)   POINT (0.28119 34.73743)  \n",
       "2   POINT (0.15926 35.39167)   POINT (0.15926 35.39167)  \n",
       "3  POINT (-0.76827 33.30472)  POINT (-0.76827 33.30472)  "
      ],
      "text/html": "<div>\n<style scoped>\n    .dataframe tbody tr th:only-of-type {\n        vertical-align: middle;\n    }\n\n    .dataframe tbody tr th {\n        vertical-align: top;\n    }\n\n    .dataframe thead th {\n        text-align: right;\n    }\n</style>\n<table border=\"1\" class=\"dataframe\">\n  <thead>\n    <tr style=\"text-align: right;\">\n      <th></th>\n      <th>code</th>\n      <th>nom</th>\n      <th>type</th>\n      <th>adresses</th>\n      <th>e-mail</th>\n      <th>fax</th>\n      <th>tel</th>\n      <th>wilayas de rattachement</th>\n      <th>lat</th>\n      <th>lon</th>\n      <th>to_check</th>\n      <th>WILAYA</th>\n      <th>code_wil</th>\n      <th>geometry_y</th>\n      <th>centroid</th>\n      <th>geometry</th>\n    </tr>\n  </thead>\n  <tbody>\n    <tr>\n      <th>0</th>\n      <td>5</td>\n      <td>BATNA</td>\n      <td>Agence</td>\n      <td>CITE NACER CITE ADMINISTRATIVE BLOC 02 BATNA</td>\n      <td>batna@angem.dz</td>\n      <td>033 25 39 79</td>\n      <td>033 25 39 78</td>\n      <td>BATNA</td>\n      <td>NaN</td>\n      <td>NaN</td>\n      <td>True</td>\n      <td>BATNA</td>\n      <td>5</td>\n      <td>POLYGON ((6.10102 35.05459, 6.10090 35.05447, ...</td>\n      <td>POINT (5.87455 35.41969)</td>\n      <td>POINT (5.87455 35.41969)</td>\n    </tr>\n    <tr>\n      <th>1</th>\n      <td>20</td>\n      <td>SAIDA</td>\n      <td>Agence</td>\n      <td>BOULVARD FRANZ FANON EX MOHAFADAT DE SAIDA</td>\n      <td>saida@angem.dz</td>\n      <td>048 41 02 53</td>\n      <td>048 41 00 94</td>\n      <td>SAIDA</td>\n      <td>NaN</td>\n      <td>NaN</td>\n      <td>True</td>\n      <td>SAIDA</td>\n      <td>20</td>\n      <td>POLYGON ((0.72323 34.44284, 0.72288 34.44221, ...</td>\n      <td>POINT (0.28119 34.73743)</td>\n      <td>POINT (0.28119 34.73743)</td>\n    </tr>\n    <tr>\n      <th>2</th>\n      <td>29</td>\n      <td>MASCARA</td>\n      <td>Agence</td>\n      <td>RUE CHEMMOUM MOKHTAR MASCARA</td>\n      <td>mascara@angem.dz</td>\n      <td>045 71 89 98</td>\n      <td>045 71 89 36</td>\n      <td>MASCARA</td>\n      <td>NaN</td>\n      <td>NaN</td>\n      <td>True</td>\n      <td>MASCARA</td>\n      <td>29</td>\n      <td>POLYGON ((0.15620 35.07143, 0.15508 35.07081, ...</td>\n      <td>POINT (0.15926 35.39167)</td>\n      <td>POINT (0.15926 35.39167)</td>\n    </tr>\n    <tr>\n      <th>3</th>\n      <td>45</td>\n      <td>NAAMA</td>\n      <td>Agence</td>\n      <td>CITE ADMINISTRATIVE 50 BUREAUX BT 146 NAAMA</td>\n      <td>naama@angem.dz</td>\n      <td>049 59 50 09</td>\n      <td>049 59 56 63</td>\n      <td>NAAMA</td>\n      <td>NaN</td>\n      <td>NaN</td>\n      <td>True</td>\n      <td>NAAMA</td>\n      <td>45</td>\n      <td>POLYGON ((-0.99792 32.51558, -0.99799 32.51650...</td>\n      <td>POINT (-0.76827 33.30472)</td>\n      <td>POINT (-0.76827 33.30472)</td>\n    </tr>\n  </tbody>\n</table>\n</div>"
     },
     "metadata": {},
     "execution_count": 521
    }
   ],
   "source": [
    "# Check for rows with no coordiantes\n",
    "no_coords_gdf = angem_gdf[(angem_gdf['lat'].isnull() | angem_gdf['lat'].isnull())]\n",
    "\n",
    "# Merge with Wialyas DataFrame and set geometry to centroids\n",
    "no_coords_gdf = no_coords_gdf.merge(wilayas_gdf, left_on='code', right_on='code_wil')\n",
    "no_coords_gdf['geometry'] = with_coords_gdf['centroid']\n",
    "no_coords_gdf['to_check'] = True\n",
    "\n",
    "with_coords_gdf = no_coords_gdf.drop(['geometry_x'], axis=1)\n",
    "\n",
    "with_coords_gdf "
   ]
  },
  {
   "cell_type": "code",
   "execution_count": 522,
   "metadata": {},
   "outputs": [
    {
     "output_type": "execute_result",
     "data": {
      "text/plain": [
       "   code      nom    type                                      adresses  \\\n",
       "0     5    BATNA  Agence  CITE NACER CITE ADMINISTRATIVE BLOC 02 BATNA   \n",
       "1    20    SAIDA  Agence    BOULVARD FRANZ FANON EX MOHAFADAT DE SAIDA   \n",
       "2    29  MASCARA  Agence                  RUE CHEMMOUM MOKHTAR MASCARA   \n",
       "3    45    NAAMA  Agence   CITE ADMINISTRATIVE 50 BUREAUX BT 146 NAAMA   \n",
       "\n",
       "             e-mail           fax           tel wilayas de rattachement  lat  \\\n",
       "0    batna@angem.dz  033 25 39 79  033 25 39 78                   BATNA  NaN   \n",
       "1    saida@angem.dz  048 41 02 53  048 41 00 94                   SAIDA  NaN   \n",
       "2  mascara@angem.dz  045 71 89 98  045 71 89 36                 MASCARA  NaN   \n",
       "3    naama@angem.dz  049 59 50 09  049 59 56 63                   NAAMA  NaN   \n",
       "\n",
       "   lon  to_check                   geometry   WILAYA  code_wil  \\\n",
       "0  NaN      True   POINT (5.87455 35.41969)    BATNA         5   \n",
       "1  NaN      True   POINT (0.28119 34.73743)    SAIDA        20   \n",
       "2  NaN      True   POINT (0.15926 35.39167)  MASCARA        29   \n",
       "3  NaN      True  POINT (-0.76827 33.30472)    NAAMA        45   \n",
       "\n",
       "                                          geometry_y  \\\n",
       "0  POLYGON ((6.10102 35.05459, 6.10090 35.05447, ...   \n",
       "1  POLYGON ((0.72323 34.44284, 0.72288 34.44221, ...   \n",
       "2  POLYGON ((0.15620 35.07143, 0.15508 35.07081, ...   \n",
       "3  POLYGON ((-0.99792 32.51558, -0.99799 32.51650...   \n",
       "\n",
       "                    centroid  \n",
       "0   POINT (5.87455 35.41969)  \n",
       "1   POINT (0.28119 34.73743)  \n",
       "2   POINT (0.15926 35.39167)  \n",
       "3  POINT (-0.76827 33.30472)  "
      ],
      "text/html": "<div>\n<style scoped>\n    .dataframe tbody tr th:only-of-type {\n        vertical-align: middle;\n    }\n\n    .dataframe tbody tr th {\n        vertical-align: top;\n    }\n\n    .dataframe thead th {\n        text-align: right;\n    }\n</style>\n<table border=\"1\" class=\"dataframe\">\n  <thead>\n    <tr style=\"text-align: right;\">\n      <th></th>\n      <th>code</th>\n      <th>nom</th>\n      <th>type</th>\n      <th>adresses</th>\n      <th>e-mail</th>\n      <th>fax</th>\n      <th>tel</th>\n      <th>wilayas de rattachement</th>\n      <th>lat</th>\n      <th>lon</th>\n      <th>to_check</th>\n      <th>geometry</th>\n      <th>WILAYA</th>\n      <th>code_wil</th>\n      <th>geometry_y</th>\n      <th>centroid</th>\n    </tr>\n  </thead>\n  <tbody>\n    <tr>\n      <th>0</th>\n      <td>5</td>\n      <td>BATNA</td>\n      <td>Agence</td>\n      <td>CITE NACER CITE ADMINISTRATIVE BLOC 02 BATNA</td>\n      <td>batna@angem.dz</td>\n      <td>033 25 39 79</td>\n      <td>033 25 39 78</td>\n      <td>BATNA</td>\n      <td>NaN</td>\n      <td>NaN</td>\n      <td>True</td>\n      <td>POINT (5.87455 35.41969)</td>\n      <td>BATNA</td>\n      <td>5</td>\n      <td>POLYGON ((6.10102 35.05459, 6.10090 35.05447, ...</td>\n      <td>POINT (5.87455 35.41969)</td>\n    </tr>\n    <tr>\n      <th>1</th>\n      <td>20</td>\n      <td>SAIDA</td>\n      <td>Agence</td>\n      <td>BOULVARD FRANZ FANON EX MOHAFADAT DE SAIDA</td>\n      <td>saida@angem.dz</td>\n      <td>048 41 02 53</td>\n      <td>048 41 00 94</td>\n      <td>SAIDA</td>\n      <td>NaN</td>\n      <td>NaN</td>\n      <td>True</td>\n      <td>POINT (0.28119 34.73743)</td>\n      <td>SAIDA</td>\n      <td>20</td>\n      <td>POLYGON ((0.72323 34.44284, 0.72288 34.44221, ...</td>\n      <td>POINT (0.28119 34.73743)</td>\n    </tr>\n    <tr>\n      <th>2</th>\n      <td>29</td>\n      <td>MASCARA</td>\n      <td>Agence</td>\n      <td>RUE CHEMMOUM MOKHTAR MASCARA</td>\n      <td>mascara@angem.dz</td>\n      <td>045 71 89 98</td>\n      <td>045 71 89 36</td>\n      <td>MASCARA</td>\n      <td>NaN</td>\n      <td>NaN</td>\n      <td>True</td>\n      <td>POINT (0.15926 35.39167)</td>\n      <td>MASCARA</td>\n      <td>29</td>\n      <td>POLYGON ((0.15620 35.07143, 0.15508 35.07081, ...</td>\n      <td>POINT (0.15926 35.39167)</td>\n    </tr>\n    <tr>\n      <th>3</th>\n      <td>45</td>\n      <td>NAAMA</td>\n      <td>Agence</td>\n      <td>CITE ADMINISTRATIVE 50 BUREAUX BT 146 NAAMA</td>\n      <td>naama@angem.dz</td>\n      <td>049 59 50 09</td>\n      <td>049 59 56 63</td>\n      <td>NAAMA</td>\n      <td>NaN</td>\n      <td>NaN</td>\n      <td>True</td>\n      <td>POINT (-0.76827 33.30472)</td>\n      <td>NAAMA</td>\n      <td>45</td>\n      <td>POLYGON ((-0.99792 32.51558, -0.99799 32.51650...</td>\n      <td>POINT (-0.76827 33.30472)</td>\n    </tr>\n  </tbody>\n</table>\n</div>"
     },
     "metadata": {},
     "execution_count": 522
    }
   ],
   "source": [
    "# Update the Targeted DataFrame by adding Wilayas geometries and centroids \n",
    "angem_gdf = angem_gdf[(angem_gdf['lat'].notnull() & angem_gdf['lat'].notnull())]\n",
    "angem_gdf = angem_gdf.merge(wilayas_gdf, left_on='code', right_on='code_wil')\n",
    "angem_gdf.rename(columns={\"geometry_x\": \"geometry\"}, inplace=True)\n",
    "\n",
    "# Conat the Targeted DataFrame with rows without coordinates and approximated with Wilayas centroids \n",
    "angem_gdf = pd.concat([angem_gdf, with_coords_gdf])\n",
    "angem_gdf[(angem_gdf['lat'].isnull() | angem_gdf['lon'].isnull())]"
   ]
  },
  {
   "cell_type": "code",
   "execution_count": 523,
   "metadata": {},
   "outputs": [
    {
     "output_type": "execute_result",
     "data": {
      "text/plain": [
       "   code       nom    type                                           adresses  \\\n",
       "0     1     ADRAR  Agence                   CITE 500 VILLAS CNEP N°40, ADRAR   \n",
       "1     2     CHLEF  Agence                  RUE DJOUBA, HAY BEN SOUNA, CHLEF    \n",
       "2     3  LAGHOUAT  Agence               AVENUE 05 JUILLET MAAMOURAH-LAGHOUAT   \n",
       "3     4       OEB  Agence  ANCIENNNE CITE ADMINISTRATIVE BP 2002 Oum El B...   \n",
       "4     5     BATNA  Agence       CITE NACER CITE ADMINISTRATIVE BLOC 02 BATNA   \n",
       "\n",
       "                  e-mail           fax           tel wilayas de rattachement  \\\n",
       "0         adrar@angem.dz  049 96 76 19  049 96 46 74                   ADRAR   \n",
       "1         chlef@angem.dz  027 79 21 59  027 79 21 58                   CHLEF   \n",
       "2      laghouat@angem.dz  029 13 25 37  029 13 25 38                LAGHOUAT   \n",
       "3  oumelbouaghi@angem.dz  032 56 51 67  032 56 52 43                     OEB   \n",
       "4         batna@angem.dz  033 25 39 79  033 25 39 78                   BATNA   \n",
       "\n",
       "         lat       lon  to_check                   geometry          WILAYA  \\\n",
       "0  28.017440 -0.264250     False  POINT (-0.26425 28.01744)           ADRAR   \n",
       "1  36.160921  1.315595     False   POINT (1.31560 36.16092)           CHLEF   \n",
       "2  33.807834  2.862829     False   POINT (2.86283 33.80783)        LAGHOUAT   \n",
       "3  35.868879  7.110827     False   POINT (7.11083 35.86888)  OUM EL BOUAGHI   \n",
       "4        NaN       NaN      True   POINT (5.87455 35.41969)           BATNA   \n",
       "\n",
       "   code_wil                                         geometry_y  \\\n",
       "0         1  POLYGON ((1.33461 20.72282, 1.32667 20.72491, ...   \n",
       "1         2  POLYGON ((1.55326 36.02990, 1.55325 36.02988, ...   \n",
       "2         3  POLYGON ((2.88464 32.88137, 2.87848 32.87936, ...   \n",
       "3         4  POLYGON ((7.47320 35.52005, 7.47227 35.52063, ...   \n",
       "4         5  POLYGON ((6.10102 35.05459, 6.10090 35.05447, ...   \n",
       "\n",
       "                    centroid  \n",
       "0  POINT (-0.62174 26.01400)  \n",
       "1   POINT (1.25669 36.23826)  \n",
       "2   POINT (2.72955 33.60757)  \n",
       "3   POINT (7.06527 35.83646)  \n",
       "4   POINT (5.87455 35.41969)  "
      ],
      "text/html": "<div>\n<style scoped>\n    .dataframe tbody tr th:only-of-type {\n        vertical-align: middle;\n    }\n\n    .dataframe tbody tr th {\n        vertical-align: top;\n    }\n\n    .dataframe thead th {\n        text-align: right;\n    }\n</style>\n<table border=\"1\" class=\"dataframe\">\n  <thead>\n    <tr style=\"text-align: right;\">\n      <th></th>\n      <th>code</th>\n      <th>nom</th>\n      <th>type</th>\n      <th>adresses</th>\n      <th>e-mail</th>\n      <th>fax</th>\n      <th>tel</th>\n      <th>wilayas de rattachement</th>\n      <th>lat</th>\n      <th>lon</th>\n      <th>to_check</th>\n      <th>geometry</th>\n      <th>WILAYA</th>\n      <th>code_wil</th>\n      <th>geometry_y</th>\n      <th>centroid</th>\n    </tr>\n  </thead>\n  <tbody>\n    <tr>\n      <th>0</th>\n      <td>1</td>\n      <td>ADRAR</td>\n      <td>Agence</td>\n      <td>CITE 500 VILLAS CNEP N°40, ADRAR</td>\n      <td>adrar@angem.dz</td>\n      <td>049 96 76 19</td>\n      <td>049 96 46 74</td>\n      <td>ADRAR</td>\n      <td>28.017440</td>\n      <td>-0.264250</td>\n      <td>False</td>\n      <td>POINT (-0.26425 28.01744)</td>\n      <td>ADRAR</td>\n      <td>1</td>\n      <td>POLYGON ((1.33461 20.72282, 1.32667 20.72491, ...</td>\n      <td>POINT (-0.62174 26.01400)</td>\n    </tr>\n    <tr>\n      <th>1</th>\n      <td>2</td>\n      <td>CHLEF</td>\n      <td>Agence</td>\n      <td>RUE DJOUBA, HAY BEN SOUNA, CHLEF</td>\n      <td>chlef@angem.dz</td>\n      <td>027 79 21 59</td>\n      <td>027 79 21 58</td>\n      <td>CHLEF</td>\n      <td>36.160921</td>\n      <td>1.315595</td>\n      <td>False</td>\n      <td>POINT (1.31560 36.16092)</td>\n      <td>CHLEF</td>\n      <td>2</td>\n      <td>POLYGON ((1.55326 36.02990, 1.55325 36.02988, ...</td>\n      <td>POINT (1.25669 36.23826)</td>\n    </tr>\n    <tr>\n      <th>2</th>\n      <td>3</td>\n      <td>LAGHOUAT</td>\n      <td>Agence</td>\n      <td>AVENUE 05 JUILLET MAAMOURAH-LAGHOUAT</td>\n      <td>laghouat@angem.dz</td>\n      <td>029 13 25 37</td>\n      <td>029 13 25 38</td>\n      <td>LAGHOUAT</td>\n      <td>33.807834</td>\n      <td>2.862829</td>\n      <td>False</td>\n      <td>POINT (2.86283 33.80783)</td>\n      <td>LAGHOUAT</td>\n      <td>3</td>\n      <td>POLYGON ((2.88464 32.88137, 2.87848 32.87936, ...</td>\n      <td>POINT (2.72955 33.60757)</td>\n    </tr>\n    <tr>\n      <th>3</th>\n      <td>4</td>\n      <td>OEB</td>\n      <td>Agence</td>\n      <td>ANCIENNNE CITE ADMINISTRATIVE BP 2002 Oum El B...</td>\n      <td>oumelbouaghi@angem.dz</td>\n      <td>032 56 51 67</td>\n      <td>032 56 52 43</td>\n      <td>OEB</td>\n      <td>35.868879</td>\n      <td>7.110827</td>\n      <td>False</td>\n      <td>POINT (7.11083 35.86888)</td>\n      <td>OUM EL BOUAGHI</td>\n      <td>4</td>\n      <td>POLYGON ((7.47320 35.52005, 7.47227 35.52063, ...</td>\n      <td>POINT (7.06527 35.83646)</td>\n    </tr>\n    <tr>\n      <th>4</th>\n      <td>5</td>\n      <td>BATNA</td>\n      <td>Agence</td>\n      <td>CITE NACER CITE ADMINISTRATIVE BLOC 02 BATNA</td>\n      <td>batna@angem.dz</td>\n      <td>033 25 39 79</td>\n      <td>033 25 39 78</td>\n      <td>BATNA</td>\n      <td>NaN</td>\n      <td>NaN</td>\n      <td>True</td>\n      <td>POINT (5.87455 35.41969)</td>\n      <td>BATNA</td>\n      <td>5</td>\n      <td>POLYGON ((6.10102 35.05459, 6.10090 35.05447, ...</td>\n      <td>POINT (5.87455 35.41969)</td>\n    </tr>\n  </tbody>\n</table>\n</div>"
     },
     "metadata": {},
     "execution_count": 523
    }
   ],
   "source": [
    "# Sort the DataFrame by code (Wilaya number) and reset the index\n",
    "angem_gdf = angem_gdf.sort_values(by=['code'],ignore_index=True)\n",
    "angem_gdf.reset_index(drop=True)\n",
    "angem_gdf.head()"
   ]
  },
  {
   "cell_type": "code",
   "execution_count": 524,
   "metadata": {
    "tags": []
   },
   "outputs": [
    {
     "output_type": "execute_result",
     "data": {
      "text/plain": [
       "    code             nom     type  \\\n",
       "7      7          BISKRA  Antenne   \n",
       "8      7          BISKRA   Agence   \n",
       "12    10          BOUIRA   Agence   \n",
       "42    33          ILLIZI   Agence   \n",
       "50    41      SOUK AHRAS   Agence   \n",
       "53    43            MILA   Agence   \n",
       "56    46  AIN TEMOUCHENT   Agence   \n",
       "\n",
       "                                             adresses                  e-mail  \\\n",
       "7   BLOC N°06 CITE 200/500(PRES DE LA MOSQUEE EL F...       arbiskra@angem.dz   \n",
       "8   BLOC N° 06 CITE 200/500 (PRES DE LA MOSQUEE EL...         biskra@angem.dz   \n",
       "12  CITE 56 LGTS BT F ENTREE 02 A COTE DU STADE MU...         bouira@angem.dz   \n",
       "42                   PLACE EL MAGHREB EL ARABI ILLIZI         illizi@angem.dz   \n",
       "50  CITE ADMINISTRATIVE 80 BUREAUX EL BORDJ EL KAB...      soukahras@angem.dz   \n",
       "53                      CITE BEN GUERBA FACE APW MILA           mila@angem.dz   \n",
       "56                     AVENUE AMRO MOKDAD CITE MEDINA  aintemouchent@angem.dz   \n",
       "\n",
       "             fax           tel             wilayas de rattachement        lat  \\\n",
       "7   033 51 53 17  033 51 53 17  Biskra, El Oued, Khenchla, Tebessa  37.172745   \n",
       "8   033 51 53 55  033 51 53 56                              BISKRA  33.140374   \n",
       "12  026 72 02 72  026 72 02 72                              BOUIRA  40.520423   \n",
       "42  029 41 16 10  029 41 16 10                              ILLIZI  35.856345   \n",
       "50  037 72 43 86  037 72 43 87                          SOUK AHRAS  35.515206   \n",
       "53  031 47 48 16  031 47 47 44                                MILA  47.255310   \n",
       "56  043 79 53 34  043 79 21 38                      AIN TEMOUCHENT  38.588127   \n",
       "\n",
       "           lon  to_check                     geometry          WILAYA  \\\n",
       "7    10.033169     False    POINT (10.03317 37.17275)          BISKRA   \n",
       "8     5.595066     False     POINT (5.59507 33.14037)          BISKRA   \n",
       "12   22.971676     False    POINT (22.97168 40.52042)          BOUIRA   \n",
       "42   -0.312907     False    POINT (-0.31291 35.85634)          ILLIZI   \n",
       "50    0.300470     False     POINT (0.30047 35.51521)      SOUK-AHRAS   \n",
       "53 -122.472227     False  POINT (-122.47223 47.25531)            MILA   \n",
       "56  -90.297416     False   POINT (-90.29742 38.58813)  AIN TEMOUCHENT   \n",
       "\n",
       "    code_wil                                         geometry_y  \\\n",
       "7          7  POLYGON ((5.18354 34.41286, 5.18464 34.41222, ...   \n",
       "8          7  POLYGON ((5.18354 34.41286, 5.18464 34.41222, ...   \n",
       "12        10  POLYGON ((3.77427 35.90221, 3.77327 35.90216, ...   \n",
       "42        33  POLYGON ((7.71546 23.32467, 7.74599 23.35353, ...   \n",
       "50        41  POLYGON ((7.53798 35.88014, 7.53725 35.88022, ...   \n",
       "53        43  POLYGON ((6.01335 35.89529, 6.01206 35.89615, ...   \n",
       "56        46  MULTIPOLYGON (((-1.06748 35.12752, -1.06791 35...   \n",
       "\n",
       "                     centroid  coords_in_wil  \n",
       "7    POINT (5.33496 34.46880)          False  \n",
       "8    POINT (5.33496 34.46880)          False  \n",
       "12   POINT (3.84352 36.25275)          False  \n",
       "42   POINT (8.32092 26.77824)          False  \n",
       "50   POINT (7.88354 36.14933)          False  \n",
       "53   POINT (6.14584 36.29332)          False  \n",
       "56  POINT (-1.05368 35.35008)          False  "
      ],
      "text/html": "<div>\n<style scoped>\n    .dataframe tbody tr th:only-of-type {\n        vertical-align: middle;\n    }\n\n    .dataframe tbody tr th {\n        vertical-align: top;\n    }\n\n    .dataframe thead th {\n        text-align: right;\n    }\n</style>\n<table border=\"1\" class=\"dataframe\">\n  <thead>\n    <tr style=\"text-align: right;\">\n      <th></th>\n      <th>code</th>\n      <th>nom</th>\n      <th>type</th>\n      <th>adresses</th>\n      <th>e-mail</th>\n      <th>fax</th>\n      <th>tel</th>\n      <th>wilayas de rattachement</th>\n      <th>lat</th>\n      <th>lon</th>\n      <th>to_check</th>\n      <th>geometry</th>\n      <th>WILAYA</th>\n      <th>code_wil</th>\n      <th>geometry_y</th>\n      <th>centroid</th>\n      <th>coords_in_wil</th>\n    </tr>\n  </thead>\n  <tbody>\n    <tr>\n      <th>7</th>\n      <td>7</td>\n      <td>BISKRA</td>\n      <td>Antenne</td>\n      <td>BLOC N°06 CITE 200/500(PRES DE LA MOSQUEE EL F...</td>\n      <td>arbiskra@angem.dz</td>\n      <td>033 51 53 17</td>\n      <td>033 51 53 17</td>\n      <td>Biskra, El Oued, Khenchla, Tebessa</td>\n      <td>37.172745</td>\n      <td>10.033169</td>\n      <td>False</td>\n      <td>POINT (10.03317 37.17275)</td>\n      <td>BISKRA</td>\n      <td>7</td>\n      <td>POLYGON ((5.18354 34.41286, 5.18464 34.41222, ...</td>\n      <td>POINT (5.33496 34.46880)</td>\n      <td>False</td>\n    </tr>\n    <tr>\n      <th>8</th>\n      <td>7</td>\n      <td>BISKRA</td>\n      <td>Agence</td>\n      <td>BLOC N° 06 CITE 200/500 (PRES DE LA MOSQUEE EL...</td>\n      <td>biskra@angem.dz</td>\n      <td>033 51 53 55</td>\n      <td>033 51 53 56</td>\n      <td>BISKRA</td>\n      <td>33.140374</td>\n      <td>5.595066</td>\n      <td>False</td>\n      <td>POINT (5.59507 33.14037)</td>\n      <td>BISKRA</td>\n      <td>7</td>\n      <td>POLYGON ((5.18354 34.41286, 5.18464 34.41222, ...</td>\n      <td>POINT (5.33496 34.46880)</td>\n      <td>False</td>\n    </tr>\n    <tr>\n      <th>12</th>\n      <td>10</td>\n      <td>BOUIRA</td>\n      <td>Agence</td>\n      <td>CITE 56 LGTS BT F ENTREE 02 A COTE DU STADE MU...</td>\n      <td>bouira@angem.dz</td>\n      <td>026 72 02 72</td>\n      <td>026 72 02 72</td>\n      <td>BOUIRA</td>\n      <td>40.520423</td>\n      <td>22.971676</td>\n      <td>False</td>\n      <td>POINT (22.97168 40.52042)</td>\n      <td>BOUIRA</td>\n      <td>10</td>\n      <td>POLYGON ((3.77427 35.90221, 3.77327 35.90216, ...</td>\n      <td>POINT (3.84352 36.25275)</td>\n      <td>False</td>\n    </tr>\n    <tr>\n      <th>42</th>\n      <td>33</td>\n      <td>ILLIZI</td>\n      <td>Agence</td>\n      <td>PLACE EL MAGHREB EL ARABI ILLIZI</td>\n      <td>illizi@angem.dz</td>\n      <td>029 41 16 10</td>\n      <td>029 41 16 10</td>\n      <td>ILLIZI</td>\n      <td>35.856345</td>\n      <td>-0.312907</td>\n      <td>False</td>\n      <td>POINT (-0.31291 35.85634)</td>\n      <td>ILLIZI</td>\n      <td>33</td>\n      <td>POLYGON ((7.71546 23.32467, 7.74599 23.35353, ...</td>\n      <td>POINT (8.32092 26.77824)</td>\n      <td>False</td>\n    </tr>\n    <tr>\n      <th>50</th>\n      <td>41</td>\n      <td>SOUK AHRAS</td>\n      <td>Agence</td>\n      <td>CITE ADMINISTRATIVE 80 BUREAUX EL BORDJ EL KAB...</td>\n      <td>soukahras@angem.dz</td>\n      <td>037 72 43 86</td>\n      <td>037 72 43 87</td>\n      <td>SOUK AHRAS</td>\n      <td>35.515206</td>\n      <td>0.300470</td>\n      <td>False</td>\n      <td>POINT (0.30047 35.51521)</td>\n      <td>SOUK-AHRAS</td>\n      <td>41</td>\n      <td>POLYGON ((7.53798 35.88014, 7.53725 35.88022, ...</td>\n      <td>POINT (7.88354 36.14933)</td>\n      <td>False</td>\n    </tr>\n    <tr>\n      <th>53</th>\n      <td>43</td>\n      <td>MILA</td>\n      <td>Agence</td>\n      <td>CITE BEN GUERBA FACE APW MILA</td>\n      <td>mila@angem.dz</td>\n      <td>031 47 48 16</td>\n      <td>031 47 47 44</td>\n      <td>MILA</td>\n      <td>47.255310</td>\n      <td>-122.472227</td>\n      <td>False</td>\n      <td>POINT (-122.47223 47.25531)</td>\n      <td>MILA</td>\n      <td>43</td>\n      <td>POLYGON ((6.01335 35.89529, 6.01206 35.89615, ...</td>\n      <td>POINT (6.14584 36.29332)</td>\n      <td>False</td>\n    </tr>\n    <tr>\n      <th>56</th>\n      <td>46</td>\n      <td>AIN TEMOUCHENT</td>\n      <td>Agence</td>\n      <td>AVENUE AMRO MOKDAD CITE MEDINA</td>\n      <td>aintemouchent@angem.dz</td>\n      <td>043 79 53 34</td>\n      <td>043 79 21 38</td>\n      <td>AIN TEMOUCHENT</td>\n      <td>38.588127</td>\n      <td>-90.297416</td>\n      <td>False</td>\n      <td>POINT (-90.29742 38.58813)</td>\n      <td>AIN TEMOUCHENT</td>\n      <td>46</td>\n      <td>MULTIPOLYGON (((-1.06748 35.12752, -1.06791 35...</td>\n      <td>POINT (-1.05368 35.35008)</td>\n      <td>False</td>\n    </tr>\n  </tbody>\n</table>\n</div>"
     },
     "metadata": {},
     "execution_count": 524
    }
   ],
   "source": [
    "# Check if coordinates are within Wilayas polygons\n",
    "angem_gdf['coords_in_wil'] = [angem_gdf.geometry[i].within(angem_gdf.geometry_y[i]) for i in range(angem_gdf.geometry.count())] \n",
    "angem_gdf[angem_gdf.coords_in_wil == False]"
   ]
  },
  {
   "cell_type": "code",
   "execution_count": 525,
   "metadata": {},
   "outputs": [
    {
     "output_type": "execute_result",
     "data": {
      "text/plain": [
       "    code             nom     type  \\\n",
       "4      5           BATNA   Agence   \n",
       "7      7          BISKRA  Antenne   \n",
       "8      7          BISKRA   Agence   \n",
       "12    10          BOUIRA   Agence   \n",
       "25    20           SAIDA   Agence   \n",
       "37    29         MASCARA   Agence   \n",
       "42    33          ILLIZI   Agence   \n",
       "50    41      SOUK AHRAS   Agence   \n",
       "53    43            MILA   Agence   \n",
       "55    45           NAAMA   Agence   \n",
       "56    46  AIN TEMOUCHENT   Agence   \n",
       "\n",
       "                                             adresses                  e-mail  \\\n",
       "4        CITE NACER CITE ADMINISTRATIVE BLOC 02 BATNA          batna@angem.dz   \n",
       "7   BLOC N°06 CITE 200/500(PRES DE LA MOSQUEE EL F...       arbiskra@angem.dz   \n",
       "8   BLOC N° 06 CITE 200/500 (PRES DE LA MOSQUEE EL...         biskra@angem.dz   \n",
       "12  CITE 56 LGTS BT F ENTREE 02 A COTE DU STADE MU...         bouira@angem.dz   \n",
       "25         BOULVARD FRANZ FANON EX MOHAFADAT DE SAIDA          saida@angem.dz   \n",
       "37                       RUE CHEMMOUM MOKHTAR MASCARA        mascara@angem.dz   \n",
       "42                   PLACE EL MAGHREB EL ARABI ILLIZI         illizi@angem.dz   \n",
       "50  CITE ADMINISTRATIVE 80 BUREAUX EL BORDJ EL KAB...      soukahras@angem.dz   \n",
       "53                      CITE BEN GUERBA FACE APW MILA           mila@angem.dz   \n",
       "55        CITE ADMINISTRATIVE 50 BUREAUX BT 146 NAAMA          naama@angem.dz   \n",
       "56                     AVENUE AMRO MOKDAD CITE MEDINA  aintemouchent@angem.dz   \n",
       "\n",
       "             fax           tel             wilayas de rattachement        lat  \\\n",
       "4   033 25 39 79  033 25 39 78                               BATNA        NaN   \n",
       "7   033 51 53 17  033 51 53 17  Biskra, El Oued, Khenchla, Tebessa  37.172745   \n",
       "8   033 51 53 55  033 51 53 56                              BISKRA  33.140374   \n",
       "12  026 72 02 72  026 72 02 72                              BOUIRA  40.520423   \n",
       "25  048 41 02 53  048 41 00 94                               SAIDA        NaN   \n",
       "37  045 71 89 98  045 71 89 36                             MASCARA        NaN   \n",
       "42  029 41 16 10  029 41 16 10                              ILLIZI  35.856345   \n",
       "50  037 72 43 86  037 72 43 87                          SOUK AHRAS  35.515206   \n",
       "53  031 47 48 16  031 47 47 44                                MILA  47.255310   \n",
       "55  049 59 50 09  049 59 56 63                               NAAMA        NaN   \n",
       "56  043 79 53 34  043 79 21 38                      AIN TEMOUCHENT  38.588127   \n",
       "\n",
       "           lon  to_check                     geometry  \n",
       "4          NaN      True     POINT (5.87455 35.41969)  \n",
       "7    10.033169      True    POINT (10.03317 37.17275)  \n",
       "8     5.595066      True     POINT (5.59507 33.14037)  \n",
       "12   22.971676      True    POINT (22.97168 40.52042)  \n",
       "25         NaN      True     POINT (0.28119 34.73743)  \n",
       "37         NaN      True     POINT (0.15926 35.39167)  \n",
       "42   -0.312907      True    POINT (-0.31291 35.85634)  \n",
       "50    0.300470      True     POINT (0.30047 35.51521)  \n",
       "53 -122.472227      True  POINT (-122.47223 47.25531)  \n",
       "55         NaN      True    POINT (-0.76827 33.30472)  \n",
       "56  -90.297416      True   POINT (-90.29742 38.58813)  "
      ],
      "text/html": "<div>\n<style scoped>\n    .dataframe tbody tr th:only-of-type {\n        vertical-align: middle;\n    }\n\n    .dataframe tbody tr th {\n        vertical-align: top;\n    }\n\n    .dataframe thead th {\n        text-align: right;\n    }\n</style>\n<table border=\"1\" class=\"dataframe\">\n  <thead>\n    <tr style=\"text-align: right;\">\n      <th></th>\n      <th>code</th>\n      <th>nom</th>\n      <th>type</th>\n      <th>adresses</th>\n      <th>e-mail</th>\n      <th>fax</th>\n      <th>tel</th>\n      <th>wilayas de rattachement</th>\n      <th>lat</th>\n      <th>lon</th>\n      <th>to_check</th>\n      <th>geometry</th>\n    </tr>\n  </thead>\n  <tbody>\n    <tr>\n      <th>4</th>\n      <td>5</td>\n      <td>BATNA</td>\n      <td>Agence</td>\n      <td>CITE NACER CITE ADMINISTRATIVE BLOC 02 BATNA</td>\n      <td>batna@angem.dz</td>\n      <td>033 25 39 79</td>\n      <td>033 25 39 78</td>\n      <td>BATNA</td>\n      <td>NaN</td>\n      <td>NaN</td>\n      <td>True</td>\n      <td>POINT (5.87455 35.41969)</td>\n    </tr>\n    <tr>\n      <th>7</th>\n      <td>7</td>\n      <td>BISKRA</td>\n      <td>Antenne</td>\n      <td>BLOC N°06 CITE 200/500(PRES DE LA MOSQUEE EL F...</td>\n      <td>arbiskra@angem.dz</td>\n      <td>033 51 53 17</td>\n      <td>033 51 53 17</td>\n      <td>Biskra, El Oued, Khenchla, Tebessa</td>\n      <td>37.172745</td>\n      <td>10.033169</td>\n      <td>True</td>\n      <td>POINT (10.03317 37.17275)</td>\n    </tr>\n    <tr>\n      <th>8</th>\n      <td>7</td>\n      <td>BISKRA</td>\n      <td>Agence</td>\n      <td>BLOC N° 06 CITE 200/500 (PRES DE LA MOSQUEE EL...</td>\n      <td>biskra@angem.dz</td>\n      <td>033 51 53 55</td>\n      <td>033 51 53 56</td>\n      <td>BISKRA</td>\n      <td>33.140374</td>\n      <td>5.595066</td>\n      <td>True</td>\n      <td>POINT (5.59507 33.14037)</td>\n    </tr>\n    <tr>\n      <th>12</th>\n      <td>10</td>\n      <td>BOUIRA</td>\n      <td>Agence</td>\n      <td>CITE 56 LGTS BT F ENTREE 02 A COTE DU STADE MU...</td>\n      <td>bouira@angem.dz</td>\n      <td>026 72 02 72</td>\n      <td>026 72 02 72</td>\n      <td>BOUIRA</td>\n      <td>40.520423</td>\n      <td>22.971676</td>\n      <td>True</td>\n      <td>POINT (22.97168 40.52042)</td>\n    </tr>\n    <tr>\n      <th>25</th>\n      <td>20</td>\n      <td>SAIDA</td>\n      <td>Agence</td>\n      <td>BOULVARD FRANZ FANON EX MOHAFADAT DE SAIDA</td>\n      <td>saida@angem.dz</td>\n      <td>048 41 02 53</td>\n      <td>048 41 00 94</td>\n      <td>SAIDA</td>\n      <td>NaN</td>\n      <td>NaN</td>\n      <td>True</td>\n      <td>POINT (0.28119 34.73743)</td>\n    </tr>\n    <tr>\n      <th>37</th>\n      <td>29</td>\n      <td>MASCARA</td>\n      <td>Agence</td>\n      <td>RUE CHEMMOUM MOKHTAR MASCARA</td>\n      <td>mascara@angem.dz</td>\n      <td>045 71 89 98</td>\n      <td>045 71 89 36</td>\n      <td>MASCARA</td>\n      <td>NaN</td>\n      <td>NaN</td>\n      <td>True</td>\n      <td>POINT (0.15926 35.39167)</td>\n    </tr>\n    <tr>\n      <th>42</th>\n      <td>33</td>\n      <td>ILLIZI</td>\n      <td>Agence</td>\n      <td>PLACE EL MAGHREB EL ARABI ILLIZI</td>\n      <td>illizi@angem.dz</td>\n      <td>029 41 16 10</td>\n      <td>029 41 16 10</td>\n      <td>ILLIZI</td>\n      <td>35.856345</td>\n      <td>-0.312907</td>\n      <td>True</td>\n      <td>POINT (-0.31291 35.85634)</td>\n    </tr>\n    <tr>\n      <th>50</th>\n      <td>41</td>\n      <td>SOUK AHRAS</td>\n      <td>Agence</td>\n      <td>CITE ADMINISTRATIVE 80 BUREAUX EL BORDJ EL KAB...</td>\n      <td>soukahras@angem.dz</td>\n      <td>037 72 43 86</td>\n      <td>037 72 43 87</td>\n      <td>SOUK AHRAS</td>\n      <td>35.515206</td>\n      <td>0.300470</td>\n      <td>True</td>\n      <td>POINT (0.30047 35.51521)</td>\n    </tr>\n    <tr>\n      <th>53</th>\n      <td>43</td>\n      <td>MILA</td>\n      <td>Agence</td>\n      <td>CITE BEN GUERBA FACE APW MILA</td>\n      <td>mila@angem.dz</td>\n      <td>031 47 48 16</td>\n      <td>031 47 47 44</td>\n      <td>MILA</td>\n      <td>47.255310</td>\n      <td>-122.472227</td>\n      <td>True</td>\n      <td>POINT (-122.47223 47.25531)</td>\n    </tr>\n    <tr>\n      <th>55</th>\n      <td>45</td>\n      <td>NAAMA</td>\n      <td>Agence</td>\n      <td>CITE ADMINISTRATIVE 50 BUREAUX BT 146 NAAMA</td>\n      <td>naama@angem.dz</td>\n      <td>049 59 50 09</td>\n      <td>049 59 56 63</td>\n      <td>NAAMA</td>\n      <td>NaN</td>\n      <td>NaN</td>\n      <td>True</td>\n      <td>POINT (-0.76827 33.30472)</td>\n    </tr>\n    <tr>\n      <th>56</th>\n      <td>46</td>\n      <td>AIN TEMOUCHENT</td>\n      <td>Agence</td>\n      <td>AVENUE AMRO MOKDAD CITE MEDINA</td>\n      <td>aintemouchent@angem.dz</td>\n      <td>043 79 53 34</td>\n      <td>043 79 21 38</td>\n      <td>AIN TEMOUCHENT</td>\n      <td>38.588127</td>\n      <td>-90.297416</td>\n      <td>True</td>\n      <td>POINT (-90.29742 38.58813)</td>\n    </tr>\n  </tbody>\n</table>\n</div>"
     },
     "metadata": {},
     "execution_count": 525
    }
   ],
   "source": [
    "# Update to_check flag to take into account points outside Wilays and without geocoding coordinates\n",
    "final_gdf = angem_gdf\n",
    "final_gdf['to_check'] = (angem_gdf['to_check'] == True) | (angem_gdf['coords_in_wil'] == False)   \n",
    "\n",
    "# Remove unecessary columns\n",
    "final_gdf = final_gdf.drop(['geometry_y', 'code_wil', 'centroid', 'WILAYA', 'coords_in_wil'], axis=1)\n",
    "\n",
    "final_gdf[final_gdf.to_check == True]"
   ]
  },
  {
   "cell_type": "code",
   "execution_count": 528,
   "metadata": {},
   "outputs": [],
   "source": [
    "# Write to a GeoPackage file\n",
    "\n",
    "#gpd.GeoDataFrame(final_gdf).to_file(\"angem_to_check.geojson\", driver='GeoJSON')"
   ]
  }
 ]
}