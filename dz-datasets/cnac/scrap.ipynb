{
 "cells": [
  {
   "cell_type": "code",
   "execution_count": null,
   "metadata": {
    "id": "XF_DNMDoM-9J"
   },
   "outputs": [],
   "source": [
    "import requests \n",
    "import json \n",
    "import time \n",
    "import pandas as pd\n",
    "from bs4 import BeautifulSoup\n",
    "\n",
    "\n"
   ]
  },
  {
   "cell_type": "code",
   "execution_count": null,
   "metadata": {
    "id": "FdmfWdiOi7Sr"
   },
   "outputs": [],
   "source": [
    "page = requests.get(\"https://www.cnac.dz/site_cnac_new/Web%20Pages/Fr/FR_ReseauNational.aspx\")\n",
    "soup = BeautifulSoup(page.content, 'html.parser')\n",
    "\n",
    "agences_wilaya = soup.find(id=\"AgWil\")\n",
    "\n",
    "wilyas = agences_wilaya.find_all(\"li\",class_='')\n",
    "items = list(wilyas)\n",
    "agences = []\n",
    "for item in items:\n",
    "  agence= item.find(\"a\").get_text()\n",
    "  wilaya = agence.split(\" \",1)[1]\n",
    "  type_agence = agence.split(\" \",1)[0]\n",
    "  adresse = item.select(\"p:nth-of-type(2)\")[0].get_text().split(\":\",1)[1].lstrip() \n",
    "  \n",
    "  agences.append({\"agence\" : agence,\"adresse\" : adresse,\"wilaya\" :wilaya , \"type\":type_agence})\n",
    "\n",
    "  antennes = item.find_all(class_=\"panel\")\n",
    "  for antenne in antennes:\n",
    "      agence = antenne.find(\"a\").get_text()\n",
    "      type_agence = agence.split(\" \",1)[0]\n",
    "      adresse = antenne.select(\"p:nth-of-type(2)\")[0].get_text().split(\":\",1)[1].lstrip()\n",
    "  \n",
    "      agences.append({\"agence\" :agence  ,\"adresse\" : adresse, \"wilaya\" : wilaya , \"type\":type_agence})    \n",
    "\n",
    "\n",
    "print(agences)"
   ]
  },
  {
   "cell_type": "code",
   "execution_count": null,
   "metadata": {
    "id": "7dGBoWhokC3D"
   },
   "outputs": [],
   "source": [
    "df = pd.DataFrame.from_dict(agences)\n",
    "df.head()"
   ]
  },
  {
   "cell_type": "code",
   "execution_count": 15,
   "metadata": {
    "colab": {
     "base_uri": "https://localhost:8080/"
    },
    "executionInfo": {
     "elapsed": 814,
     "status": "ok",
     "timestamp": 1615280765723,
     "user": {
      "displayName": "Hatem BEKHELIFI",
      "photoUrl": "",
      "userId": "00180622867639869692"
     },
     "user_tz": -60
    },
    "id": "kLpkWmE_kEpp",
    "outputId": "de2ad291-540f-474e-c8bd-0b37f9602022"
   },
   "outputs": [
    {
     "name": "stdout",
     "output_type": "stream",
     "text": [
      "Drive already mounted at drive; to attempt to forcibly remount, call drive.mount(\"drive\", force_remount=True).\n"
     ]
    }
   ],
   "source": []
  }
 ],
 "metadata": {
  "colab": {
   "authorship_tag": "ABX9TyOaArxAYfvpKk6WK6/JL9wf",
   "collapsed_sections": [],
   "name": "CNAC-Script.ipynb",
   "provenance": []
  },
  "kernelspec": {
   "display_name": "Python 3",
   "language": "python",
   "name": "python3"
  },
  "language_info": {
   "codemirror_mode": {
    "name": "ipython",
    "version": 3
   },
   "file_extension": ".py",
   "mimetype": "text/x-python",
   "name": "python",
   "nbconvert_exporter": "python",
   "pygments_lexer": "ipython3",
   "version": "3.9.1"
  }
 },
 "nbformat": 4,
 "nbformat_minor": 1
}
