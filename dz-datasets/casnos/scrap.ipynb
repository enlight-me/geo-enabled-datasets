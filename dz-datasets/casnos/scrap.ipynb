{
  "nbformat": 4,
  "nbformat_minor": 5,
  "metadata": {
    "kernelspec": {
      "display_name": "Python 3",
      "language": "python",
      "name": "python3"
    },
    "language_info": {
      "codemirror_mode": {
        "name": "ipython",
        "version": 3
      },
      "file_extension": ".py",
      "mimetype": "text/x-python",
      "name": "python",
      "nbconvert_exporter": "python",
      "pygments_lexer": "ipython3",
      "version": "3.9.1"
    },
    "colab": {
      "name": "scrap.ipynb",
      "provenance": [],
      "collapsed_sections": []
    }
  },
  "cells": [
    {
      "cell_type": "code",
      "metadata": {
        "id": "rotary-drilling"
      },
      "source": [
        "import requests \n",
        "import json \n",
        "import time \n",
        "import pandas as pd\n",
        "from bs4 import BeautifulSoup\n",
        "import re"
      ],
      "id": "rotary-drilling",
      "execution_count": null,
      "outputs": []
    },
    {
      "cell_type": "code",
      "metadata": {
        "id": "spanish-preliminary",
        "outputId": "f6f7ed5b-a106-4adc-8ac5-95be028c4a92"
      },
      "source": [
        "soup = BeautifulSoup(open(\"../source/casnos.html\"), \"html.parser\")\n",
        "items = soup.find_all(\"li\")\n",
        "\n",
        "print(len(items))"
      ],
      "id": "spanish-preliminary",
      "execution_count": null,
      "outputs": [
        {
          "output_type": "stream",
          "text": [
            "158\n"
          ],
          "name": "stdout"
        }
      ]
    },
    {
      "cell_type": "code",
      "metadata": {
        "id": "swedish-plasma"
      },
      "source": [
        "casnos = []\n",
        "for item in items : \n",
        "    nom = item.strong.get_text()\n",
        "    adresse = item.select(\"span:nth-of-type(1)\")[0].get_text()\n",
        "    tel = item.select(\"span:nth-of-type(2)\")[0].get_text()\n",
        "    fax = item.select(\"span:nth-of-type(3)\")[0].get_text()\n",
        "    email = item.select(\"span:nth-of-type(4)\")[0].get_text()\n",
        "    coord = item.find(class_=\"map-locations\").get_text().rstrip()\n",
        "    casnos.append({\"nom\":nom,\n",
        "                  \"adresse\":adresse,\n",
        "                  \"coord\" :coord,\n",
        "                  \"tel\":tel,\n",
        "                  \"fax\":fax,\n",
        "                  \"email\":email\n",
        "                  })    "
      ],
      "id": "swedish-plasma",
      "execution_count": null,
      "outputs": []
    },
    {
      "cell_type": "code",
      "metadata": {
        "id": "abroad-mention"
      },
      "source": [
        "df = pd.DataFrame.from_dict(casnos)\n",
        "df['nom'] = df['nom'].str.replace(\"\\n\",\"\")\n",
        "\n",
        "df['adresse'] = df['adresse'].str.split(':',expand=True)[1]\n",
        "df['tel'] = df['tel'].str.split(':',expand=True)[1]\n",
        "df['fax'] = df['fax'].str.split(':',expand=True)[1]\n",
        "df['email'] = df['email'].str.split(':',expand=True)[1]"
      ],
      "id": "abroad-mention",
      "execution_count": null,
      "outputs": []
    },
    {
      "cell_type": "code",
      "metadata": {
        "id": "chronic-carbon"
      },
      "source": [
        "coords = df['coord'].str.split(',',expand=True)\n",
        "df['lat'] = coords[0]\n",
        "df['long'] = coords[1]"
      ],
      "id": "chronic-carbon",
      "execution_count": null,
      "outputs": []
    },
    {
      "cell_type": "code",
      "metadata": {
        "id": "every-cache"
      },
      "source": [
        "df['lat'] = pd.to_numeric(df['lat'], errors='coerce')"
      ],
      "id": "every-cache",
      "execution_count": null,
      "outputs": []
    },
    {
      "cell_type": "code",
      "metadata": {
        "id": "intellectual-ceiling"
      },
      "source": [
        "df['long']= pd.to_numeric(df['long'] , errors = 'coerce') "
      ],
      "id": "intellectual-ceiling",
      "execution_count": null,
      "outputs": []
    },
    {
      "cell_type": "code",
      "metadata": {
        "id": "rocky-assistant"
      },
      "source": [
        "df.to_csv('../source/casnos.csv',index_label=\"id\")"
      ],
      "id": "rocky-assistant",
      "execution_count": null,
      "outputs": []
    }
  ]
}