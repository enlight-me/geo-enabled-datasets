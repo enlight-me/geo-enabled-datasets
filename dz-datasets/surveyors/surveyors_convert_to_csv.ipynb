{
 "metadata": {
  "language_info": {
   "codemirror_mode": {
    "name": "ipython",
    "version": 3
   },
   "file_extension": ".py",
   "mimetype": "text/x-python",
   "name": "python",
   "nbconvert_exporter": "python",
   "pygments_lexer": "ipython3",
   "version": "3.8.5"
  },
  "orig_nbformat": 2,
  "kernelspec": {
   "name": "python3",
   "display_name": "Python 3",
   "language": "python"
  }
 },
 "nbformat": 4,
 "nbformat_minor": 2,
 "cells": [
  {
   "cell_type": "code",
   "execution_count": 22,
   "metadata": {},
   "outputs": [],
   "source": [
    "# load packages\n",
    "import requests\n",
    "import pandas as pd\n",
    "import unidecode \n",
    "from IPython.core.interactiveshell import InteractiveShell"
   ]
  },
  {
   "cell_type": "code",
   "execution_count": 2,
   "metadata": {},
   "outputs": [],
   "source": [
    "headers = {\n",
    "    'Access-Control-Allow-Origin': '*',\n",
    "    'Access-Control-Allow-Methods': 'GET',\n",
    "    'Access-Control-Allow-Headers': 'Content-Type',\n",
    "    'Access-Control-Max-Age': '3600',\n",
    "    'User-Agent': 'Mozilla/5.0 (X11; Ubuntu; Linux x86_64; rv:52.0) Gecko/20100101 Firefox/52.0'\n",
    "    }"
   ]
  },
  {
   "cell_type": "code",
   "execution_count": 3,
   "metadata": {},
   "outputs": [],
   "source": [
    "# last : https://www.ogef.dz/php/geo/getGeo.php?all&start=657\n",
    "#data = []\n",
    "#for i in range(0,657,35):\n",
    "#    url = \"https://www.ogef.dz/php/geo/getGeo.php?all&start=\"+str(i)\n",
    "#    req = requests.get(url, headers)\n",
    "#    data.append(req.json())\n",
    "#len(data)"
   ]
  },
  {
   "cell_type": "code",
   "execution_count": 4,
   "metadata": {},
   "outputs": [],
   "source": [
    "#surv_df = pd.DataFrame(data)\n",
    "#surv_df.to_json('./surveyors_raw.json')"
   ]
  },
  {
   "cell_type": "code",
   "execution_count": 66,
   "metadata": {},
   "outputs": [
    {
     "output_type": "execute_result",
     "data": {
      "text/plain": [
       "Index(['id', 'num', 'nomprenomAR', 'nomprenomFR', 'adresse1', 'tel',\n",
       "       'adresse2', 'commune2', 'wilaya', 'region2', 'gps', 'photo', 'date',\n",
       "       'NUM', 'MODE', 'NOM_FR', 'PRENOM_FR', 'NOM_AR', 'PRENOM_AR', 'SEXE',\n",
       "       'DIPLOME', 'ANNEE_DIPLOME', 'ADRESSE_AR', 'TELEPHONE1', 'TELEPHONE2',\n",
       "       'TELEPHONE3', 'FAX', 'COMMUNE', 'REGION', 'EMAIL', 'EMAIL1', 'DATN',\n",
       "       'L_NAIS', 'SFF', 'GR_SANG', 'DT_DEMANDE', 'DT_INS', 'DT_CR', 'ADRESSE',\n",
       "       'ADRE_AR', 'DT_SERM', 'CR_SERM', 'DT_EXER', 'OB_EXER',\n",
       "       'Superficie_Cabinet', 'Site_Web', 'Location_Propriété', 'CN', 'MR',\n",
       "       'AS', 'OGEF1', 'OGEF2', 'OGEF3', 'OGEF4', 'OGEF5', 'OGEF6', 'OGEF7',\n",
       "       'OGEF8', 'OGEF9', 'OGEF10', 'NUM_DOSSIER_INS', 'AV_CN', 'COMMUNE_RES',\n",
       "       'DT_SEC', 'AV_SEC', 'AV_CR', 'communeT', 'L_NAIST', 'nbrTout',\n",
       "       'modifed', 'modif', 'codeRandom2', 'codeRandom', 'TELEPHONE1F',\n",
       "       'TELEPHONE2F', 'TELEPHONE3F'],\n",
       "      dtype='object')"
      ]
     },
     "metadata": {},
     "execution_count": 66
    }
   ],
   "source": [
    "pois_file_name = './surveyors_raw.json'\n",
    "df = pd.read_json(pois_file_name)\n",
    "df.iloc[0].keys()"
   ]
  },
  {
   "cell_type": "code",
   "execution_count": 67,
   "metadata": {},
   "outputs": [
    {
     "output_type": "execute_result",
     "data": {
      "text/plain": [
       "                                               adresse1  \\\n",
       "count                                               585   \n",
       "unique                                              582   \n",
       "top     نهج المركب عمارة كازنوس - اوبيور - عين تيموشنت.   \n",
       "freq                                                  2   \n",
       "\n",
       "                           tel   wilaya  \\\n",
       "count                      585      585   \n",
       "unique                     584       89   \n",
       "top     Mise en disponibilitÃ©  الجزائر   \n",
       "freq                         2       72   \n",
       "\n",
       "                                          gps NOM_FR  PRENOM_FR NOM_AR  \\\n",
       "count                                     155    657        657    651   \n",
       "unique                                    154    598        399    598   \n",
       "top     -0.5990530000000263,35.70285100000002  ALLAM  Mohamed     رابح   \n",
       "freq                                        2      4         42      4   \n",
       "\n",
       "       PRENOM_AR REGION EMAIL         communeT    TELEPHONE1F  \n",
       "count        653    657    84              644            624  \n",
       "unique       414      3    83              207            619  \n",
       "top      محمد       CRO        3101 وهران ORAN  Susp en si on  \n",
       "freq          39    246     2               47              3  "
      ],
      "text/html": "<div>\n<style scoped>\n    .dataframe tbody tr th:only-of-type {\n        vertical-align: middle;\n    }\n\n    .dataframe tbody tr th {\n        vertical-align: top;\n    }\n\n    .dataframe thead th {\n        text-align: right;\n    }\n</style>\n<table border=\"1\" class=\"dataframe\">\n  <thead>\n    <tr style=\"text-align: right;\">\n      <th></th>\n      <th>adresse1</th>\n      <th>tel</th>\n      <th>wilaya</th>\n      <th>gps</th>\n      <th>NOM_FR</th>\n      <th>PRENOM_FR</th>\n      <th>NOM_AR</th>\n      <th>PRENOM_AR</th>\n      <th>REGION</th>\n      <th>EMAIL</th>\n      <th>communeT</th>\n      <th>TELEPHONE1F</th>\n    </tr>\n  </thead>\n  <tbody>\n    <tr>\n      <th>count</th>\n      <td>585</td>\n      <td>585</td>\n      <td>585</td>\n      <td>155</td>\n      <td>657</td>\n      <td>657</td>\n      <td>651</td>\n      <td>653</td>\n      <td>657</td>\n      <td>84</td>\n      <td>644</td>\n      <td>624</td>\n    </tr>\n    <tr>\n      <th>unique</th>\n      <td>582</td>\n      <td>584</td>\n      <td>89</td>\n      <td>154</td>\n      <td>598</td>\n      <td>399</td>\n      <td>598</td>\n      <td>414</td>\n      <td>3</td>\n      <td>83</td>\n      <td>207</td>\n      <td>619</td>\n    </tr>\n    <tr>\n      <th>top</th>\n      <td>نهج المركب عمارة كازنوس - اوبيور - عين تيموشنت.</td>\n      <td>Mise en disponibilitÃ©</td>\n      <td>الجزائر</td>\n      <td>-0.5990530000000263,35.70285100000002</td>\n      <td>ALLAM</td>\n      <td>Mohamed</td>\n      <td>رابح</td>\n      <td>محمد</td>\n      <td>CRO</td>\n      <td></td>\n      <td>3101 وهران ORAN</td>\n      <td>Susp en si on</td>\n    </tr>\n    <tr>\n      <th>freq</th>\n      <td>2</td>\n      <td>2</td>\n      <td>72</td>\n      <td>2</td>\n      <td>4</td>\n      <td>42</td>\n      <td>4</td>\n      <td>39</td>\n      <td>246</td>\n      <td>2</td>\n      <td>47</td>\n      <td>3</td>\n    </tr>\n  </tbody>\n</table>\n</div>"
     },
     "metadata": {},
     "execution_count": 67
    }
   ],
   "source": [
    "df[['adresse1', 'tel', 'wilaya',  'gps', 'NOM_FR', 'PRENOM_FR', 'NOM_AR', 'PRENOM_AR', \n",
    "       'REGION', 'EMAIL',  'communeT', 'TELEPHONE1F' ]].describe()"
   ]
  },
  {
   "cell_type": "code",
   "execution_count": 69,
   "metadata": {},
   "outputs": [],
   "source": [
    "pois_df = df[['id', 'num', 'adresse1', 'tel', 'wilaya',  'gps', 'NOM_FR', 'PRENOM_FR', 'NOM_AR', 'PRENOM_AR', \n",
    "       'REGION', 'EMAIL',  'communeT', 'COMMUNE', 'TELEPHONE1F' ]]"
   ]
  },
  {
   "cell_type": "code",
   "execution_count": null,
   "metadata": {},
   "outputs": [],
   "source": [
    "# Stop processing due to lack of gps positions !!"
   ]
  }
 ]
}