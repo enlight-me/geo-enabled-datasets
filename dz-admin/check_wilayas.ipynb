{
 "metadata": {
  "language_info": {
   "codemirror_mode": {
    "name": "ipython",
    "version": 3
   },
   "file_extension": ".py",
   "mimetype": "text/x-python",
   "name": "python",
   "nbconvert_exporter": "python",
   "pygments_lexer": "ipython3",
   "version": "3.8.5"
  },
  "orig_nbformat": 2,
  "kernelspec": {
   "name": "python38564bitc5dda015dcc140dba795e9b0465f9f9d",
   "display_name": "Python 3.8.5 64-bit",
   "language": "python"
  }
 },
 "nbformat": 4,
 "nbformat_minor": 2,
 "cells": [
  {
   "cell_type": "code",
   "execution_count": 125,
   "metadata": {},
   "outputs": [],
   "source": [
    "import pandas as pd \n",
    "import geopandas as gpd \n",
    "from shapely.geometry import Point\n",
    "import numpy as np "
   ]
  },
  {
   "cell_type": "code",
   "execution_count": 126,
   "metadata": {},
   "outputs": [
    {
     "output_type": "execute_result",
     "data": {
      "text/plain": [
       "           WILAYA  CODE                                           geometry\n",
       "0           CHLEF     2  MULTIPOLYGON (((1.55326 36.02990, 1.55325 36.0...\n",
       "1        LAGHOUAT     3  MULTIPOLYGON (((2.88464 32.88137, 2.87848 32.8...\n",
       "2  OUM EL BOUAGHI     4  MULTIPOLYGON (((7.47320 35.52005, 7.47227 35.5...\n",
       "3           BATNA     5  MULTIPOLYGON (((6.10102 35.05459, 6.10090 35.0...\n",
       "4          BEJAIA     6  MULTIPOLYGON (((4.39109 36.24618, 4.39083 36.2..."
      ],
      "text/html": "<div>\n<style scoped>\n    .dataframe tbody tr th:only-of-type {\n        vertical-align: middle;\n    }\n\n    .dataframe tbody tr th {\n        vertical-align: top;\n    }\n\n    .dataframe thead th {\n        text-align: right;\n    }\n</style>\n<table border=\"1\" class=\"dataframe\">\n  <thead>\n    <tr style=\"text-align: right;\">\n      <th></th>\n      <th>WILAYA</th>\n      <th>CODE</th>\n      <th>geometry</th>\n    </tr>\n  </thead>\n  <tbody>\n    <tr>\n      <th>0</th>\n      <td>CHLEF</td>\n      <td>2</td>\n      <td>MULTIPOLYGON (((1.55326 36.02990, 1.55325 36.0...</td>\n    </tr>\n    <tr>\n      <th>1</th>\n      <td>LAGHOUAT</td>\n      <td>3</td>\n      <td>MULTIPOLYGON (((2.88464 32.88137, 2.87848 32.8...</td>\n    </tr>\n    <tr>\n      <th>2</th>\n      <td>OUM EL BOUAGHI</td>\n      <td>4</td>\n      <td>MULTIPOLYGON (((7.47320 35.52005, 7.47227 35.5...</td>\n    </tr>\n    <tr>\n      <th>3</th>\n      <td>BATNA</td>\n      <td>5</td>\n      <td>MULTIPOLYGON (((6.10102 35.05459, 6.10090 35.0...</td>\n    </tr>\n    <tr>\n      <th>4</th>\n      <td>BEJAIA</td>\n      <td>6</td>\n      <td>MULTIPOLYGON (((4.39109 36.24618, 4.39083 36.2...</td>\n    </tr>\n  </tbody>\n</table>\n</div>"
     },
     "metadata": {},
     "execution_count": 126
    }
   ],
   "source": [
    "# Load Wilayas GeoJSON Features \n",
    "wilayas_json_gdf = gpd.read_file('wilayas.geojson')\n",
    "wilayas_json_gdf.head()"
   ]
  },
  {
   "cell_type": "code",
   "execution_count": 135,
   "metadata": {},
   "outputs": [
    {
     "output_type": "execute_result",
     "data": {
      "text/plain": [
       "   code             nom      nom_ar\n",
       "0     1           Adrar       أدرار\n",
       "1     2           Chlef       الشلف\n",
       "2     3        Laghouat      اﻷغواط\n",
       "3     4  Oum El Bouaghi  أم البواقي\n",
       "4     5           Batna       باتنة"
      ],
      "text/html": "<div>\n<style scoped>\n    .dataframe tbody tr th:only-of-type {\n        vertical-align: middle;\n    }\n\n    .dataframe tbody tr th {\n        vertical-align: top;\n    }\n\n    .dataframe thead th {\n        text-align: right;\n    }\n</style>\n<table border=\"1\" class=\"dataframe\">\n  <thead>\n    <tr style=\"text-align: right;\">\n      <th></th>\n      <th>code</th>\n      <th>nom</th>\n      <th>nom_ar</th>\n    </tr>\n  </thead>\n  <tbody>\n    <tr>\n      <th>0</th>\n      <td>1</td>\n      <td>Adrar</td>\n      <td>أدرار</td>\n    </tr>\n    <tr>\n      <th>1</th>\n      <td>2</td>\n      <td>Chlef</td>\n      <td>الشلف</td>\n    </tr>\n    <tr>\n      <th>2</th>\n      <td>3</td>\n      <td>Laghouat</td>\n      <td>اﻷغواط</td>\n    </tr>\n    <tr>\n      <th>3</th>\n      <td>4</td>\n      <td>Oum El Bouaghi</td>\n      <td>أم البواقي</td>\n    </tr>\n    <tr>\n      <th>4</th>\n      <td>5</td>\n      <td>Batna</td>\n      <td>باتنة</td>\n    </tr>\n  </tbody>\n</table>\n</div>"
     },
     "metadata": {},
     "execution_count": 135
    }
   ],
   "source": [
    "# Load Wilayas GeoJSON Features \n",
    "wilayas_csv_df = pd.read_csv('wilayas.csv')\n",
    "wilayas_csv_df.head()"
   ]
  },
  {
   "cell_type": "code",
   "execution_count": 136,
   "metadata": {},
   "outputs": [
    {
     "output_type": "execute_result",
     "data": {
      "text/plain": [
       "WILAYA      48\n",
       "CODE        48\n",
       "geometry    48\n",
       "code        48\n",
       "nom         48\n",
       "nom_ar      48\n",
       "dtype: int64"
      ]
     },
     "metadata": {},
     "execution_count": 136
    }
   ],
   "source": [
    "# Merge Wilayas CSV and GeoJSON \n",
    "merged_gdf = wilayas_json_gdf.merge(wilayas_csv_df, left_on='CODE', right_on='code', how='left')\n",
    "merged_gdf.count()"
   ]
  },
  {
   "cell_type": "code",
   "execution_count": 137,
   "metadata": {},
   "outputs": [
    {
     "output_type": "execute_result",
     "data": {
      "text/plain": [
       "           WILAYA  CODE                                           geometry  \\\n",
       "0           CHLEF     2  MULTIPOLYGON (((1.55326 36.02990, 1.55325 36.0...   \n",
       "1        LAGHOUAT     3  MULTIPOLYGON (((2.88464 32.88137, 2.87848 32.8...   \n",
       "2  OUM EL BOUAGHI     4  MULTIPOLYGON (((7.47320 35.52005, 7.47227 35.5...   \n",
       "3           BATNA     5  MULTIPOLYGON (((6.10102 35.05459, 6.10090 35.0...   \n",
       "4          BEJAIA     6  MULTIPOLYGON (((4.39109 36.24618, 4.39083 36.2...   \n",
       "\n",
       "   code             nom      nom_ar  \n",
       "0     2           Chlef       الشلف  \n",
       "1     3        Laghouat      اﻷغواط  \n",
       "2     4  Oum El Bouaghi  أم البواقي  \n",
       "3     5           Batna       باتنة  \n",
       "4     6          Béjaïa       بجاية  "
      ],
      "text/html": "<div>\n<style scoped>\n    .dataframe tbody tr th:only-of-type {\n        vertical-align: middle;\n    }\n\n    .dataframe tbody tr th {\n        vertical-align: top;\n    }\n\n    .dataframe thead th {\n        text-align: right;\n    }\n</style>\n<table border=\"1\" class=\"dataframe\">\n  <thead>\n    <tr style=\"text-align: right;\">\n      <th></th>\n      <th>WILAYA</th>\n      <th>CODE</th>\n      <th>geometry</th>\n      <th>code</th>\n      <th>nom</th>\n      <th>nom_ar</th>\n    </tr>\n  </thead>\n  <tbody>\n    <tr>\n      <th>0</th>\n      <td>CHLEF</td>\n      <td>2</td>\n      <td>MULTIPOLYGON (((1.55326 36.02990, 1.55325 36.0...</td>\n      <td>2</td>\n      <td>Chlef</td>\n      <td>الشلف</td>\n    </tr>\n    <tr>\n      <th>1</th>\n      <td>LAGHOUAT</td>\n      <td>3</td>\n      <td>MULTIPOLYGON (((2.88464 32.88137, 2.87848 32.8...</td>\n      <td>3</td>\n      <td>Laghouat</td>\n      <td>اﻷغواط</td>\n    </tr>\n    <tr>\n      <th>2</th>\n      <td>OUM EL BOUAGHI</td>\n      <td>4</td>\n      <td>MULTIPOLYGON (((7.47320 35.52005, 7.47227 35.5...</td>\n      <td>4</td>\n      <td>Oum El Bouaghi</td>\n      <td>أم البواقي</td>\n    </tr>\n    <tr>\n      <th>3</th>\n      <td>BATNA</td>\n      <td>5</td>\n      <td>MULTIPOLYGON (((6.10102 35.05459, 6.10090 35.0...</td>\n      <td>5</td>\n      <td>Batna</td>\n      <td>باتنة</td>\n    </tr>\n    <tr>\n      <th>4</th>\n      <td>BEJAIA</td>\n      <td>6</td>\n      <td>MULTIPOLYGON (((4.39109 36.24618, 4.39083 36.2...</td>\n      <td>6</td>\n      <td>Béjaïa</td>\n      <td>بجاية</td>\n    </tr>\n  </tbody>\n</table>\n</div>"
     },
     "metadata": {},
     "execution_count": 137
    }
   ],
   "source": [
    "merged_gdf.head()"
   ]
  },
  {
   "cell_type": "code",
   "execution_count": 138,
   "metadata": {},
   "outputs": [
    {
     "output_type": "execute_result",
     "data": {
      "text/plain": [
       "                WILAYA  CODE  \\\n",
       "4               BEJAIA     6   \n",
       "6               BECHAR     8   \n",
       "10             TEBESSA    12   \n",
       "17               SETIF    19   \n",
       "18               SAIDA    20   \n",
       "20      SIDI BEL ABBES    22   \n",
       "24               MEDEA    26   \n",
       "31  BORDJ BOU ARRERIDJ    34   \n",
       "32           BOUMERDES    35   \n",
       "33             EL-TARF    36   \n",
       "38          SOUK-AHRAS    41   \n",
       "41           AIN-DEFLA    44   \n",
       "42               NAAMA    45   \n",
       "44            GHARDAIA    47   \n",
       "45      AIN TEMOUCHENT    46   \n",
       "\n",
       "                                             geometry  code  \\\n",
       "4   MULTIPOLYGON (((4.39109 36.24618, 4.39083 36.2...     6   \n",
       "6   MULTIPOLYGON (((-1.99524 28.79846, -1.99907 28...     8   \n",
       "10  MULTIPOLYGON (((7.36037 34.29662, 7.36034 34.2...    12   \n",
       "17  MULTIPOLYGON (((5.16925 35.70444, 5.16927 35.7...    19   \n",
       "18  MULTIPOLYGON (((0.72323 34.44284, 0.72288 34.4...    20   \n",
       "20  MULTIPOLYGON (((-0.89527 34.46142, -0.89564 34...    22   \n",
       "24  MULTIPOLYGON (((2.49405 35.51089, 2.49076 35.5...    26   \n",
       "31  MULTIPOLYGON (((4.94312 35.81929, 4.94275 35.8...    34   \n",
       "32  MULTIPOLYGON (((3.51546 36.60992, 3.51537 36.6...    35   \n",
       "33  MULTIPOLYGON (((8.02614 36.45937, 8.02509 36.4...    36   \n",
       "38  MULTIPOLYGON (((7.53798 35.88014, 7.53725 35.8...    41   \n",
       "41  MULTIPOLYGON (((1.72114 35.97917, 1.72102 35.9...    44   \n",
       "42  MULTIPOLYGON (((-0.99792 32.51558, -0.99799 32...    45   \n",
       "44  MULTIPOLYGON (((4.12740 33.01380, 4.14386 33.0...    47   \n",
       "45  MULTIPOLYGON (((-1.06748 35.12752, -1.06791 35...    46   \n",
       "\n",
       "                   nom        nom_ar  to_check  \n",
       "4               Béjaïa         بجاية      True  \n",
       "6               Béchar          بشار      True  \n",
       "10             Tébéssa          تبسة      True  \n",
       "17               Sétif          سطيف      True  \n",
       "18               Saïda         سعيدة      True  \n",
       "20      Sidi Bel Abbès   سيدي بلعباس      True  \n",
       "24               Médéa        المدية      True  \n",
       "31  Bordj Bou Arréridj  برج بوعريريج      True  \n",
       "32           Boumerdès       بومرداس      True  \n",
       "33             El Tarf        الطارف      True  \n",
       "38          Souk Ahras     سوق أهراس      True  \n",
       "41           Aïn Defla    عين الدفلى      True  \n",
       "42               Naâma       النعامة      True  \n",
       "44            Ghardaïa        غرداية      True  \n",
       "45      Aïn Témouchent    عين تموشنت      True  "
      ],
      "text/html": "<div>\n<style scoped>\n    .dataframe tbody tr th:only-of-type {\n        vertical-align: middle;\n    }\n\n    .dataframe tbody tr th {\n        vertical-align: top;\n    }\n\n    .dataframe thead th {\n        text-align: right;\n    }\n</style>\n<table border=\"1\" class=\"dataframe\">\n  <thead>\n    <tr style=\"text-align: right;\">\n      <th></th>\n      <th>WILAYA</th>\n      <th>CODE</th>\n      <th>geometry</th>\n      <th>code</th>\n      <th>nom</th>\n      <th>nom_ar</th>\n      <th>to_check</th>\n    </tr>\n  </thead>\n  <tbody>\n    <tr>\n      <th>4</th>\n      <td>BEJAIA</td>\n      <td>6</td>\n      <td>MULTIPOLYGON (((4.39109 36.24618, 4.39083 36.2...</td>\n      <td>6</td>\n      <td>Béjaïa</td>\n      <td>بجاية</td>\n      <td>True</td>\n    </tr>\n    <tr>\n      <th>6</th>\n      <td>BECHAR</td>\n      <td>8</td>\n      <td>MULTIPOLYGON (((-1.99524 28.79846, -1.99907 28...</td>\n      <td>8</td>\n      <td>Béchar</td>\n      <td>بشار</td>\n      <td>True</td>\n    </tr>\n    <tr>\n      <th>10</th>\n      <td>TEBESSA</td>\n      <td>12</td>\n      <td>MULTIPOLYGON (((7.36037 34.29662, 7.36034 34.2...</td>\n      <td>12</td>\n      <td>Tébéssa</td>\n      <td>تبسة</td>\n      <td>True</td>\n    </tr>\n    <tr>\n      <th>17</th>\n      <td>SETIF</td>\n      <td>19</td>\n      <td>MULTIPOLYGON (((5.16925 35.70444, 5.16927 35.7...</td>\n      <td>19</td>\n      <td>Sétif</td>\n      <td>سطيف</td>\n      <td>True</td>\n    </tr>\n    <tr>\n      <th>18</th>\n      <td>SAIDA</td>\n      <td>20</td>\n      <td>MULTIPOLYGON (((0.72323 34.44284, 0.72288 34.4...</td>\n      <td>20</td>\n      <td>Saïda</td>\n      <td>سعيدة</td>\n      <td>True</td>\n    </tr>\n    <tr>\n      <th>20</th>\n      <td>SIDI BEL ABBES</td>\n      <td>22</td>\n      <td>MULTIPOLYGON (((-0.89527 34.46142, -0.89564 34...</td>\n      <td>22</td>\n      <td>Sidi Bel Abbès</td>\n      <td>سيدي بلعباس</td>\n      <td>True</td>\n    </tr>\n    <tr>\n      <th>24</th>\n      <td>MEDEA</td>\n      <td>26</td>\n      <td>MULTIPOLYGON (((2.49405 35.51089, 2.49076 35.5...</td>\n      <td>26</td>\n      <td>Médéa</td>\n      <td>المدية</td>\n      <td>True</td>\n    </tr>\n    <tr>\n      <th>31</th>\n      <td>BORDJ BOU ARRERIDJ</td>\n      <td>34</td>\n      <td>MULTIPOLYGON (((4.94312 35.81929, 4.94275 35.8...</td>\n      <td>34</td>\n      <td>Bordj Bou Arréridj</td>\n      <td>برج بوعريريج</td>\n      <td>True</td>\n    </tr>\n    <tr>\n      <th>32</th>\n      <td>BOUMERDES</td>\n      <td>35</td>\n      <td>MULTIPOLYGON (((3.51546 36.60992, 3.51537 36.6...</td>\n      <td>35</td>\n      <td>Boumerdès</td>\n      <td>بومرداس</td>\n      <td>True</td>\n    </tr>\n    <tr>\n      <th>33</th>\n      <td>EL-TARF</td>\n      <td>36</td>\n      <td>MULTIPOLYGON (((8.02614 36.45937, 8.02509 36.4...</td>\n      <td>36</td>\n      <td>El Tarf</td>\n      <td>الطارف</td>\n      <td>True</td>\n    </tr>\n    <tr>\n      <th>38</th>\n      <td>SOUK-AHRAS</td>\n      <td>41</td>\n      <td>MULTIPOLYGON (((7.53798 35.88014, 7.53725 35.8...</td>\n      <td>41</td>\n      <td>Souk Ahras</td>\n      <td>سوق أهراس</td>\n      <td>True</td>\n    </tr>\n    <tr>\n      <th>41</th>\n      <td>AIN-DEFLA</td>\n      <td>44</td>\n      <td>MULTIPOLYGON (((1.72114 35.97917, 1.72102 35.9...</td>\n      <td>44</td>\n      <td>Aïn Defla</td>\n      <td>عين الدفلى</td>\n      <td>True</td>\n    </tr>\n    <tr>\n      <th>42</th>\n      <td>NAAMA</td>\n      <td>45</td>\n      <td>MULTIPOLYGON (((-0.99792 32.51558, -0.99799 32...</td>\n      <td>45</td>\n      <td>Naâma</td>\n      <td>النعامة</td>\n      <td>True</td>\n    </tr>\n    <tr>\n      <th>44</th>\n      <td>GHARDAIA</td>\n      <td>47</td>\n      <td>MULTIPOLYGON (((4.12740 33.01380, 4.14386 33.0...</td>\n      <td>47</td>\n      <td>Ghardaïa</td>\n      <td>غرداية</td>\n      <td>True</td>\n    </tr>\n    <tr>\n      <th>45</th>\n      <td>AIN TEMOUCHENT</td>\n      <td>46</td>\n      <td>MULTIPOLYGON (((-1.06748 35.12752, -1.06791 35...</td>\n      <td>46</td>\n      <td>Aïn Témouchent</td>\n      <td>عين تموشنت</td>\n      <td>True</td>\n    </tr>\n  </tbody>\n</table>\n</div>"
     },
     "metadata": {},
     "execution_count": 138
    }
   ],
   "source": [
    "# Add a flag to store cheking state\n",
    "merged_gdf['to_check'] = merged_gdf.apply(lambda row: (row.nom).lower() != str(row.WILAYA).lower(), axis=1)\n",
    "merged_gdf[merged_gdf.to_check == True]"
   ]
  },
  {
   "cell_type": "code",
   "execution_count": 139,
   "metadata": {},
   "outputs": [
    {
     "output_type": "execute_result",
     "data": {
      "text/plain": [
       "          nom_maj                                           geometry  code  \\\n",
       "0           CHLEF  MULTIPOLYGON (((1.55326 36.02990, 1.55325 36.0...     2   \n",
       "1        LAGHOUAT  MULTIPOLYGON (((2.88464 32.88137, 2.87848 32.8...     3   \n",
       "2  OUM EL BOUAGHI  MULTIPOLYGON (((7.47320 35.52005, 7.47227 35.5...     4   \n",
       "3           BATNA  MULTIPOLYGON (((6.10102 35.05459, 6.10090 35.0...     5   \n",
       "4          BEJAIA  MULTIPOLYGON (((4.39109 36.24618, 4.39083 36.2...     6   \n",
       "\n",
       "              nom      nom_ar  \n",
       "0           Chlef       الشلف  \n",
       "1        Laghouat      اﻷغواط  \n",
       "2  Oum El Bouaghi  أم البواقي  \n",
       "3           Batna       باتنة  \n",
       "4          Béjaïa       بجاية  "
      ],
      "text/html": "<div>\n<style scoped>\n    .dataframe tbody tr th:only-of-type {\n        vertical-align: middle;\n    }\n\n    .dataframe tbody tr th {\n        vertical-align: top;\n    }\n\n    .dataframe thead th {\n        text-align: right;\n    }\n</style>\n<table border=\"1\" class=\"dataframe\">\n  <thead>\n    <tr style=\"text-align: right;\">\n      <th></th>\n      <th>nom_maj</th>\n      <th>geometry</th>\n      <th>code</th>\n      <th>nom</th>\n      <th>nom_ar</th>\n    </tr>\n  </thead>\n  <tbody>\n    <tr>\n      <th>0</th>\n      <td>CHLEF</td>\n      <td>MULTIPOLYGON (((1.55326 36.02990, 1.55325 36.0...</td>\n      <td>2</td>\n      <td>Chlef</td>\n      <td>الشلف</td>\n    </tr>\n    <tr>\n      <th>1</th>\n      <td>LAGHOUAT</td>\n      <td>MULTIPOLYGON (((2.88464 32.88137, 2.87848 32.8...</td>\n      <td>3</td>\n      <td>Laghouat</td>\n      <td>اﻷغواط</td>\n    </tr>\n    <tr>\n      <th>2</th>\n      <td>OUM EL BOUAGHI</td>\n      <td>MULTIPOLYGON (((7.47320 35.52005, 7.47227 35.5...</td>\n      <td>4</td>\n      <td>Oum El Bouaghi</td>\n      <td>أم البواقي</td>\n    </tr>\n    <tr>\n      <th>3</th>\n      <td>BATNA</td>\n      <td>MULTIPOLYGON (((6.10102 35.05459, 6.10090 35.0...</td>\n      <td>5</td>\n      <td>Batna</td>\n      <td>باتنة</td>\n    </tr>\n    <tr>\n      <th>4</th>\n      <td>BEJAIA</td>\n      <td>MULTIPOLYGON (((4.39109 36.24618, 4.39083 36.2...</td>\n      <td>6</td>\n      <td>Béjaïa</td>\n      <td>بجاية</td>\n    </tr>\n  </tbody>\n</table>\n</div>"
     },
     "metadata": {},
     "execution_count": 139
    }
   ],
   "source": [
    "# Reorder and rename columns\n",
    "merged_gdf.drop(columns=['CODE', 'to_check'], inplace=True)\n",
    "merged_gdf.rename(columns={\"WILAYA\": \"nom_maj\"}, inplace=True)\n",
    "merged_gdf.head()"
   ]
  },
  {
   "cell_type": "code",
   "execution_count": 141,
   "metadata": {},
   "outputs": [
    {
     "output_type": "execute_result",
     "data": {
      "text/plain": [
       "   code             nom         nom_maj      nom_ar  \\\n",
       "0     2           Chlef           CHLEF       الشلف   \n",
       "1     3        Laghouat        LAGHOUAT      اﻷغواط   \n",
       "2     4  Oum El Bouaghi  OUM EL BOUAGHI  أم البواقي   \n",
       "3     5           Batna           BATNA       باتنة   \n",
       "4     6          Béjaïa          BEJAIA       بجاية   \n",
       "\n",
       "                                            geometry  \n",
       "0  MULTIPOLYGON (((1.55326 36.02990, 1.55325 36.0...  \n",
       "1  MULTIPOLYGON (((2.88464 32.88137, 2.87848 32.8...  \n",
       "2  MULTIPOLYGON (((7.47320 35.52005, 7.47227 35.5...  \n",
       "3  MULTIPOLYGON (((6.10102 35.05459, 6.10090 35.0...  \n",
       "4  MULTIPOLYGON (((4.39109 36.24618, 4.39083 36.2...  "
      ],
      "text/html": "<div>\n<style scoped>\n    .dataframe tbody tr th:only-of-type {\n        vertical-align: middle;\n    }\n\n    .dataframe tbody tr th {\n        vertical-align: top;\n    }\n\n    .dataframe thead th {\n        text-align: right;\n    }\n</style>\n<table border=\"1\" class=\"dataframe\">\n  <thead>\n    <tr style=\"text-align: right;\">\n      <th></th>\n      <th>code</th>\n      <th>nom</th>\n      <th>nom_maj</th>\n      <th>nom_ar</th>\n      <th>geometry</th>\n    </tr>\n  </thead>\n  <tbody>\n    <tr>\n      <th>0</th>\n      <td>2</td>\n      <td>Chlef</td>\n      <td>CHLEF</td>\n      <td>الشلف</td>\n      <td>MULTIPOLYGON (((1.55326 36.02990, 1.55325 36.0...</td>\n    </tr>\n    <tr>\n      <th>1</th>\n      <td>3</td>\n      <td>Laghouat</td>\n      <td>LAGHOUAT</td>\n      <td>اﻷغواط</td>\n      <td>MULTIPOLYGON (((2.88464 32.88137, 2.87848 32.8...</td>\n    </tr>\n    <tr>\n      <th>2</th>\n      <td>4</td>\n      <td>Oum El Bouaghi</td>\n      <td>OUM EL BOUAGHI</td>\n      <td>أم البواقي</td>\n      <td>MULTIPOLYGON (((7.47320 35.52005, 7.47227 35.5...</td>\n    </tr>\n    <tr>\n      <th>3</th>\n      <td>5</td>\n      <td>Batna</td>\n      <td>BATNA</td>\n      <td>باتنة</td>\n      <td>MULTIPOLYGON (((6.10102 35.05459, 6.10090 35.0...</td>\n    </tr>\n    <tr>\n      <th>4</th>\n      <td>6</td>\n      <td>Béjaïa</td>\n      <td>BEJAIA</td>\n      <td>بجاية</td>\n      <td>MULTIPOLYGON (((4.39109 36.24618, 4.39083 36.2...</td>\n    </tr>\n  </tbody>\n</table>\n</div>"
     },
     "metadata": {},
     "execution_count": 141
    }
   ],
   "source": [
    "wilayas_gdf = merged_gdf[['code', 'nom', 'nom_maj', 'nom_ar', 'geometry']]\n",
    "wilayas_gdf.head()"
   ]
  },
  {
   "cell_type": "code",
   "execution_count": 142,
   "metadata": {},
   "outputs": [
    {
     "output_type": "execute_result",
     "data": {
      "text/plain": [
       "   code             nom         nom_maj      nom_ar  \\\n",
       "0     1           Adrar           ADRAR       أدرار   \n",
       "1     2           Chlef           CHLEF       الشلف   \n",
       "2     3        Laghouat        LAGHOUAT      اﻷغواط   \n",
       "3     4  Oum El Bouaghi  OUM EL BOUAGHI  أم البواقي   \n",
       "4     5           Batna           BATNA       باتنة   \n",
       "\n",
       "                                            geometry  \n",
       "0  MULTIPOLYGON (((1.33461 20.72282, 1.32667 20.7...  \n",
       "1  MULTIPOLYGON (((1.55326 36.02990, 1.55325 36.0...  \n",
       "2  MULTIPOLYGON (((2.88464 32.88137, 2.87848 32.8...  \n",
       "3  MULTIPOLYGON (((7.47320 35.52005, 7.47227 35.5...  \n",
       "4  MULTIPOLYGON (((6.10102 35.05459, 6.10090 35.0...  "
      ],
      "text/html": "<div>\n<style scoped>\n    .dataframe tbody tr th:only-of-type {\n        vertical-align: middle;\n    }\n\n    .dataframe tbody tr th {\n        vertical-align: top;\n    }\n\n    .dataframe thead th {\n        text-align: right;\n    }\n</style>\n<table border=\"1\" class=\"dataframe\">\n  <thead>\n    <tr style=\"text-align: right;\">\n      <th></th>\n      <th>code</th>\n      <th>nom</th>\n      <th>nom_maj</th>\n      <th>nom_ar</th>\n      <th>geometry</th>\n    </tr>\n  </thead>\n  <tbody>\n    <tr>\n      <th>0</th>\n      <td>1</td>\n      <td>Adrar</td>\n      <td>ADRAR</td>\n      <td>أدرار</td>\n      <td>MULTIPOLYGON (((1.33461 20.72282, 1.32667 20.7...</td>\n    </tr>\n    <tr>\n      <th>1</th>\n      <td>2</td>\n      <td>Chlef</td>\n      <td>CHLEF</td>\n      <td>الشلف</td>\n      <td>MULTIPOLYGON (((1.55326 36.02990, 1.55325 36.0...</td>\n    </tr>\n    <tr>\n      <th>2</th>\n      <td>3</td>\n      <td>Laghouat</td>\n      <td>LAGHOUAT</td>\n      <td>اﻷغواط</td>\n      <td>MULTIPOLYGON (((2.88464 32.88137, 2.87848 32.8...</td>\n    </tr>\n    <tr>\n      <th>3</th>\n      <td>4</td>\n      <td>Oum El Bouaghi</td>\n      <td>OUM EL BOUAGHI</td>\n      <td>أم البواقي</td>\n      <td>MULTIPOLYGON (((7.47320 35.52005, 7.47227 35.5...</td>\n    </tr>\n    <tr>\n      <th>4</th>\n      <td>5</td>\n      <td>Batna</td>\n      <td>BATNA</td>\n      <td>باتنة</td>\n      <td>MULTIPOLYGON (((6.10102 35.05459, 6.10090 35.0...</td>\n    </tr>\n  </tbody>\n</table>\n</div>"
     },
     "metadata": {},
     "execution_count": 142
    }
   ],
   "source": [
    "# Sort the DataFrame by code (Wilaya number) and reset the index\n",
    "wilayas_gdf = wilayas_gdf.sort_values(by=['code'],ignore_index=True)\n",
    "wilayas_gdf.reset_index(drop=True)\n",
    "wilayas_gdf.head()"
   ]
  },
  {
   "cell_type": "code",
   "execution_count": 147,
   "metadata": {},
   "outputs": [],
   "source": [
    "# Write to GeoJSON and CSV files\n",
    "wilayas_gdf.to_file(\"wilayas_48.geojson\", driver='GeoJSON')\n",
    "\n",
    "wilayas_df = pd.DataFrame(wilayas_gdf[['code', 'nom', 'nom_maj', 'nom_ar']])\n",
    "wilayas_df.to_csv(\"wilayas_48.csv\")"
   ]
  }
 ]
}