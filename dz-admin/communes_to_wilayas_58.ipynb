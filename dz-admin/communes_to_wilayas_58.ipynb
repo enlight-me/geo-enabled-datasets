{
 "metadata": {
  "language_info": {
   "codemirror_mode": {
    "name": "ipython",
    "version": 3
   },
   "file_extension": ".py",
   "mimetype": "text/x-python",
   "name": "python",
   "nbconvert_exporter": "python",
   "pygments_lexer": "ipython3",
   "version": "3.8.5"
  },
  "orig_nbformat": 2,
  "kernelspec": {
   "name": "python38564bitc5dda015dcc140dba795e9b0465f9f9d",
   "display_name": "Python 3.8.5 64-bit"
  },
  "metadata": {
   "interpreter": {
    "hash": "916dbcbb3f70747c44a77c7bcd40155683ae19c65e1c03b4aa3499c5328201f1"
   }
  }
 },
 "nbformat": 4,
 "nbformat_minor": 2,
 "cells": [
  {
   "cell_type": "code",
   "execution_count": 7,
   "metadata": {},
   "outputs": [],
   "source": [
    "import pandas as pd \n",
    "import geopandas as gpd \n",
    "from shapely.geometry import Point\n",
    "import numpy as np \n",
    "import jellyfish"
   ]
  },
  {
   "cell_type": "code",
   "execution_count": 8,
   "metadata": {},
   "outputs": [
    {
     "output_type": "execute_result",
     "data": {
      "text/plain": [
       "      code_48  code_58  code_5          nom      nom_maj       nom_ar  \\\n",
       "1536     3924     5707   39024       Tendla       TENDLA        تندلة   \n",
       "1537     3922     5708   39022      M'Rara.      M'RARA.        مرارة   \n",
       "1538     4702     5801   47002    El Meniaâ    EL MENIAÂ      المنيعة   \n",
       "1539     4712     5802   47012   Hassi Gara   HASSI GARA  حاسي القارة   \n",
       "1540     4711     5803   47011  Hassi Fehal  HASSI FEHAL   حاسي الفحل   \n",
       "\n",
       "      code_wil                                           geometry  \n",
       "1536        57  MULTIPOLYGON (((5.39159 33.82386, 5.60398 33.7...  \n",
       "1537        57  MULTIPOLYGON (((5.27165 33.74179, 5.27204 33.7...  \n",
       "1538        58  MULTIPOLYGON (((2.05990 31.65914, 2.07683 31.6...  \n",
       "1539        58  MULTIPOLYGON (((4.03471 30.60033, 4.03410 30.5...  \n",
       "1540        58  MULTIPOLYGON (((2.36121 32.26114, 2.50097 32.2...  "
      ],
      "text/html": "<div>\n<style scoped>\n    .dataframe tbody tr th:only-of-type {\n        vertical-align: middle;\n    }\n\n    .dataframe tbody tr th {\n        vertical-align: top;\n    }\n\n    .dataframe thead th {\n        text-align: right;\n    }\n</style>\n<table border=\"1\" class=\"dataframe\">\n  <thead>\n    <tr style=\"text-align: right;\">\n      <th></th>\n      <th>code_48</th>\n      <th>code_58</th>\n      <th>code_5</th>\n      <th>nom</th>\n      <th>nom_maj</th>\n      <th>nom_ar</th>\n      <th>code_wil</th>\n      <th>geometry</th>\n    </tr>\n  </thead>\n  <tbody>\n    <tr>\n      <th>1536</th>\n      <td>3924</td>\n      <td>5707</td>\n      <td>39024</td>\n      <td>Tendla</td>\n      <td>TENDLA</td>\n      <td>تندلة</td>\n      <td>57</td>\n      <td>MULTIPOLYGON (((5.39159 33.82386, 5.60398 33.7...</td>\n    </tr>\n    <tr>\n      <th>1537</th>\n      <td>3922</td>\n      <td>5708</td>\n      <td>39022</td>\n      <td>M'Rara.</td>\n      <td>M'RARA.</td>\n      <td>مرارة</td>\n      <td>57</td>\n      <td>MULTIPOLYGON (((5.27165 33.74179, 5.27204 33.7...</td>\n    </tr>\n    <tr>\n      <th>1538</th>\n      <td>4702</td>\n      <td>5801</td>\n      <td>47002</td>\n      <td>El Meniaâ</td>\n      <td>EL MENIAÂ</td>\n      <td>المنيعة</td>\n      <td>58</td>\n      <td>MULTIPOLYGON (((2.05990 31.65914, 2.07683 31.6...</td>\n    </tr>\n    <tr>\n      <th>1539</th>\n      <td>4712</td>\n      <td>5802</td>\n      <td>47012</td>\n      <td>Hassi Gara</td>\n      <td>HASSI GARA</td>\n      <td>حاسي القارة</td>\n      <td>58</td>\n      <td>MULTIPOLYGON (((4.03471 30.60033, 4.03410 30.5...</td>\n    </tr>\n    <tr>\n      <th>1540</th>\n      <td>4711</td>\n      <td>5803</td>\n      <td>47011</td>\n      <td>Hassi Fehal</td>\n      <td>HASSI FEHAL</td>\n      <td>حاسي الفحل</td>\n      <td>58</td>\n      <td>MULTIPOLYGON (((2.36121 32.26114, 2.50097 32.2...</td>\n    </tr>\n  </tbody>\n</table>\n</div>"
     },
     "metadata": {},
     "execution_count": 8
    }
   ],
   "source": [
    "# Load Communes GeoJSON Features \n",
    "communes_json_gdf = gpd.read_file('communes_58.geojson')\n",
    "communes_json_gdf.tail()"
   ]
  },
  {
   "cell_type": "code",
   "execution_count": null,
   "metadata": {},
   "outputs": [],
   "source": []
  }
 ]
}