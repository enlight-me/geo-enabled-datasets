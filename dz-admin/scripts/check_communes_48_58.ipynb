{
 "metadata": {
  "language_info": {
   "codemirror_mode": {
    "name": "ipython",
    "version": 3
   },
   "file_extension": ".py",
   "mimetype": "text/x-python",
   "name": "python",
   "nbconvert_exporter": "python",
   "pygments_lexer": "ipython3",
   "version": "3.8.5"
  },
  "orig_nbformat": 2,
  "kernelspec": {
   "name": "python38564bitc5dda015dcc140dba795e9b0465f9f9d",
   "display_name": "Python 3.8.5 64-bit"
  },
  "metadata": {
   "interpreter": {
    "hash": "916dbcbb3f70747c44a77c7bcd40155683ae19c65e1c03b4aa3499c5328201f1"
   }
  }
 },
 "nbformat": 4,
 "nbformat_minor": 2,
 "cells": [
  {
   "cell_type": "code",
   "execution_count": 1,
   "metadata": {},
   "outputs": [],
   "source": [
    "import pandas as pd \n",
    "import geopandas as gpd \n",
    "from shapely.geometry import Point\n",
    "import numpy as np \n",
    "import jellyfish"
   ]
  },
  {
   "cell_type": "code",
   "execution_count": 2,
   "metadata": {},
   "outputs": [
    {
     "output_type": "execute_result",
     "data": {
      "text/plain": [
       "   num  code  code_5        nom    nom_maj  code_wil\n",
       "0    1   101    1001      Adrar      ADRAR         1\n",
       "1    2   102    1002     Tamest     TAMEST         1\n",
       "2    3   103    1003  Charouine  GHAROUINE         1\n",
       "3    4   104    1004    Reggane    REGGANE         1\n",
       "4    5   105    1005   Inzegmir   INZEGMIR         1"
      ],
      "text/html": "<div>\n<style scoped>\n    .dataframe tbody tr th:only-of-type {\n        vertical-align: middle;\n    }\n\n    .dataframe tbody tr th {\n        vertical-align: top;\n    }\n\n    .dataframe thead th {\n        text-align: right;\n    }\n</style>\n<table border=\"1\" class=\"dataframe\">\n  <thead>\n    <tr style=\"text-align: right;\">\n      <th></th>\n      <th>num</th>\n      <th>code</th>\n      <th>code_5</th>\n      <th>nom</th>\n      <th>nom_maj</th>\n      <th>code_wil</th>\n    </tr>\n  </thead>\n  <tbody>\n    <tr>\n      <th>0</th>\n      <td>1</td>\n      <td>101</td>\n      <td>1001</td>\n      <td>Adrar</td>\n      <td>ADRAR</td>\n      <td>1</td>\n    </tr>\n    <tr>\n      <th>1</th>\n      <td>2</td>\n      <td>102</td>\n      <td>1002</td>\n      <td>Tamest</td>\n      <td>TAMEST</td>\n      <td>1</td>\n    </tr>\n    <tr>\n      <th>2</th>\n      <td>3</td>\n      <td>103</td>\n      <td>1003</td>\n      <td>Charouine</td>\n      <td>GHAROUINE</td>\n      <td>1</td>\n    </tr>\n    <tr>\n      <th>3</th>\n      <td>4</td>\n      <td>104</td>\n      <td>1004</td>\n      <td>Reggane</td>\n      <td>REGGANE</td>\n      <td>1</td>\n    </tr>\n    <tr>\n      <th>4</th>\n      <td>5</td>\n      <td>105</td>\n      <td>1005</td>\n      <td>Inzegmir</td>\n      <td>INZEGMIR</td>\n      <td>1</td>\n    </tr>\n  </tbody>\n</table>\n</div>"
     },
     "metadata": {},
     "execution_count": 2
    }
   ],
   "source": [
    "# Load Communes 48 CSV Features \n",
    "communes48_csv_df = pd.read_csv('communes_48.csv')\n",
    "communes48_csv_df.head()"
   ]
  },
  {
   "cell_type": "code",
   "execution_count": 3,
   "metadata": {},
   "outputs": [
    {
     "output_type": "execute_result",
     "data": {
      "text/plain": [
       "   code_wil  code_48  code_58       nom   nom_maj  nom_ar\n",
       "0         1      101      101     Adrar     ADRAR   أدرار\n",
       "1         1      115      102  Fenoghil  FENOGHIL  فنوغيل\n",
       "2         1      102      103    Tamest    TAMEST  تاماست\n",
       "3         1      104      104   Reggane   REGGANE    رقان\n",
       "4         1      118      105      Sali      SALI    سالي"
      ],
      "text/html": "<div>\n<style scoped>\n    .dataframe tbody tr th:only-of-type {\n        vertical-align: middle;\n    }\n\n    .dataframe tbody tr th {\n        vertical-align: top;\n    }\n\n    .dataframe thead th {\n        text-align: right;\n    }\n</style>\n<table border=\"1\" class=\"dataframe\">\n  <thead>\n    <tr style=\"text-align: right;\">\n      <th></th>\n      <th>code_wil</th>\n      <th>code_48</th>\n      <th>code_58</th>\n      <th>nom</th>\n      <th>nom_maj</th>\n      <th>nom_ar</th>\n    </tr>\n  </thead>\n  <tbody>\n    <tr>\n      <th>0</th>\n      <td>1</td>\n      <td>101</td>\n      <td>101</td>\n      <td>Adrar</td>\n      <td>ADRAR</td>\n      <td>أدرار</td>\n    </tr>\n    <tr>\n      <th>1</th>\n      <td>1</td>\n      <td>115</td>\n      <td>102</td>\n      <td>Fenoghil</td>\n      <td>FENOGHIL</td>\n      <td>فنوغيل</td>\n    </tr>\n    <tr>\n      <th>2</th>\n      <td>1</td>\n      <td>102</td>\n      <td>103</td>\n      <td>Tamest</td>\n      <td>TAMEST</td>\n      <td>تاماست</td>\n    </tr>\n    <tr>\n      <th>3</th>\n      <td>1</td>\n      <td>104</td>\n      <td>104</td>\n      <td>Reggane</td>\n      <td>REGGANE</td>\n      <td>رقان</td>\n    </tr>\n    <tr>\n      <th>4</th>\n      <td>1</td>\n      <td>118</td>\n      <td>105</td>\n      <td>Sali</td>\n      <td>SALI</td>\n      <td>سالي</td>\n    </tr>\n  </tbody>\n</table>\n</div>"
     },
     "metadata": {},
     "execution_count": 3
    }
   ],
   "source": [
    "# Load Communes 58 CSV Features \n",
    "communes58_csv_df = pd.read_csv('communes_58.csv')\n",
    "communes58_csv_df.head()"
   ]
  },
  {
   "cell_type": "code",
   "execution_count": 4,
   "metadata": {},
   "outputs": [
    {
     "output_type": "execute_result",
     "data": {
      "text/plain": [
       "   code  code_5        nom    nom_maj  code_wil  \\\n",
       "0   101    1001      Adrar      ADRAR         1   \n",
       "1   102    1002     Tamest     TAMEST         1   \n",
       "2   103    1003  Charouine  GHAROUINE         1   \n",
       "3   104    1004    Reggane    REGGANE         1   \n",
       "4   105    1005   Inzegmir   INZEGMIR         1   \n",
       "\n",
       "                                            geometry  \n",
       "0  MULTIPOLYGON (((-0.22565 28.08656, -0.04751 28...  \n",
       "1  MULTIPOLYGON (((-2.98197 27.50450, -2.49629 27...  \n",
       "2  MULTIPOLYGON (((-0.16269 28.96347, -0.21556 28...  \n",
       "3  MULTIPOLYGON (((0.51798 26.92294, 0.90476 26.2...  \n",
       "4  MULTIPOLYGON (((0.47629 27.06526, 0.28392 27.0...  "
      ],
      "text/html": "<div>\n<style scoped>\n    .dataframe tbody tr th:only-of-type {\n        vertical-align: middle;\n    }\n\n    .dataframe tbody tr th {\n        vertical-align: top;\n    }\n\n    .dataframe thead th {\n        text-align: right;\n    }\n</style>\n<table border=\"1\" class=\"dataframe\">\n  <thead>\n    <tr style=\"text-align: right;\">\n      <th></th>\n      <th>code</th>\n      <th>code_5</th>\n      <th>nom</th>\n      <th>nom_maj</th>\n      <th>code_wil</th>\n      <th>geometry</th>\n    </tr>\n  </thead>\n  <tbody>\n    <tr>\n      <th>0</th>\n      <td>101</td>\n      <td>1001</td>\n      <td>Adrar</td>\n      <td>ADRAR</td>\n      <td>1</td>\n      <td>MULTIPOLYGON (((-0.22565 28.08656, -0.04751 28...</td>\n    </tr>\n    <tr>\n      <th>1</th>\n      <td>102</td>\n      <td>1002</td>\n      <td>Tamest</td>\n      <td>TAMEST</td>\n      <td>1</td>\n      <td>MULTIPOLYGON (((-2.98197 27.50450, -2.49629 27...</td>\n    </tr>\n    <tr>\n      <th>2</th>\n      <td>103</td>\n      <td>1003</td>\n      <td>Charouine</td>\n      <td>GHAROUINE</td>\n      <td>1</td>\n      <td>MULTIPOLYGON (((-0.16269 28.96347, -0.21556 28...</td>\n    </tr>\n    <tr>\n      <th>3</th>\n      <td>104</td>\n      <td>1004</td>\n      <td>Reggane</td>\n      <td>REGGANE</td>\n      <td>1</td>\n      <td>MULTIPOLYGON (((0.51798 26.92294, 0.90476 26.2...</td>\n    </tr>\n    <tr>\n      <th>4</th>\n      <td>105</td>\n      <td>1005</td>\n      <td>Inzegmir</td>\n      <td>INZEGMIR</td>\n      <td>1</td>\n      <td>MULTIPOLYGON (((0.47629 27.06526, 0.28392 27.0...</td>\n    </tr>\n  </tbody>\n</table>\n</div>"
     },
     "metadata": {},
     "execution_count": 4
    }
   ],
   "source": [
    "# Load Communes GeoJSON Features \n",
    "communes_json_gdf = gpd.read_file('communes_48.geojson')\n",
    "communes_json_gdf.head()"
   ]
  },
  {
   "cell_type": "code",
   "execution_count": 5,
   "metadata": {},
   "outputs": [
    {
     "output_type": "execute_result",
     "data": {
      "text/plain": [
       "code_wil_x    1541\n",
       "code_48       1541\n",
       "code_58       1541\n",
       "nom_x         1541\n",
       "nom_maj_x     1541\n",
       "nom_ar         202\n",
       "num           1541\n",
       "code          1541\n",
       "code_5        1541\n",
       "nom_y         1541\n",
       "nom_maj_y     1541\n",
       "code_wil_y    1541\n",
       "dtype: int64"
      ]
     },
     "metadata": {},
     "execution_count": 5
    }
   ],
   "source": [
    "# Merge Communes 48 and 58 \n",
    "merged_df = communes58_csv_df.merge(communes48_csv_df, left_on='code_48', right_on='code', how='left')\n",
    "merged_df.count()"
   ]
  },
  {
   "cell_type": "code",
   "execution_count": 6,
   "metadata": {},
   "outputs": [
    {
     "output_type": "execute_result",
     "data": {
      "text/plain": [
       "      code_wil_x  code_48  code_58        nom_x    nom_maj_x       nom_ar  \\\n",
       "0              1      101      101        Adrar        ADRAR        أدرار   \n",
       "1              1      115      102     Fenoghil     FENOGHIL       فنوغيل   \n",
       "2              1      102      103       Tamest       TAMEST       تاماست   \n",
       "3              1      104      104      Reggane      REGGANE         رقان   \n",
       "4              1      118      105         Sali         SALI         سالي   \n",
       "...          ...      ...      ...          ...          ...          ...   \n",
       "1536          57     3924     5707       Tendla       TENDLA        تندلة   \n",
       "1537          57     3922     5708      M'Rara.      M'RARA.        مرارة   \n",
       "1538          58     4702     5801    El Meniaâ    EL MENIAÂ      المنيعة   \n",
       "1539          58     4712     5802   Hassi Gara   HASSI GARA  حاسي القارة   \n",
       "1540          58     4711     5803  Hassi Fehal  HASSI FEHAL   حاسي الفحل   \n",
       "\n",
       "       num  code  code_5           nom_y       nom_maj_y  code_wil_y  \n",
       "0        1   101    1001           Adrar           ADRAR           1  \n",
       "1       15   115    1015       Fenoughil       FENOUGHIL           1  \n",
       "2        2   102    1002          Tamest          TAMEST           1  \n",
       "3        4   104    1004         Reggane         REGGANE           1  \n",
       "4       18   118    1018            Sali            SALI           1  \n",
       "...    ...   ...     ...             ...             ...         ...  \n",
       "1536  1301  3924   39024          Tendla          TENDLA          39  \n",
       "1537  1299  3922   39022           Mrara           MRARA          39  \n",
       "1538  1492  4702   47002       El Meniaa       EL MENIAA          47  \n",
       "1539  1502  4712   47012  Hassi El Garaa  HASSI EL GARAA          47  \n",
       "1540  1501  4711   47011     Hassi Fehal    HASSI LEFHAL          47  \n",
       "\n",
       "[1541 rows x 12 columns]"
      ],
      "text/html": "<div>\n<style scoped>\n    .dataframe tbody tr th:only-of-type {\n        vertical-align: middle;\n    }\n\n    .dataframe tbody tr th {\n        vertical-align: top;\n    }\n\n    .dataframe thead th {\n        text-align: right;\n    }\n</style>\n<table border=\"1\" class=\"dataframe\">\n  <thead>\n    <tr style=\"text-align: right;\">\n      <th></th>\n      <th>code_wil_x</th>\n      <th>code_48</th>\n      <th>code_58</th>\n      <th>nom_x</th>\n      <th>nom_maj_x</th>\n      <th>nom_ar</th>\n      <th>num</th>\n      <th>code</th>\n      <th>code_5</th>\n      <th>nom_y</th>\n      <th>nom_maj_y</th>\n      <th>code_wil_y</th>\n    </tr>\n  </thead>\n  <tbody>\n    <tr>\n      <th>0</th>\n      <td>1</td>\n      <td>101</td>\n      <td>101</td>\n      <td>Adrar</td>\n      <td>ADRAR</td>\n      <td>أدرار</td>\n      <td>1</td>\n      <td>101</td>\n      <td>1001</td>\n      <td>Adrar</td>\n      <td>ADRAR</td>\n      <td>1</td>\n    </tr>\n    <tr>\n      <th>1</th>\n      <td>1</td>\n      <td>115</td>\n      <td>102</td>\n      <td>Fenoghil</td>\n      <td>FENOGHIL</td>\n      <td>فنوغيل</td>\n      <td>15</td>\n      <td>115</td>\n      <td>1015</td>\n      <td>Fenoughil</td>\n      <td>FENOUGHIL</td>\n      <td>1</td>\n    </tr>\n    <tr>\n      <th>2</th>\n      <td>1</td>\n      <td>102</td>\n      <td>103</td>\n      <td>Tamest</td>\n      <td>TAMEST</td>\n      <td>تاماست</td>\n      <td>2</td>\n      <td>102</td>\n      <td>1002</td>\n      <td>Tamest</td>\n      <td>TAMEST</td>\n      <td>1</td>\n    </tr>\n    <tr>\n      <th>3</th>\n      <td>1</td>\n      <td>104</td>\n      <td>104</td>\n      <td>Reggane</td>\n      <td>REGGANE</td>\n      <td>رقان</td>\n      <td>4</td>\n      <td>104</td>\n      <td>1004</td>\n      <td>Reggane</td>\n      <td>REGGANE</td>\n      <td>1</td>\n    </tr>\n    <tr>\n      <th>4</th>\n      <td>1</td>\n      <td>118</td>\n      <td>105</td>\n      <td>Sali</td>\n      <td>SALI</td>\n      <td>سالي</td>\n      <td>18</td>\n      <td>118</td>\n      <td>1018</td>\n      <td>Sali</td>\n      <td>SALI</td>\n      <td>1</td>\n    </tr>\n    <tr>\n      <th>...</th>\n      <td>...</td>\n      <td>...</td>\n      <td>...</td>\n      <td>...</td>\n      <td>...</td>\n      <td>...</td>\n      <td>...</td>\n      <td>...</td>\n      <td>...</td>\n      <td>...</td>\n      <td>...</td>\n      <td>...</td>\n    </tr>\n    <tr>\n      <th>1536</th>\n      <td>57</td>\n      <td>3924</td>\n      <td>5707</td>\n      <td>Tendla</td>\n      <td>TENDLA</td>\n      <td>تندلة</td>\n      <td>1301</td>\n      <td>3924</td>\n      <td>39024</td>\n      <td>Tendla</td>\n      <td>TENDLA</td>\n      <td>39</td>\n    </tr>\n    <tr>\n      <th>1537</th>\n      <td>57</td>\n      <td>3922</td>\n      <td>5708</td>\n      <td>M'Rara.</td>\n      <td>M'RARA.</td>\n      <td>مرارة</td>\n      <td>1299</td>\n      <td>3922</td>\n      <td>39022</td>\n      <td>Mrara</td>\n      <td>MRARA</td>\n      <td>39</td>\n    </tr>\n    <tr>\n      <th>1538</th>\n      <td>58</td>\n      <td>4702</td>\n      <td>5801</td>\n      <td>El Meniaâ</td>\n      <td>EL MENIAÂ</td>\n      <td>المنيعة</td>\n      <td>1492</td>\n      <td>4702</td>\n      <td>47002</td>\n      <td>El Meniaa</td>\n      <td>EL MENIAA</td>\n      <td>47</td>\n    </tr>\n    <tr>\n      <th>1539</th>\n      <td>58</td>\n      <td>4712</td>\n      <td>5802</td>\n      <td>Hassi Gara</td>\n      <td>HASSI GARA</td>\n      <td>حاسي القارة</td>\n      <td>1502</td>\n      <td>4712</td>\n      <td>47012</td>\n      <td>Hassi El Garaa</td>\n      <td>HASSI EL GARAA</td>\n      <td>47</td>\n    </tr>\n    <tr>\n      <th>1540</th>\n      <td>58</td>\n      <td>4711</td>\n      <td>5803</td>\n      <td>Hassi Fehal</td>\n      <td>HASSI FEHAL</td>\n      <td>حاسي الفحل</td>\n      <td>1501</td>\n      <td>4711</td>\n      <td>47011</td>\n      <td>Hassi Fehal</td>\n      <td>HASSI LEFHAL</td>\n      <td>47</td>\n    </tr>\n  </tbody>\n</table>\n<p>1541 rows × 12 columns</p>\n</div>"
     },
     "metadata": {},
     "execution_count": 6
    }
   ],
   "source": [
    "merged_df"
   ]
  },
  {
   "cell_type": "code",
   "execution_count": 7,
   "metadata": {},
   "outputs": [
    {
     "output_type": "execute_result",
     "data": {
      "text/plain": [
       "      code_wil_x  code_48  code_58              nom_x          nom_maj_x  \\\n",
       "5              1      105      106          In Zghmir          IN ZGHMIR   \n",
       "1443          47     4713     4710           Mansoura           MANSOURA   \n",
       "1498          51      710     5105             Chaïba             CHAÏBA   \n",
       "1511          53     1110     5302  Foggaret Ezzaouia  FOGGARET EZZAOUIA   \n",
       "1529          56     3305     5602  Bordj El Haouasse  BORDJ EL HAOUASSE   \n",
       "1530          57     3927     5701         El Megaier         EL MEGAIER   \n",
       "1531          57     3929     5702        Oum Touyour        OUM TOUYOUR   \n",
       "1539          58     4712     5802         Hassi Gara         HASSI GARA   \n",
       "\n",
       "             nom_ar   num  code  code_5               nom_y  \\\n",
       "5          إن زغمير     5   105    1005            Inzegmir   \n",
       "1443       المنصورة  1503  4713   47013         El Mansoura   \n",
       "1498        الشعيبة   239   710    7010          Ech Chaiba   \n",
       "1511  فقارت الزاوية   363  1110   11010  Foggarat Ez Zouaia   \n",
       "1529     برج الحواس  1162  3305   33005     Bordj El Haoues   \n",
       "1530         المغير  1304  3927   39027           El Mghair   \n",
       "1531      أم الطيور  1306  3929   39029           Oum Tiour   \n",
       "1539    حاسي القارة  1502  4712   47012      Hassi El Garaa   \n",
       "\n",
       "                nom_maj_y  code_wil_y  similarity  \n",
       "5                INZEGMIR           1           3  \n",
       "1443          EL MANSOURA          47           3  \n",
       "1498           ECH CHAIBA           7           5  \n",
       "1511  FOUGGARAT EZ ZOUAIA          11           4  \n",
       "1529      BORDJ EL HAOUES          33           3  \n",
       "1530            EL MGHAIR          39           3  \n",
       "1531            OUM TIOUR          39           3  \n",
       "1539       HASSI EL GARAA          47           4  "
      ],
      "text/html": "<div>\n<style scoped>\n    .dataframe tbody tr th:only-of-type {\n        vertical-align: middle;\n    }\n\n    .dataframe tbody tr th {\n        vertical-align: top;\n    }\n\n    .dataframe thead th {\n        text-align: right;\n    }\n</style>\n<table border=\"1\" class=\"dataframe\">\n  <thead>\n    <tr style=\"text-align: right;\">\n      <th></th>\n      <th>code_wil_x</th>\n      <th>code_48</th>\n      <th>code_58</th>\n      <th>nom_x</th>\n      <th>nom_maj_x</th>\n      <th>nom_ar</th>\n      <th>num</th>\n      <th>code</th>\n      <th>code_5</th>\n      <th>nom_y</th>\n      <th>nom_maj_y</th>\n      <th>code_wil_y</th>\n      <th>similarity</th>\n    </tr>\n  </thead>\n  <tbody>\n    <tr>\n      <th>5</th>\n      <td>1</td>\n      <td>105</td>\n      <td>106</td>\n      <td>In Zghmir</td>\n      <td>IN ZGHMIR</td>\n      <td>إن زغمير</td>\n      <td>5</td>\n      <td>105</td>\n      <td>1005</td>\n      <td>Inzegmir</td>\n      <td>INZEGMIR</td>\n      <td>1</td>\n      <td>3</td>\n    </tr>\n    <tr>\n      <th>1443</th>\n      <td>47</td>\n      <td>4713</td>\n      <td>4710</td>\n      <td>Mansoura</td>\n      <td>MANSOURA</td>\n      <td>المنصورة</td>\n      <td>1503</td>\n      <td>4713</td>\n      <td>47013</td>\n      <td>El Mansoura</td>\n      <td>EL MANSOURA</td>\n      <td>47</td>\n      <td>3</td>\n    </tr>\n    <tr>\n      <th>1498</th>\n      <td>51</td>\n      <td>710</td>\n      <td>5105</td>\n      <td>Chaïba</td>\n      <td>CHAÏBA</td>\n      <td>الشعيبة</td>\n      <td>239</td>\n      <td>710</td>\n      <td>7010</td>\n      <td>Ech Chaiba</td>\n      <td>ECH CHAIBA</td>\n      <td>7</td>\n      <td>5</td>\n    </tr>\n    <tr>\n      <th>1511</th>\n      <td>53</td>\n      <td>1110</td>\n      <td>5302</td>\n      <td>Foggaret Ezzaouia</td>\n      <td>FOGGARET EZZAOUIA</td>\n      <td>فقارت الزاوية</td>\n      <td>363</td>\n      <td>1110</td>\n      <td>11010</td>\n      <td>Foggarat Ez Zouaia</td>\n      <td>FOUGGARAT EZ ZOUAIA</td>\n      <td>11</td>\n      <td>4</td>\n    </tr>\n    <tr>\n      <th>1529</th>\n      <td>56</td>\n      <td>3305</td>\n      <td>5602</td>\n      <td>Bordj El Haouasse</td>\n      <td>BORDJ EL HAOUASSE</td>\n      <td>برج الحواس</td>\n      <td>1162</td>\n      <td>3305</td>\n      <td>33005</td>\n      <td>Bordj El Haoues</td>\n      <td>BORDJ EL HAOUES</td>\n      <td>33</td>\n      <td>3</td>\n    </tr>\n    <tr>\n      <th>1530</th>\n      <td>57</td>\n      <td>3927</td>\n      <td>5701</td>\n      <td>El Megaier</td>\n      <td>EL MEGAIER</td>\n      <td>المغير</td>\n      <td>1304</td>\n      <td>3927</td>\n      <td>39027</td>\n      <td>El Mghair</td>\n      <td>EL MGHAIR</td>\n      <td>39</td>\n      <td>3</td>\n    </tr>\n    <tr>\n      <th>1531</th>\n      <td>57</td>\n      <td>3929</td>\n      <td>5702</td>\n      <td>Oum Touyour</td>\n      <td>OUM TOUYOUR</td>\n      <td>أم الطيور</td>\n      <td>1306</td>\n      <td>3929</td>\n      <td>39029</td>\n      <td>Oum Tiour</td>\n      <td>OUM TIOUR</td>\n      <td>39</td>\n      <td>3</td>\n    </tr>\n    <tr>\n      <th>1539</th>\n      <td>58</td>\n      <td>4712</td>\n      <td>5802</td>\n      <td>Hassi Gara</td>\n      <td>HASSI GARA</td>\n      <td>حاسي القارة</td>\n      <td>1502</td>\n      <td>4712</td>\n      <td>47012</td>\n      <td>Hassi El Garaa</td>\n      <td>HASSI EL GARAA</td>\n      <td>47</td>\n      <td>4</td>\n    </tr>\n  </tbody>\n</table>\n</div>"
     },
     "metadata": {},
     "execution_count": 7
    }
   ],
   "source": [
    "# Checking for similarities between communes names\n",
    "merged_df['similarity'] = merged_df.apply(lambda row: jellyfish.levenshtein_distance(str(row.nom_x).lower(), str(row.nom_y).lower()), axis=1)\n",
    "merged_df[merged_df.similarity > 2]"
   ]
  },
  {
   "cell_type": "code",
   "execution_count": 8,
   "metadata": {},
   "outputs": [
    {
     "output_type": "execute_result",
     "data": {
      "text/plain": [
       "code_wil_x    1541\n",
       "code_48       1541\n",
       "code_58       1541\n",
       "nom_x         1541\n",
       "nom_maj_x     1541\n",
       "nom_ar         202\n",
       "code          1541\n",
       "code_5        1541\n",
       "nom_y         1541\n",
       "nom_maj_y     1541\n",
       "code_wil_y    1541\n",
       "geometry      1541\n",
       "dtype: int64"
      ]
     },
     "metadata": {},
     "execution_count": 8
    }
   ],
   "source": [
    "# Merge Communes 48 and 58 \n",
    "merged_gdf = communes58_csv_df.merge(communes_json_gdf, left_on='code_48', right_on='code', how='left')\n",
    "merged_gdf.count()"
   ]
  },
  {
   "cell_type": "code",
   "execution_count": 9,
   "metadata": {},
   "outputs": [
    {
     "output_type": "execute_result",
     "data": {
      "text/plain": [
       "      code_wil_x  code_48  code_58              nom_x          nom_maj_x  \\\n",
       "5              1      105      106          In Zghmir          IN ZGHMIR   \n",
       "1443          47     4713     4710           Mansoura           MANSOURA   \n",
       "1498          51      710     5105             Chaïba             CHAÏBA   \n",
       "1511          53     1110     5302  Foggaret Ezzaouia  FOGGARET EZZAOUIA   \n",
       "1529          56     3305     5602  Bordj El Haouasse  BORDJ EL HAOUASSE   \n",
       "1530          57     3927     5701         El Megaier         EL MEGAIER   \n",
       "1531          57     3929     5702        Oum Touyour        OUM TOUYOUR   \n",
       "1539          58     4712     5802         Hassi Gara         HASSI GARA   \n",
       "\n",
       "             nom_ar  code  code_5               nom_y            nom_maj_y  \\\n",
       "5          إن زغمير   105    1005            Inzegmir             INZEGMIR   \n",
       "1443       المنصورة  4713   47013         El Mansoura          EL MANSOURA   \n",
       "1498        الشعيبة   710    7010          Ech Chaiba           ECH CHAIBA   \n",
       "1511  فقارت الزاوية  1110   11010  Foggarat Ez Zouaia  FOUGGARAT EZ ZOUAIA   \n",
       "1529     برج الحواس  3305   33005     Bordj El Haoues      BORDJ EL HAOUES   \n",
       "1530         المغير  3927   39027           El Mghair            EL MGHAIR   \n",
       "1531      أم الطيور  3929   39029           Oum Tiour            OUM TIOUR   \n",
       "1539    حاسي القارة  4712   47012      Hassi El Garaa       HASSI EL GARAA   \n",
       "\n",
       "      code_wil_y                                           geometry  \\\n",
       "5              1  MULTIPOLYGON (((0.47629 27.06526, 0.28392 27.0...   \n",
       "1443          47  MULTIPOLYGON (((2.27777 32.54921, 2.34106 32.4...   \n",
       "1498           7  MULTIPOLYGON (((4.92603 34.86042, 4.92670 34.8...   \n",
       "1511          11  MULTIPOLYGON (((5.72264 29.75771, 5.72269 29.6...   \n",
       "1529          33  MULTIPOLYGON (((9.05073 25.14706, 9.01148 24.9...   \n",
       "1530          39  MULTIPOLYGON (((5.27105 33.97620, 5.27604 33.9...   \n",
       "1531          39  MULTIPOLYGON (((5.18354 34.41286, 5.18422 34.4...   \n",
       "1539          47  MULTIPOLYGON (((4.03471 30.60033, 4.03410 30.5...   \n",
       "\n",
       "      similarity  \n",
       "5              3  \n",
       "1443           3  \n",
       "1498           5  \n",
       "1511           4  \n",
       "1529           3  \n",
       "1530           3  \n",
       "1531           3  \n",
       "1539           4  "
      ],
      "text/html": "<div>\n<style scoped>\n    .dataframe tbody tr th:only-of-type {\n        vertical-align: middle;\n    }\n\n    .dataframe tbody tr th {\n        vertical-align: top;\n    }\n\n    .dataframe thead th {\n        text-align: right;\n    }\n</style>\n<table border=\"1\" class=\"dataframe\">\n  <thead>\n    <tr style=\"text-align: right;\">\n      <th></th>\n      <th>code_wil_x</th>\n      <th>code_48</th>\n      <th>code_58</th>\n      <th>nom_x</th>\n      <th>nom_maj_x</th>\n      <th>nom_ar</th>\n      <th>code</th>\n      <th>code_5</th>\n      <th>nom_y</th>\n      <th>nom_maj_y</th>\n      <th>code_wil_y</th>\n      <th>geometry</th>\n      <th>similarity</th>\n    </tr>\n  </thead>\n  <tbody>\n    <tr>\n      <th>5</th>\n      <td>1</td>\n      <td>105</td>\n      <td>106</td>\n      <td>In Zghmir</td>\n      <td>IN ZGHMIR</td>\n      <td>إن زغمير</td>\n      <td>105</td>\n      <td>1005</td>\n      <td>Inzegmir</td>\n      <td>INZEGMIR</td>\n      <td>1</td>\n      <td>MULTIPOLYGON (((0.47629 27.06526, 0.28392 27.0...</td>\n      <td>3</td>\n    </tr>\n    <tr>\n      <th>1443</th>\n      <td>47</td>\n      <td>4713</td>\n      <td>4710</td>\n      <td>Mansoura</td>\n      <td>MANSOURA</td>\n      <td>المنصورة</td>\n      <td>4713</td>\n      <td>47013</td>\n      <td>El Mansoura</td>\n      <td>EL MANSOURA</td>\n      <td>47</td>\n      <td>MULTIPOLYGON (((2.27777 32.54921, 2.34106 32.4...</td>\n      <td>3</td>\n    </tr>\n    <tr>\n      <th>1498</th>\n      <td>51</td>\n      <td>710</td>\n      <td>5105</td>\n      <td>Chaïba</td>\n      <td>CHAÏBA</td>\n      <td>الشعيبة</td>\n      <td>710</td>\n      <td>7010</td>\n      <td>Ech Chaiba</td>\n      <td>ECH CHAIBA</td>\n      <td>7</td>\n      <td>MULTIPOLYGON (((4.92603 34.86042, 4.92670 34.8...</td>\n      <td>5</td>\n    </tr>\n    <tr>\n      <th>1511</th>\n      <td>53</td>\n      <td>1110</td>\n      <td>5302</td>\n      <td>Foggaret Ezzaouia</td>\n      <td>FOGGARET EZZAOUIA</td>\n      <td>فقارت الزاوية</td>\n      <td>1110</td>\n      <td>11010</td>\n      <td>Foggarat Ez Zouaia</td>\n      <td>FOUGGARAT EZ ZOUAIA</td>\n      <td>11</td>\n      <td>MULTIPOLYGON (((5.72264 29.75771, 5.72269 29.6...</td>\n      <td>4</td>\n    </tr>\n    <tr>\n      <th>1529</th>\n      <td>56</td>\n      <td>3305</td>\n      <td>5602</td>\n      <td>Bordj El Haouasse</td>\n      <td>BORDJ EL HAOUASSE</td>\n      <td>برج الحواس</td>\n      <td>3305</td>\n      <td>33005</td>\n      <td>Bordj El Haoues</td>\n      <td>BORDJ EL HAOUES</td>\n      <td>33</td>\n      <td>MULTIPOLYGON (((9.05073 25.14706, 9.01148 24.9...</td>\n      <td>3</td>\n    </tr>\n    <tr>\n      <th>1530</th>\n      <td>57</td>\n      <td>3927</td>\n      <td>5701</td>\n      <td>El Megaier</td>\n      <td>EL MEGAIER</td>\n      <td>المغير</td>\n      <td>3927</td>\n      <td>39027</td>\n      <td>El Mghair</td>\n      <td>EL MGHAIR</td>\n      <td>39</td>\n      <td>MULTIPOLYGON (((5.27105 33.97620, 5.27604 33.9...</td>\n      <td>3</td>\n    </tr>\n    <tr>\n      <th>1531</th>\n      <td>57</td>\n      <td>3929</td>\n      <td>5702</td>\n      <td>Oum Touyour</td>\n      <td>OUM TOUYOUR</td>\n      <td>أم الطيور</td>\n      <td>3929</td>\n      <td>39029</td>\n      <td>Oum Tiour</td>\n      <td>OUM TIOUR</td>\n      <td>39</td>\n      <td>MULTIPOLYGON (((5.18354 34.41286, 5.18422 34.4...</td>\n      <td>3</td>\n    </tr>\n    <tr>\n      <th>1539</th>\n      <td>58</td>\n      <td>4712</td>\n      <td>5802</td>\n      <td>Hassi Gara</td>\n      <td>HASSI GARA</td>\n      <td>حاسي القارة</td>\n      <td>4712</td>\n      <td>47012</td>\n      <td>Hassi El Garaa</td>\n      <td>HASSI EL GARAA</td>\n      <td>47</td>\n      <td>MULTIPOLYGON (((4.03471 30.60033, 4.03410 30.5...</td>\n      <td>4</td>\n    </tr>\n  </tbody>\n</table>\n</div>"
     },
     "metadata": {},
     "execution_count": 9
    }
   ],
   "source": [
    "# Checking for similarities between communes names\n",
    "merged_gdf['similarity'] = merged_gdf.apply(lambda row: jellyfish.levenshtein_distance(str(row.nom_x).lower(), str(row.nom_y).lower()), axis=1)\n",
    "merged_gdf[merged_gdf.similarity > 2]"
   ]
  },
  {
   "cell_type": "code",
   "execution_count": 10,
   "metadata": {},
   "outputs": [
    {
     "output_type": "execute_result",
     "data": {
      "text/plain": [
       "   code_48  code_58  code_5       nom   nom_maj  nom_ar  code_wil  \\\n",
       "0      101      101    1001     Adrar     ADRAR   أدرار         1   \n",
       "1      115      102    1015  Fenoghil  FENOGHIL  فنوغيل         1   \n",
       "2      102      103    1002    Tamest    TAMEST  تاماست         1   \n",
       "3      104      104    1004   Reggane   REGGANE    رقان         1   \n",
       "4      118      105    1018      Sali      SALI    سالي         1   \n",
       "\n",
       "                                            geometry  \n",
       "0  MULTIPOLYGON (((-0.22565 28.08656, -0.04751 28...  \n",
       "1  MULTIPOLYGON (((-2.91984 27.69890, -2.49431 27...  \n",
       "2  MULTIPOLYGON (((-2.98197 27.50450, -2.49629 27...  \n",
       "3  MULTIPOLYGON (((0.51798 26.92294, 0.90476 26.2...  \n",
       "4  MULTIPOLYGON (((0.47629 27.06526, 0.51713 26.9...  "
      ],
      "text/html": "<div>\n<style scoped>\n    .dataframe tbody tr th:only-of-type {\n        vertical-align: middle;\n    }\n\n    .dataframe tbody tr th {\n        vertical-align: top;\n    }\n\n    .dataframe thead th {\n        text-align: right;\n    }\n</style>\n<table border=\"1\" class=\"dataframe\">\n  <thead>\n    <tr style=\"text-align: right;\">\n      <th></th>\n      <th>code_48</th>\n      <th>code_58</th>\n      <th>code_5</th>\n      <th>nom</th>\n      <th>nom_maj</th>\n      <th>nom_ar</th>\n      <th>code_wil</th>\n      <th>geometry</th>\n    </tr>\n  </thead>\n  <tbody>\n    <tr>\n      <th>0</th>\n      <td>101</td>\n      <td>101</td>\n      <td>1001</td>\n      <td>Adrar</td>\n      <td>ADRAR</td>\n      <td>أدرار</td>\n      <td>1</td>\n      <td>MULTIPOLYGON (((-0.22565 28.08656, -0.04751 28...</td>\n    </tr>\n    <tr>\n      <th>1</th>\n      <td>115</td>\n      <td>102</td>\n      <td>1015</td>\n      <td>Fenoghil</td>\n      <td>FENOGHIL</td>\n      <td>فنوغيل</td>\n      <td>1</td>\n      <td>MULTIPOLYGON (((-2.91984 27.69890, -2.49431 27...</td>\n    </tr>\n    <tr>\n      <th>2</th>\n      <td>102</td>\n      <td>103</td>\n      <td>1002</td>\n      <td>Tamest</td>\n      <td>TAMEST</td>\n      <td>تاماست</td>\n      <td>1</td>\n      <td>MULTIPOLYGON (((-2.98197 27.50450, -2.49629 27...</td>\n    </tr>\n    <tr>\n      <th>3</th>\n      <td>104</td>\n      <td>104</td>\n      <td>1004</td>\n      <td>Reggane</td>\n      <td>REGGANE</td>\n      <td>رقان</td>\n      <td>1</td>\n      <td>MULTIPOLYGON (((0.51798 26.92294, 0.90476 26.2...</td>\n    </tr>\n    <tr>\n      <th>4</th>\n      <td>118</td>\n      <td>105</td>\n      <td>1018</td>\n      <td>Sali</td>\n      <td>SALI</td>\n      <td>سالي</td>\n      <td>1</td>\n      <td>MULTIPOLYGON (((0.47629 27.06526, 0.51713 26.9...</td>\n    </tr>\n  </tbody>\n</table>\n</div>"
     },
     "metadata": {},
     "execution_count": 10
    }
   ],
   "source": [
    "# Reorder and rename columns\n",
    "communes_gdf = merged_gdf.drop(columns=['code', 'nom_y', 'nom_maj_y', 'code_wil_y', 'similarity'])\n",
    "communes_gdf.rename(columns={\"code_wil_x\": \"code_wil\", 'nom_x' : 'nom', 'nom_maj_x' : 'nom_maj'}, inplace=True)\n",
    "communes_gdf = communes_gdf[['code_48', 'code_58', 'code_5', 'nom', 'nom_maj', 'nom_ar', 'code_wil', 'geometry']]\n",
    "communes_gdf.head()"
   ]
  },
  {
   "cell_type": "code",
   "execution_count": 11,
   "metadata": {},
   "outputs": [
    {
     "output_type": "execute_result",
     "data": {
      "text/plain": [
       "   code_48  code_58  code_5       nom   nom_maj  nom_ar  code_wil  \\\n",
       "0      101      101    1001     Adrar     ADRAR   أدرار         1   \n",
       "1      115      102    1015  Fenoghil  FENOGHIL  فنوغيل         1   \n",
       "2      102      103    1002    Tamest    TAMEST  تاماست         1   \n",
       "3      104      104    1004   Reggane   REGGANE    رقان         1   \n",
       "4      118      105    1018      Sali      SALI    سالي         1   \n",
       "\n",
       "                                            geometry  \n",
       "0  MULTIPOLYGON (((-0.22565 28.08656, -0.04751 28...  \n",
       "1  MULTIPOLYGON (((-2.91984 27.69890, -2.49431 27...  \n",
       "2  MULTIPOLYGON (((-2.98197 27.50450, -2.49629 27...  \n",
       "3  MULTIPOLYGON (((0.51798 26.92294, 0.90476 26.2...  \n",
       "4  MULTIPOLYGON (((0.47629 27.06526, 0.51713 26.9...  "
      ],
      "text/html": "<div>\n<style scoped>\n    .dataframe tbody tr th:only-of-type {\n        vertical-align: middle;\n    }\n\n    .dataframe tbody tr th {\n        vertical-align: top;\n    }\n\n    .dataframe thead th {\n        text-align: right;\n    }\n</style>\n<table border=\"1\" class=\"dataframe\">\n  <thead>\n    <tr style=\"text-align: right;\">\n      <th></th>\n      <th>code_48</th>\n      <th>code_58</th>\n      <th>code_5</th>\n      <th>nom</th>\n      <th>nom_maj</th>\n      <th>nom_ar</th>\n      <th>code_wil</th>\n      <th>geometry</th>\n    </tr>\n  </thead>\n  <tbody>\n    <tr>\n      <th>0</th>\n      <td>101</td>\n      <td>101</td>\n      <td>1001</td>\n      <td>Adrar</td>\n      <td>ADRAR</td>\n      <td>أدرار</td>\n      <td>1</td>\n      <td>MULTIPOLYGON (((-0.22565 28.08656, -0.04751 28...</td>\n    </tr>\n    <tr>\n      <th>1</th>\n      <td>115</td>\n      <td>102</td>\n      <td>1015</td>\n      <td>Fenoghil</td>\n      <td>FENOGHIL</td>\n      <td>فنوغيل</td>\n      <td>1</td>\n      <td>MULTIPOLYGON (((-2.91984 27.69890, -2.49431 27...</td>\n    </tr>\n    <tr>\n      <th>2</th>\n      <td>102</td>\n      <td>103</td>\n      <td>1002</td>\n      <td>Tamest</td>\n      <td>TAMEST</td>\n      <td>تاماست</td>\n      <td>1</td>\n      <td>MULTIPOLYGON (((-2.98197 27.50450, -2.49629 27...</td>\n    </tr>\n    <tr>\n      <th>3</th>\n      <td>104</td>\n      <td>104</td>\n      <td>1004</td>\n      <td>Reggane</td>\n      <td>REGGANE</td>\n      <td>رقان</td>\n      <td>1</td>\n      <td>MULTIPOLYGON (((0.51798 26.92294, 0.90476 26.2...</td>\n    </tr>\n    <tr>\n      <th>4</th>\n      <td>118</td>\n      <td>105</td>\n      <td>1018</td>\n      <td>Sali</td>\n      <td>SALI</td>\n      <td>سالي</td>\n      <td>1</td>\n      <td>MULTIPOLYGON (((0.47629 27.06526, 0.51713 26.9...</td>\n    </tr>\n  </tbody>\n</table>\n</div>"
     },
     "metadata": {},
     "execution_count": 11
    }
   ],
   "source": [
    "# Sort the DataFrame by code and reset the index\n",
    "communes_gdf = communes_gdf.sort_values(by=['code_58'],ignore_index=True)\n",
    "communes_gdf.reset_index(drop=True)\n",
    "communes_gdf.head()"
   ]
  },
  {
   "cell_type": "code",
   "execution_count": 12,
   "metadata": {},
   "outputs": [],
   "source": [
    "# Write to GeoJSON and CSV files\n",
    "communes_gdf.index = np.arange(1, len(communes_gdf) + 1)\n",
    "gpd.GeoDataFrame(communes_gdf).to_file(\"communes_58.geojson\", driver='GeoJSON')"
   ]
  }
 ]
}